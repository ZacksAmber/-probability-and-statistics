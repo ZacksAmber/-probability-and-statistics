{
 "cells": [
  {
   "cell_type": "code",
   "execution_count": 1,
   "id": "5a50c0a1-162a-4271-8b9e-2d435b25747e",
   "metadata": {},
   "outputs": [],
   "source": [
    "import numpy as np\n",
    "import pandas as pd\n",
    "from scipy.stats import norm, binom\n",
    "from scipy.special import comb\n",
    "from IPython.display import display, Latex"
   ]
  },
  {
   "cell_type": "code",
   "execution_count": 2,
   "id": "d08b7d08-8659-4d3c-8d78-ebeeb4f6d047",
   "metadata": {},
   "outputs": [],
   "source": [
    "from utils.src.stats import norm_prop"
   ]
  },
  {
   "cell_type": "markdown",
   "id": "fc0f3141-b9d2-42d8-a057-aef790e00e40",
   "metadata": {
    "tags": []
   },
   "source": [
    "# [Random Variables](https://en.wikipedia.org/wiki/Random_variable)\n",
    "\n",
    "A **random variable** (also called **random quantity**, **aleatory variable**, or **stochastic variable**) is a mathematical formalization of a quantity or object which depends on [random](https://en.wikipedia.org/wiki/Randomness \"Randomness\") events.[[1]](https://en.wikipedia.org/wiki/Random_variable#cite_note-:2-1)\n",
    "\n",
    "A **random variable** ${\\displaystyle X}$ is a [measurable function](https://en.wikipedia.org/wiki/Measurable_function \"Measurable function\") ${\\displaystyle X\\colon \\Omega \\to E}$ from a set of possible [outcomes](https://en.wikipedia.org/wiki/Outcome_(probability) \"Outcome (probability)\") ${\\displaystyle \\Omega }$ to a [measurable space](https://en.wikipedia.org/wiki/Measurable_space \"Measurable space\") ${\\displaystyle E}$. The technical axiomatic definition requires ${\\displaystyle \\Omega }$ to be a sample space of a [probability triple](https://en.wikipedia.org/wiki/Probability_space \"Probability space\") ${\\displaystyle (\\Omega ,{\\mathcal {F}},\\operatorname {P})}$ (see the [measure-theoretic definition](https://en.wikipedia.org/wiki/Random_variable#Measure-theoretic_definition)). A random variable is often denoted by capital [roman letters](https://en.wikipedia.org/wiki/Latin_script \"Latin script\") such as ${\\displaystyle X}$, ${\\displaystyle Y}$, ${\\displaystyle Z}$, ${\\displaystyle T}$.\n",
    "\n",
    "The probability that ${\\displaystyle X}$ takes on a value in a measurable set ${\\displaystyle S\\subseteq E}$ is written as\n",
    "\n",
    "${\\displaystyle \\operatorname {P} (X\\in S)=\\operatorname {P} (\\{\\omega \\in \\Omega \\mid X(\\omega )\\in S\\})}$\n",
    "\n",
    "- Discrete RV\n",
    "- Continuous RV"
   ]
  },
  {
   "cell_type": "markdown",
   "id": "d6a63413-ca83-49b7-a985-d8f87b059133",
   "metadata": {
    "tags": []
   },
   "source": [
    "## [Expected Value](https://en.wikipedia.org/wiki/Expected_value)\n",
    "\n",
    "In [probability theory](https://en.wikipedia.org/wiki/Probability_theory \"Probability theory\"), the **expected value** (also called **expectation**, **mathematical expectation**, **mean**, **average**, or **first moment**) is a generalization of the [weighted average](https://en.wikipedia.org/wiki/Weighted_average \"Weighted average\"). Informally, the expected value is the [arithmetic mean](https://en.wikipedia.org/wiki/Arithmetic_mean \"Arithmetic mean\") of a large number of [independently](https://en.wikipedia.org/wiki/Independence_(probability_theory) \"Independence (probability theory)\") selected [outcomes](https://en.wikipedia.org/wiki/Experiment_(probability_theory) \"Experiment (probability theory)\") of a [random variable](https://en.wikipedia.org/wiki/Random_variable \"Random variable\").\n",
    "\n",
    "The expected value of a random variable X is often denoted by $E[X]$, $E(X)$, or $EX$, with $E$ also often stylized as $E$ or ${\\displaystyle \\mathbb {E} .}$\n",
    "\n",
    "$\\displaystyle {E} [X]=\\sum _{i=1}^{\\infty }x_{i}\\,p_{i}$\n",
    "\n",
    "$\\displaystyle {Var} (X)=\\operatorname {E} [X^{2}]-(\\operatorname {E} [X])^{2}$"
   ]
  },
  {
   "cell_type": "code",
   "execution_count": 3,
   "id": "d8ceca94-6608-4f9d-bc5f-cbb4396aa45d",
   "metadata": {},
   "outputs": [],
   "source": [
    "def rv_mean(X, P):\n",
    "    \"\"\"rv_mean calculates the expected value (also known as mean) of the random variable X.\n",
    "\n",
    "    Args:\n",
    "        X (array like): Random Variable X.\n",
    "        P (array like): The probability distribution of random variable X.\n",
    "\n",
    "    Returns:\n",
    "        float: The expected value (also known as mean) the random variable X.\n",
    "    \"\"\"\n",
    "    mu = np.average(a=X, weights=P)\n",
    "\n",
    "    return mu"
   ]
  },
  {
   "cell_type": "code",
   "execution_count": 4,
   "id": "1af52a80-3637-4ec8-9495-82d7e7e1bf82",
   "metadata": {},
   "outputs": [],
   "source": [
    "def rv_std(X, P):\n",
    "    \"\"\"rv_std calculates the standard deviation of the random variable X.\n",
    "\n",
    "    Args:\n",
    "        X (array like): Random Variable X.\n",
    "        P (array like): The probability distribution of random variable X.\n",
    "\n",
    "    Returns:\n",
    "        float: The standard deviation of the random variable X.\n",
    "    \"\"\"\n",
    "    mu = rv_mean(X, P)\n",
    "    sd = np.sum((X - mu)**2 * P)**0.5\n",
    "\n",
    "    return sd"
   ]
  },
  {
   "cell_type": "markdown",
   "id": "07d48fd1-bfdf-4bff-9c96-78b62216f001",
   "metadata": {},
   "source": [
    "### Example 1: Expected Value\n",
    "\n",
    "Mahnoor owns and operates Mahnoor's Coffee Shop. The city of Laketown, Australia, where Mahnoor's Coffee Shop is located, recently enacted a ban on all foam cups to help protect the environment.\n",
    "\n",
    "Instead of switching to paper cups, Mahnoor has decided to risk being fined by the city and to continue to use foam cups. She estimates that this will save her $10,000$ Australian dollars. She also estimates that there is a $12\\%$ chance that she will be fined. The fine would be for $100,000$ Australian dollars.\n",
    "\n",
    "**Find the expected value of Mahnoor's decision to continue to use foam cups.**"
   ]
  },
  {
   "cell_type": "markdown",
   "id": "54aa43d6-0e0e-46c9-9e70-b8fb6e228daf",
   "metadata": {},
   "source": [
    "||Value|Probability|Value * Probability|\n",
    "|:-:|:-:|:-:|:-:|\n",
    "|Mahnoor is fined|-90,000|0.12|-10,800|\n",
    "|Mahnoor is not fined|10,000|0.88|8800|\n",
    "\n",
    "The expected value is -10,800 + 8,000 = -2000 Australian dollars."
   ]
  },
  {
   "cell_type": "markdown",
   "id": "11cfdf6b-3426-49c2-a149-4a75afbf6e1c",
   "metadata": {},
   "source": [
    "### Example 2: Expected Value & Standard Deviation"
   ]
  },
  {
   "cell_type": "markdown",
   "id": "11e3ff20-dfc8-4564-bd42-7048d474ecb8",
   "metadata": {},
   "source": [
    "A patient is sick with a certain infection where the treatment involves taking $\\$20$ dollar drug that has a $90\\%$ chance of curing the infection. If that drug doesn't work, then the patient takes an $\\$80$ dollar drug that is almost guaranteed to cure the infection.\n",
    "\n",
    "The table below displays the probability distribution of $X =$ the total amount of money a randomly selected patient spends on this treatment plan.\n",
    "\n",
    "|X = total spent|\\$20|\\$100|\n",
    "|:-:|:-:|:-:|\n",
    "|P(X)|90%|10%|\n",
    "\n",
    "Calculate $\\mu_X$ and $\\sigma_X$"
   ]
  },
  {
   "cell_type": "code",
   "execution_count": 5,
   "id": "3098af91-7fdb-4fcb-a59c-5ea5ced89939",
   "metadata": {},
   "outputs": [],
   "source": [
    "X = np.array([20, 100])\n",
    "P = np.array([0.9, 0.1])"
   ]
  },
  {
   "cell_type": "code",
   "execution_count": 6,
   "id": "76f2e697-ee6f-40e7-a8e1-c6c2ce2560c4",
   "metadata": {},
   "outputs": [
    {
     "name": "stdout",
     "output_type": "stream",
     "text": [
      "Expected Value:  28.0\n",
      "Standard Deviation:  24.0\n"
     ]
    }
   ],
   "source": [
    "print(\"Expected Value: \", rv_mean(X, P))\n",
    "print(\"Standard Deviation: \", rv_std(X, P))"
   ]
  },
  {
   "cell_type": "markdown",
   "id": "3f23ee44-da16-4a5d-8295-d537634c591e",
   "metadata": {
    "tags": []
   },
   "source": [
    "### Example 3: Expected Value\n",
    "\n",
    "Marvin the monkey is taking a multiple choice test as part of an experiment. There are $4$ questions on the test and each question has $2$ different answer choices. Since Marvin is a monkey, he will be guessing on each question.\n",
    "\n",
    "The test is graded according to the grading scheme below.\n",
    "\n",
    "**What is the expected number of points Marvin will score?**  \n",
    "Round your answer to the nearest hundredth.\n",
    "\n",
    "|Correct answers|0|1|2|3|4|\n",
    "|:-:|:-:|:-:|:-:|:-:|:-:|\n",
    "|Points|0|3|5|7|10|"
   ]
  },
  {
   "cell_type": "code",
   "execution_count": 7,
   "id": "c9d7ffb2-5531-4b93-8cdc-5a746518a19b",
   "metadata": {},
   "outputs": [
    {
     "data": {
      "text/html": [
       "<div>\n",
       "<style scoped>\n",
       "    .dataframe tbody tr th:only-of-type {\n",
       "        vertical-align: middle;\n",
       "    }\n",
       "\n",
       "    .dataframe tbody tr th {\n",
       "        vertical-align: top;\n",
       "    }\n",
       "\n",
       "    .dataframe thead th {\n",
       "        text-align: right;\n",
       "    }\n",
       "</style>\n",
       "<table border=\"1\" class=\"dataframe\">\n",
       "  <thead>\n",
       "    <tr style=\"text-align: right;\">\n",
       "      <th></th>\n",
       "      <th>Correct answers</th>\n",
       "      <th>Points</th>\n",
       "    </tr>\n",
       "  </thead>\n",
       "  <tbody>\n",
       "    <tr>\n",
       "      <th>0</th>\n",
       "      <td>0</td>\n",
       "      <td>0</td>\n",
       "    </tr>\n",
       "    <tr>\n",
       "      <th>1</th>\n",
       "      <td>1</td>\n",
       "      <td>3</td>\n",
       "    </tr>\n",
       "    <tr>\n",
       "      <th>2</th>\n",
       "      <td>2</td>\n",
       "      <td>5</td>\n",
       "    </tr>\n",
       "    <tr>\n",
       "      <th>3</th>\n",
       "      <td>3</td>\n",
       "      <td>7</td>\n",
       "    </tr>\n",
       "    <tr>\n",
       "      <th>4</th>\n",
       "      <td>4</td>\n",
       "      <td>10</td>\n",
       "    </tr>\n",
       "  </tbody>\n",
       "</table>\n",
       "</div>"
      ],
      "text/plain": [
       "   Correct answers  Points\n",
       "0                0       0\n",
       "1                1       3\n",
       "2                2       5\n",
       "3                3       7\n",
       "4                4      10"
      ]
     },
     "execution_count": 7,
     "metadata": {},
     "output_type": "execute_result"
    }
   ],
   "source": [
    "n, p = 4, 1/2\n",
    "ks = np.arange(n+1)\n",
    "points = np.array([0, 3, 5, 7, 10])\n",
    "df = pd.DataFrame({'Correct answers': ks, 'Points': points})\n",
    "df"
   ]
  },
  {
   "cell_type": "code",
   "execution_count": 8,
   "id": "f4cb8c48-3225-47ae-ac1d-e3cf7ae7458e",
   "metadata": {},
   "outputs": [
    {
     "data": {
      "text/html": [
       "<div>\n",
       "<style scoped>\n",
       "    .dataframe tbody tr th:only-of-type {\n",
       "        vertical-align: middle;\n",
       "    }\n",
       "\n",
       "    .dataframe tbody tr th {\n",
       "        vertical-align: top;\n",
       "    }\n",
       "\n",
       "    .dataframe thead th {\n",
       "        text-align: right;\n",
       "    }\n",
       "</style>\n",
       "<table border=\"1\" class=\"dataframe\">\n",
       "  <thead>\n",
       "    <tr style=\"text-align: right;\">\n",
       "      <th></th>\n",
       "      <th>Correct answers</th>\n",
       "      <th>Points</th>\n",
       "      <th>Probability</th>\n",
       "    </tr>\n",
       "  </thead>\n",
       "  <tbody>\n",
       "    <tr>\n",
       "      <th>0</th>\n",
       "      <td>0</td>\n",
       "      <td>0</td>\n",
       "      <td>0.0625</td>\n",
       "    </tr>\n",
       "    <tr>\n",
       "      <th>1</th>\n",
       "      <td>1</td>\n",
       "      <td>3</td>\n",
       "      <td>0.2500</td>\n",
       "    </tr>\n",
       "    <tr>\n",
       "      <th>2</th>\n",
       "      <td>2</td>\n",
       "      <td>5</td>\n",
       "      <td>0.3750</td>\n",
       "    </tr>\n",
       "    <tr>\n",
       "      <th>3</th>\n",
       "      <td>3</td>\n",
       "      <td>7</td>\n",
       "      <td>0.2500</td>\n",
       "    </tr>\n",
       "    <tr>\n",
       "      <th>4</th>\n",
       "      <td>4</td>\n",
       "      <td>10</td>\n",
       "      <td>0.0625</td>\n",
       "    </tr>\n",
       "  </tbody>\n",
       "</table>\n",
       "</div>"
      ],
      "text/plain": [
       "   Correct answers  Points  Probability\n",
       "0                0       0       0.0625\n",
       "1                1       3       0.2500\n",
       "2                2       5       0.3750\n",
       "3                3       7       0.2500\n",
       "4                4      10       0.0625"
      ]
     },
     "execution_count": 8,
     "metadata": {},
     "output_type": "execute_result"
    }
   ],
   "source": [
    "df['Probability'] = df['Correct answers'].apply(lambda k: binom.pmf(k, n, p))\n",
    "df"
   ]
  },
  {
   "cell_type": "code",
   "execution_count": 9,
   "id": "0c2d6839-6a8c-4325-ae6c-8cb5407599f8",
   "metadata": {},
   "outputs": [
    {
     "data": {
      "text/latex": [
       "$E[X] = 5.0$"
      ],
      "text/plain": [
       "<IPython.core.display.Latex object>"
      ]
     },
     "metadata": {},
     "output_type": "display_data"
    }
   ],
   "source": [
    "display(Latex(f\"$E[X] = {sum(df['Probability'] * df['Points'])}$\"))"
   ]
  },
  {
   "cell_type": "markdown",
   "id": "138ef7c6-1eff-4301-804e-afb830307b33",
   "metadata": {},
   "source": [
    "### Example 4: Expected Value\n",
    "\n",
    "Ahmed is playing a lottery game where he must pick $2$ numbers from $0$ to $9$ and then one letter out of the $26$-letter English alphabet. (He may choose the same number both times.)\n",
    "\n",
    "If his ticket matches the $2$ numbers and $1$ letter drawn in order, he wins the grand prize and receives $\\$10{,}405$. If just his letter matches but one or both of his numbers do not match, he wins the small prize of $\\$100$. Under any other outcome, he loses and receives nothing. The game costs him $\\$5$ play.\n",
    "\n",
    "He has chosen the ticket $\\text{04R}$.\n",
    "\n",
    "**What is the expected profit for Ahmed's when he buys a ticket?**  \n",
    "Round your answer to the nearest hundredth."
   ]
  },
  {
   "cell_type": "markdown",
   "id": "de5efce5-d600-4b13-94db-9f64b9b30fe1",
   "metadata": {},
   "source": [
    "$E[X] = P(\\text{grand prize}) \\cdot (10405 - 5) + P(\\text{small prize}) \\cdot (100 - 5) + P(\\text{no prize}) \\dot (-5)$"
   ]
  },
  {
   "cell_type": "code",
   "execution_count": 10,
   "id": "bb158d92-4ec7-412e-94cc-794fa1b5ca7a",
   "metadata": {},
   "outputs": [
    {
     "data": {
      "text/latex": [
       "$E[04R] = 2.81$"
      ],
      "text/plain": [
       "<IPython.core.display.Latex object>"
      ]
     },
     "metadata": {},
     "output_type": "display_data"
    }
   ],
   "source": [
    "cost = -5\n",
    "P_grand_prize, N_grand_price = 1/10 * 1/10 * 1/26, 10405 + cost\n",
    "P_small_prize, N_small_prize = 1/26 - P_grand_prize, 100 + cost\n",
    "P_no_prize = 1 - P_small_prize\n",
    "\n",
    "E = P_grand_prize * N_grand_price + P_small_prize * N_small_prize + P_no_prize * cost\n",
    "E = round(E, 2)\n",
    "display(Latex(f\"$E[04R] = {E}$\"))"
   ]
  },
  {
   "cell_type": "markdown",
   "id": "7b342824-9b94-48e5-85b6-1ab0c2960aec",
   "metadata": {
    "tags": []
   },
   "source": [
    "### Example 5: Expected Value\n",
    "\n",
    "Jessica is playing a game where there are $4$ blue markers and $6$ red markers in a box. She is going to pick $3$ markers without replacement.\n",
    "\n",
    "If she picks all $3$ red markers, she will win a total of $\\$500$. If the first marker she picks is red but not all $3$ markers are red, she will win a total of $\\$100$. Under any other outcome, she will win $\\$0$.\n",
    "\n",
    "**What is the expected value of Jessica's winnings?**  \n",
    "Round your answer to the nearest cent."
   ]
  },
  {
   "cell_type": "markdown",
   "id": "020789d2-eadf-41df-91fe-09cfe776edd0",
   "metadata": {},
   "source": [
    "$E[X] = P(\\text{R, R, R}) \\cdot 500 + (P(\\text{R, X, X}) - P(\\text{R, R, R})) \\cdot 100 + P(\\text{others}) \\cdot 0$"
   ]
  },
  {
   "cell_type": "code",
   "execution_count": 11,
   "id": "53401a7a-660a-4080-8f4b-ae524cb55170",
   "metadata": {},
   "outputs": [
    {
     "data": {
      "text/plain": [
       "0.16666666666666666"
      ]
     },
     "execution_count": 11,
     "metadata": {},
     "output_type": "execute_result"
    }
   ],
   "source": [
    "# R/B, R/B, R/B\n",
    "N, k = 10, 3\n",
    "XXX = comb(N, k)\n",
    "# R, R, R\n",
    "N, k = 6, 3\n",
    "# Pr\n",
    "RRR = comb(N, k)\n",
    "p1 = RRR / XXX\n",
    "p1"
   ]
  },
  {
   "cell_type": "code",
   "execution_count": 12,
   "id": "8fe01b51-d13d-4ae0-9b20-30024e95e4cb",
   "metadata": {
    "tags": []
   },
   "outputs": [
    {
     "data": {
      "text/plain": [
       "0.43333333333333335"
      ]
     },
     "execution_count": 12,
     "metadata": {},
     "output_type": "execute_result"
    }
   ],
   "source": [
    "# R, R (given 5 Reds)\n",
    "N, k = 5, 2\n",
    "RR = comb(N, k)\n",
    "# R/B, R/B (given 9 balls)\n",
    "N, k = 9, 2\n",
    "XX = comb(N, k)\n",
    "# Given the first ball is Red, and the other two balls are not Red\n",
    "p2 = 6/10 * (XX - RR) / XX\n",
    "p2"
   ]
  },
  {
   "cell_type": "code",
   "execution_count": 13,
   "id": "4141bed5-1bb1-4480-99cf-65937fea24d0",
   "metadata": {},
   "outputs": [
    {
     "data": {
      "text/latex": [
       "$E[X] = 126.67$"
      ],
      "text/plain": [
       "<IPython.core.display.Latex object>"
      ]
     },
     "metadata": {},
     "output_type": "display_data"
    }
   ],
   "source": [
    "E = p1 * 500 + p2 * 100\n",
    "E = round(E, 2)\n",
    "display(Latex(f\"$E[X] = {E}$\"))"
   ]
  },
  {
   "cell_type": "markdown",
   "id": "a3adda6e-e29b-4861-be32-9bb41983756e",
   "metadata": {},
   "source": [
    "### Example 6: Expected Value\n",
    "\n",
    "Xavier is trying to decide if he should spend $\\$25$ to purchase virus protection software for his new computer.\n",
    "\n",
    "There are currently three viruses in circulation. The software that he is considering purchasing will protect him perfectly from the Trojan virus and the Pikachu virus, but will not protect him from the ADA virus.\n",
    "\n",
    "Based on his research, Xavier makes the table below which shows the probability and cost of repair for the three viruses currently in circulation. Assume that Xavier can get at most one virus and that this table is accurate."
   ]
  },
  {
   "cell_type": "code",
   "execution_count": 14,
   "id": "c989f53e-b943-44c1-84c3-4902f723ad94",
   "metadata": {},
   "outputs": [
    {
     "data": {
      "text/html": [
       "<div>\n",
       "<style scoped>\n",
       "    .dataframe tbody tr th:only-of-type {\n",
       "        vertical-align: middle;\n",
       "    }\n",
       "\n",
       "    .dataframe tbody tr th {\n",
       "        vertical-align: top;\n",
       "    }\n",
       "\n",
       "    .dataframe thead th {\n",
       "        text-align: right;\n",
       "    }\n",
       "</style>\n",
       "<table border=\"1\" class=\"dataframe\">\n",
       "  <thead>\n",
       "    <tr style=\"text-align: right;\">\n",
       "      <th></th>\n",
       "      <th>Type of virus</th>\n",
       "      <th>Cost of repair $</th>\n",
       "      <th>Probability</th>\n",
       "    </tr>\n",
       "  </thead>\n",
       "  <tbody>\n",
       "    <tr>\n",
       "      <th>0</th>\n",
       "      <td>Pikachu</td>\n",
       "      <td>400</td>\n",
       "      <td>0.2</td>\n",
       "    </tr>\n",
       "    <tr>\n",
       "      <th>1</th>\n",
       "      <td>Trojan</td>\n",
       "      <td>200</td>\n",
       "      <td>0.2</td>\n",
       "    </tr>\n",
       "    <tr>\n",
       "      <th>2</th>\n",
       "      <td>ADA</td>\n",
       "      <td>300</td>\n",
       "      <td>0.1</td>\n",
       "    </tr>\n",
       "  </tbody>\n",
       "</table>\n",
       "</div>"
      ],
      "text/plain": [
       "  Type of virus  Cost of repair $  Probability\n",
       "0       Pikachu               400          0.2\n",
       "1        Trojan               200          0.2\n",
       "2           ADA               300          0.1"
      ]
     },
     "execution_count": 14,
     "metadata": {},
     "output_type": "execute_result"
    }
   ],
   "source": [
    "df = pd.DataFrame({\n",
    "    \"Type of virus\": [\"Pikachu\", \"Trojan\", \"ADA\"], \n",
    "    \"Cost of repair $\": [400, 200, 300],\n",
    "    \"Probability\": [0.2, 0.2, 0.1]})\n",
    "\n",
    "df"
   ]
  },
  {
   "cell_type": "markdown",
   "id": "ccaa9488-4fa5-4d32-bc32-271e0d30559c",
   "metadata": {},
   "source": [
    "**What is the expected total cost of viruses and software if Xavier purchases the virus protection software? Round your answer to the nearest dollar.**"
   ]
  },
  {
   "cell_type": "code",
   "execution_count": 15,
   "id": "9cb78c97-6695-4571-94f7-535d620f8442",
   "metadata": {},
   "outputs": [
    {
     "data": {
      "text/plain": [
       "55.0"
      ]
     },
     "execution_count": 15,
     "metadata": {},
     "output_type": "execute_result"
    }
   ],
   "source": [
    "300 * 0.1 + 25"
   ]
  },
  {
   "cell_type": "markdown",
   "id": "2bf210af-cf9b-438d-a5cd-2d7ba8c1258a",
   "metadata": {},
   "source": [
    "**What is the expected total cost of viruses and software if Xavier does not purchase the virus protection software? Round your answer to the nearest dollar.**"
   ]
  },
  {
   "cell_type": "code",
   "execution_count": 16,
   "id": "e849d0ec-bcf2-45fe-84a2-7236a83c9090",
   "metadata": {},
   "outputs": [
    {
     "data": {
      "text/plain": [
       "150.0"
      ]
     },
     "execution_count": 16,
     "metadata": {},
     "output_type": "execute_result"
    }
   ],
   "source": [
    "np.sum(df[\"Cost of repair $\"] * df.Probability)"
   ]
  },
  {
   "cell_type": "markdown",
   "id": "c2bfc972-5279-4e3f-b360-9740cd5948bd",
   "metadata": {
    "tags": []
   },
   "source": [
    "### Example 7: Expected Value\n",
    "\n",
    "Paul has the option of a high deductible or a low deductible health insurance plan.\n",
    "\n",
    "If Paul chooses the low deductible plan, he will have to pay the first $\\$1000$ of any medical costs, and the rest of the costs will be paid by his insurance company. The low deductible plan costs $\\$8000$ for a year.\n",
    "\n",
    "If Paul chooses the high deductible plan, he will have to pay the first $\\$2500$ of any medical costs, and the rest of the costs will be paid by his insurance company. The high deductible plan costs $\\$7500$ for a year.\n",
    "\n",
    "To help himself choose a plan, Paul found some statistics about common health problems for people similar to him. Assume that the table below correctly shows the probabilities and costs of total medical incidents within the next year."
   ]
  },
  {
   "cell_type": "code",
   "execution_count": 17,
   "id": "582970a5-1382-4223-bfbf-98a771341a56",
   "metadata": {},
   "outputs": [
    {
     "data": {
      "text/html": [
       "<div>\n",
       "<style scoped>\n",
       "    .dataframe tbody tr th:only-of-type {\n",
       "        vertical-align: middle;\n",
       "    }\n",
       "\n",
       "    .dataframe tbody tr th {\n",
       "        vertical-align: top;\n",
       "    }\n",
       "\n",
       "    .dataframe thead th {\n",
       "        text-align: right;\n",
       "    }\n",
       "</style>\n",
       "<table border=\"1\" class=\"dataframe\">\n",
       "  <thead>\n",
       "    <tr style=\"text-align: right;\">\n",
       "      <th></th>\n",
       "      <th>Medical costs $</th>\n",
       "      <th>Probabiltiy</th>\n",
       "    </tr>\n",
       "  </thead>\n",
       "  <tbody>\n",
       "    <tr>\n",
       "      <th>0</th>\n",
       "      <td>0</td>\n",
       "      <td>0.30</td>\n",
       "    </tr>\n",
       "    <tr>\n",
       "      <th>1</th>\n",
       "      <td>1000</td>\n",
       "      <td>0.25</td>\n",
       "    </tr>\n",
       "    <tr>\n",
       "      <th>2</th>\n",
       "      <td>4000</td>\n",
       "      <td>0.20</td>\n",
       "    </tr>\n",
       "    <tr>\n",
       "      <th>3</th>\n",
       "      <td>7000</td>\n",
       "      <td>0.20</td>\n",
       "    </tr>\n",
       "    <tr>\n",
       "      <th>4</th>\n",
       "      <td>15000</td>\n",
       "      <td>0.05</td>\n",
       "    </tr>\n",
       "  </tbody>\n",
       "</table>\n",
       "</div>"
      ],
      "text/plain": [
       "   Medical costs $  Probabiltiy\n",
       "0                0         0.30\n",
       "1             1000         0.25\n",
       "2             4000         0.20\n",
       "3             7000         0.20\n",
       "4            15000         0.05"
      ]
     },
     "execution_count": 17,
     "metadata": {},
     "output_type": "execute_result"
    }
   ],
   "source": [
    "df = pd.DataFrame({\n",
    "    \"Medical costs $\": [0, 1000, 4000, 7000, 15000],\n",
    "    \"Probabiltiy\": [0.3, 0.25, 0.2, 0.2, 0.05]})\n",
    "df"
   ]
  },
  {
   "cell_type": "markdown",
   "id": "c04e5971-15c6-4b7d-991f-4232c19b6f96",
   "metadata": {},
   "source": [
    "**Including the cost of insurance, what are the expected total medical costs that Paul must pay with the low deductible plan? Round your answer to the nearest dollar.**"
   ]
  },
  {
   "cell_type": "code",
   "execution_count": 18,
   "id": "07db0c38-f252-4fa6-a863-00dbab906f5f",
   "metadata": {},
   "outputs": [
    {
     "data": {
      "text/html": [
       "<div>\n",
       "<style scoped>\n",
       "    .dataframe tbody tr th:only-of-type {\n",
       "        vertical-align: middle;\n",
       "    }\n",
       "\n",
       "    .dataframe tbody tr th {\n",
       "        vertical-align: top;\n",
       "    }\n",
       "\n",
       "    .dataframe thead th {\n",
       "        text-align: right;\n",
       "    }\n",
       "</style>\n",
       "<table border=\"1\" class=\"dataframe\">\n",
       "  <thead>\n",
       "    <tr style=\"text-align: right;\">\n",
       "      <th></th>\n",
       "      <th>Medical costs $</th>\n",
       "      <th>Probabiltiy</th>\n",
       "      <th>Low Deductible</th>\n",
       "    </tr>\n",
       "  </thead>\n",
       "  <tbody>\n",
       "    <tr>\n",
       "      <th>0</th>\n",
       "      <td>0</td>\n",
       "      <td>0.30</td>\n",
       "      <td>0</td>\n",
       "    </tr>\n",
       "    <tr>\n",
       "      <th>1</th>\n",
       "      <td>1000</td>\n",
       "      <td>0.25</td>\n",
       "      <td>1000</td>\n",
       "    </tr>\n",
       "    <tr>\n",
       "      <th>2</th>\n",
       "      <td>4000</td>\n",
       "      <td>0.20</td>\n",
       "      <td>1000</td>\n",
       "    </tr>\n",
       "    <tr>\n",
       "      <th>3</th>\n",
       "      <td>7000</td>\n",
       "      <td>0.20</td>\n",
       "      <td>1000</td>\n",
       "    </tr>\n",
       "    <tr>\n",
       "      <th>4</th>\n",
       "      <td>15000</td>\n",
       "      <td>0.05</td>\n",
       "      <td>1000</td>\n",
       "    </tr>\n",
       "  </tbody>\n",
       "</table>\n",
       "</div>"
      ],
      "text/plain": [
       "   Medical costs $  Probabiltiy  Low Deductible\n",
       "0                0         0.30               0\n",
       "1             1000         0.25            1000\n",
       "2             4000         0.20            1000\n",
       "3             7000         0.20            1000\n",
       "4            15000         0.05            1000"
      ]
     },
     "execution_count": 18,
     "metadata": {},
     "output_type": "execute_result"
    }
   ],
   "source": [
    "deductible, insurance = 1000, 8000\n",
    "df[\"Low Deductible\"] = df[\"Medical costs $\"].apply(lambda cost: deductible if cost >= deductible else cost)\n",
    "df"
   ]
  },
  {
   "cell_type": "code",
   "execution_count": 19,
   "id": "1745776e-6350-499b-a3d5-c8125f2fe48f",
   "metadata": {},
   "outputs": [
    {
     "data": {
      "text/plain": [
       "8700.0"
      ]
     },
     "execution_count": 19,
     "metadata": {},
     "output_type": "execute_result"
    }
   ],
   "source": [
    "np.sum(df[\"Low Deductible\"] * df.Probabiltiy) + insurance"
   ]
  },
  {
   "cell_type": "markdown",
   "id": "fe5709d3-70ed-48f1-b94b-38f4313df60b",
   "metadata": {},
   "source": [
    "**Including the cost of insurance, what are the expected total medical costs that Paul must pay with the high deductible plan? Round your answer to the nearest dollar.**"
   ]
  },
  {
   "cell_type": "code",
   "execution_count": 20,
   "id": "2bd2051b-3ce8-452f-8f13-3bc8fad05d27",
   "metadata": {},
   "outputs": [
    {
     "data": {
      "text/html": [
       "<div>\n",
       "<style scoped>\n",
       "    .dataframe tbody tr th:only-of-type {\n",
       "        vertical-align: middle;\n",
       "    }\n",
       "\n",
       "    .dataframe tbody tr th {\n",
       "        vertical-align: top;\n",
       "    }\n",
       "\n",
       "    .dataframe thead th {\n",
       "        text-align: right;\n",
       "    }\n",
       "</style>\n",
       "<table border=\"1\" class=\"dataframe\">\n",
       "  <thead>\n",
       "    <tr style=\"text-align: right;\">\n",
       "      <th></th>\n",
       "      <th>Medical costs $</th>\n",
       "      <th>Probabiltiy</th>\n",
       "      <th>Low Deductible</th>\n",
       "      <th>High Deductible</th>\n",
       "    </tr>\n",
       "  </thead>\n",
       "  <tbody>\n",
       "    <tr>\n",
       "      <th>0</th>\n",
       "      <td>0</td>\n",
       "      <td>0.30</td>\n",
       "      <td>0</td>\n",
       "      <td>0</td>\n",
       "    </tr>\n",
       "    <tr>\n",
       "      <th>1</th>\n",
       "      <td>1000</td>\n",
       "      <td>0.25</td>\n",
       "      <td>1000</td>\n",
       "      <td>1000</td>\n",
       "    </tr>\n",
       "    <tr>\n",
       "      <th>2</th>\n",
       "      <td>4000</td>\n",
       "      <td>0.20</td>\n",
       "      <td>1000</td>\n",
       "      <td>2500</td>\n",
       "    </tr>\n",
       "    <tr>\n",
       "      <th>3</th>\n",
       "      <td>7000</td>\n",
       "      <td>0.20</td>\n",
       "      <td>1000</td>\n",
       "      <td>2500</td>\n",
       "    </tr>\n",
       "    <tr>\n",
       "      <th>4</th>\n",
       "      <td>15000</td>\n",
       "      <td>0.05</td>\n",
       "      <td>1000</td>\n",
       "      <td>2500</td>\n",
       "    </tr>\n",
       "  </tbody>\n",
       "</table>\n",
       "</div>"
      ],
      "text/plain": [
       "   Medical costs $  Probabiltiy  Low Deductible  High Deductible\n",
       "0                0         0.30               0                0\n",
       "1             1000         0.25            1000             1000\n",
       "2             4000         0.20            1000             2500\n",
       "3             7000         0.20            1000             2500\n",
       "4            15000         0.05            1000             2500"
      ]
     },
     "execution_count": 20,
     "metadata": {},
     "output_type": "execute_result"
    }
   ],
   "source": [
    "deductible, insurance = 2500, 7500\n",
    "df[\"High Deductible\"] = df[\"Medical costs $\"].apply(lambda cost: deductible if cost >= deductible else cost)\n",
    "df"
   ]
  },
  {
   "cell_type": "code",
   "execution_count": 21,
   "id": "2f079a91-4df8-4a46-afda-42ca6b50f938",
   "metadata": {},
   "outputs": [
    {
     "data": {
      "text/plain": [
       "8875.0"
      ]
     },
     "execution_count": 21,
     "metadata": {},
     "output_type": "execute_result"
    }
   ],
   "source": [
    "np.sum(df[\"High Deductible\"] * df.Probabiltiy) + insurance"
   ]
  },
  {
   "cell_type": "markdown",
   "id": "d2122c99-e0d8-4764-80a9-a4bf95451730",
   "metadata": {},
   "source": [
    "**If Paul wants the best payoff in the long run and must buy one of the two insurance plans, he should purchase the `Low Deductible` plan since it has lower expected cost.**"
   ]
  },
  {
   "cell_type": "markdown",
   "id": "de49ea06-7e4d-4f46-b56f-6c5c0077df50",
   "metadata": {},
   "source": [
    "### Example 8: Expected Value\n",
    "\n",
    "Francisco is at the arcade and can buy a token for $\\$2$ that gives him the choice of playing either Smack the Mole or Motorcycle Chasers.\n",
    "\n",
    "**Smack the Mole:** He plays 3 rounds, and for each round he has a $30\\%$, percent chance of smacking the mole. If he smacks the mole in all $3$ rounds, he will win a stuffed bear worth $\\$50$.\n",
    "\n",
    "**Motorcycle Chasers:** He will participate in $4$ races, and for each race he has an $80\\%$, percent chance of winning the race. If he wins all $4$ races, he will win a replica motorcycle worth $\\$70$."
   ]
  },
  {
   "cell_type": "markdown",
   "id": "4d74e440-5205-45d1-8c59-b723888fa24c",
   "metadata": {},
   "source": [
    "**What is Francisco's expected value from playing Smack the Mole? Round your answer to the nearest cent.**"
   ]
  },
  {
   "cell_type": "code",
   "execution_count": 22,
   "id": "00330a1a-4d91-43bc-95db-809393d30e20",
   "metadata": {},
   "outputs": [
    {
     "data": {
      "text/plain": [
       "-0.65"
      ]
     },
     "execution_count": 22,
     "metadata": {},
     "output_type": "execute_result"
    }
   ],
   "source": [
    "round(0.3**3 * (50-2) + (1 - 0.3**3) * -2, 2)"
   ]
  },
  {
   "cell_type": "markdown",
   "id": "9b8ec259-40c2-439d-98c9-9844a8e4f4b1",
   "metadata": {},
   "source": [
    "**What is Francisco's expected value from playing Motorcycle Chasers? Round your answer to the nearest cent.**"
   ]
  },
  {
   "cell_type": "code",
   "execution_count": 23,
   "id": "d9935e9a-8d38-4414-a81b-3057e984fb99",
   "metadata": {},
   "outputs": [
    {
     "data": {
      "text/plain": [
       "26.67"
      ]
     },
     "execution_count": 23,
     "metadata": {},
     "output_type": "execute_result"
    }
   ],
   "source": [
    "round(0.8**4 * (70-2) + (1 - 0.8**4) * -2, 2)"
   ]
  },
  {
   "cell_type": "markdown",
   "id": "4a05e40e-9786-493b-99cc-1bb2f1536375",
   "metadata": {},
   "source": [
    "### Example 9: Expected Value & Cumulative\n",
    "\n",
    "Rory has entered The Irish Gunman’s Open. In The Irish Gunman’s Open, Rory will hit golf balls at targets. If he hits the target, he will advance to the next stage, and if he misses the target, Rory will exit The Open. The Open consists of $4$ possible stages.\n",
    "\n",
    "If the best stage Rory completes is the second stage, he will win $100$ euros. If the best stage Rory completes is the third stage, Rory will win a total of $300$ euros. If he can complete all $4$ stages, he will win a total of $1000$ euros.\n",
    "\n",
    "Because each stage gets progressively more difficult, the probability of Rory hitting the targets decreases. The probability of Rory hitting each target given that he has reached that stage is given in the data table below.\n",
    "\n",
    "**What is the expected value of Rory's prize money from The Irish Gunman's Open?**  \n",
    "Round your answer to the nearest hundredth."
   ]
  },
  {
   "cell_type": "code",
   "execution_count": 24,
   "id": "5abe585c-f298-40db-a0e7-a2c0eb4155d7",
   "metadata": {},
   "outputs": [
    {
     "data": {
      "text/html": [
       "<div>\n",
       "<style scoped>\n",
       "    .dataframe tbody tr th:only-of-type {\n",
       "        vertical-align: middle;\n",
       "    }\n",
       "\n",
       "    .dataframe tbody tr th {\n",
       "        vertical-align: top;\n",
       "    }\n",
       "\n",
       "    .dataframe thead th {\n",
       "        text-align: right;\n",
       "    }\n",
       "</style>\n",
       "<table border=\"1\" class=\"dataframe\">\n",
       "  <thead>\n",
       "    <tr style=\"text-align: right;\">\n",
       "      <th></th>\n",
       "      <th>Stage</th>\n",
       "      <th>Probability</th>\n",
       "      <th>Prize</th>\n",
       "    </tr>\n",
       "  </thead>\n",
       "  <tbody>\n",
       "    <tr>\n",
       "      <th>0</th>\n",
       "      <td>1</td>\n",
       "      <td>0.6</td>\n",
       "      <td>0</td>\n",
       "    </tr>\n",
       "    <tr>\n",
       "      <th>1</th>\n",
       "      <td>2</td>\n",
       "      <td>0.5</td>\n",
       "      <td>100</td>\n",
       "    </tr>\n",
       "    <tr>\n",
       "      <th>2</th>\n",
       "      <td>3</td>\n",
       "      <td>0.4</td>\n",
       "      <td>300</td>\n",
       "    </tr>\n",
       "    <tr>\n",
       "      <th>3</th>\n",
       "      <td>4</td>\n",
       "      <td>0.3</td>\n",
       "      <td>1000</td>\n",
       "    </tr>\n",
       "  </tbody>\n",
       "</table>\n",
       "</div>"
      ],
      "text/plain": [
       "   Stage  Probability  Prize\n",
       "0      1          0.6      0\n",
       "1      2          0.5    100\n",
       "2      3          0.4    300\n",
       "3      4          0.3   1000"
      ]
     },
     "execution_count": 24,
     "metadata": {},
     "output_type": "execute_result"
    }
   ],
   "source": [
    "stage = np.array([1, 2, 3, 4])\n",
    "probability = np.array([.6, .5, .4, .3])\n",
    "prize = np.array([0, 100, 300, 1000])\n",
    "\n",
    "df = pd.DataFrame({'Stage': stage, 'Probability': probability, 'Prize': prize})\n",
    "df"
   ]
  },
  {
   "cell_type": "code",
   "execution_count": 25,
   "id": "1650907f-57fb-4bcf-afc0-fd24c3521d58",
   "metadata": {},
   "outputs": [
    {
     "data": {
      "text/latex": [
       "$E[X] = 79.2$"
      ],
      "text/plain": [
       "<IPython.core.display.Latex object>"
      ]
     },
     "metadata": {},
     "output_type": "display_data"
    }
   ],
   "source": [
    "p4 = 0.6 * 0.5 * 0.4 * 0.3\n",
    "p3 = 0.6 * 0.5 * 0.4 * 0.7\n",
    "p2 = 0.6 * 0.5 * 0.6\n",
    "p1 = 1 - (p4 + p3 + p2)\n",
    "E = np.sum(np.array([0, 100, 300, 1000]) * np.array([p1, p2, p3, p4]))\n",
    "E = round(E, 2)\n",
    "display(Latex(f\"$E[X] = {E}$\"))"
   ]
  },
  {
   "cell_type": "markdown",
   "id": "6b0f3a79-ad8a-416a-8e7e-b1a79db3802c",
   "metadata": {
    "tags": []
   },
   "source": [
    "### Example 10: Exptected Value - Combs\n",
    "\n",
    "Vera has challenged Alexey to a round of Marker Mixup. Marker Mixup is a game where there is a bag of $5$ red markers numbered $1$ through $5$, and another bag with $5$ green markers numbered $6$ through $10$.\n",
    "\n",
    "Alexey will grab $1$ marker from each bag, and if the $2$ markers add up to more than $12$, he will win $\\$5$. If the sum is exactly $12$, he will break even, and If the sum is less than $12$, he will lose $\\$6$.\n",
    "\n",
    "**What is Alexey's expected value of playing Marker Mixup?**  \n",
    "Round your answer to the nearest cent."
   ]
  },
  {
   "cell_type": "code",
   "execution_count": 26,
   "id": "c0350976-997d-4ed4-9838-4bd0915a05b5",
   "metadata": {},
   "outputs": [],
   "source": [
    "import itertools\n",
    "from itertools import product"
   ]
  },
  {
   "cell_type": "code",
   "execution_count": 27,
   "id": "ed9b1bf7-f264-4250-8f63-12d7ca4a2539",
   "metadata": {},
   "outputs": [],
   "source": [
    "red = [1, 2, 3, 4, 5]\n",
    "green = [6, 7, 8, 9, 10]"
   ]
  },
  {
   "cell_type": "code",
   "execution_count": 28,
   "id": "47e7c715-4918-4f55-b773-600f9e6873ea",
   "metadata": {},
   "outputs": [
    {
     "data": {
      "text/plain": [
       "array([[ 1,  6],\n",
       "       [ 1,  7],\n",
       "       [ 1,  8],\n",
       "       [ 1,  9],\n",
       "       [ 1, 10],\n",
       "       [ 2,  6],\n",
       "       [ 2,  7],\n",
       "       [ 2,  8],\n",
       "       [ 2,  9],\n",
       "       [ 2, 10],\n",
       "       [ 3,  6],\n",
       "       [ 3,  7],\n",
       "       [ 3,  8],\n",
       "       [ 3,  9],\n",
       "       [ 3, 10],\n",
       "       [ 4,  6],\n",
       "       [ 4,  7],\n",
       "       [ 4,  8],\n",
       "       [ 4,  9],\n",
       "       [ 4, 10],\n",
       "       [ 5,  6],\n",
       "       [ 5,  7],\n",
       "       [ 5,  8],\n",
       "       [ 5,  9],\n",
       "       [ 5, 10]])"
      ]
     },
     "execution_count": 28,
     "metadata": {},
     "output_type": "execute_result"
    }
   ],
   "source": [
    "combs = np.array(list(product(red, green)))\n",
    "combs"
   ]
  },
  {
   "cell_type": "code",
   "execution_count": 29,
   "id": "59747e25-0f42-412b-a96a-67cf2bef146c",
   "metadata": {},
   "outputs": [
    {
     "name": "stdout",
     "output_type": "stream",
     "text": [
      "0.24\n",
      "0.16\n",
      "0.6\n"
     ]
    }
   ],
   "source": [
    "p_more_than_12 = np.sum(np.sum(combs, axis=1) > 12) / len(combs)\n",
    "p_equal_to_12 = np.sum(np.sum(combs, axis=1) == 12) / len(combs)\n",
    "p_less_than_12 = np.sum(np.sum(combs, axis=1) < 12) / len(combs)\n",
    "print(p_more_than_12)\n",
    "print(p_equal_to_12)\n",
    "print(p_less_than_12)"
   ]
  },
  {
   "cell_type": "code",
   "execution_count": 30,
   "id": "a24e568a-c939-463d-9117-5df494b2639a",
   "metadata": {},
   "outputs": [
    {
     "data": {
      "text/latex": [
       "$E[X] = -2.4$"
      ],
      "text/plain": [
       "<IPython.core.display.Latex object>"
      ]
     },
     "metadata": {},
     "output_type": "display_data"
    }
   ],
   "source": [
    "E = p_more_than_12 * 5 + p_equal_to_12 * 0 + p_less_than_12 * -6\n",
    "E = round(E, 2)\n",
    "display(Latex(f\"$E[X] = {E}$\"))"
   ]
  },
  {
   "cell_type": "markdown",
   "id": "39edba8f-3e0c-40b2-aeb3-679b3705800b",
   "metadata": {},
   "source": [
    "---\n",
    "\n",
    "## Transforming Random Variables"
   ]
  },
  {
   "cell_type": "markdown",
   "id": "15453d60-82dc-4aa6-bff1-23dce8affde1",
   "metadata": {},
   "source": [
    "### Example 1\n",
    "\n",
    "Mr. Gupta gave his students a quiz with three questions on it. Let $X$ represent the number of questions that a randomly chosen student answered correctly. Here is the probability distribution of $X$ along with summary statistics:\n",
    "\n",
    "|X = # correct|0|1|2|3|\n",
    "|:-:|:-:|:-:|:-:|:-:|\n",
    "|P(X)|0.05|0.20|0.50|0.25|\n",
    "\n",
    "- Mean: $\\mu_X = 1.95$\n",
    "- SD: $\\sigma_X \\approx 0.8$\n",
    "\n",
    "Mr. Gupta decides to score the tests by giving $10$ points for each correct question. He also plans to give every student $5$ additional bonus points. Let $Y$ represent a random student's score.\n",
    "\n",
    "**What are the mean and standard deviation of $Y$?**"
   ]
  },
  {
   "cell_type": "code",
   "execution_count": 31,
   "id": "fd22aa23-f8f9-47e4-b04d-d76bdfdf39f5",
   "metadata": {},
   "outputs": [
    {
     "data": {
      "text/html": [
       "<div>\n",
       "<style scoped>\n",
       "    .dataframe tbody tr th:only-of-type {\n",
       "        vertical-align: middle;\n",
       "    }\n",
       "\n",
       "    .dataframe tbody tr th {\n",
       "        vertical-align: top;\n",
       "    }\n",
       "\n",
       "    .dataframe thead th {\n",
       "        text-align: right;\n",
       "    }\n",
       "</style>\n",
       "<table border=\"1\" class=\"dataframe\">\n",
       "  <thead>\n",
       "    <tr style=\"text-align: right;\">\n",
       "      <th></th>\n",
       "      <th>X</th>\n",
       "      <th>P(X)</th>\n",
       "    </tr>\n",
       "  </thead>\n",
       "  <tbody>\n",
       "    <tr>\n",
       "      <th>0</th>\n",
       "      <td>0</td>\n",
       "      <td>0.05</td>\n",
       "    </tr>\n",
       "    <tr>\n",
       "      <th>1</th>\n",
       "      <td>1</td>\n",
       "      <td>0.20</td>\n",
       "    </tr>\n",
       "    <tr>\n",
       "      <th>2</th>\n",
       "      <td>2</td>\n",
       "      <td>0.50</td>\n",
       "    </tr>\n",
       "    <tr>\n",
       "      <th>3</th>\n",
       "      <td>3</td>\n",
       "      <td>0.25</td>\n",
       "    </tr>\n",
       "  </tbody>\n",
       "</table>\n",
       "</div>"
      ],
      "text/plain": [
       "   X  P(X)\n",
       "0  0  0.05\n",
       "1  1  0.20\n",
       "2  2  0.50\n",
       "3  3  0.25"
      ]
     },
     "execution_count": 31,
     "metadata": {},
     "output_type": "execute_result"
    }
   ],
   "source": [
    "X = np.array([0, 1, 2, 3])\n",
    "P = np.array([0.05, 0.20, 0.50, 0.25])\n",
    "mu_X, sd_X = 1.95, 0.8\n",
    "\n",
    "df = pd.DataFrame({'X': X, 'P(X)': P})\n",
    "df"
   ]
  },
  {
   "cell_type": "code",
   "execution_count": 32,
   "id": "800a679d-8a74-422e-ae78-3d1d3b37c21f",
   "metadata": {},
   "outputs": [
    {
     "data": {
      "text/html": [
       "<div>\n",
       "<style scoped>\n",
       "    .dataframe tbody tr th:only-of-type {\n",
       "        vertical-align: middle;\n",
       "    }\n",
       "\n",
       "    .dataframe tbody tr th {\n",
       "        vertical-align: top;\n",
       "    }\n",
       "\n",
       "    .dataframe thead th {\n",
       "        text-align: right;\n",
       "    }\n",
       "</style>\n",
       "<table border=\"1\" class=\"dataframe\">\n",
       "  <thead>\n",
       "    <tr style=\"text-align: right;\">\n",
       "      <th></th>\n",
       "      <th>X</th>\n",
       "      <th>P(X)</th>\n",
       "      <th>Y</th>\n",
       "    </tr>\n",
       "  </thead>\n",
       "  <tbody>\n",
       "    <tr>\n",
       "      <th>0</th>\n",
       "      <td>0</td>\n",
       "      <td>0.05</td>\n",
       "      <td>5</td>\n",
       "    </tr>\n",
       "    <tr>\n",
       "      <th>1</th>\n",
       "      <td>1</td>\n",
       "      <td>0.20</td>\n",
       "      <td>15</td>\n",
       "    </tr>\n",
       "    <tr>\n",
       "      <th>2</th>\n",
       "      <td>2</td>\n",
       "      <td>0.50</td>\n",
       "      <td>25</td>\n",
       "    </tr>\n",
       "    <tr>\n",
       "      <th>3</th>\n",
       "      <td>3</td>\n",
       "      <td>0.25</td>\n",
       "      <td>35</td>\n",
       "    </tr>\n",
       "  </tbody>\n",
       "</table>\n",
       "</div>"
      ],
      "text/plain": [
       "   X  P(X)   Y\n",
       "0  0  0.05   5\n",
       "1  1  0.20  15\n",
       "2  2  0.50  25\n",
       "3  3  0.25  35"
      ]
     },
     "execution_count": 32,
     "metadata": {},
     "output_type": "execute_result"
    }
   ],
   "source": [
    "df['Y'] = df.X * 10 + 5\n",
    "df"
   ]
  },
  {
   "cell_type": "code",
   "execution_count": 33,
   "id": "97b2e5e6-a7cd-41ac-9f5c-2b5452cc845e",
   "metadata": {},
   "outputs": [
    {
     "data": {
      "text/latex": [
       "$\\mu_Y = \\mu_X \\cdot 10 + 5 = 24.5$"
      ],
      "text/plain": [
       "<IPython.core.display.Latex object>"
      ]
     },
     "metadata": {},
     "output_type": "display_data"
    },
    {
     "data": {
      "text/latex": [
       "$\\sigma_Y = \\mu_X \\cdot 10 = 8.0$"
      ],
      "text/plain": [
       "<IPython.core.display.Latex object>"
      ]
     },
     "metadata": {},
     "output_type": "display_data"
    }
   ],
   "source": [
    "mu_Y = mu_X * 10 + 5\n",
    "sd_Y = sd_X * 10\n",
    "display(Latex(f'$\\mu_Y = \\mu_X \\cdot 10 + 5 = {mu_Y}$'))\n",
    "display(Latex(f'$\\sigma_Y = \\mu_X \\cdot 10 = {sd_Y}$'))"
   ]
  },
  {
   "cell_type": "markdown",
   "id": "8f256bf6-a3c9-4898-bc68-69be5196d43e",
   "metadata": {},
   "source": [
    "---\n",
    "\n",
    "## [Combining Random Variables](https://www.khanacademy.org/math/statistics-probability/random-variables-stats-library/combine-random-variables/a/combining-random-variables-article)\n",
    "\n",
    "We can form new distributions by combining random variables. If we know the mean and standard deviation of the original distributions, we can use that information to find the mean and standard deviation of the resulting distribution.\n",
    "\n",
    "We can combine means directly, but we can't do this with standard deviations. We can combine variances as long as it's reasonable to assume that the variables are independent.\n",
    "\n",
    "- $E[X+Y] = E[X] + E[Y]$, $E[X-Y] = E[X] - E[Y]$\n",
    "- $Var[X+Y] = Var[X] + Var[Y]$, $Var[X-Y] = Var[X] + Var[Y]$\n",
    "\n",
    "- Make sure that the variables are independent or that it's reasonable to assume independence, before combining variances.\n",
    "- Even when we subtract two random variables, we still add their variances; subtracting two variables increases the overall variability in the outcomes.\n",
    "- We can find the standard deviation of the combined distributions by taking the square root of the combined variances."
   ]
  },
  {
   "cell_type": "markdown",
   "id": "13417af4-d7ac-40bf-a1cf-7db5f50b7a81",
   "metadata": {},
   "source": [
    "---\n",
    "\n",
    "## [Combining Normal Random Variable](https://www.khanacademy.org/math/statistics-probability/random-variables-stats-library/combine-random-variables/a/combining-normal-random-variables)\n",
    "\n",
    "When we combine variables that each follow a normal distribution, the resulting distribution is also normally distributed. This lets us answer interesting questions about the resulting distribution."
   ]
  },
  {
   "cell_type": "markdown",
   "id": "9941c73a-42f2-4826-a28f-0cb269006b9f",
   "metadata": {},
   "source": [
    "Review module `norm_rv`, click [here](utils/norm/norm_rv.py)."
   ]
  },
  {
   "cell_type": "code",
   "execution_count": 34,
   "id": "ed67f89c-aff5-412d-a439-a5e157ea4cfe",
   "metadata": {},
   "outputs": [],
   "source": [
    "from utils.src.stats import norm_rv"
   ]
  },
  {
   "cell_type": "markdown",
   "id": "bdb21fcd-9b9b-4242-906a-e715a14d44b6",
   "metadata": {},
   "source": [
    "### Example 1: Proportion above a value\n",
    "\n",
    "A carnival ride has cars that each hold $4$ adult passengers. The weights of the passengers for this ride are normally distributed with a mean of $65 \\text{kg}$ and a standard deviation of $12 \\text{kg}$. Assume that the weights of passengers are independent from each other.\n",
    "\n",
    "Let $T =$ the total weight of $4$ selected adult passengers for this ride.\n",
    "\n",
    "**Find the probability that the total weight exceeds $290 \\text{kg}$.**  \n",
    "_You may round your answer to two decimal places._"
   ]
  },
  {
   "cell_type": "code",
   "execution_count": 35,
   "id": "ca3efe75-5ab3-4d34-989c-c409016a1da3",
   "metadata": {},
   "outputs": [
    {
     "data": {
      "text/latex": [
       "$P(T>290) = 0.11$"
      ],
      "text/plain": [
       "<IPython.core.display.Latex object>"
      ]
     },
     "metadata": {},
     "output_type": "display_data"
    }
   ],
   "source": [
    "dp = 290\n",
    "mus = [65]*4\n",
    "sds = [12]*4\n",
    "method = 'T'\n",
    "area = 'above'\n",
    "p = round(norm_rv(dp, mus, sds, method, area), 2)\n",
    "\n",
    "display(Latex(f'$P(T>290) = {p}$'))"
   ]
  },
  {
   "cell_type": "markdown",
   "id": "9c8f44d7-4e8f-4b5b-afcc-c2563db5df97",
   "metadata": {},
   "source": [
    "### Example 2: Proportion between two values\n",
    "\n",
    "Some nations require their students to pass an exam before earning their primary school degrees or diplomas. A certain nation gives students an exam whose scores are normally distributed with a mean of $41$ points and a standard deviation of $9$ points.\n",
    "\n",
    "Suppose we select $2$ of these testers at random, and define the random variable $D$ as the difference between their scores. We can assume that their scores are independent.\n",
    "\n",
    "**Find the probability that their scores are within $10$ points of each other.**  \n",
    "_You may round your answer to two decimal places._"
   ]
  },
  {
   "cell_type": "code",
   "execution_count": 36,
   "id": "dbadf5bd-cb80-480e-b6a2-623cb75c0f15",
   "metadata": {},
   "outputs": [
    {
     "data": {
      "text/latex": [
       "$P(|D|<=10) = 0.57$"
      ],
      "text/plain": [
       "<IPython.core.display.Latex object>"
      ]
     },
     "metadata": {},
     "output_type": "display_data"
    }
   ],
   "source": [
    "dp = [-10, 10]\n",
    "mus = [41]*2\n",
    "sds = [9]*2\n",
    "method = 'D'\n",
    "area = 'between'\n",
    "p = round(norm_rv(dp, mus, sds, method, area), 2)\n",
    "\n",
    "display(Latex(f'$P(|D|<=10) = {p}$'))"
   ]
  },
  {
   "cell_type": "markdown",
   "id": "ca866185-3124-4ece-8463-d2374d699e35",
   "metadata": {},
   "source": [
    "### Example 3: Proportion above a value\n",
    "\n",
    "A breakfast cereal producer makes its most popular product by combining just raisins and flakes in each box of cereal. The amounts of flakes in the boxes of this cereal are normally distributed with a mean of $370\\text{g}$ and a standard deviation of $24\\text{g}$. The amounts of raisins are also normally distributed with a mean of $170\\text{g}$ and a standard deviation of $7\\text{g}$.\n",
    "\n",
    "Let $T =$ the total amount of product in a randomly selected box, and assume that the amounts of flakes and raisins are independent of each other.\n",
    "\n",
    "**Find the probability that the total amount of product exceeds $515\\text{g}$.**  \n",
    "_You may round your answer to two decimal places._"
   ]
  },
  {
   "cell_type": "code",
   "execution_count": 37,
   "id": "f6e9343c-eab8-4a1c-abb4-41877ddb3a23",
   "metadata": {},
   "outputs": [
    {
     "data": {
      "text/latex": [
       "$P(T>515) = 0.84$"
      ],
      "text/plain": [
       "<IPython.core.display.Latex object>"
      ]
     },
     "metadata": {},
     "output_type": "display_data"
    }
   ],
   "source": [
    "dp = 515\n",
    "mus = [370, 170]\n",
    "sds = [24, 7]\n",
    "method = 'T'\n",
    "area = 'above'\n",
    "p = round(norm_rv(dp, mus, sds, method, area), 2)\n",
    "\n",
    "display(Latex(f'$P(T>515) = {p}$'))"
   ]
  },
  {
   "cell_type": "markdown",
   "id": "7a84a62e-c196-4adb-be20-5916c81b35cc",
   "metadata": {},
   "source": [
    "### Example 3: Proportion below a value\n",
    "\n",
    "Suppose that populations of men and women have the following summary statistics for their heights (in centimeters):\n",
    "\n",
    "- Men: $\\mu_M=172$, $\\sigma_M=7.2$\n",
    "- Women: $\\mu_W=162$, $\\sigma_W=5.4$\n",
    "\n",
    "Both distributions are approximately normal. Suppose we randomly select a man and a woman from each population, and calculate the difference between their heights. We can assume that their heights are independent.\n",
    "\n",
    "**Find the probability that the woman is taller than the man.**  \n",
    "_You may round your answer to two decimal places._"
   ]
  },
  {
   "cell_type": "code",
   "execution_count": 38,
   "id": "21cdd39a-7333-4e4a-ab69-06327ce67867",
   "metadata": {},
   "outputs": [
    {
     "data": {
      "text/latex": [
       "$P({woman \\space taller}) = P(D < 0) = $ $0.13$"
      ],
      "text/plain": [
       "<IPython.core.display.Latex object>"
      ]
     },
     "metadata": {},
     "output_type": "display_data"
    }
   ],
   "source": [
    "dp = 0\n",
    "mus = [172, 162]\n",
    "sds = [7.2, 5.4]\n",
    "method = 'D'\n",
    "area = 'below'\n",
    "p = norm_rv(dp, mus, sds, method, area)\n",
    "p = round(p, 2)\n",
    "\n",
    "# The probabilty that the woman is taller than the man is equal to\n",
    "# the tall distance between the man and the woman is 0\n",
    "display(Latex('$P({woman \\space taller}) = P(D < 0) = $ ' + f'${p}$'))"
   ]
  },
  {
   "cell_type": "markdown",
   "id": "7e7f5051-97b6-4e79-bccb-8187f3492ece",
   "metadata": {},
   "source": [
    "---\n",
    "\n",
    "## Binomial Random Variables\n",
    "\n",
    "- Each trial can be classified as a success or a failure.\n",
    "- Number of trials is fixed.\n",
    "- Independent:\n",
    "    - 10% rule: Within finite population, when sampling without replacement and sample size $\\leq 10\\%$ of the population size, it can be treated as independent.\n",
    "    - Finite population: When sampling with replacement, it's independent.\n",
    "    - Infinite population: It's independent."
   ]
  },
  {
   "cell_type": "markdown",
   "id": "28e4cca2-756d-4319-aac4-450a5200e2a0",
   "metadata": {},
   "source": [
    "### Example 1\n",
    "\n",
    "Based on previous data, an electronics manufacturer knows that $2\\%$, percent of its computer processors are defective. Suppose the manufacturer randomly selects these processors until one is found with a defect. Let $D$ represent the number of processors it takes to find the first one that is defective. Assume that defective processors are independent.\n",
    "\n",
    "**Is $D$ a binomial variable? Why or why not?**\n",
    "\n",
    "**Ans**: There is no fixed number of trials, so $D$ is not a binomial variable."
   ]
  },
  {
   "cell_type": "markdown",
   "id": "b248fbe2-8a05-4dae-acaa-91b53e62f20a",
   "metadata": {
    "tags": []
   },
   "source": [
    "---\n",
    "\n",
    "# Binomial Random Variables\n",
    "\n",
    "See also [Binomial Distribution](./binomial_distribution.ipynb)"
   ]
  },
  {
   "cell_type": "markdown",
   "id": "828200ba-dde1-4c7d-b875-0913484f071e",
   "metadata": {},
   "source": [
    "---\n",
    "\n",
    "# Normal Random Variables\n",
    "\n",
    "See also [Normal Distribution](./normal_distribution.ipynb)"
   ]
  },
  {
   "cell_type": "code",
   "execution_count": null,
   "id": "c456d263-e0aa-4f1a-b7c2-8afbc2d06ec8",
   "metadata": {},
   "outputs": [],
   "source": []
  }
 ],
 "metadata": {
  "kernelspec": {
   "display_name": "statistics-and-probability",
   "language": "python",
   "name": "statistics-and-probability"
  },
  "language_info": {
   "codemirror_mode": {
    "name": "ipython",
    "version": 3
   },
   "file_extension": ".py",
   "mimetype": "text/x-python",
   "name": "python",
   "nbconvert_exporter": "python",
   "pygments_lexer": "ipython3",
   "version": "3.9.10"
  }
 },
 "nbformat": 4,
 "nbformat_minor": 5
}
