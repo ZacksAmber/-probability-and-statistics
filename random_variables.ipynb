{
 "cells": [
  {
   "cell_type": "code",
   "execution_count": 1,
   "id": "5a50c0a1-162a-4271-8b9e-2d435b25747e",
   "metadata": {},
   "outputs": [],
   "source": [
    "import numpy as np\n",
    "import pandas as pd\n",
    "import matplotlib.pyplot as plt\n",
    "import seaborn as sns\n",
    "%matplotlib inline\n",
    "\n",
    "from statistics import NormalDist\n",
    "from scipy.stats import norm, binom\n",
    "from scipy.special import comb\n",
    "from IPython.display import display, Latex"
   ]
  },
  {
   "cell_type": "markdown",
   "id": "3343080d-91f7-41d2-8f80-4ba2e2526e81",
   "metadata": {
    "jp-MarkdownHeadingCollapsed": true,
    "tags": []
   },
   "source": [
    "# Reference\n",
    "\n",
    "> [Unit: Random Variables](https://www.khanacademy.org/math/statistics-probability/random-variables-stats-library)"
   ]
  },
  {
   "cell_type": "markdown",
   "id": "fc0f3141-b9d2-42d8-a057-aef790e00e40",
   "metadata": {
    "tags": []
   },
   "source": [
    "---\n",
    "\n",
    "# [Random Variables](https://en.wikipedia.org/wiki/Random_variable)\n",
    "\n",
    "> [Random variables](https://www.investopedia.com/terms/r/random-variable.asp)\n",
    "\n",
    "A **random variable** ${\\displaystyle X}$ is a [measurable function](https://en.wikipedia.org/wiki/Measurable_function \"Measurable function\") ${\\displaystyle X\\colon \\Omega \\to E}$ from a set of possible [outcomes](https://en.wikipedia.org/wiki/Outcome_(probability) \"Outcome (probability)\") ${\\displaystyle \\Omega }$ to a [measurable space](https://en.wikipedia.org/wiki/Measurable_space \"Measurable space\") ${\\displaystyle E}$. The technical axiomatic definition requires ${\\displaystyle \\Omega }$ to be a sample space of a [probability triple](https://en.wikipedia.org/wiki/Probability_space \"Probability space\") ${\\displaystyle (\\Omega ,{\\mathcal {F}},\\operatorname {P})}$ (see the [measure-theoretic definition](https://en.wikipedia.org/wiki/Random_variable#Measure-theoretic_definition)). A random variable is often denoted by capital [roman letters](https://en.wikipedia.org/wiki/Latin_script \"Latin script\") such as ${\\displaystyle X}$, ${\\displaystyle Y}$, ${\\displaystyle Z}$, ${\\displaystyle T}$.\n",
    "\n",
    "The probability that ${\\displaystyle X}$ takes on a value in a measurable set ${\\displaystyle S\\subseteq E}$ is written as\n",
    "\n",
    "${\\displaystyle \\operatorname {P} (X\\in S)=\\operatorname {P} (\\{\\omega \\in \\Omega \\mid X(\\omega )\\in S\\})}$\n",
    "\n",
    "A probability space consists of three elements:\n",
    "\n",
    "1.  A **[sample space](https://en.wikipedia.org/wiki/Sample_space \"Sample space\")**, $\\displaystyle \\Omega$, which is the set of all possible [outcomes](https://en.wikipedia.org/wiki/Outcome_(probability)).\n",
    "2.  An **event space**, which is a set of [events](https://en.wikipedia.org/wiki/Event_(probability_theory) \"Event (probability theory)\") $\\displaystyle \\mathcal {F}$, an event being a set of outcomes in the sample space.\n",
    "3.  A **probability function**, which assigns each event in the event space a [probability](https://en.wikipedia.org/wiki/Probability \"Probability\"), which is a number between 0 and 1.\n",
    "\n",
    "In more intuitive terms, a member of $\\displaystyle \\Omega$ is a possible outcome, a member of $\\displaystyle {\\mathcal {F}}$ is a measurable subset of possible outcomes, the function $\\displaystyle P$ gives the probability of each such measurable subset, $\\displaystyle E$ represents the set of values that the random variable can take (such as the set of real numbers), and a member of $\\displaystyle {\\mathcal {E}}$ is a \"well-behaved\" (measurable) subset of $\\displaystyle E$ (those for which the probability may be determined). The random variable is then a function from any outcome to a quantity, such that the outcomes leading to any useful subset of quantities for the random variable have a well-defined probability.\n",
    "\n",
    "- $\\Omega$, $S$, or $U$: Sample space\n",
    "- $E$: Event, a subset of $\\Omega$\n",
    "- $P$: Probability"
   ]
  },
  {
   "cell_type": "markdown",
   "id": "4aec8044-a874-43dc-ba0f-9691e114596f",
   "metadata": {},
   "source": [
    "---\n",
    "\n",
    "# Discrete random variables"
   ]
  },
  {
   "cell_type": "markdown",
   "id": "262ff20a-fd00-49d1-acb2-64d279b8b9e8",
   "metadata": {},
   "source": [
    "---\n",
    "\n",
    "## Constructing probability distributions"
   ]
  },
  {
   "cell_type": "markdown",
   "id": "94512280-52a4-4897-8041-a4cd8488bbdc",
   "metadata": {},
   "source": [
    "---\n",
    "\n",
    "### Example 1\n",
    "\n",
    "Vlad is going to flip a fair coin $3$ times. Each coin flip is an independent event.\n",
    "\n",
    "**If $X$ is a random variable that represents the number of heads after $3$ flips of a fair coin, drag the bars to graph the probability distribution for all possible values of $X$.**"
   ]
  },
  {
   "cell_type": "code",
   "execution_count": 2,
   "id": "f835d6ef-968a-47ba-a4e9-2066b6457b63",
   "metadata": {},
   "outputs": [
    {
     "data": {
      "text/plain": [
       "array([0.125, 0.375, 0.375, 0.125])"
      ]
     },
     "execution_count": 2,
     "metadata": {},
     "output_type": "execute_result"
    }
   ],
   "source": [
    "X = np.array([0, 1, 2, 3])\n",
    "n, p = 3, 0.5\n",
    "precision = 2\n",
    "prob = binom.pmf(X, n, p)\n",
    "prob"
   ]
  },
  {
   "cell_type": "code",
   "execution_count": 3,
   "id": "c145c589-9832-40ef-81f7-4938e2d9e57e",
   "metadata": {},
   "outputs": [
    {
     "data": {
      "image/png": "[encoded data removed]",
      "text/plain": [
       "<Figure size 432x288 with 1 Axes>"
      ]
     },
     "metadata": {
      "needs_background": "light"
     },
     "output_type": "display_data"
    }
   ],
   "source": [
    "ax = sns.barplot(x=X, y=prob, color='aqua')\n",
    "ax.bar_label(ax.containers[0]);"
   ]
  },
  {
   "cell_type": "markdown",
   "id": "91b59713-7383-44ce-a2dc-9f6e9f52914f",
   "metadata": {},
   "source": [
    "---\n",
    "\n",
    "## Probability models"
   ]
  },
  {
   "cell_type": "markdown",
   "id": "ca0f28c1-680f-44fc-9421-63795df9afd9",
   "metadata": {},
   "source": [
    "---\n",
    "\n",
    "### Example 1\n",
    "\n",
    "Dalia owns a gravel pit. She took a random sample of rocks and counted $58$ sedimentary rocks, $213$ metamorphic rocks, and $522$ igneous rocks.\n",
    "\n",
    "**Use the observed frequencies to create a probability model for Dalia randomly selecting one rock from her gravel pit.**  \n",
    "_Input your answers as fractions or as decimals rounded to the nearest hundredth._"
   ]
  },
  {
   "cell_type": "code",
   "execution_count": 4,
   "id": "44cee02b-56f6-4b87-bccc-e00cbea4367d",
   "metadata": {},
   "outputs": [
    {
     "data": {
      "text/plain": [
       "array([0.07, 0.27, 0.66])"
      ]
     },
     "execution_count": 4,
     "metadata": {},
     "output_type": "execute_result"
    }
   ],
   "source": [
    "sed, met, ign = 58, 213, 522\n",
    "X = np.array([sed, met, ign])\n",
    "S = X.sum()\n",
    "P = X / S\n",
    "P.round(2)"
   ]
  },
  {
   "cell_type": "markdown",
   "id": "0f487498-df5e-4d17-ab09-aa76cef5b3a1",
   "metadata": {},
   "source": [
    "---\n",
    "\n",
    "## Probability with discrete random variables"
   ]
  },
  {
   "cell_type": "markdown",
   "id": "d17f40a4-eeaf-42d5-8319-bdb72d113509",
   "metadata": {},
   "source": [
    "---\n",
    "\n",
    "### Example 1\n",
    "\n",
    "Hugo plans to buy packs of baseball cards until he gets the card of his favorite player, but he only has enough money to buy at most $4$ packs. Suppose that each pack has probability $0.20$ of containing the card Hugo is hoping for.\n",
    "\n",
    "Let the random variable $X$ be the number of packs of cards Hugo buys. Here is the probability distribution for $X$:\n",
    "\n",
    "|X|1|2|3|4|\n",
    "|:-|:-|:-|:-|:-|\n",
    "|P(X)|0.2|0.16|0.128|0.512|"
   ]
  },
  {
   "cell_type": "code",
   "execution_count": 5,
   "id": "f09fecbc-d056-476a-a434-f2d434df73a1",
   "metadata": {},
   "outputs": [
    {
     "data": {
      "text/latex": [
       "$P(X \\geq 2) = 0.16 + 0.128 + 0.512 = 0.8$"
      ],
      "text/plain": [
       "<IPython.core.display.Latex object>"
      ]
     },
     "metadata": {},
     "output_type": "display_data"
    }
   ],
   "source": [
    "display(Latex(f\"$P(X \\geq 2) = 0.16 + 0.128 + 0.512 = {0.16 + 0.128 + 0.512}$\"))"
   ]
  },
  {
   "cell_type": "markdown",
   "id": "d6a63413-ca83-49b7-a985-d8f87b059133",
   "metadata": {
    "tags": []
   },
   "source": [
    "---\n",
    "\n",
    "## [Expected Value](https://en.wikipedia.org/wiki/Expected_value)\n",
    "\n",
    "> [Expected value (basic)](https://www.khanacademy.org/math/statistics-probability/random-variables-stats-library/random-variables-discrete/a/expected-value-basic)\n",
    "\n",
    "In [probability theory](https://en.wikipedia.org/wiki/Probability_theory \"Probability theory\"), the **expected value** (also called **expectation**, **mathematical expectation**, **mean**, **average**, or **first moment**) is a generalization of the [weighted average](https://en.wikipedia.org/wiki/Weighted_average \"Weighted average\"). Informally, the expected value is the [arithmetic mean](https://en.wikipedia.org/wiki/Arithmetic_mean \"Arithmetic mean\") of a large number of [independently](https://en.wikipedia.org/wiki/Independence_(probability_theory) \"Independence (probability theory)\") selected [outcomes](https://en.wikipedia.org/wiki/Experiment_(probability_theory) \"Experiment (probability theory)\") of a [random variable](https://en.wikipedia.org/wiki/Random_variable \"Random variable\").\n",
    "\n",
    "The expected value of a random variable $X$ is often denoted by $E[X]$, $E(X)$, or $EX$, with $E$ also often stylized as $E$ or ${\\displaystyle \\mathbb {E} .}$\n",
    "\n",
    "$\\displaystyle {E} [X]=\\sum _{i=1}^{\\infty }x_{i}\\,p_{i}$\n",
    "\n",
    "$\\displaystyle {Var} (X)=\\operatorname {E} [X^{2}]-(\\operatorname {E} [X])^{2}$"
   ]
  },
  {
   "cell_type": "code",
   "execution_count": 6,
   "id": "d8ceca94-6608-4f9d-bc5f-cbb4396aa45d",
   "metadata": {},
   "outputs": [],
   "source": [
    "def rv_mean(X, P):\n",
    "    \"\"\"rv_mean calculates the expected value (also known as mean) of the random variable X.\n",
    "\n",
    "    Args:\n",
    "        X (array like): Random Variable X.\n",
    "        P (array like): The probability distribution of random variable X.\n",
    "\n",
    "    Returns:\n",
    "        float: The expected value (also known as mean) the random variable X.\n",
    "    \"\"\"\n",
    "    mu = np.average(a=X, weights=P)\n",
    "\n",
    "    return mu"
   ]
  },
  {
   "cell_type": "code",
   "execution_count": 7,
   "id": "1af52a80-3637-4ec8-9495-82d7e7e1bf82",
   "metadata": {},
   "outputs": [],
   "source": [
    "def rv_std(X, P):\n",
    "    \"\"\"rv_std calculates the standard deviation of the random variable X.\n",
    "\n",
    "    Args:\n",
    "        X (array like): Random Variable X.\n",
    "        P (array like): The probability distribution of random variable X.\n",
    "\n",
    "    Returns:\n",
    "        float: The standard deviation of the random variable X.\n",
    "    \"\"\"\n",
    "    mu = rv_mean(X, P)\n",
    "    sd = np.sum((X - mu)**2 * P)**0.5\n",
    "\n",
    "    return sd"
   ]
  },
  {
   "cell_type": "markdown",
   "id": "07d48fd1-bfdf-4bff-9c96-78b62216f001",
   "metadata": {},
   "source": [
    "---\n",
    "\n",
    "### Example 1\n",
    "\n",
    "Mahnoor owns and operates Mahnoor's Coffee Shop. The city of Laketown, Australia, where Mahnoor's Coffee Shop is located, recently enacted a ban on all foam cups to help protect the environment.\n",
    "\n",
    "Instead of switching to paper cups, Mahnoor has decided to risk being fined by the city and to continue to use foam cups. She estimates that this will save her $10,000$ Australian dollars. She also estimates that there is a $12\\%$ chance that she will be fined. The fine would be for $100,000$ Australian dollars.\n",
    "\n",
    "**Find the expected value of Mahnoor's decision to continue to use foam cups.**"
   ]
  },
  {
   "cell_type": "markdown",
   "id": "54aa43d6-0e0e-46c9-9e70-b8fb6e228daf",
   "metadata": {},
   "source": [
    "||Value|Probability|Value * Probability|\n",
    "|:-:|:-:|:-:|:-:|\n",
    "|Mahnoor is fined|-90,000|0.12|-10,800|\n",
    "|Mahnoor is not fined|10,000|0.88|8800|\n",
    "\n",
    "The expected value is -10,800 + 8,000 = -2000 Australian dollars."
   ]
  },
  {
   "cell_type": "markdown",
   "id": "882ba236-152c-4db5-a863-03297aa6c68a",
   "metadata": {
    "tags": []
   },
   "source": [
    "---\n",
    "\n",
    "## Mean (expected value) of a discrete random variable"
   ]
  },
  {
   "cell_type": "markdown",
   "id": "a6d8d901-3cbf-478b-b510-cc3399280738",
   "metadata": {
    "tags": []
   },
   "source": [
    "---\n",
    "\n",
    "### Example 1\n",
    "\n",
    "Marvin the monkey is taking a multiple choice test as part of an experiment. There are $4$ questions on the test and each question has $2$ different answer choices. Since Marvin is a monkey, he will be guessing on each question.\n",
    "\n",
    "The test is graded according to the grading scheme below.\n",
    "\n",
    "**What is the expected number of points Marvin will score?**  \n",
    "Round your answer to the nearest hundredth.\n",
    "\n",
    "|Correct answers|0|1|2|3|4|\n",
    "|:-:|:-:|:-:|:-:|:-:|:-:|\n",
    "|Points|0|3|5|7|10|"
   ]
  },
  {
   "cell_type": "code",
   "execution_count": 8,
   "id": "c9d7ffb2-5531-4b93-8cdc-5a746518a19b",
   "metadata": {},
   "outputs": [
    {
     "data": {
      "text/html": [
       "<div>\n",
       "<style scoped>\n",
       "    .dataframe tbody tr th:only-of-type {\n",
       "        vertical-align: middle;\n",
       "    }\n",
       "\n",
       "    .dataframe tbody tr th {\n",
       "        vertical-align: top;\n",
       "    }\n",
       "\n",
       "    .dataframe thead th {\n",
       "        text-align: right;\n",
       "    }\n",
       "</style>\n",
       "<table border=\"1\" class=\"dataframe\">\n",
       "  <thead>\n",
       "    <tr style=\"text-align: right;\">\n",
       "      <th></th>\n",
       "      <th>Correct answers</th>\n",
       "      <th>Points</th>\n",
       "    </tr>\n",
       "  </thead>\n",
       "  <tbody>\n",
       "    <tr>\n",
       "      <th>0</th>\n",
       "      <td>0</td>\n",
       "      <td>0</td>\n",
       "    </tr>\n",
       "    <tr>\n",
       "      <th>1</th>\n",
       "      <td>1</td>\n",
       "      <td>3</td>\n",
       "    </tr>\n",
       "    <tr>\n",
       "      <th>2</th>\n",
       "      <td>2</td>\n",
       "      <td>5</td>\n",
       "    </tr>\n",
       "    <tr>\n",
       "      <th>3</th>\n",
       "      <td>3</td>\n",
       "      <td>7</td>\n",
       "    </tr>\n",
       "    <tr>\n",
       "      <th>4</th>\n",
       "      <td>4</td>\n",
       "      <td>10</td>\n",
       "    </tr>\n",
       "  </tbody>\n",
       "</table>\n",
       "</div>"
      ],
      "text/plain": [
       "   Correct answers  Points\n",
       "0                0       0\n",
       "1                1       3\n",
       "2                2       5\n",
       "3                3       7\n",
       "4                4      10"
      ]
     },
     "execution_count": 8,
     "metadata": {},
     "output_type": "execute_result"
    }
   ],
   "source": [
    "n, p = 4, 1/2\n",
    "ks = np.arange(n+1)\n",
    "points = np.array([0, 3, 5, 7, 10])\n",
    "df = pd.DataFrame({'Correct answers': ks, 'Points': points})\n",
    "df"
   ]
  },
  {
   "cell_type": "code",
   "execution_count": 9,
   "id": "f4cb8c48-3225-47ae-ac1d-e3cf7ae7458e",
   "metadata": {},
   "outputs": [
    {
     "data": {
      "text/html": [
       "<div>\n",
       "<style scoped>\n",
       "    .dataframe tbody tr th:only-of-type {\n",
       "        vertical-align: middle;\n",
       "    }\n",
       "\n",
       "    .dataframe tbody tr th {\n",
       "        vertical-align: top;\n",
       "    }\n",
       "\n",
       "    .dataframe thead th {\n",
       "        text-align: right;\n",
       "    }\n",
       "</style>\n",
       "<table border=\"1\" class=\"dataframe\">\n",
       "  <thead>\n",
       "    <tr style=\"text-align: right;\">\n",
       "      <th></th>\n",
       "      <th>Correct answers</th>\n",
       "      <th>Points</th>\n",
       "      <th>Probability</th>\n",
       "    </tr>\n",
       "  </thead>\n",
       "  <tbody>\n",
       "    <tr>\n",
       "      <th>0</th>\n",
       "      <td>0</td>\n",
       "      <td>0</td>\n",
       "      <td>0.0625</td>\n",
       "    </tr>\n",
       "    <tr>\n",
       "      <th>1</th>\n",
       "      <td>1</td>\n",
       "      <td>3</td>\n",
       "      <td>0.2500</td>\n",
       "    </tr>\n",
       "    <tr>\n",
       "      <th>2</th>\n",
       "      <td>2</td>\n",
       "      <td>5</td>\n",
       "      <td>0.3750</td>\n",
       "    </tr>\n",
       "    <tr>\n",
       "      <th>3</th>\n",
       "      <td>3</td>\n",
       "      <td>7</td>\n",
       "      <td>0.2500</td>\n",
       "    </tr>\n",
       "    <tr>\n",
       "      <th>4</th>\n",
       "      <td>4</td>\n",
       "      <td>10</td>\n",
       "      <td>0.0625</td>\n",
       "    </tr>\n",
       "  </tbody>\n",
       "</table>\n",
       "</div>"
      ],
      "text/plain": [
       "   Correct answers  Points  Probability\n",
       "0                0       0       0.0625\n",
       "1                1       3       0.2500\n",
       "2                2       5       0.3750\n",
       "3                3       7       0.2500\n",
       "4                4      10       0.0625"
      ]
     },
     "execution_count": 9,
     "metadata": {},
     "output_type": "execute_result"
    }
   ],
   "source": [
    "df['Probability'] = df['Correct answers'].apply(lambda k: binom.pmf(k, n, p))\n",
    "df"
   ]
  },
  {
   "cell_type": "code",
   "execution_count": 10,
   "id": "0c2d6839-6a8c-4325-ae6c-8cb5407599f8",
   "metadata": {},
   "outputs": [
    {
     "data": {
      "text/latex": [
       "$E[X] = 5.0$"
      ],
      "text/plain": [
       "<IPython.core.display.Latex object>"
      ]
     },
     "metadata": {},
     "output_type": "display_data"
    }
   ],
   "source": [
    "display(Latex(f\"$E[X] = {sum(df['Probability'] * df['Points'])}$\"))"
   ]
  },
  {
   "cell_type": "markdown",
   "id": "8fed9243-cf84-4654-b6b0-199339ce7278",
   "metadata": {},
   "source": [
    "---\n",
    "\n",
    "## Standard deviation of a discrete random variable"
   ]
  },
  {
   "cell_type": "markdown",
   "id": "11cfdf6b-3426-49c2-a149-4a75afbf6e1c",
   "metadata": {},
   "source": [
    "---\n",
    "\n",
    "### Example 1\n",
    "\n",
    "A patient is sick with a certain infection where the treatment involves taking $\\$20$ dollar drug that has a $90\\%$ chance of curing the infection. If that drug doesn't work, then the patient takes an $\\$80$ dollar drug that is almost guaranteed to cure the infection.\n",
    "\n",
    "The table below displays the probability distribution of $X =$ the total amount of money a randomly selected patient spends on this treatment plan.\n",
    "\n",
    "|X = total spent|\\$20|\\$100|\n",
    "|:-:|:-:|:-:|\n",
    "|P(X)|90%|10%|\n",
    "\n",
    "Calculate $\\mu_X$ and $\\sigma_X$"
   ]
  },
  {
   "cell_type": "code",
   "execution_count": 11,
   "id": "3098af91-7fdb-4fcb-a59c-5ea5ced89939",
   "metadata": {},
   "outputs": [],
   "source": [
    "X = np.array([20, 100])\n",
    "P = np.array([0.9, 0.1])"
   ]
  },
  {
   "cell_type": "code",
   "execution_count": 12,
   "id": "26295886-038a-4bfe-b8db-db851f227fdc",
   "metadata": {},
   "outputs": [
    {
     "data": {
      "text/latex": [
       "$E[X] = 28.0$"
      ],
      "text/plain": [
       "<IPython.core.display.Latex object>"
      ]
     },
     "metadata": {},
     "output_type": "display_data"
    },
    {
     "data": {
      "text/latex": [
       "$\\sigma = 24.0$"
      ],
      "text/plain": [
       "<IPython.core.display.Latex object>"
      ]
     },
     "metadata": {},
     "output_type": "display_data"
    }
   ],
   "source": [
    "display(Latex(f\"$E[X] = {rv_mean(X, P)}$\"))\n",
    "display(Latex(f\"$\\sigma = {rv_std(X, P)}$\"))"
   ]
  },
  {
   "cell_type": "markdown",
   "id": "4a05e40e-9786-493b-99cc-1bb2f1536375",
   "metadata": {},
   "source": [
    "---\n",
    "\n",
    "### Example 2: Expected Value & Cumulative\n",
    "\n",
    "Rory has entered The Irish Gunman’s Open. In The Irish Gunman’s Open, Rory will hit golf balls at targets. If he hits the target, he will advance to the next stage, and if he misses the target, Rory will exit The Open. The Open consists of $4$ possible stages.\n",
    "\n",
    "If the best stage Rory completes is the second stage, he will win $100$ euros. If the best stage Rory completes is the third stage, Rory will win a total of $300$ euros. If he can complete all $4$ stages, he will win a total of $1000$ euros.\n",
    "\n",
    "Because each stage gets progressively more difficult, the probability of Rory hitting the targets decreases. The probability of Rory hitting each target given that he has reached that stage is given in the data table below.\n",
    "\n",
    "**What is the expected value of Rory's prize money from The Irish Gunman's Open?**  \n",
    "Round your answer to the nearest hundredth."
   ]
  },
  {
   "cell_type": "code",
   "execution_count": 13,
   "id": "5abe585c-f298-40db-a0e7-a2c0eb4155d7",
   "metadata": {},
   "outputs": [
    {
     "data": {
      "text/html": [
       "<div>\n",
       "<style scoped>\n",
       "    .dataframe tbody tr th:only-of-type {\n",
       "        vertical-align: middle;\n",
       "    }\n",
       "\n",
       "    .dataframe tbody tr th {\n",
       "        vertical-align: top;\n",
       "    }\n",
       "\n",
       "    .dataframe thead th {\n",
       "        text-align: right;\n",
       "    }\n",
       "</style>\n",
       "<table border=\"1\" class=\"dataframe\">\n",
       "  <thead>\n",
       "    <tr style=\"text-align: right;\">\n",
       "      <th></th>\n",
       "      <th>Stage</th>\n",
       "      <th>Probability</th>\n",
       "      <th>Prize</th>\n",
       "    </tr>\n",
       "  </thead>\n",
       "  <tbody>\n",
       "    <tr>\n",
       "      <th>0</th>\n",
       "      <td>1</td>\n",
       "      <td>0.6</td>\n",
       "      <td>0</td>\n",
       "    </tr>\n",
       "    <tr>\n",
       "      <th>1</th>\n",
       "      <td>2</td>\n",
       "      <td>0.5</td>\n",
       "      <td>100</td>\n",
       "    </tr>\n",
       "    <tr>\n",
       "      <th>2</th>\n",
       "      <td>3</td>\n",
       "      <td>0.4</td>\n",
       "      <td>300</td>\n",
       "    </tr>\n",
       "    <tr>\n",
       "      <th>3</th>\n",
       "      <td>4</td>\n",
       "      <td>0.3</td>\n",
       "      <td>1000</td>\n",
       "    </tr>\n",
       "  </tbody>\n",
       "</table>\n",
       "</div>"
      ],
      "text/plain": [
       "   Stage  Probability  Prize\n",
       "0      1          0.6      0\n",
       "1      2          0.5    100\n",
       "2      3          0.4    300\n",
       "3      4          0.3   1000"
      ]
     },
     "execution_count": 13,
     "metadata": {},
     "output_type": "execute_result"
    }
   ],
   "source": [
    "stage = np.array([1, 2, 3, 4])\n",
    "probability = np.array([.6, .5, .4, .3])\n",
    "prize = np.array([0, 100, 300, 1000])\n",
    "\n",
    "df = pd.DataFrame({'Stage': stage, 'Probability': probability, 'Prize': prize})\n",
    "df"
   ]
  },
  {
   "cell_type": "code",
   "execution_count": 14,
   "id": "1650907f-57fb-4bcf-afc0-fd24c3521d58",
   "metadata": {},
   "outputs": [
    {
     "data": {
      "text/latex": [
       "$E[X] = 79.2$"
      ],
      "text/plain": [
       "<IPython.core.display.Latex object>"
      ]
     },
     "metadata": {},
     "output_type": "display_data"
    }
   ],
   "source": [
    "p4 = 0.6 * 0.5 * 0.4 * 0.3\n",
    "p3 = 0.6 * 0.5 * 0.4 * 0.7\n",
    "p2 = 0.6 * 0.5 * 0.6\n",
    "p1 = 1 - (p4 + p3 + p2)\n",
    "E = np.sum(np.array([0, 100, 300, 1000]) * np.array([p1, p2, p3, p4]))\n",
    "E = round(E, 2)\n",
    "display(Latex(f\"$E[X] = {E}$\"))"
   ]
  },
  {
   "cell_type": "markdown",
   "id": "6b0f3a79-ad8a-416a-8e7e-b1a79db3802c",
   "metadata": {
    "tags": []
   },
   "source": [
    "---\n",
    "\n",
    "### Example 3: Exptected Value - Combs\n",
    "\n",
    "Vera has challenged Alexey to a round of Marker Mixup. Marker Mixup is a game where there is a bag of $5$ red markers numbered $1$ through $5$, and another bag with $5$ green markers numbered $6$ through $10$.\n",
    "\n",
    "Alexey will grab $1$ marker from each bag, and if the $2$ markers add up to more than $12$, he will win $\\$5$. If the sum is exactly $12$, he will break even, and If the sum is less than $12$, he will lose $\\$6$.\n",
    "\n",
    "**What is Alexey's expected value of playing Marker Mixup?**  \n",
    "Round your answer to the nearest cent."
   ]
  },
  {
   "cell_type": "code",
   "execution_count": 15,
   "id": "c0350976-997d-4ed4-9838-4bd0915a05b5",
   "metadata": {},
   "outputs": [],
   "source": [
    "import itertools\n",
    "from itertools import product"
   ]
  },
  {
   "cell_type": "code",
   "execution_count": 16,
   "id": "ed9b1bf7-f264-4250-8f63-12d7ca4a2539",
   "metadata": {},
   "outputs": [],
   "source": [
    "red = [1, 2, 3, 4, 5]\n",
    "green = [6, 7, 8, 9, 10]"
   ]
  },
  {
   "cell_type": "code",
   "execution_count": 17,
   "id": "47e7c715-4918-4f55-b773-600f9e6873ea",
   "metadata": {},
   "outputs": [
    {
     "data": {
      "text/plain": [
       "array([[ 1,  6],\n",
       "       [ 1,  7],\n",
       "       [ 1,  8],\n",
       "       [ 1,  9],\n",
       "       [ 1, 10],\n",
       "       [ 2,  6],\n",
       "       [ 2,  7],\n",
       "       [ 2,  8],\n",
       "       [ 2,  9],\n",
       "       [ 2, 10],\n",
       "       [ 3,  6],\n",
       "       [ 3,  7],\n",
       "       [ 3,  8],\n",
       "       [ 3,  9],\n",
       "       [ 3, 10],\n",
       "       [ 4,  6],\n",
       "       [ 4,  7],\n",
       "       [ 4,  8],\n",
       "       [ 4,  9],\n",
       "       [ 4, 10],\n",
       "       [ 5,  6],\n",
       "       [ 5,  7],\n",
       "       [ 5,  8],\n",
       "       [ 5,  9],\n",
       "       [ 5, 10]])"
      ]
     },
     "execution_count": 17,
     "metadata": {},
     "output_type": "execute_result"
    }
   ],
   "source": [
    "combs = np.array(list(product(red, green)))\n",
    "combs"
   ]
  },
  {
   "cell_type": "code",
   "execution_count": 18,
   "id": "59747e25-0f42-412b-a96a-67cf2bef146c",
   "metadata": {},
   "outputs": [
    {
     "name": "stdout",
     "output_type": "stream",
     "text": [
      "0.24\n",
      "0.16\n",
      "0.6\n"
     ]
    }
   ],
   "source": [
    "p_more_than_12 = np.sum(np.sum(combs, axis=1) > 12) / len(combs)\n",
    "p_equal_to_12 = np.sum(np.sum(combs, axis=1) == 12) / len(combs)\n",
    "p_less_than_12 = np.sum(np.sum(combs, axis=1) < 12) / len(combs)\n",
    "print(p_more_than_12)\n",
    "print(p_equal_to_12)\n",
    "print(p_less_than_12)"
   ]
  },
  {
   "cell_type": "code",
   "execution_count": 19,
   "id": "a24e568a-c939-463d-9117-5df494b2639a",
   "metadata": {},
   "outputs": [
    {
     "data": {
      "text/latex": [
       "$E[X] = -2.4$"
      ],
      "text/plain": [
       "<IPython.core.display.Latex object>"
      ]
     },
     "metadata": {},
     "output_type": "display_data"
    }
   ],
   "source": [
    "E = p_more_than_12 * 5 + p_equal_to_12 * 0 + p_less_than_12 * -6\n",
    "E = round(E, 2)\n",
    "display(Latex(f\"$E[X] = {E}$\"))"
   ]
  },
  {
   "cell_type": "markdown",
   "id": "f438e1c6-0233-405e-aba4-f947dec53833",
   "metadata": {},
   "source": [
    "---\n",
    "\n",
    "# Continuous random variables"
   ]
  },
  {
   "cell_type": "markdown",
   "id": "2bb152b6-e002-418c-bb20-c5d2d427b3aa",
   "metadata": {},
   "source": [
    "---\n",
    "\n",
    "## Probability in density curves"
   ]
  },
  {
   "cell_type": "markdown",
   "id": "5b68fa16-70df-48d0-a60a-6276a08b38af",
   "metadata": {},
   "source": [
    "---\n",
    "\n",
    "### Example 1\n",
    "\n",
    "Consider the density curve below."
   ]
  },
  {
   "cell_type": "code",
   "execution_count": 20,
   "id": "d650f065-bfad-42f5-ba13-efb4d30b01df",
   "metadata": {},
   "outputs": [
    {
     "data": {
      "image/png": "[encoded data removed]",
      "text/plain": [
       "<Figure size 432x288 with 1 Axes>"
      ]
     },
     "metadata": {
      "needs_background": "light"
     },
     "output_type": "display_data"
    }
   ],
   "source": [
    "x = np.arange(0, 7)\n",
    "y = np.array([0, 0.1, 0.2, 0.2, 0.2, 0.2, 0.2])\n",
    "\n",
    "plt.plot(x, y)\n",
    "plt.xlim(0, 7)\n",
    "plt.ylim(0, 0.3)\n",
    "plt.grid();"
   ]
  },
  {
   "cell_type": "markdown",
   "id": "329549d2-3a78-42b5-badf-cae1140c03ce",
   "metadata": {},
   "source": [
    "**Find the probability that $x$ is less than $2$.**"
   ]
  },
  {
   "cell_type": "markdown",
   "id": "a9436127-fc5a-4ccd-85f5-886d300647d2",
   "metadata": {},
   "source": [
    "$\\displaystyle P(x < 2) = \\frac{2 \\cdot 0.2}{2} = 0.2$"
   ]
  },
  {
   "cell_type": "markdown",
   "id": "48437080-6e80-43d9-9dcf-7484245c33bd",
   "metadata": {},
   "source": [
    "---\n",
    "\n",
    "## Probability in normal density curves\n",
    "\n",
    "See also [Normal Distribution](./normal_distribution.ipynb)"
   ]
  },
  {
   "cell_type": "markdown",
   "id": "3e8c8ccb-ea38-448d-9b50-5e34ff4f76de",
   "metadata": {},
   "source": [
    "---\n",
    "\n",
    "### Example 1\n",
    "\n",
    "A fuel pump at a gasoline station doesn't always dispense the exact amount displayed on the meter. When the meter reads $1.000\\text{ L}$, the amount of fuel a certain pump dispenses is normally distributed with a mean of $1\\text{ L}$ and standard deviation of $0.05\\text{ L}$. Let $X=$ the amount dispensed in a random trial when the meter reads $1.000\\text{ L}$.\n",
    "\n",
    "**Find $P(X<1)$.**"
   ]
  },
  {
   "cell_type": "code",
   "execution_count": 21,
   "id": "03c62fb5-24d1-421e-8829-91c1a29fc66a",
   "metadata": {},
   "outputs": [
    {
     "data": {
      "text/latex": [
       "$P(X \\leq 1)=0.5$"
      ],
      "text/plain": [
       "<IPython.core.display.Latex object>"
      ]
     },
     "metadata": {},
     "output_type": "display_data"
    }
   ],
   "source": [
    "# probability below a value\n",
    "dp, mu, sd = 1, 1, 0.05\n",
    "precision = 2\n",
    "prob = NormalDist(mu=mu, sigma=sd).cdf(x=dp)\n",
    "prob = round(prob, precision)\n",
    "display(Latex(f\"$P(X \\leq {dp})={prob}$\"))"
   ]
  },
  {
   "cell_type": "markdown",
   "id": "39edba8f-3e0c-40b2-aeb3-679b3705800b",
   "metadata": {},
   "source": [
    "---\n",
    "\n",
    "# Transforming random variables"
   ]
  },
  {
   "cell_type": "markdown",
   "id": "8f2f75b6-f619-4474-9027-13b100c19748",
   "metadata": {},
   "source": [
    "---\n",
    "\n",
    "## Transforming random variables\n",
    "\n",
    "See [Modeling data distributions](./modeling_data_distributions.ipynb): Effects on linear transformations"
   ]
  },
  {
   "cell_type": "markdown",
   "id": "15453d60-82dc-4aa6-bff1-23dce8affde1",
   "metadata": {},
   "source": [
    "---\n",
    "\n",
    "### Example 1\n",
    "\n",
    "Mr. Gupta gave his students a quiz with three questions on it. Let $X$ represent the number of questions that a randomly chosen student answered correctly. Here is the probability distribution of $X$ along with summary statistics:\n",
    "\n",
    "|X = # correct|0|1|2|3|\n",
    "|:-:|:-:|:-:|:-:|:-:|\n",
    "|P(X)|0.05|0.20|0.50|0.25|\n",
    "\n",
    "- Mean: $\\mu_X = 1.95$\n",
    "- SD: $\\sigma_X \\approx 0.8$\n",
    "\n",
    "Mr. Gupta decides to score the tests by giving $10$ points for each correct question. He also plans to give every student $5$ additional bonus points. Let $Y$ represent a random student's score.\n",
    "\n",
    "**What are the mean and standard deviation of $Y$?**"
   ]
  },
  {
   "cell_type": "code",
   "execution_count": 22,
   "id": "d8f87e01-d957-4182-9692-fd1b3502464f",
   "metadata": {},
   "outputs": [
    {
     "data": {
      "text/latex": [
       "$\\displaystyle \\mu_Y = 1.95 \\cdot 10 + 5 = 24.5$"
      ],
      "text/plain": [
       "<IPython.core.display.Latex object>"
      ]
     },
     "metadata": {},
     "output_type": "display_data"
    },
    {
     "data": {
      "text/latex": [
       "$\\displaystyle \\sigma_Y = 0.8 \\cdot 10 = 8.0$"
      ],
      "text/plain": [
       "<IPython.core.display.Latex object>"
      ]
     },
     "metadata": {},
     "output_type": "display_data"
    }
   ],
   "source": [
    "display(Latex(f\"$\\displaystyle \\mu_Y = 1.95 \\cdot 10 + 5 = {1.95 * 10 + 5}$\"))\n",
    "display(Latex(f\"$\\displaystyle \\sigma_Y = 0.8 \\cdot 10 = {0.8 * 10}$\"))"
   ]
  },
  {
   "cell_type": "markdown",
   "id": "8f256bf6-a3c9-4898-bc68-69be5196d43e",
   "metadata": {},
   "source": [
    "---\n",
    "\n",
    "# Combining random variables\n",
    "\n",
    "> [Combining random variables](https://www.khanacademy.org/math/statistics-probability/random-variables-stats-library/combine-random-variables/a/combining-random-variables-article)\n",
    "\n",
    "We can form new distributions by combining random variables. If we know the mean and standard deviation of the original distributions, we can use that information to find the mean and standard deviation of the resulting distribution.\n",
    "\n",
    "We can combine means directly, but we can't do this with standard deviations. We can combine variances as long as it's reasonable to assume that the variables are independent.\n",
    "\n",
    "- $E[X+Y] = E[X] + E[Y]$, $E[X-Y] = E[X] - E[Y]$\n",
    "- $Var[X+Y] = Var[X] + Var[Y]$, $Var[X-Y] = Var[X] + Var[Y]$\n",
    "\n",
    "- Make sure that the variables are **independent** or that it's reasonable to assume independence, before combining variances.\n",
    "- **Even when we subtract two random variables, we still add their variances**; subtracting two variables increases the overall variability in the outcomes.\n",
    "- We can find the standard deviation of the combined distributions by taking the square root of the combined variances."
   ]
  },
  {
   "cell_type": "markdown",
   "id": "327af0cb-468f-4bfb-89df-61fdf5b39c54",
   "metadata": {},
   "source": [
    "---\n",
    "\n",
    "## Combining random variables"
   ]
  },
  {
   "cell_type": "markdown",
   "id": "3391a99a-bfcc-4721-b6cf-e0823e8857df",
   "metadata": {},
   "source": [
    "---\n",
    "\n",
    "### Example 1\n",
    "\n",
    "A factory process requires $3$ steps to finish a product. The steps each have a mean completion time of $\\mu=10$ and a standard deviation of $\\sigma=5$. The time it takes to complete each step is independent from the other steps. Let $T$ be the total completion time for the $3$ steps.\n",
    "\n",
    "**Find the standard deviation of $T$.**"
   ]
  },
  {
   "cell_type": "code",
   "execution_count": 23,
   "id": "bd63736e-c272-4936-87f7-08042914172d",
   "metadata": {},
   "outputs": [
    {
     "data": {
      "text/latex": [
       "$\\sigma_{T} = \\sqrt{5^{2} \\cdot 3} = \\sqrt{75}$"
      ],
      "text/plain": [
       "<IPython.core.display.Latex object>"
      ]
     },
     "metadata": {},
     "output_type": "display_data"
    }
   ],
   "source": [
    "display(Latex(\"$\\sigma_{T} = \\sqrt{5^{2} \\cdot 3} = \\sqrt{75}$\"))"
   ]
  },
  {
   "cell_type": "markdown",
   "id": "13417af4-d7ac-40bf-a1cf-7db5f50b7a81",
   "metadata": {},
   "source": [
    "---\n",
    "\n",
    "## Combining normal random variables\n",
    "\n",
    "> [Combining normal random variables](https://www.khanacademy.org/math/statistics-probability/random-variables-stats-library/combine-random-variables/a/combining-normal-random-variables)\n",
    "\n",
    "When we combine variables that each follow a normal distribution, the resulting distribution is also normally distributed. This lets us answer interesting questions about the resulting distribution."
   ]
  },
  {
   "cell_type": "markdown",
   "id": "9941c73a-42f2-4826-a28f-0cb269006b9f",
   "metadata": {},
   "source": [
    "Review module `norm_rv`, click [here](utils/norm/norm_rv.py)."
   ]
  },
  {
   "cell_type": "markdown",
   "id": "bdb21fcd-9b9b-4242-906a-e715a14d44b6",
   "metadata": {},
   "source": [
    "---\n",
    "\n",
    "### Example 1: Total\n",
    "\n",
    "A carnival ride has cars that each hold $4$ adult passengers. The weights of the passengers for this ride are normally distributed with a mean of $65 \\text{ kg}$ and a standard deviation of $12 \\text{ kg}$. Assume that the weights of passengers are independent from each other.\n",
    "\n",
    "Let $T =$ the total weight of $4$ selected adult passengers for this ride.\n",
    "\n",
    "**Find the probability that the total weight exceeds $290 \\text{ kg}$.**  \n",
    "_You may round your answer to two decimal places._"
   ]
  },
  {
   "cell_type": "code",
   "execution_count": 24,
   "id": "84b3b4f8-9337-4ffb-b6f2-4c5d1f29a8a0",
   "metadata": {},
   "outputs": [
    {
     "data": {
      "text/latex": [
       "$P(T > 1) = 0.11$"
      ],
      "text/plain": [
       "<IPython.core.display.Latex object>"
      ]
     },
     "metadata": {},
     "output_type": "display_data"
    }
   ],
   "source": [
    "# probability above a value\n",
    "mu, sd, n = 65, 12, 4\n",
    "dps = 290\n",
    "mus = mu * n\n",
    "sds = (sd**2 * n)**0.5\n",
    "\n",
    "precision = 2\n",
    "prob = 1 - NormalDist(mu=mus, sigma=sds).cdf(x=dps)\n",
    "prob = round(prob, precision)\n",
    "display(Latex(f\"$P(T > {dp}) = {prob}$\"))"
   ]
  },
  {
   "cell_type": "markdown",
   "id": "9c8f44d7-4e8f-4b5b-afcc-c2563db5df97",
   "metadata": {},
   "source": [
    "---\n",
    "\n",
    "### Example 2: Difference\n",
    "\n",
    "Some nations require their students to pass an exam before earning their primary school degrees or diplomas. A certain nation gives students an exam whose scores are normally distributed with a mean of $41$ points and a standard deviation of $9$ points.\n",
    "\n",
    "Suppose we select $2$ of these testers at random, and define the random variable $D$ as the difference between their scores. We can assume that their scores are independent.\n",
    "\n",
    "**Find the probability that their scores are within $10$ points of each other.**  \n",
    "_You may round your answer to two decimal places._"
   ]
  },
  {
   "cell_type": "code",
   "execution_count": 25,
   "id": "fcb220ec-ac12-4e0c-b9ae-66696f9ed3e8",
   "metadata": {},
   "outputs": [
    {
     "data": {
      "text/latex": [
       "$P(-10 < D \\leq 10) = 0.57$"
      ],
      "text/plain": [
       "<IPython.core.display.Latex object>"
      ]
     },
     "metadata": {},
     "output_type": "display_data"
    }
   ],
   "source": [
    "# probability between a value\n",
    "dp1, dp2 = -10, 10\n",
    "mu1, mu2, sd1, sd2 = 41, 41, 9, 9\n",
    "mus = mu1 - mu2\n",
    "sds = (sd1**2 + sd2**2)**0.5\n",
    "\n",
    "precision = 2\n",
    "p1 = NormalDist(mu=mus, sigma=sds).cdf(x=dp1)\n",
    "p2 = 1 - NormalDist(mu=mus, sigma=sds).cdf(x=dp2)\n",
    "prob = 1 - (p1 + p2)\n",
    "prob = round(prob, precision)\n",
    "display(Latex(f\"$P({dp1} < D \\leq {dp2}) = {prob}$\"))"
   ]
  },
  {
   "cell_type": "markdown",
   "id": "ca866185-3124-4ece-8463-d2374d699e35",
   "metadata": {},
   "source": [
    "---\n",
    "\n",
    "### Example 3: Total\n",
    "\n",
    "A breakfast cereal producer makes its most popular product by combining just raisins and flakes in each box of cereal. The amounts of flakes in the boxes of this cereal are normally distributed with a mean of $370\\text{ g}$ and a standard deviation of $24\\text{ g}$. The amounts of raisins are also normally distributed with a mean of $170\\text{ g}$ and a standard deviation of $7\\text{ g}$.\n",
    "\n",
    "Let $T =$ the total amount of product in a randomly selected box, and assume that the amounts of flakes and raisins are independent of each other.\n",
    "\n",
    "**Find the probability that the total amount of product exceeds $515\\text{ g}$.**  \n",
    "_You may round your answer to two decimal places._"
   ]
  },
  {
   "cell_type": "code",
   "execution_count": 26,
   "id": "851ac0e6-f0bc-4c85-9338-289d4b464371",
   "metadata": {},
   "outputs": [
    {
     "data": {
      "text/latex": [
       "$P(T > 515) = 0.84$"
      ],
      "text/plain": [
       "<IPython.core.display.Latex object>"
      ]
     },
     "metadata": {},
     "output_type": "display_data"
    }
   ],
   "source": [
    "# probability above a value\n",
    "dp = 515\n",
    "mu1, mu2, sd1, sd2 = 370, 170, 24, 7\n",
    "mus = mu1 + mu2\n",
    "sds = (sd1**2 + sd2**2)**0.5\n",
    "\n",
    "precision = 2\n",
    "prob = 1 - NormalDist(mu=mus, sigma=sds).cdf(x=dp)\n",
    "prob = round(prob, precision)\n",
    "display(Latex(f\"$P(T > {dp}) = {prob}$\"))"
   ]
  },
  {
   "cell_type": "markdown",
   "id": "7a84a62e-c196-4adb-be20-5916c81b35cc",
   "metadata": {},
   "source": [
    "---\n",
    "\n",
    "### Example 4: Difference\n",
    "\n",
    "Suppose that populations of men and women have the following summary statistics for their heights (in centimeters):\n",
    "\n",
    "- Men: $\\mu_M=172$, $\\sigma_M=7.2$\n",
    "- Women: $\\mu_W=162$, $\\sigma_W=5.4$\n",
    "\n",
    "Both distributions are approximately normal. Suppose we randomly select a man and a woman from each population, and calculate the difference between their heights. We can assume that their heights are independent.\n",
    "\n",
    "**Find the probability that the woman is taller than the man.**  \n",
    "_You may round your answer to two decimal places._"
   ]
  },
  {
   "cell_type": "code",
   "execution_count": 27,
   "id": "20e4d0cb-9ba8-4bba-b809-307ed8997e31",
   "metadata": {},
   "outputs": [
    {
     "data": {
      "text/latex": [
       "$P(D \\leq 0) = 0.13$"
      ],
      "text/plain": [
       "<IPython.core.display.Latex object>"
      ]
     },
     "metadata": {},
     "output_type": "display_data"
    }
   ],
   "source": [
    "# probability bellow a value\n",
    "dp = 0\n",
    "mu1, mu2, sd1, sd2 = 172, 162, 7.2, 5.4\n",
    "mus = mu1 - mu2\n",
    "sds = (sd1**2 + sd2**2)**0.5\n",
    "\n",
    "# The probabilty that the woman is taller than the man is equal to\n",
    "# the tall distance between the man and the woman is 0\n",
    "precision = 2\n",
    "prob = NormalDist(mu=mus, sigma=sds).cdf(x=dp)\n",
    "prob = round(prob, precision)\n",
    "display(Latex(f\"$P(D \\leq {dp}) = {prob}$\"))"
   ]
  },
  {
   "cell_type": "markdown",
   "id": "0bcbe9ac-5d6d-420c-8230-bbec477a66f7",
   "metadata": {
    "tags": []
   },
   "source": [
    "---\n",
    "\n",
    "# Binomial Random Variables\n",
    "\n",
    "See [Binomial Random Variables](./binomial.ipynb)\n",
    "\n",
    "Also include:\n",
    "- [Bernoulli Random Variables](./binomial.ipynb)\n",
    "- [Geometric Random Variables](./binomial.ipynb)\n",
    "- [Poisson Random Variables](./binomial.ipynb)"
   ]
  },
  {
   "cell_type": "markdown",
   "id": "828200ba-dde1-4c7d-b875-0913484f071e",
   "metadata": {},
   "source": [
    "---\n",
    "\n",
    "# Normal Random Variables\n",
    "\n",
    "See [Normal Random Variables](./normal.ipynb)"
   ]
  },
  {
   "cell_type": "markdown",
   "id": "98523bbc-faee-46e1-bd31-d95c22776eb2",
   "metadata": {},
   "source": [
    "---\n",
    "\n",
    "# More on expected value"
   ]
  },
  {
   "cell_type": "markdown",
   "id": "66acb9b7-4bd1-40c4-86db-b7002bf1a2f1",
   "metadata": {},
   "source": [
    "---\n",
    "\n",
    "## Expected value with empirical probabilities"
   ]
  },
  {
   "cell_type": "markdown",
   "id": "8e9c9b29-2d33-4ba7-ad1c-efd3506a5024",
   "metadata": {},
   "source": [
    "---\n",
    "\n",
    "### Example 1"
   ]
  },
  {
   "cell_type": "markdown",
   "id": "1cd288dc-2b84-42fb-aa25-5cbc575fe701",
   "metadata": {},
   "source": [
    "Benji is working to get a job but isn't sure how much he will be able to make. He visited a job search website with thousands of listings and documented a random selection of $50$ jobs at $5$ different starting salary levels. The data he recorded is in the table below.\n",
    "\n",
    "**Assuming that jobs continue to be listed in the same starting salary proportions, which of the following statements are true?**"
   ]
  },
  {
   "cell_type": "code",
   "execution_count": 28,
   "id": "0f84f57b-81cf-4ab3-a05e-4ff38b8c55c9",
   "metadata": {},
   "outputs": [
    {
     "data": {
      "text/html": [
       "<div>\n",
       "<style scoped>\n",
       "    .dataframe tbody tr th:only-of-type {\n",
       "        vertical-align: middle;\n",
       "    }\n",
       "\n",
       "    .dataframe tbody tr th {\n",
       "        vertical-align: top;\n",
       "    }\n",
       "\n",
       "    .dataframe thead th {\n",
       "        text-align: right;\n",
       "    }\n",
       "</style>\n",
       "<table border=\"1\" class=\"dataframe\">\n",
       "  <thead>\n",
       "    <tr style=\"text-align: right;\">\n",
       "      <th></th>\n",
       "      <th>Starting salary</th>\n",
       "      <th>Job listed</th>\n",
       "    </tr>\n",
       "  </thead>\n",
       "  <tbody>\n",
       "    <tr>\n",
       "      <th>0</th>\n",
       "      <td>30000</td>\n",
       "      <td>19</td>\n",
       "    </tr>\n",
       "    <tr>\n",
       "      <th>1</th>\n",
       "      <td>40000</td>\n",
       "      <td>2</td>\n",
       "    </tr>\n",
       "    <tr>\n",
       "      <th>2</th>\n",
       "      <td>50000</td>\n",
       "      <td>6</td>\n",
       "    </tr>\n",
       "    <tr>\n",
       "      <th>3</th>\n",
       "      <td>60000</td>\n",
       "      <td>17</td>\n",
       "    </tr>\n",
       "    <tr>\n",
       "      <th>4</th>\n",
       "      <td>70000</td>\n",
       "      <td>6</td>\n",
       "    </tr>\n",
       "  </tbody>\n",
       "</table>\n",
       "</div>"
      ],
      "text/plain": [
       "   Starting salary  Job listed\n",
       "0            30000          19\n",
       "1            40000           2\n",
       "2            50000           6\n",
       "3            60000          17\n",
       "4            70000           6"
      ]
     },
     "execution_count": 28,
     "metadata": {},
     "output_type": "execute_result"
    }
   ],
   "source": [
    "df = pd.DataFrame({\n",
    "    \"Starting salary\": [30_000, 40_000, 50_000, 60_000, 70_000],\n",
    "    \"Job listed\": [19, 2, 6, 17, 6]\n",
    "})\n",
    "df"
   ]
  },
  {
   "cell_type": "code",
   "execution_count": 29,
   "id": "67690bf9-2e57-44ef-a9f3-af4ec0083b5c",
   "metadata": {},
   "outputs": [
    {
     "data": {
      "text/html": [
       "<div>\n",
       "<style scoped>\n",
       "    .dataframe tbody tr th:only-of-type {\n",
       "        vertical-align: middle;\n",
       "    }\n",
       "\n",
       "    .dataframe tbody tr th {\n",
       "        vertical-align: top;\n",
       "    }\n",
       "\n",
       "    .dataframe thead th {\n",
       "        text-align: right;\n",
       "    }\n",
       "</style>\n",
       "<table border=\"1\" class=\"dataframe\">\n",
       "  <thead>\n",
       "    <tr style=\"text-align: right;\">\n",
       "      <th></th>\n",
       "      <th>Starting salary</th>\n",
       "      <th>Job listed</th>\n",
       "      <th>P(x)</th>\n",
       "    </tr>\n",
       "  </thead>\n",
       "  <tbody>\n",
       "    <tr>\n",
       "      <th>0</th>\n",
       "      <td>30000</td>\n",
       "      <td>19</td>\n",
       "      <td>0.38</td>\n",
       "    </tr>\n",
       "    <tr>\n",
       "      <th>1</th>\n",
       "      <td>40000</td>\n",
       "      <td>2</td>\n",
       "      <td>0.04</td>\n",
       "    </tr>\n",
       "    <tr>\n",
       "      <th>2</th>\n",
       "      <td>50000</td>\n",
       "      <td>6</td>\n",
       "      <td>0.12</td>\n",
       "    </tr>\n",
       "    <tr>\n",
       "      <th>3</th>\n",
       "      <td>60000</td>\n",
       "      <td>17</td>\n",
       "      <td>0.34</td>\n",
       "    </tr>\n",
       "    <tr>\n",
       "      <th>4</th>\n",
       "      <td>70000</td>\n",
       "      <td>6</td>\n",
       "      <td>0.12</td>\n",
       "    </tr>\n",
       "  </tbody>\n",
       "</table>\n",
       "</div>"
      ],
      "text/plain": [
       "   Starting salary  Job listed  P(x)\n",
       "0            30000          19  0.38\n",
       "1            40000           2  0.04\n",
       "2            50000           6  0.12\n",
       "3            60000          17  0.34\n",
       "4            70000           6  0.12"
      ]
     },
     "execution_count": 29,
     "metadata": {},
     "output_type": "execute_result"
    }
   ],
   "source": [
    "df['P(x)'] = df['Job listed'] / df['Job listed'].sum()\n",
    "df"
   ]
  },
  {
   "cell_type": "code",
   "execution_count": 30,
   "id": "d7a1b276-da3b-4654-a4cf-4c85f5adc37b",
   "metadata": {},
   "outputs": [
    {
     "data": {
      "text/latex": [
       "$E[X] = 47800.0$"
      ],
      "text/plain": [
       "<IPython.core.display.Latex object>"
      ]
     },
     "metadata": {},
     "output_type": "display_data"
    }
   ],
   "source": [
    "display(Latex(f\"$E[X] = {sum(df['Starting salary'] * df['P(x)'])}$\"))"
   ]
  },
  {
   "cell_type": "markdown",
   "id": "1b2e4539-20a1-43bb-8a45-928011751093",
   "metadata": {},
   "source": [
    "- If Benji were randomly selecting jobs off of this job board, in the long run he should expect to find the same number of jobs with a starting salary of $\\$50{,}000$ as jobs with a starting salary of $\\$70{,}000$.\n",
    "- The most likely starting salary of a randomly selected job off of this job board is $\\$30{,}000$."
   ]
  },
  {
   "cell_type": "markdown",
   "id": "69e6b7b6-7d9b-4c04-9058-a11afe5b1d18",
   "metadata": {},
   "source": [
    "---\n",
    "\n",
    "## Expected value with calculated probabilities"
   ]
  },
  {
   "cell_type": "markdown",
   "id": "40703179-1cbb-44f4-a4a3-4d041be93f0b",
   "metadata": {},
   "source": [
    "---\n",
    "\n",
    "### Example 1\n",
    "\n",
    "Marvin the monkey is taking a multiple choice test as part of an experiment. There are $4$ questions on the test and each question has $2$ different answer choices. Since Marvin is a monkey, he will be guessing on each question.\n",
    "\n",
    "The test is graded according to the grading scheme below.\n",
    "\n",
    "**What is the expected number of points Marvin will score?**"
   ]
  },
  {
   "cell_type": "code",
   "execution_count": 31,
   "id": "3891f335-e766-4d45-b8a1-6f4ca6457224",
   "metadata": {},
   "outputs": [
    {
     "data": {
      "text/html": [
       "<div>\n",
       "<style scoped>\n",
       "    .dataframe tbody tr th:only-of-type {\n",
       "        vertical-align: middle;\n",
       "    }\n",
       "\n",
       "    .dataframe tbody tr th {\n",
       "        vertical-align: top;\n",
       "    }\n",
       "\n",
       "    .dataframe thead th {\n",
       "        text-align: right;\n",
       "    }\n",
       "</style>\n",
       "<table border=\"1\" class=\"dataframe\">\n",
       "  <thead>\n",
       "    <tr style=\"text-align: right;\">\n",
       "      <th></th>\n",
       "      <th>Correct answers</th>\n",
       "      <th>Points</th>\n",
       "    </tr>\n",
       "  </thead>\n",
       "  <tbody>\n",
       "    <tr>\n",
       "      <th>0</th>\n",
       "      <td>0</td>\n",
       "      <td>0</td>\n",
       "    </tr>\n",
       "    <tr>\n",
       "      <th>1</th>\n",
       "      <td>1</td>\n",
       "      <td>3</td>\n",
       "    </tr>\n",
       "    <tr>\n",
       "      <th>2</th>\n",
       "      <td>2</td>\n",
       "      <td>5</td>\n",
       "    </tr>\n",
       "    <tr>\n",
       "      <th>3</th>\n",
       "      <td>3</td>\n",
       "      <td>7</td>\n",
       "    </tr>\n",
       "    <tr>\n",
       "      <th>4</th>\n",
       "      <td>4</td>\n",
       "      <td>10</td>\n",
       "    </tr>\n",
       "  </tbody>\n",
       "</table>\n",
       "</div>"
      ],
      "text/plain": [
       "   Correct answers  Points\n",
       "0                0       0\n",
       "1                1       3\n",
       "2                2       5\n",
       "3                3       7\n",
       "4                4      10"
      ]
     },
     "execution_count": 31,
     "metadata": {},
     "output_type": "execute_result"
    }
   ],
   "source": [
    "df = pd.DataFrame({\n",
    "    \"Correct answers\": [0, 1, 2, 3, 4],\n",
    "    \"Points\": [0, 3, 5, 7, 10]\n",
    "})\n",
    "df"
   ]
  },
  {
   "cell_type": "code",
   "execution_count": 32,
   "id": "d77fab5a-1b59-480a-8fbd-64f9010218ef",
   "metadata": {},
   "outputs": [
    {
     "data": {
      "text/plain": [
       "2.0"
      ]
     },
     "execution_count": 32,
     "metadata": {},
     "output_type": "execute_result"
    }
   ],
   "source": [
    "n, p = 4, 0.5\n",
    "binom.mean(n, p)"
   ]
  },
  {
   "cell_type": "markdown",
   "id": "266db0d7-ee24-4a1d-8c7d-17cbeff6e349",
   "metadata": {},
   "source": [
    "$\\therefore E[X] = 5$"
   ]
  },
  {
   "cell_type": "code",
   "execution_count": 33,
   "id": "8f59807c-6b8c-4c20-8f2c-13d469da9d0d",
   "metadata": {},
   "outputs": [
    {
     "data": {
      "text/html": [
       "<div>\n",
       "<style scoped>\n",
       "    .dataframe tbody tr th:only-of-type {\n",
       "        vertical-align: middle;\n",
       "    }\n",
       "\n",
       "    .dataframe tbody tr th {\n",
       "        vertical-align: top;\n",
       "    }\n",
       "\n",
       "    .dataframe thead th {\n",
       "        text-align: right;\n",
       "    }\n",
       "</style>\n",
       "<table border=\"1\" class=\"dataframe\">\n",
       "  <thead>\n",
       "    <tr style=\"text-align: right;\">\n",
       "      <th></th>\n",
       "      <th>Correct answers</th>\n",
       "      <th>Points</th>\n",
       "      <th>P(X = x)</th>\n",
       "    </tr>\n",
       "  </thead>\n",
       "  <tbody>\n",
       "    <tr>\n",
       "      <th>0</th>\n",
       "      <td>0</td>\n",
       "      <td>0</td>\n",
       "      <td>0.0625</td>\n",
       "    </tr>\n",
       "    <tr>\n",
       "      <th>1</th>\n",
       "      <td>1</td>\n",
       "      <td>3</td>\n",
       "      <td>0.2500</td>\n",
       "    </tr>\n",
       "    <tr>\n",
       "      <th>2</th>\n",
       "      <td>2</td>\n",
       "      <td>5</td>\n",
       "      <td>0.3750</td>\n",
       "    </tr>\n",
       "    <tr>\n",
       "      <th>3</th>\n",
       "      <td>3</td>\n",
       "      <td>7</td>\n",
       "      <td>0.2500</td>\n",
       "    </tr>\n",
       "    <tr>\n",
       "      <th>4</th>\n",
       "      <td>4</td>\n",
       "      <td>10</td>\n",
       "      <td>0.0625</td>\n",
       "    </tr>\n",
       "  </tbody>\n",
       "</table>\n",
       "</div>"
      ],
      "text/plain": [
       "   Correct answers  Points  P(X = x)\n",
       "0                0       0    0.0625\n",
       "1                1       3    0.2500\n",
       "2                2       5    0.3750\n",
       "3                3       7    0.2500\n",
       "4                4      10    0.0625"
      ]
     },
     "execution_count": 33,
     "metadata": {},
     "output_type": "execute_result"
    }
   ],
   "source": [
    "# or you can also calculate the probability for each case\n",
    "df['P(X = x)'] = binom.pmf(df['Correct answers'], n, p)\n",
    "df"
   ]
  },
  {
   "cell_type": "code",
   "execution_count": 34,
   "id": "a65eb430-f6f8-45de-856f-d711a18fb18e",
   "metadata": {},
   "outputs": [
    {
     "data": {
      "text/latex": [
       "$E[X] = 5.0$"
      ],
      "text/plain": [
       "<IPython.core.display.Latex object>"
      ]
     },
     "metadata": {},
     "output_type": "display_data"
    }
   ],
   "source": [
    "display(Latex(f\"$E[X] = {sum(df['P(X = x)'] * df.Points)}$\"))"
   ]
  },
  {
   "cell_type": "markdown",
   "id": "a270ae1d-f70a-4739-a9a5-c1a500be90e8",
   "metadata": {},
   "source": [
    "---\n",
    "\n",
    "## Making decisions with expected values"
   ]
  },
  {
   "cell_type": "markdown",
   "id": "b9b1d4dc-473d-4b1c-80cc-c94304f4dd99",
   "metadata": {},
   "source": [
    "---\n",
    "\n",
    "### Example 1\n",
    "\n",
    "Ming is going on a yearlong fishing trip and is deciding whether to use his big lure or his small lure. His big lure is better at catching trout and larger fish that are worth more, while his small lure catches a larger quantity of fish.\n",
    "\n",
    "Ming performs $80$ experimental casts with each lure. Once he decides which lure to use, he is going to perform $800$ casts with that lure over the next year.\n",
    "\n",
    "The following table shows the average profit for each type of fish depending on which lure Ming uses:"
   ]
  },
  {
   "cell_type": "code",
   "execution_count": 35,
   "id": "79910d94-6c96-4177-a8a0-93e18dcaf2b6",
   "metadata": {},
   "outputs": [
    {
     "data": {
      "text/html": [
       "<div>\n",
       "<style scoped>\n",
       "    .dataframe tbody tr th:only-of-type {\n",
       "        vertical-align: middle;\n",
       "    }\n",
       "\n",
       "    .dataframe tbody tr th {\n",
       "        vertical-align: top;\n",
       "    }\n",
       "\n",
       "    .dataframe thead th {\n",
       "        text-align: right;\n",
       "    }\n",
       "</style>\n",
       "<table border=\"1\" class=\"dataframe\">\n",
       "  <thead>\n",
       "    <tr style=\"text-align: right;\">\n",
       "      <th></th>\n",
       "      <th>Large lure</th>\n",
       "      <th>Small lure</th>\n",
       "    </tr>\n",
       "  </thead>\n",
       "  <tbody>\n",
       "    <tr>\n",
       "      <th>Profit from trout</th>\n",
       "      <td>4</td>\n",
       "      <td>2.0</td>\n",
       "    </tr>\n",
       "    <tr>\n",
       "      <th>Profit from sunfish</th>\n",
       "      <td>2</td>\n",
       "      <td>0.5</td>\n",
       "    </tr>\n",
       "  </tbody>\n",
       "</table>\n",
       "</div>"
      ],
      "text/plain": [
       "                     Large lure  Small lure\n",
       "Profit from trout             4         2.0\n",
       "Profit from sunfish           2         0.5"
      ]
     },
     "execution_count": 35,
     "metadata": {},
     "output_type": "execute_result"
    }
   ],
   "source": [
    "df1 = pd.DataFrame({\"Large lure\": [4, 2],\n",
    "                    \"Small lure\": [2, 0.5]}, \n",
    "                   index=[\"Profit from trout\", \"Profit from sunfish\"])\n",
    "df1"
   ]
  },
  {
   "cell_type": "code",
   "execution_count": 36,
   "id": "833de357-d3d0-4de7-942e-24c55775b124",
   "metadata": {},
   "outputs": [
    {
     "data": {
      "text/html": [
       "<div>\n",
       "<style scoped>\n",
       "    .dataframe tbody tr th:only-of-type {\n",
       "        vertical-align: middle;\n",
       "    }\n",
       "\n",
       "    .dataframe tbody tr th {\n",
       "        vertical-align: top;\n",
       "    }\n",
       "\n",
       "    .dataframe thead th {\n",
       "        text-align: right;\n",
       "    }\n",
       "</style>\n",
       "<table border=\"1\" class=\"dataframe\">\n",
       "  <thead>\n",
       "    <tr style=\"text-align: right;\">\n",
       "      <th></th>\n",
       "      <th>Large lure</th>\n",
       "      <th>Small lure</th>\n",
       "    </tr>\n",
       "  </thead>\n",
       "  <tbody>\n",
       "    <tr>\n",
       "      <th>Profit from trout</th>\n",
       "      <td>4.0</td>\n",
       "      <td>2.0</td>\n",
       "    </tr>\n",
       "    <tr>\n",
       "      <th>Profit from sunfish</th>\n",
       "      <td>2.0</td>\n",
       "      <td>0.5</td>\n",
       "    </tr>\n",
       "    <tr>\n",
       "      <th>No fish</th>\n",
       "      <td>0.0</td>\n",
       "      <td>0.0</td>\n",
       "    </tr>\n",
       "  </tbody>\n",
       "</table>\n",
       "</div>"
      ],
      "text/plain": [
       "                     Large lure  Small lure\n",
       "Profit from trout           4.0         2.0\n",
       "Profit from sunfish         2.0         0.5\n",
       "No fish                     0.0         0.0"
      ]
     },
     "execution_count": 36,
     "metadata": {},
     "output_type": "execute_result"
    }
   ],
   "source": [
    "df1.loc[2, :] = [0, 0] # add no fish\n",
    "df1.index = [\"Profit from trout\", \"Profit from sunfish\", \"No fish\"] # add No fish to index\n",
    "df1"
   ]
  },
  {
   "cell_type": "code",
   "execution_count": 37,
   "id": "90ca0514-3cd6-48f7-bda3-5ceb58a93cf5",
   "metadata": {},
   "outputs": [
    {
     "data": {
      "text/html": [
       "<div>\n",
       "<style scoped>\n",
       "    .dataframe tbody tr th:only-of-type {\n",
       "        vertical-align: middle;\n",
       "    }\n",
       "\n",
       "    .dataframe tbody tr th {\n",
       "        vertical-align: top;\n",
       "    }\n",
       "\n",
       "    .dataframe thead th {\n",
       "        text-align: right;\n",
       "    }\n",
       "</style>\n",
       "<table border=\"1\" class=\"dataframe\">\n",
       "  <thead>\n",
       "    <tr style=\"text-align: right;\">\n",
       "      <th></th>\n",
       "      <th>Large lure</th>\n",
       "      <th>Small lure</th>\n",
       "    </tr>\n",
       "  </thead>\n",
       "  <tbody>\n",
       "    <tr>\n",
       "      <th>Trout</th>\n",
       "      <td>33</td>\n",
       "      <td>9</td>\n",
       "    </tr>\n",
       "    <tr>\n",
       "      <th>Sunfish</th>\n",
       "      <td>8</td>\n",
       "      <td>65</td>\n",
       "    </tr>\n",
       "    <tr>\n",
       "      <th>No fish</th>\n",
       "      <td>39</td>\n",
       "      <td>6</td>\n",
       "    </tr>\n",
       "  </tbody>\n",
       "</table>\n",
       "</div>"
      ],
      "text/plain": [
       "         Large lure  Small lure\n",
       "Trout            33           9\n",
       "Sunfish           8          65\n",
       "No fish          39           6"
      ]
     },
     "execution_count": 37,
     "metadata": {},
     "output_type": "execute_result"
    }
   ],
   "source": [
    "df2 = pd.DataFrame({\"Large lure\": [33, 8, 39],\n",
    "                    \"Small lure\": [9, 65, 6]}, \n",
    "                   index=[\"Trout\", \"Sunfish\", \"No fish\"])\n",
    "df2"
   ]
  },
  {
   "cell_type": "markdown",
   "id": "ebfb5a7b-7517-4adc-b485-9c9bae41b81d",
   "metadata": {},
   "source": [
    "**What is Ming's expected profit if he casts with the large lure?**"
   ]
  },
  {
   "cell_type": "code",
   "execution_count": 38,
   "id": "0080e65d-3b1c-4363-8add-bfcb67f734f9",
   "metadata": {},
   "outputs": [
    {
     "data": {
      "text/html": [
       "<div>\n",
       "<style scoped>\n",
       "    .dataframe tbody tr th:only-of-type {\n",
       "        vertical-align: middle;\n",
       "    }\n",
       "\n",
       "    .dataframe tbody tr th {\n",
       "        vertical-align: top;\n",
       "    }\n",
       "\n",
       "    .dataframe thead th {\n",
       "        text-align: right;\n",
       "    }\n",
       "</style>\n",
       "<table border=\"1\" class=\"dataframe\">\n",
       "  <thead>\n",
       "    <tr style=\"text-align: right;\">\n",
       "      <th></th>\n",
       "      <th>Large lure</th>\n",
       "      <th>Small lure</th>\n",
       "      <th>P(X = x | Large lure)</th>\n",
       "      <th>P(X = x | Small lure)</th>\n",
       "    </tr>\n",
       "  </thead>\n",
       "  <tbody>\n",
       "    <tr>\n",
       "      <th>Trout</th>\n",
       "      <td>33</td>\n",
       "      <td>9</td>\n",
       "      <td>0.4125</td>\n",
       "      <td>0.1125</td>\n",
       "    </tr>\n",
       "    <tr>\n",
       "      <th>Sunfish</th>\n",
       "      <td>8</td>\n",
       "      <td>65</td>\n",
       "      <td>0.1000</td>\n",
       "      <td>0.8125</td>\n",
       "    </tr>\n",
       "    <tr>\n",
       "      <th>No fish</th>\n",
       "      <td>39</td>\n",
       "      <td>6</td>\n",
       "      <td>0.4875</td>\n",
       "      <td>0.0750</td>\n",
       "    </tr>\n",
       "  </tbody>\n",
       "</table>\n",
       "</div>"
      ],
      "text/plain": [
       "         Large lure  Small lure  P(X = x | Large lure)  P(X = x | Small lure)\n",
       "Trout            33           9                 0.4125                 0.1125\n",
       "Sunfish           8          65                 0.1000                 0.8125\n",
       "No fish          39           6                 0.4875                 0.0750"
      ]
     },
     "execution_count": 38,
     "metadata": {},
     "output_type": "execute_result"
    }
   ],
   "source": [
    "df2['P(X = x | Large lure)'] = df2['Large lure'] / df2['Large lure'].sum()\n",
    "df2['P(X = x | Small lure)'] = df2['Small lure'] / df2['Small lure'].sum()\n",
    "df2"
   ]
  },
  {
   "cell_type": "code",
   "execution_count": 39,
   "id": "f1e4c971-5ef4-4fde-ad8c-6702b475dc3c",
   "metadata": {},
   "outputs": [
    {
     "data": {
      "text/latex": [
       "$E[X] = 1480.0$"
      ],
      "text/plain": [
       "<IPython.core.display.Latex object>"
      ]
     },
     "metadata": {},
     "output_type": "display_data"
    }
   ],
   "source": [
    "# convert pandas series to numpy array since we have different index\n",
    "E = np.sum(df2['P(X = x | Large lure)'].to_numpy() * df1['Large lure'].to_numpy())\n",
    "E = E * 800\n",
    "display(Latex(f\"$E[X] = {round(E, 2)}$\"))"
   ]
  },
  {
   "cell_type": "markdown",
   "id": "5559b3df-2377-4145-9656-f16e284e3121",
   "metadata": {},
   "source": [
    "**What is Ming's expected profit if he casts with the small lure?**"
   ]
  },
  {
   "cell_type": "code",
   "execution_count": 40,
   "id": "3def4822-38b2-4c84-a7f6-72c09b63dddd",
   "metadata": {},
   "outputs": [
    {
     "data": {
      "text/latex": [
       "$E[X] = 505.0$"
      ],
      "text/plain": [
       "<IPython.core.display.Latex object>"
      ]
     },
     "metadata": {},
     "output_type": "display_data"
    }
   ],
   "source": [
    "# convert pandas series to numpy array since we have different index\n",
    "E = np.sum(df2['P(X = x | Small lure)'].to_numpy() * df1['Small lure'].to_numpy())\n",
    "E = E * 800\n",
    "display(Latex(f\"$E[X] = {round(E, 2)}$\"))"
   ]
  },
  {
   "cell_type": "markdown",
   "id": "d098bfac-4765-4386-a6d2-1f9581ff37cd",
   "metadata": {},
   "source": [
    "**To maximize his expected profit, Ming should cast with the large lure**"
   ]
  },
  {
   "cell_type": "markdown",
   "id": "7e87cb9e-ba48-4ff3-ab14-a95db20fdf25",
   "metadata": {},
   "source": [
    "---\n",
    "\n",
    "### Example 2\n",
    "\n",
    "Ahmed is playing a lottery game where he must pick $2$ numbers from $0$ to $9$ and then one letter out of the $26$-letter English alphabet. (He may choose the same number both times.)\n",
    "\n",
    "If his ticket matches the $2$ numbers and $1$ letter drawn in order, he wins the grand prize and receives $\\$10{,}405$. If just his letter matches but one or both of his numbers do not match, he wins the small prize of $\\$100$. Under any other outcome, he loses and receives nothing. The game costs him $\\$5$ play.\n",
    "\n",
    "He has chosen the ticket $\\text{04R}$.\n",
    "\n",
    "**What is the expected profit for Ahmed's when he buys a ticket?**  \n",
    "Round your answer to the nearest hundredth."
   ]
  },
  {
   "cell_type": "markdown",
   "id": "7b2a56b4-8ccf-499a-8644-c1e3a896b3bd",
   "metadata": {},
   "source": [
    "$E[X] = P(\\text{grand prize}) \\cdot (10405 - 5) + P(\\text{small prize}) \\cdot (100 - 5) + P(\\text{no prize}) \\dot (-5)$"
   ]
  },
  {
   "cell_type": "code",
   "execution_count": 41,
   "id": "bb158d92-4ec7-412e-94cc-794fa1b5ca7a",
   "metadata": {},
   "outputs": [
    {
     "data": {
      "text/latex": [
       "$E[04R] = 2.81$"
      ],
      "text/plain": [
       "<IPython.core.display.Latex object>"
      ]
     },
     "metadata": {},
     "output_type": "display_data"
    }
   ],
   "source": [
    "cost = -5\n",
    "P_grand_prize, N_grand_price = 1/10 * 1/10 * 1/26, 10405 + cost\n",
    "P_small_prize, N_small_prize = 1/26 - P_grand_prize, 100 + cost\n",
    "P_no_prize = 1 - P_small_prize\n",
    "\n",
    "E = P_grand_prize * N_grand_price + P_small_prize * N_small_prize + P_no_prize * cost\n",
    "E = round(E, 2)\n",
    "display(Latex(f\"$E[04R] = {E}$\"))"
   ]
  },
  {
   "cell_type": "markdown",
   "id": "1f9d203b-4eeb-4fe2-9959-b9ead0d47c10",
   "metadata": {
    "tags": []
   },
   "source": [
    "---\n",
    "\n",
    "### Example 3\n",
    "\n",
    "Jessica is playing a game where there are $4$ blue markers and $6$ red markers in a box. She is going to pick $3$ markers without replacement.\n",
    "\n",
    "If she picks all $3$ red markers, she will win a total of $\\$500$. If the first marker she picks is red but not all $3$ markers are red, she will win a total of $\\$100$. Under any other outcome, she will win $\\$0$.\n",
    "\n",
    "**What is the expected value of Jessica's winnings?**  \n",
    "Round your answer to the nearest cent."
   ]
  },
  {
   "cell_type": "markdown",
   "id": "9ac80460-a3db-402b-8fa8-e14f03d20bd8",
   "metadata": {},
   "source": [
    "$E[X] = P(\\text{R, R, R}) \\cdot 500 + (P(\\text{R, X, X}) - P(\\text{R, R, R})) \\cdot 100 + P(\\text{others}) \\cdot 0$"
   ]
  },
  {
   "cell_type": "code",
   "execution_count": 42,
   "id": "53401a7a-660a-4080-8f4b-ae524cb55170",
   "metadata": {},
   "outputs": [
    {
     "data": {
      "text/plain": [
       "0.16666666666666666"
      ]
     },
     "execution_count": 42,
     "metadata": {},
     "output_type": "execute_result"
    }
   ],
   "source": [
    "# R/B, R/B, R/B\n",
    "N, k = 10, 3\n",
    "XXX = comb(N, k)\n",
    "# R, R, R\n",
    "N, k = 6, 3\n",
    "# Pr\n",
    "RRR = comb(N, k)\n",
    "p1 = RRR / XXX\n",
    "p1"
   ]
  },
  {
   "cell_type": "code",
   "execution_count": 43,
   "id": "8fe01b51-d13d-4ae0-9b20-30024e95e4cb",
   "metadata": {
    "tags": []
   },
   "outputs": [
    {
     "data": {
      "text/plain": [
       "0.43333333333333335"
      ]
     },
     "execution_count": 43,
     "metadata": {},
     "output_type": "execute_result"
    }
   ],
   "source": [
    "# R, R (given 5 Reds)\n",
    "N, k = 5, 2\n",
    "RR = comb(N, k)\n",
    "# R/B, R/B (given 9 balls)\n",
    "N, k = 9, 2\n",
    "XX = comb(N, k)\n",
    "# Given the first ball is Red, and the other two balls are not Red\n",
    "p2 = 6/10 * (XX - RR) / XX\n",
    "p2"
   ]
  },
  {
   "cell_type": "code",
   "execution_count": 44,
   "id": "4141bed5-1bb1-4480-99cf-65937fea24d0",
   "metadata": {},
   "outputs": [
    {
     "data": {
      "text/latex": [
       "$E[X] = 126.67$"
      ],
      "text/plain": [
       "<IPython.core.display.Latex object>"
      ]
     },
     "metadata": {},
     "output_type": "display_data"
    }
   ],
   "source": [
    "E = p1 * 500 + p2 * 100\n",
    "E = round(E, 2)\n",
    "display(Latex(f\"$E[X] = {E}$\"))"
   ]
  },
  {
   "cell_type": "markdown",
   "id": "1ed448df-46f7-4a63-bc42-df9f19cc025b",
   "metadata": {},
   "source": [
    "---\n",
    "\n",
    "### Example 4\n",
    "\n",
    "Xavier is trying to decide if he should spend $\\$25$ to purchase virus protection software for his new computer.\n",
    "\n",
    "There are currently three viruses in circulation. The software that he is considering purchasing will protect him perfectly from the Trojan virus and the Pikachu virus, but will not protect him from the ADA virus.\n",
    "\n",
    "Based on his research, Xavier makes the table below which shows the probability and cost of repair for the three viruses currently in circulation. Assume that Xavier can get at most one virus and that this table is accurate."
   ]
  },
  {
   "cell_type": "code",
   "execution_count": 45,
   "id": "c989f53e-b943-44c1-84c3-4902f723ad94",
   "metadata": {},
   "outputs": [
    {
     "data": {
      "text/html": [
       "<div>\n",
       "<style scoped>\n",
       "    .dataframe tbody tr th:only-of-type {\n",
       "        vertical-align: middle;\n",
       "    }\n",
       "\n",
       "    .dataframe tbody tr th {\n",
       "        vertical-align: top;\n",
       "    }\n",
       "\n",
       "    .dataframe thead th {\n",
       "        text-align: right;\n",
       "    }\n",
       "</style>\n",
       "<table border=\"1\" class=\"dataframe\">\n",
       "  <thead>\n",
       "    <tr style=\"text-align: right;\">\n",
       "      <th></th>\n",
       "      <th>Type of virus</th>\n",
       "      <th>Cost of repair $</th>\n",
       "      <th>Probability</th>\n",
       "    </tr>\n",
       "  </thead>\n",
       "  <tbody>\n",
       "    <tr>\n",
       "      <th>0</th>\n",
       "      <td>Pikachu</td>\n",
       "      <td>400</td>\n",
       "      <td>0.2</td>\n",
       "    </tr>\n",
       "    <tr>\n",
       "      <th>1</th>\n",
       "      <td>Trojan</td>\n",
       "      <td>200</td>\n",
       "      <td>0.2</td>\n",
       "    </tr>\n",
       "    <tr>\n",
       "      <th>2</th>\n",
       "      <td>ADA</td>\n",
       "      <td>300</td>\n",
       "      <td>0.1</td>\n",
       "    </tr>\n",
       "  </tbody>\n",
       "</table>\n",
       "</div>"
      ],
      "text/plain": [
       "  Type of virus  Cost of repair $  Probability\n",
       "0       Pikachu               400          0.2\n",
       "1        Trojan               200          0.2\n",
       "2           ADA               300          0.1"
      ]
     },
     "execution_count": 45,
     "metadata": {},
     "output_type": "execute_result"
    }
   ],
   "source": [
    "df = pd.DataFrame({\n",
    "    \"Type of virus\": [\"Pikachu\", \"Trojan\", \"ADA\"], \n",
    "    \"Cost of repair $\": [400, 200, 300],\n",
    "    \"Probability\": [0.2, 0.2, 0.1]})\n",
    "df"
   ]
  },
  {
   "cell_type": "markdown",
   "id": "e4e79ecb-f329-4484-a0d1-87eec77bcca5",
   "metadata": {},
   "source": [
    "**What is the expected total cost of viruses and software if Xavier purchases the virus protection software? Round your answer to the nearest dollar.**"
   ]
  },
  {
   "cell_type": "code",
   "execution_count": 46,
   "id": "9cb78c97-6695-4571-94f7-535d620f8442",
   "metadata": {},
   "outputs": [
    {
     "data": {
      "text/plain": [
       "55.0"
      ]
     },
     "execution_count": 46,
     "metadata": {},
     "output_type": "execute_result"
    }
   ],
   "source": [
    "300 * 0.1 + 25"
   ]
  },
  {
   "cell_type": "markdown",
   "id": "cf6381bc-f5e2-40b6-ae00-c6cc629400f0",
   "metadata": {},
   "source": [
    "**What is the expected total cost of viruses and software if Xavier does not purchase the virus protection software? Round your answer to the nearest dollar.**"
   ]
  },
  {
   "cell_type": "code",
   "execution_count": 47,
   "id": "e849d0ec-bcf2-45fe-84a2-7236a83c9090",
   "metadata": {},
   "outputs": [
    {
     "data": {
      "text/plain": [
       "150.0"
      ]
     },
     "execution_count": 47,
     "metadata": {},
     "output_type": "execute_result"
    }
   ],
   "source": [
    "np.sum(df[\"Cost of repair $\"] * df.Probability)"
   ]
  },
  {
   "cell_type": "markdown",
   "id": "abf5c003-e809-42a7-9f69-f45a25b8e9db",
   "metadata": {
    "tags": []
   },
   "source": [
    "---\n",
    "\n",
    "### Example 5\n",
    "\n",
    "Paul has the option of a high deductible or a low deductible health insurance plan.\n",
    "\n",
    "If Paul chooses the low deductible plan, he will have to pay the first $\\$1000$ of any medical costs, and the rest of the costs will be paid by his insurance company. The low deductible plan costs $\\$8000$ for a year.\n",
    "\n",
    "If Paul chooses the high deductible plan, he will have to pay the first $\\$2500$ of any medical costs, and the rest of the costs will be paid by his insurance company. The high deductible plan costs $\\$7500$ for a year.\n",
    "\n",
    "To help himself choose a plan, Paul found some statistics about common health problems for people similar to him. Assume that the table below correctly shows the probabilities and costs of total medical incidents within the next year."
   ]
  },
  {
   "cell_type": "code",
   "execution_count": 48,
   "id": "582970a5-1382-4223-bfbf-98a771341a56",
   "metadata": {},
   "outputs": [
    {
     "data": {
      "text/html": [
       "<div>\n",
       "<style scoped>\n",
       "    .dataframe tbody tr th:only-of-type {\n",
       "        vertical-align: middle;\n",
       "    }\n",
       "\n",
       "    .dataframe tbody tr th {\n",
       "        vertical-align: top;\n",
       "    }\n",
       "\n",
       "    .dataframe thead th {\n",
       "        text-align: right;\n",
       "    }\n",
       "</style>\n",
       "<table border=\"1\" class=\"dataframe\">\n",
       "  <thead>\n",
       "    <tr style=\"text-align: right;\">\n",
       "      <th></th>\n",
       "      <th>Medical costs $</th>\n",
       "      <th>Probability</th>\n",
       "    </tr>\n",
       "  </thead>\n",
       "  <tbody>\n",
       "    <tr>\n",
       "      <th>0</th>\n",
       "      <td>0</td>\n",
       "      <td>0.30</td>\n",
       "    </tr>\n",
       "    <tr>\n",
       "      <th>1</th>\n",
       "      <td>1000</td>\n",
       "      <td>0.25</td>\n",
       "    </tr>\n",
       "    <tr>\n",
       "      <th>2</th>\n",
       "      <td>4000</td>\n",
       "      <td>0.20</td>\n",
       "    </tr>\n",
       "    <tr>\n",
       "      <th>3</th>\n",
       "      <td>7000</td>\n",
       "      <td>0.20</td>\n",
       "    </tr>\n",
       "    <tr>\n",
       "      <th>4</th>\n",
       "      <td>15000</td>\n",
       "      <td>0.05</td>\n",
       "    </tr>\n",
       "  </tbody>\n",
       "</table>\n",
       "</div>"
      ],
      "text/plain": [
       "   Medical costs $  Probability\n",
       "0                0         0.30\n",
       "1             1000         0.25\n",
       "2             4000         0.20\n",
       "3             7000         0.20\n",
       "4            15000         0.05"
      ]
     },
     "execution_count": 48,
     "metadata": {},
     "output_type": "execute_result"
    }
   ],
   "source": [
    "df = pd.DataFrame({\n",
    "    \"Medical costs $\": [0, 1000, 4000, 7000, 15000],\n",
    "    \"Probability\": [0.3, 0.25, 0.2, 0.2, 0.05]})\n",
    "df"
   ]
  },
  {
   "cell_type": "markdown",
   "id": "ee0fcf6b-fb13-4697-9b79-d52359d345ab",
   "metadata": {},
   "source": [
    "**Including the cost of insurance, what are the expected total medical costs that Paul must pay with the low deductible plan? Round your answer to the nearest dollar.**"
   ]
  },
  {
   "cell_type": "code",
   "execution_count": 49,
   "id": "07db0c38-f252-4fa6-a863-00dbab906f5f",
   "metadata": {},
   "outputs": [
    {
     "data": {
      "text/html": [
       "<div>\n",
       "<style scoped>\n",
       "    .dataframe tbody tr th:only-of-type {\n",
       "        vertical-align: middle;\n",
       "    }\n",
       "\n",
       "    .dataframe tbody tr th {\n",
       "        vertical-align: top;\n",
       "    }\n",
       "\n",
       "    .dataframe thead th {\n",
       "        text-align: right;\n",
       "    }\n",
       "</style>\n",
       "<table border=\"1\" class=\"dataframe\">\n",
       "  <thead>\n",
       "    <tr style=\"text-align: right;\">\n",
       "      <th></th>\n",
       "      <th>Medical costs $</th>\n",
       "      <th>Probability</th>\n",
       "      <th>Low Deductible</th>\n",
       "    </tr>\n",
       "  </thead>\n",
       "  <tbody>\n",
       "    <tr>\n",
       "      <th>0</th>\n",
       "      <td>0</td>\n",
       "      <td>0.30</td>\n",
       "      <td>0</td>\n",
       "    </tr>\n",
       "    <tr>\n",
       "      <th>1</th>\n",
       "      <td>1000</td>\n",
       "      <td>0.25</td>\n",
       "      <td>1000</td>\n",
       "    </tr>\n",
       "    <tr>\n",
       "      <th>2</th>\n",
       "      <td>4000</td>\n",
       "      <td>0.20</td>\n",
       "      <td>1000</td>\n",
       "    </tr>\n",
       "    <tr>\n",
       "      <th>3</th>\n",
       "      <td>7000</td>\n",
       "      <td>0.20</td>\n",
       "      <td>1000</td>\n",
       "    </tr>\n",
       "    <tr>\n",
       "      <th>4</th>\n",
       "      <td>15000</td>\n",
       "      <td>0.05</td>\n",
       "      <td>1000</td>\n",
       "    </tr>\n",
       "  </tbody>\n",
       "</table>\n",
       "</div>"
      ],
      "text/plain": [
       "   Medical costs $  Probability  Low Deductible\n",
       "0                0         0.30               0\n",
       "1             1000         0.25            1000\n",
       "2             4000         0.20            1000\n",
       "3             7000         0.20            1000\n",
       "4            15000         0.05            1000"
      ]
     },
     "execution_count": 49,
     "metadata": {},
     "output_type": "execute_result"
    }
   ],
   "source": [
    "deductible, insurance = 1000, 8000\n",
    "df[\"Low Deductible\"] = df[\"Medical costs $\"].apply(lambda cost: deductible if cost >= deductible else cost)\n",
    "df"
   ]
  },
  {
   "cell_type": "code",
   "execution_count": 50,
   "id": "1745776e-6350-499b-a3d5-c8125f2fe48f",
   "metadata": {},
   "outputs": [
    {
     "data": {
      "text/plain": [
       "8700.0"
      ]
     },
     "execution_count": 50,
     "metadata": {},
     "output_type": "execute_result"
    }
   ],
   "source": [
    "np.sum(df[\"Low Deductible\"] * df.Probability) + insurance"
   ]
  },
  {
   "cell_type": "markdown",
   "id": "05241711-1440-4261-92b2-87eba06904af",
   "metadata": {},
   "source": [
    "**Including the cost of insurance, what are the expected total medical costs that Paul must pay with the high deductible plan? Round your answer to the nearest dollar.**"
   ]
  },
  {
   "cell_type": "code",
   "execution_count": 51,
   "id": "2bd2051b-3ce8-452f-8f13-3bc8fad05d27",
   "metadata": {},
   "outputs": [
    {
     "data": {
      "text/html": [
       "<div>\n",
       "<style scoped>\n",
       "    .dataframe tbody tr th:only-of-type {\n",
       "        vertical-align: middle;\n",
       "    }\n",
       "\n",
       "    .dataframe tbody tr th {\n",
       "        vertical-align: top;\n",
       "    }\n",
       "\n",
       "    .dataframe thead th {\n",
       "        text-align: right;\n",
       "    }\n",
       "</style>\n",
       "<table border=\"1\" class=\"dataframe\">\n",
       "  <thead>\n",
       "    <tr style=\"text-align: right;\">\n",
       "      <th></th>\n",
       "      <th>Medical costs $</th>\n",
       "      <th>Probability</th>\n",
       "      <th>Low Deductible</th>\n",
       "      <th>High Deductible</th>\n",
       "    </tr>\n",
       "  </thead>\n",
       "  <tbody>\n",
       "    <tr>\n",
       "      <th>0</th>\n",
       "      <td>0</td>\n",
       "      <td>0.30</td>\n",
       "      <td>0</td>\n",
       "      <td>0</td>\n",
       "    </tr>\n",
       "    <tr>\n",
       "      <th>1</th>\n",
       "      <td>1000</td>\n",
       "      <td>0.25</td>\n",
       "      <td>1000</td>\n",
       "      <td>1000</td>\n",
       "    </tr>\n",
       "    <tr>\n",
       "      <th>2</th>\n",
       "      <td>4000</td>\n",
       "      <td>0.20</td>\n",
       "      <td>1000</td>\n",
       "      <td>2500</td>\n",
       "    </tr>\n",
       "    <tr>\n",
       "      <th>3</th>\n",
       "      <td>7000</td>\n",
       "      <td>0.20</td>\n",
       "      <td>1000</td>\n",
       "      <td>2500</td>\n",
       "    </tr>\n",
       "    <tr>\n",
       "      <th>4</th>\n",
       "      <td>15000</td>\n",
       "      <td>0.05</td>\n",
       "      <td>1000</td>\n",
       "      <td>2500</td>\n",
       "    </tr>\n",
       "  </tbody>\n",
       "</table>\n",
       "</div>"
      ],
      "text/plain": [
       "   Medical costs $  Probability  Low Deductible  High Deductible\n",
       "0                0         0.30               0                0\n",
       "1             1000         0.25            1000             1000\n",
       "2             4000         0.20            1000             2500\n",
       "3             7000         0.20            1000             2500\n",
       "4            15000         0.05            1000             2500"
      ]
     },
     "execution_count": 51,
     "metadata": {},
     "output_type": "execute_result"
    }
   ],
   "source": [
    "deductible, insurance = 2500, 7500\n",
    "df[\"High Deductible\"] = df[\"Medical costs $\"].apply(lambda cost: deductible if cost >= deductible else cost)\n",
    "df"
   ]
  },
  {
   "cell_type": "code",
   "execution_count": 52,
   "id": "2f079a91-4df8-4a46-afda-42ca6b50f938",
   "metadata": {},
   "outputs": [
    {
     "data": {
      "text/plain": [
       "8875.0"
      ]
     },
     "execution_count": 52,
     "metadata": {},
     "output_type": "execute_result"
    }
   ],
   "source": [
    "np.sum(df[\"High Deductible\"] * df.Probability) + insurance"
   ]
  },
  {
   "cell_type": "markdown",
   "id": "f277a8d4-e644-4847-be5b-f8c4a0652067",
   "metadata": {},
   "source": [
    "**If Paul wants the best payoff in the long run and must buy one of the two insurance plans, he should purchase the `Low Deductible` plan since it has lower expected cost.**"
   ]
  },
  {
   "cell_type": "markdown",
   "id": "4662e1f6-3e34-4d9c-a222-88b330c486e3",
   "metadata": {},
   "source": [
    "---\n",
    "\n",
    "### Example 6\n",
    "\n",
    "Francisco is at the arcade and can buy a token for $\\$2$ that gives him the choice of playing either Smack the Mole or Motorcycle Chasers.\n",
    "\n",
    "**Smack the Mole:** He plays 3 rounds, and for each round he has a $30\\%$, percent chance of smacking the mole. If he smacks the mole in all $3$ rounds, he will win a stuffed bear worth $\\$50$.\n",
    "\n",
    "**Motorcycle Chasers:** He will participate in $4$ races, and for each race he has an $80\\%$, percent chance of winning the race. If he wins all $4$ races, he will win a replica motorcycle worth $\\$70$."
   ]
  },
  {
   "cell_type": "markdown",
   "id": "42ba09f9-c135-4bda-a795-b6778095d612",
   "metadata": {},
   "source": [
    "**What is Francisco's expected value from playing Smack the Mole? Round your answer to the nearest cent.**"
   ]
  },
  {
   "cell_type": "code",
   "execution_count": 53,
   "id": "00330a1a-4d91-43bc-95db-809393d30e20",
   "metadata": {},
   "outputs": [
    {
     "data": {
      "text/plain": [
       "-0.65"
      ]
     },
     "execution_count": 53,
     "metadata": {},
     "output_type": "execute_result"
    }
   ],
   "source": [
    "round(0.3**3 * (50-2) + (1 - 0.3**3) * -2, 2)"
   ]
  },
  {
   "cell_type": "markdown",
   "id": "3e069f30-8e02-4218-8346-ca972adb091d",
   "metadata": {},
   "source": [
    "**What is Francisco's expected value from playing Motorcycle Chasers? Round your answer to the nearest cent.**"
   ]
  },
  {
   "cell_type": "code",
   "execution_count": 54,
   "id": "d9935e9a-8d38-4414-a81b-3057e984fb99",
   "metadata": {},
   "outputs": [
    {
     "data": {
      "text/plain": [
       "26.67"
      ]
     },
     "execution_count": 54,
     "metadata": {},
     "output_type": "execute_result"
    }
   ],
   "source": [
    "round(0.8**4 * (70-2) + (1 - 0.8**4) * -2, 2)"
   ]
  },
  {
   "cell_type": "markdown",
   "id": "c6284204-c0fc-463c-ac43-f8ebdf77d427",
   "metadata": {},
   "source": [
    "---\n",
    "\n",
    "## Law of large numbers\n",
    "\n",
    "> [Law of large numbers](https://en.wikipedia.org/wiki/Law_of_large_numbers)\n",
    "\n",
    "In [probability theory](https://en.wikipedia.org/wiki/Probability_theory \"Probability theory\"), the **law of large numbers** (**LLN**) is a [theorem](https://en.wikipedia.org/wiki/Theorem \"Theorem\") that describes the result of performing the same experiment a large number of times. According to the law, the [average](https://en.wikipedia.org/wiki/Average \"Average\") of the results obtained from a large number of trials should be close to the [expected value](https://en.wikipedia.org/wiki/Expected_value \"Expected value\") and tends to become closer to the expected value as more trials are performed.\n",
    "\n",
    "$\\displaystyle \\lim _{n\\to \\infty }\\sum _{i=1}^{n}{\\frac {X_{i}}{n}}={\\overline {X}}$"
   ]
  },
  {
   "cell_type": "code",
   "execution_count": null,
   "id": "0a098eed-b080-498b-a0e0-507e93542897",
   "metadata": {},
   "outputs": [],
   "source": []
  }
 ],
 "metadata": {
  "kernelspec": {
   "display_name": "statistics-and-probability",
   "language": "python",
   "name": "statistics-and-probability"
  },
  "language_info": {
   "codemirror_mode": {
    "name": "ipython",
    "version": 3
   },
   "file_extension": ".py",
   "mimetype": "text/x-python",
   "name": "python",
   "nbconvert_exporter": "python",
   "pygments_lexer": "ipython3",
   "version": "3.10.10"
  }
 },
 "nbformat": 4,
 "nbformat_minor": 5
}
