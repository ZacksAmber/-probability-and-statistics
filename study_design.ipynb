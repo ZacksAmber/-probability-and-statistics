{
 "cells": [
  {
   "cell_type": "markdown",
   "id": "0c564bc1-73d0-499c-a6a3-67804aa06ddd",
   "metadata": {},
   "source": [
    "# Reference\n",
    "\n",
    "> [Unit: Study design](https://www.khanacademy.org/math/statistics-probability/designing-studies)"
   ]
  },
  {
   "cell_type": "markdown",
   "id": "f7cf47cf-aa42-4d7f-9626-08d73d7e6175",
   "metadata": {},
   "source": [
    "---\n",
    "\n",
    "# Statistical questions"
   ]
  },
  {
   "cell_type": "markdown",
   "id": "ffb69974-0a8e-4470-89b4-85e438980dc0",
   "metadata": {},
   "source": [
    "---\n",
    "\n",
    "## Statistical questions\n",
    "\n",
    "Statistical questions are answered by collecting data with variability."
   ]
  },
  {
   "cell_type": "markdown",
   "id": "b8619568-3d44-4e66-bd35-a10e6c369cbe",
   "metadata": {
    "tags": []
   },
   "source": [
    "---\n",
    "\n",
    "### Example 1\n",
    "\n",
    "_How many internet searches do residents at Rudolph's Retirement Home perform each day?_"
   ]
  },
  {
   "cell_type": "markdown",
   "id": "a6b47be9-1d24-4708-9a1a-9f0d2e10be19",
   "metadata": {},
   "source": [
    "Statistical\n",
    "\n",
    "Explain:\n",
    "\n",
    "This question can be answered by collecting the number of daily searches across multiple days. It is statistical because it requires collecting data with variability."
   ]
  },
  {
   "cell_type": "markdown",
   "id": "9782512f-5a62-4bb8-84b3-d14ae4410a06",
   "metadata": {},
   "source": [
    "---\n",
    "\n",
    "### Example 2\n",
    "\n",
    "_How many boogers does Karissa the ogre have in her left nostril?_"
   ]
  },
  {
   "cell_type": "markdown",
   "id": "c5a31dbf-46e4-458a-a485-2ff1eff60f37",
   "metadata": {},
   "source": [
    "Not statistical\n",
    "\n",
    "Explain:\n",
    "\n",
    "No, this question could be answered by counting the number of boogers in Karissa's left nostril. This is one data point without variability."
   ]
  },
  {
   "cell_type": "markdown",
   "id": "a564e0ec-5565-45cd-a217-1757d673aaba",
   "metadata": {},
   "source": [
    "---\n",
    "\n",
    "### Example 3\n",
    "\n",
    "_At the Minnesota Zoo, do spider monkeys typically weigh more than owl monkeys?_"
   ]
  },
  {
   "cell_type": "markdown",
   "id": "c2b3fe6b-3a37-4288-921a-808b93bef3de",
   "metadata": {},
   "source": [
    "Statistical"
   ]
  },
  {
   "cell_type": "markdown",
   "id": "a82a0698-f8b8-4379-a1a6-160be8bf7f8e",
   "metadata": {},
   "source": [
    "---\n",
    "\n",
    "### Example 4\n",
    "\n",
    "How many hairs are there in Gretchen the Gorilla's right armpit?"
   ]
  },
  {
   "cell_type": "markdown",
   "id": "0ccf16bd-faf2-454b-9135-87d92dfa49c3",
   "metadata": {},
   "source": [
    "Not statistical"
   ]
  },
  {
   "cell_type": "markdown",
   "id": "8101bae6-3ce4-4a04-85d4-d9aaf8d7af70",
   "metadata": {},
   "source": [
    "---\n",
    "\n",
    "### Example 5\n",
    "\n",
    "__Does it typically rain more in the United States or in Brazil?__"
   ]
  },
  {
   "cell_type": "markdown",
   "id": "356c25e7-d84b-4be8-9f78-247a96a564f7",
   "metadata": {},
   "source": [
    "Statistical"
   ]
  },
  {
   "cell_type": "markdown",
   "id": "49f7ff9d-8e97-4f21-8e74-0e0ad7933634",
   "metadata": {},
   "source": [
    "---\n",
    "\n",
    "# Sampling and observational studies"
   ]
  },
  {
   "cell_type": "markdown",
   "id": "3a38d706-09ac-4457-ab9f-67c7793337d1",
   "metadata": {},
   "source": [
    "---\n",
    "\n",
    "## Valid Claims"
   ]
  },
  {
   "cell_type": "markdown",
   "id": "d92b1d6b-f28f-4a1d-bcf8-ae122df020ee",
   "metadata": {},
   "source": [
    "---\n",
    "\n",
    "### Example 1\n",
    "\n",
    "Santos wants to know what percentage of people who get married in his county knew each other in school.\n",
    "\n",
    "**Which of the following survey methods will allow Santos to make a valid conclusion about the percentage of couples married in his county who knew each other in school?**\n",
    "\n",
    "Sort a list of couples married in his county into a random order, then ask the first $30$ couples on the list.\n",
    "\n",
    "Explain:\n",
    "\n",
    "Asking $30$ couples whose names are chosen at random from Santos's county will produce information from which he can make a valid conclusion.\n",
    "\n",
    "The $30$ couples married most recently in Santos's county may not be representative of the entire population of couples married in the county.\n",
    "\n",
    "The valid method:\n",
    "\n",
    "Sort a list of couples married in his county into a random order, then ask the first $30$ couples on the list."
   ]
  },
  {
   "cell_type": "markdown",
   "id": "b2d62132-52f0-4ff9-bb4b-0ea26543575f",
   "metadata": {},
   "source": [
    "---\n",
    "\n",
    "## Making inferences from random samples"
   ]
  },
  {
   "cell_type": "markdown",
   "id": "e6800880-3b85-4ac1-8ca2-578056e6f81c",
   "metadata": {},
   "source": [
    "---\n",
    "\n",
    "### Example 1\n",
    "\n",
    "Getaway Travel Agency surveyed a random sample of $45$ of their clients about their vacation plans. Of the clients surveyed, $21$ expected that they would go on $3$ vacations in the next year. There are $516$ Getaway Travel Agency clients.\n",
    "\n",
    "**Based on the data, what is the most reasonable estimate for the number of Getaway Travel Agency clients who expect to go on $3$ vacations in the next year?**"
   ]
  },
  {
   "cell_type": "code",
   "execution_count": 1,
   "id": "bad7b99f-acb8-401b-b319-8e91c3c732a6",
   "metadata": {},
   "outputs": [
    {
     "data": {
      "text/plain": [
       "241"
      ]
     },
     "execution_count": 1,
     "metadata": {},
     "output_type": "execute_result"
    }
   ],
   "source": [
    "round(21/45*516)"
   ]
  },
  {
   "cell_type": "markdown",
   "id": "8780ccd4-ca4d-4ef1-9430-fd25bd8199ea",
   "metadata": {},
   "source": [
    "---\n",
    "\n",
    "## Identify the population and sample"
   ]
  },
  {
   "cell_type": "markdown",
   "id": "19f2abd0-faa3-4a35-bbe8-52987b3b66a5",
   "metadata": {},
   "source": [
    "---\n",
    "\n",
    "### Example 1\n",
    "\n",
    "Administrators at Riverview High School surveyed a random sample of $100$ of their seniors to see how seniors at the school felt about the lunch offering at the school's cafeteria.\n",
    "\n",
    "**Identify the population and sample in this setting.**"
   ]
  },
  {
   "cell_type": "markdown",
   "id": "a279586a-56b3-4365-9b2e-d368c9ae5a37",
   "metadata": {},
   "source": [
    "The population is all seniors at Riverview High; the sample is the $100$ seniors surveyed."
   ]
  },
  {
   "cell_type": "markdown",
   "id": "bd21df8f-29e1-4692-bc78-941b026e7959",
   "metadata": {
    "tags": []
   },
   "source": [
    "---\n",
    "\n",
    "# [Sampling methods](https://en.wikipedia.org/wiki/Sampling_(statistics)#Sampling_methods)\n",
    "\n",
    "> [Sampling methods review](https://www.khanacademy.org/math/statistics-probability/designing-studies/sampling-methods-stats/a/sampling-methods-review)\n",
    "\n",
    "[Sampling (statistics)](https://en.wikipedia.org/wiki/Sampling_(statistics))\n",
    "- [Simple random sampling](https://en.wikipedia.org/wiki/Sampling_(statistics)#Simple_random_sampling)\n",
    "- [Systematic sampling](https://en.wikipedia.org/wiki/Sampling_(statistics)#Systematic_sampling)\n",
    "- [Stratified sampling](https://en.wikipedia.org/wiki/Sampling_(statistics)#Stratified_sampling)\n",
    "- [Probability-proportional-to-size sampling](https://en.wikipedia.org/wiki/Sampling_(statistics)#Probability-proportional-to-size_sampling)\n",
    "- [Cluster sampling](https://en.wikipedia.org/wiki/Sampling_(statistics)#Cluster_sampling)\n",
    "- [Quota sampling](https://en.wikipedia.org/wiki/Sampling_(statistics)#Quota_sampling)\n",
    "- [Minimax sampling](https://en.wikipedia.org/wiki/Sampling_(statistics)#Minimax_sampling)\n",
    "- [Convenience sampling](https://en.wikipedia.org/wiki/Sampling_(statistics)#Accidental_sampling)\n",
    "- [Voluntary sampling](https://en.wikipedia.org/wiki/Sampling_(statistics)#Voluntary_Sampling)\n",
    "- [Line-intercept sampling](https://en.wikipedia.org/wiki/Sampling_(statistics)#Line-intercept_sampling)\n",
    "- [Panel sampling](https://en.wikipedia.org/wiki/Sampling_(statistics)#Panel_sampling)\n",
    "- [Snowball sampling](https://en.wikipedia.org/wiki/Sampling_(statistics)#Snowball_sampling)\n",
    "- [Theoretical sampling](https://en.wikipedia.org/wiki/Sampling_(statistics)#Theoretical_sampling)"
   ]
  },
  {
   "cell_type": "markdown",
   "id": "812e7f49-be53-4bc7-806e-c5b2b4652523",
   "metadata": {},
   "source": [
    "---\n",
    "\n",
    "## Good ways to sample\n",
    "\n",
    "**Simple random sample:** Every member and set of members has an equal chance of being included in the sample. Technology, random number generators, or some other sort of chance process is needed to get a simple random sample.\n",
    "\n",
    "Example—A teachers puts students' names in a hat and chooses without looking to get a sample of students.\n",
    "\n",
    "Why it's good: Random samples are usually fairly representative since they don't favor certain members.\n",
    "\n",
    "**Stratified random sample:** The population is first split into groups. The overall sample consists of some members from every group. The members from each group are chosen randomly.\n",
    "\n",
    "Example—A student council surveys $100$ students by getting random samples of $25$ freshmen, $25$ sophomores, $25$ juniors, and $25$ seniors.\n",
    "\n",
    "Why it's good: A stratified sample guarantees that members from each group will be represented in the sample, so this sampling method is good when we want some members from every group.\n",
    "\n",
    "**Cluster random sample:** The population is first split into groups. The overall sample consists of every member from some of the groups. The groups are selected at random.\n",
    "\n",
    "Example—An airline company wants to survey its customers one day, so they randomly select $5$ flights that day and survey every passenger on those flights.\n",
    "\n",
    "Why it's good: A cluster sample gets every member from some of the groups, so it's good when each group reflects the population as a whole.\n",
    "\n",
    "**Systematic random sample:** Members of the population are put in some order. A starting point is selected at random, and every $n^{\\text{th}}$ member is selected to be in the sample.\n",
    "\n",
    "Example—A principal takes an alphabetized list of student names and picks a random starting point. Every $20^{\\text{th}}$ student is selected to take a survey."
   ]
  },
  {
   "cell_type": "markdown",
   "id": "df605282-6501-4d38-bbdf-482835012ff8",
   "metadata": {},
   "source": [
    "---\n",
    "\n",
    "## Using probability to make fair decisions"
   ]
  },
  {
   "cell_type": "markdown",
   "id": "6002aacb-e44f-461b-b977-0fa41161a922",
   "metadata": {},
   "source": [
    "---\n",
    "\n",
    "### Example 1\n",
    "\n",
    "Jake, Daniel, Timmy, Amy, and Pam are going on a fishing trip. They are taking a pick-up truck which only holds $3$ people inside the truck. The other $2$ people will have to ride in the back of the truck. No one wants to ride in the back.\n",
    "\n",
    "They decide to let fate determine who has to ride in the back, by using this week's winning lottery ticket, which is about to be announced. The winning lottery ticket is a list of $5$ numbers. Each number is a random integer from $1$ to $1000$.\n",
    "\n",
    "**Match each method for deciding who rides in the back with the correct assessment of its fairness.**\n",
    "\n",
    "(Consider a system to be fair when the probabilities of each event are equal.)\n",
    "\n",
    "$\\text{Method }1$: If the first number is $1$ - $200$, Jake and Daniel ride in the back. If the first number is $201$ - $400$, Daniel and Timmy ride in the back. If the first number is $401$ - $600$, Timmy and Amy ride in the back. If the first number is $601$ - $800$, Amy and Pam ride in the back. If the first number is $801$ - $1000$, Pam and Jake ride in the back.\n",
    "\n",
    "$\\text{Method }2$: If the first number is even, Jake rides in the back. If the first number is odd, Daniel rides in the back. If the second number is $1$ - $333$, Timmy rides in the back. If the second number is $334$ - $666$, Amy rides in the back. If the second number is $667$ - $1000$, Pam rides in the back.\n",
    "\n",
    "$\\text{Method }3$: Jake is assigned the number $1$ Daniel is assigned the number $250$. Timmy is assigned the number $500$. Amy is assigned the number $750$ . Pam is assigned the number $1000$. The $2$ people whose numbers are closest to the fourth number read will ride in the back."
   ]
  },
  {
   "cell_type": "markdown",
   "id": "3d1a0c83-a5c2-4f73-8c46-3af1732f9a77",
   "metadata": {},
   "source": [
    "$\\text{Method }2$: Fair\n",
    "\n",
    "$\\text{Method }2$: Not fair, Jake and Daniel have the greatest chance of riding in the back.\n",
    "\n",
    "$\\text{Method }3$: Not fair, Jake and Pam have the least chance of riding in the back.\n",
    "\n",
    "![](https://raw.githubusercontent.com/ZacksAmber/PicGo/master/img/20220415235122.png)"
   ]
  },
  {
   "cell_type": "markdown",
   "id": "69c67d22-5776-435b-9e9f-817af0d947a0",
   "metadata": {},
   "source": [
    "---\n",
    "\n",
    "## Simple random samples"
   ]
  },
  {
   "cell_type": "markdown",
   "id": "bdfca254-696b-4d7d-9112-488ec32df577",
   "metadata": {},
   "source": [
    "---\n",
    "\n",
    "### Example 1\n",
    "\n",
    "There are $90$ students in a lunch period, and $5$ of them will be selected at random for cleaning duty every week. Each student receives a number $01$-$90$ and the school uses a random digit table to select a simple random sample of 555 students.\n",
    "\n",
    "**Which 555 students should be assigned cleaning duty?**\n",
    "\n",
    "$92200\\,\\, 99401\\,\\, 54473\\,\\, 34336\\,\\, 82786$"
   ]
  },
  {
   "cell_type": "markdown",
   "id": "ff6a8d74-6f30-4101-86ef-292055578f24",
   "metadata": {},
   "source": [
    "$20,09,01,54,47$"
   ]
  },
  {
   "cell_type": "markdown",
   "id": "d46c8d1a-f826-4cfc-b195-074af6fcf80f",
   "metadata": {},
   "source": [
    "---\n",
    "\n",
    "## Sampling methods"
   ]
  },
  {
   "cell_type": "markdown",
   "id": "d461e320-4908-4fec-b3a9-ae502e1d1903",
   "metadata": {},
   "source": [
    "---\n",
    "\n",
    "### Example 1: Voluntary sampling\n",
    "\n",
    "A restaurant leaves comment cards on all of its tables and encourages customers to participate in a brief survey to learn about their overall experience."
   ]
  },
  {
   "cell_type": "markdown",
   "id": "742f8daf-f2fc-4eb9-8002-6b25b033f440",
   "metadata": {
    "tags": []
   },
   "source": [
    "---\n",
    "\n",
    "### Example 2: Simple sampling\n",
    "    \n",
    "Each student at a school has a student identification number. Counselors have a computer generate $50$ random identification numbers and those students are asked to take a survey."
   ]
  },
  {
   "cell_type": "markdown",
   "id": "ed0ab63a-088f-4264-ad79-80dcb8c609eb",
   "metadata": {},
   "source": [
    "---\n",
    "\n",
    "### Example 3: Cluster random sampling\n",
    "\n",
    "A principal orders t-shirts and wants to check some of them to make sure they were printed properly. She randomly selects $2$ of the $10$ boxes of shirts and checks every shirt in those $2$ boxes."
   ]
  },
  {
   "cell_type": "markdown",
   "id": "0f2d1f10-a0e1-4258-a57b-dc2a1a4524db",
   "metadata": {},
   "source": [
    "---\n",
    "\n",
    "### Example 4: Stratified random sampling\n",
    "\n",
    "A school chooses $3$ randomly selected athletes from each of its sports teams to participate in a survey about athletics at the school."
   ]
  },
  {
   "cell_type": "markdown",
   "id": "e0cd4df3-81ba-4a40-b691-ebd697937f43",
   "metadata": {},
   "source": [
    "---\n",
    "\n",
    "### Example 5: Systematic random sampling\n",
    "\n",
    "While students are lined up for school pictures, a teacher passes out a survey to every $10^{\\text{th}}$ student."
   ]
  },
  {
   "cell_type": "markdown",
   "id": "c9ad0422-4008-4e32-a60f-5d7d82e0446a",
   "metadata": {},
   "source": [
    "---\n",
    "\n",
    "## Errors in sample surveys\n",
    "\n",
    "Survey results are typically subject to some error. Total errors can be classified into sampling errors and non-sampling errors. The term \"error\" here includes systematic biases as well as random errors.\n",
    "\n",
    "---\n",
    "\n",
    "### Sampling errors and biases\n",
    "\n",
    "Sampling errors and biases are induced by the sample design. They include:\n",
    "\n",
    "1.  **[Selection bias](https://en.wikipedia.org/wiki/Selection_bias \"Selection bias\")**: When the true selection probabilities differ from those assumed in calculating the results.\n",
    "2.  **[Random sampling error](https://en.wikipedia.org/wiki/Sampling_error \"Sampling error\")**: Random variation in the results due to the elements in the sample being selected at random.\n",
    "\n",
    "---\n",
    "\n",
    "### Non-sampling error\n",
    "\n",
    "Non-sampling errors are other errors which can impact final survey estimates, caused by problems in data collection, processing, or sample design. Such errors may include:\n",
    "\n",
    "1.  **Over-coverage**: inclusion of data from outside of the population\n",
    "2.  **Under-coverage**: sampling frame does not include elements in the population.\n",
    "3.  **Measurement error**: e.g. when respondents misunderstand a question, or find it difficult to answer\n",
    "4.  **Processing error**: mistakes in data coding\n",
    "5.  **[Non-response or Participation bias](https://en.wikipedia.org/wiki/Participation_bias \"Participation bias\")**: failure to obtain complete data from all selected individuals\n",
    "\n",
    "\n",
    "Biased wording of survey questions can cause people to favor certain responses over others. Suggesting that smoking is illegal might make it less likely for students who smoke to admit they do.\n",
    "\n",
    "Response bias is when people are systematically dishonest when answering a question. High school students who smoke aren't likely to admit it to their counselor. At the same time, it's doubtful that students would lie in the other direction—students who don't smoke probably wouldn't say that they do.\n",
    "\n",
    "Nonresponse is when people chosen for the sample cannot be reached or refuse to participate. In this scenario, a large majority of people did not respond to the phone calls.\n",
    "\n",
    "Undercoverage is when the researcher systematically excludes members of the population from being in the sample. Random digit dialing will reach people with mobile phones and unlisted numbers, but people without phones are excluded from the sample. This might be an issue, but it doesn't seem as concerning as the very high rate of nonresponse.\n",
    "\n",
    "Response bias isn't as concerning as a nonresponse rate of more than $90\\%$, although it is possible that people may be concerned about privacy just from getting the phone call."
   ]
  },
  {
   "cell_type": "markdown",
   "id": "a3ffd8e1-6b3b-4dea-809d-974fc5eb22e1",
   "metadata": {},
   "source": [
    "---\n",
    "\n",
    "### Example 1: Voluntary response sampling\n",
    "\n",
    "David hosts a podcast and he is curious how much his listeners like his show. He decides to start with an online poll. He asks his listeners to visit his website and participate in the poll.\n",
    "\n",
    "The poll shows that $89\\%$ of the $200$ respondents \"love\" his show.\n",
    "\n",
    "**What is the most concerning source of bias in this scenario?**\n",
    "\n",
    "Voluntary response sampling\n",
    "\n",
    "**Which direction of bias is more likely in this scenario?**\n",
    "\n",
    "$89\\%$ is probably an overestimate of the percentage of all listeners that love the show."
   ]
  },
  {
   "cell_type": "markdown",
   "id": "94ba07f7-bfde-479f-8b4d-cd4af36ae0dd",
   "metadata": {},
   "source": [
    "---\n",
    "\n",
    "### Example 2: Convenience samplling\n",
    "\n",
    "David hosts a podcast and he is curious how much his listeners like his show. He decides to poll the next $100$ listeners who send him fan emails.\n",
    "\n",
    "They don't all respond, but $94$ of the $97$ listeners who responded said they \"loved\" his show.\n",
    "\n",
    "**What is the most concerning source of bias in this scenario?**\n",
    "\n",
    "Convenience sampling\n",
    "\n",
    "**Which direction of bias is more likely in this scenario?**\n",
    "\n",
    "The results are probably an overestimate of the percentage of all listeners that love the show."
   ]
  },
  {
   "attachments": {},
   "cell_type": "markdown",
   "id": "4af194e7-5a86-4bd8-913c-4460a05f033c",
   "metadata": {},
   "source": [
    "---\n",
    "\n",
    "# Types of statistical studies (experimental vs. observational)\n",
    "\n",
    "> [Observational studies and experiments](https://www.khanacademy.org/math/statistics-probability/designing-studies/types-studies-experimental-observational/a/observational-studies-and-experiments)\n",
    "\n",
    "- Observational Study: In an _observational study,_ we measure or survey members of a sample without trying to affect them.\n",
    "- Controlled Experiment: In a _controlled experiment,_ we assign people or things to groups and apply some treatment to one of the groups, while the other group does not receive the treatment.\n",
    "\n",
    "- Sample Study: The purpose of a sample study is to estimate a certain parameter of a population while observational studies and experiments compare two parameters of a population. A sample study can be either observational or experimental. In a sample study, the researchers may manipulate variables (in an experimental design) or simply observe variables as they naturally occur (in an observational design)\n",
    "\n",
    "|Type|Number of parameters|Result|\n",
    "|:-|:-|:-|\n",
    "|Observational Study|2|Correlation|\n",
    "|Experiment|2|Correlation or Causality|\n",
    "|Sample Study|1 or 2|Correlation or Causality|"
   ]
  },
  {
   "cell_type": "markdown",
   "id": "fb51633e-5e32-4ce8-be0c-45fe269928c3",
   "metadata": {},
   "source": [
    "---\n",
    "\n",
    "## Types of statistical studies"
   ]
  },
  {
   "cell_type": "markdown",
   "id": "3adb1965-509c-4773-9554-ba2513a3b3e7",
   "metadata": {
    "tags": []
   },
   "source": [
    "---\n",
    "\n",
    "### Example 1: Observational study\n",
    "\n",
    "A research institute interested in factors that can either cause cardiovascular disease or prevent it conducted a long-term study of the $5209$ people of Framingham, Massachusetts. The study included extensive physical examinations and lifestyle interviews performed every $2$ years, which were analyzed for common patterns related to cardiovascular disease development.\n",
    "\n",
    "**What type of statistical study did the researchers use?**\n",
    "\n",
    "Observational study\n",
    "\n",
    "The researchers found a negative association among males between the amount of daily physical activity and the occurrence of cardiovascular diseases.\n",
    "\n",
    "**What valid conclusions can be made from this result?**\n",
    "\n",
    "The result suggests that there is a positive correlation between high physical activity and low risk of cardiovascular disease among males in Framingham."
   ]
  },
  {
   "cell_type": "markdown",
   "id": "2a752755-07e8-46a9-afa7-6e57f29fe351",
   "metadata": {},
   "source": [
    "---\n",
    "\n",
    "### Example 2: Observational study\n",
    "\n",
    "Ana was interested in the relationship between funding sources for nutritional researches and the conclusions of those researches.\n",
    "She gathered information on all researches concerning soft drinks that were published between $1$ January, $1999$ and $31$ December, $2003$, and compared the source of their funding with the results of the research.\n",
    "\n",
    "**What type of a statistical study did Ana use?**\n",
    "\n",
    "Observational study\n",
    "\n",
    "Ana found that out of the researches that were funded by food industry companies, $%0$, percent had unfavorable results to the companies, while $\\%37$, percent of the researches that were funded by other sources had unfavorable results to the soft drink industry.\n",
    "\n",
    "**What valid conclusions can be made from this result?**\n",
    "\n",
    "The result suggests that there is a correlation between the source of funding and the conclusions of soft drink researches.\n",
    "\n",
    "Explain:\n",
    "\n",
    "The purpose of a sample study is to _estimate_ a certain parameter of a population while observational studies and experiments _compare_ two parameters of a population.\n",
    "\n",
    "The study was designed to check the connection between the funding source of a research and its conclusions. It's looking for a comparison, so this _isn’t_ a sample study. It could either be an experiment or an observational study.\n",
    "\n",
    "In an experiment, one parameter of the population is actively changed to see the effect on the other parameter. For this study to be an experiment, Ana would have to actively assign funding sources to individual researches, which would be impractical. Therefore, this is an _observational study_.\n",
    "\n",
    "An observational study cannot indicate a causal relationship between parameters. In this case, it's possible that a third factor is present in some of the researches that causes the ones that are funded by soft drink companies to obtain less unfavorable results. We can't claim that soft drink companies necessarily bias the researches they fund.\n",
    "\n",
    "If this was a randomized experiment with active assignment of treatments, we could be confident that other effects would be smoothed out by the randomness, and that the correlation is evidence of causation. However, this is not the case.\n",
    "\n",
    "Ana observed researches regarding soft drinks, so we can't really conclude anything about pharmaceutical researches from these results.\n",
    "\n",
    "Ana used an _observational study_.\n",
    "\n",
    "We can validly conclude that the result suggests that there is a correlation between the source of funding and the conclusions of soft drink researches."
   ]
  },
  {
   "cell_type": "markdown",
   "id": "afe56d6c-a355-4a22-91e8-a196f545000f",
   "metadata": {},
   "source": [
    "---\n",
    "\n",
    "### Example 3: Experiment\n",
    "\n",
    "Researchers were interested in assessing the effect of meditation on work stress. They randomly assigned $200$ full-time employees to two groups. One group was instructed to meditate $10$-$20$ minutes twice per day, and to participate in weekly $1$-hour sessions, while the other group wasn't given any special instructions.\n",
    "\n",
    "Just before the randomization and also after a period of $8$ weeks, all participants were required to fill out the Psychological Strain Questionnaire (PSQ), an accepted measure of work stress. The researchers calculated the difference in questionnaire scores for all participants, where a positive change corresponds to a reduction in work stress. Then, they compared the average differences of each group.\n",
    "\n",
    "**What type of a statistical study did the researchers use?**\n",
    "\n",
    "Experiment\n",
    "\n",
    "The researchers found that the mean change in PSQ scores of the group who meditated is $21$ points greater than the mean change in PSQ scores of the group who didn’t. Based on some re-randomization simulations, they concluded that the result is significant and not due to the randomization of the groups.\n",
    "\n",
    "**What valid conclusions can be made from this result?**\n",
    "\n",
    "The result suggests that meditation can reduce work stress.\n",
    "\n",
    "Explain:\n",
    "\n",
    "The purpose of a sample study is to _estimate_ a certain parameter of a population while observational studies and experiments _compare_ two parameters of a population.\n",
    "\n",
    "The study was designed to check the connection between meditation and work stress. It's looking for a comparison, so this _isn’t_ a sample study. It could either be an experiment or an observational study.\n",
    "\n",
    "In an experiment, one parameter of the population is actively changed to see the effect on the other parameter. In this case, the meditation regimen was actively assigned by the researchers to each subject to assess its effect on the subject's work stress. Therefore, this is indeed an _experiment_.\n",
    "\n",
    "Randomized experiments are designed to suggest causation. In this case, the randomization of the subjects between the groups was intended to smooth out any factors other than meditation that may affect work stress.\n",
    "\n",
    "Therefore, it is valid to conclude that meditation can reduce work stress. It is also valid to conclude that there's a positive correlation between the parameters, but correlation is weaker than causation. So if causation can be concluded, it is more suitable than correlation.\n",
    "\n",
    "Even though experiments suggest causation, it would be too far-reaching to conclude that \"meditation reduces work stress,\" which implies that meditation would reduce work stress for anyone who practiced it.\n",
    "\n",
    "Furthermore, the experiment deals with _work stress_ and not any kind of stress, so it's wrong to conclude that meditation can reduce stress in general.\n",
    "\n",
    "The researchers used an _experiment_.\n",
    "\n",
    "We can validly conclude that the result suggests that meditation can reduce work stress."
   ]
  },
  {
   "cell_type": "markdown",
   "id": "1320d96c-69c9-4543-b3b7-986e58fd582e",
   "metadata": {},
   "source": [
    "---\n",
    "\n",
    "### Example 4: Observational study\n",
    "\n",
    "British researchers were interested in the relationship between farmers’ approach to their cows and the cows’ milk yield. They prepared a survey questionnaire regarding the farmers' perception of the cows' mental capacity, the treatment they give to the cows, and the cows' yield. The survey was filled by all the farms in Great Britain.\n",
    "\n",
    "**What type of a statistical study did the researchers use?**\n",
    "\n",
    "Observational study\n",
    "\n",
    "After analyzing their results, they found that on farms where cows were called by name, milk yield was $258$ liters higher on average than on farms where this was not the case.\n",
    "\n",
    "**What valid conclusions can be made from this result?**\n",
    "\n",
    "The result suggests that there is a positive correlation between calling British cows by name and the cows' milk yield.\n",
    "\n",
    "Explain:\n",
    "\n",
    "The purpose of a sample study is to _estimate_ a certain parameter of a population while observational studies and experiments _compare_ two parameters of a population.\n",
    "\n",
    "The study was designed to check the connection between farmers' approach to their cows and the cows' milk yield. It's looking for a comparison, so this _isn’t_ a sample study. It could either be an experiment or an observational study.\n",
    "\n",
    "In an experiment, one parameter of the population is actively changed to see the effect on the other parameter. For this study to be an experiment, the researchers would have to actively assign different approaches to the farmers. Therefore, this is an _observational study_.\n",
    "\n",
    "An observational study cannot indicate a causal relationship between parameters. In this case, it's possible that a third factor is present in some of the farms that causes the farmers to give special attention to their cows, _and_ causes the cows to produce more milk. It's not necessarily true that naming a cow will make her produce more milk.\n",
    "\n",
    "If this was a randomized experiment with active assignment of treatments, we could be confident that other effects would be smoothed out by the randomness, and that the correlation is evidence of causation. However, this is not the case.\n",
    "\n",
    "The researchers observed farms in Great Britain, which means they obtained valid results for British cows. Since we can't tell whether British farms and cows are representative of _all_ farms or _all_ cows, we can't claim the results are valid for cows in general.\n",
    "\n",
    "The researchers used an _observational study_.\n",
    "\n",
    "We can validly conclude that the result suggests that there is a positive correlation between calling British cows by name and the cows’ milk yield."
   ]
  },
  {
   "cell_type": "markdown",
   "id": "b61a459d-ae43-4155-a3a6-3aaaa2f8e042",
   "metadata": {},
   "source": [
    "---\n",
    "\n",
    "### Example 5: Experiment\n",
    "\n",
    "The taste engineers at “Drinksoft” have developed a new formula for their major brand “Cola-Loca.” They wanted to know how tasty it is to teenagers compared to the old formula, so they decided to set up a blind taste test.\n",
    "\n",
    "They randomly assigned $300$ blindfolded, teenaged participants to two groups. One group was given the old formula of “Cola-Loca,” and the other was given the new formula. Each participant was asked to fill a formal taste $10$-point questionnaire, where $1$ is considered \"awful\" and $10$ is considered \"delicious.\"\n",
    "\n",
    "**What type of a statistical study did the engineers use?**\n",
    "\n",
    "Experiment\n",
    "\n",
    "The engineers found that the mean taste score of the new formula is $4$ points lower than the mean taste score of the old formula. Based on some re-randomization simulations, they concluded that the result is significant and not due to the randomization of the groups.\n",
    "\n",
    "**What valid conclusions can be made from this result?**\n",
    "\n",
    "The result suggests that the old formula tastes better among teenagers than the new one.\n",
    "\n",
    "Explain:\n",
    "\n",
    "The purpose of a sample study is to _estimate_ a certain parameter of a population while observational studies and experiments _compare_ two parameters of a population.\n",
    "\n",
    "The study was designed to check the connection between the type of formula and its tastefulness. It's looking for a comparison, so this _isn’t_ a sample study. It could either be an experiment or an observational study.\n",
    "\n",
    "In an experiment, one parameter of the population is actively changed to see the effect on the other parameter. In this case, the type of formula was actively assigned by the engineers to each participant to assess its effect on the participant's taste sensation. Therefore, this is indeed an _experiment_.\n",
    "\n",
    "Randomized experiments are designed to suggest causation. In this case, the randomization of the participants between the groups was intended to smooth out any factors others than the formula that may affect the perceived tastefulness.\n",
    "\n",
    "Therefore, it is valid to conclude that the old formula tastes better among teenagers than the new one. It is also valid to conclude that there's a correlation between the parameters, but correlation is weaker than causation. So if causation can be concluded, it is more suitable than correlation.\n",
    "\n",
    "Even though experiments suggest causation, it would be too far-reaching to conclude that \"the old formula tastes better than the new one,\" which implies that the old formula would taste better for _anyone_ who tried the two formulas.\n",
    "\n",
    "Furthermore, the experiment was conducted with teenagers, and it isn't mentioned how many of them were boys. So any valid conclusion that can be drawn from it must apply to teenagers, no more, no less. We can't assume to know how the formulas would taste among teenage boys, or people in general.\n",
    "\n",
    "The engineers used an _experiment_.\n",
    "\n",
    "We can validly conclude that the result suggests that the old formula tastes better among teenagers than the new one."
   ]
  },
  {
   "cell_type": "markdown",
   "id": "e6302c4b-b494-4bbc-87ed-17e38f114f79",
   "metadata": {},
   "source": [
    "---\n",
    "\n",
    "### Example 6: Sample study\n",
    "\n",
    "The CEO of a major bank wanted to assess how many of the bank’s customers are satisfied, so he decided to conduct a small survey.\n",
    "At the time of the survey, the bank had several millions of customers across $300$ bank branches of varying sizes. For each of the $300$ branches, he picked one of the branch's customers randomly and surveyed him.\n",
    "\n",
    "**What type of statistical study did the CEO use?**\n",
    "\n",
    "Sample study\n",
    "\n",
    "**Is the study appropriate for the statistical questions it's supposed to answer?**\n",
    "\n",
    "No, because the randomization of the sampling was flawed.\n",
    "\n",
    "Explain:\n",
    "\n",
    "The purpose of a sample study is to _estimate_ a certain parameter of a population while observational studies and experiments _compare_ two parameters of a population.\n",
    "\n",
    "The study was designed to estimate the percentage of satisfied bank customers. There's no comparison, only an estimation of a single parameter, so this is a _sample study_. We can also conclude that the type of study chosen was certainly appropriate for the question.\n",
    "\n",
    "While it is true that the study didn't have a treatment and a control group, these aren't necessary for a sample study. A treatment group and control group are a part of a randomized experiment.\n",
    "\n",
    "The rule of thumb for sample studies is that the size of the sample should be greater than $30$. Therefore, the sample of customers the CEO used was indeed big enough. But what about the randomization process? Is it valid?\n",
    "\n",
    "A random sample of a population should be completely random, which means every individual in the population has the same probability of getting picked. In this case, each _branch_ has the same probability - they all have exactly one customer that got picked. However, the probability of each _individual customer_ of each branch to get picked changes according to the size of the branch!\n",
    "\n",
    "Suppose a branch has 1000 customers. Since exactly one of them gets randomly picked, each customer has a probability of $\\displaystyle \\frac{1}{1000}$ to get picked. Suppose another branch has only $100$ customers, then each customer there has a probability of $\\displaystyle \\frac{1}{100}$ to get picked. This means the randomization process is flawed.\n",
    "\n",
    "The CEO used a _sample study_.\n",
    "\n",
    "The study is _not_ appropriate for the question because the randomization of the sampling was flawed."
   ]
  },
  {
   "cell_type": "markdown",
   "id": "b539c3fc-f1e0-415e-a56d-3e1f378367c6",
   "metadata": {},
   "source": [
    "---\n",
    "\n",
    "### Example 7: Experiment\n",
    "\n",
    "A pedagogical research institute wanted to test a new method for teaching geometry by assessing whether it helps students achieve higher grades. They decided to conduct a study using $4$ volunteering high schools with a total of $750$ students.\n",
    "\n",
    "At the beginning of the semester, $2$ out of the $4$ high schools were randomly picked to use the new teaching method, while the remaining $2$ schools kept teaching with traditional methods. The first pair had a total of $400$ students, and the second pair had a total of $350$ students.\n",
    "\n",
    "By the end of the semester, the researchers compared the average scores in the geometry section of the final exam for each pair of schools.\n",
    "\n",
    "**What type of statistical study did the researchers use?**\n",
    "\n",
    "Experiment\n",
    "\n",
    "**Is the study appropriate for the statistical questions it's supposed to answer?**\n",
    "\n",
    "No, because the schools could be very different, meaning the randomization won't smooth out other effects.\n",
    "\n",
    "Explain:\n",
    "\n",
    "The purpose of a sample study is to _estimate_ a certain parameter of a population, while observational studies and experiments _compare_ two parameters of a population.\n",
    "\n",
    "The study was designed to check the connection between the teaching method used and the students' grades. It's looking for a comparison, so this _isn’t_ a sample study. It could be either an experiment or an observational study.\n",
    "\n",
    "In an experiment, one parameter of the population is actively changed to see the effect on the other parameter. In this case, the teaching method was actively assigned by the researchers to each school to assess its effect on the students' grades. Therefore, this is indeed an _experiment_.\n",
    "\n",
    "Experiments are specifically designed to suggest causation, so we can't say the study is inappropriate due to its type.\n",
    "\n",
    "Furthermore, while it is true that the groups don't have the same number of students, this isn't crucial for an experiment. The treatment group and the control group in an experiment don't have to be the same size.\n",
    "\n",
    "The researchers indeed compared the grades in the geometry section only, which is good, but they neglected one important issue. For the randomization to really smooth out any possible factors other than the teaching method, the subjects should be individually randomized between the treatment group and the control group.\n",
    "\n",
    "In this case, since only the schools themselves were randomized and not the students, the differences between the schools have too much influence on the test grades of their students. What if the schools in one of the groups are private schools with a generous budget and selection tests, while the schools of the other group are low-budget, public schools? Any obtained difference in grades couldn't be attributed to the teaching method alone.\n",
    "\n",
    "The researchers used an _experiment_.\n",
    "\n",
    "The study is _not_ appropriate for the question because the schools could be very different, meaning the randomization won't smooth out other effects (_i.e._, it is prone to bias due to flawed randomization)."
   ]
  },
  {
   "cell_type": "markdown",
   "id": "bd7d246c-2983-40aa-aab4-f7de0399bc8e",
   "metadata": {},
   "source": [
    "---\n",
    "\n",
    "### Example 8: Sample study\n",
    "\n",
    "Alma has developed a new kind of antibiotic. For the antibiotic to be sufficiently effective, it has to kill at least $90\\%$ of bacteria when applied to a harmful bacteria culture. She applied her antibiotic to a petri dish full of harmful bacteria, waited for it to take effect, and then tried to estimate the percentage of dead bacteria in it.\n",
    "\n",
    "She took a random sample of $300$ bacteria and found that $94\\%$ of them were dead. Then she calculated the margin of error and found that the true percentage of dead bacteria is most likely to be above $90\\%$.\n",
    "\n",
    "**What type of statistical study did Alma use?**\n",
    "\n",
    "Sample study\n",
    "\n",
    "**Is the study appropriate for the statistical questions it's supposed to answer?**\n",
    "\n",
    "No, because the study didn't have a treatment and a control group.\n",
    "\n",
    "---\n",
    "\n",
    "The purpose of a sample study is to _estimate_ a certain parameter of a population, while observational studies and experiments _compare_ two parameters of a population.\n",
    "\n",
    "The study was designed to estimate the percentage of dead bacteria in the petri dish. There's no comparison, only an estimation of a single parameter, so this is a _sample study_.\n",
    "\n",
    "Alma is trying to figure out how effectively her antibiotic **causes** bacteria to die. To answer a question about a causal relationship, we need to perform an experiment with a treatment group and a control group.\n",
    "\n",
    "It is also true that Alma can’t know _for certain_ that the true percentage of dead bacteria is above $90\\%$, but the results of statistical studies are rarely completely certain. We can assign very high probability to our results, but we can't demand complete certainty.\n",
    "\n",
    "Alma used a _sample study_.\n",
    "\n",
    "The study _is not_ appropriate for the question because the study didn't have a treatment and a control group."
   ]
  },
  {
   "cell_type": "markdown",
   "id": "f631e2dc-d82c-4f15-9477-befabe30ffc0",
   "metadata": {},
   "source": [
    "---\n",
    "\n",
    "# Experiments\n",
    "\n",
    "> [The language of experiments](https://www.khanacademy.org/math/statistics-probability/designing-studies/experiments-stats-library/a/the-language-of-experiments)<br>\n",
    "> [Experiment Design](https://en.wikipedia.org/wiki/Design_of_experiments)\n",
    "\n",
    "The **design of experiments** (**DOE**, **DOX**, or **experimental design**) is the design of any task that aims to describe and explain the variation of information under conditions that are hypothesized to reflect the variation.\n",
    "\n",
    "- Blind study: the patients don't know which is pill or placebo.\n",
    "- Double-Blind study: the patients and the doctors don't know which is pill or placebo."
   ]
  },
  {
   "cell_type": "markdown",
   "id": "c718ef6c-73be-440d-bc4b-ecb5af0cd9e9",
   "metadata": {},
   "source": [
    "---\n",
    "\n",
    "## Principles of experiment design\n",
    "\n",
    "> [Principles of experiment design](https://www.khanacademy.org/math/statistics-probability/designing-studies/experiments-stats-library/a/principles-of-experiment-design)\n",
    "\n",
    "- An **explanatory variable** explains changes in another variable. Karina is curious if a kale-based diet can predict in blood pressure.\n",
    "- A **response variable** measures the result of a study. Karina is measuring the change in blood pressure at the end of the study.\n",
    "- A **treatment** is the specific level of the explanatory variable given to individuals in an experiment. If there are multiple explanatory variables, a treatment is a combination of specific levels from each explanatory variable.\n",
    "- An **experimental unit** is who or what we are assigning to a treatment.\n",
    "    - [Completely randomized design](https://en.wikipedia.org/wiki/Completely_randomized_design)\n",
    "    - [Randomized block](https://en.wikipedia.org/wiki/Blocking_(statistics))\n",
    "    - Matched pairs"
   ]
  },
  {
   "cell_type": "markdown",
   "id": "d3ba28e9-edcd-4557-95c2-67fdb7f96d1a",
   "metadata": {},
   "source": [
    "---\n",
    "\n",
    "### Example 1: Features\n",
    "\n",
    "Karina wants to determine if kale consumption has an effect on blood pressure. She recruits $100$ households and randomly assigns each household to either a kale-free diet plan or a kale-based diet. At the end of two months, she plans to record the original and final blood pressures for members of each household.\n",
    "\n",
    "- Explanatory variable: Kale consumption\n",
    "- Response variable: Change in blood pressure\n",
    "- Treatments: The kale-based and kale-free diets\n",
    "- Experimental units: The households"
   ]
  },
  {
   "cell_type": "markdown",
   "id": "65dffe59-c1fe-4a20-a8c4-8f24a1dfc976",
   "metadata": {
    "jp-MarkdownHeadingCollapsed": true,
    "tags": []
   },
   "source": [
    "---\n",
    "\n",
    "### Example 2: Control group\n",
    "\n",
    "A footwear company wants to test the effectiveness of its new insoles designed to prevent shin splints resulting from running. They hire a group of physical trainers and a statistician, who recruits $100$ healthy adults between the ages of $18$ and $24$ to participate in a study.\n",
    "The statistician randomly assigns $50$ of the adults to follow a weekly running schedule with the new insoles and the other $50$ to the same running schedule with the existing insoles the company already sells. After $10$ weeks, the statistician records the number of runners from each group that have developed shin splints.\n",
    "\n",
    "**What is the primary purpose of having a group of $50$ runners use the existing insoles?**\n",
    "\n",
    "They serve as a control group."
   ]
  },
  {
   "cell_type": "markdown",
   "id": "c94a2fcd-7e31-42fb-ab46-f3b6d6e20670",
   "metadata": {},
   "source": [
    "---\n",
    "\n",
    "## Random Assignment\n",
    "\n",
    "> [Random sampling vs. random assignment (scope of inference)](https://www.khanacademy.org/math/statistics-probability/designing-studies/experiments-stats-library/a/scope-of-inference-random-sampling-assignment)\n",
    "\n",
    "**Note:** In the real world, we can't ethically take a random sample of people and make them participate in a study involving drugs. However, there are more advanced methods for controlling for this type of selection bias. When we rely on volunteers for testing new drugs and we see significant results, we need to be willing to assume that the volunteers are representative of the larger population. We can also repeat the study on a different group of volunteers to see if we get the same results.\n",
    "\n",
    "**Key idea:** If a sample isn't randomly selected, it may not be representative of the larger population. On the AP test, be ready to apply this concept and some nuance when it comes to discussing if a sample is representative of the larger population.\n",
    "\n",
    "<table><thead><tr><th scope=\"col\"></th><th scope=\"col\">Random sampling</th><th scope=\"col\">Not random sampling</th></tr></thead><tbody><tr><td><strong>Random assignment</strong></td><td>Can determine causal relationship in population. <em>This design is relatively rare in the real world.</em></td><td>Can determine causal relationship in that sample only. <em>This design is where most experiments would fit.</em></td></tr><tr><td><strong>No random assignment</strong></td><td>Can detect relationships in population, but cannot determine causality. <em>This design is where many surveys and observational studies would fit.</em></td><td>Can detect relationships in that sample only, but cannot determine causality. <em>This design is where many unscientific surveys and polls would fit.</em></td></tr></tbody></table>"
   ]
  },
  {
   "cell_type": "markdown",
   "id": "bea77d67-ec4e-4c72-95aa-af164ba37e85",
   "metadata": {},
   "source": [
    "---\n",
    "\n",
    "## Experiment design"
   ]
  },
  {
   "cell_type": "markdown",
   "id": "7e29ef12-f566-4592-844e-fe38c43d1fd6",
   "metadata": {},
   "source": [
    "---\n",
    "\n",
    "### Example 1: Completely randomized design\n",
    "\n",
    "Estelle's cornfield is divided into $6$ regions. She wants to know if a new pesticide is as effective as the pesticide that she currently uses. She randomly assigns each of the $6$ regions to either the new or current pesticide for a month, and she'll compare the effectiveness of the pesticides.\n",
    "\n",
    "**What type of experiment design is this?**\n",
    "\n",
    "A completely randomized design"
   ]
  },
  {
   "cell_type": "markdown",
   "id": "e681c092-3d53-4864-afc5-aba7f0ff911d",
   "metadata": {},
   "source": [
    "---\n",
    "\n",
    "### Example 2: Randomized block\n",
    "\n",
    "A professor wants to study the effectiveness of a new study tool for a course. There are $150$ students registered for the course.\n",
    "Half of the freshmen are randomly assigned to use the new study tool, and the other half are assigned to use the previous study tool. The same method is used to randomly assign half of the sophomores, half of the juniors, and half of the seniors to each study tool.\n",
    "\n",
    "**What type of experiment design is this?**\n",
    "\n",
    "Randomized block\n",
    "\n",
    "The subjects are first split into groups—freshmen, sophomores, juniors, and seniors—before random assignment. This is called *blocking*. Random assignment is then carried out within each block."
   ]
  },
  {
   "cell_type": "markdown",
   "id": "fa927cd9-3762-4d24-adeb-c008a869e001",
   "metadata": {},
   "source": [
    "---\n",
    "\n",
    "### Example 3: Matched pairs\n",
    "\n",
    "A group of researchers wants to study the effect of listening to music at different volumes on driving reaction times. They recruit $100$ volunteers.\n",
    "While music plays in the car at one of two volume levels, each subject encounters a number of signs, some of which require braking, and their reaction times are recorded. The subjects repeat the experiment at the other volume level. The order of the conditions is randomly assigned for each subject.\n",
    "\n",
    "**What type of experiment design is this?**\n",
    "\n",
    "Matched pairs\n",
    "\n",
    "Explain:\n",
    "\n",
    "Each subject is receiving *both* treatment conditions—the two volumes of music—in a random order."
   ]
  },
  {
   "cell_type": "markdown",
   "id": "a82c834c-4ce7-4e52-8c3b-a7921529aa21",
   "metadata": {},
   "source": [
    "---\n",
    "\n",
    "### Example 4: Matched pairs\n",
    "\n",
    "An insurance company wants to study whether offering incentives for preventative care reduces overall health care costs. They select a random sample of $200$ of their customers.\n",
    "\n",
    "The company ranks the customers according to total health care costs for the previous year. For every $2$ customers, in order, from the list, the insurance company randomly assigns one customer to be offered the incentive and the other to the control group.\n",
    "\n",
    "**What type of experiment design is this?**\n",
    "\n",
    "Matched pairs\n",
    "\n",
    "Explain:\n",
    "\n",
    "The subjects were first put into pairs with another similar customer, and it was randomly determined which member of each pair was offered the incentive and which one wasn't, so this study used a matched pairs design.\n",
    "\n",
    "Customers are split into pairs before assignment, matched as nearly as possible on a common trait. Then they are randomly assigned from those pairs into the treatment or control group."
   ]
  },
  {
   "cell_type": "markdown",
   "id": "fc959f56-0847-4aae-a8f4-9b4a4d24a868",
   "metadata": {},
   "source": [
    "---\n",
    "\n",
    "### Example 5: Randomized block\n",
    "\n",
    "A certain disease is classified into $4$ stages that distinguish how developed the disease is. Researchers studying a new potential treatment recruited over $100$ patients with varying stages of the disease for their study. Half of the patients with stage $1$ were randomly assigned to receive the new treatment, and other half of stage $1$ patients received a placebo. A similar strategy was used for patients in each of the other stages.\n",
    "\n",
    "**What type of experiment design is this?**\n",
    "\n",
    "A randomized block design with the stages as the blocks\n",
    "\n",
    "Explain:\n",
    "  \n",
    "The subjects are first split into groups—stages $1$ thru $4$—before random assignment. This is called _blocking_. Random assignment is then carried out within each block. So each stage is acting as a block.\n",
    "\n",
    "This is a randomized block design with the stages as the blocks."
   ]
  },
  {
   "cell_type": "code",
   "execution_count": null,
   "id": "3fd19a03-3b82-4705-94e4-4acc52b36ac6",
   "metadata": {},
   "outputs": [],
   "source": []
  }
 ],
 "metadata": {
  "kernelspec": {
   "display_name": "statistics-and-probability",
   "language": "python",
   "name": "statistics-and-probability"
  },
  "language_info": {
   "codemirror_mode": {
    "name": "ipython",
    "version": 3
   },
   "file_extension": ".py",
   "mimetype": "text/x-python",
   "name": "python",
   "nbconvert_exporter": "python",
   "pygments_lexer": "ipython3",
   "version": "3.9.10"
  }
 },
 "nbformat": 4,
 "nbformat_minor": 5
}
