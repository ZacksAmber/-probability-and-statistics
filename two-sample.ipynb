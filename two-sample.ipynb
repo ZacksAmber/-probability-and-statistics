{
 "cells": [
  {
   "cell_type": "code",
   "execution_count": null,
   "id": "c85dbba5-a4b0-407c-8874-9bc9e5d8f825",
   "metadata": {},
   "outputs": [],
   "source": [
    "import numpy as np\n",
    "import pandas as pd\n",
    "import scipy.stats as st\n",
    "\n",
    "from statsmodels.stats import proportion, weightstats\n",
    "from statsmodels.stats.proportion import proportions_ztest\n",
    "from math import ceil\n",
    "from IPython.display import display, Latex"
   ]
  },
  {
   "cell_type": "markdown",
   "id": "864c78b7-4a67-43f9-bafd-13da4805a6e0",
   "metadata": {},
   "source": [
    "# Reference\n",
    "\n",
    "> [Unit: Two-sample inference for the difference between groups](https://www.khanacademy.org/math/statistics-probability/significance-tests-confidence-intervals-two-samples)<br>\n",
    "> [Test statistic](https://en.wikipedia.org/wiki/Test_statistic)"
   ]
  },
  {
   "cell_type": "markdown",
   "id": "7b51f54c-269a-4a61-b39b-30761a410139",
   "metadata": {},
   "source": [
    "---\n",
    "\n",
    "# Two-proportion z test\n",
    "\n",
    "> [TO POOL OR NOT TO POOL](https://www.ijpam.eu/contents/2013-89-4/5/5.pdf): There are two versions of this test, one is used when the variances of the two populations are equal (the pooled test) and the other one is used when the variances of the two populations are unequal (the unpooled test)."
   ]
  },
  {
   "cell_type": "markdown",
   "id": "d134eb63-21d1-43be-939f-43611436b952",
   "metadata": {},
   "source": [
    "---\n",
    "\n",
    "## Pooled z test\n",
    "\n",
    "### Formula\n",
    "\n",
    "$\\displaystyle H_{0}\\colon p_{1}=p_{2} \\Rightarrow d_0 = 0$\n",
    "\n",
    "$\\displaystyle z={\\frac {({\\hat {p}}_{1}-{\\hat {p}}_{2})}{\\sqrt {{\\hat {p}}(1-{\\hat {p}})({\\frac {1}{n_{1}}}+{\\frac {1}{n_{2}}})}}}$\n",
    "\n",
    "$\\displaystyle \\hat{p}=\\frac{x_1 + x_2}{n_1 + n_2}$\n",
    "\n",
    "### Conditions\n",
    "\n",
    "- **Random**\n",
    "- **Normal**\n",
    "    - $n_1 p_1 > 5$ **and** $n_1(1 − p_1) > 5$\n",
    "    - $n_2 p_2 > 5$ **and** $n_2(1 − p_2) > 5$\n",
    "- **Independent**"
   ]
  },
  {
   "cell_type": "markdown",
   "id": "567c91c8-bf7a-4ec6-9939-3a5eb099785a",
   "metadata": {},
   "source": [
    "---\n",
    "\n",
    "### Example 1"
   ]
  },
  {
   "cell_type": "markdown",
   "id": "b3e6918f-b78f-4fa4-936f-5db5f04e0278",
   "metadata": {},
   "source": [
    "- $H_0: p_1 - p_2 = 0 \\Rightarrow P(\\hat p_1 - \\hat p_2 | H_0) < 5\\%$\n",
    "- $H_\\text{a}: p_1 - p_2 \\neq 0$\n",
    "- $\\alpha = 5\\%$\n",
    "\n",
    "- $k1 = 642, n1 = 1000$\n",
    "- $k2 = 591, n1 = 1000$"
   ]
  },
  {
   "cell_type": "code",
   "execution_count": null,
   "id": "34044abb-8373-4d04-910b-9b9cee7e1873",
   "metadata": {},
   "outputs": [],
   "source": [
    "# Two-sample pooled z-test for proportion manually\n",
    "k1, n1 = 642, 1000\n",
    "k2, n2 = 591, 1000\n",
    "alpha = .05\n",
    "CL = 1 - alpha\n",
    "\n",
    "# estimated proportion\n",
    "p_hat_1 = k1 / n1\n",
    "p_hat_2 = k2 / n2\n",
    "p_hat = (k1 + k2) / (n1 + n2)\n",
    "\n",
    "# difference\n",
    "d0 = 0\n",
    "d = p_hat_1 - p_hat_2\n",
    "\n",
    "# standard error\n",
    "SE = np.sqrt(p_hat*(1-p_hat) * (1/n1 + 1/n2))\n",
    "\n",
    "# margin of error\n",
    "critical_value = st.norm.interval(CL)[1]\n",
    "MOE = critical_value * SE\n",
    "\n",
    "# confidence interval\n",
    "ci_low, ci_upp = d - MOE, d + MOE\n",
    "print('CI:', (ci_low, ci_upp))\n",
    "\n",
    "# z statistic & p-value\n",
    "zstat = (d - d0) / SE  # pooled\n",
    "if zstat > 0:\n",
    "    pval = st.norm.sf(zstat) * 2\n",
    "else:\n",
    "    pval = st.norm.cdf(zstat) * 2\n",
    "print('zstat, pval:', (zstat, pval))"
   ]
  },
  {
   "cell_type": "code",
   "execution_count": null,
   "id": "6455fa96-3678-434e-ad92-885b0de2eb2c",
   "metadata": {},
   "outputs": [],
   "source": [
    "# Two-sample pooled z-test for proportion by proportions_ztest\n",
    "k1, n1 = 642, 1000\n",
    "k2, n2 = 591, 1000\n",
    "d0 = 0\n",
    "count = [k1, k2]\n",
    "nobs = [n1, n2]\n",
    "\n",
    "zstat, pval = proportions_ztest(\n",
    "    count, \n",
    "    nobs,\n",
    "    value=d0,  # null hypothesis\n",
    "    alternative='two-sided', \n",
    "    prop_var=False  # pooled\n",
    ")\n",
    "print('zstat, pval:', (zstat, pval))"
   ]
  },
  {
   "cell_type": "code",
   "execution_count": null,
   "id": "58b41fa5-6df2-4592-9f56-5dc50428ac9f",
   "metadata": {},
   "outputs": [],
   "source": [
    "# R Chi-square test\n",
    "from rpy2.robjects.packages import importr\n",
    "import rpy2.robjects as robjects\n",
    "\n",
    "k1, n1 = 642, 1000\n",
    "k2, n2 = 591, 1000\n",
    "alpha = .05\n",
    "CL = 1 - alpha\n",
    "\n",
    "stats = importr(\"stats\")\n",
    "result = stats.prop_test(\n",
    "    x = robjects.IntVector([k1, k2]), \n",
    "    n = robjects.IntVector([n1, n2]),\n",
    "    alternative = 'two.sided',\n",
    "    conf_level = CL,\n",
    "    correct = False  # True if either the expected successes or failures is < 5\n",
    ")\n",
    "print(result)"
   ]
  },
  {
   "cell_type": "markdown",
   "id": "51537d1a-92f0-436a-b144-2701f62b6e75",
   "metadata": {
    "tags": []
   },
   "source": [
    "---\n",
    "\n",
    "## Unpooled z test\n",
    "\n",
    "### Formula\n",
    "\n",
    "$\\displaystyle H_{0}\\colon |d_0| > 0$\n",
    "\n",
    "$\\displaystyle z=\\frac{(\\hat{p}_1 - \\hat{p}_2) - d_0}{\\sqrt{\\frac{\\hat{p}_1(1 - \\hat{p}_1)}{n_1} + \\frac{\\hat{p}_2(1 - \\hat{p}_2)}{n_2}}}$\n",
    "\n",
    "### Conditions\n",
    "\n",
    "- **Random**\n",
    "- **Normal**\n",
    "    - $n_1 p_1 > 5$ **and** $n_1(1 − p_1) > 5$\n",
    "    - $n_2 p_2 > 5$ **and** $n_2(1 − p_2) > 5$\n",
    "- **Independent**"
   ]
  },
  {
   "cell_type": "markdown",
   "id": "06798d38-9668-4967-b691-8d31e7298a7f",
   "metadata": {},
   "source": [
    "---\n",
    "\n",
    "### Example 1"
   ]
  },
  {
   "cell_type": "markdown",
   "id": "2a19bee2-bd73-40f0-b0af-f23ebfdb7808",
   "metadata": {},
   "source": [
    "- $H_0: p_1 - p_2 = 0 \\Rightarrow P(\\hat p_1 - \\hat p_2 | H_0) < 5\\%$\n",
    "- $H_\\text{a}: p_1 - p_2 \\neq 0$\n",
    "- $\\alpha = 5\\%$\n",
    "\n",
    "- $k1 = 642, n1 = 1000$\n",
    "- $k2 = 591, n1 = 1000$"
   ]
  },
  {
   "cell_type": "code",
   "execution_count": null,
   "id": "fd775281-e9ea-490c-8bfb-d739689f6ee0",
   "metadata": {},
   "outputs": [],
   "source": [
    "k1, n1 = 642, 1000\n",
    "k2, n2 = 591, 1000\n",
    "alpha = .05\n",
    "CL = 1 - alpha\n",
    "\n",
    "# estimated proportion\n",
    "p_hat_1 = k1 / n1\n",
    "p_hat_2 = k2 / n2\n",
    "p_hat = (k1 + k2) / (n1 + n2)\n",
    "\n",
    "# difference\n",
    "d0 = 0\n",
    "d = p_hat_1 - p_hat_2\n",
    "\n",
    "var1 = p_hat_1 * (1 - p_hat_1) / n1\n",
    "var2 = p_hat_2 * (1 - p_hat_2) / n2\n",
    "\n",
    "# standard error\n",
    "SE = np.sqrt(var1 + var2)\n",
    "\n",
    "# margin of error\n",
    "critical_value = st.norm.interval(CL)[1]\n",
    "MOE = critical_value * SE\n",
    "\n",
    "# confidence interval\n",
    "ci_low, ci_upp = d - MOE, d + MOE\n",
    "print('CI:', (ci_low, ci_upp))\n",
    "\n",
    "# z statistic & p-value\n",
    "# zstat = (d - d0) / np.sqrt(p_hat * (1-p_hat) * (1/n1 + 1/n2)) # pooled\n",
    "zstat = (d - d0) / SE # unpooled\n",
    "pval = st.norm(loc=d0, scale=SE).sf(x=abs(d)) * 2 # unpooled\n",
    "# OR\n",
    "# pval = st.norm.sf(zstat) * 2 # pooled or unpooled depends on zstat\n",
    "print('zstat, pval:', (zstat, pval))"
   ]
  },
  {
   "cell_type": "code",
   "execution_count": null,
   "id": "5fa19455-690d-4ba2-b71c-93c41cb9b72d",
   "metadata": {},
   "outputs": [],
   "source": [
    "# I modifed the function from https://www.statsmodels.org/dev/_modules/statsmodels/stats/proportion.html#proportions_ztest\n",
    "def proportions_ztest(count, nobs, value=None, alternative='two-sided',\n",
    "                      prop_var=False):\n",
    "    \"\"\"\n",
    "    Test for proportions based on normal (z) test\n",
    "\n",
    "    Parameters\n",
    "    ----------\n",
    "    count : {int, array_like}\n",
    "        the number of successes in nobs trials. If this is array_like, then\n",
    "        the assumption is that this represents the number of successes for\n",
    "        each independent sample\n",
    "    nobs : {int, array_like}\n",
    "        the number of trials or observations, with the same length as\n",
    "        count.\n",
    "    value : float, array_like or None, optional\n",
    "        This is the value of the null hypothesis equal to the proportion in the\n",
    "        case of a one sample test. In the case of a two-sample test, the\n",
    "        null hypothesis is that prop[0] - prop[1] = value, where prop is the\n",
    "        proportion in the two samples. If not provided value = 0 and the null\n",
    "        is prop[0] = prop[1]\n",
    "    alternative : str in ['two-sided', 'smaller', 'larger']\n",
    "        The alternative hypothesis can be either two-sided or one of the one-\n",
    "        sided tests, smaller means that the alternative hypothesis is\n",
    "        ``prop < value`` and larger means ``prop > value``. In the two sample\n",
    "        test, smaller means that the alternative hypothesis is ``p1 < p2`` and\n",
    "        larger means ``p1 > p2`` where ``p1`` is the proportion of the first\n",
    "        sample and ``p2`` of the second one.\n",
    "    prop_var : False or float in (0, 1)\n",
    "        If prop_var is false, then the variance of the proportion estimate is\n",
    "        calculated based on the sample proportion. Alternatively, a proportion\n",
    "        can be specified to calculate this variance. Common use case is to\n",
    "        use the proportion under the Null hypothesis to specify the variance\n",
    "        of the proportion estimate.\n",
    "\n",
    "    Returns\n",
    "    -------\n",
    "    zstat : float\n",
    "        test statistic for the z-test\n",
    "    p-value : float\n",
    "        p-value for the z-test\n",
    "\n",
    "    Examples\n",
    "    --------\n",
    "    >>> count = 5\n",
    "    >>> nobs = 83\n",
    "    >>> value = .05\n",
    "    >>> stat, pval = proportions_ztest(count, nobs, value)\n",
    "    >>> print('{0:0.3f}'.format(pval))\n",
    "    0.695\n",
    "\n",
    "    >>> import numpy as np\n",
    "    >>> from statsmodels.stats.proportion import proportions_ztest\n",
    "    >>> count = np.array([5, 12])\n",
    "    >>> nobs = np.array([83, 99])\n",
    "    >>> stat, pval = proportions_ztest(count, nobs)\n",
    "    >>> print('{0:0.3f}'.format(pval))\n",
    "    0.159\n",
    "\n",
    "    Notes\n",
    "    -----\n",
    "    This uses a simple normal test for proportions. It should be the same as\n",
    "    running the mean z-test on the data encoded 1 for event and 0 for no event\n",
    "    so that the sum corresponds to the count.\n",
    "\n",
    "    In the one and two sample cases with two-sided alternative, this test\n",
    "    produces the same p-value as ``proportions_chisquare``, since the\n",
    "    chisquare is the distribution of the square of a standard normal\n",
    "    distribution.\n",
    "    \"\"\"\n",
    "    # TODO: verify that this really holds\n",
    "    # TODO: add continuity correction or other improvements for small samples\n",
    "    # TODO: change options similar to propotion_ztost ?\n",
    "\n",
    "    count = np.asarray(count)\n",
    "    nobs = np.asarray(nobs)\n",
    "\n",
    "    if nobs.size == 1:\n",
    "        nobs = nobs * np.ones_like(count)\n",
    "\n",
    "    prop = count * 1. / nobs\n",
    "    k_sample = np.size(prop)\n",
    "    if value is None:\n",
    "        if k_sample == 1:\n",
    "            raise ValueError('value must be provided for a 1-sample test')\n",
    "        value = 0\n",
    "    if k_sample == 1:\n",
    "        diff = prop - value\n",
    "    elif k_sample == 2:\n",
    "        diff = prop[0] - prop[1] - value\n",
    "    else:\n",
    "        msg = 'more than two samples are not implemented yet'\n",
    "        raise NotImplementedError(msg)\n",
    "\n",
    "    # unpooled\n",
    "    if prop_var:\n",
    "        var_ = np.sum((count / nobs) * (1 - (count / nobs)) / nobs)\n",
    "    # pooled\n",
    "    else:\n",
    "        p_pooled = np.sum(count) * 1. / np.sum(nobs)\n",
    "        nobs_fact = np.sum(1. / nobs)\n",
    "        var_ = p_pooled * (1 - p_pooled) * nobs_fact\n",
    "    std_diff = np.sqrt(var_)\n",
    "\n",
    "    from statsmodels.stats.weightstats import _zstat_generic2\n",
    "    return _zstat_generic2(diff, std_diff, alternative)"
   ]
  },
  {
   "cell_type": "code",
   "execution_count": null,
   "id": "dc01e0d0-2842-4fe7-8962-22389edb2a6a",
   "metadata": {},
   "outputs": [],
   "source": [
    "# Two-sample unpooled z-test for proportion by proportions_ztest\n",
    "k1, n1 = 642, 1000\n",
    "k2, n2 = 591, 1000\n",
    "d0 = 0\n",
    "count = [k1, k2]\n",
    "nobs = [n1, n2]\n",
    "\n",
    "zstat, pval = proportions_ztest(\n",
    "    count, \n",
    "    nobs,\n",
    "    value=d0,  # null hypothesis\n",
    "    alternative='two-sided', \n",
    "    prop_var=True  # unpooled\n",
    ")\n",
    "print('zstat, pval:', (zstat, pval))"
   ]
  },
  {
   "cell_type": "code",
   "execution_count": null,
   "id": "049bab02-2531-4477-802c-0da505a6c1f2",
   "metadata": {},
   "outputs": [],
   "source": [
    "# R Chi-square test\n",
    "from rpy2.robjects.packages import importr\n",
    "import rpy2.robjects as robjects\n",
    "\n",
    "k1, n1 = 642, 1000\n",
    "k2, n2 = 591, 1000\n",
    "alpha = .05\n",
    "CL = 1 - alpha\n",
    "\n",
    "stats = importr(\"stats\")\n",
    "result = stats.prop_test(\n",
    "    x = robjects.IntVector([k1, k2]), \n",
    "    n = robjects.IntVector([n1, n2]),\n",
    "    alternative = 'two.sided',\n",
    "    conf_level = CL,\n",
    "    correct = False # True if either the expected successes or failures is < 5\n",
    ")\n",
    "print(result)"
   ]
  },
  {
   "cell_type": "markdown",
   "id": "de8bc20e-3ece-480a-93a9-9ac2d6297113",
   "metadata": {},
   "source": [
    "---\n",
    "\n",
    "# Two-sample t test\n",
    "\n",
    "> [Student's t-test](https://en.wikipedia.org/wiki/Student%27s_t-test#Dependent_t-test_for_paired_samples)\n",
    "\n",
    "- Paired(dependent) t-test: Since we are ultimately concerned with the difference between two measures in one sample, the paired t-test reduces to the one sample t-test.\n",
    "- Unpaired(independent) t-test\n",
    "    - pooled t-test\n",
    "    - unpooled t-test"
   ]
  },
  {
   "cell_type": "markdown",
   "id": "50cc4d29-8fa1-4eb8-b731-e01997ccc9fd",
   "metadata": {},
   "source": [
    "---\n",
    "\n",
    "## Paired t test"
   ]
  },
  {
   "cell_type": "markdown",
   "id": "b119a5b7-db37-4d84-aefa-b4e7935039be",
   "metadata": {
    "tags": []
   },
   "source": [
    "---\n",
    "\n",
    "### Example 1: Two-sided\n",
    "\n",
    "> [How to Conduct a Paired Samples T-Test in Python](https://www.geeksforgeeks.org/how-to-conduct-a-paired-samples-t-test-in-python/)\n",
    "\n",
    "Let us consider that we want to know whether an engine oil significantly impacts the car’s mileage of different brands. In order to test this, we have 10 cars in a garage doped with original engine oil initially. We have noted their mileage for $100$ kilometers each. Then, we have each of the cars doped with another engine oil (different from the original one). Then, the mileage of the cars is calculated for 100 kilometers each. To compare the difference between the mean mileage of the first and second test, we use a paired samples t-test because for each car their first test score can be paired with their second test score. Conducting paired sample T-test is a step-by-step process."
   ]
  },
  {
   "cell_type": "code",
   "execution_count": null,
   "id": "3b2c4ca5-8202-40ee-bbee-e844fcdb9a6a",
   "metadata": {},
   "outputs": [],
   "source": [
    "# pre holds the mileage before \n",
    "# applying the different engine oil\n",
    "pre = np.array([30, 31, 34, 40, 36, 35, 34, 30, 28, 29])\n",
    "  \n",
    "# post holds the mileage after \n",
    "# applying the different engine oil\n",
    "post = np.array([30, 31, 32, 38, 32, 31, 32, 29, 28, 30])"
   ]
  },
  {
   "cell_type": "code",
   "execution_count": null,
   "id": "431ef886-f221-44e5-806f-9fffd2a8c2a4",
   "metadata": {},
   "outputs": [],
   "source": [
    "# Performing the paired sample t-test\n",
    "st.ttest_rel(a=pre, b=post, alternative='two-sided')"
   ]
  },
  {
   "cell_type": "code",
   "execution_count": null,
   "id": "f21ccbcc-9fea-4d77-9a42-119f3eb8a935",
   "metadata": {},
   "outputs": [],
   "source": [
    "# OR simplify the paired t test to one sample t test\n",
    "diff = post - pre\n",
    "n, mu_0, mu_1, sd_1 = len(diff), 0, diff.mean(), diff.std(ddof=1)\n",
    "SE = sd_1 / np.sqrt(n)\n",
    "\n",
    "if diff.mean() < 0:\n",
    "    pval = st.t(loc=mu_0, scale=SE, df=n-1).cdf(x=mu_1) * 2\n",
    "else:\n",
    "    pval = st.t(loc=mu_0, scale=SE, df=n-1).sf(x=mu_1) * 2\n",
    "pval"
   ]
  },
  {
   "cell_type": "markdown",
   "id": "acde3a50-ddc2-4bef-9d24-9dbf8a7a4cca",
   "metadata": {},
   "source": [
    "---\n",
    "\n",
    "## Pooled t test"
   ]
  },
  {
   "cell_type": "markdown",
   "id": "85f208dd-7745-413f-92b6-245811e797ee",
   "metadata": {
    "tags": []
   },
   "source": [
    "---\n",
    "\n",
    "### Example 1: Two-sided\n",
    "\n",
    "> [How to Conduct a Two Sample T-Test in Python](https://www.statology.org/two-sample-t-test-python/)\n",
    "\n",
    "Researchers want to know whether or not two different species of plants have the same mean height. To test this, they collect a simple random sample of 20 plants from each species."
   ]
  },
  {
   "cell_type": "code",
   "execution_count": null,
   "id": "f67e5b1d-0ffb-4e32-92dc-01b2c0cda435",
   "metadata": {},
   "outputs": [],
   "source": [
    "A = np.array([14, 15, 15, 16, 13, 8, 14, 17, 16, 14, 19, 20, 21, 15, 15, 16, 16, 13, 14, 12])\n",
    "B = np.array([15, 17, 14, 17, 14, 8, 12, 19, 19, 14, 17, 22, 24, 16, 13, 16, 13, 18, 15, 13])"
   ]
  },
  {
   "cell_type": "code",
   "execution_count": null,
   "id": "ddee3414-3080-47df-ac7c-bab6f8ad9cf0",
   "metadata": {},
   "outputs": [],
   "source": [
    "# t statistic & p-value\n",
    "st.ttest_ind(\n",
    "    a = A, \n",
    "    b = B, \n",
    "    equal_var = True, # True to perform pooled t test; False to perform unpooled t test\n",
    "    alternative='two-sided'\n",
    ")"
   ]
  },
  {
   "cell_type": "code",
   "execution_count": null,
   "id": "569ce002-32e8-4e53-9476-1bae523ad815",
   "metadata": {},
   "outputs": [],
   "source": [
    "# OR\n",
    "weightstats.ttest_ind(\n",
    "    x1 = A, \n",
    "    x2 = B,\n",
    "    alternative = 'two-sided',\n",
    "    usevar='pooled',\n",
    ")"
   ]
  },
  {
   "cell_type": "markdown",
   "id": "10c86dad-4447-4d2e-8f38-e0cce47193c0",
   "metadata": {},
   "source": [
    "---\n",
    "\n",
    "## Unpooled t test"
   ]
  },
  {
   "cell_type": "markdown",
   "id": "4731a2c1-c32e-4c74-8bb6-3820faf5a53e",
   "metadata": {
    "tags": []
   },
   "source": [
    "---\n",
    "\n",
    "### Example 1: Two-sided\n",
    "\n",
    "> [How to Conduct a Two Sample T-Test in Python](https://www.statology.org/two-sample-t-test-python/)\n",
    "\n",
    "Researchers want to know whether or not two different species of plants have the same mean height. To test this, they collect a simple random sample of 20 plants from each species."
   ]
  },
  {
   "cell_type": "code",
   "execution_count": null,
   "id": "0cc51448-dc97-408c-9b27-6a58ac1569af",
   "metadata": {},
   "outputs": [],
   "source": [
    "A = np.array([14, 15, 15, 16, 13, 8, 14, 17, 16, 14, 19, 20, 21, 15, 15, 16, 16, 13, 14, 12])\n",
    "B = np.array([15, 17, 14, 17, 14, 8, 12, 19, 19, 14, 17, 22, 24, 16, 13, 16, 13, 18, 15, 13])"
   ]
  },
  {
   "cell_type": "code",
   "execution_count": null,
   "id": "8213f580-2423-4439-a439-aa62251bc2dd",
   "metadata": {},
   "outputs": [],
   "source": [
    "# t statistic & p-value\n",
    "st.ttest_ind(\n",
    "    a = A, \n",
    "    b = B, \n",
    "    equal_var = False, # True to perform pooled t test; False to perform unpooled t test\n",
    "    alternative='two-sided'\n",
    ")"
   ]
  },
  {
   "cell_type": "code",
   "execution_count": null,
   "id": "3f064a9a-3151-415c-b8a8-fe2654fef299",
   "metadata": {},
   "outputs": [],
   "source": [
    "# OR\n",
    "weightstats.ttest_ind(\n",
    "    x1 = A, \n",
    "    x2 = B,\n",
    "    alternative = 'two-sided',\n",
    "    usevar='unequal',\n",
    ")"
   ]
  },
  {
   "cell_type": "code",
   "execution_count": null,
   "id": "b715e9c1-3a7b-4b00-8e5c-eb62d83d8ddd",
   "metadata": {},
   "outputs": [],
   "source": []
  }
 ],
 "metadata": {
  "kernelspec": {
   "display_name": "statistics-and-probability",
   "language": "python",
   "name": "statistics-and-probability"
  },
  "language_info": {
   "codemirror_mode": {
    "name": "ipython",
    "version": 3
   },
   "file_extension": ".py",
   "mimetype": "text/x-python",
   "name": "python",
   "nbconvert_exporter": "python",
   "pygments_lexer": "ipython3",
   "version": "3.9.16"
  }
 },
 "nbformat": 4,
 "nbformat_minor": 5
}
