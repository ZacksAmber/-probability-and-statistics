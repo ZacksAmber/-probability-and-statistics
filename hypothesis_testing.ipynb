{
 "cells": [
  {
   "cell_type": "code",
   "execution_count": 1,
   "id": "a3ebaf84-d0a0-4fc2-9572-36aed7a95c3e",
   "metadata": {},
   "outputs": [],
   "source": [
    "from scipy.stats import binom\n",
    "from IPython.display import display, Latex"
   ]
  },
  {
   "cell_type": "markdown",
   "id": "7a498268-cae4-43d9-94f0-c8cf3547c5b8",
   "metadata": {
    "tags": []
   },
   "source": [
    "# [Hypothesis Testing](https://en.wikipedia.org/wiki/Statistical_hypothesis_testing)\n",
    "\n",
    "A **statistical hypothesis test** is a method of [statistical inference](https://en.wikipedia.org/wiki/Statistical_inference \"Statistical inference\") used to determine a possible conclusion from two different, and likely conflicting, hypotheses.\n",
    "\n",
    "In a statistical hypothesis test, a [null hypothesis](https://en.wikipedia.org/wiki/Null_hypothesis \"Null hypothesis\") and an [alternative hypothesis](https://en.wikipedia.org/wiki/Alternative_hypothesis \"Alternative hypothesis\") is proposed for the probability distribution of the data. If the sample obtained has a probability of occurrence less than the pre-specified threshold probability, the [significance level](https://en.wikipedia.org/wiki/Significance_level \"Significance level\"), given the null hypothesis is true, the difference between the sample and the null hypothesis is deemed [_statistically significant_](https://en.wikipedia.org/wiki/Statistically_significant \"Statistically significant\"). The hypothesis test may then lead to the rejection of null hypothesis and acceptance of alternate hypothesis.\n",
    "\n",
    "The process of distinguishing between the null hypothesis and the alternative hypothesis is aided by considering [Type I error](https://en.wikipedia.org/wiki/Type_I_and_type_II_errors \"Type I and type II errors\") and [Type II error](https://en.wikipedia.org/wiki/Type_I_and_type_II_errors \"Type I and type II errors\") which are controlled by the pre-specified significance level.\n",
    "\n",
    "Hypothesis tests based on statistical significance are another way of expressing [confidence intervals](https://en.wikipedia.org/wiki/Confidence_interval \"Confidence interval\") (more precisely, confidence sets). In other words, every hypothesis test based on significance can be obtained via a confidence interval, and every confidence interval can be obtained via a hypothesis test based on significance.[[1]](https://en.wikipedia.org/wiki/Statistical_hypothesis_testing#cite_note-1)"
   ]
  },
  {
   "cell_type": "markdown",
   "id": "014a7db3-0eaf-4096-b702-a46fc8f6908a",
   "metadata": {},
   "source": [
    "---\n",
    "\n",
    "## [p-value](https://en.wikipedia.org/wiki/P-value)\n",
    "\n",
    "In [null-hypothesis significance testing](https://en.wikipedia.org/wiki/Statistical_hypothesis_testing \"Statistical hypothesis testing\"), the **_p_-value**[[note 1]](https://en.wikipedia.org/wiki/P-value#cite_note-2) is the probability of obtaining test results at least as extreme as the [results actually observed](https://en.wikipedia.org/wiki/Realization_(probability) \"Realization (probability)\"), under the assumption that the [null hypothesis](https://en.wikipedia.org/wiki/Null_hypothesis \"Null hypothesis\") is correct.[[2]](https://en.wikipedia.org/wiki/P-value#cite_note-3)[[3]](https://en.wikipedia.org/wiki/P-value#cite_note-ASA-4) A very small _p_-value means that such an extreme observed [outcome](https://en.wikipedia.org/wiki/Outcome_(probability) \"Outcome (probability)\") would be very unlikely under the null hypothesis. Reporting _p_-values of statistical tests is common practice in [academic publications](https://en.wikipedia.org/wiki/Academic_publishing \"Academic publishing\") of many quantitative fields. Since the precise meaning of _p_-value is hard to grasp, [misuse is widespread](https://en.wikipedia.org/wiki/Misuse_of_p-values \"Misuse of p-values\") and has been a major topic in [Metascience](https://en.wikipedia.org/wiki/Metascience \"Metascience\").[[4]](https://en.wikipedia.org/wiki/P-value#cite_note-5)[[5]](https://en.wikipedia.org/wiki/P-value#cite_note-6)"
   ]
  },
  {
   "cell_type": "markdown",
   "id": "34f5b850-3954-44ca-916b-09c301641925",
   "metadata": {},
   "source": [
    "### Example 1: One-tailed\n",
    "\n",
    "It is commonly said that $10\\%$, percent of people are left-handed, but Lilianna suspected that a higher proportion of art students at her university are left-handed. To test this theory, she took a sample of $150$ art students and found that $\\hat p=14\\%$ of the sample was left-handed.\n",
    "\n",
    "To see how likely a sample like this was to happen by random chance alone, Lilianna performed a simulation. She took a sample of $n=150$ students from a population where $10\\%$ of the students were left-handed, and she recorded what proportion of the sample was left-handed. She repeated this process for a total of $50$ samples. Here are the sample proportions from her $50$ samples:\n",
    "\n",
    "She wants to test $H_0: p=10\\%$ vs. $H_\\text{a}: p>10\\%$ where $p$ is the proportion of art students at her university who are left-handed.\n",
    "\n",
    "![](https://raw.githubusercontent.com/ZacksAmber/PicGo/master/img/20220221023934.png)\n",
    "\n",
    "**Based on these simulated results, what is the approximate ppp-value of the test?**  \n",
    "_Note: The sample result was $\\hat p=14\\%$._"
   ]
  },
  {
   "cell_type": "code",
   "execution_count": 2,
   "id": "ee624985-b75a-4c78-a040-dd17228f3040",
   "metadata": {},
   "outputs": [
    {
     "data": {
      "text/plain": [
       "0.08"
      ]
     },
     "execution_count": 2,
     "metadata": {},
     "output_type": "execute_result"
    }
   ],
   "source": [
    "# the number p >= 0.14 is 4\n",
    "trials = 50\n",
    "p_value = 4 / trials\n",
    "p_value"
   ]
  },
  {
   "cell_type": "markdown",
   "id": "51ef35f5-0fa3-41d2-adaf-1cd3b9e23cfa",
   "metadata": {},
   "source": [
    "### Example 2: Two-tailed\n",
    "\n",
    "A large school district knows that $75\\%$, percent of students in previous years rode the bus to school. Administrators wondered if that figure was still accurate, so they took a random sample of $n=80$ students and found that $\\hat p=65\\%$ of those sampled rode the bus to school.\n",
    "\n",
    "To see how likely a sample like this was to happen by random chance alone, the school district performed a simulation. They simulated $120$ samples of $n=80$ students from a large population where $75\\%$, percent of the students rode the bus to school. They recorded the proportion of students who rode the bus in each sample. Here are the sample proportions from their $120$ samples:\n",
    "\n",
    "![](https://raw.githubusercontent.com/ZacksAmber/PicGo/master/img/20220221024540.png)\n",
    "\n",
    "They want to test $H_0: p=75\\%$ vs. $H_\\text{a}: p \\neq 75\\%$ where $p$ is the true proportion of students in this district that ride the bus to school.\n",
    "\n",
    "**Based on these simulated results, what is the approximate $p-value$ of the test?**  \n",
    "_Note: The sample result was $\\hat p=65\\%$."
   ]
  },
  {
   "cell_type": "code",
   "execution_count": 3,
   "id": "218dea36-86b8-4918-87b3-39f2088a377a",
   "metadata": {},
   "outputs": [
    {
     "data": {
      "text/plain": [
       "0.058333333333333334"
      ]
     },
     "execution_count": 3,
     "metadata": {},
     "output_type": "execute_result"
    }
   ],
   "source": [
    "# the number of p <= 0.65 and p >= 0.85 is 4 + 3\n",
    "trials = 120\n",
    "p_value = 7 / trials\n",
    "p_value"
   ]
  },
  {
   "cell_type": "markdown",
   "id": "272ed1d9-39aa-42ac-818d-817d365c32c1",
   "metadata": {
    "tags": []
   },
   "source": [
    "## [Binomial Distribution](https://en.wikipedia.org/wiki/Binomial_distribution)\n",
    "\n",
    "> [Probability mass function](https://en.wikipedia.org/wiki/Probability_mass_function)<br>\n",
    "> In [probability](https://en.wikipedia.org/wiki/Probability_theory \"Probability theory\") and [statistics](https://en.wikipedia.org/wiki/Statistics \"Statistics\"), a **probability mass function** is a function that gives the probability that a [discrete random variable](https://en.wikipedia.org/wiki/Discrete_random_variable \"Discrete random variable\") is exactly equal to some value.[[1]](https://en.wikipedia.org/wiki/Probability_mass_function#cite_note-1) Sometimes it is also known as the discrete density function. The probability mass function is often the primary means of defining a [discrete probability distribution](https://en.wikipedia.org/wiki/Discrete_probability_distribution \"Discrete probability distribution\"), and such functions exist for either [scalar](https://en.wikipedia.org/wiki/Scalar_variable \"Scalar variable\") or [multivariate random variables](https://en.wikipedia.org/wiki/Multivariate_random_variable \"Multivariate random variable\") whose [domain](https://en.wikipedia.org/wiki/Domain_of_a_function \"Domain of a function\") is discrete.<br>\n",
    "> A probability mass function differs from a [probability density function](https://en.wikipedia.org/wiki/Probability_density_function) (PDF) in that the latter is associated with continuous rather than discrete random variables. A PDF must be [integrated](https://en.wikipedia.org/wiki/Integration_(mathematics) \"Integration (mathematics)\") over an interval to yield a probability.[[2]](https://en.wikipedia.org/wiki/Probability_mass_function#cite_note-:0-2)<br>\n",
    "> The value of the random variable having the largest probability mass is called the [mode](https://en.wikipedia.org/wiki/Mode_(statistics) \"Mode (statistics)\").\n",
    "\n",
    "> [Cumulative distribution function](https://en.wikipedia.org/wiki/Cumulative_distribution_function)<br>\n",
    "> In [probability theory](https://en.wikipedia.org/wiki/Probability_theory \"Probability theory\") and [statistics](https://en.wikipedia.org/wiki/Statistics \"Statistics\"), the **cumulative distribution function** (**CDF**) of a real-valued [random variable](https://en.wikipedia.org/wiki/Random_variable \"Random variable\") ${\\displaystyle X}$, or just **distribution function** of ${\\displaystyle X}$, evaluated at ${\\displaystyle x}$ that ${\\displaystyle X}$ will take a value less than or equal to ${\\displaystyle x}$.[[1]](https://en.wikipedia.org/wiki/Cumulative_distribution_function#cite_note-1)<br>\n",
    "> In the case of a scalar [continuous distribution](https://en.wikipedia.org/wiki/Continuous_distribution \"Continuous distribution\"), it gives the area under the [probability density function](https://en.wikipedia.org/wiki/Probability_density_function \"Probability density function\") from minus infinity to ${\\displaystyle x}$. Cumulative distribution functions are also used to specify the distribution of [multivariate random variables](https://en.wikipedia.org/wiki/Multivariate_random_variable \"Multivariate random variable\")."
   ]
  },
  {
   "cell_type": "markdown",
   "id": "a2cab5f2-e7ca-46ec-aa9d-89cd5d72e6e4",
   "metadata": {},
   "source": [
    "### Example 1: PMF\n",
    "\n",
    "Olga has a pair of dogs, and she noticed they usually breed more male puppies than females. To check that, she bred them again and obtained $4$ puppies, and _all_ of them were males.\n",
    "\n",
    "Let's test the hypothesis that **each puppy has an equal chance of $50\\%$  of being either male or female** versus the alternative that the chance of a male puppy is _greater_.\n",
    "\n",
    "**Assuming the hypothesis is correct, what is the probability of having 4 male puppies out of $4$? Round your answer, if necessary, to the nearest tenth of a percent.**\n",
    "\n",
    "Let's agree that if the observed outcome has a probability _less_ than 1%, percent under the tested hypothesis, we will reject the hypothesis."
   ]
  },
  {
   "cell_type": "code",
   "execution_count": 4,
   "id": "589104bb-1c6d-4e4d-b665-22f71ef0b821",
   "metadata": {},
   "outputs": [
    {
     "data": {
      "text/latex": [
       "$P(X=4)=6.25\\%$"
      ],
      "text/plain": [
       "<IPython.core.display.Latex object>"
      ]
     },
     "metadata": {},
     "output_type": "display_data"
    }
   ],
   "source": [
    "# Analytics\n",
    "k, n, p = 4, 4, 0.5\n",
    "precision = 2\n",
    "pmf = binom.pmf(k, n, p)\n",
    "pmf = round(pmf * 100, precision)\n",
    "display(Latex(f'$P(X=4)={pmf}\\%$'))"
   ]
  },
  {
   "cell_type": "markdown",
   "id": "26f39b36-3547-4d59-b505-30d4193906d1",
   "metadata": {},
   "source": [
    "Conculsion: Since 6.25% is greater than 1%, we cannot reject $H_0$."
   ]
  },
  {
   "cell_type": "markdown",
   "id": "ba144b50-c62a-4255-9263-d51399ee4e42",
   "metadata": {},
   "source": [
    "### Example 2: CDF for left tail\n",
    "\n",
    "Mateus’s bank issued an advertisement saying that $90\\%$ of its customers are satisfied with the bank’s services. Since he himself wasn't very satisfied, he suspected the ad is false. He surveyed a random sample of $80$ of the bank’s customers, and found that only 80% were satisfied.\n",
    "\n",
    "Let's test the hypothesis that **the actual percentage of satisfied customers is $90\\%$** versus the alternative that the actual percentage is _lower_ than that.\n",
    "\n",
    "The table below sums up the results of $1000$ simulations, each simulating a sample of $80$ customers, assuming there are $90\\%$ satisfied customers.\n",
    "\n",
    "**According to the simulations, what is the probability of getting a sample with $80\\%$ satisfied customers or less?**\n",
    "\n",
    "Let's agree that if the observed outcome has a probability _less_ than 1%, percent under the tested hypothesis, we will reject the hypothesis.\n",
    "\n",
    "|Measured % of satisfied customers|Frequency|\n",
    "|:-:|:-:|\n",
    "|80|5|\n",
    "|82.5|24|\n",
    "|85|72|\n",
    "|87.5|181|\n",
    "|90|281|\n",
    "|92.5|272|\n",
    "|95|136|\n",
    "|97.5|27|\n",
    "|100|2|"
   ]
  },
  {
   "cell_type": "code",
   "execution_count": 5,
   "id": "d5d8c43a-2f7f-4cea-a81a-9f33578b50a6",
   "metadata": {},
   "outputs": [
    {
     "data": {
      "text/latex": [
       "$P(X<=80\\%)=0.53\\%$"
      ],
      "text/plain": [
       "<IPython.core.display.Latex object>"
      ]
     },
     "metadata": {},
     "output_type": "display_data"
    }
   ],
   "source": [
    "# Analytics\n",
    "k, n, p = 80*0.8, 80, 0.9\n",
    "precision = 2\n",
    "cdf = binom.cdf(k, n, p)\n",
    "cdf = round(cdf * 100, precision)\n",
    "display(Latex(f'$P(X<=80\\%)={cdf}\\%$'))"
   ]
  },
  {
   "cell_type": "code",
   "execution_count": 6,
   "id": "ef3c4b51-1478-418d-9332-f5cee5ce8796",
   "metadata": {},
   "outputs": [
    {
     "data": {
      "text/latex": [
       "$P(X<=80\\%)=0.5\\%$"
      ],
      "text/plain": [
       "<IPython.core.display.Latex object>"
      ]
     },
     "metadata": {},
     "output_type": "display_data"
    }
   ],
   "source": [
    "# Simulation\n",
    "trials = 1000\n",
    "c_freq = 5\n",
    "c_prob = c_freq / trials * 100\n",
    "c_prob = round(c_prob, precision)\n",
    "display(Latex(f'$P(X<=80\\%)={c_prob}\\%$'))"
   ]
  },
  {
   "cell_type": "markdown",
   "id": "a97d27b4-8157-45b9-bacc-10c6ef432196",
   "metadata": {},
   "source": [
    "Conculsion: Since 0.5% is less than 1%, we should reject $H_0$."
   ]
  },
  {
   "cell_type": "markdown",
   "id": "8a38e0f3-6af7-47fa-9461-1bd0da18c343",
   "metadata": {},
   "source": [
    "### Example 3: CDF for right tail\n",
    "\n",
    "Jan has two brothers: Jonas and Niklas. Every day Niklas draws a name out of a hat to randomly select one of the three brothers to wash the dishes. Jan suspected that Niklas is cheating, so he kept track of the draws, and found that out of 11 draws, Jonas got picked 6 times.\n",
    "\n",
    "Let's test the hypothesis that **each brother has an equal chance of $\\displaystyle \\frac{1}{3}$ of getting picked in each draw** versus the alternative that Jonas's probability is _greater_.\n",
    "\n",
    "The table below sums up the results of $1000$ simulations, each simulating 11 draws with a probability of $\\displaystyle \\frac{1}{3}$ of Jonas getting picked.\n",
    "\n",
    "**According to the simulations, what is the probability of Jonas getting picked 6 times or more out of 11?**\n",
    "\n",
    "Let's agree that if the observed outcome has a probability _less_ than 1%, percent under the tested hypothesis, we will reject the hypothesis.\n",
    "\n",
    "|# of times Jonas got picked out of 11|Frequency|\n",
    "|:-:|:-:|\n",
    "|0|13|\n",
    "|1|64|\n",
    "|2|159|\n",
    "|3|238|\n",
    "|4|238|\n",
    "|5|167|\n",
    "|6|83|\n",
    "|7|30|\n",
    "|8|7|\n",
    "|9|1|\n",
    "|10|0|\n",
    "|11|0|"
   ]
  },
  {
   "cell_type": "code",
   "execution_count": 7,
   "id": "4ec90fa7-9d86-4c77-a7df-5e4b80eb0703",
   "metadata": {},
   "outputs": [
    {
     "data": {
      "text/latex": [
       "$P(X>=6)=12.21\\%$"
      ],
      "text/plain": [
       "<IPython.core.display.Latex object>"
      ]
     },
     "metadata": {},
     "output_type": "display_data"
    }
   ],
   "source": [
    "# Analytics\n",
    "k, n, p = 6-1, 11, 1/3\n",
    "precision = 2\n",
    "cdf = 1 - binom.cdf(k, n, p)\n",
    "cdf = round(cdf * 100, precision)\n",
    "display(Latex(f'$P(X>=6)={cdf}\\%$'))"
   ]
  },
  {
   "cell_type": "code",
   "execution_count": 8,
   "id": "e44e1a13-202b-4dd9-a40f-fbef5b8b851b",
   "metadata": {},
   "outputs": [
    {
     "data": {
      "text/latex": [
       "$P(X>=6)=12.1\\%$"
      ],
      "text/plain": [
       "<IPython.core.display.Latex object>"
      ]
     },
     "metadata": {},
     "output_type": "display_data"
    }
   ],
   "source": [
    "# Simulations\n",
    "trials = 1000\n",
    "c_freq = 83 + 30 + 7 + 1 + 0 + 0\n",
    "c_prob = c_freq / trials * 100\n",
    "c_prob = round(c_prob, precision)\n",
    "display(Latex(f'$P(X>=6)={c_prob}\\%$'))"
   ]
  },
  {
   "cell_type": "markdown",
   "id": "3a110c18-fec2-42b1-9b5b-56adb860d9ec",
   "metadata": {},
   "source": [
    "Conculsion: Since 12.1% is greater than 1%, we cannot reject $H_0$."
   ]
  },
  {
   "cell_type": "code",
   "execution_count": null,
   "id": "93942628-3cc2-41c7-8a2f-53aedb90de3a",
   "metadata": {},
   "outputs": [],
   "source": []
  }
 ],
 "metadata": {
  "kernelspec": {
   "display_name": "statistics-and-probability",
   "language": "python",
   "name": "statistics-and-probability"
  },
  "language_info": {
   "codemirror_mode": {
    "name": "ipython",
    "version": 3
   },
   "file_extension": ".py",
   "mimetype": "text/x-python",
   "name": "python",
   "nbconvert_exporter": "python",
   "pygments_lexer": "ipython3",
   "version": "3.9.10"
  }
 },
 "nbformat": 4,
 "nbformat_minor": 5
}
