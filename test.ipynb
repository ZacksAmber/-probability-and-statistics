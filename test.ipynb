{
 "cells": [
  {
   "cell_type": "code",
   "execution_count": 7,
   "id": "1971b46b-7d37-4cff-be38-8c342a3e1af9",
   "metadata": {
    "tags": []
   },
   "outputs": [],
   "source": [
    "import numpy as np\n",
    "import scipy.stats as st"
   ]
  },
  {
   "cell_type": "code",
   "execution_count": 15,
   "id": "70e3b83f-bf9a-465d-8418-9efe897337a7",
   "metadata": {},
   "outputs": [],
   "source": [
    "# two-sided\n",
    "a = .057  # alpha\n",
    "g = .05 # Effect Size\n",
    "n = 100"
   ]
  },
  {
   "cell_type": "code",
   "execution_count": 16,
   "id": "63b6d270-f122-4d63-bfb8-ac9ecfc07d2e",
   "metadata": {},
   "outputs": [
    {
     "data": {
      "text/plain": [
       "0.35355339059327373"
      ]
     },
     "execution_count": 16,
     "metadata": {},
     "output_type": "execute_result"
    }
   ],
   "source": [
    "NCP = g * np.sqrt(n) / np.sqrt(2)\n",
    "NCP"
   ]
  },
  {
   "cell_type": "code",
   "execution_count": 17,
   "id": "764bc946-6212-424a-9f3d-0db18a6bfa8b",
   "metadata": {},
   "outputs": [
    {
     "data": {
      "text/plain": [
       "1.5804668183993615"
      ]
     },
     "execution_count": 17,
     "metadata": {},
     "output_type": "execute_result"
    }
   ],
   "source": [
    "Z = st.norm.ppf(1 - a)\n",
    "Z"
   ]
  },
  {
   "cell_type": "code",
   "execution_count": 18,
   "id": "4ce6fc12-e51b-4280-a322-7e92031e5359",
   "metadata": {
    "tags": []
   },
   "outputs": [
    {
     "data": {
      "text/plain": [
       "0.1912043423153773"
      ]
     },
     "execution_count": 18,
     "metadata": {},
     "output_type": "execute_result"
    }
   ],
   "source": [
    "beta = 1 - st.norm.cdf(Z - 0.707, loc=0, scale=1)\n",
    "beta"
   ]
  },
  {
   "cell_type": "code",
   "execution_count": 14,
   "id": "0a1cad54-f7f2-491a-9de7-6ab49b0ed9e6",
   "metadata": {
    "tags": []
   },
   "outputs": [
    {
     "data": {
      "text/plain": [
       "0.8258401813121937"
      ]
     },
     "execution_count": 14,
     "metadata": {},
     "output_type": "execute_result"
    }
   ],
   "source": [
    "power = 1 - beta\n",
    "power"
   ]
  },
  {
   "cell_type": "code",
   "execution_count": 19,
   "id": "2eb942b0-7f2c-4424-8cec-6d5b0ea789d2",
   "metadata": {
    "tags": []
   },
   "outputs": [],
   "source": [
    "def experiment_size(p_null, p_alt, alpha = .05, beta = .20):\n",
    "    \"\"\"\n",
    "    Compute the minimum number of samples needed to achieve a desired power\n",
    "    level for a given effect size.\n",
    "    \n",
    "    Input parameters:\n",
    "        p_null: base success rate under null hypothesis\n",
    "        p_alt : desired success rate to be detected\n",
    "        alpha : Type-I error rate\n",
    "        beta  : Type-II error rate\n",
    "    \n",
    "    Output value:\n",
    "        n : Number of samples required for each group to obtain desired power\n",
    "    \"\"\"\n",
    "    \n",
    "    # Get necessary z-scores and standard deviations (@ 1 obs per group)\n",
    "    z_null = st.norm.ppf(1 - alpha)\n",
    "    z_alt  = st.norm.ppf(beta)\n",
    "    # sd_null = np.sqrt(p_null * (1-p_null) + p_null * (1-p_null))\n",
    "    sd_null = np.sqrt((2 * (p_null + p_alt) / 2) * (1 - (p_null + p_alt) / 2))\n",
    "    sd_alt  = np.sqrt(p_null * (1-p_null) + p_alt  * (1-p_alt) )\n",
    "    \n",
    "    # Compute and return minimum sample size\n",
    "    p_diff = p_alt - p_null\n",
    "    n = ((z_null*sd_null - z_alt*sd_alt) / abs(p_diff)) ** 2\n",
    "\n",
    "    return np.ceil(n)"
   ]
  },
  {
   "cell_type": "code",
   "execution_count": 26,
   "id": "f181afa4-9ed6-474a-8505-1da868d337bb",
   "metadata": {
    "tags": []
   },
   "outputs": [
    {
     "data": {
      "text/plain": [
       "1233.0"
      ]
     },
     "execution_count": 26,
     "metadata": {},
     "output_type": "execute_result"
    }
   ],
   "source": [
    "experiment_size()"
   ]
  },
  {
   "cell_type": "code",
   "execution_count": 27,
   "id": "18de2022-70bb-4281-8f66-ae3daee40529",
   "metadata": {
    "tags": []
   },
   "outputs": [
    {
     "data": {
      "text/plain": [
       "0.347"
      ]
     },
     "execution_count": 27,
     "metadata": {},
     "output_type": "execute_result"
    }
   ],
   "source": [
    "1.918 - 1.571"
   ]
  },
  {
   "cell_type": "code",
   "execution_count": null,
   "id": "0d8ab457-386e-4956-a446-2a8158027e35",
   "metadata": {},
   "outputs": [],
   "source": []
  }
 ],
 "metadata": {
  "kernelspec": {
   "display_name": "statistics-and-probability",
   "language": "python",
   "name": "statistics-and-probability"
  },
  "language_info": {
   "codemirror_mode": {
    "name": "ipython",
    "version": 3
   },
   "file_extension": ".py",
   "mimetype": "text/x-python",
   "name": "python",
   "nbconvert_exporter": "python",
   "pygments_lexer": "ipython3",
   "version": "3.10.10"
  }
 },
 "nbformat": 4,
 "nbformat_minor": 5
}
