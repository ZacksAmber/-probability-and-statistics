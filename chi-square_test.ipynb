{
 "cells": [
  {
   "cell_type": "code",
   "execution_count": 1,
   "id": "6120016c-a2f7-492f-9b22-36362320daa8",
   "metadata": {},
   "outputs": [],
   "source": [
    "import numpy as np\n",
    "from scipy import stats"
   ]
  },
  {
   "cell_type": "markdown",
   "id": "11a27213-6889-44e9-951c-6fbe28fa076d",
   "metadata": {},
   "source": [
    "# Goodness of Fit"
   ]
  },
  {
   "cell_type": "markdown",
   "id": "e63263dd-a5c8-4b2a-ad0d-7532bc6508d5",
   "metadata": {},
   "source": [
    "---\n",
    "\n",
    "### Example 1\n",
    "\n",
    "Jiao works as an usher at a theater. The theater has $1000$ seats that are accessed through five entrances. Each guest should use the entrance that's marked on their ticket. Jiao wants to test if the distribution of guests according to entrances matches the official distribution. He collects information about the number of guests that went through each entrance at a certain night. Here are the results:\n",
    "\n",
    "|Entrance|A|B|C|D|E|Total|\n",
    "|:-:|:-:|:-:|:-:|:-:|:-:|:-:|\n",
    "|Expected|30%|30%|20%|10%|10%|100%|\n",
    "|# of people|398|202|205|87|108|1000|\n",
    "\n",
    "Jiao wants to perform a $\\chi^2$ goodness-of-fit test to determine if these results suggest that the actual distribution of people doesn't match the expected distribution.\n",
    "\n",
    "**What is the expected count of guests in entrance $\\text A$ in Jiao's sample?**  \n",
    "_You may round your answer to the nearest hundredth._"
   ]
  },
  {
   "cell_type": "code",
   "execution_count": 2,
   "id": "1c3f1b0d-7497-4be2-aab0-690162bc6d23",
   "metadata": {},
   "outputs": [
    {
     "data": {
      "text/plain": [
       "300.0"
      ]
     },
     "execution_count": 2,
     "metadata": {},
     "output_type": "execute_result"
    }
   ],
   "source": [
    "total = 1000\n",
    "1000 * 0.3"
   ]
  },
  {
   "cell_type": "markdown",
   "id": "56b939f0-3abd-47a9-81bc-daa3d9ba195a",
   "metadata": {},
   "source": [
    "Conculsion: The expected count of guests in entrance $A$ in Jiao's sample is $Total \\times P(A) = 1000 \\times 30\\% = 300$."
   ]
  },
  {
   "cell_type": "markdown",
   "id": "4338b5be-73b9-459e-b410-e0b7fc70a476",
   "metadata": {},
   "source": [
    "---\n",
    "\n",
    "### Example 2\n",
    "\n",
    "In the game rock-paper-scissors, Kenny expects to win, tie, and lose with equal frequency. Kenny plays rock-paper-scissors often, but he suspected his own games were not following that pattern, so he took a random sample of $24$ games and recorded their outcomes. Here are his results:\n",
    "\n",
    "|Outcome|Win|Loss|Tie|\n",
    "|:-:|:-:|:-:|:-:|\n",
    "|Games|4|13|7|\n",
    "\n",
    "He wants to use these results to carry out a $\\chi^2$ to determine if the distribution of his outcomes disagrees with an even distribution.\n",
    "\n",
    "**What are the values of the test statistic and P-value for Kenny's test?**"
   ]
  },
  {
   "cell_type": "code",
   "execution_count": 3,
   "id": "f66d12cc-87c7-414f-b641-38373e0704d7",
   "metadata": {},
   "outputs": [
    {
     "name": "stdout",
     "output_type": "stream",
     "text": [
      "test static = 5.25\n",
      "p-value = 0.07\n"
     ]
    }
   ],
   "source": [
    "p = np.array([1/3, 1/3, 1/3])\n",
    "total = 24\n",
    "expected = p * total\n",
    "observed = np.array([4, 13, 7])\n",
    "static, pvalue = stats.chisquare(f_obs=observed, f_exp=expected, ddof=0)\n",
    "precision = 2\n",
    "print('test static =', round(static, precision))\n",
    "print('p-value =', round(pvalue, precision))"
   ]
  },
  {
   "cell_type": "markdown",
   "id": "7ea543b9-23cb-4370-a3f5-dfddc6ec05ee",
   "metadata": {},
   "source": [
    "---\n",
    "\n",
    "### Example 3\n",
    "\n",
    "In the following table, Meryem modeled the number of rooms she believes are in use at any given time at the veterinary hospital where she works.\n",
    "\n",
    "|Number of rooms in use|1|2|3|4|5|\n",
    "|:-:|:-:|:-:|:-:|:-:|:-:|\n",
    "|Percent of the time|10%|10%|25%|45%|10%|\n",
    "\n",
    "To test her model, she took a random sample of $80$ times and recorded the numbers of rooms in use at those times. Here are her results:\n",
    "\n",
    "|Number of rooms in use|1|2|3|4|5|\n",
    "|:-:|:-:|:-:|:-:|:-:|:-:|\n",
    "|Percent of the time|12|4|20|36|8|\n",
    "\n",
    "She wants to use these results to carry out a $\\chi^2$, squared goodness-of-fit test to determine if the distribution of numbers of rooms in use at her veterinary hospital disagrees with the claimed percentages.\n",
    "\n",
    "**What are the values of the test statistic and P-value for Meryem's test?**"
   ]
  },
  {
   "cell_type": "code",
   "execution_count": 4,
   "id": "6ea182ad-66f4-43ca-b883-3d2bb7f98113",
   "metadata": {},
   "outputs": [
    {
     "name": "stdout",
     "output_type": "stream",
     "text": [
      "test static = 4.0\n",
      "p-value = 0.41\n"
     ]
    }
   ],
   "source": [
    "p = np.array([0.1, 0.1, 0.25, 0.45, 0.1])\n",
    "total = 80\n",
    "expected = p * total\n",
    "observed = np.array([12, 4, 20, 36, 8])\n",
    "static, pvalue = stats.chisquare(f_obs=observed, f_exp=expected, ddof=0)\n",
    "precision = 2\n",
    "print('test static =', round(static, precision))\n",
    "print('p-value =', round(pvalue, precision))"
   ]
  },
  {
   "cell_type": "code",
   "execution_count": null,
   "id": "d038bd09-f522-4cc2-a336-6e038aaed076",
   "metadata": {},
   "outputs": [],
   "source": []
  },
  {
   "cell_type": "code",
   "execution_count": null,
   "id": "cd42a408-4012-45b6-b254-61caee727a8c",
   "metadata": {},
   "outputs": [],
   "source": []
  }
 ],
 "metadata": {
  "kernelspec": {
   "display_name": "statistics-and-probability",
   "language": "python",
   "name": "statistics-and-probability"
  },
  "language_info": {
   "codemirror_mode": {
    "name": "ipython",
    "version": 3
   },
   "file_extension": ".py",
   "mimetype": "text/x-python",
   "name": "python",
   "nbconvert_exporter": "python",
   "pygments_lexer": "ipython3",
   "version": "3.9.10"
  }
 },
 "nbformat": 4,
 "nbformat_minor": 5
}
