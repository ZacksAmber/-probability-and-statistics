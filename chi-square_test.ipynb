{
 "cells": [
  {
   "cell_type": "code",
   "execution_count": 1,
   "id": "6120016c-a2f7-492f-9b22-36362320daa8",
   "metadata": {},
   "outputs": [],
   "source": [
    "import numpy as np\n",
    "import pandas as pd\n",
    "\n",
    "from scipy import stats as st"
   ]
  },
  {
   "cell_type": "markdown",
   "id": "ad90f62f-31d0-46b3-8935-f0818702ee42",
   "metadata": {},
   "source": [
    "# Reference\n",
    "\n",
    "> [Unit: Inference for categorical data (chi-square tests)](https://www.khanacademy.org/math/statistics-probability/inference-categorical-data-chi-square-tests)<br>"
   ]
  },
  {
   "cell_type": "markdown",
   "id": "d7478442-6956-46df-8504-65b17fc3887b",
   "metadata": {},
   "source": [
    "---\n",
    "\n",
    "# Chi-square goodness-of-fit tests\n",
    "\n",
    "> [Chi-squared distribution](https://en.wikipedia.org/wiki/Chi-squared_distribution)<br>\n",
    "> [Chi-squared test](https://en.wikipedia.org/wiki/Chi-squared_test)\n",
    "\n",
    "Test if one variable is likely to come from a given distribution."
   ]
  },
  {
   "cell_type": "markdown",
   "id": "78dd96a8-4e28-44dd-8c1e-ff794086f4b2",
   "metadata": {},
   "source": [
    "---\n",
    "\n",
    "## Chi-square distribution introduction\n",
    "\n",
    "A standard normal distribution: $X \\sim N(0, 1), E[X] = 0, Var(X) = 1$\n",
    "\n",
    "If we are sampling from this standard normal distribution as $X$, and then squaring every number, then we have a new chi-squre distribution: $Q = X^2 \\Rightarrow Q \\sim \\chi^{2}_{1}$, where $1$ is the degree of freedom.\n",
    "\n",
    "If we are sampling from a independent normally distributed variable as $X_1$ and another normally distributed variable as $X_2$ (or maybe the same random variable), then we have $Q = X_{1}^{2} + X_{2}^{2} \\Rightarrow Q \\sim \\chi^{2}_{2}$, where $2$ is the degree of freedom.\n",
    "\n",
    "\n",
    "![Chi-squared probability density function](https://upload.wikimedia.org/wikipedia/commons/3/35/Chi-square_pdf.svg 'Chi-squared probability density function')\n",
    "\n",
    "![Chi-squared cumculative distribution function](https://upload.wikimedia.org/wikipedia/commons/0/01/Chi-square_cdf.svg 'Chi-squared cumculative distribution function')"
   ]
  },
  {
   "cell_type": "markdown",
   "id": "d034dfc3-db67-4b1e-b5d1-d5265d9fb0aa",
   "metadata": {
    "tags": []
   },
   "source": [
    "---\n",
    "\n",
    "## Formula\n",
    "\n",
    "Suppose that $n$ observations in a random sample from a population are classified into $k$ mutually exclusive classes with respective observed numbers $x_i$ (for $i = 1,2,…,k$), and a null hypothesis gives the probability $p_i$ that an observation falls into the $i^{th}$ class. So we have the expected numbers $m_i = np_i$ for all $i$, where\n",
    "\n",
    "$\\displaystyle \\sum^{k}_{i=1}p_{i} = 1$\n",
    "\n",
    "$\\displaystyle \\sum^{k}_{i=1}m_{i} = n\\sum^{k}_{i=1}p_{i} = n = \\sum^{k}_{i=1}x_{i}$\n",
    "\n",
    "Pearson proposed that, under the circumstance of the null hypothesis being correct, as $n \\rightarrow \\infty$ the limiting distribution of the quantity given below is the $\\chi^2$ distribution.\n",
    "\n",
    "$\\displaystyle \\chi^2 = \\sum^{k}_{i=1} \\frac{(x_i - m_i)^2}{m_i} = \\sum^{k}_{i=1} \\frac{x_{i}^{2}}{m_i} - n$\n",
    "\n",
    "The expression on the right is of the form that [Karl Pearson](https://en.wikipedia.org/wiki/Karl_Pearson \"Karl Pearson\") would generalize to the form\n",
    "\n",
    "$\\displaystyle \\chi^2 = \\sum^{n}_{i=1} \\frac{(O_i - E_i)^2}{E_i}$\n",
    "\n",
    "where\n",
    "\n",
    "${\\displaystyle \\chi ^{2}}$ = Pearson's cumulative test statistic, which asymptotically approaches a ${\\displaystyle \\chi ^{2}}$ distribution.\n",
    "\n",
    "${\\displaystyle O_{i}}$ = the number of observations of type ${\\displaystyle i}$.\n",
    "\n",
    "${\\displaystyle E_{i}=Np_{i}}$ = the expected (theoretical) frequency of type ${\\displaystyle i}$, asserted by the null hypothesis that the fraction of type ${\\displaystyle i}$ in the population is ${\\displaystyle p_{i}}$\n",
    "\n",
    "${\\displaystyle n}$ = the number of cells in the table.\n",
    "\n",
    "In the case of a binomial outcome (flipping a coin), the binomial distribution may be approximated by a normal distribution (for sufficiently large ${\\displaystyle n}$. Because the square of a standard normal distribution is the chi-squared distribution with one degree of freedom, the probability of a result such as 1 heads in 10 trials can be approximated either by using the normal distribution directly, or the chi-squared distribution for the normalised, squared difference between observed and expected value. However, many problems involve more than the two possible outcomes of a binomial, and instead require 3 or more categories, which leads to the multinomial distribution. Just as de Moivre and Laplace sought for and found the normal approximation to the binomial, Pearson sought for and found a degenerate multivariate normal approximation to the multinomial distribution (the numbers in each category add up to the total sample size, which is considered fixed). Pearson showed that the chi-squared distribution arose from such a multivariate normal approximation to the multinomial distribution, taking careful account of the statistical dependence (negative correlations) between numbers of observations in different categories."
   ]
  },
  {
   "cell_type": "markdown",
   "id": "fbe42b70-aff8-4b8e-9873-e05ac631a529",
   "metadata": {},
   "source": [
    "---\n",
    "\n",
    "## Expected counts in a goodness-of-fit test"
   ]
  },
  {
   "cell_type": "markdown",
   "id": "73524127-bfb6-4d9f-b58a-073f402e442f",
   "metadata": {},
   "source": [
    "---\n",
    "\n",
    "### Example 1\n",
    "\n",
    "Jiao works as an usher at a theater. The theater has $1000$ seats that are accessed through five entrances. Each guest should use the entrance that's marked on their ticket. Jiao wants to test if the distribution of guests according to entrances matches the official distribution. He collects information about the number of guests that went through each entrance at a certain night. Here are the results:\n",
    "\n",
    "|Entrance|A|B|C|D|E|Total|\n",
    "|:-:|:-:|:-:|:-:|:-:|:-:|:-:|\n",
    "|Expected|30%|30%|20%|10%|10%|100%|\n",
    "|# of people|398|202|205|87|108|1000|\n",
    "\n",
    "Jiao wants to perform a $\\chi^2$ goodness-of-fit test to determine if these results suggest that the actual distribution of people doesn't match the expected distribution.\n",
    "\n",
    "**What is the expected count of guests in entrance $\\text A$ in Jiao's sample?**  \n",
    "_You may round your answer to the nearest hundredth._"
   ]
  },
  {
   "cell_type": "code",
   "execution_count": 2,
   "id": "1c3f1b0d-7497-4be2-aab0-690162bc6d23",
   "metadata": {},
   "outputs": [
    {
     "data": {
      "text/plain": [
       "300.0"
      ]
     },
     "execution_count": 2,
     "metadata": {},
     "output_type": "execute_result"
    }
   ],
   "source": [
    "total = 1000\n",
    "1000 * 0.3"
   ]
  },
  {
   "cell_type": "markdown",
   "id": "a48b825b-d68c-4ea3-8814-ab64826a02cb",
   "metadata": {},
   "source": [
    "Explain:\n",
    "\n",
    "The expected count of guests in entrance $A$ in Jiao's sample is $Total \\times P(A) = 1000 \\times 30\\% = 300$."
   ]
  },
  {
   "cell_type": "markdown",
   "id": "9a563aa4-6ec5-4958-886f-7beb0cc02422",
   "metadata": {},
   "source": [
    "---\n",
    "\n",
    "## Conditions for a goodness-of-fit test\n",
    "\n",
    "> [Chi-Square Goodness of Fit Test](https://stattrek.com/chi-square-test/goodness-of-fit.aspx)\n",
    "\n",
    "\n",
    "The chi-square goodness of fit test is appropriate when the following conditions are met:\n",
    "- **Random**: The data came from a random sample from the population of interest, or a randomized experiment.\n",
    "- **Large counts**: All expected counts are at least $5$. There are no conditions attached to the observed counts.\n",
    "- **Independent**: Individual observations need to be independent. If sampling without replacement, our sample size shouldn't be more than $10\\%$ of the population."
   ]
  },
  {
   "cell_type": "markdown",
   "id": "97f189e0-3352-4a18-bfd5-b42280b5b093",
   "metadata": {},
   "source": [
    "---\n",
    "\n",
    "### Example 1\n",
    "\n",
    "Pauline sits near the snacks in the office. There are $5$ flavors of chocolate, and she wonders if some flavors get chosen more than others. She plans to record how often each flavor gets chosen in a sample of selections to carry out a $\\chi^2$ goodness-of-fit test on the resulting data.\n",
    "\n",
    "**Which of these are conditions for carrying out this test?**"
   ]
  },
  {
   "cell_type": "markdown",
   "id": "6838b92a-7ff2-471c-92ec-7edb055aea94",
   "metadata": {},
   "source": [
    "- She expects each snack to be selected at least $5$ times.\n",
    "- She takes a random sample of selections."
   ]
  },
  {
   "cell_type": "markdown",
   "id": "f0b65e7f-a627-4776-b2ef-f7b7d75a66e6",
   "metadata": {},
   "source": [
    "---\n",
    "\n",
    "### Example 2\n",
    "\n",
    "Miriam wants to test if her $10$-sided die is fair. In other words, she wants to test if some sides get rolled more often than others. She plans on recording how often each side appears in a series of rolls and carrying out a $\\chi^2$ goodness-of-fit test on the results.\n",
    "\n",
    "**What is the smallest sample size Miriam can take to pass the large counts condition?**"
   ]
  },
  {
   "cell_type": "code",
   "execution_count": 3,
   "id": "54194782-a23c-4421-950b-b8c6d501a7ce",
   "metadata": {},
   "outputs": [
    {
     "name": "stdout",
     "output_type": "stream",
     "text": [
      "50 total rolls\n"
     ]
    }
   ],
   "source": [
    "print(10 * 5, 'total rolls')"
   ]
  },
  {
   "cell_type": "markdown",
   "id": "2104406f-edd5-48e0-9d7a-c3981c1eb628",
   "metadata": {},
   "source": [
    "---\n",
    "\n",
    "## Test statistic and P-value in a goodness-of-fit test"
   ]
  },
  {
   "cell_type": "markdown",
   "id": "9e4c99e9-d52d-41b4-9382-8b6f178f949e",
   "metadata": {
    "tags": []
   },
   "source": [
    "---\n",
    "\n",
    "### Example 1\n",
    "\n",
    "In the game rock-paper-scissors, Kenny expects to win, tie, and lose with equal frequency. Kenny plays rock-paper-scissors often, but he suspected his own games were not following that pattern, so he took a random sample of $24$ games and recorded their outcomes. Here are his results:\n",
    "\n",
    "|Outcome|Win|Loss|Tie|\n",
    "|:-:|:-:|:-:|:-:|\n",
    "|Games|4|13|7|\n",
    "\n",
    "He wants to use these results to carry out a $\\chi^2$ to determine if the distribution of his outcomes disagrees with an even distribution.\n",
    "\n",
    "**What are the values of the test statistic and P-value for Kenny's test?**"
   ]
  },
  {
   "cell_type": "code",
   "execution_count": 4,
   "id": "c4a3dc4b-3daa-4032-ab84-4eb52f5bfe4f",
   "metadata": {},
   "outputs": [
    {
     "data": {
      "text/plain": [
       "(5.25, 0.07243975703425146)"
      ]
     },
     "execution_count": 4,
     "metadata": {},
     "output_type": "execute_result"
    }
   ],
   "source": [
    "p = np.array([1/3, 1/3, 1/3])\n",
    "total = 24\n",
    "k = len(p) - 1\n",
    "expected = p * total\n",
    "observed = np.array([4, 13, 7])\n",
    "\n",
    "# calculate chi-square statistic manually\n",
    "chisq = np.sum((observed - expected)**2 / expected)\n",
    "\n",
    "# calculate p-value by standard chi-square distribution\n",
    "pval = st.chi2.sf(x=chisq, df=k)\n",
    "\n",
    "chisq, pval"
   ]
  },
  {
   "cell_type": "code",
   "execution_count": 5,
   "id": "f66d12cc-87c7-414f-b641-38373e0704d7",
   "metadata": {},
   "outputs": [
    {
     "data": {
      "text/plain": [
       "(5.25, 0.07243975703425146)"
      ]
     },
     "execution_count": 5,
     "metadata": {},
     "output_type": "execute_result"
    }
   ],
   "source": [
    "# OR\n",
    "p = np.array([1/3, 1/3, 1/3])\n",
    "total = 24\n",
    "expected = p * total\n",
    "observed = np.array([4, 13, 7])\n",
    "chisq, pval = st.chisquare(f_obs=observed, f_exp=expected, ddof=0)\n",
    "\n",
    "chisq, pval"
   ]
  },
  {
   "cell_type": "markdown",
   "id": "3f47264d-4948-49ec-9802-74b8038294c0",
   "metadata": {},
   "source": [
    "---\n",
    "\n",
    "### Example 2\n",
    "\n",
    "In the following table, Meryem modeled the number of rooms she believes are in use at any given time at the veterinary hospital where she works.\n",
    "\n",
    "|Number of rooms in use|1|2|3|4|5|\n",
    "|:-:|:-:|:-:|:-:|:-:|:-:|\n",
    "|Percent of the time|10%|10%|25%|45%|10%|\n",
    "\n",
    "To test her model, she took a random sample of $80$ times and recorded the numbers of rooms in use at those times. Here are her results:\n",
    "\n",
    "|Number of rooms in use|1|2|3|4|5|\n",
    "|:-:|:-:|:-:|:-:|:-:|:-:|\n",
    "|Percent of the time|12|4|20|36|8|\n",
    "\n",
    "She wants to use these results to carry out a $\\chi^2$, squared goodness-of-fit test to determine if the distribution of numbers of rooms in use at her veterinary hospital disagrees with the claimed percentages.\n",
    "\n",
    "**What are the values of the test statistic and P-value for Meryem's test?**"
   ]
  },
  {
   "cell_type": "code",
   "execution_count": 6,
   "id": "2ec4fcb6-b1fb-4d15-b561-377261346835",
   "metadata": {},
   "outputs": [
    {
     "data": {
      "text/plain": [
       "(4.0, 0.40600584970983794)"
      ]
     },
     "execution_count": 6,
     "metadata": {},
     "output_type": "execute_result"
    }
   ],
   "source": [
    "p = np.array([.1, .1, .25, .45, .1])\n",
    "total = 80\n",
    "expected = p * total\n",
    "observed = np.array([12, 4, 20, 36, 8])\n",
    "chisq, pval = st.chisquare(f_obs=observed, f_exp=expected, ddof=0)\n",
    "\n",
    "chisq, pval"
   ]
  },
  {
   "cell_type": "markdown",
   "id": "04d4c7a4-db53-4ebc-8914-93fbd3472cfd",
   "metadata": {},
   "source": [
    "---\n",
    "\n",
    "## Conclusions in a goodness-of-fit test"
   ]
  },
  {
   "cell_type": "markdown",
   "id": "0f0f3302-ac64-410b-8062-b673ec16cc06",
   "metadata": {},
   "source": [
    "---\n",
    "\n",
    "### Example 1\n",
    "\n",
    "A forest is divided into $4$ regions by a road and a stream. A wildlife researcher was curious if the number of deer living in each region corresponded to the total area of each region. They used drones to take overhead images and counted how many deer were in each region. The following table shows the proportion of total area for each region of the forest and how many deer were observed in each region along with a chi-square goodness-of-fit test.\n",
    "\n",
    "|Region|A|B|C|D|\n",
    "|:-:|:-:|:-:|:-:|:-:|\n",
    "|Land area distribution|38%|30%|31%|1%|\n",
    "|Observed deer|408|329|330|3|\n",
    "|Expected deer|406.6|321|331.7|10.7|\n",
    "|Components|0.01|0.2|0.01|5.54|\n",
    "|$\\chi^2 = 5.75, DF=3$|\n",
    "|P-value = 0.124|\n",
    "\n",
    "**Which region contributed the most to the test statistic?**"
   ]
  },
  {
   "cell_type": "markdown",
   "id": "13f98e8e-5a84-4210-9161-b901cbbccc7d",
   "metadata": {},
   "source": [
    "Region D\n",
    "\n",
    "Explain:\n",
    "\n",
    "The terms that make up the sum of a $\\chi^2$ test statistic are called **components.** We look for which components contributed the most to a test statistic because large components show instances where there was a large discrepancy between the observed and expected counts.\n",
    "\n",
    "Region $\\text{D}$ has the largest component because its observed count was farthest away from its expected count (relative to the expected count). So we can say that region D contributed the most to the $\\chi^2$ test-statistic."
   ]
  },
  {
   "cell_type": "code",
   "execution_count": 7,
   "id": "4c64f059-6947-4f92-a1fa-dccb018c2eb5",
   "metadata": {},
   "outputs": [
    {
     "data": {
      "text/plain": [
       "array([4.82046237e-03, 1.99376947e-01, 8.71269219e-03, 5.54112150e+00])"
      ]
     },
     "execution_count": 7,
     "metadata": {},
     "output_type": "execute_result"
    }
   ],
   "source": [
    "p = np.array([.38, .3, .31, .01])\n",
    "observed = np.array([408, 329, 330, 3])\n",
    "total = observed.sum()\n",
    "expected = p * total\n",
    "\n",
    "# calculate chi-square statistic manually\n",
    "chisq = np.sum((observed - expected)**2 / expected)\n",
    "\n",
    "# calculate components\n",
    "(observed - expected)**2 / expected"
   ]
  },
  {
   "cell_type": "markdown",
   "id": "db50b47f-a8ff-4805-8c77-4ab6cbb17ec9",
   "metadata": {},
   "source": [
    "---\n",
    "\n",
    "### Example 2\n",
    "\n",
    "When Silvia feeds her cat, she places food in $3$ different locations. She wondered if her cat was equally likely to eat first from each of the locations, so she tallied which location her cat chose first in a sample of $30$ feedings. Here are the results along with a chi-square goodness-of-fit test:\n",
    "\n",
    "|Location|Kitchen|Bedroom|Living room|\n",
    "|:-:|:-:|:-:|:-:|\n",
    "|Hypothesized|0.333|0.333|0.333|\n",
    "|Observed deer|13|13|4|\n",
    "|Expected deer|10|10|10|\n",
    "|Components|0.9|0.9|3.6|\n",
    "\n",
    "$\\chi^2 = 5.4, \\text{DF}=2, \\text{P-value}=0.067$\n",
    "\n",
    "Assume that all conditions for inference were met.\n",
    "\n",
    "**At the $\\alpha=0.05$ significance level, what should Silvia conclude about her cat's feeding preferences?**"
   ]
  },
  {
   "cell_type": "markdown",
   "id": "9eb1ef2b-d6ec-4c20-85c6-1ab8b417fd2f",
   "metadata": {},
   "source": [
    "There's not enough evidence to conclude that her cat prefers to eat first from some locations more than others.\n",
    "\n",
    "Explain:\n",
    "\n",
    "**Hypotheses and conclusions**\n",
    "\n",
    "In a $\\chi^2$ goodness-of-fit test, our null and alternative hypotheses generally look like this:\n",
    "\n",
    "- $\\text{H}_0$: The hypothesized distribution is correct.  \n",
    "- $\\text{H}_\\text{a}$: The hypothesized distribution is not correct.\n",
    "\n",
    "We compare the P-value to the significance level to make a conclusion:\n",
    "\n",
    "- $\\text{P-value} < \\alpha \\rightarrow \\text{reject } \\text{H}_0 \\rightarrow \\text{accept } \\text{H}_\\text{a}$\n",
    "- $\\text{P-value} \\geq \\alpha \\rightarrow \\text{fail to reject } \\text{H}_0 \\rightarrow \\text{cannot accept } \\text{H}_\\text{a}$\n",
    "\n",
    "**In this context**\n",
    "\n",
    "We could state the null and alternative hypotheses in this problem as:\n",
    "\n",
    "- $\\text{H}_0$: Her cat is equally likely to eat first from each of the locations.\n",
    "- $\\text{H}_\\text{a}$: Her cat is not equally likely to eat first from each of the locations.\n",
    "\n",
    "Since the $\\chi^2$ goodness-of-fit test produced a P-value that wasn't low enough $(0.067>\\alpha=0.05)$, Silvia has failed to reject $\\text{H}_0$. She doesn't have enough evidence to conclude $\\text{H}_\\text{a}$.\n",
    "\n",
    "**Answer**\n",
    "\n",
    "There's not enough evidence to conclude that her cat prefers to eat first from some locations more than others."
   ]
  },
  {
   "cell_type": "markdown",
   "id": "5186657a-6d9d-4317-83db-57796f4bcb43",
   "metadata": {},
   "source": [
    "---\n",
    "\n",
    "# Chi-square tests for relationships\n",
    "\n",
    "> [Chi-squared distribution](https://en.wikipedia.org/wiki/Chi-squared_distribution)<br>\n",
    "> [Chi-squared test](https://en.wikipedia.org/wiki/Chi-squared_test)\n",
    "\n",
    "Test if two variables might be correlated or not."
   ]
  },
  {
   "cell_type": "markdown",
   "id": "bd2af1bf-68cd-4aee-9d39-7954b4a91307",
   "metadata": {},
   "source": [
    "---\n",
    "\n",
    "## Expected counts in chi-squared tests with two-way tables"
   ]
  },
  {
   "cell_type": "markdown",
   "id": "0c946cc0-2a42-4d29-9e06-aafc3d806be0",
   "metadata": {},
   "source": [
    "---\n",
    "\n",
    "### Example 1\n",
    "\n",
    "Edison, Xiu, and Amia are childhood friends who go to different high schools. They were wondering if there's a difference between their schools in the number of friends people have on social media.\n",
    "\n",
    "They each surveyed a random sample of students from their schools, asking for the number of friends they have on social media. Here are the results:\n",
    "\n",
    "They want to perform a $\\chi^2$ test of homogeneity on these results.\n",
    "\n",
    "**What is the expected count for the cell corresponding to students from Edison's school that have more than $300$ friends?**  \n",
    "_You may round your answer to the nearest hundredth._"
   ]
  },
  {
   "cell_type": "code",
   "execution_count": 8,
   "id": "02c36f02-71fc-4fa2-a1eb-d4d611362cb7",
   "metadata": {},
   "outputs": [
    {
     "data": {
      "text/html": [
       "<div>\n",
       "<style scoped>\n",
       "    .dataframe tbody tr th:only-of-type {\n",
       "        vertical-align: middle;\n",
       "    }\n",
       "\n",
       "    .dataframe tbody tr th {\n",
       "        vertical-align: top;\n",
       "    }\n",
       "\n",
       "    .dataframe thead th {\n",
       "        text-align: right;\n",
       "    }\n",
       "</style>\n",
       "<table border=\"1\" class=\"dataframe\">\n",
       "  <thead>\n",
       "    <tr style=\"text-align: right;\">\n",
       "      <th></th>\n",
       "      <th>Less than 100 friends</th>\n",
       "      <th>100 to 300 friends</th>\n",
       "      <th>More than 300 friends</th>\n",
       "      <th>Total</th>\n",
       "    </tr>\n",
       "  </thead>\n",
       "  <tbody>\n",
       "    <tr>\n",
       "      <th>Edison's schools</th>\n",
       "      <td>8</td>\n",
       "      <td>61</td>\n",
       "      <td>21</td>\n",
       "      <td>90</td>\n",
       "    </tr>\n",
       "    <tr>\n",
       "      <th>Xiu's school</th>\n",
       "      <td>9</td>\n",
       "      <td>54</td>\n",
       "      <td>25</td>\n",
       "      <td>88</td>\n",
       "    </tr>\n",
       "    <tr>\n",
       "      <th>Amia's school</th>\n",
       "      <td>7</td>\n",
       "      <td>58</td>\n",
       "      <td>19</td>\n",
       "      <td>84</td>\n",
       "    </tr>\n",
       "    <tr>\n",
       "      <th>Total</th>\n",
       "      <td>24</td>\n",
       "      <td>173</td>\n",
       "      <td>65</td>\n",
       "      <td>262</td>\n",
       "    </tr>\n",
       "  </tbody>\n",
       "</table>\n",
       "</div>"
      ],
      "text/plain": [
       "                  Less than 100 friends  100 to 300 friends  \\\n",
       "Edison's schools                      8                  61   \n",
       "Xiu's school                          9                  54   \n",
       "Amia's school                         7                  58   \n",
       "Total                                24                 173   \n",
       "\n",
       "                  More than 300 friends  Total  \n",
       "Edison's schools                     21     90  \n",
       "Xiu's school                         25     88  \n",
       "Amia's school                        19     84  \n",
       "Total                                65    262  "
      ]
     },
     "execution_count": 8,
     "metadata": {},
     "output_type": "execute_result"
    }
   ],
   "source": [
    "# data\n",
    "df = pd.DataFrame(\n",
    "    {'Less than 100 friends': [8, 9, 7],\n",
    "     '100 to 300 friends': [61, 54, 58],\n",
    "     'More than 300 friends': [21, 25, 19]},\n",
    "    index = [\"Edison's schools\", \"Xiu's school\", \"Amia's school\"]\n",
    ")\n",
    "df_copy = df.copy()\n",
    "df_copy['Total'] = df_copy.sum(axis=1)  # calculate Total by columns\n",
    "df_copy.loc['Total'] = df_copy.sum(axis=0)  # calculate Total by rows\n",
    "df_copy"
   ]
  },
  {
   "cell_type": "code",
   "execution_count": 9,
   "id": "61bfb57d-750f-4534-bcb2-f965f4b3a1b2",
   "metadata": {},
   "outputs": [
    {
     "data": {
      "text/plain": [
       "array([[ 8.24427481, 59.42748092, 22.32824427],\n",
       "       [ 8.0610687 , 58.10687023, 21.83206107],\n",
       "       [ 7.69465649, 55.46564885, 20.83969466]])"
      ]
     },
     "execution_count": 9,
     "metadata": {},
     "output_type": "execute_result"
    }
   ],
   "source": [
    "# manually calculate expected by pandas\n",
    "p = df.sum() / df.sum().sum()\n",
    "expected = df.sum(axis=1).to_numpy()[:, None] * p.to_numpy()\n",
    "\n",
    "expected"
   ]
  },
  {
   "cell_type": "code",
   "execution_count": 10,
   "id": "827f442e-f3a3-45a9-a62f-ce10d5f679ac",
   "metadata": {},
   "outputs": [
    {
     "data": {
      "text/plain": [
       "array([[ 8.24427481, 59.42748092, 22.32824427],\n",
       "       [ 8.0610687 , 58.10687023, 21.83206107],\n",
       "       [ 7.69465649, 55.46564885, 20.83969466]])"
      ]
     },
     "execution_count": 10,
     "metadata": {},
     "output_type": "execute_result"
    }
   ],
   "source": [
    "# OR manually calculate expected by numpy\n",
    "observed = np.array([[8, 61, 21], [9, 54, 25], [7, 58, 19]])\n",
    "\n",
    "# calculate total, p, expected manually\n",
    "total = observed.sum(axis=1)\n",
    "p = observed.sum(axis=0) / observed.sum()\n",
    "expected = total[:, None] * p  # convert total from 1D to 2D, then multiply them\n",
    "\n",
    "expected"
   ]
  },
  {
   "cell_type": "markdown",
   "id": "8e8ea297-f4b5-468b-a140-46215c5b9a0e",
   "metadata": {},
   "source": [
    "---\n",
    "\n",
    "## Test statistic and P-value in chi-square tests with two-way tables"
   ]
  },
  {
   "cell_type": "markdown",
   "id": "2c4f172e-de31-41f2-869a-a861d89f0c4f",
   "metadata": {},
   "source": [
    "---\n",
    "\n",
    "### Example 1\n",
    "\n",
    "A group of researchers wondered whether vegetarians favored different seasons than non-vegetarians. The researchers took a random sample of people and surveyed them about their favorite season and whether or not they were vegetarian. Here are the responses and partial results of a chi-square test (expected counts appear below observed counts):"
   ]
  },
  {
   "cell_type": "code",
   "execution_count": 11,
   "id": "a9dccd2c-152c-417d-9660-3ae6cb47ceda",
   "metadata": {},
   "outputs": [
    {
     "data": {
      "text/html": [
       "<div>\n",
       "<style scoped>\n",
       "    .dataframe tbody tr th:only-of-type {\n",
       "        vertical-align: middle;\n",
       "    }\n",
       "\n",
       "    .dataframe tbody tr th {\n",
       "        vertical-align: top;\n",
       "    }\n",
       "\n",
       "    .dataframe thead th {\n",
       "        text-align: right;\n",
       "    }\n",
       "</style>\n",
       "<table border=\"1\" class=\"dataframe\">\n",
       "  <thead>\n",
       "    <tr style=\"text-align: right;\">\n",
       "      <th></th>\n",
       "      <th>Fall</th>\n",
       "      <th>Spring</th>\n",
       "      <th>Summer</th>\n",
       "      <th>Winter</th>\n",
       "      <th>Total</th>\n",
       "    </tr>\n",
       "  </thead>\n",
       "  <tbody>\n",
       "    <tr>\n",
       "      <th>Vegetarian</th>\n",
       "      <td>6</td>\n",
       "      <td>9</td>\n",
       "      <td>15</td>\n",
       "      <td>6</td>\n",
       "      <td>36</td>\n",
       "    </tr>\n",
       "    <tr>\n",
       "      <th>Not vegetarian</th>\n",
       "      <td>78</td>\n",
       "      <td>55</td>\n",
       "      <td>133</td>\n",
       "      <td>58</td>\n",
       "      <td>324</td>\n",
       "    </tr>\n",
       "    <tr>\n",
       "      <th>Total</th>\n",
       "      <td>84</td>\n",
       "      <td>64</td>\n",
       "      <td>148</td>\n",
       "      <td>64</td>\n",
       "      <td>360</td>\n",
       "    </tr>\n",
       "  </tbody>\n",
       "</table>\n",
       "</div>"
      ],
      "text/plain": [
       "                Fall  Spring  Summer  Winter  Total\n",
       "Vegetarian         6       9      15       6     36\n",
       "Not vegetarian    78      55     133      58    324\n",
       "Total             84      64     148      64    360"
      ]
     },
     "execution_count": 11,
     "metadata": {},
     "output_type": "execute_result"
    }
   ],
   "source": [
    "# data\n",
    "df = pd.DataFrame(\n",
    "    {'Fall': [6, 78],\n",
    "     'Spring': [9, 55],\n",
    "     'Summer': [15, 133],\n",
    "     'Winter': [6, 58]},\n",
    "    index = [\"Vegetarian\", \"Not vegetarian\"]\n",
    ")\n",
    "df_copy = df.copy()\n",
    "df_copy['Total'] = df_copy.sum(axis=1)  # calculate Total by columns\n",
    "df_copy.loc['Total'] = df_copy.sum(axis=0)  # calculate Total by rows\n",
    "df_copy"
   ]
  },
  {
   "cell_type": "code",
   "execution_count": 12,
   "id": "bfd0d97b-a641-47df-b013-e1d6cd3b06b4",
   "metadata": {},
   "outputs": [
    {
     "data": {
      "text/plain": [
       "(1.9662966537966544,\n",
       " 0.5794313456996103,\n",
       " 3,\n",
       " array([[  8.4,   6.4,  14.8,   6.4],\n",
       "        [ 75.6,  57.6, 133.2,  57.6]]))"
      ]
     },
     "execution_count": 12,
     "metadata": {},
     "output_type": "execute_result"
    }
   ],
   "source": [
    "# manually calculate test statistic and P-value by pandas\n",
    "df = pd.DataFrame(\n",
    "    {'Fall': [6, 78],\n",
    "     'Spring': [9, 55],\n",
    "     'Summer': [15, 133],\n",
    "     'Winter': [6, 58]},\n",
    "    index = [\"Vegetarian\", \"Not vegetarian\"]\n",
    ")\n",
    "\n",
    "# calculate p, expected\n",
    "p = df.sum() / df.sum().sum()\n",
    "expected = df.sum(axis=1).to_numpy()[:, None] * p.to_numpy()\n",
    "\n",
    "# calculate chi2 manually\n",
    "chi2 = ((df - expected)**2 / expected).sum().sum()\n",
    "\n",
    "# calculate pvalue standard chi-square distribution\n",
    "dof = (df.shape[0] - 1) * (df.shape[1] - 1)\n",
    "pval = st.chi2.sf(x=chi2, df=dof)\n",
    "\n",
    "chi2, pval, dof, expected"
   ]
  },
  {
   "cell_type": "code",
   "execution_count": 13,
   "id": "f35ea8a3-c568-432f-9d59-ab3e9c82cf38",
   "metadata": {},
   "outputs": [
    {
     "data": {
      "text/plain": [
       "(1.966296653796654,\n",
       " 0.5794313456996103,\n",
       " 3,\n",
       " array([[  8.4,   6.4,  14.8,   6.4],\n",
       "        [ 75.6,  57.6, 133.2,  57.6]]))"
      ]
     },
     "execution_count": 13,
     "metadata": {},
     "output_type": "execute_result"
    }
   ],
   "source": [
    "# OR manually calculate test statistic and P-value by numpy\n",
    "observed = np.array([[6, 9, 15, 6], [78, 55, 133, 58]])\n",
    "\n",
    "# calculate total, p, expected manually\n",
    "total = observed.sum(axis=1)\n",
    "p = observed.sum(axis=0) / observed.sum()\n",
    "expected = total[:, None] * p  # convert total from 1D to 2D, then multiply them\n",
    "\n",
    "# calculate chi2 manually\n",
    "chi2 = np.sum((observed - expected)**2 / expected)\n",
    "\n",
    "# calculate pvalue standard chi-square distribution\n",
    "dof = (len(observed) - 1) * (len(observed[0]) - 1)\n",
    "pval = st.chi2.sf(x=chi2, df=dof)\n",
    "\n",
    "chi2, pval, dof, expected"
   ]
  },
  {
   "cell_type": "code",
   "execution_count": 14,
   "id": "6158c07e-42e0-4e30-b504-c9f4f6a6d179",
   "metadata": {},
   "outputs": [
    {
     "data": {
      "text/plain": [
       "(1.966296653796654,\n",
       " 0.5794313456996103,\n",
       " 3,\n",
       " array([[  8.4,   6.4,  14.8,   6.4],\n",
       "        [ 75.6,  57.6, 133.2,  57.6]]))"
      ]
     },
     "execution_count": 14,
     "metadata": {},
     "output_type": "execute_result"
    }
   ],
   "source": [
    "# OR calculate test statistic and P-value by pandas and scipy\n",
    "df = pd.DataFrame(\n",
    "    {'Fall': [6, 78],\n",
    "     'Spring': [9, 55],\n",
    "     'Summer': [15, 133],\n",
    "     'Winter': [6, 58]},\n",
    "    index = [\"Vegetarian\", \"Not vegetarian\"]\n",
    ")\n",
    "chi2, pval, dof, expected = st.chi2_contingency(observed=df)\n",
    "\n",
    "chi2, pval, dof, expected"
   ]
  },
  {
   "cell_type": "code",
   "execution_count": 15,
   "id": "aa6dd4f3-2750-491e-b2b5-7f110bbc9560",
   "metadata": {},
   "outputs": [
    {
     "data": {
      "text/plain": [
       "(1.966296653796654,\n",
       " 0.5794313456996103,\n",
       " 3,\n",
       " array([[  8.4,   6.4,  14.8,   6.4],\n",
       "        [ 75.6,  57.6, 133.2,  57.6]]))"
      ]
     },
     "execution_count": 15,
     "metadata": {},
     "output_type": "execute_result"
    }
   ],
   "source": [
    "# OR calculate test statistic and P-value by numpy and scipy\n",
    "observed = np.array([[6, 9, 15, 6], [78, 55, 133, 58]])\n",
    "chi2, pval, dof, expected = st.chi2_contingency(observed=observed)\n",
    "\n",
    "chi2, pval, dof, expected"
   ]
  },
  {
   "cell_type": "markdown",
   "id": "9b90263b-5af8-4f84-a79e-c48fdf8566a6",
   "metadata": {},
   "source": [
    "---\n",
    "\n",
    "## Making conclusions in chi-square tests for two-way tables"
   ]
  },
  {
   "cell_type": "markdown",
   "id": "be8b016e-60a8-42f4-b68f-ff8945e6618b",
   "metadata": {},
   "source": [
    "---\n",
    "\n",
    "### Example 1: One sample (test of independence)\n",
    "\n",
    "Joslyn wondered if there was a relationship between a student's exercise habits and their typical mood. She surveyed **a random sample** of $80$ students. Here is a summary of the data and the results from a chi-square test:\n",
    "\n",
    "Chi-square test: Exercise vs. Mood\n",
    "\n",
    "||Good mood|Bad mood|\n",
    "|:-|:-|:-|\n",
    "|Doesn't exercise|3|9|\n",
    "|Expercises sometimes|28|18|\n",
    "|Exercises often|15|7|\n",
    "\n",
    "$\\chi^2=6.428, \\text{DF}=2, \\text{P-Value}=0.040$\n",
    "\n",
    "Assume that all conditions for inference were met.\n",
    "\n",
    "**At the $\\alpha=0.05$ significance level, what is the most appropriate conclusion to draw from this test?**"
   ]
  },
  {
   "cell_type": "markdown",
   "id": "3a5f218d-9838-4952-8dd2-e534bb157dfa",
   "metadata": {},
   "source": [
    "This is convincing evidence that exercise and mood are not independent.\n",
    "\n",
    "The data in this study came from one sample, so a **test of independence** is appropriate. Since the P-value is less than the significance level, we should reject the null hypothesis of independence.\n",
    "\n",
    "Explain:\n",
    "\n",
    "**Selecting appropriate hypotheses**\n",
    "\n",
    "The chi-square statistic is such a versatile tool that we can use the exact same calculations to answer very different questions with it, depending on whether we draw our data from one sample or from independent samples or groups.\n",
    "\n",
    "**Separate, independent samples or groups**\n",
    "\n",
    "A chi-square test can help us when we want to know whether different populations or groups are alike with regards to the distribution of a variable. Our hypotheses would look something like this:\n",
    "\n",
    "- $\\text{H}_0$: The distribution of a variable is the same in each population or group.\n",
    "- $\\text{H}_\\text{a}$: The distribution of a variable differs between some of the populations or groups.\n",
    "\n",
    "We call this the chi-square test for **homogeneity** (the state of being alike or of the same kind).\n",
    "\n",
    "**One sample or group**\n",
    "\n",
    "A chi-square test can help us see whether individuals from a sample who belong to a certain category are more likely than others in the sample to also belong to another category. Our hypotheses would look something like this:\n",
    "\n",
    "- $\\text{H}_0$: There is no association between the two variables (they are independent).  \n",
    "- $\\text{H}_\\text{a}$: There is an association between the two variables (they are not independent).\n",
    "\n",
    "We call this the chi square test of **association** (or **independence**).\n",
    "\n",
    "**Using a P-value to make a conclusion**\n",
    "\n",
    "We compare the P-value to the significance level to make a conclusion, just like we do in our other significance tests.\n",
    "\n",
    "- $\\text{P-value} < \\alpha \\rightarrow \\text{reject } \\text{H}_0 \\rightarrow \\text{accept } \\text{H}_\\text{a}$\n",
    "- $\\text{P-value} \\geq \\alpha \\rightarrow \\text{fail to reject } \\text{H}_0 \\rightarrow \\text{cannot accept } \\text{H}_\\text{a}$\n",
    "\n",
    "**In this context**\n",
    "\n",
    "The students in this study came from **one sample**, so a test of **independence/association** is most appropriate. We could state the null and alternative hypotheses in this problem as:\n",
    "\n",
    "- $\\text{H}_0$: Exercise and mood are independent.  \n",
    "- $\\text{H}_\\text{a}$: Exercise and mood are not independent.\n",
    "\n",
    "Since the $\\chi^2$ test produced a low P-value ($0.04<\\alpha=0.05$), we should reject $\\text{H}_0$ and accept $\\text{H}_\\text{a}$.\n",
    "\n",
    "**Answer**\n",
    "\n",
    "This is convincing evidence that exercise and mood are not independent."
   ]
  },
  {
   "cell_type": "markdown",
   "id": "becda84b-5dbc-44df-8831-e29813486c03",
   "metadata": {},
   "source": [
    "---\n",
    "\n",
    "### Example 2: Two samples (test of homogeneity)\n",
    "\n",
    "A market researcher was curious about the colors of different types of vehicles. They obtained **a random sample of $180$ sedans and a separate random sample of $180$ trucks**. Here is a summary of the colors in each sample and the results from a chi-squared test:\n",
    "\n",
    "Chi-square test: Color vs. type\n",
    "\n",
    "||Trucks|Sedans|\n",
    "|:-|:-|:-|\n",
    "|Red|37|57|\n",
    "|Blue|36|41|\n",
    "|Black|77|48|\n",
    "|Other|30|34|\n",
    "\n",
    "$\\chi^2=11.558, \\text{DF}=3, \\text{P-value}=0.009$\n",
    "\n",
    "Assume that all conditions for inference were met.\n",
    "\n",
    "**At the $\\alpha=0.05$, what is the most appropriate conclusion to draw from this test?**"
   ]
  },
  {
   "cell_type": "markdown",
   "id": "27a88ff8-a8cf-4689-81d0-e65c4b891889",
   "metadata": {},
   "source": [
    "This is convincing evidence that the distribution of color differs between trucks and sedans in this population.\n",
    "\n",
    "The data in this study came from separate samples, so a test for homogeneity is appropriate. Since the P-value is less than the significance level, we should reject the null hypothesis that the color distribution is the same for trucks and sedans.\n",
    "\n",
    "Explain:\n",
    "\n",
    "**Selecting appropriate hypotheses**\n",
    "\n",
    "The chi-square statistic is such a versatile tool that we can use the exact same calculations to answer very different questions with it, depending on whether we draw our data from one sample or from independent samples or groups.\n",
    "\n",
    "**Separate, independent samples or groups**\n",
    "\n",
    "A chi-square test can help us when we want to know whether different populations or groups are alike with regards to the distribution of a variable. Our hypotheses would look something like this:\n",
    "\n",
    "- $\\text{H}_0$: The distribution of a variable is the same in each population or group.\n",
    "- $\\text{H}_\\text{a}$: The distribution of a variable differs between some of the populations or groups.\n",
    "\n",
    "We call this the chi-square test for **homogeneity** (the state of being alike or of the same kind).\n",
    "\n",
    "**One sample or group**\n",
    "\n",
    "A chi-square test can help us see whether individuals from a sample who belong to a certain category are more likely than others in the sample to also belong to another category. Our hypotheses would look something like this:\n",
    "\n",
    "- $\\text{H}_0$: There is no association between the two variables (they are independent).  \n",
    "- $\\text{H}_\\text{a}$: There is an association between the two variables (they are not independent).\n",
    "\n",
    "We call this the chi square test of **association** (or **independence**).\n",
    "\n",
    "**Using a P-value to make a conclusion**\n",
    "\n",
    "We compare the P-value to the significance level to make a conclusion, just like we do in our other significance tests.\n",
    "\n",
    "- $\\text{P-value} < \\alpha \\rightarrow \\text{reject } \\text{H}_0 \\rightarrow \\text{accept } \\text{H}_\\text{a}$\n",
    "- $\\text{P-value} \\geq \\alpha \\rightarrow \\text{fail to reject } \\text{H}_0 \\rightarrow \\text{cannot accept } \\text{H}_\\text{a}$\n",
    "\n",
    "**In this context**\n",
    "\n",
    "The cars in this study came from **separate samples**, so a test for **homogeneity** is most appropriate. We could state the null and alternative hypotheses in this problem as:\n",
    "\n",
    "- $\\text{H}_0$: The distribution of color is the same between trucks and sedans.\n",
    "- $\\text{H}_\\text{a}$: The distribution of color differs between trucks and sedans.\n",
    "\n",
    "Since the $\\chi^2$ test produced a low P-value ($0.009<\\alpha=0.05$), we should reject $\\text{H}_0$ and accept $\\text{H}_\\text{a}$.\n",
    "\n",
    "**Answer**\n",
    "\n",
    "This is convincing evidence that the distribution of color differs between trucks and sedans in this population."
   ]
  },
  {
   "cell_type": "code",
   "execution_count": null,
   "id": "1dcce3c6-6e03-427d-8e6f-74c55f0284f0",
   "metadata": {},
   "outputs": [],
   "source": []
  }
 ],
 "metadata": {
  "kernelspec": {
   "display_name": "statistics-and-probability",
   "language": "python",
   "name": "statistics-and-probability"
  },
  "language_info": {
   "codemirror_mode": {
    "name": "ipython",
    "version": 3
   },
   "file_extension": ".py",
   "mimetype": "text/x-python",
   "name": "python",
   "nbconvert_exporter": "python",
   "pygments_lexer": "ipython3",
   "version": "3.9.12"
  }
 },
 "nbformat": 4,
 "nbformat_minor": 5
}
