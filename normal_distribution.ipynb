{
 "cells": [
  {
   "cell_type": "code",
   "execution_count": 1,
   "id": "0baee0fe-523d-48bf-9c77-7d5314c50c73",
   "metadata": {},
   "outputs": [],
   "source": [
    "import numpy as np\n",
    "from scipy import stats"
   ]
  },
  {
   "cell_type": "code",
   "execution_count": 2,
   "id": "d8862903-bf19-4b91-98ff-c828eee138e0",
   "metadata": {},
   "outputs": [
    {
     "data": {
      "text/plain": [
       "array([7, 2, 7, 0, 1, 6, 9, 0, 0, 6])"
      ]
     },
     "execution_count": 2,
     "metadata": {},
     "output_type": "execute_result"
    }
   ],
   "source": [
    "rng = np.random.default_rng(2022)\n",
    "arr = rng.integers(low=0, high=10, size=10)\n",
    "arr"
   ]
  },
  {
   "cell_type": "markdown",
   "id": "7bc86db6-4c9d-416c-ba76-609aff03fdca",
   "metadata": {
    "tags": []
   },
   "source": [
    "---\n",
    "\n",
    "# Modeling Data Distribution"
   ]
  },
  {
   "cell_type": "markdown",
   "id": "6d9d7554-6190-48fb-acae-9d309fc06a07",
   "metadata": {},
   "source": [
    "## [Z-Scores](https://en.wikipedia.org/wiki/Standard_score)\n",
    "\n",
    "In [statistics](https://en.wikipedia.org/wiki/Statistics \"Statistics\"), the **standard score** is the number of [standard deviations](https://en.wikipedia.org/wiki/Standard_deviation \"Standard deviation\") by which the value of a [raw score](https://en.wikipedia.org/wiki/Raw_score) (i.e., an observed value or data point) is above or below the [mean](https://en.wikipedia.org/wiki/Mean \"Mean\") value of what is being observed or measured. Raw scores above the mean have positive standard scores, while those below the mean have negative standard scores.\n",
    "\n",
    "Standard scores are most commonly called **_z_-scores**; the two terms may be used interchangeably, as they are in this article. Other equivalent terms in use include **z-values, normal scores**, **standardized variables** and **pull** in [high energy physics](https://en.wikipedia.org/wiki/High_energy_physics \"High energy physics\").[[1]](https://en.wikipedia.org/wiki/Standard_score#cite_note-1)[[2]](https://en.wikipedia.org/wiki/Standard_score#cite_note-2)\n",
    "\n",
    "Computing a z-score requires knowledge of the mean and standard deviation of the complete population to which a data point belongs; if one only has a [sample](https://en.wikipedia.org/wiki/Sample_(statistics) \"Sample (statistics)\") of observations from the population, then the analogous computation using the sample mean and sample standard deviation yields the [_t_-statistic](https://en.wikipedia.org/wiki/T-statistic)."
   ]
  },
  {
   "cell_type": "markdown",
   "id": "9a7d9170-2a07-4f2f-b4c3-252022da2cb0",
   "metadata": {},
   "source": [
    "Review module `zscore`, click [here](utils/zscore.py)."
   ]
  },
  {
   "cell_type": "code",
   "execution_count": 3,
   "id": "e73f7ff3-4f5a-4912-9337-d2a3340d97ff",
   "metadata": {},
   "outputs": [],
   "source": [
    "from utils.zscore import zscore"
   ]
  },
  {
   "cell_type": "code",
   "execution_count": 4,
   "id": "3ff3cef3-0eed-4ebe-a25e-640d3d18ec98",
   "metadata": {},
   "outputs": [
    {
     "data": {
      "text/plain": [
       "-4.5"
      ]
     },
     "execution_count": 4,
     "metadata": {},
     "output_type": "execute_result"
    }
   ],
   "source": [
    "zscore(1, 10, 2)"
   ]
  },
  {
   "cell_type": "code",
   "execution_count": 5,
   "id": "b6f31648-0ddf-4c82-af72-36695455496d",
   "metadata": {},
   "outputs": [
    {
     "data": {
      "text/plain": [
       "array([ 0.95789494, -0.53881591,  0.95789494, -1.13750025, -0.83815808,\n",
       "        0.65855277,  1.55657928, -1.13750025, -1.13750025,  0.65855277])"
      ]
     },
     "execution_count": 5,
     "metadata": {},
     "output_type": "execute_result"
    }
   ],
   "source": [
    "# Z-Scores calculation for every item in an array\n",
    "stats.zscore(arr)"
   ]
  },
  {
   "cell_type": "markdown",
   "id": "0681722a-b271-491a-85a2-cd802c125095",
   "metadata": {
    "tags": []
   },
   "source": [
    "# [Normal Distribution](https://en.wikipedia.org/wiki/Normal_distribution)\n",
    "\n",
    "A **normal distribution** is a [probability distribution](https://en.wikipedia.org/wiki/Probability_distribution \"Probability distribution\") used to model phenomena that have a default behaviour and cumulative possible deviations from that behaviour.\n",
    "\n",
    "More rigorously, in [probability theory](https://en.wikipedia.org/wiki/Probability_theory \"Probability theory\"), a **normal distribution** (also known as **Gaussian**, **Gauss**, or **Laplace–Gauss** **distribution**) is a type of [continuous probability distribution](https://en.wikipedia.org/wiki/Continuous_probability_distribution \"Continuous probability distribution\") for a [real-valued](https://en.wikipedia.org/wiki/Real_number \"Real number\") [random variable](https://en.wikipedia.org/wiki/Random_variable \"Random variable\"). The general form of its [probability density function](https://en.wikipedia.org/wiki/Probability_density_function \"Probability density function\") is\n",
    "\n",
    "${\\displaystyle f(x)={\\frac {1}{\\sigma {\\sqrt {2\\pi }}}}e^{-{\\frac {1}{2}}\\left({\\frac {x-\\mu }{\\sigma }}\\right)^{2}}}$"
   ]
  },
  {
   "cell_type": "markdown",
   "id": "c484c63a-2472-4b6f-8425-624850d5a172",
   "metadata": {
    "tags": []
   },
   "source": [
    "## [Normal Distribution Empricial Rule](https://en.wikipedia.org/wiki/68%E2%80%9395%E2%80%9399.7_rule)\n",
    "\n",
    "In [statistics](https://en.wikipedia.org/wiki/Statistics \"Statistics\"), the **68–95–99.7 rule**, also known as the **empirical rule**, is a shorthand used to remember the percentage of values that lie within an [interval estimate](https://en.wikipedia.org/wiki/Interval_estimate \"Interval estimate\") in a [normal distribution](https://en.wikipedia.org/wiki/Normal_distribution \"Normal distribution\"): 68%, 95%, and 99.7% of the values lie within one, two, and three [standard deviations](https://en.wikipedia.org/wiki/Standard_deviation \"Standard deviation\") of the [mean](https://en.wikipedia.org/wiki/Arithmetic_mean \"Arithmetic mean\"), respectively."
   ]
  },
  {
   "cell_type": "markdown",
   "id": "afdc6a90-b00c-4443-9b92-7ad153379bd9",
   "metadata": {},
   "source": [
    "### Example 1: Proportion below a value\n",
    "\n",
    "The lifespans of tigers in a particular zoo are normally distributed. The average tiger lives $13.1$ years; the standard deviation is $1.5$ years.\n",
    "\n",
    "Use the empirical rule (68 - 95 - 99.7%) to estimate the probability of a tiger living longer than $14.6$ years."
   ]
  },
  {
   "cell_type": "code",
   "execution_count": 6,
   "id": "42bc5b63-91f0-4c86-b02c-7fba3c0cf483",
   "metadata": {},
   "outputs": [
    {
     "name": "stdout",
     "output_type": "stream",
     "text": [
      "n_sd = -1\n"
     ]
    },
    {
     "data": {
      "text/plain": [
       "0.84"
      ]
     },
     "execution_count": 6,
     "metadata": {},
     "output_type": "execute_result"
    }
   ],
   "source": [
    "# Proportion below a value\n",
    "mu, sd = 13.1, 1.5\n",
    "dp = 14.6\n",
    "n_sd = (mu - dp) / sd\n",
    "print(\"n_sd =\", round(n_sd))\n",
    "p = 0.5 + 0.68 / 2\n",
    "round(p, 4)"
   ]
  },
  {
   "cell_type": "markdown",
   "id": "e555bb5f-1fb6-4d08-a2a6-d6b1cbc03fc9",
   "metadata": {},
   "source": [
    "### Example 2: Proportion above a value\n",
    "\n",
    "The lifespans of tigers in a particular zoo are normally distributed. The average tiger lives $22.4$ years; the standard deviation is $2.7$ years.\n",
    "\n",
    "Use the empirical rule (68 - 95 - 99.7%) to estimate the probability of a tiger living longer than $14.3$ years."
   ]
  },
  {
   "cell_type": "code",
   "execution_count": 7,
   "id": "66f39eca-6af0-4a75-84c7-d2d38b13a1e5",
   "metadata": {},
   "outputs": [
    {
     "name": "stdout",
     "output_type": "stream",
     "text": [
      "n_sd = 3\n"
     ]
    },
    {
     "data": {
      "text/plain": [
       "0.9985"
      ]
     },
     "execution_count": 7,
     "metadata": {},
     "output_type": "execute_result"
    }
   ],
   "source": [
    "# Proportion above a value\n",
    "mu, sd = 22.4, 2.7\n",
    "dp = 14.3\n",
    "n_sd = (mu - dp) / sd\n",
    "print(\"n_sd =\", round(n_sd))\n",
    "p = 1 - (0.003) / 2\n",
    "round(p, 4)"
   ]
  },
  {
   "cell_type": "markdown",
   "id": "f78c5c34-8da1-48bd-8528-656bafd70a84",
   "metadata": {},
   "source": [
    "### Example 3: Proportion between two values\n",
    "\n",
    "The lifespans of tigers in a particular zoo are normally distributed. The average tiger lives $12.5$ years; \n",
    "the standard deviation is $2.4$ years.\n",
    "Use the empirical rule (68 - 95 - 99.7%) to estimate the probability of a tiger living between $5.3$ and $10.1$ years."
   ]
  },
  {
   "cell_type": "code",
   "execution_count": 8,
   "id": "253e1da5-2001-4b8d-ac32-0012080dfed2",
   "metadata": {},
   "outputs": [
    {
     "name": "stdout",
     "output_type": "stream",
     "text": [
      "n_sd_low = 3\n",
      "n_sd_high = 1\n"
     ]
    },
    {
     "data": {
      "text/plain": [
       "0.1585"
      ]
     },
     "execution_count": 8,
     "metadata": {},
     "output_type": "execute_result"
    }
   ],
   "source": [
    "# Proportion between two values\n",
    "mu, sd = 12.5, 2.4\n",
    "dp_low, dp_high = 5.3, 10.1\n",
    "n_sd_low = (mu - dp_low) / sd\n",
    "print(\"n_sd_low =\", round(n_sd_low))\n",
    "n_sd_high = (mu - dp_high) / sd\n",
    "print(\"n_sd_high =\", round(n_sd_high))\n",
    "p = (0.997 - 0.68) / 2\n",
    "round(p, 4)"
   ]
  },
  {
   "cell_type": "markdown",
   "id": "50d1c8ab-4702-4436-b922-987ee62ed397",
   "metadata": {
    "tags": []
   },
   "source": [
    "## Normal Distirbution Calculations\n",
    "\n",
    "> [Probability density function](https://en.wikipedia.org/wiki/Probability_density_function)<br>\n",
    "> In [probability theory](https://en.wikipedia.org/wiki/Probability_theory \"Probability theory\"), a **probability density function** (**PDF**), or **density** of a [continuous random variable](https://en.wikipedia.org/wiki/Continuous_random_variable \"Continuous random variable\"), is a [function](https://en.wikipedia.org/wiki/Function_(mathematics) \"Function (mathematics)\") whose value at any given sample (or point) in the [sample space](https://en.wikipedia.org/wiki/Sample_space \"Sample space\") (the set of possible values taken by the random variable) can be interpreted as providing a _relative likelihood_ that the value of the random variable would be close to that sample.[[2]](https://en.wikipedia.org/wiki/Probability_density_function#cite_note-2)[[3]](https://en.wikipedia.org/wiki/Probability_density_function#cite_note-3) In other words, while the _absolute likelihood_ for a continuous random variable to take on any particular value is 0 (since there is an infinite set of possible values to begin with), the value of the PDF at two different samples can be used to infer, in any particular draw of the random variable, how much more likely it is that the random variable would be close to one sample compared to the other sample.\n",
    "\n",
    "> [Cumulative distribution function](https://en.wikipedia.org/wiki/Cumulative_distribution_function)<br>\n",
    "> In [probability theory](https://en.wikipedia.org/wiki/Probability_theory \"Probability theory\") and [statistics](https://en.wikipedia.org/wiki/Statistics \"Statistics\"), the **cumulative distribution function** (**CDF**) of a real-valued [random variable](https://en.wikipedia.org/wiki/Random_variable \"Random variable\") ${\\displaystyle X}$, or just **distribution function** of ${\\displaystyle X}$, evaluated at ${\\displaystyle x}$ that ${\\displaystyle X}$ will take a value less than or equal to ${\\displaystyle x}$.[[1]](https://en.wikipedia.org/wiki/Cumulative_distribution_function#cite_note-1)<br>\n",
    "> In the case of a scalar [continuous distribution](https://en.wikipedia.org/wiki/Continuous_distribution \"Continuous distribution\"), it gives the area under the [probability density function](https://en.wikipedia.org/wiki/Probability_density_function \"Probability density function\") from minus infinity to ${\\displaystyle x}$. Cumulative distribution functions are also used to specify the distribution of [multivariate random variables](https://en.wikipedia.org/wiki/Multivariate_random_variable \"Multivariate random variable\").\n",
    "\n",
    "> [Percent point function](https://en.wikipedia.org/wiki/Quantile_function)<br>\n",
    "> In [probability](https://en.wikipedia.org/wiki/Probability \"Probability\") and [statistics](https://en.wikipedia.org/wiki/Statistics \"Statistics\"), the **[quantile](https://en.wikipedia.org/wiki/Quantile \"Quantile\") function**, associated with a [probability distribution](https://en.wikipedia.org/wiki/Probability_distribution \"Probability distribution\") of a [random variable](https://en.wikipedia.org/wiki/Random_variable \"Random variable\"), specifies the value of the random variable such that the probability of the variable being less than or equal to that value equals the given probability. Intuitively, the quantile function associates with a range at and below a probability input the likelihood that a random variable is realized in that range for some probability distribution. It is also called the **percentile function**, **percent-point function** or **inverse cumulative distribution function**."
   ]
  },
  {
   "cell_type": "markdown",
   "id": "7c8f9d9f-8ea3-4a7c-8ead-63e92027ed1c",
   "metadata": {},
   "source": [
    "Review module `norm_prop`, click [here](utils/norm/norm_prop.py)."
   ]
  },
  {
   "cell_type": "code",
   "execution_count": 9,
   "id": "e5f18e91-a6e3-41c9-afe5-ef80ca691e60",
   "metadata": {},
   "outputs": [],
   "source": [
    "from utils.norm.norm_prop import norm_prop"
   ]
  },
  {
   "cell_type": "markdown",
   "id": "4a4e8f6f-0ad2-49ba-9497-daf08a088f37",
   "metadata": {},
   "source": [
    "### Example 1: Proportion below a value\n",
    "\n",
    "A set of elementary school student heights are normally distributed with a mean of $105$ centimeters and a standard deviation of $10$ centimeters. Ikue is an elementary school student with a height of $90.4$ centimeters.\n",
    "\n",
    "What proportion of student heights are lower than Ikue's height?"
   ]
  },
  {
   "cell_type": "code",
   "execution_count": 10,
   "id": "e9d9fd81-375d-4e98-b7e8-e04f4d051841",
   "metadata": {},
   "outputs": [
    {
     "data": {
      "text/plain": [
       "0.07214503696589383"
      ]
     },
     "execution_count": 10,
     "metadata": {},
     "output_type": "execute_result"
    }
   ],
   "source": [
    "# Proportion below a value\n",
    "dp, mu, sd = 90.4, 105, 10\n",
    "p = norm_prop(dp, mu, sd)\n",
    "p"
   ]
  },
  {
   "cell_type": "markdown",
   "id": "a5e3d316-c19d-440e-9b6a-615764edefe1",
   "metadata": {},
   "source": [
    "### Example 2: Proportion above a value\n",
    "\n",
    "A set of chemistry exam scores are normally distributed with a mean of $70$ points and a standard deviation of $4$ points. \n",
    "Cam got a score of $65$ points on the exam.\n",
    "\n",
    "What proportion of exam scores are higher than Cam's score?"
   ]
  },
  {
   "cell_type": "code",
   "execution_count": 11,
   "id": "83efb371-2f99-453f-ade5-477464f8549f",
   "metadata": {},
   "outputs": [
    {
     "data": {
      "text/plain": [
       "0.8943502263331446"
      ]
     },
     "execution_count": 11,
     "metadata": {},
     "output_type": "execute_result"
    }
   ],
   "source": [
    "# Proportion above a value\n",
    "dp, mu, sd = 65, 70, 4\n",
    "p = norm_prop(dp, mu, sd, 'above')\n",
    "p"
   ]
  },
  {
   "cell_type": "markdown",
   "id": "7234c3fb-01e4-4b26-b9e0-aab9afafd9f7",
   "metadata": {},
   "source": [
    "### Example 3: Proportion between two values\n",
    "\n",
    "A set of average city temperatures in October are normally distributed with a mean of $21.02$ degrees and a standard deviation of $2$.\n",
    "\n",
    "What proportion of temperatures are between $17.02$ degrees and $25$?"
   ]
  },
  {
   "cell_type": "code",
   "execution_count": 12,
   "id": "575c1674-26e1-4769-9d97-23e657ee86f6",
   "metadata": {},
   "outputs": [
    {
     "data": {
      "text/plain": [
       "0.9539544003016089"
      ]
     },
     "execution_count": 12,
     "metadata": {},
     "output_type": "execute_result"
    }
   ],
   "source": [
    "# Proportion between two values\n",
    "dp, mu, sd = [17.02, 25], 21.02, 2\n",
    "p = p = norm_prop(dp, mu, sd, 'between')\n",
    "p"
   ]
  },
  {
   "cell_type": "markdown",
   "id": "b6b757a5-7619-432c-818b-2b29425c6c89",
   "metadata": {},
   "source": [
    "### Example 4: Finding Z-Score for a left tail probability and Proportions under the left tail probability\n",
    "\n",
    "The distribution of reading scale scores in the 4th grade at Truman Elementary School was approximately normal with mean $\\mu = 221$ and standard deviation $\\sigma = 36$.\n",
    "\n",
    "Educational researchers are conducting an intervention experiment. To participate in the experiment, a student must have a reading scale score in the lower $50\\%$ of the scores in their grade level.\n",
    "\n",
    "What is the maximum reading scale score for students to participate in the intervention experiment?"
   ]
  },
  {
   "cell_type": "code",
   "execution_count": 13,
   "id": "cc728ff0-ca78-431f-87ed-062289ba82d2",
   "metadata": {},
   "outputs": [
    {
     "name": "stdout",
     "output_type": "stream",
     "text": [
      "Z Score = 0.0\n",
      "Data Point = 221.0\n"
     ]
    }
   ],
   "source": [
    "# Finding Z-Score for a left tail probability and Proportions under the left tail probability\n",
    "mu, sd = 221, 36\n",
    "z = stats.norm.ppf(0.5)\n",
    "print(\"Z Score =\", z)\n",
    "# Inverse Z Score formula\n",
    "dp = z * sd + mu\n",
    "print(\"Data Point =\", dp)"
   ]
  },
  {
   "cell_type": "markdown",
   "id": "6ad6a718-ed4b-4cdf-ab33-2acbf1ad3da9",
   "metadata": {},
   "source": [
    "### Example 5: Finding Z-Score for a right tail probability and Proportions above the right tail probability\n",
    "\n",
    "The distribution of SAT scores of all college-bound seniors taking the SAT in 2014 was approximately normal with mean $\\mu = 1497$ and standard deviation $\\sigma = 322$.\n",
    "\n",
    "A certain summer program only admits students whose SAT scores are in the top $15\\%$ of those who take the test in a given year.\n",
    "\n",
    "What is the minimum SAT score in 2014 that meets the program’s requirements?"
   ]
  },
  {
   "cell_type": "code",
   "execution_count": 14,
   "id": "a07f56ad-f2fa-4240-ac3c-9c433c276faa",
   "metadata": {},
   "outputs": [
    {
     "name": "stdout",
     "output_type": "stream",
     "text": [
      "Z Score = 1.0364333894937898\n",
      "Data Point = 1830.7315514170004\n"
     ]
    }
   ],
   "source": [
    "# Finding Z-Score for a right tail probability and Proportions above the right tail probability\n",
    "mu, sd = 1497, 322\n",
    "z = stats.norm.ppf(1 - 0.15)\n",
    "print(\"Z Score =\", z)\n",
    "# Inverse Z Score formula\n",
    "dp = z * sd + mu\n",
    "print(\"Data Point =\", dp)"
   ]
  },
  {
   "cell_type": "code",
   "execution_count": null,
   "id": "7bc64e48-a43c-413d-9223-687a3dcbe205",
   "metadata": {},
   "outputs": [],
   "source": []
  }
 ],
 "metadata": {
  "kernelspec": {
   "display_name": "Python 3 (ipykernel)",
   "language": "python",
   "name": "python3"
  },
  "language_info": {
   "codemirror_mode": {
    "name": "ipython",
    "version": 3
   },
   "file_extension": ".py",
   "mimetype": "text/x-python",
   "name": "python",
   "nbconvert_exporter": "python",
   "pygments_lexer": "ipython3",
   "version": "3.9.10"
  }
 },
 "nbformat": 4,
 "nbformat_minor": 5
}
