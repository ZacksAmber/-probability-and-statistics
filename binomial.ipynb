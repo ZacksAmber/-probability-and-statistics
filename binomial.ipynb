{
 "cells": [
  {
   "cell_type": "code",
   "execution_count": 1,
   "id": "e9695d53-7c1b-4d81-8349-cba05add0751",
   "metadata": {},
   "outputs": [],
   "source": [
    "import numpy as np\n",
    "import pandas as pd\n",
    "from scipy.stats import binom, bernoulli, geom, poisson\n",
    "from IPython.display import display, Latex"
   ]
  },
  {
   "cell_type": "markdown",
   "id": "2386916a-9dd7-409d-af25-b28cdab5de7c",
   "metadata": {
    "jp-MarkdownHeadingCollapsed": true,
    "tags": []
   },
   "source": [
    "# Reference\n",
    "\n",
    "> [Unit: Random Variables](https://www.khanacademy.org/math/statistics-probability/random-variables-stats-library)"
   ]
  },
  {
   "cell_type": "markdown",
   "id": "468b1701-9f0d-4dcd-946c-c93c0b4a70ec",
   "metadata": {},
   "source": [
    "---\n",
    "\n",
    "# Binomial random variables\n",
    "\n",
    "> [Binomial Distribution](https://en.wikipedia.org/wiki/Binomial_distribution)\n",
    "\n",
    "- **Each trial can be classified as a success or a failure.**\n",
    "- **Number of trials is fixed.**\n",
    "- **Independent**:\n",
    "    - 10% rule: Within finite population, when sampling without replacement and sample size $\\leq 10\\%$ of the population size, it can be treated as independent.\n",
    "    - Finite population: When sampling with replacement, it's independent.\n",
    "    - Infinite population: It's independent."
   ]
  },
  {
   "cell_type": "markdown",
   "id": "dd3e2a87-7b48-449a-9365-11487101ce84",
   "metadata": {},
   "source": [
    "---\n",
    "\n",
    "## Identifying binomial variables\n",
    "\n",
    "> [Binomial proability (basic)](https://www.khanacademy.org/math/statistics-probability/random-variables-stats-library/binomial-random-variables/a/binomial-probability-basic)"
   ]
  },
  {
   "cell_type": "markdown",
   "id": "d0f92fad-c8c4-43d5-b26b-d2c3ecc76801",
   "metadata": {
    "tags": []
   },
   "source": [
    "---\n",
    "\n",
    "### Example 1\n",
    "\n",
    "Based on previous data, an electronics manufacturer knows that $2\\%$, percent of its computer processors are defective. Suppose the manufacturer randomly selects these processors until one is found with a defect. Let $D$ represent the number of processors it takes to find the first one that is defective. Assume that defective processors are independent.\n",
    "\n",
    "**Is $D$ a binomial variable? Why or why not?**"
   ]
  },
  {
   "cell_type": "markdown",
   "id": "73d198b2-cf0a-4660-b19c-ccb5a3d1c04d",
   "metadata": {},
   "source": [
    "There is no fixed number of trials, so $D$ is not a binomial variable."
   ]
  },
  {
   "cell_type": "markdown",
   "id": "ff8c372f-edd5-4c30-93eb-9441f76cc407",
   "metadata": {},
   "source": [
    "---\n",
    "\n",
    "### Example 2\n",
    "\n",
    "Mia takes a random sample of $10$ of her coworkers and asks them each how many pets they have. Assume that their results are independent, and let $X$ represent the average number of pets in the sample.\n",
    "\n",
    "**Is $X$ a binomial variable? Why or why not?**"
   ]
  },
  {
   "cell_type": "markdown",
   "id": "8de6203d-0c5c-4dc3-84e6-e2c02a91b6a3",
   "metadata": {},
   "source": [
    "Each trial isn't being classified as a success or failure, so $X$ is not a binomial variable.\n",
    "\n",
    "Explain:\n",
    "\n",
    "True. Each person is reporting a number that isn't being categorized as a success or a failure."
   ]
  },
  {
   "cell_type": "markdown",
   "id": "fcd16385-24ea-4d48-a390-acbc35f940b6",
   "metadata": {},
   "source": [
    "---\n",
    "\n",
    "## Binomial probability formula\n",
    "\n",
    "> [Probability mass function](https://en.wikipedia.org/wiki/Probability_mass_function)<br>\n",
    "> In [probability](https://en.wikipedia.org/wiki/Probability_theory \"Probability theory\") and [statistics](https://en.wikipedia.org/wiki/Statistics \"Statistics\"), a **probability mass function** is a function that gives the probability that a [discrete random variable](https://en.wikipedia.org/wiki/Discrete_random_variable \"Discrete random variable\") is exactly equal to some value.[[1]](https://en.wikipedia.org/wiki/Probability_mass_function#cite_note-1) Sometimes it is also known as the discrete density function. The probability mass function is often the primary means of defining a [discrete probability distribution](https://en.wikipedia.org/wiki/Discrete_probability_distribution \"Discrete probability distribution\"), and such functions exist for either [scalar](https://en.wikipedia.org/wiki/Scalar_variable \"Scalar variable\") or [multivariate random variables](https://en.wikipedia.org/wiki/Multivariate_random_variable \"Multivariate random variable\") whose [domain](https://en.wikipedia.org/wiki/Domain_of_a_function \"Domain of a function\") is discrete.<br>\n",
    "> A probability mass function differs from a [probability density function](https://en.wikipedia.org/wiki/Probability_density_function) (PDF) in that the latter is associated with continuous rather than discrete random variables. A PDF must be [integrated](https://en.wikipedia.org/wiki/Integration_(mathematics) \"Integration (mathematics)\") over an interval to yield a probability.[[2]](https://en.wikipedia.org/wiki/Probability_mass_function#cite_note-:0-2)<br>\n",
    "> The value of the random variable having the largest probability mass is called the [mode](https://en.wikipedia.org/wiki/Mode_(statistics) \"Mode (statistics)\").\n",
    "\n",
    "> [Cumulative distribution function](https://en.wikipedia.org/wiki/Cumulative_distribution_function)<br>\n",
    "> In [probability theory](https://en.wikipedia.org/wiki/Probability_theory \"Probability theory\") and [statistics](https://en.wikipedia.org/wiki/Statistics \"Statistics\"), the **cumulative distribution function** (**CDF**) of a real-valued [random variable](https://en.wikipedia.org/wiki/Random_variable \"Random variable\") ${\\displaystyle X}$, or just **distribution function** of ${\\displaystyle X}$, evaluated at ${\\displaystyle x}$ that ${\\displaystyle X}$ will take a value less than or equal to ${\\displaystyle x}$.[[1]](https://en.wikipedia.org/wiki/Cumulative_distribution_function#cite_note-1)<br>\n",
    "> In the case of a scalar [continuous distribution](https://en.wikipedia.org/wiki/Continuous_distribution \"Continuous distribution\"), it gives the area under the [probability density function](https://en.wikipedia.org/wiki/Probability_density_function \"Probability density function\") from minus infinity to ${\\displaystyle x}$. Cumulative distribution functions are also used to specify the distribution of [multivariate random variables](https://en.wikipedia.org/wiki/Multivariate_random_variable \"Multivariate random variable\").\n",
    "\n",
    "- PMF (Probability mass function): $\\displaystyle f(k, n, p) = \\text{Pr}(k; n, p) = \\text{Pr}(X = k) = {n \\choose k}p^{k}q^{n-k}$\n",
    "- PDF (Probability cumulative distribution function): $\\displaystyle F(k; n, p) = \\text{Pr}(X \\leq k) = \\sum^{\\lfloor k \\rfloor}_{i=0} {n \\choose i}p^{i}q^{n-i}$"
   ]
  },
  {
   "cell_type": "markdown",
   "id": "1372aead-9d55-419f-968e-63bff6d985c5",
   "metadata": {},
   "source": [
    "---\n",
    "\n",
    "### Example 1\n",
    "\n",
    "Heather has a weighted coin that has a $60\\%$ chance of landing on heads each time it is flipped. She is going to flip the coin 555 times.\n",
    "\n",
    "**Which of the following would find the probability of Heather getting exactly $3$ heads in $5$ flips of her weighted coin?**"
   ]
  },
  {
   "cell_type": "markdown",
   "id": "4a859b36-77b6-45b1-be8b-911a598a4a06",
   "metadata": {},
   "source": [
    "$\\displaystyle P(H = 3) = {5 \\choose 3}(0.6)^{3}(0.4)^{2}$"
   ]
  },
  {
   "cell_type": "markdown",
   "id": "41e18863-dc06-48ad-95fd-9f84b2d62f44",
   "metadata": {},
   "source": [
    "---\n",
    "\n",
    "## Calculating binomial probability"
   ]
  },
  {
   "cell_type": "markdown",
   "id": "9ab3dc45-261a-4268-9e6d-97ef06b62608",
   "metadata": {
    "tags": []
   },
   "source": [
    "---\n",
    "\n",
    "### Example 1: PMF\n",
    "\n",
    "A small college has $800$ students, $10\\%$, percent of which are left-handed. Suppose they take an SRS (Simple Random Sample) of $4$ students. Let $X=$ the number of left-handed students in the sample.\n",
    "\n",
    "**What is the probability that exactly $2$ of the $4$ students are left-handed?**  \n",
    "_You may round your answer to the nearest hundredth._"
   ]
  },
  {
   "cell_type": "code",
   "execution_count": 2,
   "id": "06a15b9e-db89-4a71-b98e-d8196baa5b2a",
   "metadata": {},
   "outputs": [
    {
     "data": {
      "text/latex": [
       "$P(X=2) = 0.05$"
      ],
      "text/plain": [
       "<IPython.core.display.Latex object>"
      ]
     },
     "metadata": {},
     "output_type": "display_data"
    }
   ],
   "source": [
    "k, n, p = 2, 4, 0.1\n",
    "precision = 2\n",
    "prob = binom.pmf(k, n, p)\n",
    "prob = round(prob, precision)\n",
    "display(Latex(f'$P(X=2) = {prob}$'))"
   ]
  },
  {
   "cell_type": "markdown",
   "id": "116cc6a5-6c53-495d-955f-10813632a912",
   "metadata": {},
   "source": [
    "---\n",
    "\n",
    "### Example 2: CDF for left tail\n",
    "\n",
    "Aja's favorite cereal is running a promotion that says $1-in-4$ boxes of the cereal contain a prize. Suppose that Aja is going to buy $5$ boxes of this cereal, and let $X$ represent the number of prizes she wins in these boxes. Assume that these boxes represent a random sample, and assume that prizes are independent between boxes.\n",
    "\n",
    "**What is the probability that she wins at most $1$ prize in the $5$ boxes?**  \n",
    "_You may round your answer to the nearest hundredth._"
   ]
  },
  {
   "cell_type": "code",
   "execution_count": 3,
   "id": "ecc2f451-63b5-4346-8c29-b26d21b51fd0",
   "metadata": {},
   "outputs": [
    {
     "data": {
      "text/latex": [
       "$P(X \\leq 1) = 0.63$"
      ],
      "text/plain": [
       "<IPython.core.display.Latex object>"
      ]
     },
     "metadata": {},
     "output_type": "display_data"
    }
   ],
   "source": [
    "k, n, p = 1, 5, 1/4\n",
    "precision = 2\n",
    "prob = binom.cdf(k, n, p)\n",
    "prob = round(prob, precision)\n",
    "display(Latex(f'$P(X \\leq 1) = {prob}$'))"
   ]
  },
  {
   "cell_type": "markdown",
   "id": "2f6bb5e2-0724-4f85-8e7c-d52e361f1df1",
   "metadata": {},
   "source": [
    "---\n",
    "\n",
    "### Example 3: CDF for left tail\n",
    "\n",
    "Ira ran out of time while taking a multiple-choice test and plans to guess on the last $6$ questions. Each question has $4$ possible choices, one of which is correct. Let $X=$ the number of answers Ira correctly guesses in the last $6$ questions.\n",
    "\n",
    "**What is the probability that he answers fewer than $2$ questions correctly in the last $6$ questions?**  \n",
    "_You may round your answer to the nearest hundredth._"
   ]
  },
  {
   "cell_type": "code",
   "execution_count": 4,
   "id": "bc47d506-b277-45aa-87f9-3eda910e3fc1",
   "metadata": {},
   "outputs": [
    {
     "data": {
      "text/latex": [
       "$P(X \\leq 2) = 0.53$"
      ],
      "text/plain": [
       "<IPython.core.display.Latex object>"
      ]
     },
     "metadata": {},
     "output_type": "display_data"
    }
   ],
   "source": [
    "k, n, p = 2-1, 6, 1/4\n",
    "precision = 2\n",
    "prob = binom.cdf(k, n, p)\n",
    "prob = round(prob, precision)\n",
    "display(Latex(f'$P(X \\leq 2) = {prob}$'))"
   ]
  },
  {
   "cell_type": "markdown",
   "id": "7a6803bc-7e95-4468-abc8-dc99d2d8dd19",
   "metadata": {},
   "source": [
    "---\n",
    "\n",
    "### Example 4: CDF for right tail\n",
    "\n",
    "Layla has a coin that has a $60\\%$, percent chance of showing heads each time it is flipped. She is going to flip the coin $5$ times. Let $X$ represent the number of heads she gets.\n",
    "\n",
    "**What is the probability that she gets more than $3$ heads?**  \n",
    "_You may round your answer to the nearest hundredth._"
   ]
  },
  {
   "cell_type": "code",
   "execution_count": 5,
   "id": "c20991e6-b07b-4c88-a0d5-1ad3a3f1b57f",
   "metadata": {},
   "outputs": [
    {
     "data": {
      "text/latex": [
       "$P(X > 3) = 0.34$"
      ],
      "text/plain": [
       "<IPython.core.display.Latex object>"
      ]
     },
     "metadata": {},
     "output_type": "display_data"
    }
   ],
   "source": [
    "k, n, p = 3, 5, 0.6\n",
    "precision = 2\n",
    "prob = 1 - binom.cdf(k, n, p)\n",
    "prob = round(prob, precision)\n",
    "display(Latex(f'$P(X > 3) = {prob}$'))"
   ]
  },
  {
   "cell_type": "markdown",
   "id": "0e6a0cba-1fae-41ef-9441-56e4153ecfbf",
   "metadata": {},
   "source": [
    "---\n",
    "\n",
    "### Example 5: CDF for right tail\n",
    "\n",
    "Marta makes $90\\%$, percent of the free throws she attempts. She is going to shoot $3$ free throws. Assume that the results of free throws are independent from each other. Let $X$ represent the number of free throws she makes.\n",
    "\n",
    "**Find the probability that Marta makes at least $2$ of the $3$ free throws.**  \n",
    "_You may round your answer to the nearest hundredth._"
   ]
  },
  {
   "cell_type": "code",
   "execution_count": 6,
   "id": "d8838800-1dff-4d5e-8a3e-7ddecad671c7",
   "metadata": {},
   "outputs": [
    {
     "data": {
      "text/latex": [
       "$P(X > 1) = 0.97$"
      ],
      "text/plain": [
       "<IPython.core.display.Latex object>"
      ]
     },
     "metadata": {},
     "output_type": "display_data"
    }
   ],
   "source": [
    "k, n, p = 2-1, 3, 0.9 # notice k should minus 1 since the condition is \"at least\"\n",
    "precision = 2\n",
    "prob = 1 - binom.cdf(k, n, p)\n",
    "prob = round(prob, precision)\n",
    "display(Latex(f'$P(X > 1) = {prob}$'))"
   ]
  },
  {
   "cell_type": "markdown",
   "id": "8a9624de-cd99-426b-b269-6fd6bb33eab8",
   "metadata": {},
   "source": [
    "---\n",
    "\n",
    "# Binomial mean and standard deviation formulas\n",
    "\n",
    "- Mean: $E[X] = np$\n",
    "- Variance $Var[X] = npq$"
   ]
  },
  {
   "cell_type": "markdown",
   "id": "ab4610bf-7657-45b2-8563-a7bbe6b1e6ac",
   "metadata": {
    "tags": []
   },
   "source": [
    "---\n",
    "\n",
    "## Mean and standard deviation formulas of a binomial variable"
   ]
  },
  {
   "cell_type": "markdown",
   "id": "c3aab2f5-9365-467a-9174-07e6bdb167f2",
   "metadata": {},
   "source": [
    "---\n",
    "\n",
    "### Example 1\n",
    "\n",
    "A large fast-food chain runs a promotion where $1-in-4$ boxes of french fries include a coupon for a free box of french fries. Suppose that some location sells $100$ of these boxes of fries per day. Let $X=$ the number of coupons won per day.\n",
    "\n",
    "**Find the mean and standard deviation of $X$.**  \n",
    "_You may round your answers to the nearest tenth._"
   ]
  },
  {
   "cell_type": "code",
   "execution_count": 7,
   "id": "7d99463d-3f68-4c8c-a383-5e4c0f6bde46",
   "metadata": {},
   "outputs": [
    {
     "data": {
      "text/latex": [
       "$\\mu_X = 25.0$"
      ],
      "text/plain": [
       "<IPython.core.display.Latex object>"
      ]
     },
     "metadata": {},
     "output_type": "display_data"
    },
    {
     "data": {
      "text/latex": [
       "$\\sigma_X = 4.3$"
      ],
      "text/plain": [
       "<IPython.core.display.Latex object>"
      ]
     },
     "metadata": {},
     "output_type": "display_data"
    }
   ],
   "source": [
    "n, p = 100, 1/4\n",
    "precision = 1\n",
    "display(Latex(f'$\\mu_X = {binom.mean(n, p)}$'))\n",
    "display(Latex(f'$\\sigma_X = {round(binom.std(n, p), precision)}$'))"
   ]
  },
  {
   "cell_type": "markdown",
   "id": "7a0df8a5-9cc3-4dd3-831b-db4d262e4b78",
   "metadata": {},
   "source": [
    "---\n",
    "\n",
    "### Example 2\n",
    "\n",
    "A college has over $5{,}000$ students, $10\\%$ of which are left-handed. A new lecture hall is being planned that will seat $300$ students, and college officials want to be sure there are enough left-handed desks. Suppose we randomly select groups of $300$ students from this college.\n",
    "\n",
    "**What are the mean and standard deviation of the number of left-handed students in each group of $300$?**  \n",
    "_You may round your answers to the nearest tenth._"
   ]
  },
  {
   "cell_type": "code",
   "execution_count": 8,
   "id": "3d4b19a7-1196-4d57-926b-f53e0d02ea90",
   "metadata": {},
   "outputs": [
    {
     "data": {
      "text/latex": [
       "$\\mu_X = 30.0$"
      ],
      "text/plain": [
       "<IPython.core.display.Latex object>"
      ]
     },
     "metadata": {},
     "output_type": "display_data"
    },
    {
     "data": {
      "text/latex": [
       "$\\sigma_X = 5.2$"
      ],
      "text/plain": [
       "<IPython.core.display.Latex object>"
      ]
     },
     "metadata": {},
     "output_type": "display_data"
    }
   ],
   "source": [
    "n, p = 300, 0.1\n",
    "precision = 1\n",
    "display(Latex(f'$\\mu_X = {binom.mean(n, p)}$'))\n",
    "display(Latex(f'$\\sigma_X = {round(binom.std(n, p), precision)}$'))"
   ]
  },
  {
   "cell_type": "markdown",
   "id": "799bb757-e1cb-4947-a971-8d8fba1f4c3f",
   "metadata": {},
   "source": [
    "---\n",
    "\n",
    "## [Bernoulli distribution](https://en.wikipedia.org/wiki/Bernoulli_distribution)\n",
    "\n",
    "In [probability theory](https://en.wikipedia.org/wiki/Probability_theory \"Probability theory\") and [statistics](https://en.wikipedia.org/wiki/Statistics \"Statistics\"), the **Bernoulli distribution**, named after Swiss mathematician [Jacob Bernoulli](https://en.wikipedia.org/wiki/Jacob_Bernoulli \"Jacob Bernoulli\"),[[1]](https://en.wikipedia.org/wiki/Bernoulli_distribution#cite_note-1) is the [discrete probability distribution](https://en.wikipedia.org/wiki/Discrete_probability_distribution \"Discrete probability distribution\") of a [random variable](https://en.wikipedia.org/wiki/Random_variable \"Random variable\") which takes the value 1 with probability ${\\displaystyle p}$ and the value 0 with probability ${\\displaystyle q=1-p}$.\n",
    "\n",
    "The Bernoulli distribution is a special case of the [binomial distribution](https://en.wikipedia.org/wiki/Binomial_distribution \"Binomial distribution\") where a single trial is conducted (so $n$ would be $1$ for such a binomial distribution). It is also a special case of the **two-point distribution**, for which the possible outcomes need not be $0$ and $1$.\n",
    "\n",
    "- PMF: $\\displaystyle f(k;p) = \\begin{cases} p  & \\text{if } k = 1, \\\\ q = 1 - p & \\text{if } k = 0.\\end{cases}$ $\\Rightarrow \\displaystyle p^k(1 - p)^{1-k} \\text{for } k \\in \\{0, 1\\}$\n",
    "- Mean: $\\displaystyle E[X] = p$\n",
    "- Variance: $\\displaystyle Var[X] = pq$"
   ]
  },
  {
   "cell_type": "markdown",
   "id": "b30f896a-3e07-4b69-b7b9-586c3088f3ac",
   "metadata": {},
   "source": [
    "---\n",
    "\n",
    "### Example 1\n",
    "\n",
    "Assume unfavorable rating is $40\\%$ and favorable rating is $60\\%$ for the current president.\n",
    "\n",
    "Let's say favorable is $1$ and unfavorable is $0$."
   ]
  },
  {
   "cell_type": "code",
   "execution_count": 9,
   "id": "cdb7595d-14ff-4e06-9204-c830ea0e3a2e",
   "metadata": {},
   "outputs": [
    {
     "data": {
      "text/latex": [
       "$\\mu_X = 0.6$"
      ],
      "text/plain": [
       "<IPython.core.display.Latex object>"
      ]
     },
     "metadata": {},
     "output_type": "display_data"
    },
    {
     "data": {
      "text/latex": [
       "$\\sigma_X = 0.49$"
      ],
      "text/plain": [
       "<IPython.core.display.Latex object>"
      ]
     },
     "metadata": {},
     "output_type": "display_data"
    }
   ],
   "source": [
    "p = 0.6\n",
    "precision = 2\n",
    "display(Latex(f'$\\mu_X = {bernoulli.mean(p)}$'))\n",
    "display(Latex(f'$\\sigma_X = {round(bernoulli.std(p), precision)}$'))"
   ]
  },
  {
   "cell_type": "markdown",
   "id": "70245eda-1b09-4ad8-8e98-423553f315ff",
   "metadata": {
    "tags": []
   },
   "source": [
    "---\n",
    "\n",
    "# Geometric random variables\n",
    "\n",
    "> [Geometric Distribution](https://en.wikipedia.org/wiki/Geometric_distribution)\n",
    "\n",
    "In [probability theory](https://en.wikipedia.org/wiki/Probability_theory \"Probability theory\") and [statistics](https://en.wikipedia.org/wiki/Statistics \"Statistics\"), the **geometric distribution** is either one of two [discrete probability distributions](https://en.wikipedia.org/wiki/Discrete_probability_distribution \"Discrete probability distribution\"):\n",
    "\n",
    "-   The probability distribution of the number _X_ of [Bernoulli trials](https://en.wikipedia.org/wiki/Bernoulli_trial \"Bernoulli trial\") needed to get one success, supported on the set ${\\displaystyle \\{1,2,3,\\ldots \\}}$;\n",
    "-   The probability distribution of the number _Y_ = _X_ − 1 of failures before the first success, supported on the set ${\\displaystyle \\{0,1,2,\\ldots \\}}$.\n",
    "\n",
    "Which of these is called \"the\" geometric distribution is a matter of convention and convenience.\n",
    "\n",
    "These two different geometric distributions should not be confused with each other. Often, the name _shifted_ geometric distribution is adopted for the former one (distribution of the number _X_); however, to avoid ambiguity, it is considered wise to indicate which is intended, by mentioning the support explicitly.\n",
    "\n",
    "The geometric distribution gives the probability that the first occurrence of success requires _k_ independent trials, each with success probability _p_. If the probability of success on each trial is _p_, then the probability that the $k_{th}$ trial (out of _k_ trials) is the first success is\n",
    "\n",
    "${\\displaystyle \\Pr(X=k)=(1-p)^{k-1}p}$"
   ]
  },
  {
   "cell_type": "markdown",
   "id": "f9b8da36-0368-462a-988a-04b343dd3c65",
   "metadata": {},
   "source": [
    "---\n",
    "\n",
    "## Binomial vs. geometric random variables"
   ]
  },
  {
   "cell_type": "markdown",
   "id": "4ec88c78-b336-4d6b-801e-4a5f05e03e63",
   "metadata": {},
   "source": [
    "---\n",
    "\n",
    "### Example 1\n",
    "\n",
    "Alma wrote a phone app. She has noticed that $3\\%$ of the users who download her app upgrade it the same day. Let $N$ be the number of customers who download Alma's app until one upgrades it on the same day. Assume that the probability of each user's upgrades are independent.\n",
    "\n",
    "**What type of variable is $N$?**"
   ]
  },
  {
   "cell_type": "markdown",
   "id": "e1b530b9-4da1-47d2-a8df-dc51b3e37f1f",
   "metadata": {},
   "source": [
    "Geometric\n",
    "\n",
    "Explain:\n",
    "\n",
    "A binomial setting has a set number of trials, and the variable in question is the _number of successes_ that occur in those trials."
   ]
  },
  {
   "cell_type": "markdown",
   "id": "da904950-bbc6-4402-86f5-513254921a9b",
   "metadata": {},
   "source": [
    "---\n",
    "\n",
    "## Geometric probability"
   ]
  },
  {
   "cell_type": "markdown",
   "id": "336729f9-0b59-431a-b6a9-0eb7a9610ec2",
   "metadata": {
    "tags": []
   },
   "source": [
    "---\n",
    "\n",
    "### Example 1: PMF\n",
    "\n",
    "An online retailer determines that people click on a particular advertisement $2\\%$ of the times it appears. Let $V$ be the number of times the advertisement appears to get the first person to click on it. Assume each click is independent.\n",
    "\n",
    "**Find the probability that a person first clicks on the advertisement the $8^{\\text{th}}$  time it appears.**  \n",
    "_You may round your answer to the nearest hundredth._"
   ]
  },
  {
   "cell_type": "code",
   "execution_count": 10,
   "id": "4ff5d1cd-4751-4f61-b3d6-0a6a05984cbe",
   "metadata": {},
   "outputs": [
    {
     "data": {
      "text/latex": [
       "$P(V = 8) = 0.02$"
      ],
      "text/plain": [
       "<IPython.core.display.Latex object>"
      ]
     },
     "metadata": {},
     "output_type": "display_data"
    }
   ],
   "source": [
    "k, p = 8, 0.02\n",
    "precision = 2\n",
    "prob = geom.pmf(k, p)\n",
    "prob = round(prob, precision)\n",
    "display(Latex(f'$P(V = {k}) = {prob}$'))"
   ]
  },
  {
   "cell_type": "markdown",
   "id": "48652301-cff2-4e92-b8bf-71323b3ed9b7",
   "metadata": {},
   "source": [
    "---\n",
    "\n",
    "### Example 2: PMF\n",
    "\n",
    "Milani's teacher draws students names at random, calls on the student, and replaces the name so that students know they should always be prepared to respond. There are $20$ students in Milani's class. Let $X$ be the number of names it takes for the teacher to draw Milani's name.\n",
    "\n",
    "**Find the probability that the teacher first draws Milani's name as the $7^{\\text{th}}$  name.**  \n",
    "_You may round your answer to the nearest hundredth._"
   ]
  },
  {
   "cell_type": "code",
   "execution_count": 11,
   "id": "e763d8a8-2ea3-4c10-8aaf-6d7af5c4dd1b",
   "metadata": {},
   "outputs": [
    {
     "data": {
      "text/latex": [
       "$P(X = 7) = 0.04$"
      ],
      "text/plain": [
       "<IPython.core.display.Latex object>"
      ]
     },
     "metadata": {},
     "output_type": "display_data"
    }
   ],
   "source": [
    "k, p = 7, 1/20\n",
    "precision = 2\n",
    "prob = geom.pmf(k, p)\n",
    "prob = round(prob, precision)\n",
    "display(Latex(f'$P(X = {k}) = {prob}$'))"
   ]
  },
  {
   "cell_type": "markdown",
   "id": "1055146b-9c3c-45b6-8f02-7a7b4c6836e2",
   "metadata": {},
   "source": [
    "---\n",
    "\n",
    "### Example 3: PMF\n",
    "\n",
    "Augustus draws tickets one at a time for a raffle. The person named on the ticket must be present to win, but $30\\%$, percent of the $750$ raffle tickets have the names of people who are no longer present. Let $T$ be the number of tickets Augustus needs to draw to find a winner who is present.\n",
    "\n",
    "**Find the probability that Augustus first draws the name of someone present on the $3^{\\text{rd}}$ ticket.**  \n",
    "_You may round your answer to the nearest hundredth._"
   ]
  },
  {
   "cell_type": "code",
   "execution_count": 12,
   "id": "2327dcc4-396b-449a-9a3e-af8094361958",
   "metadata": {},
   "outputs": [
    {
     "data": {
      "text/latex": [
       "$P(T = 3) = 0.06$"
      ],
      "text/plain": [
       "<IPython.core.display.Latex object>"
      ]
     },
     "metadata": {},
     "output_type": "display_data"
    }
   ],
   "source": [
    "k, p = 3, 1-0.3\n",
    "precision = 2\n",
    "prob = geom.pmf(k, p)\n",
    "prob = round(prob, precision)\n",
    "display(Latex(f'$P(T = {k}) = {prob}$'))"
   ]
  },
  {
   "cell_type": "markdown",
   "id": "e2f9e89f-54e0-4156-8a12-f749256e58fd",
   "metadata": {},
   "source": [
    "---\n",
    "\n",
    "## Cumulative geometric probability"
   ]
  },
  {
   "cell_type": "markdown",
   "id": "6d809b07-9211-4136-9601-34e9ad078f03",
   "metadata": {
    "tags": []
   },
   "source": [
    "---\n",
    "\n",
    "### Example 1: CDF for left tail\n",
    "\n",
    "An airline offers a survey for its passengers to complete after every flight. Each time a passenger completes the survey, there is a $2\\%$ percent chance they will win a discounted price on their next flight. Assume that winners are selected at random, and the results of the surveys are independent.\n",
    "\n",
    "Zaylee has numerous trips planned with this airline, and she'll always complete each survey in hopes of winning. Let $N$ be the number of surveys Zaylee completes until she wins for the first time.\n",
    "\n",
    "**Find the probability that it takes Zaylee $3$ surveys or less to win for the first time.**  \n",
    "_You may round your answer to the nearest hundredth._"
   ]
  },
  {
   "cell_type": "code",
   "execution_count": 13,
   "id": "1aa38a47-6ef7-4ab5-bc36-c123e37c961b",
   "metadata": {},
   "outputs": [
    {
     "data": {
      "text/latex": [
       "$P(N \\leq 3) = 0.06$"
      ],
      "text/plain": [
       "<IPython.core.display.Latex object>"
      ]
     },
     "metadata": {},
     "output_type": "display_data"
    }
   ],
   "source": [
    "k, p = 3, 0.02\n",
    "precision = 2\n",
    "prob = geom.cdf(k, p)\n",
    "prob = round(prob, precision)\n",
    "display(Latex(f'$P(N \\leq {k}) = {prob}$'))"
   ]
  },
  {
   "cell_type": "markdown",
   "id": "c8e0e710-d478-459c-a99f-be002364d9f4",
   "metadata": {
    "tags": []
   },
   "source": [
    "---\n",
    "\n",
    "### Example 2: CDF for left tail\n",
    "\n",
    "Lilyana runs a cake decorating business, for which $10\\%$ of her orders come over the telephone. Let $C$ be the number of cake orders Lilyana receives in a month until she first gets an order over the telephone. Assume the method of placing each cake order is independent.\n",
    "\n",
    "**Find the probability that it takes fewer than $5$ orders for Lilyana to get her first telephone order of the month.**  \n",
    "_You may round your answer to the nearest hundredth._"
   ]
  },
  {
   "cell_type": "code",
   "execution_count": 14,
   "id": "dd58ae4a-0f1f-44eb-8d85-ddee54ffeea3",
   "metadata": {},
   "outputs": [
    {
     "data": {
      "text/latex": [
       "$P(C \\leq 4) = 0.34$"
      ],
      "text/plain": [
       "<IPython.core.display.Latex object>"
      ]
     },
     "metadata": {},
     "output_type": "display_data"
    }
   ],
   "source": [
    "k, p = 5-1, 0.1 # notice the condition is fewer than 5\n",
    "precision = 2\n",
    "prob = geom.cdf(k, p)\n",
    "prob = round(prob, precision)\n",
    "display(Latex(f'$P(C \\leq {k}) = {prob}$'))"
   ]
  },
  {
   "cell_type": "markdown",
   "id": "da679742-1a9c-45bc-a128-a19210f0890e",
   "metadata": {
    "tags": []
   },
   "source": [
    "---\n",
    "\n",
    "### Example 3: CDF for right tail\n",
    "\n",
    "Jeremiah makes $25\\%$ of the three-point shots he attempts. For a warm up, Jeremiah likes to shoot three-point shots until he makes one. Let $M$ be the number of shots it takes Jeremiah to make his first three-point shot. Assume that the results of each shot are independent.\n",
    "\n",
    "**Find the probability that it takes Jeremiah more than $6$ attempts to make his first shot.**  \n",
    "_You may round your answer to the nearest hundredth._"
   ]
  },
  {
   "cell_type": "code",
   "execution_count": 15,
   "id": "b46dabf9-33ed-4136-a3b3-652243b08cfc",
   "metadata": {},
   "outputs": [
    {
     "data": {
      "text/latex": [
       "$P(M > 6) = 0.18$"
      ],
      "text/plain": [
       "<IPython.core.display.Latex object>"
      ]
     },
     "metadata": {},
     "output_type": "display_data"
    }
   ],
   "source": [
    "k, p = 6, 0.25\n",
    "precision = 2\n",
    "prob = round(geom.sf(k, p), precision)\n",
    "display(Latex(f'$P(M > {k}) = {prob}$'))"
   ]
  },
  {
   "cell_type": "markdown",
   "id": "e94babf4-b22f-43ff-a8d1-aab98851a92e",
   "metadata": {
    "tags": []
   },
   "source": [
    "---\n",
    "\n",
    "### Example 4: CDF for right tail\n",
    "\n",
    "Anand knows from experience that if he does not review a new vocabulary word that he has learned, that he has $70\\%$ chance of forgetting it each day. Let $D$ be the number of days Anand goes without reviewing a word until he forgets it.\n",
    "\n",
    "**Find the probability that it takes Anand $4$ or more days to forget the word.**  \n",
    "_You may round your answer to the nearest hundredth._"
   ]
  },
  {
   "cell_type": "code",
   "execution_count": 16,
   "id": "22ac0626-f95f-435f-91dc-3c263359e3cf",
   "metadata": {},
   "outputs": [
    {
     "data": {
      "text/latex": [
       "$P(D > 3)=0.03$"
      ],
      "text/plain": [
       "<IPython.core.display.Latex object>"
      ]
     },
     "metadata": {},
     "output_type": "display_data"
    }
   ],
   "source": [
    "k, p = 4-1, 0.7 # notice the condition is 4 or more\n",
    "precision = 2\n",
    "prob = round(geom.sf(k, p), precision)\n",
    "display(Latex(f'$P(D > {k})={prob}$'))"
   ]
  },
  {
   "cell_type": "markdown",
   "id": "17f96c63-e6c7-4235-844b-98f6c07ff825",
   "metadata": {},
   "source": [
    "---\n",
    "\n",
    "# Poisson random variables\n",
    "\n",
    "> [Poisson distribution](https://en.wikipedia.org/wiki/Poisson_distribution)\n",
    "\n",
    "In [probability theory](https://en.wikipedia.org/wiki/Probability_theory \"Probability theory\") and [statistics](https://en.wikipedia.org/wiki/Statistics \"Statistics\"), the **Poisson distribution** is a [discrete probability distribution](https://en.wikipedia.org/wiki/Discrete_probability_distribution \"Discrete probability distribution\") that expresses the probability of a given number of events occurring in a fixed interval of time or space if these events occur with a known constant mean rate and [independently](https://en.wikipedia.org/wiki/Statistical_independence \"Statistical independence\") of the time since the last event."
   ]
  },
  {
   "cell_type": "markdown",
   "id": "9dd78204-3c7f-42a6-8f05-03016e809276",
   "metadata": {
    "tags": []
   },
   "source": [
    "---\n",
    "\n",
    "## Examples that violate the Poisson assumptions\n",
    "\n",
    "The number of students who arrive at the [student union](https://en.wikipedia.org/wiki/Student_center \"Student center\") per minute will likely not follow a Poisson distribution, because the rate is not constant (low rate during class time, high rate between class times) and the arrivals of individual students are not independent (students tend to come in groups).\n",
    "\n",
    "The number of magnitude 5 earthquakes per year in a country may not follow a Poisson distribution if one large earthquake increases the probability of aftershocks of similar magnitude.\n",
    "\n",
    "Examples in which at least one event is guaranteed are not Poisson distributed; but may be modeled using a [zero-truncated Poisson distribution](https://en.wikipedia.org/wiki/Zero-truncated_Poisson_distribution \"Zero-truncated Poisson distribution\").\n",
    "\n",
    "Count distributions in which the number of intervals with zero events is higher than predicted by a Poisson model may be modeled using a [zero-inflated model](https://en.wikipedia.org/wiki/Zero-inflated_model \"Zero-inflated model\")."
   ]
  },
  {
   "cell_type": "markdown",
   "id": "9e2c3832-feaf-4b74-8583-adc4602202ab",
   "metadata": {},
   "source": [
    "---\n",
    "\n",
    "## Poisson probability\n",
    "\n",
    "PMF: $\\displaystyle f(k;\\lambda) = \\text{Pr}(X=k) = \\frac{\\lambda^{k}e^{-\\lambda}}{k!}$ for $k > 0$\n",
    "\n",
    "where\n",
    "\n",
    "-   k is the number of occurrences $\\displaystyle k=0,1,2\\dots$\n",
    "-   e is [Euler's number](https://en.wikipedia.org/wiki/E_(mathematical_constant) \"E (mathematical constant)\") $\\displaystyle e=2.71828...$\n",
    "-   ! is the [factorial](https://en.wikipedia.org/wiki/Factorial \"Factorial\") function.\n",
    "\n",
    "The positive [real number](https://en.wikipedia.org/wiki/Real_number \"Real number\") λ is equal to the [expected value](https://en.wikipedia.org/wiki/Expected_value \"Expected value\") of X and also to its [variance](https://en.wikipedia.org/wiki/Variance \"Variance\").\n",
    "\n",
    "$\\displaystyle \\lambda =\\operatorname {E} (X)=\\operatorname {Var} (X)$"
   ]
  },
  {
   "cell_type": "markdown",
   "id": "4bb8254b-557d-4e90-9d08-9fc00a5b363d",
   "metadata": {},
   "source": [
    "---\n",
    "\n",
    "### Example 1\n",
    "\n",
    "Suppose that astronomers estimate that large meteorites (above a certain size) hit the earth on average once every $100$ years ($\\lambda = \\text{1 event per 100 years}$), and that the number of meteorite hits follows a Poisson distribution. What is the probability of $k = 0$ meteorite hits in the next $100$ years?"
   ]
  },
  {
   "cell_type": "code",
   "execution_count": 17,
   "id": "261ce8d9-155b-4cc0-963c-bf887d67d390",
   "metadata": {},
   "outputs": [
    {
     "data": {
      "text/latex": [
       "$P(X = 0) = 0.37$"
      ],
      "text/plain": [
       "<IPython.core.display.Latex object>"
      ]
     },
     "metadata": {},
     "output_type": "display_data"
    }
   ],
   "source": [
    "k, mu = 0, 1\n",
    "percision = 2\n",
    "prob = poisson.pmf(k, mu)\n",
    "display(Latex(f\"$P(X = {k}) = {round(prob, percision)}$\"))"
   ]
  },
  {
   "cell_type": "markdown",
   "id": "8cfe3af1-119b-40be-88df-0aaa24321ed9",
   "metadata": {},
   "source": [
    "---\n",
    "\n",
    "## Cumulative poisson probability"
   ]
  },
  {
   "cell_type": "markdown",
   "id": "ea1afdef-c8b2-4a97-a5ae-604124e85ca9",
   "metadata": {
    "tags": []
   },
   "source": [
    "---\n",
    "\n",
    "### Example 1\n",
    "\n",
    "> [Lecture 5: The Poisson distribution](https://www.stats.ox.ac.uk/~filippi/Teaching/psychology_humanscience_2015/lecture5.pdf)\n",
    "\n",
    "Births in a hospital occur randomly at an average rate of $1.8$ births per hour. What is the probability of observing 4 births in a given hour at the hospital? \n",
    "\n",
    "Let $X = \\text{No. of births in a given hour}$"
   ]
  },
  {
   "cell_type": "code",
   "execution_count": 18,
   "id": "971672a2-c462-4159-966d-df867306ee21",
   "metadata": {},
   "outputs": [
    {
     "data": {
      "text/latex": [
       "$P(X = 4) = 0.07$"
      ],
      "text/plain": [
       "<IPython.core.display.Latex object>"
      ]
     },
     "metadata": {},
     "output_type": "display_data"
    }
   ],
   "source": [
    "k, mu = 4, 1.8\n",
    "percision = 2\n",
    "prob = poisson.pmf(k, mu)\n",
    "display(Latex(f\"$P(X = {k}) = {round(prob, percision)}$\"))"
   ]
  },
  {
   "cell_type": "markdown",
   "id": "c00f3504-aa9e-4749-ac34-8833f470623c",
   "metadata": {},
   "source": [
    "What about the probability of observing more than or equal to $2$ births in a given hour at the hospital?"
   ]
  },
  {
   "cell_type": "code",
   "execution_count": 19,
   "id": "d75e8889-c726-402c-a4f2-077109131114",
   "metadata": {},
   "outputs": [
    {
     "data": {
      "text/latex": [
       "$P(X > 1) = 0.54$"
      ],
      "text/plain": [
       "<IPython.core.display.Latex object>"
      ]
     },
     "metadata": {},
     "output_type": "display_data"
    }
   ],
   "source": [
    "k, mu = 2-1, 1.8 # notice the condition is more than or equal to 2\n",
    "prob = 1 - poisson.cdf(k, mu)\n",
    "display(Latex(f\"$P(X > {k}) = {round(prob, percision)}$\"))"
   ]
  },
  {
   "cell_type": "code",
   "execution_count": null,
   "id": "4b84a181-a1c4-42c7-a08e-949544ee88f4",
   "metadata": {},
   "outputs": [],
   "source": []
  }
 ],
 "metadata": {
  "kernelspec": {
   "display_name": "statistics-and-probability",
   "language": "python",
   "name": "statistics-and-probability"
  },
  "language_info": {
   "codemirror_mode": {
    "name": "ipython",
    "version": 3
   },
   "file_extension": ".py",
   "mimetype": "text/x-python",
   "name": "python",
   "nbconvert_exporter": "python",
   "pygments_lexer": "ipython3",
   "version": "3.9.15"
  }
 },
 "nbformat": 4,
 "nbformat_minor": 5
}
