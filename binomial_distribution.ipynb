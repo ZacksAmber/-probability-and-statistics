{
 "cells": [
  {
   "cell_type": "markdown",
   "id": "8332edd2-1cbd-415e-88e4-5d728514530f",
   "metadata": {},
   "source": [
    "# Binomial Distribution\n",
    "\n",
    "> [scipy.stats.binom](https://docs.scipy.org/doc/scipy/reference/generated/scipy.stats.binom.html)\n",
    "\n",
    "$$f(k) = {n \\choose k}p^kq^{n-k}$$\n",
    "$$E[X] = np$$\n",
    "$$V[X] = npq$$"
   ]
  },
  {
   "cell_type": "markdown",
   "id": "066458a2-bf2d-41c2-9c4b-f1c380c6166b",
   "metadata": {},
   "source": [
    "## 3.2.1 - 82\n",
    "\n",
    "抛硬币7次, 3次正面朝上\n",
    "\n",
    "**probability mass function** for binomial distribution:\n",
    "\n",
    "$$f(k) = {n \\choose k}p^kq^{n-k}$$"
   ]
  },
  {
   "cell_type": "code",
   "execution_count": 1,
   "id": "afb95cec-b9e7-4447-8697-b4a4b14a95e1",
   "metadata": {},
   "outputs": [],
   "source": [
    "from scipy.stats import binom"
   ]
  },
  {
   "cell_type": "code",
   "execution_count": 2,
   "id": "b5a2bf4c-9524-4c00-82a5-b98f0c9f549e",
   "metadata": {},
   "outputs": [
    {
     "name": "stdout",
     "output_type": "stream",
     "text": [
      "pmf: 0.2734374999999999\n"
     ]
    }
   ],
   "source": [
    "n, k, p = 7, 3, 1/2\n",
    "print('pmf:', binom.pmf(k, n, p))"
   ]
  },
  {
   "cell_type": "markdown",
   "id": "7a0b9d26-2d4e-4b26-8be0-24d6a045909c",
   "metadata": {},
   "source": [
    "---\n",
    "\n",
    "# Discrete uniform distribution\n",
    "\n",
    "> [scipy.stats.uniform](https://docs.scipy.org/doc/scipy/reference/generated/scipy.stats.uniform.html)<br>\n",
    "> [Continuous and discrete uniform distribution in Python](https://pyshark.com/continuous-and-discrete-uniform-distribution-in-python/)"
   ]
  },
  {
   "cell_type": "markdown",
   "id": "bd3d2f10-8b84-4b2b-a622-183c5245774b",
   "metadata": {},
   "source": [
    "## 3.4.1 - 99"
   ]
  },
  {
   "cell_type": "code",
   "execution_count": 3,
   "id": "09e0256f-321a-444c-9f6b-3bf20fc982b2",
   "metadata": {},
   "outputs": [],
   "source": [
    "import numpy as np\n",
    "import matplotlib.pyplot as plt\n",
    "from scipy.stats import uniform\n",
    "from scipy.stats import randint\n",
    "from IPython.display import display, Latex"
   ]
  },
  {
   "cell_type": "code",
   "execution_count": 4,
   "id": "ca74ccf1-dcd5-4f33-9509-326a4b47548e",
   "metadata": {},
   "outputs": [
    {
     "name": "stdout",
     "output_type": "stream",
     "text": [
      "[1 2 3 4 5]\n"
     ]
    }
   ],
   "source": [
    "a, b = 1, 5\n",
    "n = 3\n",
    "x = np.arange(a, b+1)\n",
    "print(x)"
   ]
  },
  {
   "cell_type": "code",
   "execution_count": 5,
   "id": "06e1b390-cfd9-4330-b3f1-6443800fa6a5",
   "metadata": {},
   "outputs": [],
   "source": [
    "# Define the discrete uniform distribution\n",
    "X = randint(a, b+1)"
   ]
  },
  {
   "cell_type": "code",
   "execution_count": 6,
   "id": "007a2b75-3874-4bbb-815c-7f86629f8f11",
   "metadata": {},
   "outputs": [
    {
     "name": "stdout",
     "output_type": "stream",
     "text": [
      "pmf: [0.2 0.2 0.2 0.2 0.2]\n"
     ]
    }
   ],
   "source": [
    "X_pmf = X.pmf(x)\n",
    "\n",
    "print('pmf:', X_pmf)"
   ]
  },
  {
   "cell_type": "code",
   "execution_count": 7,
   "id": "b2459bb9-606b-4a03-989e-16021111e2e5",
   "metadata": {},
   "outputs": [
    {
     "data": {
      "text/latex": [
       "$E[X_t] = 3.0$"
      ],
      "text/plain": [
       "<IPython.core.display.Latex object>"
      ]
     },
     "metadata": {},
     "output_type": "display_data"
    },
    {
     "data": {
      "text/latex": [
       "$E[X_t] = 3.0$"
      ],
      "text/plain": [
       "<IPython.core.display.Latex object>"
      ]
     },
     "metadata": {},
     "output_type": "display_data"
    },
    {
     "data": {
      "text/latex": [
       "$E[X] = 9.0$"
      ],
      "text/plain": [
       "<IPython.core.display.Latex object>"
      ]
     },
     "metadata": {},
     "output_type": "display_data"
    }
   ],
   "source": [
    "# Calculate expected value manually\n",
    "display(Latex(f'$E[X_t] = {sum(x * X_pmf)}$'))\n",
    "\n",
    "display(Latex(f'$E[X_t] = {X.mean()}$'))\n",
    "# Since each rolling dice is independent\n",
    "display(Latex(f'$E[X] = {X.mean() * n}$'))"
   ]
  },
  {
   "cell_type": "code",
   "execution_count": 22,
   "id": "9f527b68-d72a-4a8c-950a-72cbcb444736",
   "metadata": {},
   "outputs": [
    {
     "data": {
      "text/plain": [
       "2.0"
      ]
     },
     "execution_count": 22,
     "metadata": {},
     "output_type": "execute_result"
    }
   ],
   "source": [
    "sum((x - sum(x * X_pmf))**2 * X_pmf)"
   ]
  },
  {
   "cell_type": "code",
   "execution_count": 24,
   "id": "21115908-a250-4252-95bf-8dfdbe2bc184",
   "metadata": {},
   "outputs": [
    {
     "data": {
      "text/latex": [
       "$V[X_t] = 2.0$"
      ],
      "text/plain": [
       "<IPython.core.display.Latex object>"
      ]
     },
     "metadata": {},
     "output_type": "display_data"
    },
    {
     "data": {
      "text/latex": [
       "$V[X_t] = 2.0$"
      ],
      "text/plain": [
       "<IPython.core.display.Latex object>"
      ]
     },
     "metadata": {},
     "output_type": "display_data"
    },
    {
     "data": {
      "text/latex": [
       "$V[X] = 4.0$"
      ],
      "text/plain": [
       "<IPython.core.display.Latex object>"
      ]
     },
     "metadata": {},
     "output_type": "display_data"
    }
   ],
   "source": [
    "# Calculate expected value manually\n",
    "display(Latex(f'$V[X_t] = {sum((x - sum(x * X_pmf))**2 * X_pmf)}$'))\n",
    "\n",
    "display(Latex(f'$V[X_t] = {X.var()}$'))\n",
    "# Since each rolling dice is independent\n",
    "display(Latex(f'$V[X] = {X.var() * n}$'))"
   ]
  },
  {
   "cell_type": "code",
   "execution_count": 25,
   "id": "51a3a373-f72c-4ae7-9bb9-d30ae825d2c2",
   "metadata": {},
   "outputs": [
    {
     "name": "stdout",
     "output_type": "stream",
     "text": [
      "[1 2 3 4 5 6 7 8]\n"
     ]
    }
   ],
   "source": [
    "a, b = 1, 8\n",
    "n = 2\n",
    "y = np.arange(a, b+1)\n",
    "print(y)"
   ]
  },
  {
   "cell_type": "code",
   "execution_count": 26,
   "id": "f6e1e391-9d1d-4591-9a44-27bb8a0a438c",
   "metadata": {},
   "outputs": [],
   "source": [
    "# Define the discrete uniform distribution\n",
    "Y = randint(a, b+1)"
   ]
  },
  {
   "cell_type": "code",
   "execution_count": 27,
   "id": "edc5a1a8-2665-414a-ba34-235ef71ee32c",
   "metadata": {},
   "outputs": [
    {
     "name": "stdout",
     "output_type": "stream",
     "text": [
      "pmf: [0.125 0.125 0.125 0.125 0.125 0.125 0.125 0.125]\n"
     ]
    }
   ],
   "source": [
    "Y_pmf = Y.pmf(y)\n",
    "\n",
    "print('pmf:', Y_pmf)"
   ]
  },
  {
   "cell_type": "code",
   "execution_count": 28,
   "id": "b738728c-7b0e-4056-96ac-c6cca14329f9",
   "metadata": {},
   "outputs": [
    {
     "data": {
      "text/latex": [
       "$E[Y_t] = 4.5$"
      ],
      "text/plain": [
       "<IPython.core.display.Latex object>"
      ]
     },
     "metadata": {},
     "output_type": "display_data"
    },
    {
     "data": {
      "text/latex": [
       "$E[Y_t] = 4.5$"
      ],
      "text/plain": [
       "<IPython.core.display.Latex object>"
      ]
     },
     "metadata": {},
     "output_type": "display_data"
    },
    {
     "data": {
      "text/latex": [
       "$E[Y] = 9.0$"
      ],
      "text/plain": [
       "<IPython.core.display.Latex object>"
      ]
     },
     "metadata": {},
     "output_type": "display_data"
    }
   ],
   "source": [
    "# Calculate expected value manually\n",
    "display(Latex(f'$E[Y_t] = {sum(y * Y_pmf)}$'))\n",
    "\n",
    "display(Latex(f'$E[Y_t] = {Y.mean()}$'))\n",
    "# Since each rolling dice is independent\n",
    "display(Latex(f'$E[Y] = {Y.mean() * n}$'))"
   ]
  },
  {
   "cell_type": "code",
   "execution_count": 30,
   "id": "30196a11-849c-46d8-9e16-3fc783f907e5",
   "metadata": {},
   "outputs": [
    {
     "data": {
      "text/latex": [
       "$V[Y_t] = 5.25$"
      ],
      "text/plain": [
       "<IPython.core.display.Latex object>"
      ]
     },
     "metadata": {},
     "output_type": "display_data"
    },
    {
     "data": {
      "text/latex": [
       "$V[Y_t] = 5.25$"
      ],
      "text/plain": [
       "<IPython.core.display.Latex object>"
      ]
     },
     "metadata": {},
     "output_type": "display_data"
    },
    {
     "data": {
      "text/latex": [
       "$V[Y] = 10.5$"
      ],
      "text/plain": [
       "<IPython.core.display.Latex object>"
      ]
     },
     "metadata": {},
     "output_type": "display_data"
    }
   ],
   "source": [
    "# Calculate expected value manually\n",
    "display(Latex(f'$V[Y_t] = {sum((y - sum(y * Y_pmf))**2 * Y_pmf)}$'))\n",
    "\n",
    "display(Latex(f'$V[Y_t] = {Y.var()}$'))\n",
    "# Since each rolling dice is independent\n",
    "display(Latex(f'$V[Y] = {Y.var() * n}$'))"
   ]
  },
  {
   "cell_type": "markdown",
   "id": "1472ae9e-e3ce-4f3d-bba5-c21718df6ec4",
   "metadata": {},
   "source": [
    "---\n",
    "\n",
    "# Law of large numbers"
   ]
  },
  {
   "cell_type": "code",
   "execution_count": 34,
   "id": "56bb95bf-4fa7-4930-9af8-a11dd7456355",
   "metadata": {},
   "outputs": [],
   "source": [
    "a, b = 1, 6\n",
    "x = np.arange(a, b+1)"
   ]
  },
  {
   "cell_type": "code",
   "execution_count": 48,
   "id": "262a9328-ac3d-4769-b5ea-e1276a042dd4",
   "metadata": {},
   "outputs": [
    {
     "data": {
      "text/plain": [
       "3.5"
      ]
     },
     "execution_count": 48,
     "metadata": {},
     "output_type": "execute_result"
    }
   ],
   "source": [
    "randint(a, b+1).mean()"
   ]
  },
  {
   "cell_type": "code",
   "execution_count": null,
   "id": "df7b6791-3e4e-4ad0-82c5-720504a962ae",
   "metadata": {},
   "outputs": [],
   "source": [
    "# Bootstrap"
   ]
  },
  {
   "cell_type": "code",
   "execution_count": 37,
   "id": "438e2811-77f2-4f04-86d7-eb40a86763ab",
   "metadata": {},
   "outputs": [],
   "source": [
    "import random"
   ]
  },
  {
   "cell_type": "code",
   "execution_count": 75,
   "id": "936b456c-995f-4387-a3b5-5ba0929e444a",
   "metadata": {},
   "outputs": [],
   "source": [
    "def bootstrap(n):\n",
    "    random.randint(a, b)\n",
    "    arr = np.array([])\n",
    "    for i in range(n):\n",
    "        arr = np.append(arr, random.randint(a, b))\n",
    "    return np.mean(arr)"
   ]
  },
  {
   "cell_type": "code",
   "execution_count": 80,
   "id": "06eef152-6146-40e5-a0f4-7bea800961f1",
   "metadata": {},
   "outputs": [
    {
     "data": {
      "text/plain": [
       "3.3"
      ]
     },
     "execution_count": 80,
     "metadata": {},
     "output_type": "execute_result"
    }
   ],
   "source": [
    "bootstrap(20)"
   ]
  },
  {
   "cell_type": "code",
   "execution_count": 76,
   "id": "dcec40e4-49ab-4d3f-a0f0-d330f08aa320",
   "metadata": {},
   "outputs": [
    {
     "data": {
      "text/plain": [
       "3.6"
      ]
     },
     "execution_count": 76,
     "metadata": {},
     "output_type": "execute_result"
    }
   ],
   "source": [
    "bootstrap(200)"
   ]
  },
  {
   "cell_type": "code",
   "execution_count": 77,
   "id": "b009523d-7e90-4003-8bb5-233f931bcc33",
   "metadata": {},
   "outputs": [
    {
     "data": {
      "text/plain": [
       "3.5"
      ]
     },
     "execution_count": 77,
     "metadata": {},
     "output_type": "execute_result"
    }
   ],
   "source": [
    "bootstrap(2000)"
   ]
  },
  {
   "cell_type": "code",
   "execution_count": 78,
   "id": "dbade79e-f74d-46b6-9ef6-b1e05396fcba",
   "metadata": {},
   "outputs": [
    {
     "data": {
      "text/plain": [
       "3.4939"
      ]
     },
     "execution_count": 78,
     "metadata": {},
     "output_type": "execute_result"
    }
   ],
   "source": [
    "bootstrap(20000)"
   ]
  },
  {
   "cell_type": "code",
   "execution_count": 79,
   "id": "2d2c6a32-196e-4334-a039-78a8ae06897b",
   "metadata": {},
   "outputs": [
    {
     "data": {
      "text/plain": [
       "3.50102"
      ]
     },
     "execution_count": 79,
     "metadata": {},
     "output_type": "execute_result"
    }
   ],
   "source": [
    "bootstrap(200000)"
   ]
  },
  {
   "cell_type": "code",
   "execution_count": null,
   "id": "7180c733-42a3-434e-8cbd-2ad09c675cba",
   "metadata": {},
   "outputs": [],
   "source": []
  }
 ],
 "metadata": {
  "kernelspec": {
   "display_name": "Python 3 (ipykernel)",
   "language": "python",
   "name": "python3"
  },
  "language_info": {
   "codemirror_mode": {
    "name": "ipython",
    "version": 3
   },
   "file_extension": ".py",
   "mimetype": "text/x-python",
   "name": "python",
   "nbconvert_exporter": "python",
   "pygments_lexer": "ipython3",
   "version": "3.9.10"
  }
 },
 "nbformat": 4,
 "nbformat_minor": 5
}
