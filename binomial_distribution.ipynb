{
 "cells": [
  {
   "cell_type": "code",
   "execution_count": 1,
   "id": "e9695d53-7c1b-4d81-8349-cba05add0751",
   "metadata": {},
   "outputs": [],
   "source": [
    "from scipy.stats import binom, bernoulli, geom\n",
    "from IPython.display import display, Latex"
   ]
  },
  {
   "cell_type": "markdown",
   "id": "2a5533e3-240a-4a14-90cc-88de23e9c17a",
   "metadata": {
    "tags": []
   },
   "source": [
    "# [Binomial Distribution](https://en.wikipedia.org/wiki/Binomial_distribution)"
   ]
  },
  {
   "cell_type": "markdown",
   "id": "fcd16385-24ea-4d48-a390-acbc35f940b6",
   "metadata": {},
   "source": [
    "## Probability\n",
    "\n",
    "> [Probability mass function](https://en.wikipedia.org/wiki/Probability_mass_function)<br>\n",
    "> In [probability](https://en.wikipedia.org/wiki/Probability_theory \"Probability theory\") and [statistics](https://en.wikipedia.org/wiki/Statistics \"Statistics\"), a **probability mass function** is a function that gives the probability that a [discrete random variable](https://en.wikipedia.org/wiki/Discrete_random_variable \"Discrete random variable\") is exactly equal to some value.[[1]](https://en.wikipedia.org/wiki/Probability_mass_function#cite_note-1) Sometimes it is also known as the discrete density function. The probability mass function is often the primary means of defining a [discrete probability distribution](https://en.wikipedia.org/wiki/Discrete_probability_distribution \"Discrete probability distribution\"), and such functions exist for either [scalar](https://en.wikipedia.org/wiki/Scalar_variable \"Scalar variable\") or [multivariate random variables](https://en.wikipedia.org/wiki/Multivariate_random_variable \"Multivariate random variable\") whose [domain](https://en.wikipedia.org/wiki/Domain_of_a_function \"Domain of a function\") is discrete.<br>\n",
    "> A probability mass function differs from a [probability density function](https://en.wikipedia.org/wiki/Probability_density_function) (PDF) in that the latter is associated with continuous rather than discrete random variables. A PDF must be [integrated](https://en.wikipedia.org/wiki/Integration_(mathematics) \"Integration (mathematics)\") over an interval to yield a probability.[[2]](https://en.wikipedia.org/wiki/Probability_mass_function#cite_note-:0-2)<br>\n",
    "> The value of the random variable having the largest probability mass is called the [mode](https://en.wikipedia.org/wiki/Mode_(statistics) \"Mode (statistics)\").\n",
    "\n",
    "> [Cumulative distribution function](https://en.wikipedia.org/wiki/Cumulative_distribution_function)<br>\n",
    "> In [probability theory](https://en.wikipedia.org/wiki/Probability_theory \"Probability theory\") and [statistics](https://en.wikipedia.org/wiki/Statistics \"Statistics\"), the **cumulative distribution function** (**CDF**) of a real-valued [random variable](https://en.wikipedia.org/wiki/Random_variable \"Random variable\") ${\\displaystyle X}$, or just **distribution function** of ${\\displaystyle X}$, evaluated at ${\\displaystyle x}$ that ${\\displaystyle X}$ will take a value less than or equal to ${\\displaystyle x}$.[[1]](https://en.wikipedia.org/wiki/Cumulative_distribution_function#cite_note-1)<br>\n",
    "> In the case of a scalar [continuous distribution](https://en.wikipedia.org/wiki/Continuous_distribution \"Continuous distribution\"), it gives the area under the [probability density function](https://en.wikipedia.org/wiki/Probability_density_function \"Probability density function\") from minus infinity to ${\\displaystyle x}$. Cumulative distribution functions are also used to specify the distribution of [multivariate random variables](https://en.wikipedia.org/wiki/Multivariate_random_variable \"Multivariate random variable\").\n",
    "\n",
    "- PMF: $\\displaystyle f(k) = {n \\choose k}p^kq^{n-k}$"
   ]
  },
  {
   "cell_type": "markdown",
   "id": "9ab3dc45-261a-4268-9e6d-97ef06b62608",
   "metadata": {
    "tags": []
   },
   "source": [
    "### Example 1: PMF\n",
    "\n",
    "A small college has $800$ students, $10\\%$, percent of which are left-handed. Suppose they take an SRS (Simple Random Sample) of $4$ students. Let $X=$ the number of left-handed students in the sample.\n",
    "\n",
    "**What is the probability that exactly $2$ of the $4$ students are left-handed?**  \n",
    "_You may round your answer to the nearest hundredth._"
   ]
  },
  {
   "cell_type": "code",
   "execution_count": 2,
   "id": "06a15b9e-db89-4a71-b98e-d8196baa5b2a",
   "metadata": {},
   "outputs": [
    {
     "data": {
      "text/latex": [
       "$P(X=2)=0.05$"
      ],
      "text/plain": [
       "<IPython.core.display.Latex object>"
      ]
     },
     "metadata": {},
     "output_type": "display_data"
    }
   ],
   "source": [
    "k, n, p = 2, 4, 0.1\n",
    "precision = 2\n",
    "pmf = binom.pmf(k, n, p)\n",
    "pmf = round(pmf, precision)\n",
    "display(Latex(f'$P(X=2)={pmf}$'))"
   ]
  },
  {
   "cell_type": "markdown",
   "id": "116cc6a5-6c53-495d-955f-10813632a912",
   "metadata": {},
   "source": [
    "### Example 2: CDF for left tail\n",
    "\n",
    "Aja's favorite cereal is running a promotion that says $1-in-4$ boxes of the cereal contain a prize. Suppose that Aja is going to buy $5$ boxes of this cereal, and let $X$ represent the number of prizes she wins in these boxes. Assume that these boxes represent a random sample, and assume that prizes are independent between boxes.\n",
    "\n",
    "**What is the probability that she wins at most $1$ prize in the $5$ boxes?**  \n",
    "_You may round your answer to the nearest hundredth._"
   ]
  },
  {
   "cell_type": "code",
   "execution_count": 3,
   "id": "ecc2f451-63b5-4346-8c29-b26d21b51fd0",
   "metadata": {},
   "outputs": [
    {
     "data": {
      "text/latex": [
       "$P(X<=1)=0.63$"
      ],
      "text/plain": [
       "<IPython.core.display.Latex object>"
      ]
     },
     "metadata": {},
     "output_type": "display_data"
    }
   ],
   "source": [
    "k, n, p = 1, 5, 1/4\n",
    "precision = 2\n",
    "cdf = binom.cdf(k, n, p)\n",
    "cdf = round(cdf, precision)\n",
    "display(Latex(f'$P(X<=1)={cdf}$'))"
   ]
  },
  {
   "cell_type": "markdown",
   "id": "2f6bb5e2-0724-4f85-8e7c-d52e361f1df1",
   "metadata": {},
   "source": [
    "### Example 3: CDF for left tail\n",
    "\n",
    "Ira ran out of time while taking a multiple-choice test and plans to guess on the last $6$ questions. Each question has $4$ possible choices, one of which is correct. Let $X=$ the number of answers Ira correctly guesses in the last $6$ questions.\n",
    "\n",
    "**What is the probability that he answers fewer than $2$ questions correctly in the last $6$ questions?**  \n",
    "_You may round your answer to the nearest hundredth._"
   ]
  },
  {
   "cell_type": "code",
   "execution_count": 4,
   "id": "bc47d506-b277-45aa-87f9-3eda910e3fc1",
   "metadata": {},
   "outputs": [
    {
     "data": {
      "text/latex": [
       "$P(X<2)=0.53$"
      ],
      "text/plain": [
       "<IPython.core.display.Latex object>"
      ]
     },
     "metadata": {},
     "output_type": "display_data"
    }
   ],
   "source": [
    "k, n, p = 2-1, 6, 1/4\n",
    "precision = 2\n",
    "cdf = binom.cdf(k, n, p)\n",
    "cdf = round(cdf, precision)\n",
    "display(Latex(f'$P(X<2)={cdf}$'))"
   ]
  },
  {
   "cell_type": "markdown",
   "id": "7a6803bc-7e95-4468-abc8-dc99d2d8dd19",
   "metadata": {},
   "source": [
    "### Example 4: CDF for right tail\n",
    "\n",
    "Layla has a coin that has a $60\\%$, percent chance of showing heads each time it is flipped. She is going to flip the coin $5$ times. Let $X$ represent the number of heads she gets.\n",
    "\n",
    "**What is the probability that she gets more than $3$ heads?**  \n",
    "_You may round your answer to the nearest hundredth._"
   ]
  },
  {
   "cell_type": "code",
   "execution_count": 5,
   "id": "c20991e6-b07b-4c88-a0d5-1ad3a3f1b57f",
   "metadata": {},
   "outputs": [
    {
     "data": {
      "text/latex": [
       "$P(X>3)=0.34$"
      ],
      "text/plain": [
       "<IPython.core.display.Latex object>"
      ]
     },
     "metadata": {},
     "output_type": "display_data"
    }
   ],
   "source": [
    "k, n, p = 3, 5, 0.6\n",
    "precision = 2\n",
    "cdf = 1 - binom.cdf(k, n, p)\n",
    "cdf = round(cdf, precision)\n",
    "display(Latex(f'$P(X>3)={cdf}$'))"
   ]
  },
  {
   "cell_type": "markdown",
   "id": "0e6a0cba-1fae-41ef-9441-56e4153ecfbf",
   "metadata": {},
   "source": [
    "### Example 5: CDF for right tail\n",
    "\n",
    "Marta makes $90\\%$, percent of the free throws she attempts. She is going to shoot $3$ free throws. Assume that the results of free throws are independent from each other. Let $X$ represent the number of free throws she makes.\n",
    "\n",
    "**Find the probability that Marta makes at least $2$ of the $3$ free throws.**  \n",
    "_You may round your answer to the nearest hundredth._"
   ]
  },
  {
   "cell_type": "code",
   "execution_count": 6,
   "id": "d8838800-1dff-4d5e-8a3e-7ddecad671c7",
   "metadata": {},
   "outputs": [
    {
     "data": {
      "text/latex": [
       "$P(X>=2)=0.97$"
      ],
      "text/plain": [
       "<IPython.core.display.Latex object>"
      ]
     },
     "metadata": {},
     "output_type": "display_data"
    }
   ],
   "source": [
    "k, n, p = 2-1, 3, 0.9\n",
    "precision = 2\n",
    "cdf = 1 - binom.cdf(k, n, p)\n",
    "cdf = round(cdf, precision)\n",
    "display(Latex(f'$P(X>=2)={cdf}$'))"
   ]
  },
  {
   "cell_type": "markdown",
   "id": "ab4610bf-7657-45b2-8563-a7bbe6b1e6ac",
   "metadata": {
    "tags": []
   },
   "source": [
    "## Mean and Standard Deviation\n",
    "\n",
    "- Mean: $E[X] = np$\n",
    "- Variance $Var[X] = npq$"
   ]
  },
  {
   "cell_type": "markdown",
   "id": "c3aab2f5-9365-467a-9174-07e6bdb167f2",
   "metadata": {},
   "source": [
    "### Example 1\n",
    "\n",
    "A large fast-food chain runs a promotion where $1-in-4$ boxes of french fries include a coupon for a free box of french fries. Suppose that some location sells $100$ of these boxes of fries per day. Let $X=$ the number of coupons won per day.\n",
    "\n",
    "**Find the mean and standard deviation of $X$.**  \n",
    "_You may round your answers to the nearest tenth._"
   ]
  },
  {
   "cell_type": "code",
   "execution_count": 7,
   "id": "7d99463d-3f68-4c8c-a383-5e4c0f6bde46",
   "metadata": {},
   "outputs": [
    {
     "data": {
      "text/latex": [
       "$\\mu_X = 25.0$"
      ],
      "text/plain": [
       "<IPython.core.display.Latex object>"
      ]
     },
     "metadata": {},
     "output_type": "display_data"
    },
    {
     "data": {
      "text/latex": [
       "$\\sigma_X = 4.3$"
      ],
      "text/plain": [
       "<IPython.core.display.Latex object>"
      ]
     },
     "metadata": {},
     "output_type": "display_data"
    }
   ],
   "source": [
    "n, p = 100, 1/4\n",
    "precision = 1\n",
    "sd = binom.std(n, p)\n",
    "sd = round(sd, precision)\n",
    "display(Latex(f'$\\mu_X = {binom.mean(n, p)}$'))\n",
    "display(Latex(f'$\\sigma_X = {sd}$'))"
   ]
  },
  {
   "cell_type": "markdown",
   "id": "7a0df8a5-9cc3-4dd3-831b-db4d262e4b78",
   "metadata": {},
   "source": [
    "### Example 2\n",
    "\n",
    "A college has over $5{,}000$ students, $10\\%$ of which are left-handed. A new lecture hall is being planned that will seat $300$ students, and college officials want to be sure there are enough left-handed desks. Suppose we randomly select groups of $300$ students from this college.\n",
    "\n",
    "**What are the mean and standard deviation of the number of left-handed students in each group of $300$?**  \n",
    "_You may round your answers to the nearest tenth._"
   ]
  },
  {
   "cell_type": "code",
   "execution_count": 8,
   "id": "3d4b19a7-1196-4d57-926b-f53e0d02ea90",
   "metadata": {},
   "outputs": [
    {
     "data": {
      "text/latex": [
       "$\\mu_X = 30.0$"
      ],
      "text/plain": [
       "<IPython.core.display.Latex object>"
      ]
     },
     "metadata": {},
     "output_type": "display_data"
    },
    {
     "data": {
      "text/latex": [
       "$\\sigma_X = 5.2$"
      ],
      "text/plain": [
       "<IPython.core.display.Latex object>"
      ]
     },
     "metadata": {},
     "output_type": "display_data"
    }
   ],
   "source": [
    "n, p = 300, 0.1\n",
    "precision = 1\n",
    "sd = binom.std(n, p)\n",
    "sd = round(sd, precision)\n",
    "display(Latex(f'$\\mu_X = {binom.mean(n, p)}$'))\n",
    "display(Latex(f'$\\sigma_X = {sd}$'))"
   ]
  },
  {
   "cell_type": "markdown",
   "id": "799bb757-e1cb-4947-a971-8d8fba1f4c3f",
   "metadata": {},
   "source": [
    "## [Bernoulli distribution](https://en.wikipedia.org/wiki/Bernoulli_distribution)\n",
    "\n",
    "In [probability theory](https://en.wikipedia.org/wiki/Probability_theory \"Probability theory\") and [statistics](https://en.wikipedia.org/wiki/Statistics \"Statistics\"), the **Bernoulli distribution**, named after Swiss mathematician [Jacob Bernoulli](https://en.wikipedia.org/wiki/Jacob_Bernoulli \"Jacob Bernoulli\"),[[1]](https://en.wikipedia.org/wiki/Bernoulli_distribution#cite_note-1) is the [discrete probability distribution](https://en.wikipedia.org/wiki/Discrete_probability_distribution \"Discrete probability distribution\") of a [random variable](https://en.wikipedia.org/wiki/Random_variable \"Random variable\") which takes the value 1 with probability ${\\displaystyle p}$ and the value 0 with probability ${\\displaystyle q=1-p}$.\n",
    "\n",
    "The Bernoulli distribution is a special case of the [binomial distribution](https://en.wikipedia.org/wiki/Binomial_distribution \"Binomial distribution\") where a single trial is conducted (so _n_ would be 1 for such a binomial distribution). It is also a special case of the **two-point distribution**, for which the possible outcomes need not be 0 and 1.\n",
    "\n",
    "- PMF: $\\displaystyle f(k;p) = \\begin{cases} p  & \\text{if } k = 1, \\\\ q = 1 - p & \\text{if } k = 0.\\end{cases}$ $\\Rightarrow \\displaystyle p^k(1 - p)^{1-k} \\text{for } k \\in \\{0, 1\\}$\n",
    "- Mean: $\\displaystyle E[X] = p$\n",
    "- Variance: $\\displaystyle Var[X] = pq$"
   ]
  },
  {
   "cell_type": "markdown",
   "id": "b30f896a-3e07-4b69-b7b9-586c3088f3ac",
   "metadata": {},
   "source": [
    "### Example 1\n",
    "\n",
    "Assume unfavorable rating is $40\\%$ and favorable rating is $60\\%$ for the current president.\n",
    "\n",
    "Let's say favorable is $1$ and unfavorable is $0$."
   ]
  },
  {
   "cell_type": "code",
   "execution_count": 9,
   "id": "cdb7595d-14ff-4e06-9204-c830ea0e3a2e",
   "metadata": {},
   "outputs": [
    {
     "data": {
      "text/latex": [
       "$\\mu_X = 0.6$"
      ],
      "text/plain": [
       "<IPython.core.display.Latex object>"
      ]
     },
     "metadata": {},
     "output_type": "display_data"
    },
    {
     "data": {
      "text/latex": [
       "$\\sigma_X = 0.49$"
      ],
      "text/plain": [
       "<IPython.core.display.Latex object>"
      ]
     },
     "metadata": {},
     "output_type": "display_data"
    }
   ],
   "source": [
    "p = 0.6\n",
    "precision = 2\n",
    "sd = bernoulli.std(p)\n",
    "sd = round(sd, precision)\n",
    "display(Latex(f'$\\mu_X = {bernoulli.mean(p)}$'))\n",
    "display(Latex(f'$\\sigma_X = {sd}$'))"
   ]
  },
  {
   "cell_type": "markdown",
   "id": "70245eda-1b09-4ad8-8e98-423553f315ff",
   "metadata": {
    "tags": []
   },
   "source": [
    "---\n",
    "\n",
    "## [Geometric Distribution](https://en.wikipedia.org/wiki/Geometric_distribution)\n",
    "\n",
    "In [probability theory](https://en.wikipedia.org/wiki/Probability_theory \"Probability theory\") and [statistics](https://en.wikipedia.org/wiki/Statistics \"Statistics\"), the **geometric distribution** is either one of two [discrete probability distributions](https://en.wikipedia.org/wiki/Discrete_probability_distribution \"Discrete probability distribution\"):\n",
    "\n",
    "-   The probability distribution of the number _X_ of [Bernoulli trials](https://en.wikipedia.org/wiki/Bernoulli_trial \"Bernoulli trial\") needed to get one success, supported on the set ${\\displaystyle \\{1,2,3,\\ldots \\}}$;\n",
    "-   The probability distribution of the number _Y_ = _X_ − 1 of failures before the first success, supported on the set ${\\displaystyle \\{0,1,2,\\ldots \\}}$.\n",
    "\n",
    "Which of these is called \"the\" geometric distribution is a matter of convention and convenience.\n",
    "\n",
    "These two different geometric distributions should not be confused with each other. Often, the name _shifted_ geometric distribution is adopted for the former one (distribution of the number _X_); however, to avoid ambiguity, it is considered wise to indicate which is intended, by mentioning the support explicitly.\n",
    "\n",
    "The geometric distribution gives the probability that the first occurrence of success requires _k_ independent trials, each with success probability _p_. If the probability of success on each trial is _p_, then the probability that the $k_{th}$ trial (out of _k_ trials) is the first success is\n",
    "\n",
    "${\\displaystyle \\Pr(X=k)=(1-p)^{k-1}p}$"
   ]
  },
  {
   "cell_type": "markdown",
   "id": "336729f9-0b59-431a-b6a9-0eb7a9610ec2",
   "metadata": {
    "tags": []
   },
   "source": [
    "### Example 1: PMF\n",
    "\n",
    "An online retailer determines that people click on a particular advertisement $2\\%$ of the times it appears. Let $V$ be the number of times the advertisement appears to get the first person to click on it. Assume each click is independent.\n",
    "\n",
    "**Find the probability that a person first clicks on the advertisement the $8^{\\text{th}}$  time it appears.**  \n",
    "_You may round your answer to the nearest hundredth._"
   ]
  },
  {
   "cell_type": "code",
   "execution_count": 10,
   "id": "4ff5d1cd-4751-4f61-b3d6-0a6a05984cbe",
   "metadata": {},
   "outputs": [
    {
     "data": {
      "text/latex": [
       "$P(V=8)=0.02$"
      ],
      "text/plain": [
       "<IPython.core.display.Latex object>"
      ]
     },
     "metadata": {},
     "output_type": "display_data"
    }
   ],
   "source": [
    "n, p = 8, 0.02\n",
    "precision = 2\n",
    "pmf = geom.pmf(n, p)\n",
    "pmf = round(pmf, precision)\n",
    "display(Latex(f'$P(V=8)={pmf}$'))"
   ]
  },
  {
   "cell_type": "markdown",
   "id": "48652301-cff2-4e92-b8bf-71323b3ed9b7",
   "metadata": {},
   "source": [
    "### Example 2: PMF\n",
    "\n",
    "Milani's teacher draws students names at random, calls on the student, and replaces the name so that students know they should always be prepared to respond. There are $20$ students in Milani's class. Let $X$ be the number of names it takes for the teacher to draw Milani's name.\n",
    "\n",
    "**Find the probability that the teacher first draws Milani's name as the $7^{\\text{th}}$  name.**  \n",
    "_You may round your answer to the nearest hundredth._"
   ]
  },
  {
   "cell_type": "code",
   "execution_count": 11,
   "id": "e763d8a8-2ea3-4c10-8aaf-6d7af5c4dd1b",
   "metadata": {},
   "outputs": [
    {
     "data": {
      "text/latex": [
       "$P(X=7)=0.04$"
      ],
      "text/plain": [
       "<IPython.core.display.Latex object>"
      ]
     },
     "metadata": {},
     "output_type": "display_data"
    }
   ],
   "source": [
    "n, p = 7, 1/20\n",
    "precision = 2\n",
    "pmf = geom.pmf(n, p)\n",
    "pmf = round(pmf, precision)\n",
    "display(Latex(f'$P(X=7)={pmf}$'))"
   ]
  },
  {
   "cell_type": "markdown",
   "id": "1055146b-9c3c-45b6-8f02-7a7b4c6836e2",
   "metadata": {},
   "source": [
    "### Example 3: PMF\n",
    "\n",
    "Augustus draws tickets one at a time for a raffle. The person named on the ticket must be present to win, but $30\\%$, percent of the $750$ raffle tickets have the names of people who are no longer present. Let $T$ be the number of tickets Augustus needs to draw to find a winner who is present.\n",
    "\n",
    "**Find the probability that Augustus first draws the name of someone present on the $3^{\\text{rd}}$ ticket.**  \n",
    "_You may round your answer to the nearest hundredth._"
   ]
  },
  {
   "cell_type": "code",
   "execution_count": 12,
   "id": "2327dcc4-396b-449a-9a3e-af8094361958",
   "metadata": {},
   "outputs": [
    {
     "data": {
      "text/latex": [
       "$P(T=3)=0.06$"
      ],
      "text/plain": [
       "<IPython.core.display.Latex object>"
      ]
     },
     "metadata": {},
     "output_type": "display_data"
    }
   ],
   "source": [
    "n, p = 3, 1-0.3\n",
    "precision = 2\n",
    "pmf = geom.pmf(n, p)\n",
    "pmf = round(pmf, precision)\n",
    "display(Latex(f'$P(T=3)={pmf}$'))"
   ]
  },
  {
   "cell_type": "markdown",
   "id": "6d809b07-9211-4136-9601-34e9ad078f03",
   "metadata": {
    "tags": []
   },
   "source": [
    "### Example 4: CDF for left tail\n",
    "\n",
    "An airline offers a survey for its passengers to complete after every flight. Each time a passenger completes the survey, there is a $2\\%$, percent chance they will win a discounted price on their next flight. Assume that winners are selected at random, and the results of the surveys are independent.\n",
    "\n",
    "Zaylee has numerous trips planned with this airline, and she'll always complete each survey in hopes of winning. Let NNN be the number of surveys Zaylee completes until she wins for the first time.\n",
    "\n",
    "**Find the probability that it takes Zaylee $3$ surveys or less to win for the first time.**  \n",
    "_You may round your answer to the nearest hundredth._"
   ]
  },
  {
   "cell_type": "code",
   "execution_count": 13,
   "id": "1aa38a47-6ef7-4ab5-bc36-c123e37c961b",
   "metadata": {},
   "outputs": [
    {
     "data": {
      "text/latex": [
       "$P(N<=3)=0.06$"
      ],
      "text/plain": [
       "<IPython.core.display.Latex object>"
      ]
     },
     "metadata": {},
     "output_type": "display_data"
    }
   ],
   "source": [
    "n, p = 3, 0.02\n",
    "precision = 2\n",
    "cdf = geom.cdf(n, p)\n",
    "cdf = round(cdf, precision)\n",
    "display(Latex(f'$P(N<=3)={cdf}$'))"
   ]
  },
  {
   "cell_type": "markdown",
   "id": "c8e0e710-d478-459c-a99f-be002364d9f4",
   "metadata": {
    "tags": []
   },
   "source": [
    "### Example 5: CDF for left tail\n",
    "\n",
    "Lilyana runs a cake decorating business, for which $10\\%$ of her orders come over the telephone. Let $C$ be the number of cake orders Lilyana receives in a month until she first gets an order over the telephone. Assume the method of placing each cake order is independent.\n",
    "\n",
    "**Find the probability that it takes fewer than $5$ orders for Lilyana to get her first telephone order of the month.**  \n",
    "_You may round your answer to the nearest hundredth._"
   ]
  },
  {
   "cell_type": "code",
   "execution_count": 14,
   "id": "dd58ae4a-0f1f-44eb-8d85-ddee54ffeea3",
   "metadata": {},
   "outputs": [
    {
     "data": {
      "text/latex": [
       "$P(C<5)=0.34$"
      ],
      "text/plain": [
       "<IPython.core.display.Latex object>"
      ]
     },
     "metadata": {},
     "output_type": "display_data"
    }
   ],
   "source": [
    "n, p = 5-1, 0.1\n",
    "precision = 2\n",
    "cdf = geom.cdf(n, p)\n",
    "cdf = round(cdf, precision)\n",
    "display(Latex(f'$P(C<5)={cdf}$'))"
   ]
  },
  {
   "cell_type": "markdown",
   "id": "da679742-1a9c-45bc-a128-a19210f0890e",
   "metadata": {
    "tags": []
   },
   "source": [
    "### Example 6: CDF for right tail\n",
    "\n",
    "Jeremiah makes $25\\%$ of the three-point shots he attempts. For a warm up, Jeremiah likes to shoot three-point shots until he makes one. Let MMM be the number of shots it takes Jeremiah to make his first three-point shot. Assume that the results of each shot are independent.\n",
    "\n",
    "**Find the probability that it takes Jeremiah more than $6$ attempts to make his first shot.**  \n",
    "_You may round your answer to the nearest hundredth._"
   ]
  },
  {
   "cell_type": "code",
   "execution_count": 15,
   "id": "4eebae4f-c79d-48d6-8225-71de73e629a4",
   "metadata": {},
   "outputs": [
    {
     "data": {
      "text/latex": [
       "$P(M>6)=0.18$"
      ],
      "text/plain": [
       "<IPython.core.display.Latex object>"
      ]
     },
     "metadata": {},
     "output_type": "display_data"
    }
   ],
   "source": [
    "n, p = 6, 0.25\n",
    "precision = 2\n",
    "cdf = geom.cdf(n, p)\n",
    "cdf = round(1 - cdf, precision)\n",
    "display(Latex(f'$P(M>6)={cdf}$'))"
   ]
  },
  {
   "cell_type": "markdown",
   "id": "e94babf4-b22f-43ff-a8d1-aab98851a92e",
   "metadata": {
    "tags": []
   },
   "source": [
    "### Example 7: CDF for right tail\n",
    "\n",
    "Anand knows from experience that if he does not review a new vocabulary word that he has learned, that he has $70\\%$ chance of forgetting it each day. Let $D$ be the number of days Anand goes without reviewing a word until he forgets it.\n",
    "\n",
    "**Find the probability that it takes Anand $4$ or more days to forget the word.**  \n",
    "_You may round your answer to the nearest hundredth._"
   ]
  },
  {
   "cell_type": "code",
   "execution_count": 16,
   "id": "d716f952-ddec-4395-9901-fcddcc905e47",
   "metadata": {},
   "outputs": [
    {
     "data": {
      "text/latex": [
       "$P(D>=4)=0.03$"
      ],
      "text/plain": [
       "<IPython.core.display.Latex object>"
      ]
     },
     "metadata": {},
     "output_type": "display_data"
    }
   ],
   "source": [
    "n, p = 4-1, 0.7\n",
    "precision = 2\n",
    "cdf = geom.cdf(n, p)\n",
    "cdf = round(1 - cdf, precision)\n",
    "display(Latex(f'$P(D>=4)={cdf}$'))"
   ]
  },
  {
   "cell_type": "code",
   "execution_count": null,
   "id": "c166835d-503d-458b-a1b7-ffdf0af7b839",
   "metadata": {},
   "outputs": [],
   "source": []
  }
 ],
 "metadata": {
  "kernelspec": {
   "display_name": "Python 3 (ipykernel)",
   "language": "python",
   "name": "python3"
  },
  "language_info": {
   "codemirror_mode": {
    "name": "ipython",
    "version": 3
   },
   "file_extension": ".py",
   "mimetype": "text/x-python",
   "name": "python",
   "nbconvert_exporter": "python",
   "pygments_lexer": "ipython3",
   "version": "3.9.10"
  }
 },
 "nbformat": 4,
 "nbformat_minor": 5
}
