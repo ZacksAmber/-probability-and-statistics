{
 "cells": [
  {
   "cell_type": "markdown",
   "id": "e2c9cb22-3195-44ad-8ac2-53122f9a442b",
   "metadata": {},
   "source": [
    "# Reference\n",
    "\n",
    "> [Unit: Modeling data distributions](https://www.khanacademy.org/math/statistics-probability/modeling-distributions-of-data)"
   ]
  },
  {
   "cell_type": "markdown",
   "id": "c51ddf84-0c56-4b47-81ce-d4e7a3f65136",
   "metadata": {},
   "source": [
    "---\n",
    "\n",
    "# Modeling data distributions"
   ]
  },
  {
   "cell_type": "markdown",
   "id": "c46bff56-78a6-4684-9830-d80f2a365baa",
   "metadata": {},
   "source": [
    "---\n",
    "\n",
    "# Effects on linear transformations\n",
    "\n",
    "> [Transforming data problem](https://www.khanacademy.org/math/statistics-probability/modeling-distributions-of-data/effects-of-linear-transformations/a/transforming-data-problem)<br>\n",
    "> [modeling_data_distributions](https://docs.google.com/spreadsheets/d/1K1sKUA1eXLerz5dShw_zlbiwiCjvr9AkMKnUikunUls/edit?usp=sharing)\n",
    "\n",
    "Think how linear transformation affect the measures of center and spread.\n",
    "\n",
    "![](https://raw.githubusercontent.com/ZacksAmber/PicGo/master/img/20220416150902.png)"
   ]
  },
  {
   "cell_type": "markdown",
   "id": "52a3452a-a946-41e5-98b6-7d7d5cfac4ec",
   "metadata": {},
   "source": []
  }
 ],
 "metadata": {
  "kernelspec": {
   "display_name": "statistics-and-probability",
   "language": "python",
   "name": "statistics-and-probability"
  },
  "language_info": {
   "codemirror_mode": {
    "name": "ipython",
    "version": 3
   },
   "file_extension": ".py",
   "mimetype": "text/x-python",
   "name": "python",
   "nbconvert_exporter": "python",
   "pygments_lexer": "ipython3",
   "version": "3.9.12"
  }
 },
 "nbformat": 4,
 "nbformat_minor": 5
}
