{
 "cells": [
  {
   "cell_type": "code",
   "execution_count": 1,
   "id": "f1d12d05-0482-4123-8b10-26c8a2000d0c",
   "metadata": {},
   "outputs": [],
   "source": [
    "from scipy.special import perm, comb\n",
    "from itertools import permutations, combinations\n",
    "from fractions import Fraction"
   ]
  },
  {
   "cell_type": "markdown",
   "id": "d084e2ce-0b53-4f76-83c7-455ce06c152a",
   "metadata": {},
   "source": [
    "# [Counting, permutations, and combinations](https://www.khanacademy.org/math/statistics-probability/counting-permutations-and-combinations)"
   ]
  },
  {
   "cell_type": "markdown",
   "id": "d66d8863-7232-4eff-8d23-f3414fed1071",
   "metadata": {},
   "source": [
    "## Counting"
   ]
  },
  {
   "cell_type": "markdown",
   "id": "222a7b76-d1f4-4ef5-bb5f-9551b69e3c38",
   "metadata": {},
   "source": [
    "---\n",
    "\n",
    "### Example 1\n",
    "\n",
    "Billy is picking a sandwich, a snack, a dessert, and a drink for his lunch. He can have a ham, turkey, or salami sandwich; an apple, banana, or carrots for his snack; a cookie or brownie for his dessert; and apple or orange juice for his drink.\n",
    "\n",
    "**How many different lunch combinations does Billy have to choose from?**"
   ]
  },
  {
   "cell_type": "code",
   "execution_count": 2,
   "id": "5bbf5ee0-b736-4eea-9cf5-0d7eccf2a554",
   "metadata": {},
   "outputs": [
    {
     "data": {
      "text/plain": [
       "36.0"
      ]
     },
     "execution_count": 2,
     "metadata": {},
     "output_type": "execute_result"
    }
   ],
   "source": [
    "comb(3, 1) * comb(3, 1) * comb(2, 1) * comb(2, 1)"
   ]
  },
  {
   "cell_type": "markdown",
   "id": "ef8bc8f6-aa9f-4304-a725-a8ad7f949c6f",
   "metadata": {},
   "source": [
    "---\n",
    "\n",
    "## [Permutations](https://en.wikipedia.org/wiki/Permutation)\n",
    "\n",
    "$\\displaystyle {}_n P_r = P(n, r) = \\frac{n!}{(n-r)!}$\n",
    "\n",
    "- ${}_n P_r$: permutation\n",
    "- $n$: total number of objects\n",
    "- $r$ or $k$: number of objects selected\n",
    "\n",
    "We use the notation $n \\text{P} r$ to describe permutations. This notation represents the number of unique arrangements that exist when we select $r$ objects without replacement from a set of $n$ distinct objects."
   ]
  },
  {
   "cell_type": "markdown",
   "id": "ec73a5c2-53ba-4316-9c1a-fa35eaa71f2e",
   "metadata": {},
   "source": [
    "---\n",
    "\n",
    "### Example 1\n",
    "\n",
    "Mateo is playing a word game where he's trying to make $4$-letter words by rearranging the letters in the word IRON.\n",
    "\n",
    "**How many unique ways are there to arrange the letters in the word IRON?**"
   ]
  },
  {
   "cell_type": "code",
   "execution_count": 3,
   "id": "a977d43a-58b8-43a9-b868-b5a3bca39f08",
   "metadata": {},
   "outputs": [
    {
     "data": {
      "text/plain": [
       "[('I', 'R', 'O', 'N'),\n",
       " ('I', 'R', 'N', 'O'),\n",
       " ('I', 'O', 'R', 'N'),\n",
       " ('I', 'O', 'N', 'R'),\n",
       " ('I', 'N', 'R', 'O'),\n",
       " ('I', 'N', 'O', 'R'),\n",
       " ('R', 'I', 'O', 'N'),\n",
       " ('R', 'I', 'N', 'O'),\n",
       " ('R', 'O', 'I', 'N'),\n",
       " ('R', 'O', 'N', 'I'),\n",
       " ('R', 'N', 'I', 'O'),\n",
       " ('R', 'N', 'O', 'I'),\n",
       " ('O', 'I', 'R', 'N'),\n",
       " ('O', 'I', 'N', 'R'),\n",
       " ('O', 'R', 'I', 'N'),\n",
       " ('O', 'R', 'N', 'I'),\n",
       " ('O', 'N', 'I', 'R'),\n",
       " ('O', 'N', 'R', 'I'),\n",
       " ('N', 'I', 'R', 'O'),\n",
       " ('N', 'I', 'O', 'R'),\n",
       " ('N', 'R', 'I', 'O'),\n",
       " ('N', 'R', 'O', 'I'),\n",
       " ('N', 'O', 'I', 'R'),\n",
       " ('N', 'O', 'R', 'I')]"
      ]
     },
     "execution_count": 3,
     "metadata": {},
     "output_type": "execute_result"
    }
   ],
   "source": [
    "list(permutations('IRON'))"
   ]
  },
  {
   "cell_type": "code",
   "execution_count": 4,
   "id": "591a4524-69ba-4d02-92e8-184c7c7f590a",
   "metadata": {},
   "outputs": [
    {
     "data": {
      "text/plain": [
       "24.0"
      ]
     },
     "execution_count": 4,
     "metadata": {},
     "output_type": "execute_result"
    }
   ],
   "source": [
    "N, k = 4, 4\n",
    "perm(N, k)"
   ]
  },
  {
   "cell_type": "markdown",
   "id": "afdd5d6e-33c0-4d92-9c0a-0271678f9102",
   "metadata": {},
   "source": [
    "---\n",
    "\n",
    "### Example 2\n",
    "\n",
    "**How many unique ways are there to arrange the letters in the word PRIOR?**"
   ]
  },
  {
   "cell_type": "code",
   "execution_count": 5,
   "id": "76f2c5f8-3575-4fda-9dfd-5394ccdd748a",
   "metadata": {},
   "outputs": [
    {
     "data": {
      "text/plain": [
       "[('P', 'R', 'I', 'O', 'R'),\n",
       " ('P', 'R', 'I', 'R', 'O'),\n",
       " ('P', 'R', 'O', 'I', 'R'),\n",
       " ('P', 'R', 'O', 'R', 'I'),\n",
       " ('P', 'R', 'R', 'I', 'O'),\n",
       " ('P', 'R', 'R', 'O', 'I'),\n",
       " ('P', 'I', 'R', 'O', 'R'),\n",
       " ('P', 'I', 'R', 'R', 'O'),\n",
       " ('P', 'I', 'O', 'R', 'R'),\n",
       " ('P', 'I', 'O', 'R', 'R'),\n",
       " ('P', 'I', 'R', 'R', 'O'),\n",
       " ('P', 'I', 'R', 'O', 'R'),\n",
       " ('P', 'O', 'R', 'I', 'R'),\n",
       " ('P', 'O', 'R', 'R', 'I'),\n",
       " ('P', 'O', 'I', 'R', 'R'),\n",
       " ('P', 'O', 'I', 'R', 'R'),\n",
       " ('P', 'O', 'R', 'R', 'I'),\n",
       " ('P', 'O', 'R', 'I', 'R'),\n",
       " ('P', 'R', 'R', 'I', 'O'),\n",
       " ('P', 'R', 'R', 'O', 'I'),\n",
       " ('P', 'R', 'I', 'R', 'O'),\n",
       " ('P', 'R', 'I', 'O', 'R'),\n",
       " ('P', 'R', 'O', 'R', 'I'),\n",
       " ('P', 'R', 'O', 'I', 'R'),\n",
       " ('R', 'P', 'I', 'O', 'R'),\n",
       " ('R', 'P', 'I', 'R', 'O'),\n",
       " ('R', 'P', 'O', 'I', 'R'),\n",
       " ('R', 'P', 'O', 'R', 'I'),\n",
       " ('R', 'P', 'R', 'I', 'O'),\n",
       " ('R', 'P', 'R', 'O', 'I'),\n",
       " ('R', 'I', 'P', 'O', 'R'),\n",
       " ('R', 'I', 'P', 'R', 'O'),\n",
       " ('R', 'I', 'O', 'P', 'R'),\n",
       " ('R', 'I', 'O', 'R', 'P'),\n",
       " ('R', 'I', 'R', 'P', 'O'),\n",
       " ('R', 'I', 'R', 'O', 'P'),\n",
       " ('R', 'O', 'P', 'I', 'R'),\n",
       " ('R', 'O', 'P', 'R', 'I'),\n",
       " ('R', 'O', 'I', 'P', 'R'),\n",
       " ('R', 'O', 'I', 'R', 'P'),\n",
       " ('R', 'O', 'R', 'P', 'I'),\n",
       " ('R', 'O', 'R', 'I', 'P'),\n",
       " ('R', 'R', 'P', 'I', 'O'),\n",
       " ('R', 'R', 'P', 'O', 'I'),\n",
       " ('R', 'R', 'I', 'P', 'O'),\n",
       " ('R', 'R', 'I', 'O', 'P'),\n",
       " ('R', 'R', 'O', 'P', 'I'),\n",
       " ('R', 'R', 'O', 'I', 'P'),\n",
       " ('I', 'P', 'R', 'O', 'R'),\n",
       " ('I', 'P', 'R', 'R', 'O'),\n",
       " ('I', 'P', 'O', 'R', 'R'),\n",
       " ('I', 'P', 'O', 'R', 'R'),\n",
       " ('I', 'P', 'R', 'R', 'O'),\n",
       " ('I', 'P', 'R', 'O', 'R'),\n",
       " ('I', 'R', 'P', 'O', 'R'),\n",
       " ('I', 'R', 'P', 'R', 'O'),\n",
       " ('I', 'R', 'O', 'P', 'R'),\n",
       " ('I', 'R', 'O', 'R', 'P'),\n",
       " ('I', 'R', 'R', 'P', 'O'),\n",
       " ('I', 'R', 'R', 'O', 'P'),\n",
       " ('I', 'O', 'P', 'R', 'R'),\n",
       " ('I', 'O', 'P', 'R', 'R'),\n",
       " ('I', 'O', 'R', 'P', 'R'),\n",
       " ('I', 'O', 'R', 'R', 'P'),\n",
       " ('I', 'O', 'R', 'P', 'R'),\n",
       " ('I', 'O', 'R', 'R', 'P'),\n",
       " ('I', 'R', 'P', 'R', 'O'),\n",
       " ('I', 'R', 'P', 'O', 'R'),\n",
       " ('I', 'R', 'R', 'P', 'O'),\n",
       " ('I', 'R', 'R', 'O', 'P'),\n",
       " ('I', 'R', 'O', 'P', 'R'),\n",
       " ('I', 'R', 'O', 'R', 'P'),\n",
       " ('O', 'P', 'R', 'I', 'R'),\n",
       " ('O', 'P', 'R', 'R', 'I'),\n",
       " ('O', 'P', 'I', 'R', 'R'),\n",
       " ('O', 'P', 'I', 'R', 'R'),\n",
       " ('O', 'P', 'R', 'R', 'I'),\n",
       " ('O', 'P', 'R', 'I', 'R'),\n",
       " ('O', 'R', 'P', 'I', 'R'),\n",
       " ('O', 'R', 'P', 'R', 'I'),\n",
       " ('O', 'R', 'I', 'P', 'R'),\n",
       " ('O', 'R', 'I', 'R', 'P'),\n",
       " ('O', 'R', 'R', 'P', 'I'),\n",
       " ('O', 'R', 'R', 'I', 'P'),\n",
       " ('O', 'I', 'P', 'R', 'R'),\n",
       " ('O', 'I', 'P', 'R', 'R'),\n",
       " ('O', 'I', 'R', 'P', 'R'),\n",
       " ('O', 'I', 'R', 'R', 'P'),\n",
       " ('O', 'I', 'R', 'P', 'R'),\n",
       " ('O', 'I', 'R', 'R', 'P'),\n",
       " ('O', 'R', 'P', 'R', 'I'),\n",
       " ('O', 'R', 'P', 'I', 'R'),\n",
       " ('O', 'R', 'R', 'P', 'I'),\n",
       " ('O', 'R', 'R', 'I', 'P'),\n",
       " ('O', 'R', 'I', 'P', 'R'),\n",
       " ('O', 'R', 'I', 'R', 'P'),\n",
       " ('R', 'P', 'R', 'I', 'O'),\n",
       " ('R', 'P', 'R', 'O', 'I'),\n",
       " ('R', 'P', 'I', 'R', 'O'),\n",
       " ('R', 'P', 'I', 'O', 'R'),\n",
       " ('R', 'P', 'O', 'R', 'I'),\n",
       " ('R', 'P', 'O', 'I', 'R'),\n",
       " ('R', 'R', 'P', 'I', 'O'),\n",
       " ('R', 'R', 'P', 'O', 'I'),\n",
       " ('R', 'R', 'I', 'P', 'O'),\n",
       " ('R', 'R', 'I', 'O', 'P'),\n",
       " ('R', 'R', 'O', 'P', 'I'),\n",
       " ('R', 'R', 'O', 'I', 'P'),\n",
       " ('R', 'I', 'P', 'R', 'O'),\n",
       " ('R', 'I', 'P', 'O', 'R'),\n",
       " ('R', 'I', 'R', 'P', 'O'),\n",
       " ('R', 'I', 'R', 'O', 'P'),\n",
       " ('R', 'I', 'O', 'P', 'R'),\n",
       " ('R', 'I', 'O', 'R', 'P'),\n",
       " ('R', 'O', 'P', 'R', 'I'),\n",
       " ('R', 'O', 'P', 'I', 'R'),\n",
       " ('R', 'O', 'R', 'P', 'I'),\n",
       " ('R', 'O', 'R', 'I', 'P'),\n",
       " ('R', 'O', 'I', 'P', 'R'),\n",
       " ('R', 'O', 'I', 'R', 'P')]"
      ]
     },
     "execution_count": 5,
     "metadata": {},
     "output_type": "execute_result"
    }
   ],
   "source": [
    "list(permutations('PRIOR')) # notice there are two same letters in PRIOR"
   ]
  },
  {
   "cell_type": "code",
   "execution_count": 6,
   "id": "d70ee63d-ff05-48ab-abf2-d86e937c3c11",
   "metadata": {},
   "outputs": [
    {
     "data": {
      "text/plain": [
       "60.0"
      ]
     },
     "execution_count": 6,
     "metadata": {},
     "output_type": "execute_result"
    }
   ],
   "source": [
    "perm(5, 5) / perm(2, 2)"
   ]
  },
  {
   "cell_type": "markdown",
   "id": "46ef16dd-246a-4b3b-8ced-971b60a0c631",
   "metadata": {},
   "source": [
    "---\n",
    "\n",
    "### Example 3\n",
    "\n",
    "**How many unique ways are there to arrange the letters in the word SASSY?**"
   ]
  },
  {
   "cell_type": "code",
   "execution_count": 7,
   "id": "8bc314d6-a068-4df6-91f0-2c2e0e8e5b5b",
   "metadata": {},
   "outputs": [
    {
     "data": {
      "text/plain": [
       "20.0"
      ]
     },
     "execution_count": 7,
     "metadata": {},
     "output_type": "execute_result"
    }
   ],
   "source": [
    "perm(5, 5) / perm(3, 3)"
   ]
  },
  {
   "cell_type": "markdown",
   "id": "2a29a9d9-3c69-416c-a117-e19511125620",
   "metadata": {},
   "source": [
    "---\n",
    "\n",
    "### Example 4\n",
    "\n",
    "José is on a gameshow that involves a taste test. He gets to see a list of $15$ different secret ingredients before tasting $3$ dishes one after the other. The $3$ dishes are all identical to each other except that each dish contains $1$ of the $15$ secret ingredients. He gets $60$ seconds to identify what secret ingredient was in each dish.\n",
    "\n",
    "The permutation formula $n\\text{P}r$ can be used to find the number of unique ways to arrange the ingredients in the dishes.\n",
    "\n",
    "**What are the appropriate values of $n$ and $r$?**"
   ]
  },
  {
   "cell_type": "code",
   "execution_count": 8,
   "id": "14a18a36-7060-4bcf-ab1e-1d162b2ca897",
   "metadata": {},
   "outputs": [],
   "source": [
    "n = 15\n",
    "r = 3"
   ]
  },
  {
   "cell_type": "markdown",
   "id": "13974b8c-3b95-48f6-8cec-b4dfde05c666",
   "metadata": {},
   "source": [
    "---\n",
    "\n",
    "### Example 5\n",
    "\n",
    "Amara needs to create a special tasting menu at her restaurant. She needs to select $4$ dishes from $7$ available dishes and put them in a tasty sequence.\n",
    "\n",
    "**How many unique ways are there to arrange $4$ of the $7$ dishes?**"
   ]
  },
  {
   "cell_type": "code",
   "execution_count": 9,
   "id": "bd8221bc-10e7-43aa-8ed4-01ad12527cbd",
   "metadata": {},
   "outputs": [
    {
     "data": {
      "text/plain": [
       "32760.0"
      ]
     },
     "execution_count": 9,
     "metadata": {},
     "output_type": "execute_result"
    }
   ],
   "source": [
    "N, k = 7, 4\n",
    "perm(n, k)"
   ]
  },
  {
   "cell_type": "markdown",
   "id": "459a3f3c-9a83-46b0-a1d0-38bcedf7d0a1",
   "metadata": {},
   "source": [
    "---\n",
    "\n",
    "### Example 6\n",
    "\n",
    "You need to put your reindeer, Gloopin, Quentin, Ezekiel, and Lancer, in a single-file line to pull your sleigh. However, Quentin and Gloopin are best friends, so you have to put them next to each other, or they won't fly.\n",
    "\n",
    "**How many ways can you arrange your reindeer?**"
   ]
  },
  {
   "cell_type": "code",
   "execution_count": 10,
   "id": "3cb2014c-4562-4e59-96fb-c978e2fe415e",
   "metadata": {},
   "outputs": [
    {
     "data": {
      "text/plain": [
       "12.0"
      ]
     },
     "execution_count": 10,
     "metadata": {},
     "output_type": "execute_result"
    }
   ],
   "source": [
    "# treat Quentin and Gloopin as one at first\n",
    "# then adjust their positions\n",
    "perm(3, 3) * perm(2, 2)"
   ]
  },
  {
   "cell_type": "markdown",
   "id": "26fe3ef1-50e2-41eb-854a-04bb7f864aa2",
   "metadata": {},
   "source": [
    "---\n",
    "\n",
    "## [Combinations](https://en.wikipedia.org/wiki/Combination)\n",
    "\n",
    "$\\displaystyle {}_n C_r = C(n, r) = \\binom{n}{k} = \\frac{n!}{r!(n-r)!}$\n",
    "\n",
    "- ${}_n C_r$: number of combinations\n",
    "- $n$: total number of objects in the set\n",
    "- $r$ or $k$: number of choosing objects from the set"
   ]
  },
  {
   "cell_type": "markdown",
   "id": "4d9bcb50-3943-4a89-9b74-b84a04818be6",
   "metadata": {},
   "source": [
    "---\n",
    "\n",
    "### Example 1\n",
    "\n",
    "Luis is packing a bag for vacation. He has $9$ unique shirts, but he can only fit $5$ in his bag.\n",
    "\n",
    "**How many different groups of $5$ shirts can he take?**"
   ]
  },
  {
   "cell_type": "code",
   "execution_count": 11,
   "id": "340267fa-8034-449f-a23f-957e78fb915e",
   "metadata": {},
   "outputs": [
    {
     "data": {
      "text/plain": [
       "126.0"
      ]
     },
     "execution_count": 11,
     "metadata": {},
     "output_type": "execute_result"
    }
   ],
   "source": [
    "N, k = 9, 5\n",
    "comb(N, k)"
   ]
  },
  {
   "cell_type": "markdown",
   "id": "9cca177e-918e-4e4d-9d0e-dcdb44dbe67a",
   "metadata": {},
   "source": [
    "---\n",
    "\n",
    "### Example 2\n",
    "\n",
    "**How many numbers between $1$ and $100$ (inclusive) are divisible by $3$ or $10$?**"
   ]
  },
  {
   "cell_type": "code",
   "execution_count": 12,
   "id": "ff6aeb12-4a14-462d-9e9b-3d644ffc3a2a",
   "metadata": {},
   "outputs": [
    {
     "data": {
      "text/plain": [
       "40"
      ]
     },
     "execution_count": 12,
     "metadata": {},
     "output_type": "execute_result"
    }
   ],
   "source": [
    "l = [i for i in range(1, 101) if (i % 3 == 0) | (i % 10 == 0)]\n",
    "len(l)"
   ]
  },
  {
   "cell_type": "markdown",
   "id": "3e2ad9f8-4e93-4ab5-bdf1-9ffe7cf4f60e",
   "metadata": {},
   "source": [
    "---\n",
    "\n",
    "## Probability with perminutations and combinations\n",
    "\n",
    "- perminations: $P=\\displaystyle \\frac{\\text{# of correct sequences}}{\\text{# of possible sequences}}$\n",
    "- combinations: $P=\\displaystyle \\frac{\\text{# of groups with specific combinations}}{\\text{# of total groups}}$\n",
    "- combinations: $P=\\displaystyle \\frac{\\text{# of correct sets}}{\\text{# of possible sets}}$"
   ]
  },
  {
   "cell_type": "markdown",
   "id": "e5ac4031-96d7-4a79-8877-2271b659b141",
   "metadata": {},
   "source": [
    "---\n",
    "\n",
    "### Example 1: Probability with combinations\n",
    "\n",
    "Micah is $1$ of $28$ students in a class. Micah's teacher is going to randomly select $3$ students from their class to visit a classroom of younger students.\n",
    "\n",
    "**What is the probability Micah is included in the group of students chosen?**"
   ]
  },
  {
   "cell_type": "markdown",
   "id": "9ad76cf0-fbdf-441f-910d-643351421f61",
   "metadata": {},
   "source": [
    "We want to count all of the groups that include Micah. This is equivalent to how many groups of $2$ students are possible from his $27$ classmates. Micah could then \"join\" any of those groups, and we have counted how many groups of $3$ students include Micah.\n",
    "\n",
    "$\\displaystyle \\frac{C(27, 2)}{C(28, 3)}$"
   ]
  },
  {
   "cell_type": "code",
   "execution_count": 13,
   "id": "b6b049b0-261f-47bc-9043-4df9228dd5c1",
   "metadata": {},
   "outputs": [
    {
     "name": "stdout",
     "output_type": "stream",
     "text": [
      "3/28\n"
     ]
    }
   ],
   "source": [
    "print(Fraction(int(comb(27, 2)), int(comb(28, 3))))"
   ]
  },
  {
   "cell_type": "markdown",
   "id": "e459913a-4875-459b-b057-871b68290e92",
   "metadata": {
    "tags": []
   },
   "source": [
    "---\n",
    "\n",
    "### Example 2: Probability with permutations\n",
    "\n",
    "Nia is $1$ of $24$ students in a class. Every month, Nia's teacher randomly selects $4$ students from their class to act as class president, vice president, secretary, and treasurer. No one student can hold two positions.\n",
    "\n",
    "**In a given month, what is the probability that Nia is chosen as president?**"
   ]
  },
  {
   "cell_type": "markdown",
   "id": "c35a3043-8f66-42db-9c1f-5b1111182b35",
   "metadata": {},
   "source": [
    "$\\displaystyle \\frac{P(23, 3)}{P(24, 4)}$"
   ]
  },
  {
   "cell_type": "code",
   "execution_count": 14,
   "id": "9b30acfc-58cc-49ce-a6a4-b0c9f6017c88",
   "metadata": {},
   "outputs": [
    {
     "name": "stdout",
     "output_type": "stream",
     "text": [
      "1/24\n"
     ]
    }
   ],
   "source": [
    "print(Fraction(int(perm(23, 3)), int(perm(24, 4))))"
   ]
  },
  {
   "cell_type": "markdown",
   "id": "f6789cb3-0452-4123-9453-6a4b102ade40",
   "metadata": {},
   "source": [
    "---\n",
    "\n",
    "### Example 3: Probability with combinations\n",
    "\n",
    "Each card in a standard deck of $52$ playing cards is unique and belongs to $1$ of $4$ suits:\n",
    "\n",
    "-   $13$ cards are clubs\n",
    "-   $13$ cards are diamonds\n",
    "-   $13$ cards are hearts\n",
    "-   $13$ cards are spades\n",
    "\n",
    "Suppose that Luisa randomly draws $4$ cards _without replacement_.\n",
    "\n",
    "**What is the probability that Luisa gets $2$ diamonds and $2$ hearts (in any order)?**"
   ]
  },
  {
   "cell_type": "markdown",
   "id": "c62e0c2d-dd25-4f98-a169-2ea7e897b146",
   "metadata": {},
   "source": [
    "$\\displaystyle \\frac{C(13, 2) \\cdot C(13, 2)}{C(52, 4)}$"
   ]
  },
  {
   "cell_type": "code",
   "execution_count": 15,
   "id": "98c94ec3-1314-44a7-ad95-a4072f88cee5",
   "metadata": {},
   "outputs": [
    {
     "name": "stdout",
     "output_type": "stream",
     "text": [
      "468/20825\n"
     ]
    }
   ],
   "source": [
    "print(Fraction(int(comb(13, 2) * comb(13, 2)), int(comb(52, 4))))"
   ]
  },
  {
   "cell_type": "markdown",
   "id": "4da31b4b-cc00-4127-8b05-c624897dabc3",
   "metadata": {},
   "source": [
    "---\n",
    "\n",
    "### Example 4: Probability with combinations\n",
    "\n",
    "Lin and Kai are friends that work together on a team of $12$ total people. Their manager is going to randomly select $2$ people from the team of $12$ to attend a conference.\n",
    "\n",
    "**What is the probability that Lin and Kai are the $2$ people chosen?**"
   ]
  },
  {
   "cell_type": "markdown",
   "id": "d622bc43-3f53-422b-8992-a15b96188d7a",
   "metadata": {},
   "source": [
    "$\\displaystyle \\frac{C(2, 2)}{C(12, 2)}$"
   ]
  },
  {
   "cell_type": "code",
   "execution_count": 16,
   "id": "b9d01209-d491-4210-b8ba-02846d1a77a0",
   "metadata": {},
   "outputs": [
    {
     "name": "stdout",
     "output_type": "stream",
     "text": [
      "1/66\n"
     ]
    }
   ],
   "source": [
    "print(Fraction(int(comb(2, 2)), int(comb(12, 2))))"
   ]
  },
  {
   "cell_type": "markdown",
   "id": "b88fb64f-809d-490d-8d33-545a58b3d700",
   "metadata": {
    "tags": []
   },
   "source": [
    "---\n",
    "\n",
    "### Example 5: Probability with combinations\n",
    "\n",
    "Declan's friend Luka claims that he can read minds. To test Luka's abilities, Declan draws $5$ cards _without replacement_ from a standard deck of $52$ playing cards. Declan then asks Luka to identify _in any order_ which $5$ cards he drew without looking.\n",
    "\n",
    "Assume that Luka has no special abilities and is randomly guessing the cards.\n",
    "\n",
    "**What is the probability that Luka correctly identifies all $5$ cards in any order?**"
   ]
  },
  {
   "cell_type": "markdown",
   "id": "45e8e191-7dcd-4444-9055-800aaf031ef9",
   "metadata": {},
   "source": [
    "$\\displaystyle \\frac{C(5, 5)}{C(52, 5)}$"
   ]
  },
  {
   "cell_type": "code",
   "execution_count": 17,
   "id": "54eefc94-be3a-46cd-9dc7-1fcceab87205",
   "metadata": {},
   "outputs": [
    {
     "name": "stdout",
     "output_type": "stream",
     "text": [
      "1/2598960\n"
     ]
    }
   ],
   "source": [
    "print(Fraction(int(comb(5, 5)), int(comb(52, 5))))"
   ]
  },
  {
   "cell_type": "markdown",
   "id": "a120ff6c-a052-477e-a9b2-e51e5382374b",
   "metadata": {
    "tags": []
   },
   "source": [
    "---\n",
    "\n",
    "### Example 6: Probability with permutations\n",
    "\n",
    "Michael is taking a quiz in his music history class. The teacher writes the names of $6$ songs on the board, and then plays $4$ songs out of the $6$, one after the other in a random sequence. Michael then needs to identify each of the songs _in the sequence they were played_.\n",
    "\n",
    "Suppose that Michael hasn't studied and is randomly guessing the songs.\n",
    "\n",
    "**What is the probability that Michael correctly identifies all $4$ songs in the correct order?**"
   ]
  },
  {
   "cell_type": "markdown",
   "id": "f2a2dadd-f54b-4a87-9058-ba7614ecf326",
   "metadata": {},
   "source": [
    "$\\displaystyle \\frac{1}{P(6, 4)}$"
   ]
  },
  {
   "cell_type": "code",
   "execution_count": 18,
   "id": "655da9c1-f0df-4eab-89d0-a35a3db0672a",
   "metadata": {},
   "outputs": [
    {
     "name": "stdout",
     "output_type": "stream",
     "text": [
      "1/360\n"
     ]
    }
   ],
   "source": [
    "print(Fraction(1, int(perm(6, 4))))"
   ]
  },
  {
   "cell_type": "markdown",
   "id": "1a5c9e27-ca02-496d-bfcb-851a94b72856",
   "metadata": {},
   "source": [
    "---\n",
    "\n",
    "### Example 7: Probability with permutations\n",
    "\n",
    "A passcode to enter a building is a sequence of $4$ single digit numbers $(0-9)$ and repeated digits aren't allowed.\n",
    "\n",
    "Suppose someone doesn't know the passcode and randomly guesses a sequence of $4$ digits.\n",
    "\n",
    "**What is the probability that they guess the correct sequence?**"
   ]
  },
  {
   "cell_type": "markdown",
   "id": "284817a9-1cc4-4bf6-8bc9-e2326bb43653",
   "metadata": {},
   "source": [
    "$\\displaystyle \\frac{1}{P(10, 4)}$"
   ]
  },
  {
   "cell_type": "code",
   "execution_count": 19,
   "id": "a21a08a6-c684-4923-adbd-45e63a12f58c",
   "metadata": {},
   "outputs": [
    {
     "name": "stdout",
     "output_type": "stream",
     "text": [
      "1/5040\n"
     ]
    }
   ],
   "source": [
    "print(Fraction(1, int(perm(10, 4))))"
   ]
  },
  {
   "cell_type": "code",
   "execution_count": null,
   "id": "397fdc89-7ffa-4266-a352-7374b4003bb3",
   "metadata": {},
   "outputs": [],
   "source": []
  }
 ],
 "metadata": {
  "kernelspec": {
   "display_name": "statistics-and-probability",
   "language": "python",
   "name": "statistics-and-probability"
  },
  "language_info": {
   "codemirror_mode": {
    "name": "ipython",
    "version": 3
   },
   "file_extension": ".py",
   "mimetype": "text/x-python",
   "name": "python",
   "nbconvert_exporter": "python",
   "pygments_lexer": "ipython3",
   "version": "3.9.10"
  }
 },
 "nbformat": 4,
 "nbformat_minor": 5
}
