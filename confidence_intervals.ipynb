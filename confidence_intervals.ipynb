{
 "cells": [
  {
   "cell_type": "code",
   "execution_count": 1,
   "id": "84019dad-fb21-4640-b4b4-2b7b03f5cc9c",
   "metadata": {},
   "outputs": [],
   "source": [
    "import numpy as np\n",
    "import pandas as pd\n",
    "import matplotlib.pyplot as plt\n",
    "import seaborn as sns\n",
    "%matplotlib inline\n",
    "\n",
    "from scipy.stats import norm, bernoulli, t\n",
    "from statsmodels.stats import proportion\n",
    "from math import ceil\n",
    "from IPython.display import display, Latex"
   ]
  },
  {
   "cell_type": "markdown",
   "id": "67227fab-9803-4a01-aed8-af82c5f9bb9c",
   "metadata": {
    "tags": []
   },
   "source": [
    "# Reference\n",
    "\n",
    "> [Unit: Confidence intervals](https://www.khanacademy.org/math/statistics-probability/confidence-intervals-one-sample)"
   ]
  },
  {
   "cell_type": "markdown",
   "id": "bf532e66-2274-4eeb-b87d-d20fedd241cc",
   "metadata": {},
   "source": [
    "---\n",
    "\n",
    "# Introduction of confidence intervals\n",
    "\n",
    "> [Confidence intervals and margin of errors](https://www.khanacademy.org/math/statistics-probability/confidence-intervals-one-sample/introduction-to-confidence-intervals/v/confidence-intervals-and-margin-of-error)<br>\n",
    "\n",
    "Proportion\n",
    "- Population proportion: $\\displaystyle p$\n",
    "- Population mean (expected value): $\\displaystyle np$\n",
    "- Population variance: $\\displaystyle \\sigma^{2} = pq$\n",
    "- Sample proprotion: $\\displaystyle \\hat p$\n",
    "- Sample size: $\\displaystyle n$\n",
    "- Standard deviation(parameter): $\\displaystyle \\sigma_{\\hat p} = \\sqrt{\\frac{\\sigma^{2}}{n}} = \\frac{\\sigma}{\\sqrt{n}}$\n",
    "- Standard error(statistic): $\\displaystyle SE = \\sigma_{\\hat p} \\approx \\sqrt{\\frac{\\sigma_{\\hat p}^{2}}{n}} = \\frac{\\sigma_{\\hat p}}{\\sqrt{n}}$\n",
    "\n",
    "Mean\n",
    "- Population mean: $\\displaystyle \\mu$\n",
    "- Population variance: $\\displaystyle \\sigma^{2}$\n",
    "- Sample mean: $\\displaystyle \\bar x$\n",
    "- Sample Standard Deviation (statistic): $\\displaystyle \\sigma_{x}$ or $\\displaystyle s$\n",
    "- The mean of the sampling distribution of a sample mean (statistic): $\\mu_{\\bar x} = \\mu$\n",
    "- Sample size: $\\displaystyle n$\n",
    "- Standard deviation(parameter): $\\displaystyle \\sigma_{\\bar x} = \\sqrt{\\frac{\\sigma^{2}}{n}} = \\frac{\\sigma}{\\sqrt{n}}$\n",
    "- Standard error (statistic): $\\displaystyle SE = \\hat \\sigma_{\\bar x} = \\frac{\\sigma_{x}}{\\sqrt{n}}$\n",
    "- Standard error (statistic): $\\displaystyle SE = s_{\\bar x} = \\frac{s}{\\sqrt{n}}$\n"
   ]
  },
  {
   "cell_type": "markdown",
   "id": "900f53a7-f74e-429d-946b-99acf972930e",
   "metadata": {},
   "source": [
    "## Margin of error\n",
    "\n",
    "> [Margin of error](https://en.wikipedia.org/wiki/Margin_of_error)\n",
    "\n",
    "The **margin of error** is a statistic expressing the amount of random [sampling error](https://en.wikipedia.org/wiki/Sampling_error \"Sampling error\") in the results of a [survey](https://en.wikipedia.org/wiki/Statistical_survey \"Statistical survey\"). The larger the margin of error, the less confidence one should have that a poll result would reflect the result of a survey of the entire [population](https://en.wikipedia.org/wiki/Statistical_population \"Statistical population\"). The margin of error will be positive whenever a population is incompletely sampled and the outcome measure has positive [variance](https://en.wikipedia.org/wiki/Variance \"Variance\"), which is to say, the measure _varies_.\n",
    "\n",
    "Proportion\n",
    "- Margin of error: $\\displaystyle MOE_{\\gamma} = z_{\\gamma} \\cdot SE$\n",
    "- Confidence level: $\\gamma$\n",
    "- Critical value: $z_{\\gamma}$\n",
    "\n",
    "Mean\n",
    "- Margin of error: $\\displaystyle MOE_{\\gamma} = t_{\\gamma} \\cdot SE$\n",
    "- Confidence level: $\\gamma$\n",
    "- Critical value: $t_{\\gamma}$"
   ]
  },
  {
   "cell_type": "markdown",
   "id": "7a79ff84-f0ed-435f-88ee-a8d7b5a7845c",
   "metadata": {
    "tags": []
   },
   "source": [
    "---\n",
    "\n",
    "## Confidence interval\n",
    "\n",
    "> [Confidence interval simulation](https://www.khanacademy.org/math/statistics-probability/confidence-intervals-one-sample/introduction-to-confidence-intervals/v/confidence-interval-simulation)<br>\n",
    "> [Interpreting confidence level example](https://www.khanacademy.org/math/statistics-probability/confidence-intervals-one-sample/introduction-to-confidence-intervals/v/interpreting-confidence-intervals-example)<br>\n",
    "> [Interpreting confidence levels and confidence intervals](https://www.khanacademy.org/math/statistics-probability/confidence-intervals-one-sample/introduction-to-confidence-intervals/a/interpreting-confidence-levels-and-confidence-intervals)<br>\n",
    "> [Confidence interval](https://en.wikipedia.org/wiki/Confidence_interval)\n",
    "\n",
    "The confidence _level_ refers to the long-term success rate of the method, that is, how often this type of interval will capture the parameter of interest.\n",
    "\n",
    "A specific confidence _interval_ gives a range of plausible values for the parameter of interest.\n",
    "\n",
    "In [frequentist statistics](https://en.wikipedia.org/wiki/Frequentist_statistics \"Frequentist statistics\"), a **confidence interval** (**CI**) is a range of estimates for an unknown [parameter](https://en.wikipedia.org/wiki/Statistical_parameter \"Statistical parameter\"). A confidence interval is computed at a designated _confidence level_. The $95\\%$ level is most common, but other levels (such as $90\\%$ or $99\\%$) are sometimes used. The confidence level represents the long-run [proportion](https://en.wikipedia.org/wiki/Frequency_distribution \"Frequency distribution\") of correspondingly computed intervals that end up containing the true value of the parameter.\n",
    "\n",
    "Proportion\n",
    "- Confidence interval: $\\displaystyle CI = \\hat p \\pm MOE_{\\gamma} = \\hat p \\pm \\sqrt{\\frac{\\hat p (1 - \\hat p)}{n}}$\n",
    "\n",
    "Mean\n",
    "- Confidence interval: $\\displaystyle CI = \\bar x \\pm MOE_{\\gamma} = \\bar x \\pm \\sqrt{\\frac{\\sigma_{x}^{2}}{n}}$"
   ]
  },
  {
   "cell_type": "markdown",
   "id": "1e31d32e-a69a-4907-8a3d-10e1c9a41874",
   "metadata": {},
   "source": [
    "---\n",
    "\n",
    "### Example 1: Interpreting a confidence level\n",
    "\n",
    "A political pollster plans to ask a random sample of $500$ voters whether or not they support the incumbent candidate. The pollster will take the results of the sample and construct a $90\\%$ confidence interval for the true proportion of all voters who support the candidate.\n",
    "\n",
    "**Which of the following is a correct interpretation of the $90\\%$ confidence level?**"
   ]
  },
  {
   "cell_type": "markdown",
   "id": "ed1dc4b5-c417-4563-bb17-d4d8c0d87577",
   "metadata": {},
   "source": [
    "If the pollster repeats this process and constructs $20$ intervals from separate independent samples, we can expect about $18$ of those intervals to contain the true proportion of voters who support the candidate.\n",
    "\n",
    "Explain:\n",
    "\n",
    "*The stated confidence level means that we can expect $\\approx90\\%$ of these intervals to contain the parameter of interest, and $18$ of $20$ is $90\\%$.*"
   ]
  },
  {
   "cell_type": "markdown",
   "id": "e39a4192-e22c-47ca-aec9-a900031172fc",
   "metadata": {},
   "source": [
    "If the pollster repeats this process many times, then about $90\\%$ of the intervals produced will capture the true proportion of voters who support the candidate.\n",
    "\n",
    "Explain:\n",
    "\n",
    "*Confidence levels tell us the long-term rate at which a certain type of confidence interval will successfully capture the parameter of interest.*"
   ]
  },
  {
   "cell_type": "markdown",
   "id": "2e2c4ffd-78d1-48f6-8b0f-826f350ec1c7",
   "metadata": {},
   "source": [
    "---\n",
    "\n",
    "### Example 2: Interpreting a confidence interval\n",
    "\n",
    "A baseball coach was curious about the true mean speed of fastball pitches in his league. The coach recorded the speed in kilometers per hour of each fastball in a random sample of $100$ pitches and constructed a $95\\%$ confidence interval for the mean speed. The resulting interval was $(110, 120)$.\n",
    "\n",
    "**Which of the following is a correct interpretation of the interval $(110, 120)$?**"
   ]
  },
  {
   "cell_type": "markdown",
   "id": "22b8bb05-8546-406f-b904-e95e3efa8245",
   "metadata": {},
   "source": [
    "We're $95\\%$ confident that the interval $(110, 120)$ captured the true mean pitch speed.\n",
    "\n",
    "Explain:\n",
    "\n",
    "*A confidence interval gives us a range of plausible values for a population parameter.*"
   ]
  },
  {
   "cell_type": "markdown",
   "id": "20cda17d-aa44-4b90-ac9d-acf458d34911",
   "metadata": {},
   "source": [
    "Can we say there is a $95\\%$ chance that the true mean is between $110$ and $120$ kilometers per hour?\n",
    "\n",
    "Explain:\n",
    "    \n",
    "*We shouldn't say there is a $95\\%$ chance that _this specific_ interval contains the true mean, because it implies that the mean may be within this interval, or it may be somewhere else. This phrasing makes it seem as if the population mean is variable, but it's not. This interval either captured the mean or didn't. Intervals change from sample to sample, but the population parameter we're trying to capture does not.*\n",
    "\n",
    "*It's safer to say we're $95\\%$ confident that this interval captured the mean, since this phrasing more closely agrees with the long-term capture rate of confidence levels.*"
   ]
  },
  {
   "cell_type": "markdown",
   "id": "1e9646ba-c025-49ac-9675-7a075dde8c18",
   "metadata": {},
   "source": [
    "---\n",
    "\n",
    "### Example 3: Effect of changing confidence level\n",
    "\n",
    "Suppose that the coach from the previous example decides they want to be more confident. The coach uses the same sample data as before, but recalculates the confidence interval using a $99\\%$ confidence level.\n",
    "\n",
    "**How will increasing the confidence level from $95\\%$ to $99\\%$ affect the confidence interval?**"
   ]
  },
  {
   "cell_type": "markdown",
   "id": "395cb03b-66ef-44ca-a3db-08daa8b03966",
   "metadata": {},
   "source": [
    "Increasing the confidence will increase the margin of error resulting in a wider interval.\n",
    "\n",
    "Explain:\n",
    "\n",
    "*A larger margin of error produces a wider confidence interval that is more likely to contain the parameter of interest (increased confidence).*\n",
    "\n",
    "*Increasing the confidence level means we are more likely to capture the true value of the parameter with each interval. To be more confident, we use wider intervals with a larger margin of error.*"
   ]
  },
  {
   "cell_type": "markdown",
   "id": "76a38496-8f7d-4e03-9913-52beccb016d1",
   "metadata": {},
   "source": [
    "---\n",
    "\n",
    "# Estimating a population proportion\n",
    "\n",
    "> [Confidence interval example](https://www.khanacademy.org/math/statistics-probability/confidence-intervals-one-sample/estimating-population-proportion/v/confidence-interval-example)<br>\n",
    "> [Conditions for valid confidence intervals for a proportion](https://www.khanacademy.org/math/statistics-probability/confidence-intervals-one-sample/estimating-population-proportion/v/conditions-for-valid-confidence-intervals)<br>\n",
    "> [Interpreting a z interval for a proportion](https://www.khanacademy.org/math/statistics-probability/confidence-intervals-one-sample/estimating-population-proportion/a/interpreting-z-interval-proportion)\n",
    "\n",
    "When we want to carry out inferences on one proportion (build a confidence interval or do a significance test), the accuracy of our methods depend on a few conditions. Before doing the actual computations of the interval or test, it's important to check whether or not these conditions have been met, otherwise the calculations and conclusions that follow aren't actually valid.\n",
    "\n",
    "The conditions we need for inference on one proportion are:\n",
    "\n",
    "-   **Random** (most important): The data needs to come from a random sample or randomized experiment.\n",
    "-   **Normal**: The sampling distribution of $\\hat p$ needs to be approximately normal — needs at least $10$ expected successes and $10$ expected failures. $n \\hat p \\geq 10$ and $n \\hat q \\geq 10$\n",
    "-   **Independent**: Individual observations need to be independent. If sampling without replacement, our sample size shouldn't be more than $10\\%$ of the population. $n < \\text{10% of population}$ (without replacement)."
   ]
  },
  {
   "cell_type": "markdown",
   "id": "167ec5b9-394c-4713-bbd3-806575b46bfd",
   "metadata": {},
   "source": [
    "---\n",
    "\n",
    "## Conditions for a z interval for a proportion\n",
    "\n",
    "> [Conditions for valid confidence intervals for a proportion](https://www.khanacademy.org/math/statistics-probability/confidence-intervals-one-sample/estimating-population-proportion/v/conditions-for-valid-confidence-intervals)\n",
    "\n",
    "### The random condition\n",
    "\n",
    "Random samples give us unbiased data from a population. When samples aren't randomly selected, the data usually has some form of bias, so using data that wasn't randomly selected to make inferences about its population can be risky.\n",
    "\n",
    "More specifically, sample proportions are unbiased estimators of their population proportion. For example, if we have a bag of candy where $50\\%$ of the candies are orange and we take random samples from the bag, some will have more than $50\\%$ orange and some will have less. But on average, the proportion of orange candies in each sample will equal $50\\%$. We write this property as $\\mu_{\\hat p}=p$, which holds true as long as our sample is random.\n",
    "\n",
    "This won't necessarily happen if our sample isn't randomly selected though. Biased samples lead to inaccurate results, so they shouldn't be used to create confidence intervals or carry out significance tests.\n",
    "\n",
    "---\n",
    "\n",
    "### The normal condition\n",
    "\n",
    "The sampling distribution of $\\hat p$ is approximately normal as long as the expected number of successes and failures are both at least $10$. This happens when our sample size $n$ is reasonably large.\n",
    "\n",
    "So we need:\n",
    "\n",
    "- $\\displaystyle \\text{expected success: } np \\geq 10$\n",
    "- $\\displaystyle \\text{expected failures: } n(1 - p) \\geq 10$\n",
    "\n",
    "If we are building a confidence interval, we don't have a value of $p$ to plug in, so we instead count the observed number of successes and failures in the sample data to make sure they are both at least $10$. If we are doing a significance test, we use our sample size $n$ and the hypothesized value of $p$ to calculate our expected numbers of successes and failures.\n",
    "\n",
    "---\n",
    "\n",
    "### The independence condition\n",
    "\n",
    "To use the formula for standard deviation of $\\hat p$, we need individual observations to be independent. When we are sampling without replacement, individual observations aren't technically independent since removing each item changes the population.\n",
    "\n",
    "But the $10\\%$ condition says that if we sample $10\\%$ or less of the population, we can treat individual observations as independent since removing each observation doesn't significantly change the population as we sample. For instance, if our sample size is $n=150$, there should be at least $N=1500$ members in the population.\n",
    "\n",
    "This allows us to use the formula for standard deviation of $\\hat p$:\n",
    "\n",
    "$\\displaystyle \\sigma_{\\hat p} = \\sqrt{\\frac{\\sigma^{2}}{n}} = \\frac{\\sigma}{\\sqrt{n}}$\n",
    "\n",
    "In a significance test, we use the sample size $n$ and the hypothesized value of $p$.\n",
    "\n",
    "If we are building a confidence interval for $p$, we don't actually know what $p$ is, so we substitute $\\hat p$ as an estimate for $p$. When we do this, we call it the **standard error** of $\\hat p$ to distinguish it from the standard deviation.\n",
    "\n",
    "So our formula for standard error of $\\hat p$ is\n",
    "\n",
    "$\\displaystyle SE = \\sigma_{\\hat p} \\approx \\sqrt{\\frac{\\sigma_{\\hat p}^{2}}{n}} = \\frac{\\sigma_{\\hat p}}{\\sqrt{n}}$"
   ]
  },
  {
   "cell_type": "markdown",
   "id": "0927190b-edf0-4719-8300-b60ab2b4619c",
   "metadata": {},
   "source": [
    "---\n",
    "\n",
    "### Example 1\n",
    "\n",
    "Ali is in charge of the dinner menu for his senior prom, and he wants to use a one-sample $z$ interval to estimate what proportion of seniors would order a vegetarian option. He randomly selects $30$ of the $150$ total seniors and finds that $7$ of those sampled would order the vegetarian option.\n",
    "\n",
    "**Which conditions for constructing this confidence interval did Ali's sample meet?**"
   ]
  },
  {
   "cell_type": "markdown",
   "id": "d61364e9-4b55-4daa-add6-d73e6966bde6",
   "metadata": {},
   "source": [
    "- The data is a random sample from the population of interest."
   ]
  },
  {
   "cell_type": "markdown",
   "id": "c322a3e6-f943-4669-889a-bbf5b5c4d846",
   "metadata": {},
   "source": [
    "---\n",
    "\n",
    "### Example 2\n",
    "\n",
    "A school administrator wants to know what proportion of teachers in their state have a Master's degree. The administrator takes an of $100$ teachers from a statewide database containing every teacher, and they find $55$ teachers in the sample have a Master's degree. The administrator wants to use this data to construct a one-sample $z$ interval for a proportion.\n",
    "\n",
    "**Which conditions for constructing this confidence interval did their sample meet?**"
   ]
  },
  {
   "cell_type": "markdown",
   "id": "80f25187-693c-4275-a269-2f20494d64df",
   "metadata": {},
   "source": [
    "- The data is a random sample from the population of interest.\n",
    "- $n \\hat p \\geq 10$ and $n \\hat q \\geq 10$\n",
    "- Individual observations can be considered independent."
   ]
  },
  {
   "cell_type": "markdown",
   "id": "92a90624-ee23-4309-a435-27054aed93fd",
   "metadata": {},
   "source": [
    "---\n",
    "\n",
    "## Finding the critical value $z^{*}$ for a desired confidence level"
   ]
  },
  {
   "cell_type": "markdown",
   "id": "f91ab067-afdd-4752-bd82-b8c3ce59b916",
   "metadata": {},
   "source": [
    "---\n",
    "\n",
    "### Example 1: Finding the critical value\n",
    "\n",
    "**What is the critical value $z^{*}$ for constructing an $88\\%$ confidence interval?**"
   ]
  },
  {
   "cell_type": "code",
   "execution_count": 2,
   "id": "3f81f487-2772-4dd1-9e4c-e28e256706ad",
   "metadata": {},
   "outputs": [
    {
     "data": {
      "text/latex": [
       "$z^* = 1.555$"
      ],
      "text/plain": [
       "<IPython.core.display.Latex object>"
      ]
     },
     "metadata": {},
     "output_type": "display_data"
    }
   ],
   "source": [
    "CL = 0.88\n",
    "critical_value = norm.ppf((1 - CL) / 2 + CL)\n",
    "percision = 3\n",
    "\n",
    "display(Latex(f\"$z^* = {round(critical_value, percision)}$\"))"
   ]
  },
  {
   "cell_type": "code",
   "execution_count": 3,
   "id": "716bffb5-62fa-49da-ac99-2f40b86e2528",
   "metadata": {},
   "outputs": [
    {
     "data": {
      "text/plain": [
       "(-1.5547735945968535, 1.5547735945968535)"
      ]
     },
     "execution_count": 3,
     "metadata": {},
     "output_type": "execute_result"
    }
   ],
   "source": [
    "# OR\n",
    "norm.interval(0.88)"
   ]
  },
  {
   "cell_type": "markdown",
   "id": "23c3a91e-9fbf-459e-9a93-d34e7339a5c8",
   "metadata": {},
   "source": [
    "---\n",
    "\n",
    "### Example 2: Finding the confidence level\n",
    "\n",
    "Emer made a one-sample $z$ interval for a proportion and used the critical value $z^*=1.476$.\n",
    "\n",
    "**What confidence level did she use?**"
   ]
  },
  {
   "cell_type": "code",
   "execution_count": 4,
   "id": "70521b9e-1d3d-4b52-a7e7-273079e02b22",
   "metadata": {},
   "outputs": [
    {
     "data": {
      "text/latex": [
       "$a = 0.86$"
      ],
      "text/plain": [
       "<IPython.core.display.Latex object>"
      ]
     },
     "metadata": {},
     "output_type": "display_data"
    }
   ],
   "source": [
    "critical_value = 1.476\n",
    "CL = norm.cdf(critical_value) - (1 - norm.cdf(critical_value))\n",
    "percision = 3\n",
    "\n",
    "display(Latex(f\"$a = {round(CL, percision)}$\"))"
   ]
  },
  {
   "cell_type": "markdown",
   "id": "e71b27d0-4829-4735-8e20-7624430d0cd2",
   "metadata": {},
   "source": [
    "---\n",
    "\n",
    "## Calculating a z interval for a proportion"
   ]
  },
  {
   "cell_type": "markdown",
   "id": "d5e3b152-7428-4238-8fab-ede986eaa2cf",
   "metadata": {},
   "source": [
    "---\n",
    "\n",
    "### Example 1\n",
    "\n",
    "A survey of $400$ randomly selected homes from a large city with over $30{,}000$ homes showed that $16$ of the sampled homes didn't have a television.\n",
    "\n",
    "**Based on this sample, which of the following is a $95\\%$ confidence interval for the proportion of homes in this city that don't have a television?**"
   ]
  },
  {
   "cell_type": "code",
   "execution_count": 5,
   "id": "e693756a-a8ee-4a37-b610-be980ec19138",
   "metadata": {},
   "outputs": [
    {
     "data": {
      "text/plain": [
       "(0.021, 0.059)"
      ]
     },
     "execution_count": 5,
     "metadata": {},
     "output_type": "execute_result"
    }
   ],
   "source": [
    "k, n, CL = 16, 400, .95\n",
    "p = k / n\n",
    "percision = 3\n",
    "\n",
    "# critical_value = NormalDist().inv_cdf((1 - CL) / 2 + CL)\n",
    "critical_value = norm.ppf((1 - CL) / 2 + CL)\n",
    "SE = bernoulli.std(p) / np.sqrt(n)\n",
    "MOE = SE * critical_value\n",
    "CI_L, CI_R = p - MOE, p + MOE\n",
    "CI_L, CI_R = round(CI_L, percision), round(CI_R, percision)\n",
    "(CI_L, CI_R)"
   ]
  },
  {
   "cell_type": "code",
   "execution_count": 6,
   "id": "4db0de4d-d59b-4a75-89fd-fffab72fe976",
   "metadata": {},
   "outputs": [
    {
     "data": {
      "text/plain": [
       "(0.021, 0.059)"
      ]
     },
     "execution_count": 6,
     "metadata": {},
     "output_type": "execute_result"
    }
   ],
   "source": [
    "# OR\n",
    "k, n, CL = 16, 400, .95\n",
    "alpha = 1 - CL\n",
    "percision = 3\n",
    "\n",
    "ci_low, ci_upp = proportion.proportion_confint(count=k, nobs=n, alpha=alpha, method='normal')\n",
    "round(ci_low, percision), round(ci_upp, percision)"
   ]
  },
  {
   "cell_type": "markdown",
   "id": "2ffc7573-20d3-49fd-92c0-6b386289b7ee",
   "metadata": {},
   "source": [
    "---\n",
    "\n",
    "### Example 2\n",
    "\n",
    "Yun is curious what proportion of users will click an advertisement that appears on his website. He takes a random sample of $200$ users and finds that $34$ of them clicked the advertisement. He's willing to assume independence between users in the sample.\n",
    "\n",
    "**Based on this sample, which of the following is a $99\\%$ confidence interval for the proportion of users that click the ad?**"
   ]
  },
  {
   "cell_type": "code",
   "execution_count": 7,
   "id": "f7a8ff03-1ff9-4863-8853-75baf0574e38",
   "metadata": {},
   "outputs": [
    {
     "name": "stdout",
     "output_type": "stream",
     "text": [
      "0.17 0.83 200 2.5758293035489004\n"
     ]
    }
   ],
   "source": [
    "CL, n, k = 0.99, 200, 34\n",
    "p = k / n\n",
    "percision = 3\n",
    "\n",
    "critical_value = norm.ppf((1 - CL) / 2 + CL)\n",
    "SE = bernoulli.std(p) / np.sqrt(n)\n",
    "\n",
    "print(p, 1 - p, n, critical_value)"
   ]
  },
  {
   "cell_type": "markdown",
   "id": "a00fdd5c-f91a-49e2-ab0c-f16c3f716014",
   "metadata": {},
   "source": [
    "$\\displaystyle 0.17 \\pm 2.576 \\sqrt{\\frac{0.17(0.83)}{200}}$"
   ]
  },
  {
   "cell_type": "markdown",
   "id": "499573a0-dfe4-4ef2-8310-0dcffbd19df1",
   "metadata": {},
   "source": [
    "---\n",
    "\n",
    "## Interpreting a z interval for a proportion\n",
    "\n",
    "> [Interpreting a z interval for a proportion](https://www.khanacademy.org/math/statistics-probability/confidence-intervals-one-sample/estimating-population-proportion/a/interpreting-z-interval-proportion)\n",
    "\n",
    "Once we build a confidence interval for a proportion, it's important to be able to interpret what the interval tells us about the population, and what it doesn't tell us. Let's look at few examples that demonstrate how to interpret a confidence interval for a proportion."
   ]
  },
  {
   "cell_type": "markdown",
   "id": "be511464-474c-43e9-a60f-71a756b11dab",
   "metadata": {},
   "source": [
    "---\n",
    "\n",
    "### Example 1\n",
    "\n",
    "Ahmad saw a report that claimed $57\\%$ of US adults think a third major political party is needed. He was curious how students at his large university felt on the topic, so he asked the same question to a random sample of $100$ students and made a $95\\%$ confidence interval to estimate the proportion of students who agreed that a third major political party was needed. His resulting interval was $\\left(0.599, 0.781\\right)$. Assume that the conditions for inference were all met.\n",
    "\n",
    "**Based on his interval, is it plausible that $57\\%$ of all students at his university would agree that a third party is needed?**"
   ]
  },
  {
   "cell_type": "markdown",
   "id": "a690a59c-1c24-40a4-90ef-e1f56e586326",
   "metadata": {},
   "source": [
    "No, it isn't. The interval says that plausible values for the true proportion are between $59.9\\%$ and $78.1\\%$. Since the interval doesn't contain $57\\%$, it doesn't seem plausible that $57\\%$ of students at this university would agree. In other words, the entire interval is above $57\\%$, so the true proportion at this university is likely higher."
   ]
  },
  {
   "cell_type": "markdown",
   "id": "01edd353-a037-412c-8e92-a4b6d7eb9812",
   "metadata": {},
   "source": [
    "---\n",
    "\n",
    "### Example 2\n",
    "\n",
    "Ahmad's sister, Diedra, was curious how students at her large high school would answer the same question, so she asked it to a random sample of $100$ students at her school. She also made a $95\\%$ confidence interval to estimate the proportion of students at her school who would agree that a third party is needed. Her interval was $\\left(0.557, 0.743\\right)$. Assume that the conditions for inference were all met.\n",
    "\n",
    "**Based on her interval, is it plausible that $57\\%$ of students at her school would agree that a third party is needed?**"
   ]
  },
  {
   "cell_type": "markdown",
   "id": "991dc534-4164-4117-ab6c-92189a377d9d",
   "metadata": {},
   "source": [
    "Yes. Since the interval contains $57\\%$, it is a plausible value for the population proportion."
   ]
  },
  {
   "cell_type": "markdown",
   "id": "00dfefc6-d402-4e47-9569-6fafa5af6840",
   "metadata": {},
   "source": [
    "**Does her interval provide evidence that the true proportion of students at her school who would agree that a third party is needed is $57\\%$?**"
   ]
  },
  {
   "cell_type": "markdown",
   "id": "72b579cc-49a0-459d-b907-47a0a20fe140",
   "metadata": {},
   "source": [
    "No. Confidence intervals don't give us evidence that a parameter equals a specific value; they give us a range of plausible values. Diedra's interval says that the true proportion of students who agree could be as low as $55.7\\%$ or as high as $74.3\\%$ and that values outside of this interval aren't likely. So it wouldn't be appropriate to say this interval supports the value of $57\\%$."
   ]
  },
  {
   "cell_type": "markdown",
   "id": "48f197c3-407e-4caf-8a47-e625c88fa942",
   "metadata": {},
   "source": [
    "---\n",
    "\n",
    "### Example 3\n",
    "\n",
    "A video game gives players a reward of gold coins after they defeat an enemy. The creators of the game want players to have a chance at earning bonus coins when they defeat a certain challenging enemy. The creators attempt to program the game so that the bonus is awarded randomly with a $30\\%$ probability after the enemy is defeated.\n",
    "\n",
    "To see if the bonus is being awarded as intended, the creators defeated the enemy in a series of $100$ attempts (they're willing to treat this as a random sample). After each attempt, they recorded whether or not the bonus was awarded. They used the results to build a $95\\%$ confidence interval for ppp, the proportion of attempts that will be rewarded with the bonus. The resulting interval was $(0.323, 0.517)$.\n",
    "\n",
    "**What does this interval suggest?**"
   ]
  },
  {
   "cell_type": "markdown",
   "id": "fb08a405-7ee1-4672-a7af-65c7f3d62a4f",
   "metadata": {},
   "source": [
    "The bonus most likely isn't being awarded at the intended rate of $30\\%$.\n",
    "\n",
    "Explain:\n",
    "\n",
    "Our interval doesn't contain $30\\%$. The entire interval is greater than $30\\%$, so the bonus is likely being awarded more often than intended."
   ]
  },
  {
   "cell_type": "markdown",
   "id": "f9f8e47d-f63a-4e99-b57c-40e02a741263",
   "metadata": {},
   "source": [
    "---\n",
    "\n",
    "### Example 4\n",
    "\n",
    "The creators of the video game also want players to have a chance at earning a rare item when they defeat a challenging enemy. The creators attempt to program the game so that the rare item is awarded randomly with a $15\\%$ probability after the enemy is defeated.\n",
    "\n",
    "To see if the rare item is being awarded as intended, the creators defeated the enemy in a series of $100$ attempts (they're willing to treat this as a random sample). After each attempt, they recorded whether or not the rare item was awarded. They used the results to build a $95\\%$ confidence interval for $p$, the proportion of attempts that will be rewarded with the rare item, which was $0.12 \\pm 0.06$.\n",
    "\n",
    "**What does this interval suggest?**"
   ]
  },
  {
   "cell_type": "markdown",
   "id": "86a9cc45-6c18-4750-9ad3-5b10193668f8",
   "metadata": {},
   "source": [
    "It's plausible that the rare item is being awarded at the intended rate of $15\\%$.\n",
    "\n",
    "Explain:\n",
    "\n",
    "The interval contains $15\\%$, so that is a plausible value for rate."
   ]
  },
  {
   "cell_type": "markdown",
   "id": "e403e2e4-ce1c-4159-8843-77df474d018a",
   "metadata": {},
   "source": [
    "---\n",
    "\n",
    "## Sample size and margin of error in a z interval for p"
   ]
  },
  {
   "cell_type": "markdown",
   "id": "a4e07bb5-0ac1-4ebd-8c2f-ff9cde8b27d5",
   "metadata": {},
   "source": [
    "---\n",
    "\n",
    "### Example 1\n",
    "\n",
    "Della wants to make a one-sample $z$ interval to estimate what proportion of her community members favor a tax increase for more local school funding. She wants her margin of error to be no more than $\\pm 2\\%$ at the $95\\%$ confidence level.\n",
    "\n",
    "**What is the smallest sample size required to obtain the desired margin of error?**"
   ]
  },
  {
   "cell_type": "code",
   "execution_count": 8,
   "id": "026bb2ae-931b-436c-a126-a582932dff3e",
   "metadata": {},
   "outputs": [
    {
     "name": "stdout",
     "output_type": "stream",
     "text": [
      "smallest sample size: 2401\n"
     ]
    }
   ],
   "source": [
    "CL, MOE = 0.95, 0.02\n",
    "p = 0.5 # maximize p(1 - p) to minimize n\n",
    "percision = 3\n",
    "\n",
    "critical_value = norm.ppf((1 - CL) / 2 + CL)\n",
    "SE = MOE / critical_value\n",
    "n = (p * (1 - p)) / SE**2\n",
    "n\n",
    "print(\"smallest sample size:\", round(n))"
   ]
  },
  {
   "cell_type": "code",
   "execution_count": 9,
   "id": "8dc47efe-648c-4c63-95a3-14fe6c788c3a",
   "metadata": {},
   "outputs": [
    {
     "name": "stdout",
     "output_type": "stream",
     "text": [
      "smallest sample size: 2401\n"
     ]
    }
   ],
   "source": [
    "# OR\n",
    "CL, MOE = 0.95, 0.02\n",
    "p = 0.5 # maximize p(1 - p) to minimize n\n",
    "alpha = 1 - CL\n",
    "\n",
    "n = proportion.samplesize_confint_proportion(proportion=p, half_length=MOE, alpha=alpha)\n",
    "print(\"smallest sample size:\", round(n))"
   ]
  },
  {
   "cell_type": "markdown",
   "id": "7e2269d6-7c3d-4bfd-bc50-649ff6f81e6f",
   "metadata": {},
   "source": [
    "---\n",
    "\n",
    "### Example 2\n",
    "\n",
    "A large restaurant chain is curious what proportion of their customers in a given day are new customers. They are thinking of taking a sample of either $n=50$ or $n=100$ customers and building a one-sample $z$ interval for a proportion using the data from the sample.\n",
    "\n",
    "**Assuming the sample proportion is the same in each sample, what is true about the margins of error from these two samples?**"
   ]
  },
  {
   "cell_type": "markdown",
   "id": "1421c11a-7720-4d8c-a35a-b0b4dfc3aa42",
   "metadata": {},
   "source": [
    "The margin of error from the smaller sample will be $\\sqrt{2}$ times the margin of error from the larger sample."
   ]
  },
  {
   "cell_type": "markdown",
   "id": "08834a93-6dd4-4b91-9cba-644235d1bb46",
   "metadata": {},
   "source": [
    "---\n",
    "\n",
    "### Example 3\n",
    "\n",
    "Researchers make a one-sample $z$ interval to estimate the proportion of adults who would say they learned something new in the past month. Previous studies have suggested that about $40\\%$ would answer \"yes\" to this question. The researchers plan on using a confidence level of $95\\%$, and they want the margin of error to be no more than $\\pm 5\\%$.\n",
    "\n",
    "**If we assume $\\hat p=0.40$, what is the smallest sample size required to obtain the desired margin of error?**"
   ]
  },
  {
   "cell_type": "code",
   "execution_count": 10,
   "id": "76c2eae2-a651-4fe7-82a4-9e3a526b6501",
   "metadata": {},
   "outputs": [
    {
     "name": "stdout",
     "output_type": "stream",
     "text": [
      "smallest sample size: 369\n"
     ]
    }
   ],
   "source": [
    "CL, MOE = 0.95, 0.05\n",
    "p = 0.4\n",
    "alpha = 1 - CL\n",
    "\n",
    "n = proportion.samplesize_confint_proportion(proportion=p, half_length=MOE, alpha=alpha)\n",
    "print(\"smallest sample size:\", round(n))"
   ]
  },
  {
   "cell_type": "markdown",
   "id": "3e2d6e7a-7e7f-48d2-a40c-858b5ca7b330",
   "metadata": {},
   "source": [
    "---\n",
    "\n",
    "# Estimating a population mean"
   ]
  },
  {
   "cell_type": "markdown",
   "id": "eb4b38a8-0f44-4f77-9883-d51d35d6c893",
   "metadata": {},
   "source": [
    "---\n",
    "\n",
    "## Conditions for valid t intervals\n",
    "\n",
    "> [Conditions for inference on a mean](https://www.khanacademy.org/math/statistics-probability/confidence-intervals-one-sample/estimating-population-mean/a/reference-conditions-inference-one-mean)\n",
    "\n",
    "When we want to carry out inference (build a confidence interval or do a significance test) on a mean, the accuracy of our methods depends on a few conditions. Before doing the actual computations of the interval or test, it's important to check whether or not these conditions have been met. Otherwise the calculations and conclusions that follow may not be correct.\n",
    "\n",
    "The conditions we need for inference on a mean are:\n",
    "\n",
    "-   **Random**: A random sample or randomized experiment should be used to obtain the data.\n",
    "-   **Normal**: The sampling distribution of $\\bar x$ (the sample mean) needs to be approximately normal. This is true if our parent population is normal or if our sample is reasonably large $(n \\geq 30)$.\n",
    "-   **Independent**: Individual observations need to be independent. If sampling without replacement, our sample size shouldn't be more than $10\\%$ of the population.\n",
    "\n",
    "Let's look at each of these conditions a little more in-depth.\n",
    "\n",
    "---\n",
    "\n",
    "### The random condition\n",
    "\n",
    "Random samples give us unbiased data from a population. When we don't use random selection, the resulting data usually has some form of bias, so using it to infer something about the population can be risky.\n",
    "\n",
    "More specifically, sample means are unbiased estimators of their population mean. For example, suppose we have a bag of ping pong balls individually numbered from $0$ to $30$, so the population mean of the bag is $15$. We could take random samples of balls from the bag and calculate the mean from each sample. Some samples would have a mean higher than $15$ and some would be lower. But on average, the mean of each sample will equal $15$. We write this property as $\\mu_{\\bar x}=\\mu$, which holds true as long as we are taking random samples.\n",
    "\n",
    "This won't necessarily happen if we use a non-random sample. Biased samples can lead to inaccurate results, so they shouldn't be used to create confidence intervals or carry out significance tests.\n",
    "\n",
    "---\n",
    "\n",
    "### The normal condition\n",
    "\n",
    "The sampling distribution of $\\bar x$ (a sample mean) is approximately normal in a few different cases. The shape of the sampling distribution of $\\bar x$ mostly depends on the shape of the parent population and the sample size $n$.\n",
    "\n",
    "#### Case 1: Parent population is normally distributed\n",
    "\n",
    "If the parent population is normally distributed, then the sampling distribution of $\\bar x$ is approximately normal regardless of sample size. So if we know that the parent population is normally distributed, we pass this condition even if the sample size is small. In practice, however, we usually don't know if the parent population is normally distributed.\n",
    "\n",
    "#### Case 2: Not normal or unknown parent population; sample size is large $(n \\geq 30)$\n",
    "\n",
    "The sampling distribution of $\\bar x$ is approximately normal as long as the sample size is reasonably large. Because of the central limit theorem, when $n \\geq 30$, we can treat the sampling distribution of $\\bar x$ as approximately normal regardless of the shape of the parent population.\n",
    "\n",
    "There are a few rare cases where the parent population has such an unusual shape that the sampling distribution of the sample mean $\\bar x$ isn't quite normal for sample sizes near $30$. These cases are rare, so in practice, we are usually safe to assume approximately normality in the sampling distribution when $n \\geq 30$.\n",
    "\n",
    "#### Case 3: Not normal or unknown parent population; sample size is small $(n<30)$\n",
    "\n",
    "As long as the parent population doesn't have outliers or strong skew, even smaller samples will produce a sampling distribution of $\\bar x$ that is approximately normal. In practice, we can't usually see the shape of the parent population, but we can try to infer shape based on the distribution of data in the sample. If the data in the sample shows skew or outliers, we should doubt that the parent is approximately normal, and so the sampling distribution of $\\bar x$ may not be normal either. But if the sample data are roughly symmetric and don't show outliers or strong skew, we can assume that the sampling distribution of $\\bar x$ will be approximately normal.\n",
    "\n",
    "_The big idea is that we need to graph our sample data when $n<30$ and then make a decision about the normal condition based on the appearance of the sample data._\n",
    "\n",
    "---\n",
    "\n",
    "### The independence condition\n",
    "\n",
    "To use the formula for standard deviation of $\\bar x$, we need individual observations to be independent. In an experiment, good design usually takes care of independence between subjects (control, different treatments, randomization).\n",
    "\n",
    "In an observational study that involves sampling without replacement, individual observations aren't technically independent since removing each observation changes the population. However the $10\\%$ condition says that if we sample $10\\%$ or less of the population, we can treat individual observations as independent since removing each observation doesn't change the population all that much as we sample. For instance, if our sample size is $n=30$, there should to be at least $N=300$ members in the population for the sample to meet the independence condition.\n",
    "\n",
    "Assuming independence between observations allows us to use this formula for standard deviation of $\\bar x$ when we're making confidence intervals or doing significance tests:\n",
    "\n",
    "$\\displaystyle \\sigma_{\\bar x} = \\frac{\\sigma}{\\sqrt{n}}$\n",
    "\n",
    "We usually don't know the population standard deviation $\\sigma$, so we substitute the sample standard deviation $s_x$ as an estimate for $\\sigma$. When we do this, we call it the **standard error** of $\\bar x$ to distinguish it from the standard deviation.\n",
    "\n",
    "So our formula for standard error of $\\bar x$ is:\n",
    "\n",
    "$\\displaystyle \\sigma_{\\bar x} \\approx \\frac{s_x}{\\sqrt{n}}$\n",
    "\n",
    "---\n",
    "\n",
    "### Summary\n",
    "\n",
    "\n",
    "If all three of these conditions are met, then we can we feel good about using $t$ distributions to make a confidence interval or do a significance test. Satisfying these conditions makes our calculations accurate and conclusions reliable.\n",
    "\n",
    "The random condition is perhaps the most important. If we break the random condition, there is probably bias in the data. The only reliable way to correct for a biased sample is to recollect the data in an unbiased way.\n",
    "\n",
    "The other two conditions are important, but if we don't meet the normal or independence conditions, we may not need to start over. For example, there is a way to correct for the lack of independence when we sample more than $10\\%$ of a population, but it's beyond the scope of what we're learning right now.\n",
    "\n",
    "The main idea is that it's important to verify certain conditions are met before we make these confidence intervals or do these significance tests."
   ]
  },
  {
   "cell_type": "markdown",
   "id": "e558cf38-e4e6-4c46-bc49-330c04b1ed21",
   "metadata": {},
   "source": [
    "---\n",
    "\n",
    "### Example 1\n",
    "\n",
    "Flavia wanted to estimate the mean age of the faculty members at her large university. She took an SRS (simple random sample) of $20$ of the approximately $700$ faculty members, and each faculty member in the sample provided Flavia with their age. The ages were skewed to the right with a sample mean of $\\bar x =38.75$. She's considering using her data to make a confidence interval to estimate the mean age of faculty members at her university.\n",
    "\n",
    "**Which conditions for constructing a $t$ interval have been met?**"
   ]
  },
  {
   "cell_type": "markdown",
   "id": "69af3454-a0b0-43aa-99ca-bd9fac54cdaa",
   "metadata": {},
   "source": [
    "- The data is a random sample from the population of interest.\n",
    "- Individual observations can be considered independent."
   ]
  },
  {
   "cell_type": "markdown",
   "id": "9a240773-ecd1-4c7c-bc67-c935569d51d1",
   "metadata": {},
   "source": [
    "---\n",
    "\n",
    "### Example 2\n",
    "\n",
    "Here are two different samples drawn from two different populations:\n",
    "\n",
    "![](https://raw.githubusercontent.com/ZacksAmber/PicGo/master/img/20220501123656.png)\n",
    "\n",
    "**Which sample satisfies the normal condition for constructing a $t$ interval?**"
   ]
  },
  {
   "cell_type": "markdown",
   "id": "a8aa5c56-094e-42b4-9e81-0230be4d94f4",
   "metadata": {},
   "source": [
    "Sample A only\n",
    "\n",
    "Even though the sample is small, the sample data are roughly symmetric with no outliers, so it satisfies the normal condition."
   ]
  },
  {
   "cell_type": "markdown",
   "id": "6d0cd822-e6bc-4b3f-abf5-d0ceac4ecc76",
   "metadata": {},
   "source": [
    "---\n",
    "\n",
    "## Finding the critical value $t^{*}$ for a desired confidence level"
   ]
  },
  {
   "cell_type": "markdown",
   "id": "e8c64615-bac6-49fc-be7b-0f7a873ec8f5",
   "metadata": {},
   "source": [
    "---\n",
    "\n",
    "### Example 1\n",
    "\n",
    "**What is the critical value $t^{*}$ for constructing a $95\\%$ confidence interval for a mean from a sample size of $n=20$ observations?**"
   ]
  },
  {
   "cell_type": "code",
   "execution_count": 11,
   "id": "be1267d7-1b65-4855-8017-236fc011c64a",
   "metadata": {},
   "outputs": [
    {
     "data": {
      "text/latex": [
       "$t^* = 2.093$"
      ],
      "text/plain": [
       "<IPython.core.display.Latex object>"
      ]
     },
     "metadata": {},
     "output_type": "display_data"
    }
   ],
   "source": [
    "CL, n = .95, 20\n",
    "critical_value = t.ppf((1 - CL) / 2 + CL, df=n-1)\n",
    "percision = 3\n",
    "\n",
    "display(Latex(f\"$t^* = {round(critical_value, percision)}$\"))"
   ]
  },
  {
   "cell_type": "code",
   "execution_count": 12,
   "id": "7cdf4f34-4771-4293-88e3-55487b7aac7c",
   "metadata": {},
   "outputs": [
    {
     "data": {
      "text/plain": [
       "(-2.093024054408263, 2.093024054408263)"
      ]
     },
     "execution_count": 12,
     "metadata": {},
     "output_type": "execute_result"
    }
   ],
   "source": [
    "# Or\n",
    "CL, n = .95, 20\n",
    "t.interval(CL, df=n-1)"
   ]
  },
  {
   "cell_type": "markdown",
   "id": "1bdcc9a5-a551-4629-b98f-6dc5742b4536",
   "metadata": {
    "tags": []
   },
   "source": [
    "---\n",
    "\n",
    "## Calculating a t interval for a mean"
   ]
  },
  {
   "cell_type": "markdown",
   "id": "e40edbfd-b2d9-46b5-a0f8-962c163a6071",
   "metadata": {},
   "source": [
    "---\n",
    "\n",
    "### Example 1\n",
    "\n",
    "Ignacio is curious about the average age of cars in the commuter lot at his large university. He takes a random sample of $16$ cars and finds that their average age is $\\bar x=14.5$ years and their standard deviation is $s_x=4.6$ years. The distribution of ages in the sample was roughly symmetric with no obvious outliers.\n",
    "\n",
    "**Based on this sample, which of the following is a $90\\%$ confidence interval for the mean age of cars (in years) in this commuter lot?**"
   ]
  },
  {
   "cell_type": "code",
   "execution_count": 13,
   "id": "7e38d08f-9dda-462a-a28d-e5768f21984f",
   "metadata": {},
   "outputs": [
    {
     "data": {
      "text/plain": [
       "(12.48, 16.52)"
      ]
     },
     "execution_count": 13,
     "metadata": {},
     "output_type": "execute_result"
    }
   ],
   "source": [
    "CL, n, s_mu, s_sigma = .90, 16, 14.5, 4.6\n",
    "percision = 2\n",
    "\n",
    "SE = s_sigma / np.sqrt(n)\n",
    "CI_L, CI_R = t.interval(CL, df=n-1, loc=s_mu, scale=SE)\n",
    "CI_L, CI_R = round(CI_L, percision), round(CI_R, percision)\n",
    "(CI_L, CI_R)"
   ]
  },
  {
   "cell_type": "markdown",
   "id": "63efb588-43ac-413a-b2e3-0d921c5b6d40",
   "metadata": {},
   "source": [
    "---\n",
    "\n",
    "### Example 2\n",
    "\n",
    "A nutritionist wants to estimate the average caloric content of the burritos at a popular restaurant. They obtain a random sample of $14$ burritos and measure their caloric content. Their sample data are roughly symmetric with a mean of $700$ calories and a standard deviation of $50$ calories.\n",
    "\n",
    "**Based on this sample, which of the following is a $95\\%$ confidence interval for the mean caloric content of these burritos?**"
   ]
  },
  {
   "cell_type": "code",
   "execution_count": 14,
   "id": "8fc0362f-5fd7-410a-9488-de0b7e0a16b5",
   "metadata": {},
   "outputs": [
    {
     "data": {
      "text/latex": [
       "$700 \\pm 28.9$"
      ],
      "text/plain": [
       "<IPython.core.display.Latex object>"
      ]
     },
     "metadata": {},
     "output_type": "display_data"
    }
   ],
   "source": [
    "CL, n, s_mu, s_sigma = .95, 14, 700, 50\n",
    "critical_value = t.ppf((1 - CL) / 2 + CL, df=n-1)\n",
    "percision = 1\n",
    "\n",
    "SE = s_sigma / np.sqrt(n)\n",
    "MOE = critical_value * SE\n",
    "t.interval(CL, df=n-1, loc=s_mu, scale=SE)\n",
    "display(Latex(f\"${s_mu} \\pm {round(MOE, percision)}$\"))"
   ]
  },
  {
   "cell_type": "markdown",
   "id": "3a1b191b-3254-4c42-9dcf-c37359b2bb68",
   "metadata": {},
   "source": [
    "---\n",
    "\n",
    "## Confidence interval for a mean with paired data\n",
    "\n",
    "> [Making a t interval for paired data](https://www.khanacademy.org/math/statistics-probability/confidence-intervals-one-sample/estimating-population-mean/a/one-sample-t-interval-paired-data)\n",
    "\n",
    "In some studies, we make two observations on the same individual. For instance, we might look at each student's pre-test and post-test scores in a course. In other studies, we might make an observation on each of two similar individuals. For example, some medicine trials involve pairing similar subjects so one receives the medicine and the other receives a placebo.\n",
    "\n",
    "In both types of studies, we're working with _paired data_ (see also [Study Design - Experiments](./study_design.ipynb), and whenever we're working with paired data, we're typically interested in the difference between each pair—for example, the difference between the pre-test and the post-test data, or the difference between the medicine and the placebo data.\n",
    "\n",
    "If certain conditions are met, we can construct a $t$ interval to estimating the mean of these differences and draw conclusions.\n",
    "\n",
    "In this article, we'll be going through two examples of making a $t$ interval for paired data. Importantly, you'll have a chance to work through the second example on your own to ensure you've picked up on the main ideas."
   ]
  },
  {
   "cell_type": "markdown",
   "id": "6c930d60-2503-43d5-b9b5-11900647e0d1",
   "metadata": {},
   "source": [
    "---\n",
    "\n",
    "### Example 1\n",
    "\n",
    "A running magazine wanted to review two watches—watch A and watch B—that use global position systems (GPS) to calculate the distance someone runs. They noticed that the watches didn't usually agree on the distance someone traveled in a given run.\n",
    "\n",
    "The magazine took a random sample of 555 subscribers and asked them to run a $10$ kilometer route wearing both watches at the same time (they all agreed to participate). At the end of their runs, the participants recorded the distance each watch said they traveled. Here are the data (all distances are in kilometers):\n",
    "\n",
    "|Runner|1|2|3|4|5|\n",
    "|:-:|-:|-:|-:|-:|-:|\n",
    "|Watch A|9.8|9.8|10.1|10.1|10.2|\n",
    "|Watch B|10.1|10|10.2|9.9|10.1|\n",
    "\n",
    "**Construct a $95\\%$ confidence interval to estimate the mean difference in the distances reported by these watches. Does the interval suggest that there is a difference between the two watches?**"
   ]
  },
  {
   "cell_type": "markdown",
   "id": "539763cb-bd3d-4382-bedf-397bdb78bb58",
   "metadata": {},
   "source": [
    "---\n",
    "\n",
    "#### Step 1: Calculate the differences\n",
    "\n",
    "Even though it appears we have two sets of data—watch A and watch B—these data didn't come from two independent samples. The magazine took a single sample of $5$ runners, and each runner wore both watches, so this is a matched pairs design. The one set of data we're interested in is the _difference_ between watch A and watch B for each runner. Let's define this variable as $\\text{difference = B - A}$ and calculate the difference for each runner:"
   ]
  },
  {
   "cell_type": "code",
   "execution_count": 15,
   "id": "4bcff634-bc85-4fb6-adb8-2f355d04d13d",
   "metadata": {},
   "outputs": [
    {
     "data": {
      "text/html": [
       "<div>\n",
       "<style scoped>\n",
       "    .dataframe tbody tr th:only-of-type {\n",
       "        vertical-align: middle;\n",
       "    }\n",
       "\n",
       "    .dataframe tbody tr th {\n",
       "        vertical-align: top;\n",
       "    }\n",
       "\n",
       "    .dataframe thead th {\n",
       "        text-align: right;\n",
       "    }\n",
       "</style>\n",
       "<table border=\"1\" class=\"dataframe\">\n",
       "  <thead>\n",
       "    <tr style=\"text-align: right;\">\n",
       "      <th>Runner</th>\n",
       "      <th>1</th>\n",
       "      <th>2</th>\n",
       "      <th>3</th>\n",
       "      <th>4</th>\n",
       "      <th>5</th>\n",
       "    </tr>\n",
       "  </thead>\n",
       "  <tbody>\n",
       "    <tr>\n",
       "      <th>Watch A</th>\n",
       "      <td>9.8</td>\n",
       "      <td>9.8</td>\n",
       "      <td>10.1</td>\n",
       "      <td>10.1</td>\n",
       "      <td>10.2</td>\n",
       "    </tr>\n",
       "    <tr>\n",
       "      <th>Watch B</th>\n",
       "      <td>10.1</td>\n",
       "      <td>10.0</td>\n",
       "      <td>10.2</td>\n",
       "      <td>9.9</td>\n",
       "      <td>10.1</td>\n",
       "    </tr>\n",
       "  </tbody>\n",
       "</table>\n",
       "</div>"
      ],
      "text/plain": [
       "Runner      1     2     3     4     5\n",
       "Watch A   9.8   9.8  10.1  10.1  10.2\n",
       "Watch B  10.1  10.0  10.2   9.9  10.1"
      ]
     },
     "execution_count": 15,
     "metadata": {},
     "output_type": "execute_result"
    }
   ],
   "source": [
    "df = pd.DataFrame(\n",
    "    {'Watch A': [9.8, 9.8, 10.1, 10.1, 10.2],\n",
    "     'Watch B': [10.1, 10, 10.2, 9.9, 10.1]},\n",
    "    index=pd.Series([1, 2, 3, 4, 5], name='Runner')\n",
    ")\n",
    "df.transpose()"
   ]
  },
  {
   "cell_type": "code",
   "execution_count": 16,
   "id": "0ac8c1c3-b092-4d32-b33f-9a63bbf1afcc",
   "metadata": {},
   "outputs": [
    {
     "data": {
      "text/html": [
       "<div>\n",
       "<style scoped>\n",
       "    .dataframe tbody tr th:only-of-type {\n",
       "        vertical-align: middle;\n",
       "    }\n",
       "\n",
       "    .dataframe tbody tr th {\n",
       "        vertical-align: top;\n",
       "    }\n",
       "\n",
       "    .dataframe thead th {\n",
       "        text-align: right;\n",
       "    }\n",
       "</style>\n",
       "<table border=\"1\" class=\"dataframe\">\n",
       "  <thead>\n",
       "    <tr style=\"text-align: right;\">\n",
       "      <th>Runner</th>\n",
       "      <th>1</th>\n",
       "      <th>2</th>\n",
       "      <th>3</th>\n",
       "      <th>4</th>\n",
       "      <th>5</th>\n",
       "    </tr>\n",
       "  </thead>\n",
       "  <tbody>\n",
       "    <tr>\n",
       "      <th>Watch A</th>\n",
       "      <td>9.8</td>\n",
       "      <td>9.8</td>\n",
       "      <td>10.1</td>\n",
       "      <td>10.1</td>\n",
       "      <td>10.2</td>\n",
       "    </tr>\n",
       "    <tr>\n",
       "      <th>Watch B</th>\n",
       "      <td>10.1</td>\n",
       "      <td>10.0</td>\n",
       "      <td>10.2</td>\n",
       "      <td>9.9</td>\n",
       "      <td>10.1</td>\n",
       "    </tr>\n",
       "    <tr>\n",
       "      <th>Difference(B - A)</th>\n",
       "      <td>0.3</td>\n",
       "      <td>0.2</td>\n",
       "      <td>0.1</td>\n",
       "      <td>-0.2</td>\n",
       "      <td>-0.1</td>\n",
       "    </tr>\n",
       "  </tbody>\n",
       "</table>\n",
       "</div>"
      ],
      "text/plain": [
       "Runner                1     2     3     4     5\n",
       "Watch A             9.8   9.8  10.1  10.1  10.2\n",
       "Watch B            10.1  10.0  10.2   9.9  10.1\n",
       "Difference(B - A)   0.3   0.2   0.1  -0.2  -0.1"
      ]
     },
     "execution_count": 16,
     "metadata": {},
     "output_type": "execute_result"
    }
   ],
   "source": [
    "df['Difference(B - A)'] = df['Watch B'] - df['Watch A']\n",
    "df.transpose()"
   ]
  },
  {
   "cell_type": "markdown",
   "id": "ebb05c71-7c25-456e-8ad6-5829b5cb0db3",
   "metadata": {},
   "source": [
    "**Key idea:** When dealing with paired data, we're most interested in the distribution of the differences."
   ]
  },
  {
   "cell_type": "markdown",
   "id": "8117e471-7bd8-4ae2-aced-bf28aa246503",
   "metadata": {},
   "source": [
    "---\n",
    "\n",
    "#### Step 2: Check conditions\n",
    "\n",
    "We want to use these $n=5$ differences to construct a confidence interval for the mean difference. Since we don't know the population standard deviation of the differences, we'll have to use the sample standard deviation in its place. This makes it appropriate to use a $t$ interval instead of a $z$ interval to estimate the mean difference. Let's check the conditions for making a $t$ interval.\n",
    "\n",
    "- Random: The magazine took a random sample of their subscribers.\n",
    "- Normal: Since our sample of $n=5$ runners is small, we need to plot the data. The differences are roughly symmetric with no outliers, so it should be safe to proceed.\n",
    "- Independent: It's reasonable to assume independence between each runner's measurements. They were randomly selected, and they shouldn't influence each other's results."
   ]
  },
  {
   "cell_type": "markdown",
   "id": "b87f971e-635d-4582-b82b-98edc27845a0",
   "metadata": {},
   "source": [
    "---\n",
    "\n",
    "#### Step 3: Construct the interval\n",
    "\n",
    "Here are the data:"
   ]
  },
  {
   "cell_type": "code",
   "execution_count": 17,
   "id": "d2438533-e44e-42b5-915b-49fb607bc9fc",
   "metadata": {},
   "outputs": [
    {
     "data": {
      "text/html": [
       "<div>\n",
       "<style scoped>\n",
       "    .dataframe tbody tr th:only-of-type {\n",
       "        vertical-align: middle;\n",
       "    }\n",
       "\n",
       "    .dataframe tbody tr th {\n",
       "        vertical-align: top;\n",
       "    }\n",
       "\n",
       "    .dataframe thead th {\n",
       "        text-align: right;\n",
       "    }\n",
       "</style>\n",
       "<table border=\"1\" class=\"dataframe\">\n",
       "  <thead>\n",
       "    <tr style=\"text-align: right;\">\n",
       "      <th>Runner</th>\n",
       "      <th>1</th>\n",
       "      <th>2</th>\n",
       "      <th>3</th>\n",
       "      <th>4</th>\n",
       "      <th>5</th>\n",
       "    </tr>\n",
       "  </thead>\n",
       "  <tbody>\n",
       "    <tr>\n",
       "      <th>Watch A</th>\n",
       "      <td>9.8</td>\n",
       "      <td>9.8</td>\n",
       "      <td>10.1</td>\n",
       "      <td>10.1</td>\n",
       "      <td>10.2</td>\n",
       "    </tr>\n",
       "    <tr>\n",
       "      <th>Watch B</th>\n",
       "      <td>10.1</td>\n",
       "      <td>10.0</td>\n",
       "      <td>10.2</td>\n",
       "      <td>9.9</td>\n",
       "      <td>10.1</td>\n",
       "    </tr>\n",
       "    <tr>\n",
       "      <th>Difference(B - A)</th>\n",
       "      <td>0.3</td>\n",
       "      <td>0.2</td>\n",
       "      <td>0.1</td>\n",
       "      <td>-0.2</td>\n",
       "      <td>-0.1</td>\n",
       "    </tr>\n",
       "  </tbody>\n",
       "</table>\n",
       "</div>"
      ],
      "text/plain": [
       "Runner                1     2     3     4     5\n",
       "Watch A             9.8   9.8  10.1  10.1  10.2\n",
       "Watch B            10.1  10.0  10.2   9.9  10.1\n",
       "Difference(B - A)   0.3   0.2   0.1  -0.2  -0.1"
      ]
     },
     "execution_count": 17,
     "metadata": {},
     "output_type": "execute_result"
    }
   ],
   "source": [
    "df.transpose()"
   ]
  },
  {
   "cell_type": "markdown",
   "id": "45b11c25-c4e4-4b8a-b17a-abd531dee0e9",
   "metadata": {},
   "source": [
    "Here are the summary statistics:"
   ]
  },
  {
   "cell_type": "code",
   "execution_count": 18,
   "id": "7870fb3c-d188-4ce0-b7c9-18e1a5eac30b",
   "metadata": {},
   "outputs": [
    {
     "data": {
      "text/html": [
       "<div>\n",
       "<style scoped>\n",
       "    .dataframe tbody tr th:only-of-type {\n",
       "        vertical-align: middle;\n",
       "    }\n",
       "\n",
       "    .dataframe tbody tr th {\n",
       "        vertical-align: top;\n",
       "    }\n",
       "\n",
       "    .dataframe thead th {\n",
       "        text-align: right;\n",
       "    }\n",
       "</style>\n",
       "<table border=\"1\" class=\"dataframe\">\n",
       "  <thead>\n",
       "    <tr style=\"text-align: right;\">\n",
       "      <th></th>\n",
       "      <th>count</th>\n",
       "      <th>mean</th>\n",
       "      <th>std</th>\n",
       "      <th>min</th>\n",
       "      <th>25%</th>\n",
       "      <th>50%</th>\n",
       "      <th>75%</th>\n",
       "      <th>max</th>\n",
       "    </tr>\n",
       "  </thead>\n",
       "  <tbody>\n",
       "    <tr>\n",
       "      <th>Watch A</th>\n",
       "      <td>5.0</td>\n",
       "      <td>10.00</td>\n",
       "      <td>0.187083</td>\n",
       "      <td>9.8</td>\n",
       "      <td>9.8</td>\n",
       "      <td>10.1</td>\n",
       "      <td>10.1</td>\n",
       "      <td>10.2</td>\n",
       "    </tr>\n",
       "    <tr>\n",
       "      <th>Watch B</th>\n",
       "      <td>5.0</td>\n",
       "      <td>10.06</td>\n",
       "      <td>0.114018</td>\n",
       "      <td>9.9</td>\n",
       "      <td>10.0</td>\n",
       "      <td>10.1</td>\n",
       "      <td>10.1</td>\n",
       "      <td>10.2</td>\n",
       "    </tr>\n",
       "    <tr>\n",
       "      <th>Difference(B - A)</th>\n",
       "      <td>5.0</td>\n",
       "      <td>0.06</td>\n",
       "      <td>0.207364</td>\n",
       "      <td>-0.2</td>\n",
       "      <td>-0.1</td>\n",
       "      <td>0.1</td>\n",
       "      <td>0.2</td>\n",
       "      <td>0.3</td>\n",
       "    </tr>\n",
       "  </tbody>\n",
       "</table>\n",
       "</div>"
      ],
      "text/plain": [
       "                   count   mean       std  min   25%   50%   75%   max\n",
       "Watch A              5.0  10.00  0.187083  9.8   9.8  10.1  10.1  10.2\n",
       "Watch B              5.0  10.06  0.114018  9.9  10.0  10.1  10.1  10.2\n",
       "Difference(B - A)    5.0   0.06  0.207364 -0.2  -0.1   0.1   0.2   0.3"
      ]
     },
     "execution_count": 18,
     "metadata": {},
     "output_type": "execute_result"
    }
   ],
   "source": [
    "df.describe().transpose()"
   ]
  },
  {
   "cell_type": "markdown",
   "id": "aaba849e-6737-4104-af4f-9e7e4373e8a1",
   "metadata": {},
   "source": [
    "Since we want to construct a confidence interval for the mean difference, we only need the summary statistics for the differences.\n",
    "\n",
    "We'll use the formula for a one-sample $t$ interval for a mean:\n",
    "\n",
    "$\\displaystyle \\text{statistic} \\pm \\text{(criticial value)(standard deviation of statistic)}$\n",
    "\n",
    "$\\displaystyle \\bar x_{\\text{Diff}} \\pm t^{*} \\cdot \\frac{s_{\\text{Diff}}}{\\sqrt{n}}$\n",
    "\n",
    "**Components of formula:**\n",
    "\n",
    "Our statistic is the sample mean $\\bar x_{\\text{Diff}}=0.06$.\n",
    "\n",
    "Our sample size is $n=5$ runners.\n",
    "\n",
    "Our sample standard deviation is $s_{\\text{Diff}}=0.21\\text{ km}$.\n",
    "\n",
    "Our degrees of freedom is $\\text{df}=5-1=4$, so for $95\\%$ confidence our critical value is $t^{*}=2.776$."
   ]
  },
  {
   "cell_type": "code",
   "execution_count": 19,
   "id": "ae009513-90fa-4001-9c97-1cfb59d2c2e9",
   "metadata": {},
   "outputs": [
    {
     "data": {
      "text/plain": [
       "(-0.2, 0.32)"
      ]
     },
     "execution_count": 19,
     "metadata": {},
     "output_type": "execute_result"
    }
   ],
   "source": [
    "CL, n, s_mu, s_sigma = .95, df.shape[0], df['Difference(B - A)'].mean(), df['Difference(B - A)'].std()\n",
    "percision = 2\n",
    "\n",
    "SE = s_sigma / np.sqrt(n)\n",
    "CI_L, CI_R = t.interval(CL, df=n-1, loc=s_mu, scale=SE)\n",
    "CI_L, CI_R = round(CI_L, percision), round(CI_R, percision)\n",
    "(CI_L, CI_R)"
   ]
  },
  {
   "cell_type": "markdown",
   "id": "eede81e1-f14f-42b3-86ff-bdba93d65e3d",
   "metadata": {},
   "source": [
    "---\n",
    "\n",
    "#### Step 4: Interpret the interval\n",
    "\n",
    "**Does the interval suggest that there is a difference between the two watches?**\n",
    "\n",
    "We're $95\\%$ confident that the interval $(-0.20, 0.32)$ captures the mean difference between the distances (in kilometers) reported by the watches on this sort of run. Notice that the interval contains $0\\text{ km}$—which represents no difference—so it's plausible that there is no difference between the distances reported by Watch A and Watch B.\n",
    "\n",
    "If the entire interval had been above $0$ (all positive values), or if it had been entirely below $0$ (all negative values), then it would have suggested a difference between the two watches."
   ]
  },
  {
   "cell_type": "markdown",
   "id": "81c320de-c738-4c67-9934-a42365879a14",
   "metadata": {},
   "source": [
    "---\n",
    "\n",
    "## Interpreting a confidence interval for a mean\n",
    "\n",
    "> [Interpreting a confidence interval for a mean](https://www.khanacademy.org/math/statistics-probability/confidence-intervals-one-sample/estimating-population-mean/a/interpret-one-sample-t-interval-mean)\n",
    "\n",
    "After we build a confidence interval for a mean, it's important to be able to interpret what the interval tells us about the population and what it doesn't tell us.\n",
    "\n",
    "A confidence interval for a mean gives us a range of plausible values for the population mean. If a confidence interval does not include a particular value, we can say that it is not likely that the particular value is the true population mean. However, even if a particular value is within the interval, we shouldn't conclude that the population mean equals that specific value.\n",
    "\n",
    "Let's look at few examples that demonstrate how to interpret a confidence interval for a mean."
   ]
  },
  {
   "cell_type": "markdown",
   "id": "4942ecd6-f84a-49e9-93c0-3dbca2b3ce73",
   "metadata": {},
   "source": [
    "---\n",
    "\n",
    "### Example 1\n",
    "\n",
    "Felix is a quality control expert at a factory that paints car parts. Their painting process consists of a primer coat, color coat, and clear coat. For a certain part, these layers have a combined target thickness of $150$ microns. Felix measured the thickness of $50$ randomly selected points on one of these parts to see if it was painted properly. His sample had a mean thickness of $\\bar x=148$ microns and a standard deviation of $s_x=3.3$ microns.\n",
    "\n",
    "A $95\\%$ confidence interval for the mean thickness based on his data is $(147.1,148.9)$.\n",
    "\n",
    "**Based on his interval, is it plausible that this part's average thickness agrees with the target value?**"
   ]
  },
  {
   "cell_type": "markdown",
   "id": "f76ca375-8ddc-4122-8ec2-d46020fa659b",
   "metadata": {},
   "source": [
    "No, it isn't. The interval says that the plausible values for the true mean thickness on this part are between $147.1$ and $148. 9$ microns. Since this interval doesn't contain $150$ microns, it doesn't seem plausible that this part's average thickness agrees with the target value. In other words, the entire interval is below the target value of $150$ microns, so this part's mean thickness is likely below the target."
   ]
  },
  {
   "cell_type": "markdown",
   "id": "7d95e15b-15a3-48e6-aad1-70f4b6f1563a",
   "metadata": {},
   "source": [
    "---\n",
    "\n",
    "### Example 2\n",
    "\n",
    "Martina read that the average graduate student is $33$ years old. She wanted to estimate the mean age of graduate students at her large university, so she took a random sample of $30$ graduate students. She found that their mean age was $\\bar x=31.8$ and the standard deviation was $s_x=4.3$ years. A $95\\%$ confidence interval for the mean based on her data was $(30.2,33.4)$.\n",
    "\n",
    "**Based on this interval, is it plausible that the mean age of all graduate students at her university is also $33$ years?**"
   ]
  },
  {
   "cell_type": "markdown",
   "id": "291e5dbc-41ab-4c8d-a366-45a2432a5812",
   "metadata": {},
   "source": [
    "Yes. Since $33$ is within the interval, it is a plausible value for the mean age of the entire population of graduate students at her university."
   ]
  },
  {
   "cell_type": "markdown",
   "id": "829099b6-f992-4196-ac7d-bc3e67ade03e",
   "metadata": {},
   "source": [
    "---\n",
    "\n",
    "## Sample size and margin of error in a confidence interval for a mean"
   ]
  },
  {
   "cell_type": "markdown",
   "id": "e3319afd-df8c-43e7-a22b-706572758967",
   "metadata": {},
   "source": [
    "---\n",
    "\n",
    "### Example 1\n",
    "\n",
    "Nadia wants to estimate the mean driving range for her company's new electric vehicle. She'll sample vehicles and measure each of their driving ranges to construct a confidence interval for the mean driving range. She wants the margin of error to be no more than $10$ kilometers at a $90\\%$ level of confidence. A pilot study suggests that the driving ranges for this type of vehicle have a standard deviation of $15$ kilometers.\n",
    "\n",
    "**Which of these is the smallest approximate sample size required to obtain the desired margin of error?**"
   ]
  },
  {
   "cell_type": "code",
   "execution_count": 20,
   "id": "8d554854-411e-4814-82bf-b8e7781b1f71",
   "metadata": {},
   "outputs": [
    {
     "data": {
      "text/plain": [
       "7"
      ]
     },
     "execution_count": 20,
     "metadata": {},
     "output_type": "execute_result"
    }
   ],
   "source": [
    "CL, sd, MOE = .90, 15, 10\n",
    "# Since we know population sd, we should use z interval instead of t interval\n",
    "critical_value = norm.ppf((1 - CL) / 2 + CL)\n",
    "percision = 2\n",
    "\n",
    "# MOE <= 10\n",
    "# critical_value * (sd / n**0.5) <= MOE\n",
    "# (critical_value * sd / MOE)**2 <= n\n",
    "n = (critical_value * sd / MOE)**2\n",
    "\n",
    "ceil(n)"
   ]
  },
  {
   "cell_type": "markdown",
   "id": "f2e3b5f1-1ac7-4d3c-8cb7-7f90b0bf2a22",
   "metadata": {},
   "source": [
    "---\n",
    "\n",
    "### Example 2\n",
    "\n",
    "Dr. Ashby is studying the heart rate of adult men. Preliminary data suggests that the standard deviation of heart rates for adult men is $\\sigma=7.5$ beats per minute (bpm). He plans on taking a sample of $n$ men to construct a $99\\%$ confidence interval for the mean heart rate. He wants the margin of error to be no more than $3\\text{ bpm}$.\n",
    "\n",
    "**Which of these is the smallest approximate sample size required to obtain the desired margin of error?**"
   ]
  },
  {
   "cell_type": "code",
   "execution_count": 21,
   "id": "833df2b3-3dab-4070-a454-3935470d8431",
   "metadata": {},
   "outputs": [
    {
     "data": {
      "text/plain": [
       "42"
      ]
     },
     "execution_count": 21,
     "metadata": {},
     "output_type": "execute_result"
    }
   ],
   "source": [
    "CL, sd, MOE = .99, 7.5, 3\n",
    "# Since we know population sd, we should use z interval instead of t interval\n",
    "critical_value = norm.ppf((1 - CL) / 2 + CL)\n",
    "percision = 2\n",
    "\n",
    "# MOE <= 10\n",
    "# critical_value * (sd / n**0.5) <= MOE\n",
    "# (critical_value * sd / MOE)**2 <= n\n",
    "n = (critical_value * sd / MOE)**2\n",
    "\n",
    "ceil(n)"
   ]
  },
  {
   "cell_type": "code",
   "execution_count": null,
   "id": "bac49f1f-25ab-4d9f-ac10-5cae7d510023",
   "metadata": {},
   "outputs": [],
   "source": []
  }
 ],
 "metadata": {
  "kernelspec": {
   "display_name": "statistics-and-probability",
   "language": "python",
   "name": "statistics-and-probability"
  },
  "language_info": {
   "codemirror_mode": {
    "name": "ipython",
    "version": 3
   },
   "file_extension": ".py",
   "mimetype": "text/x-python",
   "name": "python",
   "nbconvert_exporter": "python",
   "pygments_lexer": "ipython3",
   "version": "3.9.10"
  }
 },
 "nbformat": 4,
 "nbformat_minor": 5
}
