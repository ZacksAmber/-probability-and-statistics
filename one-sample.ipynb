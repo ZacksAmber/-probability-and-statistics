{
 "cells": [
  {
   "cell_type": "code",
   "execution_count": 1,
   "id": "a3ebaf84-d0a0-4fc2-9572-36aed7a95c3e",
   "metadata": {},
   "outputs": [],
   "source": [
    "import numpy as np\n",
    "import pandas as pd\n",
    "import scipy.stats as st\n",
    "\n",
    "from statsmodels.stats import proportion\n",
    "from math import ceil\n",
    "from IPython.display import display, Latex"
   ]
  },
  {
   "cell_type": "markdown",
   "id": "81f626f7-99f6-4230-adaf-cfd224db4da7",
   "metadata": {},
   "source": [
    "# Reference\n",
    "\n",
    "> [Unit: Significance tests (hypothesis testing)](https://www.khanacademy.org/math/statistics-probability/significance-tests-one-sample)"
   ]
  },
  {
   "cell_type": "markdown",
   "id": "887426bb-a79e-432a-ac20-5fe62231145e",
   "metadata": {},
   "source": [
    "---\n",
    "\n",
    "# The idea of significance tests\n",
    "\n",
    "> [Hypothesis Testing](https://en.wikipedia.org/wiki/Statistical_hypothesis_testing)\n",
    "\n",
    "A **statistical hypothesis test** is a method of [statistical inference](https://en.wikipedia.org/wiki/Statistical_inference \"Statistical inference\") used to determine a possible conclusion from two different, and likely conflicting, hypotheses.\n",
    "\n",
    "In a statistical hypothesis test, a [null hypothesis](https://en.wikipedia.org/wiki/Null_hypothesis \"Null hypothesis\") and an [alternative hypothesis](https://en.wikipedia.org/wiki/Alternative_hypothesis \"Alternative hypothesis\") is proposed for the probability distribution of the data. If the sample obtained has a probability of occurrence less than the pre-specified threshold probability, the [significance level](https://en.wikipedia.org/wiki/Significance_level \"Significance level\"), given the null hypothesis is true, the difference between the sample and the null hypothesis is deemed [_statistically significant_](https://en.wikipedia.org/wiki/Statistically_significant \"Statistically significant\"). The hypothesis test may then lead to the rejection of null hypothesis and acceptance of alternate hypothesis.\n",
    "\n",
    "The process of distinguishing between the null hypothesis and the alternative hypothesis is aided by considering [Type I error](https://en.wikipedia.org/wiki/Type_I_and_type_II_errors \"Type I and type II errors\") and [Type II error](https://en.wikipedia.org/wiki/Type_I_and_type_II_errors \"Type I and type II errors\") which are controlled by the pre-specified significance level.\n",
    "\n",
    "Hypothesis tests based on statistical significance are another way of expressing [confidence intervals](https://en.wikipedia.org/wiki/Confidence_interval \"Confidence interval\") (more precisely, confidence sets). In other words, every hypothesis test based on significance can be obtained via a confidence interval, and every confidence interval can be obtained via a hypothesis test based on significance.[[1]](https://en.wikipedia.org/wiki/Statistical_hypothesis_testing#cite_note-1)"
   ]
  },
  {
   "cell_type": "markdown",
   "id": "a39b5413-565b-4185-963e-9ca350d8a1c6",
   "metadata": {},
   "source": [
    "---\n",
    "\n",
    "## Simple hypothesis testing"
   ]
  },
  {
   "cell_type": "markdown",
   "id": "cda2729f-1553-430c-8c57-ebe60c6deb9d",
   "metadata": {},
   "source": [
    "---\n",
    "\n",
    "### Example 1\n",
    "\n",
    "Every day Ahmet buys a scratch-off lottery ticket with a $40\\%$ chance of winning some prize. He noticed that whenever he wears his red shirt he usually wins. He decided to keep track of his winnings while wearing the shirt and found that he won $3$ out of $3$ times.\n",
    "\n",
    "Let's test the hypothesis that **Ahmet's chance of winning while wearing the shirt is $40\\%$ as always** versus the alternative that the chance is somehow _greater_.\n",
    "\n",
    "**Assuming the hypothesis is correct, what is the probability of Ahmet winning $3$ times out of $3$? Round your answer, if necessary, to the nearest tenth of a percent.**"
   ]
  },
  {
   "cell_type": "code",
   "execution_count": 2,
   "id": "37341dc0-1b52-4e12-a13a-dbd308e80dde",
   "metadata": {},
   "outputs": [
    {
     "data": {
      "text/latex": [
       "$P(X=3 | H_0) = 0.064$"
      ],
      "text/plain": [
       "<IPython.core.display.Latex object>"
      ]
     },
     "metadata": {},
     "output_type": "display_data"
    }
   ],
   "source": [
    "display(Latex(f\"$P(X=3 | H_{0}) = {round(st.binom.pmf(3, 3, 0.4), 3)}$\"))"
   ]
  },
  {
   "cell_type": "markdown",
   "id": "7582c572-6d55-407a-886f-c950bc8ba012",
   "metadata": {},
   "source": [
    "Let's agree that if the observed outcome has a probability _less_ than $1\\%$ under the tested hypothesis, we will reject the hypothesis.\n",
    "\n",
    "**What should we conclude regarding the hypothesis?**"
   ]
  },
  {
   "cell_type": "markdown",
   "id": "d9d87bf2-1e24-4735-a99a-a8f1f67cbcbe",
   "metadata": {},
   "source": [
    "We cannot reject the hypothesis."
   ]
  },
  {
   "cell_type": "markdown",
   "id": "2a8f8af5-e2a3-40d9-80da-79c2d9af3351",
   "metadata": {},
   "source": [
    "Explain:\n",
    "    \n",
    "Let’s find the probability of winning $3$ times out of $3$.\n",
    "\n",
    "Assuming the hypothesis is true, the probability of Ahmet winning a single time is $40\\%$ (meaning $0.40$). Since we are looking for the probability of this happening $3$ times, we need to multiply $0.40$ by itself $3$ times.\n",
    "\n",
    "We can use the calculator to find that $0.4^{3}$, cubed is $0.064$, which is $6.4\\%$.\n",
    "\n",
    "The probability we got is higher than $1\\%$. Therefore, _we cannot reject the hypothesis_.\n",
    "\n",
    "In other words, the probability of the observed outcome under the tested hypothesis is not small enough, according to the threshold we set, to support rejecting the hypothesis. However, if Ahmet keeps winning while wearing the red shirt, we might reconsider the hypothesis.\n",
    "\n",
    "We were testing the hypothesis that Ahmet's chance of winning while wearing the shirt is $40\\%$ as always.\n",
    "\n",
    "Assuming the hypothesis is correct, the probability of him winning $3$ times out of $3$ is $6.4\\%$.\n",
    "\n",
    "Therefore, we _cannot_ reject the hypothesis."
   ]
  },
  {
   "cell_type": "markdown",
   "id": "062bcfb3-9c4c-4d66-bdfe-c115e1afe34f",
   "metadata": {},
   "source": [
    "---\n",
    "\n",
    "### Example 2\n",
    "\n",
    "Roy’s Toys Company received a huge shipment of rubber duckies from a factory. The factory guaranteed Roy that the percentage of defective toys won’t exceed $1.5\\%$, but Roy suspects it does. He took a random sample of $200$ duckies, and found that $3\\%$ of them were defective.\n",
    "\n",
    "Let's test the hypothesis that **the actual percentage of defective duckies is $1.5\\%$** versus the alternative that the actual percentage is _higher_ than that.\n",
    "\n",
    "The table below sums up the results of $1000$ simulations, each simulating a sample of $200$ duckies, assuming there are $1.5\\%$ defective duckies.\n",
    "\n",
    "|Measured % of defective duckies|Frequency|\n",
    "|:-:|:-:|\n",
    "|0|54|\n",
    "|0.5|132|\n",
    "|1|225|\n",
    "|1.5|241|\n",
    "|2|162|\n",
    "|2.5|108|\n",
    "|3|50|\n",
    "|3.5|21|\n",
    "|4|4|\n",
    "|4.5|3|\n",
    "\n",
    "**According to the simulations, what is the probability of getting a sample with $3\\%$ defective duckies or more?**\n"
   ]
  },
  {
   "cell_type": "code",
   "execution_count": 3,
   "id": "937d1425-6fc1-4950-bf34-5c3840a7c368",
   "metadata": {},
   "outputs": [
    {
     "data": {
      "text/latex": [
       "$P(X \\geq 3\\% | H_0) = 0.078$"
      ],
      "text/plain": [
       "<IPython.core.display.Latex object>"
      ]
     },
     "metadata": {},
     "output_type": "display_data"
    }
   ],
   "source": [
    "display(Latex(f\"$P(X \\geq 3\\% | H_{0}) = {round((50 + 21 + 4 + 3) / 1000, 3)}$\"))"
   ]
  },
  {
   "cell_type": "markdown",
   "id": "804114c7-72b0-4c59-9f57-99163eaaee3b",
   "metadata": {},
   "source": [
    "We cannot reject the hypothesis."
   ]
  },
  {
   "cell_type": "markdown",
   "id": "9917d52d-5885-43e4-b632-3cbd7fa8097a",
   "metadata": {},
   "source": [
    "Explain:\n",
    "    \n",
    "According to the table, out of $1000$ simulated samples:\n",
    "\n",
    "- $50$ had $3\\%$ defective duckies\n",
    "- $21$ had $3.5\\%$ defective duckies\n",
    "- $4$ had $4\\%$ defective duckies\n",
    "- $3$ had $4.5\\%$ defective duckies\n",
    "\n",
    "In total, these sum up to $78$ simulations out of $1000$. Therefore, the simulations imply that the probability of having a sample with $3\\%$ defective duckies or more is:\n",
    "\n",
    "$\\displaystyle \\frac{78}{1000}=7.8\\%$\n",
    "\n",
    "The probability we got is higher than $1\\%$. Therefore, _we cannot reject the hypothesis_.\n",
    "\n",
    "In other words, the probability of the observed outcome under the tested hypothesis is not small enough, according to the threshold we set, to support rejecting the hypothesis. A larger sample would have given more decisive results.\n",
    "\n",
    "We were testing the hypothesis that the actual percentage of defective duckies is $1.5\\%$.\n",
    "\n",
    "Assuming the hypothesis is correct, the probability of getting a sample with $3\\%$ defective duckies or more is $7.8\\%$.\n",
    "\n",
    "Therefore, we _cannot_ reject the hypothesis.\n",
    "\n",
    "\n",
    "Let's agree that if the observed outcome has a probability _less_ than $1\\%$ under the tested hypothesis, we will reject the hypothesis.\n",
    "\n",
    "**What should we conclude regarding the hypothesis?**\n",
    "\n"
   ]
  },
  {
   "cell_type": "markdown",
   "id": "56cbaba7-315b-4548-ba6e-9aaa4d719cd6",
   "metadata": {},
   "source": [
    "---\n",
    "\n",
    "## Writing null and alternative hypotheses"
   ]
  },
  {
   "cell_type": "markdown",
   "id": "04a3969a-65e3-4623-b463-547643a32403",
   "metadata": {},
   "source": [
    "---\n",
    "\n",
    "### Example 1\n",
    "\n",
    "A healthcare provider saw that $48\\%$ of their members received their flu shot in a recent year. The healthcare provider tried a new advertising strategy in the following year, and they took a sample of members to test if the proportion who received their flu shot had changed.\n",
    "\n",
    "**What are appropriate hypotheses for their significance test?**"
   ]
  },
  {
   "cell_type": "markdown",
   "id": "6912f269-75c8-4aab-8df2-8ee4414e083a",
   "metadata": {},
   "source": [
    "$H_{0}: p = 48\\%$\n",
    "\n",
    "$H_{a}: p \\neq 48\\%$\n",
    "\n",
    "(where $p$ is the proportion of members who received the flu shot)"
   ]
  },
  {
   "cell_type": "markdown",
   "id": "25fdb994-ada4-47f9-a96f-6d4810414361",
   "metadata": {},
   "source": [
    "---\n",
    "\n",
    "### Example 2\n",
    "\n",
    "A restaurant owner installed a new automated drink machine. The machine is designed to dispense $530\\text{ mL}$ of liquid on the medium size setting. The owner suspects that the machine may be dispensing too much in medium drinks. They decide to take a sample of $30$ medium drinks to see if the average amount is significantly greater than $530\\text{ mL}$.\n",
    "\n",
    "**What are appropriate hypotheses for their significance test?**"
   ]
  },
  {
   "cell_type": "markdown",
   "id": "e49cd815-ff01-4649-aca8-dd4adc0c3dcc",
   "metadata": {},
   "source": [
    "$H_{0}: \\mu = 530$\n",
    "\n",
    "$H_{a}: \\mu > 530$\n",
    "\n",
    "(where $\\mu$ is the average amount of liquid dispensed on this setting)"
   ]
  },
  {
   "cell_type": "markdown",
   "id": "014a7db3-0eaf-4096-b702-a46fc8f6908a",
   "metadata": {},
   "source": [
    "---\n",
    "\n",
    "## Estimating P-values from simulations\n",
    "\n",
    "> [p-value](https://en.wikipedia.org/wiki/P-value)\n",
    "\n",
    "In [null-hypothesis significance testing](https://en.wikipedia.org/wiki/Statistical_hypothesis_testing \"Statistical hypothesis testing\"), the **_p_-value**[[note 1]](https://en.wikipedia.org/wiki/P-value#cite_note-2) is the probability of obtaining test results at least as extreme as the [results actually observed](https://en.wikipedia.org/wiki/Realization_(probability) \"Realization (probability)\"), under the assumption that the [null hypothesis](https://en.wikipedia.org/wiki/Null_hypothesis \"Null hypothesis\") is correct.[[2]](https://en.wikipedia.org/wiki/P-value#cite_note-3)[[3]](https://en.wikipedia.org/wiki/P-value#cite_note-ASA-4) A very small _p_-value means that such an extreme observed [outcome](https://en.wikipedia.org/wiki/Outcome_(probability) \"Outcome (probability)\") would be very unlikely under the null hypothesis. Reporting _p_-values of statistical tests is common practice in [academic publications](https://en.wikipedia.org/wiki/Academic_publishing \"Academic publishing\") of many quantitative fields. Since the precise meaning of _p_-value is hard to grasp, [misuse is widespread](https://en.wikipedia.org/wiki/Misuse_of_p-values \"Misuse of p-values\") and has been a major topic in [Metascience](https://en.wikipedia.org/wiki/Metascience \"Metascience\").[[4]](https://en.wikipedia.org/wiki/P-value#cite_note-5)[[5]](https://en.wikipedia.org/wiki/P-value#cite_note-6)"
   ]
  },
  {
   "cell_type": "markdown",
   "id": "95070615-b26b-4310-bc41-0089cd7dac40",
   "metadata": {},
   "source": [
    "---\n",
    "\n",
    "### Example 1: One-tailed\n",
    "\n",
    "An employee at an aquarium monitors how much their sea otters eat. The amount of food a particular otter eats daily is approximately normally distributed with a mean of $17$ pounds and a standard deviation of $1$ pound. They suspected this otter was not eating enough, so they took a random sample $n=10$ days and observed a sample mean of $\\bar x=16.5$ pounds of food per day.\n",
    "\n",
    "To see how likely a sample like this was to occur by random chance alone, the employee performed a simulation. They simulated $40$ samples of $n=10$ values from a normal population with a mean of $17$ pounds and a standard deviation of $1$ pound. They recorded the mean of the values in each sample. Here are the sample means from their $40$ samples:\n",
    "\n",
    "![](https://raw.githubusercontent.com/ZacksAmber/PicGo/master/img/20220426111403.png)\n",
    "\n",
    "They want to test $H_0: \\mu=17 \\text{ lbs}$ vs. $H_\\text{a}: \\mu<17 \\text{ lbs}$ where $\\mu$ is the true mean amount of food per day.\n",
    "\n",
    "**Based on these simulated results, what is the approximate $p$-value of the test?**  \n",
    "_Note: The sample result was $\\bar x=16.5 \\text{ lbs}$._"
   ]
  },
  {
   "cell_type": "markdown",
   "id": "c599766d-1be6-4236-9427-704bcaecdc0f",
   "metadata": {},
   "source": [
    "$\\displaystyle p\\text{-value} \\approx \\frac{5}{40} \\approx 0.125$"
   ]
  },
  {
   "cell_type": "markdown",
   "id": "a934bcf1-f283-4030-ac8a-b727fdf05c43",
   "metadata": {},
   "source": [
    "Explain:\n",
    "    \n",
    "The $n=10$ days in the sample had a mean of $\\bar x=16.5\\text{ lbs}$.\n",
    "\n",
    "Since the alternative hypothesis is $H_\\text{a}:\\mu<17\\text{ lbs}$, we can find the approximate $p$-value of this result by looking at how often a sample result _as low or lower than_ $16.5\\text{ lbs}$ occurred in the simulation.\n",
    "\n",
    "The simulation produced a sample mean at or below $16.5\\text{ lbs}$t in $5$ out of $40$ samples:\n",
    "\n",
    "![](https://raw.githubusercontent.com/ZacksAmber/PicGo/master/img/20220426112152.png)\n",
    "\n",
    "$\\displaystyle p-\\text{value} \\approx \\frac{5}{40} \\approx 0.125$\n",
    "\n",
    "This $p$-value says that when we sample $10$ values from a normal population with a mean of $17\\text{ lbs}$ and standard deviation of $1\\text{ lb}$, there is about a $12.5\\%$ chance that we see a sample mean as low or lower than $16.5\\text{ lbs}$."
   ]
  },
  {
   "cell_type": "markdown",
   "id": "a07e93f9-a735-43c6-b1b6-9e79c07296e7",
   "metadata": {},
   "source": [
    "---\n",
    "\n",
    "### Example 2: Two-tailed\n",
    "\n",
    "A large school district knows that $75\\%$ of students in previous years rode the bus to school. Administrators wondered if that figure was still accurate, so they took a random sample of $n=80$ students and found that $\\hat p=65\\%$ of those sampled rode the bus to school.\n",
    "\n",
    "To see how likely a sample like this was to happen by random chance alone, the school district performed a simulation. They simulated $120$ samples of $n=80$ students from a large population where $75\\%$ of the students rode the bus to school. They recorded the proportion of students who rode the bus in each sample. Here are the sample proportions from their $120$ samples:\n",
    "\n",
    "![](https://raw.githubusercontent.com/ZacksAmber/PicGo/master/img/20220428115845.png)\n",
    "\n",
    "They want to test $H_0: p=75\\%$ vs. $H_\\text{a}: p \\neq 75\\%$ where $p$ is the true proportion of students in this district that ride the bus to school.\n",
    "\n",
    "**Based on these simulated results, what is the approximate ppp-value of the test?**  \n",
    "_Note: The sample result was $\\hat p=65\\%$._"
   ]
  },
  {
   "cell_type": "markdown",
   "id": "102ed874-db3a-4dd2-a96a-6f5be69c923e",
   "metadata": {},
   "source": [
    "$\\displaystyle p-\\text{value} \\approx \\frac{7}{21} \\approx 0.058$"
   ]
  },
  {
   "cell_type": "markdown",
   "id": "b01e4b60-6365-4cb3-a896-8524cf923b28",
   "metadata": {},
   "source": [
    "Explain:\n",
    "\n",
    "The district observed $\\hat p=65\\%$ of the sample of $n=80$ students rode the bus.\n",
    "\n",
    "Since the alternative hypothesis is $H_\\text{a}:p\\neq 75\\%$, we can find the approximate $p$-value of this result by looking at how often a sample proportion _as far or farther than_ $65\\%$ occurred in the simulation. We need to look for sample proportions this far _above or below_ the hypothesized proportion.\n",
    "\n",
    "The sample proportion $\\hat p=65\\%$ is $10\\%$ below the hypothesized proportion of $75\\%$. The simulation produced a sample proportion as far or farther than this distance in $7$ out of $120$ samples:\n",
    "\n",
    "![](https://raw.githubusercontent.com/ZacksAmber/PicGo/master/img/20220428120239.png)\n",
    "\n",
    "$\\displaystyle p-\\text{value} \\approx \\frac{7}{21} \\approx 0.058$\n",
    "\n",
    "This $p$-value says that when we take a sample of $80$ students from a large population where $75\\%$ of the students ride the bus, there is about a $5.8\\%$ chance that we see a sample proportion as far or farther away from $75\\%$ as $65\\%$."
   ]
  },
  {
   "cell_type": "markdown",
   "id": "cf02cc80-e9bc-47d2-a908-2bdfcba06bcf",
   "metadata": {},
   "source": [
    "---\n",
    "\n",
    "## Using P-values to make conclusions\n",
    "\n",
    "> [Using P-values to make conclusions](https://www.khanacademy.org/math/statistics-probability/significance-tests-one-sample/idea-of-significance-tests/a/p-value-conclusions)\n",
    "\n",
    "We use $p$-values to make conclusions in significance testing. More specifically, we compare the $p$-value to a significance level $\\alpha$ to make conclusions about our hypotheses.\n",
    "\n",
    "If the $p$-value is lower than the significance level we chose, then we reject the null hypothesis $H_0$ in favor of the alternative hypothesis $H_\\text{a}$. If the $p$-value is greater than or equal to the significance level, then we fail to reject the null hypothesis $H_0$, but this doesn't mean we accept $H_0$. To summarize:\n",
    "\n",
    "$\\displaystyle p \\text{-value} < \\alpha \\Rightarrow \\text{reject } H_0 \\Rightarrow \\text{accept }H_\\text{a}$\n",
    "\n",
    "$p \\text{-value} \\geq \\alpha \\Rightarrow \\text{fail to reject } H_0$\n",
    "\n",
    "Let's try a few examples where we use $p$-values to make conclusions."
   ]
  },
  {
   "cell_type": "markdown",
   "id": "fd245169-3460-4f39-a7ee-6ff7fba8d210",
   "metadata": {},
   "source": [
    "---\n",
    "\n",
    "### Example 1\n",
    "\n",
    "Alessandra designed an experiment where subjects tasted water from four different cups and attempted to identify which cup contained bottled water. Each subject was given three cups that contained regular tap water and one cup that contained bottled water (the order was randomized). She wanted to test if the subjects could do better than simply guessing when identifying the bottled water.\n",
    "\n",
    "Her hypotheses were $H_0: p=0.25$ vs. $H_\\text{a}: p>0.25$ (where $p$ is the true likelihood of these subjects identifying the bottled water).\n",
    "\n",
    "The experiment showed that $20$ of the $60$ subjects correctly identified the bottle water. Alessandra calculated that the statistic $\\hat p=\\frac{20}{60}=0.\\bar3$ had an associated P-value of approximately $0.068$.\n",
    "\n",
    "**What conclusion should be made using a significance level of $\\alpha=0.05$?**"
   ]
  },
  {
   "cell_type": "markdown",
   "id": "dca29362-87b2-4c63-a648-85b55b0626f3",
   "metadata": {},
   "source": [
    "Fail to reject $H_0$\n",
    "\n",
    "Since the $p$-value of $0.068$ is greater than $\\alpha=0.05$."
   ]
  },
  {
   "cell_type": "markdown",
   "id": "a4347524-7359-4631-8539-4525c684d5c3",
   "metadata": {},
   "source": [
    "**In context, what does this conclusion say?**"
   ]
  },
  {
   "cell_type": "markdown",
   "id": "76245870-3690-45a5-ac82-d4f5fb91c56e",
   "metadata": {},
   "source": [
    "We don't have enough evidence to say that these subjects can do better than guessing when identifying the bottled water.\n",
    "\n",
    "The null hypothesis $H_0: p=0.25$ says their likelihood is no better than guessing, and we failed to reject the null hypothesis."
   ]
  },
  {
   "cell_type": "markdown",
   "id": "262f7ebb-3f7d-4292-93bb-5e29d287f417",
   "metadata": {},
   "source": [
    "**How would the conclusion have changed if Alessandra had instead used a significance level of $\\alpha=0.10$?**"
   ]
  },
  {
   "cell_type": "markdown",
   "id": "b85814a5-db60-4860-8189-650b320010c4",
   "metadata": {},
   "source": [
    "She would have rejected $H_0$.\n",
    "\n",
    "Changing the significance level would not change the results of the experiment or the P-value. Since $0.068$ is less than $\\alpha=0.10$, this significance level would have led Alessandra to reject $H_0$ and accept $H_\\text{a}$."
   ]
  },
  {
   "cell_type": "markdown",
   "id": "2aaead2e-944f-44b7-95ae-cfdf8029f420",
   "metadata": {},
   "source": [
    "---\n",
    "\n",
    "### Example 2\n",
    "\n",
    "A certain bag of fertilizer advertises that it contains $7.25\\text{ kg}$, but the amounts these bags actually contain is normally distributed with a mean of $7.4\\text{ kg}$ and a standard deviation of $0.15\\text{ kg}$.\n",
    "\n",
    "The company installed new filling machines, and they wanted to perform a test to see if the mean amount in these bags had changed. Their hypotheses were $H_0: \\mu=7.4\\text{ kg}$ vs. $H_\\text{a}: \\mu \\neq 7.4$ (where $\\mu$ is the true mean weight of these bags filled by the new machines).\n",
    "\n",
    "They took a random sample of $50$ bags and observed a sample mean and standard deviation of $\\bar x=7.36\\text{ kg}$ and $s_x=0.12\\text{ kg}$. They calculated that these results had a P-value of approximately $0.02$.\n",
    "\n",
    "**What conclusion should be made using a significance level of $\\alpha=0.05$?**"
   ]
  },
  {
   "cell_type": "markdown",
   "id": "6e27ac01-d5f4-44eb-987f-5b01f6699b84",
   "metadata": {},
   "source": [
    "Reject $H_0$ and accept $H_\\text{a}$\n",
    "\n",
    "Since the $p$-value of $0.02$ is less than $\\alpha=0.05$, we should reject $H_0$ and accept $H_\\text{a}$."
   ]
  },
  {
   "cell_type": "markdown",
   "id": "2302e8a3-50bc-4be7-8909-6f47594dd115",
   "metadata": {},
   "source": [
    "**In context, what does this conclusion say?**"
   ]
  },
  {
   "cell_type": "markdown",
   "id": "05c224cd-d648-43f0-8f26-3393a88b813d",
   "metadata": {},
   "source": [
    "The evidence suggests that these bags are being filled with a mean amount that is different than $7.4\\text{ kg}$.\n",
    "\n",
    "The P-value was low enough to reject $H_0: \\mu=7.4\\text{ kg}$, so we can accept $H_\\text{a}: \\mu \\neq 7.4\\text{ kg}$."
   ]
  },
  {
   "cell_type": "markdown",
   "id": "1fd735a9-14d6-4ca7-8f90-bdc263671729",
   "metadata": {},
   "source": [
    "**How would the conclusion have changed if they had instead used a significance level of $\\alpha=0.01$?**"
   ]
  },
  {
   "cell_type": "markdown",
   "id": "d24b800f-18a4-4f81-a075-2b6efaa9f95b",
   "metadata": {},
   "source": [
    "They would have failed to reject $H_0$.\n",
    "\n",
    "Changing the significance level would not change the results of the experiment or the P-value. Since $0.02$ is greater than $\\alpha=0.01$, this significance level would have led them to fail to reject $H_0$."
   ]
  },
  {
   "cell_type": "markdown",
   "id": "c4f3399b-4af0-4103-90e8-450cb26e624c",
   "metadata": {},
   "source": [
    "---\n",
    "\n",
    "### Ethics and the significance level $\\alpha$\n",
    "\n",
    "These examples demonstrate how we may arrive at different conclusions from the same data depending on what we choose as our significance level $\\alpha$. In practice, we should make our hypotheses and set our significance level before we collect or see any data. Which specific significance level we choose depends on the consequences of various errors."
   ]
  },
  {
   "cell_type": "markdown",
   "id": "c53728c3-5712-4545-843b-fe840ea10bde",
   "metadata": {},
   "source": [
    "---\n",
    "\n",
    "# Error probabilities and power"
   ]
  },
  {
   "cell_type": "markdown",
   "id": "31c9fe9a-bc78-468f-8d95-e2e1dd93c6a4",
   "metadata": {},
   "source": [
    "---\n",
    "\n",
    "## Introduction to Type I and Type II errors\n",
    "\n",
    "> [Type I and type II errors](https://en.wikipedia.org/wiki/Type_I_and_type_II_errors)\n",
    "\n",
    "In [statistical hypothesis testing](https://en.wikipedia.org/wiki/Statistical_hypothesis_testing \"Statistical hypothesis testing\"), a **type I error** is the mistaken rejection of an actually true [null hypothesis](https://en.wikipedia.org/wiki/Null_hypothesis \"Null hypothesis\") (also known as a \"false positive\" finding or conclusion; example: \"an innocent person is convicted\"), while a **type II error** is the failure to reject a null hypothesis that is actually false (also known as a \"false negative\" finding or conclusion; example: \"a guilty person is not convicted\"). Much of statistical theory revolves around the minimization of one or both of these errors, though the complete elimination of either is a statistical impossibility if the outcome is not determined by a known, observable causal process. By selecting a low threshold (cut-off) value and modifying the alpha (α) level, the quality of the hypothesis test can be increased. The knowledge of Type I errors and Type II errors is widely used in [medical science](https://en.wikipedia.org/wiki/Medical_science \"Medical science\"), [biometrics](https://en.wikipedia.org/wiki/Biometrics \"Biometrics\") and [computer science](https://en.wikipedia.org/wiki/Computer_science \"Computer science\").\n",
    "\n",
    "<table class=\"wikitable\" style=\"border: 1px solid black\">\n",
    "\n",
    "\n",
    "<tbody><tr>\n",
    "<th rowspan=\"2\" colspan=\"2\" style=\"border: 1px solid black\">&nbsp;Table of error types\n",
    "</th>\n",
    "<th colspan=\"2\" style=\"border: 1px solid black\"><br>Null hypothesis (<i>H</i><sub>0</sub>) is<br>&nbsp;\n",
    "</th></tr>\n",
    "<tr>\n",
    "<th style=\"border: 1px solid black\">True\n",
    "</th>\n",
    "<th style=\"border: 1px solid black\">False\n",
    "</th></tr>\n",
    "<tr style=\"border: 1px solid black\">\n",
    "<th rowspan=\"2\" style=\"border: 1px solid black\">Decision<br>about null<br>hypothesis (<i>H</i><sub>0</sub>)\n",
    "</th>\n",
    "<th style=\"border: 1px solid black\">Don't<br>reject\n",
    "</th>\n",
    "<td style=\"text-align:center;\" style=\"border: 1px solid black\"><br>Correct inference <br>(true negative)\n",
    "<p>(probability = 1−<i>α</i>)<br>\n",
    "</p>\n",
    "</td>\n",
    "<td style=\"text-align:center;\" style=\"border: 1px solid black\">Type II error <br>(false negative)<br>(probability = <i>β</i>)&nbsp;\n",
    "</td></tr>\n",
    "<tr>\n",
    "<th style=\"border: 1px solid black\" style=\"border: 1px solid black\">Reject\n",
    "</th>\n",
    "<td style=\"text-align:center;\" style=\"border: 1px solid black\">Type&nbsp;I error <br>(false positive)<br>(probability = <i>α</i>)&nbsp;\n",
    "</td>\n",
    "<td style=\"text-align:center;\" style=\"border: 1px solid black\"><br>Correct inference<br>(true positive)\n",
    "<p>(probability = 1−<i>β</i>)<br>&nbsp;\n",
    "</p>\n",
    "</td></tr></tbody></table>"
   ]
  },
  {
   "cell_type": "markdown",
   "id": "7c91d93b-82df-42a2-8dc2-7e15090d1965",
   "metadata": {},
   "source": [
    "---\n",
    "\n",
    "## Type I vs Type II error\n",
    "\n",
    "> [Type I vs Type II error](https://www.khanacademy.org/math/statistics-probability/significance-tests-one-sample/error-probabilities-and-power/e/type-i-error-type-ii-error-power)"
   ]
  },
  {
   "cell_type": "markdown",
   "id": "c7f78bda-baa6-4efe-bc75-d56f1483a88f",
   "metadata": {},
   "source": [
    "---\n",
    "\n",
    "### Example 1: Type II error\n",
    "\n",
    "A quality control expert wants to test the null hypothesis that a new solar panel is no more effective than the older model.\n",
    "\n",
    "**Under which of the following conditions would the expert commit a Type II error?**"
   ]
  },
  {
   "cell_type": "markdown",
   "id": "00030489-45eb-4fea-8d13-a020d270fd23",
   "metadata": {},
   "source": [
    "The new panel is actually more effective, and they don't conclude that it is more effective.\n",
    "\n",
    "This is a Type II error—$H_{\\text{a}}$ is true, but we fail to reject $H_0$."
   ]
  },
  {
   "cell_type": "markdown",
   "id": "0f92bdb4-ec35-44e1-ab1b-1bf640e7af24",
   "metadata": {},
   "source": [
    "---\n",
    "\n",
    "### Example 2: Type I error\n",
    "\n",
    "According to a report from the United States Environmental Protection Agency, burning one gallon of gasoline typically emits about $8.9\\text{ kg}$ of $\\text{CO}_2$. A fuel company wants to test a new type of gasoline designed to have lower $\\text{CO}_2$ emissions. Here are their hypotheses:\n",
    "\n",
    "- $H_0: \\mu =8.9 \\text{ kg}$\n",
    "- $H_{\\text{a}}: \\mu < 8.9 \\text{ kg}$\n",
    "\n",
    "(where $\\mu$ is the mean amount of $\\text{CO}_2$ emitted by burning one gallon of this new gasoline).\n",
    "\n",
    "**Under which of the following conditions would the company commit a Type I error?**"
   ]
  },
  {
   "cell_type": "markdown",
   "id": "d65d5059-a08b-4718-bffa-e403252814a7",
   "metadata": {},
   "source": [
    "The mean amount of $\\text{CO}_2$ emitted by the new fuel is actually $8.9\\text{ kg}$, and they conclude it is lower than $8.9\\text{ kg}$.\n",
    "\n",
    "This is a Type I error—$H_0$ is true, but they reject it."
   ]
  },
  {
   "cell_type": "markdown",
   "id": "12978f14-c023-472c-adf9-f7191f275b5f",
   "metadata": {},
   "source": [
    "---\n",
    "\n",
    "### Example 3: Type II error\n",
    "\n",
    "A large university is curious if they should build another cafeteria. They plan to survey a sample of their students to see if there is strong evidence that the proportion interested in a meal plan is higher than $40\\%$, in which case they will consider building a new cafeteria.\n",
    "\n",
    "Let $p$ represent the proportion of students interested in a meal plan. Here are the hypotheses they'll use:\n",
    "\n",
    "- $H_0: p \\leq 0.40$\n",
    "- $H_{\\text{a}}: p > 0.40$\n",
    "\n",
    "**What would be the consequence of a Type II error in this context?**"
   ]
  },
  {
   "cell_type": "markdown",
   "id": "d215c20c-2fe5-4ee1-9864-09d172f64eb5",
   "metadata": {},
   "source": [
    "They don't consider building a new cafeteria when they should.\n",
    "\n",
    "Explain:\n",
    "\n",
    "**In this setting**\n",
    "\n",
    "**Type I error: Rejecting a true null hypothesis**\n",
    "\n",
    "If $H_0$ is true, then at most $40\\%$ of students are actually interested. So a Type I error would occur if the sample result is significantly higher than $40\\%$, and they consider building the new cafeteria when they shouldn't.\n",
    "\n",
    "**Type II error: Failing to reject a false null hypothesis**\n",
    "\n",
    "If $H_0$ is false, then $H_{\\text{a}}$ is true, and more than $40\\%$ of students are actually interested. So a Type II error would occur if the sample result is not significantly higher than $40\\%$, and they don't consider building the new cafeteria when they should."
   ]
  },
  {
   "cell_type": "markdown",
   "id": "8d81425e-784a-43be-973b-140662dc857b",
   "metadata": {},
   "source": [
    "---\n",
    "\n",
    "## Introduction to power in significance tests\n",
    "\n",
    "A perfect test would have zero false positives and zero false negatives. However, statistical methods are probabilistic, and it cannot be known for certain whether statistical conclusions are correct. Whenever there is uncertainty, there is the possibility of making an error. Considering this nature of statistics science, all statistical hypothesis tests have a probability of making type I and type II errors.\n",
    "\n",
    "-   The type I error rate or significance level is the probability of rejecting the null hypothesis given that it is true. It is denoted by the Greek letter $\\alpha$ (alpha) and is also called the alpha level. Usually, the significance level is set to 0.05 (5%), implying that it is acceptable to have a 5% probability of incorrectly rejecting the true null hypothesis.\n",
    "-   The rate of the type II error is denoted by the Greek letter $\\beta$ (beta) and related to the [power of a test](https://en.wikipedia.org/wiki/Power_(statistics) \"Power (statistics)\"), which equals $1−\\beta$.\n",
    "\n",
    "Notions:\n",
    "- $\\beta$ = probability of a Type II error, known as a \"false negative\"\n",
    "- $1 - \\beta$ = probability of a \"true positive\", i.e., correctly rejecting the null hypothesis. **\"$1 - \\beta$\" is also known as the power of the test.**\n",
    "- $\\alpha$ = probability of a Type I error, known as a \"false positive\"\n",
    "- $1 - \\alpha$ = probability of a \"true negative\", i.e., correctly not rejecting the null hypothesis\n",
    "\n",
    "Impact:\n",
    "- $\\alpha \\uparrow$, $\\beta \\downarrow$, $1 - \\beta \\uparrow$\n",
    "- sample size $n \\uparrow$, power $\\uparrow$\n",
    "- Variability $\\downarrow$, power $\\uparrow$\n",
    "- True parameter far from $H_0$, power $\\uparrow$"
   ]
  },
  {
   "cell_type": "markdown",
   "id": "1d6ef681-ad37-4a1f-b21c-b43b5acbe1d0",
   "metadata": {},
   "source": [
    "---\n",
    "\n",
    "## Error probabilities and power\n",
    "\n",
    "> [Error probabilities and power](https://www.khanacademy.org/math/statistics-probability/significance-tests-one-sample/error-probabilities-and-power/e/error-probabilities-power)"
   ]
  },
  {
   "cell_type": "markdown",
   "id": "bf6627b4-98cb-4ec2-acb7-de718b6088ea",
   "metadata": {},
   "source": [
    "---\n",
    "\n",
    "### Example 1\n",
    "\n",
    "A significance test is going to be performed using a significance level of $\\alpha=0.05$. Suppose that the null hypothesis is actually false.\n",
    "\n",
    "**If the significance level was lowered to $\\alpha=0.01$, which of the following would be true?**"
   ]
  },
  {
   "cell_type": "markdown",
   "id": "a25c8085-142e-451c-8383-efb7285d5ef6",
   "metadata": {},
   "source": [
    "The probability of a Type II error would increase and the power of the test would decrease."
   ]
  },
  {
   "cell_type": "markdown",
   "id": "ee3bc787-988f-4c48-a67a-78a232a7de4d",
   "metadata": {},
   "source": [
    "Explain:\n",
    "\n",
    "Since we are assuming that the null hypothesis is false, the correct conclusion would be to reject the null hypothesis.\n",
    "\n",
    "Rejecting a false null hypothesis is more likely to happen with a higher significance level and less likely to happen with a lower significance level, since rejecting with lower significance requires our sample result to be farther away from the null hypothesis.\n",
    "\n",
    "![](https://raw.githubusercontent.com/ZacksAmber/PicGo/master/img/20220428174836.png)\n",
    "\n",
    "A Type II error would occur if we failed to reject the false null hypothesis. Lowering the significance level makes it harder to reject a false null hypothesis, so a lower significance level would increase the probability of a Type II error.\n",
    "\n",
    "Power is the likelihood that the test rejects the false null hypothesis. Lowering the significance level makes it harder to reject a false null hypothesis, so a lower significance level would decrease the power of the test.\n",
    "\n",
    "**If we use a lower significance level, the probability of a Type II error would increase and the power of the test would decrease.**"
   ]
  },
  {
   "cell_type": "markdown",
   "id": "38e3a692-cd60-444d-afa8-b61dcc00db1e",
   "metadata": {},
   "source": [
    "---\n",
    "\n",
    "### Example 2\n",
    "\n",
    "A manufacturer makes chocolate squares that have a target weight of $8\\text{ g}$. Quality control engineers sample chocolate squares from a batch to test the hypotheses $H_0: \\mu = 8\\text{ g}$ vs. $H_\\text{a}: \\mu \\neq 8\\text{ g}$, where $\\mu$ is the true mean weight of the chocolate squares in that batch.\n",
    "\n",
    "Suppose that $H_0$ is actually true.\n",
    "\n",
    "**Which situation below would have the lowest probability of a Type I error?**"
   ]
  },
  {
   "cell_type": "markdown",
   "id": "44b00276-0096-4a7b-b061-dac092be9705",
   "metadata": {},
   "source": [
    "- $n=20$ and $\\alpha=0.10$\n",
    "- $n=50$ and $\\alpha=0.05$\n",
    "- **$n=50$ and $\\alpha=0.01$**"
   ]
  },
  {
   "cell_type": "markdown",
   "id": "9a9b9777-0f46-465d-98a1-11b06e1651d6",
   "metadata": {},
   "source": [
    "Explain:\n",
    "\n",
    "**What is a Type I error?**\n",
    "\n",
    "The engineers would make a Type I error if they rejected a true null hypothesis.\n",
    "\n",
    "**Impact of significance level**\n",
    "\n",
    "Lowering the significance level $\\alpha$ reduces the likelihood of a Type I error, because a lower alpha makes it harder to reject a true null hypothesis by random chance alone.\n",
    "\n",
    "![](https://raw.githubusercontent.com/ZacksAmber/PicGo/master/img/20220428193927.png)\n",
    "\n",
    "**Impact of sample size**\n",
    "\n",
    "**Sample size doesn't impact the likelihood of a Type I error.** Larger samples are still preferred since they produce less variable results, but we'll still reject a true $H_0$ at a rate equal to the significance level $\\alpha$.\n"
   ]
  },
  {
   "cell_type": "markdown",
   "id": "40b2de09-9a49-416f-a8fe-9379f5fe4212",
   "metadata": {},
   "source": [
    "---\n",
    "\n",
    "### Example 3\n",
    "\n",
    "Ricky is testing soil for a contaminant at a building site. He'll take action to stop construction if there's strong evidence that the soil has more than $400$ parts per million (ppm) of the contaminant. He plans on using soil from $n=30$ randomly selected locations at the building site. His hypotheses are $H_0: \\mu \\leq 400 \\text{ ppm}$ and $H_{\\text{a}}: \\mu > 400 \\text{ ppm}$, where $\\mu$ is the mean amount of the contaminant in the soil at this site.\n",
    "\n",
    "Suppose that in reality, $H_\\text{a}$ is actually true.\n",
    "\n",
    "**Which situation below would result in the lowest probability of a Type II error?**"
   ]
  },
  {
   "cell_type": "markdown",
   "id": "cb68581b-2dcd-4acc-825f-4cc48b548362",
   "metadata": {},
   "source": [
    "- The true mean is actually $405 \\text{ ppm}$, and he uses a significance level of $\\alpha =0.05$.\n",
    "- The true mean is actually $405 \\text{ ppm}$, and he uses a significance level of $\\alpha =0.10$.\n",
    "- The true mean is actually $420 \\text{ ppm}$, and he uses a significance level of $\\alpha =0.05$.\n",
    "- **The true mean is actually $420 \\text{ ppm}$, and he uses a significance level of $\\alpha =0.10$.**\n",
    "\n",
    "$420\\text{ ppm}$ is relatively far above $400\\text{ ppm}$, and $\\alpha=0.10$ is the largest significance level given."
   ]
  },
  {
   "cell_type": "markdown",
   "id": "4ccf9ab9-90b8-4214-a838-118c8ef952d5",
   "metadata": {},
   "source": [
    "Explain:\n",
    "\n",
    "**What is a Type II error?**\n",
    "\n",
    "Ricky would make a Type II error if he failed to reject a false null hypothesis.\n",
    "\n",
    "**Impact of significance level**\n",
    "\n",
    "Rejecting a false null hypothesis is more likely to happen with a higher significance level and less likely to happen with a lower significance level, since rejecting with lower significance requires our sample result to be farther away from the null hypothesis.\n",
    "\n",
    "![](https://raw.githubusercontent.com/ZacksAmber/PicGo/master/img/20220428174836.png)\n",
    "\n",
    "**Impact of actual value**\n",
    "\n",
    "The probability of a Type II error is lower when the actual value is farther away from the value in the null hypothesis and in favor of the alternative.\n",
    "\n",
    "-   If the mean is actually $400\\text{ ppm}$, then the null isn't false, and Ricky shouldn't reject the null.\n",
    "-   If the mean is actually $405\\text{ ppm}$, then the null is false, but the sample mean could plausibly come out to be close to $400\\text{ ppm}$, which would lead him to fail to reject the null and make a Type II error.\n",
    "-   If the mean is actually $420\\text{ ppm}$, then the null is false, and it would be less likely for the sample result to be close to $400\\text{ ppm}$. The sample mean will probably come out closer to $420\\text{ ppm}$, and that would lead him to reject $400\\text{ ppm}$."
   ]
  },
  {
   "cell_type": "markdown",
   "id": "1e5fe4db-416a-472a-88ad-cbe990924977",
   "metadata": {},
   "source": [
    "---\n",
    "\n",
    "## Consequences of errors and significance\n",
    "\n",
    "### Introduction\n",
    "\n",
    "Significance tests often use a significance level of $\\alpha=0.05$, but in some cases it makes sense to use a different significance level. Changing $\\alpha$ impacts the probabilities of Type I and Type II errors. In some tests, one kind of error has more serious consequences than the other. We may want to choose different values for $\\alpha$ in those cases.\n",
    "\n",
    "### Review: Error probabilities and $\\alpha$\n",
    "\n",
    "A Type I error is when we reject a true null hypothesis. Lower values of $\\alpha$ make it harder to reject the null hypothesis, so choosing lower values for $\\alpha$ can reduce the probability of a Type I error. The consequence here is that if the null hypothesis is false, it may be more difficult to reject using a low value for $\\alpha$. So using lower values of $\\alpha$ can increase the probability of a Type II error.\n",
    "\n",
    "A Type II error is when we fail to reject a false null hypothesis. Higher values of $\\alpha$ make it easier to reject the null hypothesis, so choosing higher values for $\\alpha$ can reduce the probability of a Type II error. The consequence here is that if the null hypothesis is true, increasing $\\alpha$ makes it more likely that we commit a Type I error (rejecting a true null hypothesis).\n",
    "\n",
    "Let's look at a few examples to see why it might make sense to use a higher or lower significance level."
   ]
  },
  {
   "cell_type": "markdown",
   "id": "968a81ff-a6aa-4c03-9821-37607f5e7f99",
   "metadata": {},
   "source": [
    "---\n",
    "\n",
    "### Example 1: Type II error\n",
    "\n",
    "Employees at a health club do a daily water quality test in the club's swimming pool. If the level of contaminants are too high, then they temporarily close the pool to perform a water treatment.\n",
    "\n",
    "We can state the hypotheses for their test as $H_0:$ The water quality is acceptable vs. $H_\\text{a}:$ The water quality is not acceptable.\n",
    "\n",
    "**What would be the consequence of a Type I error in this setting?**"
   ]
  },
  {
   "cell_type": "markdown",
   "id": "844c62c3-e5d1-4a1c-826a-4d8df563f8e8",
   "metadata": {},
   "source": [
    "The club closes the pool when it doesn't need to be closed.\n",
    "\n",
    "Explain:\n",
    "\n",
    "A Type I error is when we reject a true $H_0$. In this setting, if $H_0$ is true, then the water quality is acceptable, and the pool doesn't need to be closed. A Type I error would occur if they close the pool when the water quality is actually acceptable."
   ]
  },
  {
   "cell_type": "markdown",
   "id": "9e43d9b2-47f9-47dd-a141-016e1d51719d",
   "metadata": {},
   "source": [
    "**What would be the consequence of a Type II error in this setting?**"
   ]
  },
  {
   "cell_type": "markdown",
   "id": "90578c2f-7143-4da2-8072-cfd686ef0498",
   "metadata": {},
   "source": [
    "The club doesn't close the pool when it needs to be closed.\n",
    "\n",
    "Explain:\n",
    "\n",
    "A Type II error is when we fail to reject a false $H_0$. In this setting, if $H_0$ is false, then the water quality is not acceptable, and the pool should be closed. A Type II error would occur if they don't close the pool when the water quality is not actually acceptable."
   ]
  },
  {
   "cell_type": "markdown",
   "id": "54190673-ef70-4723-9b18-2bbfafc82113",
   "metadata": {},
   "source": [
    "**In terms of safety, which error has the more dangerous consequences in this setting?**"
   ]
  },
  {
   "cell_type": "markdown",
   "id": "a9d40fce-dccd-4dd7-8cc8-fda99efcc4ef",
   "metadata": {},
   "source": [
    "Type II\n",
    "\n",
    "The consequence here is that people swim in contaminated water. This is more dangerous than a Type I error.\n",
    "\n",
    "Explain:\n",
    "\n",
    "The consequence of a Type I error is that the pool is closed for treatment that it doesn't necessarily need.\n",
    "\n",
    "The consequence of a Type II error is that people swim in contaminated water.\n",
    "\n",
    "In terms of safety, a Type II error is more dangerous in this setting."
   ]
  },
  {
   "cell_type": "markdown",
   "id": "4b213f05-8cf1-4377-836d-a1827abe019e",
   "metadata": {},
   "source": [
    "Since one error involves greater safety concerns, the club is considering using a value for $\\alpha$ other than $0.05$ for the water quality significance test.\n",
    "\n",
    "**What significance level should they use to reduce the probability of the more dangerous error?**"
   ]
  },
  {
   "cell_type": "markdown",
   "id": "f9196c85-d271-4c71-b71f-874cae9c315a",
   "metadata": {},
   "source": [
    "- $\\alpha = 0.01$\n",
    "- $\\alpha = 0.025$\n",
    "- <mark>$\\alpha = 0.10$</mark>\n",
    "\n",
    "Using a higher significance level increases the probability of a Type I error, but decreases the probability of a Type II error (which is more dangerous in this setting)."
   ]
  },
  {
   "cell_type": "markdown",
   "id": "c14dc54e-c7ef-4555-b17f-7b075bc09f54",
   "metadata": {},
   "source": [
    "---\n",
    "\n",
    "### Example 2: Type I error\n",
    "\n",
    "Seth is starting his own food truck business, and he's choosing cities where he'll run his business. He wants to survey residents and test whether or not the demand is high enough to support his business before he applies for the necessary permits to operate in a given city. He'll only choose a city if there's strong evidence that the demand there is high enough.\n",
    "\n",
    "We can state the hypotheses for his test as $H_0:$ The demand is not high enough vs. $H_\\text{a}:$ The demand is high enough.\n",
    "\n",
    "**What would be the consequence of a Type I error in this setting?**"
   ]
  },
  {
   "cell_type": "markdown",
   "id": "6b364c76-4de1-40d3-be3a-696c31305212",
   "metadata": {},
   "source": [
    "He chooses a city where demand isn't actually high enough.\n",
    "\n",
    "Explain:\n",
    "\n",
    "A Type I error is when we reject a true $H_0$. In this setting, if $H_0$ is true, then demand in the city is not high enough, and Seth shouldn't choose that city. A Type I error would occur if he chooses a city where the demand is not actually high enough."
   ]
  },
  {
   "cell_type": "markdown",
   "id": "b4892ee9-df06-4acf-9fff-6cd85be6ed9c",
   "metadata": {},
   "source": [
    "**What would be the consequence of a Type II error in this setting?**"
   ]
  },
  {
   "cell_type": "markdown",
   "id": "38fc1b4b-f1b4-46ca-82dd-99a9d5d01162",
   "metadata": {},
   "source": [
    "He doesn't choose a city where demand is actually high enough.\n",
    "\n",
    "Explain:\n",
    "\n",
    "A Type II error is when we fail to reject a false $H_0$. In this setting, if $H_0$ is false, then demand in the city is high enough, and Seth should choose that city. A Type II error would occur if he doesn't choose a city where the demand is actually high enough."
   ]
  },
  {
   "cell_type": "markdown",
   "id": "f880d982-f58c-4a2e-94e9-d253a5cf1c1c",
   "metadata": {},
   "source": [
    "Seth has determined that a Type I error is more costly to his business than a Type II error. He wants to use a significance level other than $\\alpha=0.05$ to reduce the likelihood of a Type I error.\n",
    "\n",
    "**Which of these significance levels should Seth choose?**"
   ]
  },
  {
   "cell_type": "markdown",
   "id": "d0faf0fc-92a2-4d01-a30b-6594de518c8c",
   "metadata": {},
   "source": [
    "- <mark>$\\alpha=0.01$</mark>\n",
    "- $\\alpha=0.08$\n",
    "- $\\alpha=0.10$\n",
    "\n",
    "Using a lower significance level decreases the probability of a Type I error, since it makes it more difficult to reject $H_0$ based on random chance alone."
   ]
  },
  {
   "cell_type": "markdown",
   "id": "f268c12a-f9a4-4c99-bcfe-c294697be1d7",
   "metadata": {},
   "source": [
    "---\n",
    "\n",
    "# Tests about a population proportion"
   ]
  },
  {
   "cell_type": "markdown",
   "id": "5806adce-35e9-46af-8858-eface31fbf3a",
   "metadata": {},
   "source": [
    "---\n",
    "\n",
    "## Writing hypotheses for a test about a proportion\n",
    "\n",
    "### Guidelines for hypotheses\n",
    "\n",
    "-   We write hypotheses in terms of population parameters, not sample statistics.\n",
    "-   The null hypothesis should have a statement of equality.\n",
    "-   The direction of the alternative hypothesis $(<{,}>{,}\\neq)$ depends on the context of the test.\n",
    "\n",
    "### The parameter $p$ vs. the statistic $\\hat p$\n",
    "\n",
    "In a significance test about a proportion, we are looking to draw conclusions about the true population proportion, $p$. So, it would be incorrect to express our hypotheses in terms of a sample statistic such as $\\hat p$.\n",
    "\n",
    "### The null hypothesis\n",
    "\n",
    "In a test of significance, we are looking for evidence against the null hypothesis $H_0$.\n",
    "\n",
    "### The alternative hypothesis\n",
    "\n",
    "The alternative hypothesis $H_\\text{a}$ is the claim we are trying to find evidence in favor of."
   ]
  },
  {
   "cell_type": "markdown",
   "id": "1f7fc41a-f34e-4b1f-ae46-d221be9e6c6d",
   "metadata": {},
   "source": [
    "---\n",
    "\n",
    "### Example 1: One-tailed\n",
    "\n",
    "A professor gives a multiple choice exam where each question has four choices. The professor decides not to count a question against students if the class as a whole does worse on the question than they would have done simply by guessing. That is, if significantly less than $25\\%$ of the students answer a question correctly, then that question won't count against them.\n",
    "\n",
    "Let $p$ represent the proportion of students that would correctly answer the question.\n",
    "\n",
    "**Which of the following is an appropriate set of hypotheses for such a significance test?**"
   ]
  },
  {
   "cell_type": "markdown",
   "id": "50b8ae9a-270a-4eb7-87d4-1fcde71cd289",
   "metadata": {},
   "source": [
    "- $H_{0}: p = 0.25$\n",
    "- $H_\\text{a}: p < 0.25$"
   ]
  },
  {
   "cell_type": "markdown",
   "id": "5b19c919-dfb3-4342-90ac-db96fe109670",
   "metadata": {},
   "source": [
    "---\n",
    "\n",
    "### Example 2: Two-tailed\n",
    "\n",
    "A manufacturer knows that $2\\%$ of its microchips are produced with a certain defect. They decide to change their process to make it more efficient, and they want to test if the new process has the same defect rate or not.\n",
    "\n",
    "Let $p$ represent the proportion of microchips made with a defect under this new system.\n",
    "\n",
    "**Which of the following is an appropriate set of hypotheses for their significance test?**"
   ]
  },
  {
   "cell_type": "markdown",
   "id": "68314aa2-30c4-4e9f-910f-6c7068c08bd8",
   "metadata": {},
   "source": [
    "- $H_{0}: p = 0.02$\n",
    "- $H_\\text{a}: p \\neq 0.02$\n",
    "\n",
    "The null hypothesis has a statement of equality, and the direction of alternative hypothesis $(\\neq)$ matches their desire to test if the new process has the same defect rate or not (they're curious if the percent is higher or lower than $2\\%$)."
   ]
  },
  {
   "cell_type": "markdown",
   "id": "d0a22048-1737-4da0-a942-a1f8e9d6be1b",
   "metadata": {},
   "source": [
    "---\n",
    "\n",
    "## Conditions for inference on a proportion\n",
    "\n",
    "> [Conditions for inference on a proportion](https://www.khanacademy.org/math/statistics-probability/significance-tests-one-sample/tests-about-population-proportion/a/conditions-inference-one-proportion)\n",
    "\n",
    "When we want to carry out inferences on one proportion (build a confidence interval or do a significance test), the accuracy of our methods depend on a few conditions. Before doing the actual computations of the interval or test, it's important to check whether or not these conditions have been met, otherwise the calculations and conclusions that follow aren't actually valid.\n",
    "\n",
    "The conditions we need for inference on one proportion are:\n",
    "\n",
    "- **Random**: The data needs to come from a random sample or randomized experiment.\n",
    "- **Normal**: The sampling distribution of $\\hat p$ needs to be approximately normal — needs at least $10$ expected successes and $10$ expected failures.\n",
    "- **Independent**: Individual observations need to be independent. If sampling without replacement, our sample size shouldn't be more than $10\\%$ of the population.\n",
    "\n",
    "---\n",
    "\n",
    "### The random condition\n",
    "\n",
    "Random samples give us unbiased data from a population. When samples aren't randomly selected, the data usually has some form of bias, so using data that wasn't randomly selected to make inferences about its population can be risky.\n",
    "\n",
    "More specifically, sample proportions are unbiased estimators of their population proportion. For example, if we have a bag of candy where $50\\%$ of the candies are orange and we take random samples from the bag, some will have more than $50\\%$ orange and some will have less. But on average, the proportion of orange candies in each sample will equal $50\\%$. We write this property as $\\mu_{\\hat p}=p$, which holds true as long as our sample is random.\n",
    "\n",
    "This won't necessarily happen if our sample isn't randomly selected though. Biased samples lead to inaccurate results, so they shouldn't be used to create confidence intervals or carry out significance tests.\n",
    "\n",
    "---\n",
    "\n",
    "### The normal condition\n",
    "\n",
    "The sampling distribution of $\\hat p$ is approximately normal as long as the expected number of successes and failures are both at least $10$. This happens when our sample size $n$ is reasonably large. The proof of this is beyond the scope of AP statistics, but our tutorial on sampling distributions can provide some intuition and verification that this condition indeed works.\n",
    "\n",
    "So we need:\n",
    "\n",
    "- $\\displaystyle \\text{expected success: } np \\geq 10$\n",
    "- $\\displaystyle \\text{expected failures: } n(1 - p) \\geq 10$\n",
    "\n",
    "If we are building a confidence interval, we don't have a value of $p$ to plug in, so we instead count the observed number of successes and failures in the sample data to make sure they are both at least $10$. If we are doing a significance test, we use our sample size $n$ and the hypothesized value of $p$ to calculate our expected numbers of successes and failures.\n",
    "\n",
    "---\n",
    "\n",
    "### The independence condition\n",
    "\n",
    "To use the formula for standard deviation of $\\hat p$, we need individual observations to be independent. When we are sampling without replacement, individual observations aren't technically independent since removing each item changes the population.\n",
    "\n",
    "But the $10\\%$ condition says that if we sample $10\\%$ or less of the population, we can treat individual observations as independent since removing each observation doesn't significantly change the population as we sample. For instance, if our sample size is $n=150$, there should be at least $N=1500$ members in the population.\n",
    "\n",
    "This allows us to use the formula for standard deviation of $\\hat p$:\n",
    "\n",
    "$\\displaystyle \\sigma_{\\hat p} = \\sqrt{\\frac{\\sigma^{2}}{n}} = \\frac{\\sigma}{\\sqrt{n}}$\n",
    "\n",
    "In a significance test, we use the sample size $n$ and the hypothesized value of $p$.\n",
    "\n",
    "If we are building a confidence interval for $p$, we don't actually know what $p$ is, so we substitute $\\hat p$ as an estimate for $p$. When we do this, we call it the **standard error** of $\\hat p$ to distinguish it from the standard deviation.\n",
    "\n",
    "So our formula for standard error of $\\hat p$ is\n",
    "\n",
    "$\\displaystyle SE = \\sigma_{\\hat p} \\approx \\sqrt{\\frac{\\sigma_{\\hat p}^{2}}{n}} = \\frac{\\sigma_{\\hat p}}{\\sqrt{n}}$"
   ]
  },
  {
   "cell_type": "markdown",
   "id": "f73e65d8-1a96-4666-a7c2-8b301e06e0ed",
   "metadata": {},
   "source": [
    "---\n",
    "\n",
    "### Example 1\n",
    "\n",
    "Jules works on a small team of $40$ employees. Each employee receives an annual rating, the best of which is \"exceeds expectations.\" Management claimed that $10\\%$ of employees earn this rating, but Jules suspected it was actually less common. She obtained an anonymous random sample of $10$ ratings for employees on her team. She wants to use the sample data to test $H_0:p=0.1$ versus $H_\\text{a}:p<0.1$, where $p$ is the proportion of all employees on her team who earned \"exceeds expectations.\"\n",
    "\n",
    "**Which conditions for performing this type of test did Jules' sample meet?**"
   ]
  },
  {
   "cell_type": "markdown",
   "id": "04bece4b-76e4-4bfe-841c-2cc38b821566",
   "metadata": {},
   "source": [
    "The data is a random sample from the population of interest.\n",
    "\n",
    "This condition is met; the problem says she obtained a random sample of $10$ ratings for employees on her team."
   ]
  },
  {
   "cell_type": "markdown",
   "id": "3df8d53d-4a58-4d47-9c9c-63dec8ec0568",
   "metadata": {},
   "source": [
    "---\n",
    "\n",
    "### Example 2\n",
    "\n",
    "Here are two different samples drawn from two different populations:\n",
    "\n",
    "![](https://raw.githubusercontent.com/ZacksAmber/PicGo/master/img/20220501235308.png)\n",
    "\n",
    "**Which sample satisfies the normal condition for performing a $t$ test?**"
   ]
  },
  {
   "cell_type": "markdown",
   "id": "d9eb0b89-078a-4029-84aa-eea015d7a8c2",
   "metadata": {},
   "source": [
    "Sample B only\n",
    "\n",
    "Even though the sample is small, the sample data are roughly symmetric with no outliers, so it satisfies the normal condition."
   ]
  },
  {
   "cell_type": "markdown",
   "id": "f41c49f9-f535-4273-898d-cd9e435f2eae",
   "metadata": {},
   "source": [
    "---\n",
    "\n",
    "## Calculating the test statistic in a z test for a proportion\n",
    "\n",
    "> [Test statistic](https://en.wikipedia.org/wiki/Test_statistic#:~:text=A%20test%20statistic%20is%20a,to%20perform%20the%20hypothesis%20test.)\n",
    "\n",
    "A **test statistic** is a [statistic](https://en.wikipedia.org/wiki/Statistic \"Statistic\") (a quantity derived from the [sample](https://en.wikipedia.org/wiki/Sample_(statistics) \"Sample (statistics)\")) used in [statistical hypothesis testing](https://en.wikipedia.org/wiki/Statistical_hypothesis_testing \"Statistical hypothesis testing\").[[1]](https://en.wikipedia.org/wiki/Test_statistic#cite_note-CasellaBerger-1) A hypothesis test is typically specified in terms of a test statistic, considered as a numerical summary of a data-set that reduces the data to one value that can be used to perform the hypothesis test. In general, a test statistic is selected or defined in such a way as to quantify, within observed data, behaviours that would distinguish the [null](https://en.wikipedia.org/wiki/Null_hypothesis \"Null hypothesis\") from the [alternative hypothesis](https://en.wikipedia.org/wiki/Alternative_hypothesis \"Alternative hypothesis\"), where such an alternative is prescribed, or that would characterize the null hypothesis if there is no explicitly stated alternative hypothesis.\n",
    "\n",
    "- Assumed population probability(parameter): $\\displaystyle p_{0}$\n",
    "- Standard Deviation(parameter): $\\displaystyle \\sigma$\n",
    "- Sample proportion(statistic): $\\displaystyle \\hat p$\n",
    "- Standard Error(statistic): $\\displaystyle SE = \\sigma_{\\hat p} \\approx \\sqrt{\\frac{\\sigma_{\\hat p}^{2}}{n}} = \\frac{\\sigma_{\\hat p}}{\\sqrt{n}}$\n",
    "- Z-Score(parameter): $\\displaystyle z = \\frac{\\hat p - p}{\\sigma}$\n",
    "- test statistic(statistic): $\\displaystyle z = \\frac{\\text{statistics - parameter}}{\\text{standard deviation of statistic (standard error)}} = \\frac{\\hat p - p_{0}}{SE}$"
   ]
  },
  {
   "cell_type": "markdown",
   "id": "505fc9d1-c110-4881-b0ba-b0868c9e8421",
   "metadata": {},
   "source": [
    "---\n",
    "\n",
    "### Example 1\n",
    "\n",
    "A large poll showed that $42\\%$ of adults approved of their nation's prime minister. Margot wanted to test if it had decreased, so she took a random sample of $500$ adults in that nation and found that $160$ of those them approved of the prime minister.\n",
    "\n",
    "She wants to test $H_0:p=0.42$ versus $H_\\text{a}:p < 0.42$, were $p$ is the proportion of adults in this nation who approve of the prime minister.\n",
    "\n",
    "**Assuming that the conditions for inference have been met, identify the correct test statistic for Margot's significance test.**"
   ]
  },
  {
   "cell_type": "markdown",
   "id": "4004ce10-43d7-4bb8-851e-a1c2e4812e1d",
   "metadata": {},
   "source": [
    "$\\displaystyle z = \\frac{0.32 - 0.42}{\\sqrt{\\frac{0.42(0.58)}{500}}}$"
   ]
  },
  {
   "cell_type": "markdown",
   "id": "1ecdb29f-51d6-4f4e-858a-7eb3a33222bb",
   "metadata": {},
   "source": [
    "---\n",
    "\n",
    "### Example 2\n",
    "\n",
    "A professor gives a multiple choice exam where each question has five choices. The professor decides not to count a question against students if the class as a whole does significantly worse on the question than they would have done simply by guessing. In other words, the teacher tests $H_0: p=0.20$ versus $H_\\text{a}: p<0.20$ for each question, where $p$ is the proportion of students who would correctly answer the question.\n",
    "\n",
    "Suppose that $14$ of $100$ students correctly answer a particular question.\n",
    "\n",
    "**Assuming that the conditions for inference have been met, calculate the test statistic for the professor's significance test.**  \n",
    "_You may round to two decimal places._"
   ]
  },
  {
   "cell_type": "code",
   "execution_count": 4,
   "id": "489a1619-27a6-4970-8183-e6a1460a86a4",
   "metadata": {},
   "outputs": [
    {
     "data": {
      "text/plain": [
       "-1.5"
      ]
     },
     "execution_count": 4,
     "metadata": {},
     "output_type": "execute_result"
    }
   ],
   "source": [
    "k, n, p = 14, 100, 0.2\n",
    "prop = k / n\n",
    "SE = st.bernoulli.std(p) / np.sqrt(n)\n",
    "zstat = (prop - p) / SE\n",
    "zstat # test statistic"
   ]
  },
  {
   "cell_type": "code",
   "execution_count": 5,
   "id": "4adb09c0-c27e-406a-ae01-c6b06ee2f0bd",
   "metadata": {},
   "outputs": [
    {
     "data": {
      "text/plain": [
       "-1.5"
      ]
     },
     "execution_count": 5,
     "metadata": {},
     "output_type": "execute_result"
    }
   ],
   "source": [
    "# OR\n",
    "k, n, p = 14, 100, 0.2\n",
    "\n",
    "stat, pval = proportion.proportions_ztest(count=k, nobs=n, value=p, alternative='smaller', prop_var=p)\n",
    "stat"
   ]
  },
  {
   "cell_type": "markdown",
   "id": "357ca247-7ede-4c80-9570-462db04c4625",
   "metadata": {},
   "source": [
    "---\n",
    "\n",
    "## Calculating the P-value in a z test for a proportion"
   ]
  },
  {
   "cell_type": "markdown",
   "id": "3e268bfa-f3ca-408b-97f4-dab237c15c1a",
   "metadata": {},
   "source": [
    "---\n",
    "\n",
    "### Example 1: Right-tailed\n",
    "\n",
    "Fay read an article that said $26\\%$ of Americans can speak more than one language. She was curious if this figure was higher in her city, so she tested $H_0:p=0.26$ vs. $H_\\text{a}:p>0.26$, where $p$ represents the proportion of people in her city that can speak more than one language.\n",
    "\n",
    "She found that $40$ of $120$ people sampled could speak more than one language. The test statistic for these results was $z\\approx1.83$.\n",
    "\n",
    "**Assuming that the necessary conditions are met, what is the approximate P-value for Fay's test?**  \n",
    "_You may round to three decimal places._"
   ]
  },
  {
   "cell_type": "code",
   "execution_count": 6,
   "id": "c1048bc3-eef0-4019-aa2a-240fa6c1db55",
   "metadata": {
    "tags": []
   },
   "outputs": [
    {
     "data": {
      "text/latex": [
       "$P(p > 0.26) = P(z > 1.831) = 0.034$"
      ],
      "text/plain": [
       "<IPython.core.display.Latex object>"
      ]
     },
     "metadata": {},
     "output_type": "display_data"
    }
   ],
   "source": [
    "k, n, p = 40, 120, 0.26\n",
    "p_hat = k / n\n",
    "precision = 3\n",
    "\n",
    "SE = st.bernoulli.std(p) / np.sqrt(n)\n",
    "zstat = (p_hat - p) / SE\n",
    "pval = st.norm.sf(zstat)\n",
    "# OR \n",
    "# pval = st.norm(loc=p, scale=SE).sf(x=p_hat)\n",
    "display(Latex(f\"$P(p > {p}) = P(z > {round(zstat, precision)}) = {round(pval, precision)}$\"))"
   ]
  },
  {
   "cell_type": "code",
   "execution_count": 7,
   "id": "1bf990a5-25f5-4d8c-8fe4-ad64ee701512",
   "metadata": {},
   "outputs": [
    {
     "data": {
      "text/latex": [
       "$P(p > 0.26) = P(z > 1.83) = 0.034$"
      ],
      "text/plain": [
       "<IPython.core.display.Latex object>"
      ]
     },
     "metadata": {},
     "output_type": "display_data"
    }
   ],
   "source": [
    "# OR\n",
    "k, n, p = 40, 120, 0.26\n",
    "zstat = 1.83\n",
    "precision = 3\n",
    "\n",
    "stat, pval = proportion.proportions_ztest(count=k, nobs=n, value=p, alternative='larger', prop_var=p)\n",
    "display(Latex(f\"$P(p > {p}) = P(z > {round(zstat, precision)}) = {round(pval, precision)}$\"))"
   ]
  },
  {
   "cell_type": "markdown",
   "id": "4bf35235-693a-48ec-b7ee-a86fdef30582",
   "metadata": {},
   "source": [
    "---\n",
    "\n",
    "### Example 2: Two-tailed\n",
    "\n",
    "Elliot read a report from a previous year saying that $6\\%$ of adults in his city biked to work. He wanted to test whether this had changed, so he took a random sample of $240$ adults in his city to test $H_0:p=0.06$ versus $H_\\text{a}:p \\neq 0.06$, where $p$ is the proportion of adults in Elliot's city that bike to work.\n",
    "\n",
    "The sample results showed $21$ adults who biked to work, and the corresponding test statistic was $z \\approx 1.79$.\n",
    "\n",
    "**Assuming that the necessary conditions are met, what is the approximate P-value for Elliot's significance test?**  \n",
    "_You may round to three decimal places._"
   ]
  },
  {
   "cell_type": "code",
   "execution_count": 8,
   "id": "316025bf-a1d9-4e6e-bd1a-fb4cb28b1a1c",
   "metadata": {},
   "outputs": [
    {
     "data": {
      "text/latex": [
       "$P(p != 0.06) = P(z != 1.79) = 0.073$"
      ],
      "text/plain": [
       "<IPython.core.display.Latex object>"
      ]
     },
     "metadata": {},
     "output_type": "display_data"
    }
   ],
   "source": [
    "k, n, p = 21, 240, 0.06\n",
    "z = 1.79\n",
    "precision = 3\n",
    "\n",
    "stat, pval = proportion.proportions_ztest(count=k, nobs=n, value=p, alternative='two-sided', prop_var=p)\n",
    "display(Latex(f\"$P(p != {p}) = P(z != {round(z, precision)}) = {round(pval, precision)}$\"))"
   ]
  },
  {
   "cell_type": "markdown",
   "id": "de08d28b-f9f7-46df-bc63-be7723829f40",
   "metadata": {},
   "source": [
    "---\n",
    "\n",
    "### Example 3: Left-tailed\n",
    "\n",
    "The mayor of a town read an article that claimed the national unemployment rate was $8\\%$. They suspected that the unemployment rate was lower in their town, so they took a sample of $128$ residents to test $H_0: p=0.08$ versus $H_\\text{a}:p<0.08$, where $p$ is the proportion of residents that are unemployed.\n",
    "\n",
    "They found that $6$ residents in the sample were unemployed, and the corresponding test statistic was $z \\approx -1.38$.\n",
    "\n",
    "**Assuming that the necessary conditions are met, what is the approximate P-value for this significance test?**  \n",
    "_You may round to three decimal places._"
   ]
  },
  {
   "cell_type": "code",
   "execution_count": 9,
   "id": "911b8fda-75dd-455b-a03e-a7f4a67c4fc8",
   "metadata": {},
   "outputs": [
    {
     "data": {
      "text/latex": [
       "$P(p < 0.08) = P(z < -1.38) = 0.084$"
      ],
      "text/plain": [
       "<IPython.core.display.Latex object>"
      ]
     },
     "metadata": {},
     "output_type": "display_data"
    }
   ],
   "source": [
    "k, n, p = 6, 128, 0.08\n",
    "z = -1.38\n",
    "precision = 3\n",
    "\n",
    "stat, pval = proportion.proportions_ztest(count=k, nobs=n, value=p, alternative='smaller', prop_var=p)\n",
    "display(Latex(f\"$P(p < {p}) = P(z < {round(z, precision)}) = {round(pval, precision)}$\"))"
   ]
  },
  {
   "cell_type": "markdown",
   "id": "eed1f27c-41cf-427c-9495-2496ef922590",
   "metadata": {},
   "source": [
    "---\n",
    "\n",
    "## Making conclusions in a z test for a proportion"
   ]
  },
  {
   "cell_type": "markdown",
   "id": "2bcfee06-ac59-43e1-8b83-fe8f826921a8",
   "metadata": {},
   "source": [
    "---\n",
    "\n",
    "### Example 1\n",
    "\n",
    "According to a large poll in a previous year, about $80\\%$ of homes in a certain county had access to high-speed internet. The following year, researchers wanted to test $H_0: p=0.8$ versus $H_\\text{a}:p<0.8$, where $p$ is the proportion of homes in this county with high-speed internet access.\n",
    "\n",
    "They took a random sample of $250$ homes from that county and found that $191$ of them had access to high-speed internet. The test statistic for these results was $z\\approx -1.42$, and the corresponding P-value was approximately $0.077$.\n",
    "\n",
    "**Assuming the conditions for inference were met, which of these is an appropriate conclusion?**"
   ]
  },
  {
   "cell_type": "markdown",
   "id": "15780e0a-3df4-46d7-a24c-f7f738537a64",
   "metadata": {},
   "source": [
    "At the $\\alpha=0.10$ significance level, they should conclude that less than $80\\%$ of homes in the county had access to high-speed internet.\n",
    "\n",
    "Since the P-value $0.077$ is less than $\\alpha=0.10$, they can reject $H_0$ and conclude $H_\\text{a}$."
   ]
  },
  {
   "cell_type": "markdown",
   "id": "9b1ad17e-033f-4040-aa55-16156c6547ca",
   "metadata": {},
   "source": [
    "---\n",
    "\n",
    "### Example 2\n",
    "\n",
    "An online retailer had a satisfaction guarantee, where they accepted a return and gave a refund for any reason within 30 days of a purchase. About 4\\%4%4, percent of orders were returned under this policy. The company changed the timeframe to within 15 days, and they were curious if that would also change what proportion of orders were returned. They took a sample of orders to test $H_0: p=0.04$ versus $H_\\text{a}: p\\neq0.04$, where $p$ is the proportion of all orders that would result in a return under the new policy.\n",
    "\n",
    "The sample of $500$ orders showed that $15$ orders were returned. Using these results, they calculated a test statistic of $z=-1.14$ and a P-value of approximately $0.25$.\n",
    "\n",
    "**Assuming the conditions for inference were met, what is an appropriate conclusion at the $\\alpha=0.10$ significance level?**"
   ]
  },
  {
   "cell_type": "markdown",
   "id": "6820bcb6-64c7-4d8d-8473-7e52da99ebb3",
   "metadata": {},
   "source": [
    "Fail to reject $H_0$. This isn't enough evidence to conclude that the return rate is no longer $4\\%$.\n",
    "    \n",
    "Since the P-value $0.25$ is greater than $\\alpha=0.10$, they should fail to reject $H_0$ (they don't have enough evidence to conclude $H_\\text{a}$)."
   ]
  },
  {
   "cell_type": "markdown",
   "id": "26c58fcd-c7b2-47e7-9204-4f599c543ff8",
   "metadata": {},
   "source": [
    "---\n",
    "\n",
    "# Test about a population mean"
   ]
  },
  {
   "cell_type": "markdown",
   "id": "d49c3148-5a1b-409b-b182-aea9db2d1cc4",
   "metadata": {},
   "source": [
    "---\n",
    "\n",
    "## Writing hypotheses for a test about a mean\n",
    "\n",
    "### Guidelines for hypotheses\n",
    "\n",
    "-   We write hypotheses in terms of population parameters, not sample statistics.\n",
    "-   The null hypothesis should have a statement of equality.\n",
    "-   The direction of the alternative hypothesis $(<{,}>{,}\\neq)$ depends on the context of the test.\n",
    "\n",
    "### The null hypothesis\n",
    "\n",
    "In a test of significance, we are looking for evidence against the null hypothesis $H_0$.\n",
    "\n",
    "### The alternative hypothesis\n",
    "\n",
    "The alternative hypothesis $H_\\text{a}$ is the claim we are trying to find evidence in favor of."
   ]
  },
  {
   "cell_type": "markdown",
   "id": "4833fd86-3643-4f4f-bc97-96f61683f69c",
   "metadata": {},
   "source": [
    "---\n",
    "\n",
    "### Example 1: One-tailed\n",
    "\n",
    "A restaurant advertises that its burritos weigh $250\\text{ g}$. A consumer advocacy group doubts this claim, and they obtain a random sample of these burritos to test if the mean weight is significantly lower than $250\\text{ g}$.\n",
    "\n",
    "Let $\\mu$ be the mean weight of the burritos at this restaurant and $\\bar x$ be the mean weight of the burritos in the sample.\n",
    "\n",
    "**Which of the following is an appropriate set of hypotheses for their significance test?**"
   ]
  },
  {
   "cell_type": "markdown",
   "id": "a355852e-930e-40a0-b7b2-97331588f218",
   "metadata": {},
   "source": [
    "- $H_{0}: \\mu = 250\\text{ g}$\n",
    "- $H_\\text{a}: \\mu < 250\\text{ g}$"
   ]
  },
  {
   "cell_type": "markdown",
   "id": "67a6e2c6-df1a-480e-86fc-5a1e33bdeaa9",
   "metadata": {},
   "source": [
    "---\n",
    "\n",
    "### Example 2: Two-tailed\n",
    "\n",
    "A pharmaceutical company produces caffeine pills that are each supposed to contain $200\\,\\text{mg}$ of caffeine. A quality control expert took a random sample of pills from a batch and measured the amount of caffeine in each pill in the sample. They want to test if the mean amount is significantly different than $200\\text{ mg}$.\n",
    "\n",
    "Let $\\mu$ be the mean amount in each pill in the entire batch and $\\bar x$ be the mean amount in each pill in the sample.\n",
    "\n",
    "**Which of the following is an appropriate set of hypotheses for their significance test?**"
   ]
  },
  {
   "cell_type": "markdown",
   "id": "f9c1831c-e9ed-43b6-9b6b-dd21238db90c",
   "metadata": {},
   "source": [
    "- $H_{0}: \\mu = 200\\text{ mg}$\n",
    "- $H_\\text{a}: \\mu \\neq 200\\text{ mg}$"
   ]
  },
  {
   "cell_type": "markdown",
   "id": "79d2718a-0b2b-4910-b404-4bf62f6647e4",
   "metadata": {},
   "source": [
    "---\n",
    "\n",
    "## Conditions for inference on a mean\n",
    "\n",
    "> [Conditions for inference on a mean](https://www.khanacademy.org/math/statistics-probability/significance-tests-one-sample/tests-about-population-mean/a/reference-conditions-inference-one-mean)\n",
    "\n",
    "When we want to carry out inference (build a confidence interval or do a significance test) on a mean, the accuracy of our methods depends on a few conditions. Before doing the actual computations of the interval or test, it's important to check whether or not these conditions have been met. Otherwise the calculations and conclusions that follow may not be correct.\n",
    "\n",
    "The conditions we need for inference on a mean are:\n",
    "\n",
    "-   **Random**: A random sample or randomized experiment should be used to obtain the data.\n",
    "-   **Normal**: The sampling distribution of $\\bar x$ (the sample mean) needs to be approximately normal. This is true if our parent population is normal or if our sample is reasonably large $(n \\geq 30)$.\n",
    "-   **Independent**: Individual observations need to be independent. If sampling without replacement, our sample size shouldn't be more than $10\\%$ of the population.\n",
    "\n",
    "Let's look at each of these conditions a little more in-depth.\n",
    "\n",
    "---\n",
    "\n",
    "### The random condition\n",
    "\n",
    "Random samples give us unbiased data from a population. When we don't use random selection, the resulting data usually has some form of bias, so using it to infer something about the population can be risky.\n",
    "\n",
    "More specifically, sample means are unbiased estimators of their population mean. For example, suppose we have a bag of ping pong balls individually numbered from $0$ to $30$, so the population mean of the bag is $15$. We could take random samples of balls from the bag and calculate the mean from each sample. Some samples would have a mean higher than $15$ and some would be lower. But on average, the mean of each sample will equal $15$. We write this property as $\\mu_{\\bar x}=\\mu$, which holds true as long as we are taking random samples.\n",
    "\n",
    "This won't necessarily happen if we use a non-random sample. Biased samples can lead to inaccurate results, so they shouldn't be used to create confidence intervals or carry out significance tests.\n",
    "\n",
    "---\n",
    "\n",
    "### The normal condition\n",
    "\n",
    "The sampling distribution of $\\bar x$ (a sample mean) is approximately normal in a few different cases. The shape of the sampling distribution of $\\bar x$ mostly depends on the shape of the parent population and the sample size $n$.\n",
    "\n",
    "#### Case 1: Parent population is normally distributed\n",
    "\n",
    "If the parent population is normally distributed, then the sampling distribution of $\\bar x$ is approximately normal regardless of sample size. So if we know that the parent population is normally distributed, we pass this condition even if the sample size is small. In practice, however, we usually don't know if the parent population is normally distributed.\n",
    "\n",
    "#### Case 2: Not normal or unknown parent population; sample size is large $(n \\geq 30)$\n",
    "\n",
    "The sampling distribution of $\\bar x$ is approximately normal as long as the sample size is reasonably large. Because of the central limit theorem, when $n \\geq 30$, we can treat the sampling distribution of $\\bar x$ as approximately normal regardless of the shape of the parent population.\n",
    "\n",
    "There are a few rare cases where the parent population has such an unusual shape that the sampling distribution of the sample mean $\\bar x$ isn't quite normal for sample sizes near $30$. These cases are rare, so in practice, we are usually safe to assume approximately normality in the sampling distribution when $n \\geq 30$.\n",
    "\n",
    "#### Case 3: Not normal or unknown parent population; sample size is small $(n<30)$\n",
    "\n",
    "As long as the parent population doesn't have outliers or strong skew, even smaller samples will produce a sampling distribution of $\\bar x$ that is approximately normal. In practice, we can't usually see the shape of the parent population, but we can try to infer shape based on the distribution of data in the sample. If the data in the sample shows skew or outliers, we should doubt that the parent is approximately normal, and so the sampling distribution of $\\bar x$ may not be normal either. But if the sample data are roughly symmetric and don't show outliers or strong skew, we can assume that the sampling distribution of $\\bar x$ will be approximately normal.\n",
    "\n",
    "_The big idea is that we need to graph our sample data when $n<30$ and then make a decision about the normal condition based on the appearance of the sample data._\n",
    "\n",
    "---\n",
    "\n",
    "### The independence condition\n",
    "\n",
    "To use the formula for standard deviation of $\\bar x$, we need individual observations to be independent. In an experiment, good design usually takes care of independence between subjects (control, different treatments, randomization).\n",
    "\n",
    "In an observational study that involves sampling without replacement, individual observations aren't technically independent since removing each observation changes the population. However the $10\\%$ condition says that if we sample $10\\%$ or less of the population, we can treat individual observations as independent since removing each observation doesn't change the population all that much as we sample. For instance, if our sample size is $n=30$, there should to be at least $N=300$ members in the population for the sample to meet the independence condition.\n",
    "\n",
    "Assuming independence between observations allows us to use this formula for standard deviation of $\\bar x$ when we're making confidence intervals or doing significance tests:\n",
    "\n",
    "$\\displaystyle \\sigma_{\\bar x} = \\frac{\\sigma}{\\sqrt{n}}$\n",
    "\n",
    "We usually don't know the population standard deviation $\\sigma$, so we substitute the sample standard deviation $s_x$ as an estimate for $\\sigma$. When we do this, we call it the **standard error** of $\\bar x$ to distinguish it from the standard deviation.\n",
    "\n",
    "So our formula for standard error of $\\bar x$ is:\n",
    "\n",
    "$\\displaystyle \\sigma_{\\bar x} \\approx \\frac{s_x}{\\sqrt{n}}$\n",
    "\n",
    "---\n",
    "\n",
    "### Summary\n",
    "\n",
    "\n",
    "If all three of these conditions are met, then we can we feel good about using $t$ distributions to make a confidence interval or do a significance test. Satisfying these conditions makes our calculations accurate and conclusions reliable.\n",
    "\n",
    "The random condition is perhaps the most important. If we break the random condition, there is probably bias in the data. The only reliable way to correct for a biased sample is to recollect the data in an unbiased way.\n",
    "\n",
    "The other two conditions are important, but if we don't meet the normal or independence conditions, we may not need to start over. For example, there is a way to correct for the lack of independence when we sample more than $10\\%$ of a population, but it's beyond the scope of what we're learning right now.\n",
    "\n",
    "The main idea is that it's important to verify certain conditions are met before we make these confidence intervals or do these significance tests."
   ]
  },
  {
   "cell_type": "markdown",
   "id": "fe1bfbd6-52f1-4bf4-a30c-1377e133d7d7",
   "metadata": {},
   "source": [
    "---\n",
    "\n",
    "### Example 1\n",
    "\n",
    "A gym advertises that its $1{,}000$ members, on average, lost $5 \\text{ kg}$ in their first month of membership. A skeptical employee suspects that the actual average is lower than this, so they take an SRS of $10$ customers and look at each of their weight losses in their first month of membership.\n",
    "\n",
    "The sample data is skewed to the right with an average weight loss of $4.25 \\text{ kg}$ and a standard deviation of about $3 \\text{ kg}$. The employee wants to use these sample data to conduct a $t$ test about the mean.\n",
    "\n",
    "**Which conditions for performing this type of significance test have been met?**"
   ]
  },
  {
   "cell_type": "markdown",
   "id": "e22e6a1f-c222-4c81-8d91-144f24975ff6",
   "metadata": {},
   "source": [
    "- The data is a random sample from the population of interest.\n",
    "- Individual observations are independent."
   ]
  },
  {
   "cell_type": "markdown",
   "id": "95e839a6-ee79-46ab-98cf-3a40b527c2dd",
   "metadata": {},
   "source": [
    "---\n",
    "\n",
    "### Example 2\n",
    "\n",
    "Here are two different samples drawn from two different populations:\n",
    "\n",
    "![](https://raw.githubusercontent.com/ZacksAmber/PicGo/master/img/20220501111921.png)\n",
    "\n",
    "**Which sample satisfies the normal condition for performing a $t$ test?**"
   ]
  },
  {
   "cell_type": "markdown",
   "id": "92af692f-1327-41e8-bc3c-1e29b4db3d88",
   "metadata": {},
   "source": [
    "Sample A only\n",
    "\n",
    "The sample size is large enough ($n=43 \\geq 30$) for the central limit theorem to compensate for the skew."
   ]
  },
  {
   "cell_type": "markdown",
   "id": "77a0050b-6412-4d3c-8c37-8fa8de92e5fa",
   "metadata": {},
   "source": [
    "---\n",
    "\n",
    "### Example 3\n",
    "\n",
    "Here are two different samples drawn from two different populations:\n",
    "\n",
    "![](https://raw.githubusercontent.com/ZacksAmber/PicGo/master/img/20220501123656.png)\n",
    "\n",
    "**Which sample satisfies the normal condition for constructing a $t$ interval?**"
   ]
  },
  {
   "cell_type": "markdown",
   "id": "9830ce8b-65c7-4f64-9c99-2bbc7289558c",
   "metadata": {},
   "source": [
    "Sample A only\n",
    "\n",
    "Even though the sample is small, the sample data are roughly symmetric with no outliers, so it satisfies the normal condition."
   ]
  },
  {
   "cell_type": "markdown",
   "id": "d9c2c714-104a-42de-87d8-51666cd6fbbe",
   "metadata": {},
   "source": [
    "---\n",
    "\n",
    "## Calculating the test statistic in a t test for a mean\n",
    "\n",
    "> [Test statistic](https://en.wikipedia.org/wiki/Test_statistic#:~:text=A%20test%20statistic%20is%20a,to%20perform%20the%20hypothesis%20test.)\n",
    "\n",
    "A **test statistic** is a [statistic](https://en.wikipedia.org/wiki/Statistic \"Statistic\") (a quantity derived from the [sample](https://en.wikipedia.org/wiki/Sample_(statistics) \"Sample (statistics)\")) used in [statistical hypothesis testing](https://en.wikipedia.org/wiki/Statistical_hypothesis_testing \"Statistical hypothesis testing\").[[1]](https://en.wikipedia.org/wiki/Test_statistic#cite_note-CasellaBerger-1) A hypothesis test is typically specified in terms of a test statistic, considered as a numerical summary of a data-set that reduces the data to one value that can be used to perform the hypothesis test. In general, a test statistic is selected or defined in such a way as to quantify, within observed data, behaviours that would distinguish the [null](https://en.wikipedia.org/wiki/Null_hypothesis \"Null hypothesis\") from the [alternative hypothesis](https://en.wikipedia.org/wiki/Alternative_hypothesis \"Alternative hypothesis\"), where such an alternative is prescribed, or that would characterize the null hypothesis if there is no explicitly stated alternative hypothesis.\n",
    "\n",
    "- Assumed population mean(parameter): $\\displaystyle \\mu_{0}$\n",
    "- Standard Deviation(parameter): $\\displaystyle \\sigma$\n",
    "- Sample mean(statistic): $\\displaystyle \\bar x$\n",
    "- Sample standard deviation(statistic): $\\displaystyle s$\n",
    "- Standard Error(statistic): $\\displaystyle SE = s_{\\bar x} \\approx \\sqrt{\\frac{s^2}{n}} = \\frac{s}{\\sqrt{n}}$\n",
    "- Z-Score(parameter): $\\displaystyle z = \\frac{\\bar x - \\mu}{\\sigma}$\n",
    "- test statistic(statistic): $\\displaystyle t = \\frac{\\text{statistics - parameter}}{\\text{standard deviation of statistic (standard error)}} = \\frac{\\bar x - \\mu_{0}}{SE}, df = n - 1$"
   ]
  },
  {
   "cell_type": "markdown",
   "id": "34caed11-bec1-4e84-a76d-f8a676823c75",
   "metadata": {},
   "source": [
    "---\n",
    "\n",
    "### Example 1\n",
    "\n",
    "A company advertises that its cans of caviar each contain $100\\text{ g}$ of their product. A consumer advocacy group doubts this claim, and they obtain a random sample of $8$ cans to test if the mean weight is significantly lower than $100\\text{ g}$. They calculate a sample mean weight of $99\\text{ g}$ and a sample standard deviation of $0.9\\text{ g}$.\n",
    "\n",
    "The advocacy group wants to use these sample data to conduct a $t$ test on the mean. Assume that all conditions for inference have been met.\n",
    "\n",
    "**Identify the correct test statistic for their significance test.**"
   ]
  },
  {
   "cell_type": "markdown",
   "id": "c0fc6188-c39a-4501-8b42-0d0607842e8b",
   "metadata": {},
   "source": [
    "$\\displaystyle t = \\frac{99 - 100}{\\sqrt{\\frac{0.9}{8}}}$"
   ]
  },
  {
   "cell_type": "markdown",
   "id": "7c5bcc6c-2047-44a0-b731-514976fe4c76",
   "metadata": {},
   "source": [
    "---\n",
    "\n",
    "### Example 2\n",
    "\n",
    "Rory suspects that teachers in his school district have less than $5$ years of experience on average. He decided to test $\\text{H}_0: \\mu=5$ versus $\\text{H}_\\text{a}:\\mu<5$ using a sample of $25$ teachers. His sample mean was $4$ years and his sample standard deviation was $2$ years.\n",
    "\n",
    "Rory wants to use these sample data to conduct a $t$ test on the mean. Assume that all conditions for inference have been met.\n",
    "\n",
    "**Calculate the test statistic for Rory's test.**  \n",
    "_You may round your answer to two decimal places._"
   ]
  },
  {
   "cell_type": "code",
   "execution_count": 10,
   "id": "33e5ff6e-5772-4203-8296-d50291b451e0",
   "metadata": {},
   "outputs": [
    {
     "data": {
      "text/plain": [
       "-2.5"
      ]
     },
     "execution_count": 10,
     "metadata": {},
     "output_type": "execute_result"
    }
   ],
   "source": [
    "n, mu_0, mu_1, sd_1 = 25, 5, 4, 2\n",
    "SE = sd_1 / np.sqrt(n)\n",
    "tstat = (mu_1 - mu_0) / SE\n",
    "tstat"
   ]
  },
  {
   "cell_type": "markdown",
   "id": "ae99e520-ba0b-4f63-a8fb-cfffecafdb46",
   "metadata": {},
   "source": [
    "---\n",
    "\n",
    "## Calculating the P-value in a t test for a mean"
   ]
  },
  {
   "cell_type": "markdown",
   "id": "710d0b1f-3df6-4949-91bf-9e80fb978ec9",
   "metadata": {},
   "source": [
    "---\n",
    "\n",
    "### Example 1\n",
    "\n",
    "Jamarion was testing $H_0: \\mu=45$ versus $H_\\text{a}: \\mu<45$ with a sample of $5$ observations. His sample mean was $40$ and his sample standard deviation was $3$. Assume that the conditions for inference were met.\n",
    "\n",
    "**Which of the following represents the P-value for Jamarion's test?**"
   ]
  },
  {
   "cell_type": "markdown",
   "id": "e7f00ca5-ba58-4878-b637-5d3461d3b2b5",
   "metadata": {},
   "source": [
    "$\\displaystyle P(t < \\frac{40 - 45}{\\frac{3}{\\sqrt{5}}}) \\text{ with 4 degrees of freedom}$"
   ]
  },
  {
   "cell_type": "markdown",
   "id": "d4c6bdbf-f877-4c78-be0a-9c7f5dfb864a",
   "metadata": {},
   "source": [
    "---\n",
    "\n",
    "### Example 2: Left-tailed\n",
    "\n",
    "Evelynn was testing $H_0: \\mu=52$ versus $H_\\text{a}: \\mu<52$ with a sample of $9$ observations. Her test statistic was $t=-2.83$. Assume that the conditions for inference were met.\n",
    "\n",
    "**What is the approximate P-value for Evelynn's test?**"
   ]
  },
  {
   "cell_type": "code",
   "execution_count": 11,
   "id": "77da70b0-bdf5-4efc-84a9-c88feb376fce",
   "metadata": {},
   "outputs": [
    {
     "data": {
      "text/latex": [
       "$P-value = 0.011$"
      ],
      "text/plain": [
       "<IPython.core.display.Latex object>"
      ]
     },
     "metadata": {},
     "output_type": "display_data"
    }
   ],
   "source": [
    "n, tstat = 9, -2.83\n",
    "precision = 3\n",
    "pval = st.t.cdf(x=tstat, df=n-1)\n",
    "\n",
    "display(Latex(f\"$P-value = {round(pval, precision)}$\"))"
   ]
  },
  {
   "cell_type": "markdown",
   "id": "89f71894-fab2-4da6-b3b4-82f4b5d8999d",
   "metadata": {},
   "source": [
    "---\n",
    "\n",
    "### Example 3: Two-tailed\n",
    "\n",
    "Caterina was testing $H_0: \\mu=0$ versus $H_\\text{a}: \\mu\\neq0$ with a sample of $6$ observations. Her test statistic was $t=2.75$. Assume that the conditions for inference were met.\n",
    "\n",
    "**What is the approximate P-value for Caterina's test?**"
   ]
  },
  {
   "cell_type": "code",
   "execution_count": 12,
   "id": "70f398b6-93fe-4b1f-9f0b-fef18ad03c27",
   "metadata": {},
   "outputs": [
    {
     "data": {
      "text/latex": [
       "$P-value = 0.04$"
      ],
      "text/plain": [
       "<IPython.core.display.Latex object>"
      ]
     },
     "metadata": {},
     "output_type": "display_data"
    }
   ],
   "source": [
    "n, tstat = 6, 2.75\n",
    "precision = 3\n",
    "if tstat > 0:\n",
    "    pval = st.t.sf(x=tstat, df=n-1) * 2\n",
    "else:\n",
    "    pval = st.t.cdf(x=tstat, df=n-1) * 2\n",
    "\n",
    "display(Latex(f\"$P-value = {round(pval, precision)}$\"))"
   ]
  },
  {
   "cell_type": "markdown",
   "id": "80620515-731b-4f90-972c-1442e520fabb",
   "metadata": {},
   "source": [
    "---\n",
    "\n",
    "### Example 4: Right-tailed\n",
    "\n",
    "Samuel was testing $H_0: \\mu=12$ versus $H_\\text{a}: \\mu>12$ with a sample of $8$ observations. His test statistic was $t=2.411$. Assume that the conditions for inference were met.\n",
    "\n",
    "**What is the approximate P-value for Samuel's test?**"
   ]
  },
  {
   "cell_type": "code",
   "execution_count": 13,
   "id": "8511c495-b3da-419f-adc5-c18eafa098f7",
   "metadata": {},
   "outputs": [
    {
     "data": {
      "text/latex": [
       "$P-value = 0.023$"
      ],
      "text/plain": [
       "<IPython.core.display.Latex object>"
      ]
     },
     "metadata": {},
     "output_type": "display_data"
    }
   ],
   "source": [
    "n, tstat = 8, 2.411\n",
    "precision = 3\n",
    "pval = st.t.sf(x=tstat, df=n-1)\n",
    "\n",
    "display(Latex(f\"$P-value = {round(pval, precision)}$\"))"
   ]
  },
  {
   "cell_type": "markdown",
   "id": "1588f295-e76d-44d0-ae62-c447f9230914",
   "metadata": {},
   "source": [
    "---\n",
    "\n",
    "### Example 5: Calculate the P-value with or without tstat\n",
    "\n",
    "$n = 12, \\bar x = 127.2, s = 2.1$\n",
    "\n",
    "- $H_{0}: \\mu = 128$\n",
    "- $H_\\text{a}: \\mu < 128$"
   ]
  },
  {
   "cell_type": "code",
   "execution_count": 14,
   "id": "e7689cc7-a9aa-40d3-8c94-f9cf8f64ca60",
   "metadata": {},
   "outputs": [
    {
     "data": {
      "text/plain": [
       "0.10687758177880972"
      ]
     },
     "execution_count": 14,
     "metadata": {},
     "output_type": "execute_result"
    }
   ],
   "source": [
    "# with tstat\n",
    "n, mu_0, mu_1, sd_1 = 12, 128, 127.2, 2.1\n",
    "SE = sd_1 / np.sqrt(n)\n",
    "tstat = (mu_1 - mu_0) / SE\n",
    "precision = 3\n",
    "pval = st.t.cdf(x=tstat, df=n-1)\n",
    "pval"
   ]
  },
  {
   "cell_type": "code",
   "execution_count": 15,
   "id": "17308d26-c472-4e0e-b7fc-8514ac11e939",
   "metadata": {},
   "outputs": [
    {
     "data": {
      "text/plain": [
       "0.10687758177880972"
      ]
     },
     "execution_count": 15,
     "metadata": {},
     "output_type": "execute_result"
    }
   ],
   "source": [
    "# OR without tstat\n",
    "n, mu_0, mu_1, sd_1 = 12, 128, 127.2, 2.1\n",
    "SE = sd_1 / np.sqrt(n)\n",
    "\n",
    "pval = st.t(loc=mu_0, scale=SE, df=n-1).cdf(x=mu_1)\n",
    "pval"
   ]
  },
  {
   "cell_type": "code",
   "execution_count": 16,
   "id": "32862cdb-ac4b-43b2-a40b-7d581a38e9cd",
   "metadata": {},
   "outputs": [
    {
     "data": {
      "text/plain": [
       "(126.66572365661092, 129.33427634338906)"
      ]
     },
     "execution_count": 16,
     "metadata": {},
     "output_type": "execute_result"
    }
   ],
   "source": [
    "# OR confidence interval\n",
    "# If we see the confidence interval of mu_0(128), mu_1(127.2) is located with the 95% (2 sigma) range.\n",
    "# That's the other way that fail to reject the null hypothesis.\n",
    "CL = .95\n",
    "st.t.interval(CL, df=n-1, loc=mu_0, scale=SE)"
   ]
  },
  {
   "cell_type": "code",
   "execution_count": 17,
   "id": "da0f4929-b3af-4503-9bb3-7479a039cc69",
   "metadata": {},
   "outputs": [
    {
     "data": {
      "text/plain": [
       "(-1.3196577581477114, -2.200985160082949)"
      ]
     },
     "execution_count": 17,
     "metadata": {},
     "output_type": "execute_result"
    }
   ],
   "source": [
    "# OR critical value. \n",
    "# As we can see, tstat is larger than the critical value for H0: mean = 128, so we cannot reject H0 with 5% significance level.\n",
    "tstat, st.t.interval(CL, df=n-1)[0]"
   ]
  },
  {
   "cell_type": "markdown",
   "id": "d542798b-7a0c-468b-b5a4-17ff77336de8",
   "metadata": {},
   "source": [
    "---\n",
    "\n",
    "## Making conclusions in a t test for a mean"
   ]
  },
  {
   "cell_type": "markdown",
   "id": "faf5ea4f-0457-4ada-b7a6-341a2510d2e7",
   "metadata": {},
   "source": [
    "---\n",
    "\n",
    "### Example 1\n",
    "\n",
    "A website streams movies and television shows to its subscribers. Employees know that the average time a user spends per session on their website is $2$ hours. The website changed its design, and they wanted to know if the average session length was longer than $2$ hours. They randomly sampled $50$ users to test $H_0: \\mu=2$ versus $H_\\text{a}: \\mu > 2$, where $\\mu$ is the mean session length.\n",
    "\n",
    "Users in the sample had a mean session length of $2.49$ hours and a standard deviation of $1.55$ hours. These results produced a test statistic of $t\\approx2.24$ and a P-value of approximately $0.015$.\n",
    "\n",
    "**Assuming the conditions for inference were met, what is an appropriate conclusion at the $\\alpha=0.05$ significance level?**"
   ]
  },
  {
   "cell_type": "markdown",
   "id": "fdb64c86-74db-4b1d-ace0-a02f98c50ea2",
   "metadata": {},
   "source": [
    "The evidence suggests that the mean session length is longer than $2$ hours.\n",
    "\n",
    "Since the P-value $0.015$ is less than $\\alpha=0.05$, they can reject $H_0$ and conclude $H_\\text{a}$."
   ]
  },
  {
   "cell_type": "markdown",
   "id": "b56b4cd6-fe45-47a1-94c2-31e93f410d7f",
   "metadata": {},
   "source": [
    "---\n",
    "\n",
    "### Example 2\n",
    "\n",
    "Jumbo eggs in Australia, on average, are supposed to weigh $68\\text{ g}$. Tala is in charge of a quality control test that involves weighing a sample of eggs to test $H_0:\\mu=68$ versus $H_\\text{a}: \\mu \\neq 68 \\text{ g}$, where $\\mu$ is the mean weight of the eggs in a batch.\n",
    "\n",
    "Tala sampled $12$ eggs from a batch and found a sample mean weight of $68.5\\text{ g}$ and a standard deviation of $1\\text{ g}$. She calculated a test statistic of $t \\approx 1.73$ and an approximate P-value of $0.111$. Assume that the conditions for inference were met.\n",
    "\n",
    "**Is there sufficient evidence at the $\\alpha=0.10$ level to conclude that the mean weight of the eggs in this batch is not equal to $68\\text{ g}$?**"
   ]
  },
  {
   "cell_type": "markdown",
   "id": "d986a58b-c903-4b40-b918-f76b1755dc6a",
   "metadata": {},
   "source": [
    "No, because $0.111>0.10$.\n",
    "\n",
    "Since the P-value is greater than the significance level $\\alpha$, the correct conclusion is to fail to reject $H_0$ (there is not sufficient evidence to conclude $H_\\text{a}: \\mu \\neq 68\\text{ g}$)."
   ]
  },
  {
   "cell_type": "markdown",
   "id": "326c6969-a3fd-4ab7-b031-bbb878ee3f0e",
   "metadata": {},
   "source": [
    "---\n",
    "\n",
    "### Example 3\n",
    "\n",
    "A quality control engineer is testing the battery life of a new smartphone. The company is advertising that the battery lasts $24$ hours on a full charge, but the engineer suspects that the battery life is actually less than that. They take a random sample of $30$ of these phones to test $H_0: \\mu=24$ hours versus $H_\\text{a}: \\mu < 24$, where $\\mu$ is the mean battery life of these phones.\n",
    "\n",
    "The sample data had a mean of $21$ hours and a standard deviation of 161616 hours. These results produced a test statistic of $t\\approx-1.03$ and a P-value of approximately $0.156$.\n",
    "\n",
    "**Assuming the conditions for inference were met, what is an appropriate conclusion at the $\\alpha=0.10$ significance level?**"
   ]
  },
  {
   "cell_type": "markdown",
   "id": "0f13b764-dd75-40bb-bb69-f349340d1cb1",
   "metadata": {},
   "source": [
    "They cannot conclude the mean battery life is less than $24$ hours.\n",
    "\n",
    "Since the P-value $0.156$ is greater than $\\alpha=0.10$, they should fail to reject $H_0$ (they don't have enough evidence to conclude $H_\\text{a}$)."
   ]
  },
  {
   "cell_type": "markdown",
   "id": "140ac74e-5bda-4b8a-9ce9-19d3c8c1955b",
   "metadata": {},
   "source": [
    "---\n",
    "\n",
    "# More significance testing"
   ]
  },
  {
   "cell_type": "markdown",
   "id": "edeb88ac-93a9-40ff-9f6e-4584a1d8fe66",
   "metadata": {},
   "source": [
    "---\n",
    "\n",
    "## Z-statistics vs. T-statistics"
   ]
  },
  {
   "cell_type": "markdown",
   "id": "ccd7d915-eec4-4038-b0a6-5d8c2401aab8",
   "metadata": {
    "tags": []
   },
   "source": [
    "---\n",
    "\n",
    "### Example 1: Small sample hypothesis test\n",
    "\n",
    "$data: 15.6, 16.2, 22.5, 20.5, 16.4, 19.4, 16.6, 17.9, 12.7, 13.9$\n",
    "\n",
    "- $H_{0}: \\mu = 20$\n",
    "- $H_\\text{a}: \\mu < 20$"
   ]
  },
  {
   "cell_type": "code",
   "execution_count": 18,
   "id": "f865f406-682b-4a6b-8b18-3f5c45110ca5",
   "metadata": {},
   "outputs": [
    {
     "data": {
      "text/plain": [
       "Ttest_1sampResult(statistic=-3.001649525885985, pvalue=0.0074582071244487635)"
      ]
     },
     "execution_count": 18,
     "metadata": {},
     "output_type": "execute_result"
    }
   ],
   "source": [
    "mu_0 = 20\n",
    "arr = np.array([15.6, 16.2, 22.5, 20.5, 16.4, 19.4, 16.6, 17.9, 12.7, 13.9])\n",
    "\n",
    "st.ttest_1samp(a=arr, popmean=20, alternative='less')"
   ]
  },
  {
   "cell_type": "code",
   "execution_count": 19,
   "id": "f0af17a6-de39-4ae8-bce4-e640b61d78cb",
   "metadata": {},
   "outputs": [
    {
     "data": {
      "text/plain": [
       "0.0074582071244487635"
      ]
     },
     "execution_count": 19,
     "metadata": {},
     "output_type": "execute_result"
    }
   ],
   "source": [
    "# with tstat\n",
    "n, mu_0, mu_1, sd_1 = len(arr), 20, arr.mean(), arr.std(ddof=1)\n",
    "SE = sd_1 / np.sqrt(n)\n",
    "tstat = (mu_1 - mu_0) / SE\n",
    "precision = 3\n",
    "pval = st.t.cdf(x=tstat, df=n-1)\n",
    "pval"
   ]
  },
  {
   "cell_type": "code",
   "execution_count": 20,
   "id": "3e2f4026-71f3-44ec-87f3-164e545c09c1",
   "metadata": {},
   "outputs": [
    {
     "data": {
      "text/plain": [
       "0.0074582071244487635"
      ]
     },
     "execution_count": 20,
     "metadata": {},
     "output_type": "execute_result"
    }
   ],
   "source": [
    "# OR without tstat\n",
    "n, mu_0, mu_1, sd_1 = len(arr), 20, arr.mean(), arr.std(ddof=1)\n",
    "SE = sd_1 / np.sqrt(n)\n",
    "\n",
    "pval = st.t(loc=mu_0, scale=SE, df=n-1).cdf(x=mu_1)\n",
    "pval"
   ]
  },
  {
   "cell_type": "markdown",
   "id": "c767d4ab-63ea-4864-b1f9-acee5ed67e8c",
   "metadata": {},
   "source": [
    "---\n",
    "\n",
    "### Example 2: Large sample proportion hypothesis testing\n",
    "\n",
    "- $\\alpha = 5\\%, k = 57, n = 150$\n",
    "\n",
    "- $H_{0}: p \\leq 30\\%$\n",
    "- $H_\\text{a}: p > 30\\%$"
   ]
  },
  {
   "cell_type": "code",
   "execution_count": 21,
   "id": "8dacdaf1-a634-4f16-8184-ead9690dbe10",
   "metadata": {},
   "outputs": [
    {
     "data": {
      "text/plain": [
       "0.016254722322859756"
      ]
     },
     "execution_count": 21,
     "metadata": {},
     "output_type": "execute_result"
    }
   ],
   "source": [
    "k, n, p = 57, 150, 0.3\n",
    "\n",
    "zstat, pval = proportion.proportions_ztest(count=k, nobs=n, value=p, alternative='larger', prop_var=p)\n",
    "pval"
   ]
  },
  {
   "cell_type": "code",
   "execution_count": 22,
   "id": "b18c8191-484f-4bc8-b85a-f5fab1c3ebac",
   "metadata": {},
   "outputs": [
    {
     "data": {
      "text/plain": [
       "(2.138089935299395, 1.959963984540054)"
      ]
     },
     "execution_count": 22,
     "metadata": {},
     "output_type": "execute_result"
    }
   ],
   "source": [
    "# OR critical value\n",
    "# As we can see the zstat is larger than the critical value for H0: p <= 30%, so we can reject H0 with 5% significance level.\n",
    "CL = .95\n",
    "critical_value = st.norm.ppf((1 - CL) / 2 + CL)\n",
    "zstat, critical_value"
   ]
  },
  {
   "cell_type": "code",
   "execution_count": null,
   "id": "a30ec88a-e3e9-4bd5-8411-ca79c2dd2c30",
   "metadata": {},
   "outputs": [],
   "source": []
  }
 ],
 "metadata": {
  "kernelspec": {
   "display_name": "statistics-and-probability",
   "language": "python",
   "name": "statistics-and-probability"
  },
  "language_info": {
   "codemirror_mode": {
    "name": "ipython",
    "version": 3
   },
   "file_extension": ".py",
   "mimetype": "text/x-python",
   "name": "python",
   "nbconvert_exporter": "python",
   "pygments_lexer": "ipython3",
   "version": "3.9.12"
  }
 },
 "nbformat": 4,
 "nbformat_minor": 5
}
