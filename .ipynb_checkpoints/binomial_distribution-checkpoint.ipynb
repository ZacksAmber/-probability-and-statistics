{
 "cells": [
  {
   "cell_type": "code",
   "execution_count": 1,
   "id": "e9695d53-7c1b-4d81-8349-cba05add0751",
   "metadata": {},
   "outputs": [],
   "source": [
    "from scipy.stats import binom\n",
    "from IPython.display import display, Latex"
   ]
  },
  {
   "cell_type": "markdown",
   "id": "2a5533e3-240a-4a14-90cc-88de23e9c17a",
   "metadata": {
    "tags": []
   },
   "source": [
    "# [Binomial Distribution](https://en.wikipedia.org/wiki/Binomial_distribution)\n",
    "\n",
    "> [Probability mass function](https://en.wikipedia.org/wiki/Probability_mass_function)<br>\n",
    "> In [probability](https://en.wikipedia.org/wiki/Probability_theory \"Probability theory\") and [statistics](https://en.wikipedia.org/wiki/Statistics \"Statistics\"), a **probability mass function** is a function that gives the probability that a [discrete random variable](https://en.wikipedia.org/wiki/Discrete_random_variable \"Discrete random variable\") is exactly equal to some value.[[1]](https://en.wikipedia.org/wiki/Probability_mass_function#cite_note-1) Sometimes it is also known as the discrete density function. The probability mass function is often the primary means of defining a [discrete probability distribution](https://en.wikipedia.org/wiki/Discrete_probability_distribution \"Discrete probability distribution\"), and such functions exist for either [scalar](https://en.wikipedia.org/wiki/Scalar_variable \"Scalar variable\") or [multivariate random variables](https://en.wikipedia.org/wiki/Multivariate_random_variable \"Multivariate random variable\") whose [domain](https://en.wikipedia.org/wiki/Domain_of_a_function \"Domain of a function\") is discrete.<br>\n",
    "> A probability mass function differs from a [probability density function](https://en.wikipedia.org/wiki/Probability_density_function) (PDF) in that the latter is associated with continuous rather than discrete random variables. A PDF must be [integrated](https://en.wikipedia.org/wiki/Integration_(mathematics) \"Integration (mathematics)\") over an interval to yield a probability.[[2]](https://en.wikipedia.org/wiki/Probability_mass_function#cite_note-:0-2)<br>\n",
    "> The value of the random variable having the largest probability mass is called the [mode](https://en.wikipedia.org/wiki/Mode_(statistics) \"Mode (statistics)\").\n",
    "\n",
    "> [Cumulative distribution function](https://en.wikipedia.org/wiki/Cumulative_distribution_function)<br>\n",
    "> In [probability theory](https://en.wikipedia.org/wiki/Probability_theory \"Probability theory\") and [statistics](https://en.wikipedia.org/wiki/Statistics \"Statistics\"), the **cumulative distribution function** (**CDF**) of a real-valued [random variable](https://en.wikipedia.org/wiki/Random_variable \"Random variable\") ${\\displaystyle X}$, or just **distribution function** of ${\\displaystyle X}$, evaluated at ${\\displaystyle x}$ that ${\\displaystyle X}$ will take a value less than or equal to ${\\displaystyle x}$.[[1]](https://en.wikipedia.org/wiki/Cumulative_distribution_function#cite_note-1)<br>\n",
    "> In the case of a scalar [continuous distribution](https://en.wikipedia.org/wiki/Continuous_distribution \"Continuous distribution\"), it gives the area under the [probability density function](https://en.wikipedia.org/wiki/Probability_density_function \"Probability density function\") from minus infinity to ${\\displaystyle x}$. Cumulative distribution functions are also used to specify the distribution of [multivariate random variables](https://en.wikipedia.org/wiki/Multivariate_random_variable \"Multivariate random variable\").\n",
    "\n",
    "$$f(k) = {n \\choose k}p^kq^{n-k}$$\n",
    "$$E[X] = np$$\n",
    "$$V[X] = npq$$"
   ]
  },
  {
   "cell_type": "markdown",
   "id": "9ab3dc45-261a-4268-9e6d-97ef06b62608",
   "metadata": {
    "tags": []
   },
   "source": [
    "### Example 1: PMF\n",
    "\n",
    "A small college has $800$ students, $10\\%$, percent of which are left-handed. Suppose they take an SRS (Simple Random Sample) of $4$ students. Let $X=$ the number of left-handed students in the sample.\n",
    "\n",
    "**What is the probability that exactly $2$ of the $4$ students are left-handed?**  \n",
    "_You may round your answer to the nearest hundredth._"
   ]
  },
  {
   "cell_type": "code",
   "execution_count": 2,
   "id": "06a15b9e-db89-4a71-b98e-d8196baa5b2a",
   "metadata": {},
   "outputs": [
    {
     "data": {
      "text/latex": [
       "$P(X=2)=0.05$"
      ],
      "text/plain": [
       "<IPython.core.display.Latex object>"
      ]
     },
     "metadata": {},
     "output_type": "display_data"
    }
   ],
   "source": [
    "k, n, p = 2, 4, 0.1\n",
    "precision = 2\n",
    "pmf = binom.pmf(k, n, p)\n",
    "pmf = round(pmf, precision)\n",
    "display(Latex(f'$P(X=2)={pmf}$'))"
   ]
  },
  {
   "cell_type": "markdown",
   "id": "116cc6a5-6c53-495d-955f-10813632a912",
   "metadata": {},
   "source": [
    "### Example 2: CDF for left tail\n",
    "\n",
    "Aja's favorite cereal is running a promotion that says $1-in-4$ boxes of the cereal contain a prize. Suppose that Aja is going to buy $5$ boxes of this cereal, and let $X$ represent the number of prizes she wins in these boxes. Assume that these boxes represent a random sample, and assume that prizes are independent between boxes.\n",
    "\n",
    "**What is the probability that she wins at most $1$ prize in the $5$ boxes?**  \n",
    "_You may round your answer to the nearest hundredth._"
   ]
  },
  {
   "cell_type": "code",
   "execution_count": 3,
   "id": "ecc2f451-63b5-4346-8c29-b26d21b51fd0",
   "metadata": {},
   "outputs": [
    {
     "data": {
      "text/latex": [
       "$P(X<=1)=0.63$"
      ],
      "text/plain": [
       "<IPython.core.display.Latex object>"
      ]
     },
     "metadata": {},
     "output_type": "display_data"
    }
   ],
   "source": [
    "k, n, p = 1, 5, 1/4\n",
    "precision = 2\n",
    "cdf = binom.cdf(k, n, p)\n",
    "cdf = round(cdf, precision)\n",
    "display(Latex(f'$P(X<=1)={cdf}$'))"
   ]
  },
  {
   "cell_type": "markdown",
   "id": "2f6bb5e2-0724-4f85-8e7c-d52e361f1df1",
   "metadata": {},
   "source": [
    "### Example 3: CDF for left tail\n",
    "\n",
    "Ira ran out of time while taking a multiple-choice test and plans to guess on the last $6$ questions. Each question has $4$ possible choices, one of which is correct. Let $X=$ the number of answers Ira correctly guesses in the last $6$ questions.\n",
    "\n",
    "**What is the probability that he answers fewer than $2$ questions correctly in the last $6$ questions?**  \n",
    "_You may round your answer to the nearest hundredth._"
   ]
  },
  {
   "cell_type": "code",
   "execution_count": 4,
   "id": "bc47d506-b277-45aa-87f9-3eda910e3fc1",
   "metadata": {},
   "outputs": [
    {
     "data": {
      "text/latex": [
       "$P(X<2)=0.53$"
      ],
      "text/plain": [
       "<IPython.core.display.Latex object>"
      ]
     },
     "metadata": {},
     "output_type": "display_data"
    }
   ],
   "source": [
    "k, n, p = 2-1, 6, 1/4\n",
    "precision = 2\n",
    "cdf = binom.cdf(k, n, p)\n",
    "cdf = round(cdf, precision)\n",
    "display(Latex(f'$P(X<2)={cdf}$'))"
   ]
  },
  {
   "cell_type": "markdown",
   "id": "7a6803bc-7e95-4468-abc8-dc99d2d8dd19",
   "metadata": {},
   "source": [
    "### Example 4: CDF for right tail\n",
    "\n",
    "Layla has a coin that has a $60\\%$, percent chance of showing heads each time it is flipped. She is going to flip the coin $5$ times. Let $X$ represent the number of heads she gets.\n",
    "\n",
    "**What is the probability that she gets more than $3$ heads?**  \n",
    "_You may round your answer to the nearest hundredth._"
   ]
  },
  {
   "cell_type": "code",
   "execution_count": 5,
   "id": "c20991e6-b07b-4c88-a0d5-1ad3a3f1b57f",
   "metadata": {},
   "outputs": [
    {
     "data": {
      "text/latex": [
       "$P(X>3)=0.34$"
      ],
      "text/plain": [
       "<IPython.core.display.Latex object>"
      ]
     },
     "metadata": {},
     "output_type": "display_data"
    }
   ],
   "source": [
    "k, n, p = 3, 5, 0.6\n",
    "precision = 2\n",
    "cdf = 1 - binom.cdf(k, n, p)\n",
    "cdf = round(cdf, precision)\n",
    "display(Latex(f'$P(X>3)={cdf}$'))"
   ]
  },
  {
   "cell_type": "markdown",
   "id": "0e6a0cba-1fae-41ef-9441-56e4153ecfbf",
   "metadata": {},
   "source": [
    "### Example 5: CDF for right tail\n",
    "\n",
    "Marta makes $90\\%$, percent of the free throws she attempts. She is going to shoot $3$ free throws. Assume that the results of free throws are independent from each other. Let $X$ represent the number of free throws she makes.\n",
    "\n",
    "**Find the probability that Marta makes at least $2$ of the $3$ free throws.**  \n",
    "_You may round your answer to the nearest hundredth._"
   ]
  },
  {
   "cell_type": "code",
   "execution_count": 6,
   "id": "d8838800-1dff-4d5e-8a3e-7ddecad671c7",
   "metadata": {},
   "outputs": [
    {
     "data": {
      "text/latex": [
       "$P(X>=2)=0.97$"
      ],
      "text/plain": [
       "<IPython.core.display.Latex object>"
      ]
     },
     "metadata": {},
     "output_type": "display_data"
    }
   ],
   "source": [
    "k, n, p = 2-1, 3, 0.9\n",
    "precision = 2\n",
    "cdf = 1 - binom.cdf(k, n, p)\n",
    "cdf = round(cdf, precision)\n",
    "display(Latex(f'$P(X>=2)={cdf}$'))"
   ]
  },
  {
   "cell_type": "code",
   "execution_count": null,
   "id": "f1e631cb-f70f-4a73-b70f-335eb597153f",
   "metadata": {},
   "outputs": [],
   "source": []
  }
 ],
 "metadata": {
  "kernelspec": {
   "display_name": "Python 3 (ipykernel)",
   "language": "python",
   "name": "python3"
  },
  "language_info": {
   "codemirror_mode": {
    "name": "ipython",
    "version": 3
   },
   "file_extension": ".py",
   "mimetype": "text/x-python",
   "name": "python",
   "nbconvert_exporter": "python",
   "pygments_lexer": "ipython3",
   "version": "3.9.10"
  }
 },
 "nbformat": 4,
 "nbformat_minor": 5
}
