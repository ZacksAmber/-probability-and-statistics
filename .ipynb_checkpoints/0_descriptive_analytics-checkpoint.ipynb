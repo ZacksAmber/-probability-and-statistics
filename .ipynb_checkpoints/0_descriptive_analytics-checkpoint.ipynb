{
 "cells": [
  {
   "cell_type": "code",
   "execution_count": 1,
   "id": "564a3db0-5d11-44b7-9e8e-14c7938cb5b1",
   "metadata": {},
   "outputs": [],
   "source": [
    "import numpy as np\n",
    "from scipy import stats"
   ]
  },
  {
   "cell_type": "code",
   "execution_count": 2,
   "id": "56614f2b-44a9-48f5-93fa-329f71afea14",
   "metadata": {},
   "outputs": [
    {
     "data": {
      "text/plain": [
       "array([7, 2, 7, 0, 1, 6, 9, 0, 0, 6])"
      ]
     },
     "execution_count": 2,
     "metadata": {},
     "output_type": "execute_result"
    }
   ],
   "source": [
    "rng = np.random.default_rng(2022)\n",
    "arr = rng.integers(low=0, high=10, size=10)\n",
    "arr"
   ]
  },
  {
   "cell_type": "markdown",
   "id": "08adecb4-4288-4a55-914a-f3f614d8ff7d",
   "metadata": {},
   "source": [
    "# [Descriptive statistics](https://en.wikipedia.org/wiki/Descriptive_statistics)\n",
    "\n",
    "## Center of Distribution\n",
    "\n",
    "Mean and median both try to measure the \"central tendency\" in a data set. The goal of each is to get an idea of a \"typical\" value in the data set. The mean is commonly used, but sometimes the median is preferred."
   ]
  },
  {
   "cell_type": "markdown",
   "id": "fcc9ecb3-3e9d-46c5-8937-35b34e4e7c83",
   "metadata": {
    "tags": []
   },
   "source": [
    "### [Mean](https://en.wikipedia.org/wiki/Mean)\n",
    "\n",
    "For a [data set](https://en.wikipedia.org/wiki/Data_set \"Data set\"), the _[arithmetic mean](https://en.wikipedia.org/wiki/Arithmetic_mean \"Arithmetic mean\")_, also known as arithmetic average, is a central value of a finite set of numbers: specifically, the sum of the values divided by the number of values.\n",
    "\n",
    "If the data set were based on a series of observations obtained by [sampling](https://en.wikipedia.org/wiki/Sampling_(statistics) \"Sampling (statistics)\") from a [statistical population](https://en.wikipedia.org/wiki/Statistical_population \"Statistical population\"), the arithmetic mean is the _[sample mean](https://en.wikipedia.org/wiki/Sample_mean \"Sample mean\")_ (denoted ${\\displaystyle {\\bar {x}}}$) to distinguish it from the mean, or [expected value](https://en.wikipedia.org/wiki/Expected_value \"Expected value\"), of the underlying distribution, the _[population mean](https://en.wikipedia.org/wiki/Population_mean \"Population mean\")_ (denoted ${\\displaystyle \\mu }$ or ${\\displaystyle \\mu _{x}}$.\n",
    "\n",
    "- Population mean: $\\mu$ or $\\mu_x$\n",
    "- Sample mean: $\\bar x$"
   ]
  },
  {
   "cell_type": "code",
   "execution_count": 3,
   "id": "234a0793-5e6f-41da-9d6f-f12c76ef20b8",
   "metadata": {},
   "outputs": [
    {
     "data": {
      "text/plain": [
       "3.8"
      ]
     },
     "execution_count": 3,
     "metadata": {},
     "output_type": "execute_result"
    }
   ],
   "source": [
    "mu = np.mean(arr)\n",
    "mu"
   ]
  },
  {
   "cell_type": "markdown",
   "id": "ad1c7212-cfb4-47ec-bb9f-8067889b3edc",
   "metadata": {},
   "source": [
    "### [Median](https://en.wikipedia.org/wiki/Median)\n",
    "\n",
    "In [statistics](https://en.wikipedia.org/wiki/Statistics \"Statistics\") and [probability theory](https://en.wikipedia.org/wiki/Probability_theory \"Probability theory\"), the **median** is the value separating the higher half from the lower half of a [data sample](https://en.wikipedia.org/wiki/Sample_(statistics) \"Sample (statistics)\"), a [population](https://en.wikipedia.org/wiki/Statistical_population \"Statistical population\"), or a [probability distribution](https://en.wikipedia.org/wiki/Probability_distribution \"Probability distribution\"). For a [data set](https://en.wikipedia.org/wiki/Data_set \"Data set\"), it may be thought of as \"the middle\" value."
   ]
  },
  {
   "cell_type": "code",
   "execution_count": 4,
   "id": "c913fb42-0281-4aa8-964e-1dccd5ca1891",
   "metadata": {},
   "outputs": [
    {
     "data": {
      "text/plain": [
       "4.0"
      ]
     },
     "execution_count": 4,
     "metadata": {},
     "output_type": "execute_result"
    }
   ],
   "source": [
    "median = np.median(arr)\n",
    "median"
   ]
  },
  {
   "cell_type": "markdown",
   "id": "790f6b69-61e7-404a-a375-fa140ff78ca6",
   "metadata": {
    "tags": []
   },
   "source": [
    "### [Mode](https://en.wikipedia.org/wiki/Mode_(statistics))\n",
    "\n",
    "The **mode** is the value that appears most often in a set of data values.[[1]](https://en.wikipedia.org/wiki/Mode_(statistics)#cite_note-1) If **X** is a discrete random variable, the mode is the value x (i.e, _**X**_ = _x_) at which the [probability mass function](https://en.wikipedia.org/wiki/Probability_mass_function \"Probability mass function\") takes its maximum value. In other words, it is the value that is most likely to be sampled."
   ]
  },
  {
   "cell_type": "code",
   "execution_count": 5,
   "id": "9d78a648-fde8-497c-b8e9-84243ec88b36",
   "metadata": {},
   "outputs": [
    {
     "data": {
      "text/plain": [
       "array([0])"
      ]
     },
     "execution_count": 5,
     "metadata": {},
     "output_type": "execute_result"
    }
   ],
   "source": [
    "mode = stats.mode(arr)[0]\n",
    "mode"
   ]
  },
  {
   "cell_type": "markdown",
   "id": "e4d56534-50cf-4fc8-be3f-bcd80713294a",
   "metadata": {
    "tags": []
   },
   "source": [
    "---\n",
    "\n",
    "## Data Patterns"
   ]
  },
  {
   "cell_type": "markdown",
   "id": "ba272eb1-af8e-46dd-8d5f-8e7130da54a4",
   "metadata": {},
   "source": [
    "### [Percentile](https://en.wikipedia.org/wiki/Percentile)\n",
    "\n",
    "In [statistics](https://en.wikipedia.org/wiki/Statistics \"Statistics\"), a **_k_-th** **percentile** (**percentile score** or **centile**) is a [score](https://en.wikipedia.org/wiki/Raw_score \"Raw score\") _below which_ a given [percentage](https://en.wikipedia.org/wiki/Percentage \"Percentage\") _k_ of scores in its [frequency distribution](https://en.wikipedia.org/wiki/Frequency_distribution \"Frequency distribution\") falls (exclusive definition) or a score _at or below which_ a given percentage falls (inclusive definition). For example, the 50th percentile (the [median](https://en.wikipedia.org/wiki/Median \"Median\")) is the score below which (exclusive) or at or below which (inclusive) 50% of the scores in the distribution may be found. Percentiles are expressed in the same [unit of measurement](https://en.wikipedia.org/wiki/Unit_of_measurement \"Unit of measurement\") as the input scores; for example, if the scores refer to [human weight](https://en.wikipedia.org/wiki/Human_weight \"Human weight\"), the corresponding percentiles will be expressed in kilograms or pounds.\n",
    "\n",
    "The 25th percentile is also known as the first [quartile](https://en.wikipedia.org/wiki/Quartile \"Quartile\") ($Q_1$), the 50th percentile as the [median](https://en.wikipedia.org/wiki/Median \"Median\") or second quartile ($Q_2$), and the 75th percentile as the third quartile ($Q_3$)."
   ]
  },
  {
   "cell_type": "code",
   "execution_count": 6,
   "id": "8a31e7a8-3fd9-4107-bfe9-129663cfac66",
   "metadata": {},
   "outputs": [
    {
     "data": {
      "text/plain": [
       "0"
      ]
     },
     "execution_count": 6,
     "metadata": {},
     "output_type": "execute_result"
    }
   ],
   "source": [
    "np.percentile(arr, 25, method=\"lower\")"
   ]
  },
  {
   "cell_type": "code",
   "execution_count": 7,
   "id": "bafe3be9-53c5-400c-93d1-dce19bd75503",
   "metadata": {},
   "outputs": [
    {
     "data": {
      "text/plain": [
       "0.5"
      ]
     },
     "execution_count": 7,
     "metadata": {},
     "output_type": "execute_result"
    }
   ],
   "source": [
    "np.percentile(arr, 25, method=\"midpoint\")"
   ]
  },
  {
   "cell_type": "code",
   "execution_count": 8,
   "id": "8e0d8c9b-eac0-472c-aa15-0fa27bcfd01c",
   "metadata": {},
   "outputs": [
    {
     "data": {
      "text/plain": [
       "1"
      ]
     },
     "execution_count": 8,
     "metadata": {},
     "output_type": "execute_result"
    }
   ],
   "source": [
    "np.percentile(arr, 25, method=\"higher\")"
   ]
  },
  {
   "cell_type": "code",
   "execution_count": 9,
   "id": "554196f1-692e-4c0b-b640-03c5bd2cb7a4",
   "metadata": {},
   "outputs": [
    {
     "data": {
      "text/plain": [
       "6"
      ]
     },
     "execution_count": 9,
     "metadata": {},
     "output_type": "execute_result"
    }
   ],
   "source": [
    "np.percentile(arr, 75, method=\"lower\")"
   ]
  },
  {
   "cell_type": "code",
   "execution_count": 10,
   "id": "35ad8acd-252b-4820-83f9-1fda20322646",
   "metadata": {},
   "outputs": [
    {
     "data": {
      "text/plain": [
       "6.5"
      ]
     },
     "execution_count": 10,
     "metadata": {},
     "output_type": "execute_result"
    }
   ],
   "source": [
    "np.percentile(arr, 75, method=\"midpoint\")"
   ]
  },
  {
   "cell_type": "code",
   "execution_count": 11,
   "id": "742c6b98-7f96-470a-a2c8-2f54370946f6",
   "metadata": {},
   "outputs": [
    {
     "data": {
      "text/plain": [
       "7"
      ]
     },
     "execution_count": 11,
     "metadata": {},
     "output_type": "execute_result"
    }
   ],
   "source": [
    "np.percentile(arr, 75, method=\"higher\")"
   ]
  },
  {
   "cell_type": "markdown",
   "id": "9d5fdf5b-c993-4507-913c-2ca8322b8af8",
   "metadata": {
    "tags": []
   },
   "source": [
    "### [IQR](https://en.wikipedia.org/wiki/Interquartile_range)\n",
    "\n",
    "In [descriptive statistics](https://en.wikipedia.org/wiki/Descriptive_statistics \"Descriptive statistics\"), the **interquartile range** (**IQR**) is a measure of [statistical dispersion](https://en.wikipedia.org/wiki/Statistical_dispersion \"Statistical dispersion\"). It is the spread of the data or observations.[[1]](https://en.wikipedia.org/wiki/Interquartile_range#cite_note-:1-1) The IQR may also be called the **midspread**, **middle 50%**, or **H‑spread.** It is defined as the spread difference between the 75th and 25th [percentiles](https://en.wikipedia.org/wiki/Percentiles \"Percentiles\") of the data.[[2]](https://en.wikipedia.org/wiki/Interquartile_range#cite_note-Upton-2)[[3]](https://en.wikipedia.org/wiki/Interquartile_range#cite_note-ZK-3)[[4]](https://en.wikipedia.org/wiki/Interquartile_range#cite_note-4) To calculate the IQR, the data set is divided into [quartiles](https://en.wikipedia.org/wiki/Quartile \"Quartile\"), or four rank-ordered even parts via linear interpolation.[[1]](https://en.wikipedia.org/wiki/Interquartile_range#cite_note-:1-1) These quartiles are denoted by $Q_1$ (also called the lower quartile), $Q_2$ (the [median](https://en.wikipedia.org/wiki/Median \"Median\")), and $Q_3$ (also called the upper quartile). The lower quartile corresponds with the 25th percentile and the upper quartile corresponds with the 75th percentile, so $IQR = Q_3 − Q_1$."
   ]
  },
  {
   "cell_type": "code",
   "execution_count": 12,
   "id": "1b299bfd-3291-482c-8194-681c22034a64",
   "metadata": {},
   "outputs": [
    {
     "data": {
      "text/plain": [
       "6.5"
      ]
     },
     "execution_count": 12,
     "metadata": {},
     "output_type": "execute_result"
    }
   ],
   "source": [
    "stats.iqr(arr)"
   ]
  },
  {
   "cell_type": "code",
   "execution_count": 13,
   "id": "691e334d-4f49-4f71-8a9f-c00c3b6281cf",
   "metadata": {},
   "outputs": [
    {
     "data": {
      "text/plain": [
       "6.0"
      ]
     },
     "execution_count": 13,
     "metadata": {},
     "output_type": "execute_result"
    }
   ],
   "source": [
    "stats.iqr(arr, interpolation=\"midpoint\")"
   ]
  },
  {
   "cell_type": "code",
   "execution_count": 14,
   "id": "e5dbf0b0-f9da-4c5f-b5e0-7e71561fc33c",
   "metadata": {},
   "outputs": [
    {
     "data": {
      "text/plain": [
       "(0.0, 7.0, 7.0)"
      ]
     },
     "execution_count": 14,
     "metadata": {},
     "output_type": "execute_result"
    }
   ],
   "source": [
    "# IQR function, Q1, Q3, and IQR are not the same value as np.percentile and scipy.stats.iqr\n",
    "def iqr(arr):\n",
    "    arr.sort()\n",
    "    pivot = len(arr) // 2\n",
    "    if len(arr) % 2 == 1:\n",
    "        arr.pop(pivot)\n",
    "    Q1, Q3 = np.median(arr[:pivot]), np.median(arr[pivot:])\n",
    "    IQR = Q3 - Q1\n",
    "    return Q1, Q3, IQR\n",
    "\n",
    "iqr(arr)"
   ]
  },
  {
   "cell_type": "markdown",
   "id": "e525c261-84f3-45ff-b05a-71add8287a98",
   "metadata": {},
   "source": [
    "## Data Variability\n",
    "\n",
    "### [Variance](https://en.wikipedia.org/wiki/Variance)\n",
    "\n",
    "In [probability theory](https://en.wikipedia.org/wiki/Probability_theory \"Probability theory\") and [statistics](https://en.wikipedia.org/wiki/Statistics \"Statistics\"), **variance** is the [expectation](https://en.wikipedia.org/wiki/Expected_value \"Expected value\") of the squared [deviation](https://en.wikipedia.org/wiki/Deviation_(statistics) \"Deviation (statistics)\") of a [random variable](https://en.wikipedia.org/wiki/Random_variable \"Random variable\") from its [population mean](https://en.wikipedia.org/wiki/Population_mean \"Population mean\") or [sample mean](https://en.wikipedia.org/wiki/Sample_mean \"Sample mean\"). Variance is a measure of [dispersion](https://en.wikipedia.org/wiki/Statistical_dispersion \"Statistical dispersion\"), meaning it is a measure of how far a set of numbers is spread out from their average value. Variance has a central role in statistics, where some ideas that use it include [descriptive statistics](https://en.wikipedia.org/wiki/Descriptive_statistics \"Descriptive statistics\"), [statistical inference](https://en.wikipedia.org/wiki/Statistical_inference \"Statistical inference\"), [hypothesis testing](https://en.wikipedia.org/wiki/Hypothesis_testing \"Hypothesis testing\"), [goodness of fit](https://en.wikipedia.org/wiki/Goodness_of_fit \"Goodness of fit\"), and [Monte Carlo sampling](https://en.wikipedia.org/wiki/Monte_Carlo_method \"Monte Carlo method\"). Variance is an important tool in the sciences, where statistical analysis of data is common. The variance is the square of the [standard deviation](https://en.wikipedia.org/wiki/Standard_deviation \"Standard deviation\"), the second [central moment](https://en.wikipedia.org/wiki/Central_moment \"Central moment\") of a [distribution](https://en.wikipedia.org/wiki/Probability_distribution \"Probability distribution\"), and the [covariance](https://en.wikipedia.org/wiki/Covariance \"Covariance\") of the random variable with itself, and it is often represented by ${\\displaystyle \\sigma ^{2}}$, ${\\displaystyle s^{2}}$, ${\\displaystyle \\operatorname {Var} (X)}$, ${\\displaystyle V(X)}$, or ${\\displaystyle \\mathbb {V} (X)}$.[[1]](https://en.wikipedia.org/wiki/Variance#cite_note-1)\n",
    "\n",
    "- Population Variance: $\\sigma^2$\n",
    "- Sample Variance: $s^2$"
   ]
  },
  {
   "cell_type": "code",
   "execution_count": 15,
   "id": "59d2a9bf-b9a2-4666-97b8-3df272f5e132",
   "metadata": {},
   "outputs": [
    {
     "data": {
      "text/plain": [
       "11.16"
      ]
     },
     "execution_count": 15,
     "metadata": {},
     "output_type": "execute_result"
    }
   ],
   "source": [
    "# Population Variance\n",
    "variance = np.var(arr)\n",
    "variance"
   ]
  },
  {
   "cell_type": "code",
   "execution_count": 16,
   "id": "3b4f1c68-a738-4111-bb47-7056e354ada8",
   "metadata": {},
   "outputs": [
    {
     "data": {
      "text/plain": [
       "12.4"
      ]
     },
     "execution_count": 16,
     "metadata": {},
     "output_type": "execute_result"
    }
   ],
   "source": [
    "# Sample Variance\n",
    "variance = np.var(arr, ddof=1)\n",
    "variance"
   ]
  },
  {
   "cell_type": "markdown",
   "id": "695dce29-07e5-4152-87e8-156290b2d173",
   "metadata": {},
   "source": [
    "### [Standard Deviation](https://en.wikipedia.org/wiki/Standard_deviation)\n",
    "\n",
    "In [statistics](https://en.wikipedia.org/wiki/Statistics \"Statistics\"), the **standard deviation** is a measure of the amount of variation or [dispersion](https://en.wikipedia.org/wiki/Statistical_dispersion \"Statistical dispersion\") of a set of values.[[1]](https://en.wikipedia.org/wiki/Standard_deviation#cite_note-StatNotes-1) A low standard deviation indicates that the values tend to be close to the [mean](https://en.wikipedia.org/wiki/Mean \"Mean\") (also called the [expected value](https://en.wikipedia.org/wiki/Expected_value \"Expected value\")) of the set, while a high standard deviation indicates that the values are spread out over a wider range.\n",
    "\n",
    "Standard deviation may be abbreviated **SD**, and is most commonly represented in mathematical texts and equations by the lower case [Greek letter](https://en.wikipedia.org/wiki/Greek_alphabet \"Greek alphabet\") sigma **[σ](https://en.wikipedia.org/wiki/Sigma \"Sigma\")**, for the population standard deviation, or the [Latin letter](https://en.wikipedia.org/wiki/Latin_alphabet \"Latin alphabet\") [s](https://en.wikipedia.org/wiki/S \"S\"), for the sample standard deviation.\n",
    "\n",
    "- Population SD: $\\sigma$\n",
    "- Sample SD: $s$"
   ]
  },
  {
   "cell_type": "code",
   "execution_count": 17,
   "id": "66c13695-4fd7-443b-8202-9361c19b6bcc",
   "metadata": {},
   "outputs": [
    {
     "data": {
      "text/plain": [
       "3.340658617698013"
      ]
     },
     "execution_count": 17,
     "metadata": {},
     "output_type": "execute_result"
    }
   ],
   "source": [
    "# Population SD\n",
    "sd = np.std(arr)\n",
    "sd"
   ]
  },
  {
   "cell_type": "code",
   "execution_count": 18,
   "id": "2be2323f-7016-4748-9937-1f219b964d41",
   "metadata": {},
   "outputs": [
    {
     "data": {
      "text/plain": [
       "3.521363372331802"
      ]
     },
     "execution_count": 18,
     "metadata": {},
     "output_type": "execute_result"
    }
   ],
   "source": [
    "# Sample SD\n",
    "sd = np.std(arr, ddof=1)\n",
    "sd"
   ]
  },
  {
   "cell_type": "markdown",
   "id": "60d29de1-1250-474d-b954-91cb9898d953",
   "metadata": {},
   "source": [
    "### [Mean Absolute Deviation](https://en.wikipedia.org/wiki/Average_absolute_deviation)\n",
    "\n",
    "The **average absolute deviation** (**AAD**) of a data set is the [average](https://en.wikipedia.org/wiki/Average \"Average\") of the [absolute](https://en.wikipedia.org/wiki/Absolute_value \"Absolute value\") [deviations](https://en.wikipedia.org/wiki/Deviation_(statistics) \"Deviation (statistics)\") from a [central point](https://en.wikipedia.org/wiki/Central_tendency \"Central tendency\"). It is a [summary statistic](https://en.wikipedia.org/wiki/Summary_statistics \"Summary statistics\") of [statistical dispersion](https://en.wikipedia.org/wiki/Statistical_dispersion \"Statistical dispersion\") or variability. In the general form, the central point can be a [mean](https://en.wikipedia.org/wiki/Arithmetic_mean \"Arithmetic mean\"), [median](https://en.wikipedia.org/wiki/Median \"Median\"), [mode](https://en.wikipedia.org/wiki/Mode_(statistics) \"Mode (statistics)\"), or the result of any other measure of central tendency or any reference value related to the given data set. AAD includes the **mean absolute deviation** and the **median absolute deviation** (both abbreviated as **MAD**)."
   ]
  },
  {
   "cell_type": "code",
   "execution_count": 19,
   "id": "7157bfe9-5265-42ea-a515-190b11d165e8",
   "metadata": {},
   "outputs": [
    {
     "data": {
      "text/plain": [
       "3.1999999999999997"
      ]
     },
     "execution_count": 19,
     "metadata": {},
     "output_type": "execute_result"
    }
   ],
   "source": [
    "def mad(arr):\n",
    "    mu = np.mean(arr)\n",
    "    mad = sum(map(lambda x: abs(x - mu), arr)) / len(arr)\n",
    "    return mad\n",
    "\n",
    "mad(arr)"
   ]
  },
  {
   "cell_type": "markdown",
   "id": "d4e05e89-696a-4bf3-8dbc-00f1ae7e85fd",
   "metadata": {},
   "source": [
    "---\n",
    "\n",
    "## [Outlier](https://en.wikipedia.org/wiki/Outlier)\n",
    "\n",
    "In [statistics](https://en.wikipedia.org/wiki/Statistics \"Statistics\"), an **outlier** is a [data point](https://en.wikipedia.org/wiki/Data_point \"Data point\") that differs significantly from other observations.[[1]](https://en.wikipedia.org/wiki/Outlier#cite_note-1)[[2]](https://en.wikipedia.org/wiki/Outlier#cite_note-2) An outlier may be due to variability in the measurement or it may indicate experimental error; the latter are sometimes excluded from the [data set](https://en.wikipedia.org/wiki/Data_set \"Data set\").[[3]](https://en.wikipedia.org/wiki/Outlier#cite_note-3) An outlier can cause serious problems in statistical analyses.\n",
    "\n",
    "**Tukey's fences**\n",
    "\n",
    "Other methods flag observations based on measures such as the [interquartile range](https://en.wikipedia.org/wiki/Interquartile_range \"Interquartile range\"). For example, if ${\\displaystyle Q_{1}}$ and ${\\displaystyle Q_{3}}$ are the lower and upper [quartiles](https://en.wikipedia.org/wiki/Quartile \"Quartile\") respectively, then one could define an outlier to be any observation outside the range:\n",
    "\n",
    "${\\displaystyle {\\big [}Q_{1}-k(Q_{3}-Q_{1}),Q_{3}+k(Q_{3}-Q_{1}){\\big ]}}$\n",
    "\n",
    "for some nonnegative constant $k$. [John Tukey](https://en.wikipedia.org/wiki/John_Tukey \"John Tukey\") proposed this test, where ${\\displaystyle k=1.5}$ indicates an \"outlier\", and ${\\displaystyle k=3}$ indicates data that is \"far out\".[[16]](https://en.wikipedia.org/wiki/Outlier#cite_note-16)"
   ]
  },
  {
   "cell_type": "code",
   "execution_count": 20,
   "id": "51924c0a-6ed0-4975-8f1a-448146538769",
   "metadata": {},
   "outputs": [
    {
     "data": {
      "text/plain": [
       "(-10.5, 17.5)"
      ]
     },
     "execution_count": 20,
     "metadata": {},
     "output_type": "execute_result"
    }
   ],
   "source": [
    "def tukey_outlier(arr):\n",
    "    Q1, Q3, IQR = iqr(arr)\n",
    "    low_outlier = Q1 - 1.5 * IQR\n",
    "    high_outlier = Q3 + 1.5 * IQR\n",
    "    return low_outlier, high_outlier\n",
    "\n",
    "tukey_outlier(arr)"
   ]
  },
  {
   "cell_type": "markdown",
   "id": "c1cc0c7b-3823-4716-b976-1c7312fc5b8a",
   "metadata": {},
   "source": [
    "## Describe"
   ]
  },
  {
   "cell_type": "code",
   "execution_count": 21,
   "id": "e36d2e75-fca8-4535-b532-9423a4fbac1c",
   "metadata": {},
   "outputs": [
    {
     "name": "stdout",
     "output_type": "stream",
     "text": [
      "mean: 3.8\n",
      "Population Variance: 11.16\n",
      "Sample Variance: 12.4\n",
      "Population SD: 3.340658617698013\n",
      "Sample SD: 3.521363372331802\n",
      "MAD: 3.1999999999999997\n",
      "median: 4.0\n",
      "IQR: (0.0, 7.0, 7.0)\n",
      "outlier: (-10.5, 17.5)\n"
     ]
    }
   ],
   "source": [
    "def describe(arr):\n",
    "    print(\"mean:\", np.mean(arr))\n",
    "    print(\"Population Variance:\", np.var(arr))\n",
    "    print(\"Sample Variance:\", np.var(arr, ddof=1))\n",
    "    print(\"Population SD:\", np.std(arr))\n",
    "    print(\"Sample SD:\", np.std(arr, ddof=1))\n",
    "    print(\"MAD:\", mad(arr))\n",
    "    print(\"median:\", np.median(arr))\n",
    "    print(\"IQR:\", iqr(arr))\n",
    "    print(\"outlier:\", tukey_outlier(arr))\n",
    "    \n",
    "describe(arr)"
   ]
  },
  {
   "cell_type": "markdown",
   "id": "44c1794a-d8f1-4168-847a-e73c1432a4ed",
   "metadata": {},
   "source": [
    "---\n",
    "\n",
    "# Modeling Data Distribution"
   ]
  },
  {
   "cell_type": "markdown",
   "id": "cb470642-02bb-4af9-963b-99ad8fdfef83",
   "metadata": {},
   "source": [
    "## [Z-Scores](https://en.wikipedia.org/wiki/Standard_score)\n",
    "\n",
    "In [statistics](https://en.wikipedia.org/wiki/Statistics \"Statistics\"), the **standard score** is the number of [standard deviations](https://en.wikipedia.org/wiki/Standard_deviation \"Standard deviation\") by which the value of a [raw score](https://en.wikipedia.org/wiki/Raw_score) (i.e., an observed value or data point) is above or below the [mean](https://en.wikipedia.org/wiki/Mean \"Mean\") value of what is being observed or measured. Raw scores above the mean have positive standard scores, while those below the mean have negative standard scores.\n",
    "\n",
    "Standard scores are most commonly called **_z_-scores**; the two terms may be used interchangeably, as they are in this article. Other equivalent terms in use include **z-values, normal scores**, **standardized variables** and **pull** in [high energy physics](https://en.wikipedia.org/wiki/High_energy_physics \"High energy physics\").[[1]](https://en.wikipedia.org/wiki/Standard_score#cite_note-1)[[2]](https://en.wikipedia.org/wiki/Standard_score#cite_note-2)\n",
    "\n",
    "Computing a z-score requires knowledge of the mean and standard deviation of the complete population to which a data point belongs; if one only has a [sample](https://en.wikipedia.org/wiki/Sample_(statistics) \"Sample (statistics)\") of observations from the population, then the analogous computation using the sample mean and sample standard deviation yields the [_t_-statistic](https://en.wikipedia.org/wiki/T-statistic)."
   ]
  },
  {
   "cell_type": "code",
   "execution_count": 22,
   "id": "7451c798-f56d-42f6-ab27-65b3daa50db6",
   "metadata": {},
   "outputs": [
    {
     "data": {
      "text/plain": [
       "-1.6666666666666667"
      ]
     },
     "execution_count": 22,
     "metadata": {},
     "output_type": "execute_result"
    }
   ],
   "source": [
    "# Z-Score calculation for single data point\n",
    "def zscore(dp, mean, sd):\n",
    "    \"\"\"zscore returns the Z-Score of a single data point.\n",
    "\n",
    "    Args:\n",
    "        dp (float): Data Point.\n",
    "        mean (float): Mean.\n",
    "        sd (float): Standard Deviation.\n",
    "\n",
    "    Returns:\n",
    "        float: Z-Score of dp.\n",
    "    \"\"\"\n",
    "    z = (dp - mean) / sd\n",
    "    return z\n",
    "\n",
    "zscore(71, 76, 3)"
   ]
  },
  {
   "cell_type": "code",
   "execution_count": 23,
   "id": "c3b1b98d-3fe2-4822-ad98-54af06ac3a07",
   "metadata": {},
   "outputs": [
    {
     "data": {
      "text/plain": [
       "array([-1.13750025, -1.13750025, -1.13750025, -0.83815808, -0.53881591,\n",
       "        0.65855277,  0.65855277,  0.95789494,  0.95789494,  1.55657928])"
      ]
     },
     "execution_count": 23,
     "metadata": {},
     "output_type": "execute_result"
    }
   ],
   "source": [
    "# Z-Scores calculation for every item in an array\n",
    "stats.zscore(arr)"
   ]
  },
  {
   "cell_type": "markdown",
   "id": "f0d6d1ce-1ba8-4788-9d16-5e42a581efc7",
   "metadata": {
    "tags": []
   },
   "source": [
    "## [Normal Distribution](https://en.wikipedia.org/wiki/Normal_distribution)\n",
    "\n",
    "A **normal distribution** is a [probability distribution](https://en.wikipedia.org/wiki/Probability_distribution \"Probability distribution\") used to model phenomena that have a default behaviour and cumulative possible deviations from that behaviour.\n",
    "\n",
    "More rigorously, in [probability theory](https://en.wikipedia.org/wiki/Probability_theory \"Probability theory\"), a **normal distribution** (also known as **Gaussian**, **Gauss**, or **Laplace–Gauss** **distribution**) is a type of [continuous probability distribution](https://en.wikipedia.org/wiki/Continuous_probability_distribution \"Continuous probability distribution\") for a [real-valued](https://en.wikipedia.org/wiki/Real_number \"Real number\") [random variable](https://en.wikipedia.org/wiki/Random_variable \"Random variable\"). The general form of its [probability density function](https://en.wikipedia.org/wiki/Probability_density_function \"Probability density function\") is\n",
    "\n",
    "${\\displaystyle f(x)={\\frac {1}{\\sigma {\\sqrt {2\\pi }}}}e^{-{\\frac {1}{2}}\\left({\\frac {x-\\mu }{\\sigma }}\\right)^{2}}}$"
   ]
  },
  {
   "cell_type": "markdown",
   "id": "2fa41573-e71c-4014-9478-54d0e2c0d672",
   "metadata": {
    "tags": []
   },
   "source": [
    "### [Normal Distribution Empricial Rule](https://en.wikipedia.org/wiki/68%E2%80%9395%E2%80%9399.7_rule)\n",
    "\n",
    "In [statistics](https://en.wikipedia.org/wiki/Statistics \"Statistics\"), the **68–95–99.7 rule**, also known as the **empirical rule**, is a shorthand used to remember the percentage of values that lie within an [interval estimate](https://en.wikipedia.org/wiki/Interval_estimate \"Interval estimate\") in a [normal distribution](https://en.wikipedia.org/wiki/Normal_distribution \"Normal distribution\"): 68%, 95%, and 99.7% of the values lie within one, two, and three [standard deviations](https://en.wikipedia.org/wiki/Standard_deviation \"Standard deviation\") of the [mean](https://en.wikipedia.org/wiki/Arithmetic_mean \"Arithmetic mean\"), respectively."
   ]
  },
  {
   "cell_type": "code",
   "execution_count": 24,
   "id": "9972e6e5-51c4-4ad5-9bae-1e3263193d52",
   "metadata": {},
   "outputs": [
    {
     "name": "stdout",
     "output_type": "stream",
     "text": [
      "n_sd = -1\n"
     ]
    },
    {
     "data": {
      "text/plain": [
       "0.84"
      ]
     },
     "execution_count": 24,
     "metadata": {},
     "output_type": "execute_result"
    }
   ],
   "source": [
    "# Proportion below a value\n",
    "# The lifespans of tigers in a particular zoo are normally distributed. The average tiger lives 13.1 years; \n",
    "# the standard deviation is 1.5 years.\n",
    "# Use the empirical rule (68 - 95 - 99.7%) to estimate the probability of a tiger living longer than 14.6 years.\n",
    "mu, sd = 13.1, 1.5\n",
    "dp = 14.6\n",
    "n_sd = (mu - dp) / sd\n",
    "print(\"n_sd =\", round(n_sd))\n",
    "p = 0.5 + 0.68 / 2\n",
    "round(p, 4)"
   ]
  },
  {
   "cell_type": "code",
   "execution_count": 25,
   "id": "3918def3-6d9d-4cad-b53b-679b579a740e",
   "metadata": {},
   "outputs": [
    {
     "name": "stdout",
     "output_type": "stream",
     "text": [
      "n_sd = 3\n"
     ]
    },
    {
     "data": {
      "text/plain": [
       "0.9985"
      ]
     },
     "execution_count": 25,
     "metadata": {},
     "output_type": "execute_result"
    }
   ],
   "source": [
    "# Proportion above a value\n",
    "# The lifespans of tigers in a particular zoo are normally distributed. The average tiger lives 22.4 years; \n",
    "# the standard deviation is 2.7 years.\n",
    "# Use the empirical rule (68 - 95 - 99.7%) to estimate the probability of a tiger living longer than 14.3 years.\n",
    "mu, sd = 22.4, 2.7\n",
    "dp = 14.3\n",
    "n_sd = (mu - dp) / sd\n",
    "print(\"n_sd =\", round(n_sd))\n",
    "p = 1 - (0.003) / 2\n",
    "round(p, 4)"
   ]
  },
  {
   "cell_type": "code",
   "execution_count": 26,
   "id": "a7d2fd16-57d6-40df-9f39-ba3d450626f1",
   "metadata": {},
   "outputs": [
    {
     "name": "stdout",
     "output_type": "stream",
     "text": [
      "n_sd_low = 3\n",
      "n_sd_high = 1\n"
     ]
    },
    {
     "data": {
      "text/plain": [
       "0.1585"
      ]
     },
     "execution_count": 26,
     "metadata": {},
     "output_type": "execute_result"
    }
   ],
   "source": [
    "# Proportion between two values\n",
    "# The lifespans of tigers in a particular zoo are normally distributed. The average tiger lives 12.5 years; \n",
    "# the standard deviation is 2.4 years.\n",
    "# Use the empirical rule (68 - 95 - 99.7%) to estimate the probability of a tiger living between 5.3 and 10.1 years.\n",
    "mu, sd = 12.5, 2.4\n",
    "dp_low, dp_high = 5.3, 10.1\n",
    "n_sd_low = (mu - dp_low) / sd\n",
    "print(\"n_sd_low =\", round(n_sd_low))\n",
    "n_sd_high = (mu - dp_high) / sd\n",
    "print(\"n_sd_high =\", round(n_sd_high))\n",
    "p = (0.997 - 0.68) / 2\n",
    "round(p, 4)"
   ]
  },
  {
   "cell_type": "markdown",
   "id": "40a55142-2bc9-42ce-bb2b-ab8e92d43d3d",
   "metadata": {},
   "source": [
    "### Normal Distirbution Calculations\n",
    "\n",
    "> [Probability density function](https://en.wikipedia.org/wiki/Probability_density_function)<br>\n",
    "> In [probability theory](https://en.wikipedia.org/wiki/Probability_theory \"Probability theory\"), a **probability density function** (**PDF**), or **density** of a [continuous random variable](https://en.wikipedia.org/wiki/Continuous_random_variable \"Continuous random variable\"), is a [function](https://en.wikipedia.org/wiki/Function_(mathematics) \"Function (mathematics)\") whose value at any given sample (or point) in the [sample space](https://en.wikipedia.org/wiki/Sample_space \"Sample space\") (the set of possible values taken by the random variable) can be interpreted as providing a _relative likelihood_ that the value of the random variable would be close to that sample.[[2]](https://en.wikipedia.org/wiki/Probability_density_function#cite_note-2)[[3]](https://en.wikipedia.org/wiki/Probability_density_function#cite_note-3) In other words, while the _absolute likelihood_ for a continuous random variable to take on any particular value is 0 (since there is an infinite set of possible values to begin with), the value of the PDF at two different samples can be used to infer, in any particular draw of the random variable, how much more likely it is that the random variable would be close to one sample compared to the other sample.\n",
    "\n",
    "> [Cumulative distribution function](https://en.wikipedia.org/wiki/Cumulative_distribution_function)<br>\n",
    "> In [probability theory](https://en.wikipedia.org/wiki/Probability_theory \"Probability theory\") and [statistics](https://en.wikipedia.org/wiki/Statistics \"Statistics\"), the **cumulative distribution function** (**CDF**) of a real-valued [random variable](https://en.wikipedia.org/wiki/Random_variable \"Random variable\") ${\\displaystyle X}$, or just **distribution function** of ${\\displaystyle X}$, evaluated at ${\\displaystyle x}$ that ${\\displaystyle X}$ will take a value less than or equal to ${\\displaystyle x}$.[[1]](https://en.wikipedia.org/wiki/Cumulative_distribution_function#cite_note-1)<br>\n",
    "> In the case of a scalar [continuous distribution](https://en.wikipedia.org/wiki/Continuous_distribution \"Continuous distribution\"), it gives the area under the [probability density function](https://en.wikipedia.org/wiki/Probability_density_function \"Probability density function\") from minus infinity to ${\\displaystyle x}$. Cumulative distribution functions are also used to specify the distribution of [multivariate random variables](https://en.wikipedia.org/wiki/Multivariate_random_variable \"Multivariate random variable\").\n",
    "\n",
    "> [Percent point function](https://en.wikipedia.org/wiki/Quantile_function)<br>\n",
    "> In [probability](https://en.wikipedia.org/wiki/Probability \"Probability\") and [statistics](https://en.wikipedia.org/wiki/Statistics \"Statistics\"), the **[quantile](https://en.wikipedia.org/wiki/Quantile \"Quantile\") function**, associated with a [probability distribution](https://en.wikipedia.org/wiki/Probability_distribution \"Probability distribution\") of a [random variable](https://en.wikipedia.org/wiki/Random_variable \"Random variable\"), specifies the value of the random variable such that the probability of the variable being less than or equal to that value equals the given probability. Intuitively, the quantile function associates with a range at and below a probability input the likelihood that a random variable is realized in that range for some probability distribution. It is also called the **percentile function**, **percent-point function** or **inverse cumulative distribution function**."
   ]
  },
  {
   "cell_type": "code",
   "execution_count": 27,
   "id": "03da419a-16e2-4197-b431-3180e642dd47",
   "metadata": {},
   "outputs": [
    {
     "data": {
      "text/plain": [
       "0.07214503696589383"
      ]
     },
     "execution_count": 27,
     "metadata": {},
     "output_type": "execute_result"
    }
   ],
   "source": [
    "# Proportion below a value\n",
    "# A set of elementary school student heights are normally distributed with a mean of 105 centimeters \n",
    "# and a standard deviation of 10 centimeters. Ikue is an elementary school student with a height of 90.4 centimeters.\n",
    "# What proportion of student heights are lower than Ikue's height?\n",
    "dp, mu, sd = 90.4, 105, 10\n",
    "p = stats.norm.cdf(zscore(dp, mu, sd))\n",
    "p"
   ]
  },
  {
   "cell_type": "code",
   "execution_count": 28,
   "id": "3a07ba76-2be7-4728-bcc1-7a23f569665c",
   "metadata": {},
   "outputs": [
    {
     "data": {
      "text/plain": [
       "0.8943502263331446"
      ]
     },
     "execution_count": 28,
     "metadata": {},
     "output_type": "execute_result"
    }
   ],
   "source": [
    "# Proportion above a value\n",
    "# A set of chemistry exam scores are normally distributed with a mean of 70 points and a standard deviation of 4 points. \n",
    "# Cam got a score of 65 points on the exam.\n",
    "# What proportion of exam scores are higher than Cam's score?\n",
    "dp, mu, sd = 65, 70, 4\n",
    "p = 1 - stats.norm.cdf(zscore(dp, mu, sd))\n",
    "p"
   ]
  },
  {
   "cell_type": "code",
   "execution_count": 29,
   "id": "35ad2d47-1565-4e0c-b58d-35f3acb43877",
   "metadata": {},
   "outputs": [
    {
     "data": {
      "text/plain": [
       "0.9539544003016089"
      ]
     },
     "execution_count": 29,
     "metadata": {},
     "output_type": "execute_result"
    }
   ],
   "source": [
    "# Proportion between two values\n",
    "# A set of average city temperatures in October are normally distributed with a mean of 21.02 degrees and a standard deviation of 2.\n",
    "# What proportion of temperatures are between 17.02 degrees and 25?\n",
    "dp_low, dp_high, mu, sd = 17.02, 25, 21.02, 2\n",
    "p = stats.norm.cdf(zscore(dp_high, mu, sd)) - stats.norm.cdf(zscore(dp_low, mu, sd))\n",
    "p"
   ]
  },
  {
   "cell_type": "code",
   "execution_count": 30,
   "id": "6d77d2fa-8882-4ad9-a79a-5dbbff9039c8",
   "metadata": {},
   "outputs": [
    {
     "name": "stdout",
     "output_type": "stream",
     "text": [
      "Z Score = 0.0\n",
      "Data Point = 221.0\n"
     ]
    }
   ],
   "source": [
    "# Finding Z-Score for a left tail probability and Proportions under the left tail probability\n",
    "# The distribution of reading scale scores in the 4th grade at Truman Elementary School was approximately normal with\n",
    "# mean mu = 221 and standard deviation sd = 36.\n",
    "# Educational researchers are conducting an intervention experiment. To participate in the experiment, \n",
    "# a student must have a reading scale score in the lower 50% of the scores in their grade level.\n",
    "# What is the maximum reading scale score for students to participate in the intervention experiment?\n",
    "mu, sd = 221, 36\n",
    "z = stats.norm.ppf(0.5)\n",
    "print(\"Z Score =\", z)\n",
    "# Inverse Z Score formula\n",
    "dp = z * sd + mu\n",
    "print(\"Data Point =\", dp)"
   ]
  },
  {
   "cell_type": "code",
   "execution_count": 31,
   "id": "9f72a8ab-24bc-40a1-85a2-6b14675dfac6",
   "metadata": {},
   "outputs": [
    {
     "name": "stdout",
     "output_type": "stream",
     "text": [
      "Z Score = 1.0364333894937898\n",
      "Data Point = 1830.7315514170004\n"
     ]
    }
   ],
   "source": [
    "# Finding Z-Score for a right tail probability and Proportions above the right tail probability\n",
    "# The distribution of SAT scores of all college-bound seniors taking the SAT in 2014 was approximately normal with\n",
    "# mean mu = 1497 and standard deviation sd = 322.\n",
    "# A certain summer program only admits students whose SAT scores are in the top 15% of those \n",
    "# who take the test in a given year.\n",
    "# What is the minimum SAT score in 2014 that meets the program’s requirements?\n",
    "mu, sd = 1497, 322\n",
    "z = stats.norm.ppf(1 - 0.15)\n",
    "print(\"Z Score =\", z)\n",
    "# Inverse Z Score formula\n",
    "dp = z * sd + mu\n",
    "print(\"Data Point =\", dp)"
   ]
  }
 ],
 "metadata": {
  "kernelspec": {
   "display_name": "Python 3 (ipykernel)",
   "language": "python",
   "name": "python3"
  },
  "language_info": {
   "codemirror_mode": {
    "name": "ipython",
    "version": 3
   },
   "file_extension": ".py",
   "mimetype": "text/x-python",
   "name": "python",
   "nbconvert_exporter": "python",
   "pygments_lexer": "ipython3",
   "version": "3.9.10"
  }
 },
 "nbformat": 4,
 "nbformat_minor": 5
}
