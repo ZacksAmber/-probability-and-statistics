{
 "cells": [
  {
   "cell_type": "code",
   "execution_count": 18,
   "id": "c34e51c3-9d28-4ffc-9899-5337d51edf61",
   "metadata": {},
   "outputs": [],
   "source": [
    "import pandas as pd"
   ]
  },
  {
   "cell_type": "code",
   "execution_count": 20,
   "id": "4a410db9-1342-41d3-ae2d-cea44290dea2",
   "metadata": {},
   "outputs": [],
   "source": [
    "from scipy.stats import binom"
   ]
  },
  {
   "cell_type": "code",
   "execution_count": 25,
   "id": "b61dac1f-c6d8-4f91-8dbc-8f19f7c1470d",
   "metadata": {},
   "outputs": [
    {
     "data": {
      "text/plain": [
       "0.807300071424"
      ]
     },
     "execution_count": 25,
     "metadata": {},
     "output_type": "execute_result"
    }
   ],
   "source": [
    "# 美本+美硕(私立)\n",
    "k, n, p = 0, 6, 0.24\n",
    "\n",
    "1 - binom.cdf(k, n, p)"
   ]
  },
  {
   "cell_type": "code",
   "execution_count": 26,
   "id": "4068644c-60da-4e24-8c1c-f834c63d6735",
   "metadata": {},
   "outputs": [
    {
     "data": {
      "text/plain": [
       "0.953344"
      ]
     },
     "execution_count": 26,
     "metadata": {},
     "output_type": "execute_result"
    }
   ],
   "source": [
    "# 美硕(公立)\n",
    "k, n, p = 0, 6, p + 0.16\n",
    "\n",
    "1 - binom.cdf(k, n, p)"
   ]
  },
  {
   "cell_type": "code",
   "execution_count": null,
   "id": "bfa73d25-1fd8-4921-b59b-0832ce189101",
   "metadata": {},
   "outputs": [],
   "source": []
  }
 ],
 "metadata": {
  "kernelspec": {
   "display_name": "statistics-and-probability",
   "language": "python",
   "name": "statistics-and-probability"
  },
  "language_info": {
   "codemirror_mode": {
    "name": "ipython",
    "version": 3
   },
   "file_extension": ".py",
   "mimetype": "text/x-python",
   "name": "python",
   "nbconvert_exporter": "python",
   "pygments_lexer": "ipython3",
   "version": "3.9.10"
  },
  "toc-autonumbering": false
 },
 "nbformat": 4,
 "nbformat_minor": 5
}
