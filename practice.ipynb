{
 "cells": [
  {
   "cell_type": "code",
   "execution_count": null,
   "id": "74229dce-251a-4735-941d-7cea7e298ce0",
   "metadata": {},
   "outputs": [],
   "source": [
    "import numpy as np\n",
    "from scipy.stats import binom"
   ]
  },
  {
   "cell_type": "code",
   "execution_count": null,
   "id": "c49b448c-5db4-492b-bb83-ae9edef09361",
   "metadata": {},
   "outputs": [],
   "source": [
    "# Z-Score calculation for single data point\n",
    "def zscore(dp, mean, sd):\n",
    "    \"\"\"zscore returns the Z-Score of a single data point.\n",
    "\n",
    "    Args:\n",
    "        dp (float): Data Point.\n",
    "        mean (float): Mean.\n",
    "        sd (float): Standard Deviation.\n",
    "\n",
    "    Returns:\n",
    "        float: Z-Score of dp.\n",
    "    \"\"\"\n",
    "    z = (dp - mean) / sd\n",
    "    return z\n",
    "\n",
    "zscore(71, 76, 3)"
   ]
  },
  {
   "cell_type": "code",
   "execution_count": null,
   "id": "8dd885f6-40ab-476b-b321-0f6e901720a3",
   "metadata": {},
   "outputs": [],
   "source": [
    "# Proportion above a value\n",
    "dp, mu, sd = 0, 25, 50\n",
    "p = stats.norm.cdf(zscore(dp, mu, sd))\n",
    "round(p, 4)"
   ]
  },
  {
   "cell_type": "code",
   "execution_count": null,
   "id": "b9418e20-aeb0-4a20-9424-2508a7c273f4",
   "metadata": {},
   "outputs": [],
   "source": [
    "1/2**3"
   ]
  },
  {
   "cell_type": "code",
   "execution_count": null,
   "id": "6f5e2163-23ca-4edd-84e5-1e0bdc9f4518",
   "metadata": {},
   "outputs": [],
   "source": [
    "0.125 * -100 + 0.875 * 20"
   ]
  },
  {
   "cell_type": "code",
   "execution_count": null,
   "id": "2745528d-66cd-410b-9a85-de455d6709ee",
   "metadata": {},
   "outputs": [],
   "source": [
    "k, n, p = 2, 3, 0.5\n",
    "\n",
    "binom.pmf(k, n, p) "
   ]
  },
  {
   "cell_type": "code",
   "execution_count": null,
   "id": "720c2d90-bcd4-4f40-8bc9-ef3f12c299bb",
   "metadata": {},
   "outputs": [],
   "source": [
    "k, n, p = 3, 3, 0.5\n",
    "\n",
    "binom.pmf(k, n, p)"
   ]
  },
  {
   "cell_type": "code",
   "execution_count": null,
   "id": "dd2938d3-f10c-4971-a19a-73f996d632ad",
   "metadata": {},
   "outputs": [],
   "source": [
    "k, n, p = 0, 4, 0.5\n",
    "\n",
    "binom.pmf(k, n, p) * 0"
   ]
  },
  {
   "cell_type": "code",
   "execution_count": null,
   "id": "dc2c318e-e179-45b1-8db0-599fab968098",
   "metadata": {},
   "outputs": [],
   "source": [
    "k, n, p = 1, 4, 0.5\n",
    "\n",
    "binom.pmf(k, n, p) * 3"
   ]
  },
  {
   "cell_type": "code",
   "execution_count": null,
   "id": "c965b653-7396-4fb9-b17d-45343b949590",
   "metadata": {},
   "outputs": [],
   "source": [
    "k, n, p = 2, 4, 0.5\n",
    "\n",
    "binom.pmf(k, n, p) * 5"
   ]
  },
  {
   "cell_type": "code",
   "execution_count": null,
   "id": "dea76e80-7ccc-4586-a823-71c3b9bed4f2",
   "metadata": {},
   "outputs": [],
   "source": [
    "k, n, p = 3, 4, 0.5\n",
    "\n",
    "binom.pmf(k, n, p) * 7"
   ]
  },
  {
   "cell_type": "code",
   "execution_count": null,
   "id": "218f2915-58da-410a-abbe-492ef3a45a18",
   "metadata": {},
   "outputs": [],
   "source": [
    "k, n, p = 4, 4, 0.5\n",
    "\n",
    "binom.pmf(k, n, p) * 10"
   ]
  },
  {
   "cell_type": "code",
   "execution_count": null,
   "id": "a48c19b9-4d82-4bc3-be13-06149ad07b53",
   "metadata": {},
   "outputs": [],
   "source": [
    "0.75 + 1.875 + 1.75 + 0.625"
   ]
  },
  {
   "cell_type": "code",
   "execution_count": null,
   "id": "d4323f33-bf2d-4713-a396-8058138f543e",
   "metadata": {},
   "outputs": [],
   "source": [
    "import pandas as pd"
   ]
  },
  {
   "cell_type": "code",
   "execution_count": null,
   "id": "bb8283ca-8e42-4d5d-8087-b1b80e536749",
   "metadata": {},
   "outputs": [],
   "source": [
    "ks = np.arange(4)\n",
    "points = np.array([3000, 1800, 1300, 800])\n",
    "df = pd.DataFrame({'Correct answers': ks, 'Points': points})\n",
    "df"
   ]
  },
  {
   "cell_type": "code",
   "execution_count": null,
   "id": "9cf1db8c-0aa9-49f6-95fd-1aea56546be4",
   "metadata": {},
   "outputs": [],
   "source": [
    "n, p = 3, 0.5\n",
    "df['Probability'] = df['Correct answers'].apply(lambda k: binom.pmf(k, n, p))\n",
    "df"
   ]
  },
  {
   "cell_type": "code",
   "execution_count": null,
   "id": "ef7128fe-8cfd-4ee9-b265-7c220522a47d",
   "metadata": {},
   "outputs": [],
   "source": [
    "sum(df['Probability'] * df['Points'])"
   ]
  },
  {
   "cell_type": "code",
   "execution_count": null,
   "id": "638ff479-5683-4eaf-aaa3-0886dada9a3c",
   "metadata": {},
   "outputs": [],
   "source": [
    "0.017 * 600 + 0.020 * 400"
   ]
  },
  {
   "cell_type": "code",
   "execution_count": null,
   "id": "f3856dc3-7ebf-44a1-ae45-5bfc2d34633f",
   "metadata": {},
   "outputs": [],
   "source": [
    "0.022 * 750 + 0.027 * 500"
   ]
  },
  {
   "cell_type": "code",
   "execution_count": null,
   "id": "6157703c-552a-4e54-a97f-05172dfcacab",
   "metadata": {},
   "outputs": [],
   "source": [
    "0.4**5 * 10 + (1 - 0.4**5) * -1"
   ]
  },
  {
   "cell_type": "code",
   "execution_count": null,
   "id": "a4aea0cc-6db3-4864-aae1-7cccaaa2a72b",
   "metadata": {},
   "outputs": [],
   "source": [
    "0.3**3 * 15 + (1 - 0.3**3) * -5"
   ]
  },
  {
   "cell_type": "code",
   "execution_count": null,
   "id": "cbe6546c-238d-430d-b5dd-eafe9dc73181",
   "metadata": {},
   "outputs": [],
   "source": [
    "a = np.array([400, 200, 300])\n",
    "b = np.array([0.2, 0.2, 0.1])"
   ]
  },
  {
   "cell_type": "code",
   "execution_count": null,
   "id": "737f3d52-cd91-4768-94a0-43f4eba36106",
   "metadata": {},
   "outputs": [],
   "source": [
    "import pandas as pd"
   ]
  },
  {
   "cell_type": "code",
   "execution_count": null,
   "id": "214d4742-aec6-4b95-8808-0faf8a320a82",
   "metadata": {},
   "outputs": [],
   "source": [
    "72*50 + 28*10"
   ]
  },
  {
   "cell_type": "code",
   "execution_count": null,
   "id": "8bbaa67c-4d0e-4d80-ab78-750f7fd8a5e1",
   "metadata": {},
   "outputs": [],
   "source": [
    "70*65 + 30*35"
   ]
  },
  {
   "cell_type": "code",
   "execution_count": null,
   "id": "f1a0f9c1-6582-4042-9c8e-7909a71bdc25",
   "metadata": {},
   "outputs": [],
   "source": [
    "0.95**10 * 25 + (1-0.95**10) * -5"
   ]
  },
  {
   "cell_type": "code",
   "execution_count": null,
   "id": "b92bdc71-bcde-4b7a-a132-f74928be5df8",
   "metadata": {},
   "outputs": [],
   "source": [
    "(20*167 + 5*33) / 200"
   ]
  },
  {
   "cell_type": "code",
   "execution_count": null,
   "id": "db467182-a7b3-4a1c-8b00-145be04150e6",
   "metadata": {},
   "outputs": [],
   "source": [
    "p = comb(20, 3) / comb(40, 3)\n",
    "p"
   ]
  },
  {
   "cell_type": "code",
   "execution_count": null,
   "id": "42cffe65-0cb2-4e72-aac3-795de1249fa2",
   "metadata": {},
   "outputs": [],
   "source": [
    "p*300 + (1-p) *-30"
   ]
  },
  {
   "cell_type": "code",
   "execution_count": null,
   "id": "0af0f274-4a46-42d6-bb20-ba15ba562e27",
   "metadata": {},
   "outputs": [],
   "source": [
    "p = 1/2 * 19/39"
   ]
  },
  {
   "cell_type": "code",
   "execution_count": null,
   "id": "c7ad5c3a-4f12-4b3f-b673-5bc951a96a39",
   "metadata": {},
   "outputs": [],
   "source": [
    "p*150 + (1-p)* -20"
   ]
  },
  {
   "cell_type": "code",
   "execution_count": null,
   "id": "c114c444-3abf-4ee8-be40-03065094d945",
   "metadata": {},
   "outputs": [],
   "source": [
    "p=0.5**3\n",
    "p"
   ]
  },
  {
   "cell_type": "code",
   "execution_count": null,
   "id": "f2c9ccee-0948-4cdd-a6e9-14e5d589e224",
   "metadata": {},
   "outputs": [],
   "source": [
    "5000*0.05 + 3000*0.2 + 8000*0.25"
   ]
  },
  {
   "cell_type": "code",
   "execution_count": null,
   "id": "d9acf82a-e0a4-4986-9476-c9134c34a846",
   "metadata": {},
   "outputs": [],
   "source": [
    "p, k = 0.3, 3\n",
    "k**p * 50 + (1-k**p) * -2"
   ]
  },
  {
   "cell_type": "code",
   "execution_count": null,
   "id": "3ccf62b8-b65f-4775-8a53-1ec9293942b5",
   "metadata": {},
   "outputs": [],
   "source": [
    "p, k = 0.8, 4\n",
    "k**p * 70 + (1-k**p) * -2"
   ]
  },
  {
   "cell_type": "code",
   "execution_count": null,
   "id": "77ab4f09-670a-4977-b835-474e8d9b991b",
   "metadata": {},
   "outputs": [],
   "source": [
    "0.3**3"
   ]
  },
  {
   "cell_type": "code",
   "execution_count": null,
   "id": "3ac8393e-3f56-497b-8c4e-954ae54a783d",
   "metadata": {},
   "outputs": [],
   "source": [
    "0.3**3*50 + (1-0.3**3)*-2"
   ]
  },
  {
   "cell_type": "code",
   "execution_count": null,
   "id": "81494ee0-83ca-4080-910f-9ca7fbe235da",
   "metadata": {},
   "outputs": [],
   "source": []
  },
  {
   "cell_type": "code",
   "execution_count": null,
   "id": "230bd8b0-91ce-4f10-8c21-86db74df5243",
   "metadata": {},
   "outputs": [],
   "source": [
    "0.8**4*70 + (1-0.8**4)*-2"
   ]
  },
  {
   "cell_type": "code",
   "execution_count": null,
   "id": "39ea5102-b67f-46ea-a0f5-7c716d23fb35",
   "metadata": {},
   "outputs": [],
   "source": [
    "0.3**3"
   ]
  },
  {
   "cell_type": "code",
   "execution_count": null,
   "id": "a5347716-8152-45e9-970c-ff39c6ce2746",
   "metadata": {},
   "outputs": [],
   "source": [
    "2000 * 0.1 + 4000 * 0.15"
   ]
  },
  {
   "cell_type": "code",
   "execution_count": null,
   "id": "c330c7c7-51f8-4542-bf29-2cc53b2b54d6",
   "metadata": {},
   "outputs": [],
   "source": [
    "df = pd.DataFrame({\n",
    "    \"Type of virus\": [\"Pikachu\", \"Trojan\", \"ADA\"], \n",
    "    \"Cost of repair $\": [200, 100, 400],\n",
    "    \"Probability\": [0.25, 0.15, 0.1]})\n",
    "\n",
    "df"
   ]
  },
  {
   "cell_type": "code",
   "execution_count": null,
   "id": "a47d0c83-c431-45e6-8f6b-a018e3383546",
   "metadata": {},
   "outputs": [],
   "source": [
    "400 * 0.1 + 100"
   ]
  },
  {
   "cell_type": "code",
   "execution_count": null,
   "id": "63911c06-90ba-48d9-afa1-ce73a72d5ebe",
   "metadata": {},
   "outputs": [],
   "source": [
    "np.sum(df[\"Cost of repair $\"] * df.Probability)"
   ]
  },
  {
   "cell_type": "code",
   "execution_count": null,
   "id": "6158de58-0ad7-4aa4-9857-f84cc0f14722",
   "metadata": {},
   "outputs": [],
   "source": [
    "48 + 73"
   ]
  },
  {
   "cell_type": "code",
   "execution_count": null,
   "id": "2827ef54-e047-481d-8b3f-23981186e5ca",
   "metadata": {},
   "outputs": [],
   "source": [
    "146*5"
   ]
  },
  {
   "cell_type": "code",
   "execution_count": null,
   "id": "19b9b1d3-45f0-49d2-8940-db65a94e2ffe",
   "metadata": {},
   "outputs": [],
   "source": [
    "121*5"
   ]
  },
  {
   "cell_type": "code",
   "execution_count": null,
   "id": "19a40f12-22d6-414e-a035-49990e6de1b6",
   "metadata": {},
   "outputs": [],
   "source": [
    "k, n, p = 2, 4, 0.5\n",
    "p = binom.cdf(k, n, p)"
   ]
  },
  {
   "cell_type": "code",
   "execution_count": null,
   "id": "83553430-fd7f-4f3a-8adb-195dcb4f884e",
   "metadata": {},
   "outputs": [],
   "source": [
    "p*1 + (1-p)*-3"
   ]
  },
  {
   "cell_type": "code",
   "execution_count": null,
   "id": "c4e76f7f-6e9a-408e-ae89-99db02389993",
   "metadata": {},
   "outputs": [],
   "source": [
    "k, n, p = 5, 5, 0.5\n",
    "p = binom.pmf(k, n, p)"
   ]
  },
  {
   "cell_type": "code",
   "execution_count": null,
   "id": "7f8e597e-c368-4630-a1a5-b1b632d676d8",
   "metadata": {},
   "outputs": [],
   "source": [
    "p*100 + (1-p)*-4"
   ]
  },
  {
   "cell_type": "code",
   "execution_count": null,
   "id": "9b190f45-f249-4bba-912e-137740c8658a",
   "metadata": {},
   "outputs": [],
   "source": [
    "from utils.norm import norm_prop"
   ]
  },
  {
   "cell_type": "code",
   "execution_count": null,
   "id": "115df540-482b-4843-88b1-d54db2d0758b",
   "metadata": {},
   "outputs": [],
   "source": [
    "# Proportion above a value\n",
    "dp, mu, sd = 30, 26, 2\n",
    "p = norm_prop(dp, mu, sd, 'below')\n",
    "p"
   ]
  },
  {
   "cell_type": "code",
   "execution_count": null,
   "id": "55a7e260-f431-4b31-910e-d91abbe0a172",
   "metadata": {},
   "outputs": [],
   "source": [
    "from scipy.stats import norm"
   ]
  },
  {
   "cell_type": "code",
   "execution_count": null,
   "id": "6b0e9071-721c-4b6a-85c2-032eecec9462",
   "metadata": {},
   "outputs": [],
   "source": [
    "norm.cdf(30, 26, 2)"
   ]
  },
  {
   "cell_type": "code",
   "execution_count": null,
   "id": "b9ea5473-ac6a-4941-8a62-785f8b35a850",
   "metadata": {},
   "outputs": [],
   "source": [
    "from utils.src.stats import zscore\n",
    "type(zscore)"
   ]
  },
  {
   "cell_type": "code",
   "execution_count": null,
   "id": "18790795-36b7-4063-9e66-fc4e53a798a6",
   "metadata": {},
   "outputs": [],
   "source": [
    "zscore(1, 0, 1)"
   ]
  },
  {
   "cell_type": "code",
   "execution_count": null,
   "id": "89254e63-0f4c-480f-aaab-60c2a5fee3e0",
   "metadata": {},
   "outputs": [],
   "source": [
    "from utils.src.stats import norm_prop\n",
    "type(norm_prop)"
   ]
  },
  {
   "cell_type": "code",
   "execution_count": null,
   "id": "425ba4d2-6905-4031-871d-613c106ebcd9",
   "metadata": {},
   "outputs": [],
   "source": [
    "import utils.src.norm.norm_prop as norm_prop\n",
    "type(norm_prop)"
   ]
  },
  {
   "cell_type": "code",
   "execution_count": null,
   "id": "220ff92e-588d-40c6-a4fe-f86ffe3f9aa6",
   "metadata": {},
   "outputs": [],
   "source": [
    "import numpy as np\n",
    "from utils.src.stats import zscore, norm_prop, norm_rv\n",
    "from scipy.stats import binom, norm, geom\n",
    "from scipy.special import comb"
   ]
  },
  {
   "cell_type": "code",
   "execution_count": null,
   "id": "2a5f7796-f2e3-407c-a399-75e4ecd448b0",
   "metadata": {},
   "outputs": [],
   "source": [
    "# Proportion above a value\n",
    "dp, mu, sd = 1, 1, 0.05\n",
    "precision = 2\n",
    "p = norm_prop(dp, mu, sd, 'below')\n",
    "p = round(p, precision)\n",
    "p"
   ]
  },
  {
   "cell_type": "code",
   "execution_count": null,
   "id": "0a1c28af-cc4e-49de-9735-3ecf282f1ab9",
   "metadata": {},
   "outputs": [],
   "source": [
    "k, n, p = 3, 5, 0.6\n",
    "binom.pmf(k, n, p)"
   ]
  },
  {
   "cell_type": "code",
   "execution_count": null,
   "id": "2ad3d97a-1a16-4dc7-bddf-3f1e729bbf16",
   "metadata": {},
   "outputs": [],
   "source": [
    "comb(5, 3) * 0.6**3 * 0.4**2"
   ]
  },
  {
   "cell_type": "code",
   "execution_count": null,
   "id": "40deee4d-b075-4b31-93ee-0007f38c113f",
   "metadata": {},
   "outputs": [],
   "source": [
    "n, p = 15, 0.3\n",
    "binom.mean(n, p)"
   ]
  },
  {
   "cell_type": "code",
   "execution_count": null,
   "id": "229f8fdf-8dd6-4ec5-8e4a-7706a6e31478",
   "metadata": {},
   "outputs": [],
   "source": [
    "binom.std(n, p)"
   ]
  },
  {
   "cell_type": "code",
   "execution_count": null,
   "id": "a73ee975-e21a-4e87-85ce-bd206657a70c",
   "metadata": {},
   "outputs": [],
   "source": [
    "arr = np.array([58, 213, 522])"
   ]
  },
  {
   "cell_type": "code",
   "execution_count": null,
   "id": "65636c6c-09fd-4302-bb1a-41b274c4269a",
   "metadata": {},
   "outputs": [],
   "source": [
    "arr / arr.sum()"
   ]
  },
  {
   "cell_type": "code",
   "execution_count": null,
   "id": "5a038ac6-3ca8-486e-9e1c-ff05f0f12e1c",
   "metadata": {},
   "outputs": [],
   "source": [
    "4*33 + 2*8"
   ]
  },
  {
   "cell_type": "code",
   "execution_count": null,
   "id": "3e486695-0d13-4303-9842-1d0dbec94f5c",
   "metadata": {},
   "outputs": [],
   "source": [
    "0.16+0.128+0.512"
   ]
  },
  {
   "cell_type": "code",
   "execution_count": null,
   "id": "c1627e38-8f15-4b40-a68e-384714171741",
   "metadata": {},
   "outputs": [],
   "source": [
    "k, n, p = 1, 3, 0.9\n",
    "binom.pmf(k, n, p)"
   ]
  },
  {
   "cell_type": "code",
   "execution_count": null,
   "id": "bd0b1793-ec30-47ed-8da9-92821e8e009d",
   "metadata": {},
   "outputs": [],
   "source": [
    "n, p = 3, 0.06\n",
    "precision = 2\n",
    "cdf = geom.cdf(n, p)\n",
    "cdf = round(cdf, precision)\n",
    "cdf"
   ]
  },
  {
   "cell_type": "code",
   "execution_count": null,
   "id": "361162db-59f3-4578-8fdf-a559ba8f12b5",
   "metadata": {},
   "outputs": [],
   "source": [
    "n, p = 6, 0.06\n",
    "precision = 2\n",
    "pmf = geom.pmf(n, p)\n",
    "pmf = round(pmf, precision)\n",
    "pmf"
   ]
  },
  {
   "cell_type": "code",
   "execution_count": null,
   "id": "6387a1bb-f438-457b-9f3f-64a65312df76",
   "metadata": {},
   "outputs": [],
   "source": [
    "dp = 736\n",
    "mus = [175]*4\n",
    "sds = [15]*4\n",
    "method = 'T'\n",
    "area = 'above'\n",
    "p = round(1 - norm_rv(dp, mus, sds, method, area), 2)\n",
    "\n",
    "p"
   ]
  },
  {
   "cell_type": "code",
   "execution_count": null,
   "id": "ccdd0cf6-8a08-407a-92d7-691a0d0c0950",
   "metadata": {},
   "outputs": [],
   "source": [
    "norm_rv?"
   ]
  },
  {
   "cell_type": "code",
   "execution_count": null,
   "id": "6efd6722-0a46-42c2-971c-77c703e50da9",
   "metadata": {},
   "outputs": [],
   "source": [
    "dp, mu, sd = 736, 175*4, 15*4\n",
    "1 - norm.cdf(dp, mu, sd)"
   ]
  },
  {
   "cell_type": "code",
   "execution_count": null,
   "id": "3f9c5575-e3da-4d2f-9155-03aa11efe20e",
   "metadata": {},
   "outputs": [],
   "source": [
    "norm_prop(dp, mu, sd, \"above\")"
   ]
  },
  {
   "cell_type": "code",
   "execution_count": null,
   "id": "760cd1fe-8df7-4b2b-af70-2abec4c522b7",
   "metadata": {},
   "outputs": [],
   "source": [
    "dp = 736\n",
    "mus = [175]*4\n",
    "sds = [15]*4\n",
    "method = 'T'\n",
    "area = 'above'\n",
    "p = round(norm_rv(dp, mus, sds, method, area), 2)\n",
    "\n",
    "p"
   ]
  },
  {
   "cell_type": "code",
   "execution_count": null,
   "id": "f0816bb9-1a74-4a04-8b22-95517153286b",
   "metadata": {},
   "outputs": [],
   "source": [
    "dp = 290\n",
    "mus = [65]*4\n",
    "sds = [12]*4\n",
    "method = 'T'\n",
    "area = 'above'\n",
    "p = round(norm_rv(dp, mus, sds, method, area), 2)\n",
    "\n",
    "p"
   ]
  },
  {
   "cell_type": "code",
   "execution_count": null,
   "id": "5d1fbc54-8b37-473e-ae34-9f7490344b18",
   "metadata": {},
   "outputs": [],
   "source": [
    "30000 * 19 + 40000 * 2 + 50000 * 6 + 60000 * 17 + 70000 * 6"
   ]
  },
  {
   "cell_type": "code",
   "execution_count": null,
   "id": "5587ca97-9ac3-4419-bb92-20aa15895f82",
   "metadata": {},
   "outputs": [],
   "source": [
    "2390000 / 50"
   ]
  },
  {
   "cell_type": "code",
   "execution_count": null,
   "id": "c39774be-aa49-42cb-834a-6c71611b514e",
   "metadata": {},
   "outputs": [],
   "source": [
    "47800.0 * 70"
   ]
  },
  {
   "cell_type": "code",
   "execution_count": null,
   "id": "aaa70d4c-2e70-4364-8eb0-1f27474e1ab6",
   "metadata": {},
   "outputs": [],
   "source": []
  },
  {
   "cell_type": "code",
   "execution_count": null,
   "id": "0c659473-cb9b-4057-a643-0d1353eca39f",
   "metadata": {},
   "outputs": [],
   "source": [
    "50*0.99"
   ]
  },
  {
   "cell_type": "code",
   "execution_count": null,
   "id": "0adfe1fb-1704-4a4f-92e8-4eaacd7574d4",
   "metadata": {},
   "outputs": [],
   "source": [
    "3/21"
   ]
  },
  {
   "cell_type": "code",
   "execution_count": null,
   "id": "40881fa0-11d8-42e9-ac63-39269b6f96ae",
   "metadata": {},
   "outputs": [],
   "source": [
    "0.12 + 3*0.42+7*0.52"
   ]
  },
  {
   "cell_type": "code",
   "execution_count": null,
   "id": "140b907c-86e3-4e34-913d-0f98d43a3ac3",
   "metadata": {},
   "outputs": [],
   "source": [
    "0.98 * -600 + 0.02 * (50000-600)"
   ]
  },
  {
   "cell_type": "code",
   "execution_count": null,
   "id": "15ea2b6a-8907-4b06-a7fc-a732728a2518",
   "metadata": {},
   "outputs": [],
   "source": [
    "0.09 + 0.03*2 +0.52*3 + 0.24*4 + 0.12 *5"
   ]
  },
  {
   "cell_type": "code",
   "execution_count": null,
   "id": "ce374eea-df14-4746-9329-092fe523ef0d",
   "metadata": {},
   "outputs": [],
   "source": [
    "-10 * 0.995 + (500 - 10) * 0.005"
   ]
  },
  {
   "cell_type": "code",
   "execution_count": null,
   "id": "68d2d698-b692-4a28-bd67-5c8f951d0bb1",
   "metadata": {},
   "outputs": [],
   "source": [
    "def rv_mean(X, P):\n",
    "    \"\"\"rv_mean calculates the expected value (also known as mean) of the random variable X.\n",
    "\n",
    "    Args:\n",
    "        X (array like): Random Variable X.\n",
    "        P (array like): The probability distribution of random variable X.\n",
    "\n",
    "    Returns:\n",
    "        float: The expected value (also known as mean) the random variable X.\n",
    "    \"\"\"\n",
    "    mu = np.average(a=X, weights=P)\n",
    "\n",
    "    return mu"
   ]
  },
  {
   "cell_type": "code",
   "execution_count": null,
   "id": "618fc4e1-5135-4a72-81fb-f44e462f3e24",
   "metadata": {},
   "outputs": [],
   "source": [
    "def rv_std(X, P):\n",
    "    \"\"\"rv_std calculates the standard deviation of the random variable X.\n",
    "\n",
    "    Args:\n",
    "        X (array like): Random Variable X.\n",
    "        P (array like): The probability distribution of random variable X.\n",
    "\n",
    "    Returns:\n",
    "        float: The standard deviation of the random variable X.\n",
    "    \"\"\"\n",
    "    mu = rv_mean(X, P)\n",
    "    sd = np.sum((X - mu)**2 * P)**0.5\n",
    "\n",
    "    return sd"
   ]
  },
  {
   "cell_type": "code",
   "execution_count": null,
   "id": "c10c6740-dffd-4c9c-80b1-662ed44a7a45",
   "metadata": {},
   "outputs": [],
   "source": [
    "X = np.array([60, -9940])\n",
    "P = np.array([.999, .001])"
   ]
  },
  {
   "cell_type": "code",
   "execution_count": null,
   "id": "4198ebaf-5e0c-487e-8996-7711af4845f2",
   "metadata": {},
   "outputs": [],
   "source": [
    "rv_std(X, P)"
   ]
  },
  {
   "cell_type": "code",
   "execution_count": null,
   "id": "e611cd20-994f-4287-b23c-9cb296d40aa5",
   "metadata": {},
   "outputs": [],
   "source": [
    "k = np.array([3, 4])\n",
    "n = np.array([10, 10])\n",
    "comb(n, k, exact=False)"
   ]
  },
  {
   "cell_type": "code",
   "execution_count": null,
   "id": "d45dfd35-6fce-4381-97f2-082794720fdc",
   "metadata": {},
   "outputs": [],
   "source": [
    "#k = np.array([3, 4])\n",
    "#n = np.array([10, 10])\n",
    "k = np.array([1, 1])\n",
    "n = np.array([10, 10])\n",
    "comb(n, k, exact=False)"
   ]
  },
  {
   "cell_type": "code",
   "execution_count": null,
   "id": "f96f74ad-6833-4524-9376-38e156d73ece",
   "metadata": {},
   "outputs": [],
   "source": [
    "n = [[1, 2, 3, 4, 5], [6, 7, 8, 9, 10]]\n",
    "k = 1\n",
    "comb(n, k)"
   ]
  },
  {
   "cell_type": "code",
   "execution_count": null,
   "id": "6ab4121c-3c4b-4f24-8b5f-ca8ff943ff9f",
   "metadata": {},
   "outputs": [],
   "source": [
    "comb(5, 2)"
   ]
  },
  {
   "cell_type": "code",
   "execution_count": null,
   "id": "bb04473e-4a6f-4516-9b29-feefd931951b",
   "metadata": {},
   "outputs": [],
   "source": []
  },
  {
   "cell_type": "code",
   "execution_count": null,
   "id": "aa2645bc-e3b1-42a7-ae9e-b9e11f9da41a",
   "metadata": {},
   "outputs": [],
   "source": [
    "import itertools\n",
    "from itertools import product"
   ]
  },
  {
   "cell_type": "code",
   "execution_count": null,
   "id": "94455850-78db-4426-92ca-1734427dbba6",
   "metadata": {},
   "outputs": [],
   "source": [
    "red = np.arange(1, 7)\n",
    "green = np.arange(1, 7)"
   ]
  },
  {
   "cell_type": "code",
   "execution_count": null,
   "id": "22a1a262-5e4c-4d16-a320-77baea2ea1d4",
   "metadata": {},
   "outputs": [],
   "source": [
    "combs = np.array(list(product(red, green)))\n",
    "combs"
   ]
  },
  {
   "cell_type": "code",
   "execution_count": null,
   "id": "6261b91c-e1be-410a-be48-84707974c663",
   "metadata": {},
   "outputs": [],
   "source": [
    "len(combs)"
   ]
  },
  {
   "cell_type": "code",
   "execution_count": null,
   "id": "829c228d-fdd6-48c9-9a54-2a3a6403b414",
   "metadata": {},
   "outputs": [],
   "source": [
    "p_more_than_12 = np.sum(np.sum(combs, axis=1) > 7) / len(combs)\n",
    "p_equal_to_12 = np.sum(np.sum(combs, axis=1) == 7) / len(combs)\n",
    "p_less_than_12 = np.sum(np.sum(combs, axis=1) < 7) / len(combs)\n",
    "print(p_more_than_12)\n",
    "print(p_equal_to_12)\n",
    "print(p_less_than_12)"
   ]
  },
  {
   "cell_type": "code",
   "execution_count": null,
   "id": "8ac7b886-5d26-4a74-b860-b0397fa9742d",
   "metadata": {},
   "outputs": [],
   "source": [
    "E = p_more_than_12 * 5 + p_equal_to_12 * 0 + p_less_than_12 * -4\n",
    "E = round(E, 2)\n",
    "E"
   ]
  },
  {
   "cell_type": "code",
   "execution_count": null,
   "id": "84fa37db-ea4e-4327-b764-ec41582168c5",
   "metadata": {},
   "outputs": [],
   "source": [
    "9/30 * 84"
   ]
  },
  {
   "cell_type": "code",
   "execution_count": null,
   "id": "0fcb356d-d3ee-4eef-b5e7-a5d95ef876ab",
   "metadata": {},
   "outputs": [],
   "source": [
    "10/45*414"
   ]
  },
  {
   "cell_type": "code",
   "execution_count": null,
   "id": "b4addc88-6b4f-44d6-a800-f8900dd12cf7",
   "metadata": {},
   "outputs": [],
   "source": [
    "21/45*516"
   ]
  },
  {
   "cell_type": "markdown",
   "id": "45fa4e63-f586-4aeb-a75a-bd3166ca5698",
   "metadata": {},
   "source": [
    "safdasfdsaf $4 = 2^2$\n",
    "\n",
    "$$2 = \\frac{4}{2}$$\n",
    "\n",
    "$\\sum^i_n{X}$"
   ]
  },
  {
   "cell_type": "code",
   "execution_count": null,
   "id": "f666a1be-431d-4c56-9a69-b6ed2ed91f67",
   "metadata": {},
   "outputs": [],
   "source": [
    "import requests\n",
    "import json\n",
    "import numpy as np\n",
    "\n",
    "from datetime import date, datetime, timezone\n",
    "from itertools import accumulate\n",
    "from inspect import cleandoc\n",
    "\n",
    "class Weather:\n",
    "    \"\"\" Returns the weather forecasting in the next few days.\n",
    "    \"\"\"\n",
    "    def __init__(self, location):\n",
    "        \"\"\"__init__ pass location for weather forecasting.\n",
    "\n",
    "        Args:\n",
    "            location (string): your city.\n",
    "\n",
    "        Example:\n",
    "            weather = Weather('boston')\n",
    "            weather.response # review the response in JSON format\n",
    "            weather.data # review all weather data in JSON format\n",
    "        \"\"\"\n",
    "        self.location = location\n",
    "        self.response = self._api()\n",
    "        self.data = self.response['list']\n",
    "\n",
    "    def _api(self):\n",
    "        # enter your API key here \n",
    "        api_key = \"af239eac3d426ff8aa48238038f3e701\"\n",
    "\n",
    "        # base_url\n",
    "        base_url = \"http://api.openweathermap.org/data/2.5/forecast\"\n",
    "\n",
    "        # complete_url\n",
    "        complete_url = base_url + \"?q=\" + self.location + \"&appid=\" + api_key\n",
    "\n",
    "        # call weather api of https://openweathermap.org/api\n",
    "        response = requests.get(complete_url)\n",
    "\n",
    "        # convert reponse to JSON format\n",
    "        return response.json()\n",
    "\n",
    "    def dates(self):\n",
    "        \"\"\"dates returns the counterpart indexes in self.weather_data['list'] of each date.\n",
    "\n",
    "        Returns:\n",
    "            dict: {date: [start_index, end_index]}\n",
    "\n",
    "        Example:\n",
    "            weather.days()\n",
    "        \"\"\"\n",
    "        # count the number of timestmaps for each date\n",
    "        dates = {}\n",
    "\n",
    "        for i in self.data:\n",
    "            # get date from each piece of data\n",
    "            date = datetime.fromtimestamp(i['dt'], tz=timezone.utc).date().isoformat()\n",
    "            # dates[date] = dates.get(date, []) + [i['dt']] # add timestamp to date\n",
    "            dates[date] = dates.get(date, 0) + 1 # count number of timestamps of date\n",
    "        \n",
    "        # extract the start index and end index of each date\n",
    "        ends = list(accumulate(dates.values()))\n",
    "        starts = list(accumulate(dates.values()))\n",
    "        starts.pop() # remove the last item\n",
    "        starts = [0] + starts\n",
    "        t_range = list(zip(starts, ends))\n",
    "        \n",
    "        # rewrite days to store the counterpart indexes in self.weather_data['list'] of each date\n",
    "        i = 0\n",
    "        for date in dates:\n",
    "            dates[date] = t_range[i]\n",
    "            i += 1\n",
    "\n",
    "        return dates\n",
    "        \n",
    "    def temperature(self, date):\n",
    "        temperatures = []\n",
    "        start, end = self.dates()[date]\n",
    "\n",
    "        for i in self.data[start:end]:\n",
    "            # - kelvin unit (273.15)\n",
    "            temp_min = i['main']['temp_min']\n",
    "            temp_max = i['main']['temp_max']\n",
    "            temperatures.append(round(temp_min - 273.15))\n",
    "            temperatures.append(round(temp_max - 273.15))\n",
    "            \n",
    "        return min(temperatures), max(temperatures)\n",
    "    \n",
    "    def humidity(self, date):\n",
    "        humidities = []\n",
    "        start, end = self.dates()[date]\n",
    "        \n",
    "        for i in self.data[start:end]:\n",
    "            humidities.append(i['main']['humidity'])\n",
    "        \n",
    "        return min(humidities), max(humidities)\n",
    "\n",
    "    def today(self):\n",
    "        today = date.today().isoformat()\n",
    "        temp_min, temp_max = self.temperature(today)\n",
    "        humi_min, humi_max = self.humidity(today)\n",
    "        \n",
    "        report = f\"\"\"\n",
    "        Today's weather:\n",
    "        - Temperature is from {temp_min}°C to {temp_max}°C\n",
    "        - Humidity is from {humi_min}% to {humi_max}%\n",
    "        \"\"\"\n",
    "\n",
    "        print(cleandoc(report)) # Clean up indentation from docstrings that are indented to line up with blocks of code."
   ]
  },
  {
   "cell_type": "code",
   "execution_count": null,
   "id": "fbd733fc-7062-410e-bed4-b83246e8d056",
   "metadata": {},
   "outputs": [],
   "source": [
    "weather = Weather('Beijing')\n",
    "weather.today()"
   ]
  },
  {
   "cell_type": "code",
   "execution_count": null,
   "id": "483a6466-c53b-48c3-90c6-04d297202c11",
   "metadata": {},
   "outputs": [],
   "source": [
    "weather.data"
   ]
  },
  {
   "cell_type": "code",
   "execution_count": null,
   "id": "a4d3bb7b-1f61-4ed1-9a90-6a060ba5f7fc",
   "metadata": {},
   "outputs": [],
   "source": [
    "weather.data[0:3]"
   ]
  },
  {
   "cell_type": "code",
   "execution_count": null,
   "id": "c4fa5435-c0c3-47d6-9291-e97969f9b98d",
   "metadata": {},
   "outputs": [],
   "source": [
    "weather.data[0:5]"
   ]
  },
  {
   "cell_type": "code",
   "execution_count": null,
   "id": "d32ed95e-88d1-45bd-88c9-02a6e192e566",
   "metadata": {},
   "outputs": [],
   "source": [
    "weather.data[0]['main']['temp_min']"
   ]
  },
  {
   "cell_type": "code",
   "execution_count": null,
   "id": "22f110b0-c11f-4e96-a0fb-436ffaeab422",
   "metadata": {},
   "outputs": [],
   "source": [
    "weather.data[0]['main']['temp_max']"
   ]
  },
  {
   "cell_type": "code",
   "execution_count": null,
   "id": "f212a896-4e61-41f2-bdfa-6f8c077beb2f",
   "metadata": {},
   "outputs": [],
   "source": [
    "1-0.95**100"
   ]
  },
  {
   "cell_type": "code",
   "execution_count": null,
   "id": "50f9e377-e3c6-4d63-b1f8-043d5e55c188",
   "metadata": {},
   "outputs": [],
   "source": []
  },
  {
   "cell_type": "code",
   "execution_count": null,
   "id": "a19a2437-16d4-4bf6-ab91-cb33ef503c59",
   "metadata": {},
   "outputs": [],
   "source": []
  },
  {
   "cell_type": "markdown",
   "id": "c84156e2-b95a-4fea-8462-51f0342077f5",
   "metadata": {},
   "source": [
    "![Health Flowchart](https://raw.githubusercontent.com/ZacksAmber/Flowcharts/main/Health.drawio.svg)"
   ]
  },
  {
   "cell_type": "code",
   "execution_count": 8,
   "id": "86797edc-0c9d-4df7-b9f9-b35eae57a796",
   "metadata": {},
   "outputs": [
    {
     "data": {
      "text/plain": [
       "0.9884707849539315"
      ]
     },
     "execution_count": 8,
     "metadata": {},
     "output_type": "execute_result"
    }
   ],
   "source": [
    "1-0.8**20"
   ]
  },
  {
   "cell_type": "code",
   "execution_count": null,
   "id": "c8dbe265-2e0b-4006-a384-2024f0718590",
   "metadata": {},
   "outputs": [],
   "source": []
  },
  {
   "cell_type": "code",
   "execution_count": 18,
   "id": "14d1237c-a34e-43f6-b00a-7aadbc95d09f",
   "metadata": {},
   "outputs": [],
   "source": [
    "import matplotlib"
   ]
  },
  {
   "cell_type": "code",
   "execution_count": 19,
   "id": "55a53a37-bcc9-406f-a439-4fbe681aef76",
   "metadata": {},
   "outputs": [],
   "source": [
    "import pandas as pd"
   ]
  },
  {
   "cell_type": "code",
   "execution_count": 37,
   "id": "7073ff5a-e8ef-418b-a7ec-04785e10ed19",
   "metadata": {},
   "outputs": [
    {
     "data": {
      "text/plain": [
       "{'Name': ['Zacks', 'Jeffery'],\n",
       " 'Age': [28, 26],\n",
       " 'Text': ['Work hard, have fun.', 'Work hard, have fun is a joke']}"
      ]
     },
     "execution_count": 37,
     "metadata": {},
     "output_type": "execute_result"
    }
   ],
   "source": [
    "d = {'Name': ['Zacks', 'Jeffery'], 'Age': [28, 26], 'Text': [\"Work hard, have fun.\", \"Work hard, have fun is a joke\"]}\n",
    "d"
   ]
  },
  {
   "cell_type": "code",
   "execution_count": 38,
   "id": "5b0f22c2-ad12-4e19-a7a5-5764b71ebf5f",
   "metadata": {},
   "outputs": [],
   "source": [
    "df = pd.DataFrame(d)"
   ]
  },
  {
   "cell_type": "code",
   "execution_count": 39,
   "id": "7b85fe66-505a-413c-bfcf-b84c71a1f2f0",
   "metadata": {},
   "outputs": [
    {
     "data": {
      "text/html": [
       "<div>\n",
       "<style scoped>\n",
       "    .dataframe tbody tr th:only-of-type {\n",
       "        vertical-align: middle;\n",
       "    }\n",
       "\n",
       "    .dataframe tbody tr th {\n",
       "        vertical-align: top;\n",
       "    }\n",
       "\n",
       "    .dataframe thead th {\n",
       "        text-align: right;\n",
       "    }\n",
       "</style>\n",
       "<table border=\"1\" class=\"dataframe\">\n",
       "  <thead>\n",
       "    <tr style=\"text-align: right;\">\n",
       "      <th></th>\n",
       "      <th>Name</th>\n",
       "      <th>Age</th>\n",
       "      <th>Text</th>\n",
       "    </tr>\n",
       "  </thead>\n",
       "  <tbody>\n",
       "    <tr>\n",
       "      <th>0</th>\n",
       "      <td>Zacks</td>\n",
       "      <td>28</td>\n",
       "      <td>Work hard, have fun.</td>\n",
       "    </tr>\n",
       "    <tr>\n",
       "      <th>1</th>\n",
       "      <td>Jeffery</td>\n",
       "      <td>26</td>\n",
       "      <td>Work hard, have fun is a joke</td>\n",
       "    </tr>\n",
       "  </tbody>\n",
       "</table>\n",
       "</div>"
      ],
      "text/plain": [
       "      Name  Age                           Text\n",
       "0    Zacks   28           Work hard, have fun.\n",
       "1  Jeffery   26  Work hard, have fun is a joke"
      ]
     },
     "execution_count": 39,
     "metadata": {},
     "output_type": "execute_result"
    }
   ],
   "source": [
    "df"
   ]
  },
  {
   "cell_type": "code",
   "execution_count": 40,
   "id": "8ef3271c-208b-46a4-b80c-b94344cabb3d",
   "metadata": {},
   "outputs": [
    {
     "data": {
      "text/plain": [
       "27.0"
      ]
     },
     "execution_count": 40,
     "metadata": {},
     "output_type": "execute_result"
    }
   ],
   "source": [
    "df.Age.mean()"
   ]
  },
  {
   "cell_type": "code",
   "execution_count": 36,
   "id": "c531c277-b001-48e5-99ee-1b08b5b983e0",
   "metadata": {},
   "outputs": [
    {
     "data": {
      "text/plain": [
       "Name    Zacks\n",
       "Age        28\n",
       "Name: 0, dtype: object"
      ]
     },
     "execution_count": 36,
     "metadata": {},
     "output_type": "execute_result"
    }
   ],
   "source": [
    "df.iloc[0, :]"
   ]
  },
  {
   "cell_type": "code",
   "execution_count": 35,
   "id": "128e05b8-e298-4fff-ae21-2e0dd9f83515",
   "metadata": {},
   "outputs": [
    {
     "data": {
      "text/plain": [
       "Name    Jeffery\n",
       "Age          26\n",
       "Name: 1, dtype: object"
      ]
     },
     "execution_count": 35,
     "metadata": {},
     "output_type": "execute_result"
    }
   ],
   "source": [
    "df.iloc[1, :]"
   ]
  },
  {
   "cell_type": "code",
   "execution_count": null,
   "id": "fe302d7b-1c10-4936-9dda-5a3d5a1d58a8",
   "metadata": {},
   "outputs": [],
   "source": []
  },
  {
   "cell_type": "code",
   "execution_count": null,
   "id": "8e92178a-4ab2-4f24-b6b4-59f334595105",
   "metadata": {},
   "outputs": [],
   "source": []
  },
  {
   "cell_type": "markdown",
   "id": "33bfe3f5-84e3-4463-91b5-d4985071802c",
   "metadata": {},
   "source": [
    "|Collection Type|Function Name|Symbol|\n",
    "|:-:|:-:|:-:|\n",
    "|List|`list`|`[]`|\n",
    "|Dictionary|`dict`|`{}`|\n",
    "|Tuple|`tuple`|`()`|\n",
    "|Set|`set`|`{}`|"
   ]
  },
  {
   "cell_type": "markdown",
   "id": "68d1f16d-2a62-40c5-bd02-1e71e915eaa3",
   "metadata": {},
   "source": [
    "|Collection Type|Function Name|Symbol|\n",
    "|:-|:-|-:|\n",
    "|List|||\n",
    "|Dictionary|`dict`|`{}`|\n",
    "|Tuple|`tuple`|`()`|\n",
    "|Set|`set`|`{}`|"
   ]
  },
  {
   "cell_type": "markdown",
   "id": "8a36b660-8e76-4811-ac40-5f46e1a20aa4",
   "metadata": {},
   "source": [
    "<table class=\"ws-table-all notranslate\">\n",
    "<tbody><tr>\n",
    "<th>Method</th>\n",
    "<th>Description</th>\n",
    "</tr>\n",
    "<tr>\n",
    "<td><a href=\"ref_random_seed.asp\">seed()</a></td>\n",
    "<td>Initialize the random number generator</td>\n",
    "</tr>\n",
    "<tr>\n",
    "<td><a href=\"ref_random_getstate.asp\">getstate()</a></td>\n",
    "<td>Returns the current internal state of the random number generator</td>\n",
    "</tr>\n",
    "<tr>\n",
    "<td><a href=\"ref_random_setstate.asp\">setstate()</a></td>\n",
    "<td>Restores the internal state of the random number generator</td>\n",
    "</tr>\n",
    "<tr>\n",
    "<td><a href=\"ref_random_getrandbits.asp\">getrandbits()</a></td>\n",
    "<td>Returns a number representing the random bits</td>\n",
    "</tr>\n",
    "<tr>\n",
    "<td><a href=\"ref_random_randrange.asp\">randrange()</a></td>\n",
    "<td>Returns a random number between the given range</td>\n",
    "</tr>\n",
    "<tr>\n",
    "<td><a href=\"ref_random_randint.asp\">randint()</a></td>\n",
    "<td>Returns a random number between the given range</td>\n",
    "</tr>\n",
    "  <tr>\n",
    "<td><a href=\"ref_random_choice.asp\">choice()</a></td>\n",
    "<td>Returns a random element from the given sequence</td>\n",
    "  </tr>\n",
    "<tr>\n",
    "<td><a href=\"ref_random_choices.asp\">choices()</a></td>\n",
    "<td>Returns a list with a random selection from the given sequence</td>\n",
    "</tr>\n",
    "<tr>\n",
    "<td><a href=\"ref_random_shuffle.asp\">shuffle()</a></td>\n",
    "<td>Takes a sequence and returns the sequence in a random order</td>\n",
    "</tr>\n",
    "<tr>\n",
    "<td><a href=\"ref_random_sample.asp\">sample()</a></td>\n",
    "<td>Returns a given sample of a sequence</td>\n",
    "</tr>\n",
    "<tr>\n",
    "<td><a href=\"ref_random_random.asp\">random()</a></td>\n",
    "<td>Returns a random float number between 0 and 1</td>\n",
    "</tr>\n",
    "<tr>\n",
    "<td><a href=\"ref_random_uniform.asp\">uniform()</a></td>\n",
    "<td>Returns a random float number between two given parameters</td>\n",
    "</tr>\n",
    "<tr>\n",
    "<td><a href=\"ref_random_triangular.asp\">triangular()</a></td>\n",
    "<td>Returns a random float number between two given parameters, you can also set \n",
    "a mode parameter to specify the midpoint between the two other parameters</td>\n",
    "</tr>\n",
    "<tr>\n",
    "<td>betavariate()</td>\n",
    "<td>Returns a random float number between 0 and 1 based on the Beta distribution \n",
    "(used in statistics)</td>\n",
    "</tr>\n",
    "<tr>\n",
    "<td>expovariate()</td>\n",
    "<td>Returns a random float number based on the Exponential distribution (used in \n",
    "statistics)</td>\n",
    "</tr>\n",
    "<tr>\n",
    "<td style=\"height: 23px\">gammavariate()</td>\n",
    "<td style=\"height: 23px\">Returns a random float number based on the Gamma \n",
    "distribution (used in statistics)</td>\n",
    "</tr>\n",
    "<tr>\n",
    "<td>gauss()</td>\n",
    "<td>Returns a random float number based on the Gaussian \n",
    "distribution (used in probability theories)</td>\n",
    "</tr>\n",
    "<tr>\n",
    "<td>lognormvariate()</td>\n",
    "<td>Returns a random float number based on a log-normal \n",
    "distribution (used in probability theories)</td>\n",
    "</tr>\n",
    "<tr>\n",
    "<td>normalvariate()</td>\n",
    "<td>Returns a random float number based on the normal \n",
    "distribution (used in probability theories)</td>\n",
    "</tr>\n",
    "<tr>\n",
    "<td>vonmisesvariate()</td>\n",
    "<td>Returns a random float number based on the von Mises \n",
    "distribution (used in directional statistics)</td>\n",
    "</tr>\n",
    "<tr>\n",
    "<td>paretovariate()</td>\n",
    "<td>Returns a random float number based on the Pareto \n",
    "distribution (used in probability theories)</td>\n",
    "</tr>\n",
    "<tr>\n",
    "<td>weibullvariate()</td>\n",
    "<td>Returns a random float number based on the Weibull \n",
    "distribution (used in statistics)</td>\n",
    "</tr>\n",
    "</tbody></table>"
   ]
  },
  {
   "cell_type": "code",
   "execution_count": null,
   "id": "401bebd3-6a8d-484a-91dd-96ff17c0ccf3",
   "metadata": {},
   "outputs": [],
   "source": []
  },
  {
   "cell_type": "code",
   "execution_count": null,
   "id": "d2ae1ebd-3b3a-43b0-adce-1a0d9bf3773e",
   "metadata": {},
   "outputs": [],
   "source": []
  },
  {
   "cell_type": "code",
   "execution_count": 50,
   "id": "6b67a371-3fea-4bbf-a0dd-340870e2c901",
   "metadata": {},
   "outputs": [
    {
     "data": {
      "text/plain": [
       "[0, 2, 4, 6, 8, 10]"
      ]
     },
     "execution_count": 50,
     "metadata": {},
     "output_type": "execute_result"
    }
   ],
   "source": [
    "l = []\n",
    "\n",
    "for i in range(0, 11):\n",
    "    if i % 2 == 0:\n",
    "        l.append(i)\n",
    "        \n",
    "l"
   ]
  },
  {
   "cell_type": "code",
   "execution_count": 49,
   "id": "6f992a2a-9f08-45b6-8b45-a60d4efb174c",
   "metadata": {},
   "outputs": [
    {
     "data": {
      "text/plain": [
       "[0, 2, 4, 6, 8, 10]"
      ]
     },
     "execution_count": 49,
     "metadata": {},
     "output_type": "execute_result"
    }
   ],
   "source": [
    "l = [i for i in range(0, 11) if i % 2 == 0]\n",
    "l"
   ]
  },
  {
   "cell_type": "code",
   "execution_count": 53,
   "id": "7c5dde7f-1e8a-4b10-9c69-7bf25252abda",
   "metadata": {},
   "outputs": [
    {
     "data": {
      "text/plain": [
       "[0, 'Odd', 2, 'Odd', 4, 'Odd', 6, 'Odd', 8, 'Odd', 10]"
      ]
     },
     "execution_count": 53,
     "metadata": {},
     "output_type": "execute_result"
    }
   ],
   "source": [
    "l = []\n",
    "\n",
    "for i in range(0, 11):\n",
    "    if i % 2 == 0:\n",
    "        l.append(i)\n",
    "    else:\n",
    "        l.append('Odd')\n",
    "        \n",
    "l"
   ]
  },
  {
   "cell_type": "code",
   "execution_count": 52,
   "id": "11c245c5-d6dc-4334-8d4e-2d16db968b94",
   "metadata": {},
   "outputs": [
    {
     "data": {
      "text/plain": [
       "[0, 'Odd', 2, 'Odd', 4, 'Odd', 6, 'Odd', 8, 'Odd', 10]"
      ]
     },
     "execution_count": 52,
     "metadata": {},
     "output_type": "execute_result"
    }
   ],
   "source": [
    "l = [i if i % 2 == 0 else 'Odd' for i in range(0, 11)]\n",
    "l"
   ]
  },
  {
   "cell_type": "code",
   "execution_count": null,
   "id": "465e9367-e275-4ab8-8ee0-2c36497b7472",
   "metadata": {},
   "outputs": [],
   "source": []
  },
  {
   "cell_type": "code",
   "execution_count": null,
   "id": "1ed28559-23bb-4972-9d80-5b1d2f6b15e9",
   "metadata": {},
   "outputs": [],
   "source": []
  },
  {
   "cell_type": "code",
   "execution_count": null,
   "id": "7f02c107-0137-40e5-915d-7dfbf4122c26",
   "metadata": {},
   "outputs": [],
   "source": []
  },
  {
   "cell_type": "code",
   "execution_count": 3,
   "id": "bd753d83-1a54-4e4a-872e-97f74fde24c5",
   "metadata": {},
   "outputs": [
    {
     "data": {
      "text/plain": [
       "['2022-04-13', '2022-04-14', '2022-04-15']"
      ]
     },
     "execution_count": 3,
     "metadata": {},
     "output_type": "execute_result"
    }
   ],
   "source": [
    "date = ['2022-04-13', '2022-04-14', '2022-04-15']\n",
    "date"
   ]
  },
  {
   "cell_type": "code",
   "execution_count": 4,
   "id": "a385cc1c-8f57-472e-a2d2-b87013f77fc6",
   "metadata": {},
   "outputs": [],
   "source": [
    "exercise = ['handstand', 'handstand', 'handstand']"
   ]
  },
  {
   "cell_type": "code",
   "execution_count": 5,
   "id": "11197f09-d9b8-4f57-a8f2-fbb3d99dea4e",
   "metadata": {},
   "outputs": [],
   "source": [
    "part = ['shoulder', 'shoulder', 'shoulder']"
   ]
  },
  {
   "cell_type": "code",
   "execution_count": 6,
   "id": "a870cb60-2368-40d2-a479-b3444390536e",
   "metadata": {},
   "outputs": [],
   "source": [
    "set1 = [30, 60, 60]\n",
    "set2 = [30, 60, 60]"
   ]
  },
  {
   "cell_type": "code",
   "execution_count": null,
   "id": "5d04d71b-5f7c-46f7-8f11-2f222e9103c7",
   "metadata": {},
   "outputs": [],
   "source": []
  },
  {
   "cell_type": "code",
   "execution_count": 9,
   "id": "8fda196a-f987-48e0-b770-8d501897d832",
   "metadata": {},
   "outputs": [
    {
     "data": {
      "text/plain": [
       "['2022-04-13', 'handstand', 'shoulder', 30, 30]"
      ]
     },
     "execution_count": 9,
     "metadata": {},
     "output_type": "execute_result"
    }
   ],
   "source": [
    "row1 = [date[0], exercise[0], part[0], set1[0], set2[0]]\n",
    "row1"
   ]
  },
  {
   "cell_type": "code",
   "execution_count": 10,
   "id": "2d65e37d-6699-4ec2-83fe-bace30c33b9f",
   "metadata": {},
   "outputs": [
    {
     "data": {
      "text/plain": [
       "['2022-04-14', 'handstand', 'shoulder', 60, 60]"
      ]
     },
     "execution_count": 10,
     "metadata": {},
     "output_type": "execute_result"
    }
   ],
   "source": [
    "row1 = [date[1], exercise[1], part[1], set1[1], set2[1]]\n",
    "row1"
   ]
  },
  {
   "cell_type": "code",
   "execution_count": null,
   "id": "d3e2e59f-e973-4637-8a4e-cbaa93ce7adc",
   "metadata": {},
   "outputs": [],
   "source": [
    "{'key1': value1, \n",
    " 'key2': value2}"
   ]
  },
  {
   "cell_type": "code",
   "execution_count": 17,
   "id": "e5b6424d-438b-4ea8-910f-4b8a1c88d5d5",
   "metadata": {},
   "outputs": [],
   "source": [
    "t = (1, 2)"
   ]
  },
  {
   "cell_type": "code",
   "execution_count": null,
   "id": "b52233df-b318-4a39-a96e-aacef263d536",
   "metadata": {},
   "outputs": [],
   "source": []
  },
  {
   "cell_type": "code",
   "execution_count": null,
   "id": "8c8cbe81-2fa1-4222-ab13-cf7733ec7c69",
   "metadata": {},
   "outputs": [],
   "source": []
  },
  {
   "cell_type": "code",
   "execution_count": null,
   "id": "daf4a05e-538a-4eba-803b-63ab120e39d5",
   "metadata": {},
   "outputs": [],
   "source": []
  },
  {
   "cell_type": "code",
   "execution_count": null,
   "id": "ebe7ea2a-cd34-4660-bbc1-06198ce0c78b",
   "metadata": {},
   "outputs": [],
   "source": [
    "---------------------"
   ]
  },
  {
   "cell_type": "code",
   "execution_count": null,
   "id": "6ac65a12-95d6-4ce6-bcc4-1c8997b0a0a4",
   "metadata": {},
   "outputs": [],
   "source": []
  },
  {
   "cell_type": "code",
   "execution_count": null,
   "id": "71c124e5-09fc-419e-8d4d-848d3102352a",
   "metadata": {},
   "outputs": [],
   "source": []
  },
  {
   "cell_type": "code",
   "execution_count": null,
   "id": "dae0b64a-789d-4556-bd39-7ce81f412ca9",
   "metadata": {},
   "outputs": [],
   "source": []
  },
  {
   "cell_type": "code",
   "execution_count": null,
   "id": "c2c451e4-6ab5-4ac8-bc29-5a9aa18c5e66",
   "metadata": {},
   "outputs": [],
   "source": []
  },
  {
   "cell_type": "code",
   "execution_count": 11,
   "id": "f749fe0f-ddc4-4ff9-a19c-426c2fa215f4",
   "metadata": {},
   "outputs": [],
   "source": [
    "import pandas as pd"
   ]
  },
  {
   "cell_type": "code",
   "execution_count": 38,
   "id": "432a1a26-f05d-45a1-80f6-70b2cba787c1",
   "metadata": {},
   "outputs": [
    {
     "data": {
      "text/html": [
       "<div>\n",
       "<style scoped>\n",
       "    .dataframe tbody tr th:only-of-type {\n",
       "        vertical-align: middle;\n",
       "    }\n",
       "\n",
       "    .dataframe tbody tr th {\n",
       "        vertical-align: top;\n",
       "    }\n",
       "\n",
       "    .dataframe thead th {\n",
       "        text-align: right;\n",
       "    }\n",
       "</style>\n",
       "<table border=\"1\" class=\"dataframe\">\n",
       "  <thead>\n",
       "    <tr style=\"text-align: right;\">\n",
       "      <th></th>\n",
       "      <th>date</th>\n",
       "      <th>exercise</th>\n",
       "      <th>part</th>\n",
       "      <th>set1</th>\n",
       "      <th>set2</th>\n",
       "    </tr>\n",
       "  </thead>\n",
       "  <tbody>\n",
       "    <tr>\n",
       "      <th>0</th>\n",
       "      <td>2022-04-13</td>\n",
       "      <td>handstand</td>\n",
       "      <td>shoulder</td>\n",
       "      <td>30</td>\n",
       "      <td>30</td>\n",
       "    </tr>\n",
       "    <tr>\n",
       "      <th>1</th>\n",
       "      <td>2022-04-14</td>\n",
       "      <td>handstand</td>\n",
       "      <td>shoulder</td>\n",
       "      <td>60</td>\n",
       "      <td>60</td>\n",
       "    </tr>\n",
       "    <tr>\n",
       "      <th>2</th>\n",
       "      <td>2022-04-15</td>\n",
       "      <td>handstand</td>\n",
       "      <td>shoulder</td>\n",
       "      <td>60</td>\n",
       "      <td>60</td>\n",
       "    </tr>\n",
       "  </tbody>\n",
       "</table>\n",
       "</div>"
      ],
      "text/plain": [
       "         date   exercise      part  set1  set2\n",
       "0  2022-04-13  handstand  shoulder    30    30\n",
       "1  2022-04-14  handstand  shoulder    60    60\n",
       "2  2022-04-15  handstand  shoulder    60    60"
      ]
     },
     "execution_count": 38,
     "metadata": {},
     "output_type": "execute_result"
    }
   ],
   "source": [
    "df = pd.DataFrame({\n",
    "    'date': date, \n",
    "    'exercise': exercise, \n",
    "    'part': part, \n",
    "    'set1': set1, \n",
    "    'set2': set1\n",
    "})\n",
    "df"
   ]
  },
  {
   "cell_type": "code",
   "execution_count": 39,
   "id": "9b41aec6-5198-4508-a507-37a47705e435",
   "metadata": {},
   "outputs": [
    {
     "data": {
      "text/plain": [
       "Index(['date', 'exercise', 'part', 'set1', 'set2'], dtype='object')"
      ]
     },
     "execution_count": 39,
     "metadata": {},
     "output_type": "execute_result"
    }
   ],
   "source": [
    "df.columns"
   ]
  },
  {
   "cell_type": "code",
   "execution_count": 40,
   "id": "626d5eef-51ac-4a80-9744-9ad43b443518",
   "metadata": {},
   "outputs": [
    {
     "data": {
      "text/html": [
       "<div>\n",
       "<style scoped>\n",
       "    .dataframe tbody tr th:only-of-type {\n",
       "        vertical-align: middle;\n",
       "    }\n",
       "\n",
       "    .dataframe tbody tr th {\n",
       "        vertical-align: top;\n",
       "    }\n",
       "\n",
       "    .dataframe thead th {\n",
       "        text-align: right;\n",
       "    }\n",
       "</style>\n",
       "<table border=\"1\" class=\"dataframe\">\n",
       "  <thead>\n",
       "    <tr style=\"text-align: right;\">\n",
       "      <th></th>\n",
       "      <th>date</th>\n",
       "      <th>exercise</th>\n",
       "      <th>part</th>\n",
       "      <th>set1</th>\n",
       "      <th>set2</th>\n",
       "    </tr>\n",
       "  </thead>\n",
       "  <tbody>\n",
       "    <tr>\n",
       "      <th>0</th>\n",
       "      <td>2022-04-13</td>\n",
       "      <td>handstand</td>\n",
       "      <td>shoulder</td>\n",
       "      <td>30</td>\n",
       "      <td>30</td>\n",
       "    </tr>\n",
       "    <tr>\n",
       "      <th>1</th>\n",
       "      <td>2022-04-14</td>\n",
       "      <td>handstand</td>\n",
       "      <td>shoulder</td>\n",
       "      <td>60</td>\n",
       "      <td>60</td>\n",
       "    </tr>\n",
       "    <tr>\n",
       "      <th>2</th>\n",
       "      <td>2022-04-15</td>\n",
       "      <td>handstand</td>\n",
       "      <td>shoulder</td>\n",
       "      <td>60</td>\n",
       "      <td>60</td>\n",
       "    </tr>\n",
       "    <tr>\n",
       "      <th>3</th>\n",
       "      <td>2022-05-15</td>\n",
       "      <td>handstand</td>\n",
       "      <td>shoulder</td>\n",
       "      <td>30</td>\n",
       "      <td>30</td>\n",
       "    </tr>\n",
       "  </tbody>\n",
       "</table>\n",
       "</div>"
      ],
      "text/plain": [
       "         date   exercise      part  set1  set2\n",
       "0  2022-04-13  handstand  shoulder    30    30\n",
       "1  2022-04-14  handstand  shoulder    60    60\n",
       "2  2022-04-15  handstand  shoulder    60    60\n",
       "3  2022-05-15  handstand  shoulder    30    30"
      ]
     },
     "execution_count": 40,
     "metadata": {},
     "output_type": "execute_result"
    }
   ],
   "source": [
    "df.loc[3] = ['2022-05-15', 'handstand', 'shoulder', 30, 30]\n",
    "df"
   ]
  },
  {
   "cell_type": "code",
   "execution_count": 41,
   "id": "7e10cf64-3b16-4f81-9f2c-b942dc39280b",
   "metadata": {},
   "outputs": [
    {
     "data": {
      "text/html": [
       "<div>\n",
       "<style scoped>\n",
       "    .dataframe tbody tr th:only-of-type {\n",
       "        vertical-align: middle;\n",
       "    }\n",
       "\n",
       "    .dataframe tbody tr th {\n",
       "        vertical-align: top;\n",
       "    }\n",
       "\n",
       "    .dataframe thead th {\n",
       "        text-align: right;\n",
       "    }\n",
       "</style>\n",
       "<table border=\"1\" class=\"dataframe\">\n",
       "  <thead>\n",
       "    <tr style=\"text-align: right;\">\n",
       "      <th></th>\n",
       "      <th>date</th>\n",
       "      <th>exercise</th>\n",
       "      <th>part</th>\n",
       "      <th>set1</th>\n",
       "      <th>set2</th>\n",
       "      <th>step</th>\n",
       "    </tr>\n",
       "  </thead>\n",
       "  <tbody>\n",
       "    <tr>\n",
       "      <th>0</th>\n",
       "      <td>2022-04-13</td>\n",
       "      <td>handstand</td>\n",
       "      <td>shoulder</td>\n",
       "      <td>30</td>\n",
       "      <td>30</td>\n",
       "      <td>1</td>\n",
       "    </tr>\n",
       "    <tr>\n",
       "      <th>1</th>\n",
       "      <td>2022-04-14</td>\n",
       "      <td>handstand</td>\n",
       "      <td>shoulder</td>\n",
       "      <td>60</td>\n",
       "      <td>60</td>\n",
       "      <td>1</td>\n",
       "    </tr>\n",
       "    <tr>\n",
       "      <th>2</th>\n",
       "      <td>2022-04-15</td>\n",
       "      <td>handstand</td>\n",
       "      <td>shoulder</td>\n",
       "      <td>60</td>\n",
       "      <td>60</td>\n",
       "      <td>1</td>\n",
       "    </tr>\n",
       "    <tr>\n",
       "      <th>3</th>\n",
       "      <td>2022-05-15</td>\n",
       "      <td>handstand</td>\n",
       "      <td>shoulder</td>\n",
       "      <td>30</td>\n",
       "      <td>30</td>\n",
       "      <td>1</td>\n",
       "    </tr>\n",
       "  </tbody>\n",
       "</table>\n",
       "</div>"
      ],
      "text/plain": [
       "         date   exercise      part  set1  set2  step\n",
       "0  2022-04-13  handstand  shoulder    30    30     1\n",
       "1  2022-04-14  handstand  shoulder    60    60     1\n",
       "2  2022-04-15  handstand  shoulder    60    60     1\n",
       "3  2022-05-15  handstand  shoulder    30    30     1"
      ]
     },
     "execution_count": 41,
     "metadata": {},
     "output_type": "execute_result"
    }
   ],
   "source": [
    "df['step'] = [1] * 4\n",
    "df"
   ]
  },
  {
   "cell_type": "code",
   "execution_count": 22,
   "id": "4aff4074-040d-469d-afaa-463d6471440a",
   "metadata": {},
   "outputs": [
    {
     "data": {
      "text/plain": [
       "30"
      ]
     },
     "execution_count": 22,
     "metadata": {},
     "output_type": "execute_result"
    }
   ],
   "source": [
    "df.loc[0, 'set1'] # indexing"
   ]
  },
  {
   "cell_type": "code",
   "execution_count": 23,
   "id": "62023ea6-254b-4ced-80fb-02909e0ec5d3",
   "metadata": {},
   "outputs": [
    {
     "data": {
      "text/plain": [
       "30"
      ]
     },
     "execution_count": 23,
     "metadata": {},
     "output_type": "execute_result"
    }
   ],
   "source": [
    "df.loc[0, :]['set1']"
   ]
  },
  {
   "cell_type": "code",
   "execution_count": 24,
   "id": "a13664b7-2b1f-422b-ae2c-fc264dce2d84",
   "metadata": {},
   "outputs": [
    {
     "data": {
      "text/plain": [
       "date        2022-04-13\n",
       "exercise     handstand\n",
       "part          shoulder\n",
       "set1                30\n",
       "set2                30\n",
       "Name: 0, dtype: object"
      ]
     },
     "execution_count": 24,
     "metadata": {},
     "output_type": "execute_result"
    }
   ],
   "source": [
    "df.loc[0, ['date', 'exercise', 'part', 'set1', 'set2']]"
   ]
  },
  {
   "cell_type": "code",
   "execution_count": 25,
   "id": "962b6c8d-060e-4fdc-9986-87e60f169eee",
   "metadata": {},
   "outputs": [
    {
     "data": {
      "text/plain": [
       "date        2022-04-13\n",
       "exercise     handstand\n",
       "part          shoulder\n",
       "set1                30\n",
       "set2                30\n",
       "step                 1\n",
       "Name: 0, dtype: object"
      ]
     },
     "execution_count": 25,
     "metadata": {},
     "output_type": "execute_result"
    }
   ],
   "source": [
    "df.loc[0, :]"
   ]
  },
  {
   "cell_type": "code",
   "execution_count": 30,
   "id": "8ab1e83b-8b24-4c82-8e2c-e45e23dcf399",
   "metadata": {},
   "outputs": [
    {
     "data": {
      "text/plain": [
       "0    2022-04-13\n",
       "1    2022-04-14\n",
       "2    2022-04-15\n",
       "3    2022-05-15\n",
       "Name: date, dtype: object"
      ]
     },
     "execution_count": 30,
     "metadata": {},
     "output_type": "execute_result"
    }
   ],
   "source": [
    "df.loc[:, 'date']"
   ]
  },
  {
   "cell_type": "code",
   "execution_count": 62,
   "id": "9571fa66-9f2f-49e7-ba9e-bf58b7befa1a",
   "metadata": {},
   "outputs": [
    {
     "data": {
      "text/plain": [
       "0    2022-04-13\n",
       "1    2022-04-14\n",
       "2    2022-04-15\n",
       "3    2022-05-15\n",
       "Name: date, dtype: object"
      ]
     },
     "execution_count": 62,
     "metadata": {},
     "output_type": "execute_result"
    }
   ],
   "source": [
    "df.loc[:, 'date']"
   ]
  },
  {
   "cell_type": "code",
   "execution_count": 61,
   "id": "4492a6ae-ba91-4438-aa86-b6195df20c50",
   "metadata": {},
   "outputs": [
    {
     "data": {
      "text/plain": [
       "0     True\n",
       "1    False\n",
       "2    False\n",
       "3    False\n",
       "Name: date, dtype: bool"
      ]
     },
     "execution_count": 61,
     "metadata": {},
     "output_type": "execute_result"
    }
   ],
   "source": [
    "df.loc[:, 'date'] == '2022-04-13'"
   ]
  },
  {
   "cell_type": "code",
   "execution_count": 60,
   "id": "daee61fb-116b-4a29-b603-d2f9bb254002",
   "metadata": {},
   "outputs": [
    {
     "data": {
      "text/html": [
       "<div>\n",
       "<style scoped>\n",
       "    .dataframe tbody tr th:only-of-type {\n",
       "        vertical-align: middle;\n",
       "    }\n",
       "\n",
       "    .dataframe tbody tr th {\n",
       "        vertical-align: top;\n",
       "    }\n",
       "\n",
       "    .dataframe thead th {\n",
       "        text-align: right;\n",
       "    }\n",
       "</style>\n",
       "<table border=\"1\" class=\"dataframe\">\n",
       "  <thead>\n",
       "    <tr style=\"text-align: right;\">\n",
       "      <th></th>\n",
       "      <th>date</th>\n",
       "      <th>exercise</th>\n",
       "      <th>part</th>\n",
       "      <th>set1</th>\n",
       "      <th>set2</th>\n",
       "      <th>step</th>\n",
       "    </tr>\n",
       "  </thead>\n",
       "  <tbody>\n",
       "    <tr>\n",
       "      <th>0</th>\n",
       "      <td>2022-04-13</td>\n",
       "      <td>handstand</td>\n",
       "      <td>shoulder</td>\n",
       "      <td>30</td>\n",
       "      <td>30</td>\n",
       "      <td>1</td>\n",
       "    </tr>\n",
       "  </tbody>\n",
       "</table>\n",
       "</div>"
      ],
      "text/plain": [
       "         date   exercise      part  set1  set2  step\n",
       "0  2022-04-13  handstand  shoulder    30    30     1"
      ]
     },
     "execution_count": 60,
     "metadata": {},
     "output_type": "execute_result"
    }
   ],
   "source": [
    "df[df.loc[:, 'date'] == '2022-04-13']"
   ]
  },
  {
   "cell_type": "code",
   "execution_count": 75,
   "id": "fb189b2f-5885-4088-84d6-7f06aebf7bdf",
   "metadata": {},
   "outputs": [
    {
     "data": {
      "text/plain": [
       "(4, 7)"
      ]
     },
     "execution_count": 75,
     "metadata": {},
     "output_type": "execute_result"
    }
   ],
   "source": [
    "df.shape"
   ]
  },
  {
   "cell_type": "code",
   "execution_count": 80,
   "id": "edd03598-cdb2-4735-8fc7-caf46b2fbce7",
   "metadata": {},
   "outputs": [
    {
     "data": {
      "text/html": [
       "<div>\n",
       "<style scoped>\n",
       "    .dataframe tbody tr th:only-of-type {\n",
       "        vertical-align: middle;\n",
       "    }\n",
       "\n",
       "    .dataframe tbody tr th {\n",
       "        vertical-align: top;\n",
       "    }\n",
       "\n",
       "    .dataframe thead th {\n",
       "        text-align: right;\n",
       "    }\n",
       "</style>\n",
       "<table border=\"1\" class=\"dataframe\">\n",
       "  <thead>\n",
       "    <tr style=\"text-align: right;\">\n",
       "      <th></th>\n",
       "      <th>date</th>\n",
       "      <th>exercise</th>\n",
       "      <th>part</th>\n",
       "      <th>set1</th>\n",
       "      <th>set2</th>\n",
       "      <th>step</th>\n",
       "      <th>loc</th>\n",
       "      <th>my name</th>\n",
       "      <th>my_name</th>\n",
       "    </tr>\n",
       "  </thead>\n",
       "  <tbody>\n",
       "    <tr>\n",
       "      <th>0</th>\n",
       "      <td>2022-04-13</td>\n",
       "      <td>handstand</td>\n",
       "      <td>shoulder</td>\n",
       "      <td>30</td>\n",
       "      <td>30</td>\n",
       "      <td>1</td>\n",
       "      <td>1</td>\n",
       "      <td>Zacks</td>\n",
       "      <td>Zacks</td>\n",
       "    </tr>\n",
       "    <tr>\n",
       "      <th>1</th>\n",
       "      <td>2022-04-14</td>\n",
       "      <td>handstand</td>\n",
       "      <td>shoulder</td>\n",
       "      <td>60</td>\n",
       "      <td>60</td>\n",
       "      <td>1</td>\n",
       "      <td>2</td>\n",
       "      <td>Zacks</td>\n",
       "      <td>Zacks</td>\n",
       "    </tr>\n",
       "    <tr>\n",
       "      <th>2</th>\n",
       "      <td>2022-04-15</td>\n",
       "      <td>handstand</td>\n",
       "      <td>shoulder</td>\n",
       "      <td>60</td>\n",
       "      <td>60</td>\n",
       "      <td>1</td>\n",
       "      <td>3</td>\n",
       "      <td>Zacks</td>\n",
       "      <td>Zacks</td>\n",
       "    </tr>\n",
       "    <tr>\n",
       "      <th>3</th>\n",
       "      <td>2022-05-15</td>\n",
       "      <td>handstand</td>\n",
       "      <td>shoulder</td>\n",
       "      <td>30</td>\n",
       "      <td>30</td>\n",
       "      <td>1</td>\n",
       "      <td>4</td>\n",
       "      <td>Zacks</td>\n",
       "      <td>Zacks</td>\n",
       "    </tr>\n",
       "  </tbody>\n",
       "</table>\n",
       "</div>"
      ],
      "text/plain": [
       "         date   exercise      part  set1  set2  step  loc my name my_name\n",
       "0  2022-04-13  handstand  shoulder    30    30     1    1   Zacks   Zacks\n",
       "1  2022-04-14  handstand  shoulder    60    60     1    2   Zacks   Zacks\n",
       "2  2022-04-15  handstand  shoulder    60    60     1    3   Zacks   Zacks\n",
       "3  2022-05-15  handstand  shoulder    30    30     1    4   Zacks   Zacks"
      ]
     },
     "execution_count": 80,
     "metadata": {},
     "output_type": "execute_result"
    }
   ],
   "source": [
    "df['my_name'] = ['Zacks'] * df.shape[0]\n",
    "df"
   ]
  },
  {
   "cell_type": "code",
   "execution_count": 81,
   "id": "c67847eb-dd54-4c47-9909-5aa2c58800fb",
   "metadata": {},
   "outputs": [
    {
     "data": {
      "text/plain": [
       "0    Zacks\n",
       "1    Zacks\n",
       "2    Zacks\n",
       "3    Zacks\n",
       "Name: my_name, dtype: object"
      ]
     },
     "execution_count": 81,
     "metadata": {},
     "output_type": "execute_result"
    }
   ],
   "source": [
    "df.loc[:, 'my_name']"
   ]
  },
  {
   "cell_type": "code",
   "execution_count": 82,
   "id": "61bf0587-99ea-4dcc-8c0b-86e403cfbb57",
   "metadata": {},
   "outputs": [
    {
     "data": {
      "text/plain": [
       "0    Zacks\n",
       "1    Zacks\n",
       "2    Zacks\n",
       "3    Zacks\n",
       "Name: my_name, dtype: object"
      ]
     },
     "execution_count": 82,
     "metadata": {},
     "output_type": "execute_result"
    }
   ],
   "source": [
    "df['my_name']"
   ]
  },
  {
   "cell_type": "code",
   "execution_count": 83,
   "id": "1fb1c398-cfb5-451c-b247-0460a9e2ae8d",
   "metadata": {},
   "outputs": [
    {
     "data": {
      "text/plain": [
       "0    Zacks\n",
       "1    Zacks\n",
       "2    Zacks\n",
       "3    Zacks\n",
       "Name: my_name, dtype: object"
      ]
     },
     "execution_count": 83,
     "metadata": {},
     "output_type": "execute_result"
    }
   ],
   "source": [
    "df.my_name"
   ]
  },
  {
   "cell_type": "code",
   "execution_count": null,
   "id": "043784ef-1061-4141-92a8-52b8d88c1b96",
   "metadata": {},
   "outputs": [],
   "source": []
  },
  {
   "cell_type": "code",
   "execution_count": 84,
   "id": "79b37dd5-ccbb-4ecd-9b89-07e9e613187d",
   "metadata": {},
   "outputs": [
    {
     "data": {
      "text/html": [
       "<div>\n",
       "<style scoped>\n",
       "    .dataframe tbody tr th:only-of-type {\n",
       "        vertical-align: middle;\n",
       "    }\n",
       "\n",
       "    .dataframe tbody tr th {\n",
       "        vertical-align: top;\n",
       "    }\n",
       "\n",
       "    .dataframe thead th {\n",
       "        text-align: right;\n",
       "    }\n",
       "</style>\n",
       "<table border=\"1\" class=\"dataframe\">\n",
       "  <thead>\n",
       "    <tr style=\"text-align: right;\">\n",
       "      <th></th>\n",
       "      <th>date</th>\n",
       "      <th>exercise</th>\n",
       "      <th>part</th>\n",
       "      <th>set1</th>\n",
       "      <th>set2</th>\n",
       "      <th>step</th>\n",
       "      <th>loc</th>\n",
       "      <th>my name</th>\n",
       "      <th>my_name</th>\n",
       "    </tr>\n",
       "  </thead>\n",
       "  <tbody>\n",
       "    <tr>\n",
       "      <th>0</th>\n",
       "      <td>2022-04-13</td>\n",
       "      <td>handstand</td>\n",
       "      <td>shoulder</td>\n",
       "      <td>30</td>\n",
       "      <td>30</td>\n",
       "      <td>1</td>\n",
       "      <td>1</td>\n",
       "      <td>Zacks</td>\n",
       "      <td>Zacks</td>\n",
       "    </tr>\n",
       "    <tr>\n",
       "      <th>1</th>\n",
       "      <td>2022-04-14</td>\n",
       "      <td>handstand</td>\n",
       "      <td>shoulder</td>\n",
       "      <td>60</td>\n",
       "      <td>60</td>\n",
       "      <td>1</td>\n",
       "      <td>2</td>\n",
       "      <td>Zacks</td>\n",
       "      <td>Zacks</td>\n",
       "    </tr>\n",
       "    <tr>\n",
       "      <th>2</th>\n",
       "      <td>2022-04-15</td>\n",
       "      <td>handstand</td>\n",
       "      <td>shoulder</td>\n",
       "      <td>60</td>\n",
       "      <td>60</td>\n",
       "      <td>1</td>\n",
       "      <td>3</td>\n",
       "      <td>Zacks</td>\n",
       "      <td>Zacks</td>\n",
       "    </tr>\n",
       "    <tr>\n",
       "      <th>3</th>\n",
       "      <td>2022-05-15</td>\n",
       "      <td>handstand</td>\n",
       "      <td>shoulder</td>\n",
       "      <td>30</td>\n",
       "      <td>30</td>\n",
       "      <td>1</td>\n",
       "      <td>4</td>\n",
       "      <td>Zacks</td>\n",
       "      <td>Zacks</td>\n",
       "    </tr>\n",
       "  </tbody>\n",
       "</table>\n",
       "</div>"
      ],
      "text/plain": [
       "         date   exercise      part  set1  set2  step  loc my name my_name\n",
       "0  2022-04-13  handstand  shoulder    30    30     1    1   Zacks   Zacks\n",
       "1  2022-04-14  handstand  shoulder    60    60     1    2   Zacks   Zacks\n",
       "2  2022-04-15  handstand  shoulder    60    60     1    3   Zacks   Zacks\n",
       "3  2022-05-15  handstand  shoulder    30    30     1    4   Zacks   Zacks"
      ]
     },
     "execution_count": 84,
     "metadata": {},
     "output_type": "execute_result"
    }
   ],
   "source": [
    "df"
   ]
  },
  {
   "cell_type": "code",
   "execution_count": 92,
   "id": "32866cdc-9c4a-484e-8216-6275b7334900",
   "metadata": {},
   "outputs": [
    {
     "data": {
      "text/html": [
       "<div>\n",
       "<style scoped>\n",
       "    .dataframe tbody tr th:only-of-type {\n",
       "        vertical-align: middle;\n",
       "    }\n",
       "\n",
       "    .dataframe tbody tr th {\n",
       "        vertical-align: top;\n",
       "    }\n",
       "\n",
       "    .dataframe thead th {\n",
       "        text-align: right;\n",
       "    }\n",
       "</style>\n",
       "<table border=\"1\" class=\"dataframe\">\n",
       "  <thead>\n",
       "    <tr style=\"text-align: right;\">\n",
       "      <th></th>\n",
       "      <th>date</th>\n",
       "      <th>set1</th>\n",
       "      <th>loc</th>\n",
       "    </tr>\n",
       "  </thead>\n",
       "  <tbody>\n",
       "    <tr>\n",
       "      <th>0</th>\n",
       "      <td>2022-04-13</td>\n",
       "      <td>30</td>\n",
       "      <td>1</td>\n",
       "    </tr>\n",
       "    <tr>\n",
       "      <th>1</th>\n",
       "      <td>2022-04-14</td>\n",
       "      <td>60</td>\n",
       "      <td>2</td>\n",
       "    </tr>\n",
       "    <tr>\n",
       "      <th>2</th>\n",
       "      <td>2022-04-15</td>\n",
       "      <td>60</td>\n",
       "      <td>3</td>\n",
       "    </tr>\n",
       "  </tbody>\n",
       "</table>\n",
       "</div>"
      ],
      "text/plain": [
       "         date  set1  loc\n",
       "0  2022-04-13    30    1\n",
       "1  2022-04-14    60    2\n",
       "2  2022-04-15    60    3"
      ]
     },
     "execution_count": 92,
     "metadata": {},
     "output_type": "execute_result"
    }
   ],
   "source": [
    "df.iloc[[0, 1, 2], [0, 3, 6]]"
   ]
  },
  {
   "cell_type": "code",
   "execution_count": null,
   "id": "7c431e1e-050a-451b-a7e9-c77835b423ab",
   "metadata": {},
   "outputs": [],
   "source": [
    "df.iloc[0, 0]"
   ]
  },
  {
   "cell_type": "code",
   "execution_count": 93,
   "id": "79601779-8106-4c71-872b-4d5198869e76",
   "metadata": {},
   "outputs": [],
   "source": [
    "None"
   ]
  },
  {
   "cell_type": "code",
   "execution_count": 96,
   "id": "eb83ff56-d72f-4313-9f58-17effa3e7c6d",
   "metadata": {},
   "outputs": [
    {
     "data": {
      "text/plain": [
       "[1, 2, None]"
      ]
     },
     "execution_count": 96,
     "metadata": {},
     "output_type": "execute_result"
    }
   ],
   "source": [
    "[1, 2, None]"
   ]
  },
  {
   "cell_type": "code",
   "execution_count": 98,
   "id": "333d006f-2bb7-4d7a-bfed-c15daff6752d",
   "metadata": {},
   "outputs": [
    {
     "data": {
      "text/plain": [
       "'null'"
      ]
     },
     "execution_count": 98,
     "metadata": {},
     "output_type": "execute_result"
    }
   ],
   "source": [
    "'null'"
   ]
  },
  {
   "cell_type": "code",
   "execution_count": 99,
   "id": "cd59534f-aabf-4e8f-89f5-7745f8ac7fcc",
   "metadata": {},
   "outputs": [
    {
     "name": "stdout",
     "output_type": "stream",
     "text": [
      "null\n"
     ]
    }
   ],
   "source": [
    "print('null')"
   ]
  },
  {
   "cell_type": "code",
   "execution_count": null,
   "id": "699857b7-da26-4082-959d-cd611015ab4d",
   "metadata": {},
   "outputs": [],
   "source": []
  },
  {
   "cell_type": "code",
   "execution_count": null,
   "id": "84a4623d-f500-4003-b25b-32ce58f7e4ea",
   "metadata": {},
   "outputs": [],
   "source": []
  },
  {
   "cell_type": "code",
   "execution_count": null,
   "id": "f086556a-d7cc-454d-8076-6822a6d1e34a",
   "metadata": {},
   "outputs": [],
   "source": []
  },
  {
   "cell_type": "code",
   "execution_count": null,
   "id": "180ac77b-780e-4eca-adc2-3c3a8dacbe3a",
   "metadata": {},
   "outputs": [],
   "source": []
  },
  {
   "cell_type": "code",
   "execution_count": null,
   "id": "38498e4c-4825-477b-837e-00a06594b2fc",
   "metadata": {},
   "outputs": [],
   "source": []
  },
  {
   "cell_type": "code",
   "execution_count": null,
   "id": "b4c78019-f0fd-42ab-bd6e-c52e614857d5",
   "metadata": {},
   "outputs": [],
   "source": []
  },
  {
   "cell_type": "code",
   "execution_count": null,
   "id": "6e6bda01-38f9-4293-a146-7edca51d5625",
   "metadata": {},
   "outputs": [],
   "source": []
  },
  {
   "cell_type": "code",
   "execution_count": null,
   "id": "eb7477de-d171-45f9-977a-86a81758667f",
   "metadata": {},
   "outputs": [],
   "source": []
  },
  {
   "cell_type": "code",
   "execution_count": null,
   "id": "583a45f4-43df-46b2-beec-d0696aac3ec2",
   "metadata": {},
   "outputs": [],
   "source": []
  },
  {
   "cell_type": "code",
   "execution_count": null,
   "id": "97e62bb3-1931-4937-953a-2748712f12dd",
   "metadata": {},
   "outputs": [],
   "source": []
  },
  {
   "cell_type": "code",
   "execution_count": null,
   "id": "86f1ae16-7a51-44a0-b88d-0b777ccdeae0",
   "metadata": {},
   "outputs": [],
   "source": []
  },
  {
   "cell_type": "code",
   "execution_count": null,
   "id": "d10855fd-645b-40da-8eca-332b146be3cd",
   "metadata": {},
   "outputs": [],
   "source": []
  },
  {
   "cell_type": "code",
   "execution_count": 100,
   "id": "02b9aae7-829f-4ea4-bbb3-4099d5a5d3ac",
   "metadata": {},
   "outputs": [
    {
     "data": {
      "text/plain": [
       "5.02"
      ]
     },
     "execution_count": 100,
     "metadata": {},
     "output_type": "execute_result"
    }
   ],
   "source": [
    "2 * 0.06 + 3 * 0.42 + 7 * 0.52"
   ]
  },
  {
   "cell_type": "code",
   "execution_count": 101,
   "id": "5777b451-9150-4798-a32e-bb7abfe09873",
   "metadata": {},
   "outputs": [],
   "source": [
    "dp, mu, sd = 0.5, 0, 1"
   ]
  },
  {
   "cell_type": "code",
   "execution_count": 102,
   "id": "bf97c229-b713-43dc-8019-be33a3a1aa43",
   "metadata": {},
   "outputs": [],
   "source": [
    "from statistics import NormalDist"
   ]
  },
  {
   "cell_type": "code",
   "execution_count": 103,
   "id": "3a43d74c-81ba-4fdb-bc43-24abbdc72765",
   "metadata": {},
   "outputs": [
    {
     "data": {
      "text/plain": [
       "0.691462461274013"
      ]
     },
     "execution_count": 103,
     "metadata": {},
     "output_type": "execute_result"
    }
   ],
   "source": [
    "NormalDist(mu, sd).cdf(dp)"
   ]
  },
  {
   "cell_type": "code",
   "execution_count": 105,
   "id": "89e1150d-016a-4729-a7f5-233dc9bd23e5",
   "metadata": {},
   "outputs": [
    {
     "name": "stdout",
     "output_type": "stream",
     "text": [
      "Object `zscore` not found.\n"
     ]
    }
   ],
   "source": [
    "NormalDist(mu, sd).zscore()"
   ]
  },
  {
   "cell_type": "code",
   "execution_count": 106,
   "id": "a8213a06-04dc-42a2-b046-2295602e40b4",
   "metadata": {},
   "outputs": [
    {
     "data": {
      "text/plain": [
       "-4.5"
      ]
     },
     "execution_count": 106,
     "metadata": {},
     "output_type": "execute_result"
    }
   ],
   "source": [
    "NormalDist(10, 2).zscore(1)"
   ]
  },
  {
   "cell_type": "code",
   "execution_count": 109,
   "id": "1695c3cb-563b-4015-8c00-11c085e9242d",
   "metadata": {},
   "outputs": [],
   "source": [
    "import numpy as np\n",
    "import pandas as pd\n",
    "import matplotlib.pyplot as plt\n",
    "import seaborn as sns\n",
    "%matplotlib inline\n",
    "\n",
    "from statistics import NormalDist\n",
    "from scipy.stats import norm, binom\n",
    "from scipy.special import comb\n",
    "from IPython.display import display, Latex"
   ]
  },
  {
   "cell_type": "code",
   "execution_count": 114,
   "id": "57666dbe-3230-44a7-a81f-d21ed24417c6",
   "metadata": {},
   "outputs": [
    {
     "data": {
      "text/latex": [
       "$P(X > 178) = 0.0139$"
      ],
      "text/plain": [
       "<IPython.core.display.Latex object>"
      ]
     },
     "metadata": {},
     "output_type": "display_data"
    }
   ],
   "source": [
    "# probability above a value\n",
    "dp, mu, sd, n = 178, 50, 5, 4\n",
    "mus, sds = mu * n, (sd**2 * n)**0.5\n",
    "precision = 4\n",
    "prob = NormalDist(mu=mus, sigma=sds).cdf(x=dp)\n",
    "prob = round(prob, precision)\n",
    "display(Latex(f\"$P(X > {dp}) = {prob}$\"))"
   ]
  },
  {
   "cell_type": "code",
   "execution_count": 113,
   "id": "9dddd266-2933-49a8-9208-6b6e14a37bad",
   "metadata": {},
   "outputs": [
    {
     "data": {
      "text/plain": [
       "10.0"
      ]
     },
     "execution_count": 113,
     "metadata": {},
     "output_type": "execute_result"
    }
   ],
   "source": [
    "(sd**2 * n)**0.5"
   ]
  },
  {
   "cell_type": "code",
   "execution_count": null,
   "id": "e45521ad-3e55-4629-b7da-86bd5f40cf9d",
   "metadata": {},
   "outputs": [],
   "source": []
  },
  {
   "cell_type": "code",
   "execution_count": 140,
   "id": "26618297-23a1-4b9a-921c-6efe17f9c451",
   "metadata": {},
   "outputs": [
    {
     "name": "stdout",
     "output_type": "stream",
     "text": [
      "True\n",
      "True\n"
     ]
    }
   ],
   "source": [
    "p = 0.5\n",
    "q = 1 - p\n",
    "n = 1000\n",
    "precision = 2\n",
    "\n",
    "# check is the sampling distribution approximately normal\n",
    "print(n * p >= 10)\n",
    "print(n * q >= 10)"
   ]
  },
  {
   "cell_type": "code",
   "execution_count": 141,
   "id": "b339ee28-88f9-4ea0-9036-27ab8f5a1f23",
   "metadata": {},
   "outputs": [
    {
     "data": {
      "text/latex": [
       "$\\displaystyle \\mu_{\\hat p} = $$0.5$"
      ],
      "text/plain": [
       "<IPython.core.display.Latex object>"
      ]
     },
     "metadata": {},
     "output_type": "display_data"
    },
    {
     "data": {
      "text/latex": [
       "$\\displaystyle \\sigma_{\\hat p} = $$0.02$"
      ],
      "text/plain": [
       "<IPython.core.display.Latex object>"
      ]
     },
     "metadata": {},
     "output_type": "display_data"
    }
   ],
   "source": [
    "sample_sd = np.sqrt(p * q / n)\n",
    "\n",
    "display(Latex(\"$\\displaystyle \\mu_{\\hat p} = $\" + f\"${p}$\"))\n",
    "display(Latex(\"$\\displaystyle \\sigma_{\\hat p} = $\" + f\"${round(sample_sd, precision)}$\"))"
   ]
  },
  {
   "cell_type": "code",
   "execution_count": 149,
   "id": "ea9b1a53-9c71-4ec6-b3bd-ae0be2ac361e",
   "metadata": {},
   "outputs": [
    {
     "data": {
      "text/latex": [
       "$P(0.46 \\leq \\hat p < 0.56) = 0.99$"
      ],
      "text/plain": [
       "<IPython.core.display.Latex object>"
      ]
     },
     "metadata": {},
     "output_type": "display_data"
    }
   ],
   "source": [
    "# probability between two values\n",
    "dp1, dp2  = 0.46, 0.56\n",
    "p1 = NormalDist(p, sample_sd).cdf(dp1)\n",
    "p2 = 1 - NormalDist(p, sample_sd).cdf(dp2)\n",
    "prob = 1 - (p1 + p2)\n",
    "prob = round(prob, precision)\n",
    "display(Latex(f\"$P({dp1} \\leq \\hat p < {dp2}) = {prob}$\"))"
   ]
  },
  {
   "cell_type": "code",
   "execution_count": 152,
   "id": "f767777c-c6d5-47e3-87dd-b6ce4ab0350c",
   "metadata": {},
   "outputs": [
    {
     "data": {
      "text/plain": [
       "-1.8973665961010293"
      ]
     },
     "execution_count": 152,
     "metadata": {},
     "output_type": "execute_result"
    }
   ],
   "source": [
    "NormalDist(p, sample_sd).zscore(0.47)"
   ]
  },
  {
   "cell_type": "code",
   "execution_count": 145,
   "id": "4929fea2-f5b6-44cf-9405-906f998497c4",
   "metadata": {},
   "outputs": [
    {
     "data": {
      "text/plain": [
       "0.015811388300841896"
      ]
     },
     "execution_count": 145,
     "metadata": {},
     "output_type": "execute_result"
    }
   ],
   "source": [
    "sample_sd"
   ]
  },
  {
   "cell_type": "code",
   "execution_count": 146,
   "id": "6df1a7f6-6482-4240-9f31-164e914f2fe9",
   "metadata": {},
   "outputs": [
    {
     "data": {
      "text/plain": [
       "0.015811388300841896"
      ]
     },
     "execution_count": 146,
     "metadata": {},
     "output_type": "execute_result"
    }
   ],
   "source": [
    "np.sqrt(p * q / n)"
   ]
  },
  {
   "cell_type": "code",
   "execution_count": 157,
   "id": "28a05b30-ecbb-4aed-9c59-dd595ba66566",
   "metadata": {},
   "outputs": [],
   "source": [
    "from scipy.stats import binom"
   ]
  },
  {
   "cell_type": "code",
   "execution_count": 165,
   "id": "baff6853-312f-41c4-821e-3b4963d56767",
   "metadata": {},
   "outputs": [
    {
     "name": "stdout",
     "output_type": "stream",
     "text": [
      "True\n",
      "True\n"
     ]
    }
   ],
   "source": [
    "p = 0.41\n",
    "q = 1 - p\n",
    "n = 25\n",
    "precision = 2\n",
    "\n",
    "# check is the sampling distribution approximately normal\n",
    "print(n * p >= 10)\n",
    "print(n * q >= 10)"
   ]
  },
  {
   "cell_type": "code",
   "execution_count": 166,
   "id": "0079b50d-4b7e-4c16-bb69-219b8c22d84a",
   "metadata": {},
   "outputs": [
    {
     "data": {
      "text/plain": [
       "0.09836666101886352"
      ]
     },
     "execution_count": 166,
     "metadata": {},
     "output_type": "execute_result"
    }
   ],
   "source": [
    "binom.std(n, p) / n"
   ]
  },
  {
   "cell_type": "code",
   "execution_count": 167,
   "id": "eefef8cf-bc26-437c-95ba-277bf269d2a7",
   "metadata": {},
   "outputs": [
    {
     "data": {
      "text/plain": [
       "0.0983666610188635"
      ]
     },
     "execution_count": 167,
     "metadata": {},
     "output_type": "execute_result"
    }
   ],
   "source": [
    "np.sqrt(p * q / n)"
   ]
  },
  {
   "cell_type": "code",
   "execution_count": null,
   "id": "704d3180-f020-4a53-a05e-c9b804f030ac",
   "metadata": {},
   "outputs": [],
   "source": []
  }
 ],
 "metadata": {
  "kernelspec": {
   "display_name": "statistics-and-probability",
   "language": "python",
   "name": "statistics-and-probability"
  },
  "language_info": {
   "codemirror_mode": {
    "name": "ipython",
    "version": 3
   },
   "file_extension": ".py",
   "mimetype": "text/x-python",
   "name": "python",
   "nbconvert_exporter": "python",
   "pygments_lexer": "ipython3",
   "version": "3.9.10"
  },
  "toc-autonumbering": false
 },
 "nbformat": 4,
 "nbformat_minor": 5
}
