{
 "cells": [
  {
   "cell_type": "code",
   "execution_count": 18,
   "id": "c34e51c3-9d28-4ffc-9899-5337d51edf61",
   "metadata": {},
   "outputs": [],
   "source": [
    "import pandas as pd"
   ]
  },
  {
   "cell_type": "code",
   "execution_count": 20,
   "id": "4a410db9-1342-41d3-ae2d-cea44290dea2",
   "metadata": {},
   "outputs": [],
   "source": [
    "from scipy.stats import binom"
   ]
  },
  {
   "cell_type": "code",
   "execution_count": 25,
   "id": "b61dac1f-c6d8-4f91-8dbc-8f19f7c1470d",
   "metadata": {},
   "outputs": [
    {
     "data": {
      "text/plain": [
       "0.807300071424"
      ]
     },
     "execution_count": 25,
     "metadata": {},
     "output_type": "execute_result"
    }
   ],
   "source": [
    "# 美本+美硕(私立)\n",
    "k, n, p = 0, 6, 0.24\n",
    "\n",
    "1 - binom.cdf(k, n, p)"
   ]
  },
  {
   "cell_type": "code",
   "execution_count": 26,
   "id": "4068644c-60da-4e24-8c1c-f834c63d6735",
   "metadata": {},
   "outputs": [
    {
     "data": {
      "text/plain": [
       "0.953344"
      ]
     },
     "execution_count": 26,
     "metadata": {},
     "output_type": "execute_result"
    }
   ],
   "source": [
    "# 美硕(公立)\n",
    "k, n, p = 0, 6, p + 0.16\n",
    "\n",
    "1 - binom.cdf(k, n, p)"
   ]
  },
  {
   "cell_type": "code",
   "execution_count": null,
   "id": "bfa73d25-1fd8-4921-b59b-0832ce189101",
   "metadata": {},
   "outputs": [],
   "source": []
  },
  {
   "cell_type": "code",
   "execution_count": 5,
   "id": "1ec20bdb-63a0-49d4-82e9-84b15accd40b",
   "metadata": {},
   "outputs": [
    {
     "name": "stdout",
     "output_type": "stream",
     "text": [
      "959\n"
     ]
    }
   ],
   "source": [
    "d0 = date(2019, 8, 12)\n",
    "d1 = date(2022, 3, 28)\n",
    "delta = d1 - d0\n",
    "print(delta.days)"
   ]
  },
  {
   "cell_type": "code",
   "execution_count": 6,
   "id": "11a6b80d-2eb6-49d0-8a17-dd45d9a14ddd",
   "metadata": {},
   "outputs": [
    {
     "name": "stdout",
     "output_type": "stream",
     "text": [
      "175\n"
     ]
    }
   ],
   "source": [
    "from datetime import date\n",
    "\n",
    "d0 = date(2018, 12, 27)\n",
    "d1 = date(2019, 6, 20)\n",
    "delta = d1 - d0\n",
    "print(delta.days)"
   ]
  },
  {
   "cell_type": "code",
   "execution_count": 7,
   "id": "ba0a00dd-bccd-4b8d-8b52-6886a88c4c9f",
   "metadata": {},
   "outputs": [
    {
     "name": "stdout",
     "output_type": "stream",
     "text": [
      "18\n"
     ]
    }
   ],
   "source": [
    "d0 = date(2014, 1, 18)\n",
    "d1 = date(2014, 2, 5)\n",
    "delta = d1 - d0\n",
    "print(delta.days)"
   ]
  },
  {
   "cell_type": "code",
   "execution_count": 22,
   "id": "b655f8de-a0f2-4e48-8579-b83b1b6cb95c",
   "metadata": {},
   "outputs": [],
   "source": [
    "import scipy.stats as st\n",
    "import seaborn as sns"
   ]
  },
  {
   "cell_type": "code",
   "execution_count": 9,
   "id": "3505ad53-38ec-4931-9dfb-ab2e667cba2e",
   "metadata": {},
   "outputs": [
    {
     "ename": "NameError",
     "evalue": "name 'self' is not defined",
     "output_type": "error",
     "traceback": [
      "\u001b[0;31m---------------------------------------------------------------------------\u001b[0m",
      "\u001b[0;31mNameError\u001b[0m                                 Traceback (most recent call last)",
      "Input \u001b[0;32mIn [9]\u001b[0m, in \u001b[0;36m<cell line: 1>\u001b[0;34m()\u001b[0m\n\u001b[0;32m----> 1\u001b[0m st\u001b[38;5;241m.\u001b[39mrv_continuous()\u001b[38;5;241m.\u001b[39mrvs(\u001b[38;5;28;43mself\u001b[39;49m, loc\u001b[38;5;241m=\u001b[39m\u001b[38;5;241m0\u001b[39m, scale\u001b[38;5;241m=\u001b[39m\u001b[38;5;241m1\u001b[39m, size\u001b[38;5;241m=\u001b[39m\u001b[38;5;241m1000\u001b[39m)\n",
      "\u001b[0;31mNameError\u001b[0m: name 'self' is not defined"
     ]
    }
   ],
   "source": [
    "st.rv_continuous().rvs(self, loc=0, scale=1, size=1000)"
   ]
  },
  {
   "cell_type": "code",
   "execution_count": 13,
   "id": "49eff0d8-7eda-4322-b0e4-f29363a8c6c7",
   "metadata": {},
   "outputs": [],
   "source": [
    "import numpy as np"
   ]
  },
  {
   "cell_type": "code",
   "execution_count": 46,
   "id": "369e87de-8989-4189-93d1-567e0ba7d6a7",
   "metadata": {},
   "outputs": [],
   "source": [
    "rng = np.random.default_rng(2022) # random seed"
   ]
  },
  {
   "cell_type": "code",
   "execution_count": 114,
   "id": "4ffcb4b3-b897-4efc-8e16-3f2382967ee5",
   "metadata": {},
   "outputs": [],
   "source": [
    "pop = np.random.randint(low=0, high=100_000, size=1000)"
   ]
  },
  {
   "cell_type": "code",
   "execution_count": 115,
   "id": "a8a280a0-12e7-4443-9535-5fc003f885f1",
   "metadata": {},
   "outputs": [
    {
     "data": {
      "text/plain": [
       "(49, 99893)"
      ]
     },
     "execution_count": 115,
     "metadata": {},
     "output_type": "execute_result"
    }
   ],
   "source": [
    "pop.min(), pop.max()"
   ]
  },
  {
   "cell_type": "code",
   "execution_count": 118,
   "id": "7a06f46f-fabc-4b7c-bca5-922dae70bc82",
   "metadata": {},
   "outputs": [],
   "source": [
    "def bootstrap(pop, n, n_trials):\n",
    "    \"\"\"bootstrap Sampling n times from the given discrete random varaible X with probabilities P.\n",
    "\n",
    "    Args:\n",
    "        X (numpy.ndarray): The discrete random variables.\n",
    "        n (_type_): Sample Size.\n",
    "        P (numpy.ndarray): The probabilites of X.\n",
    "        n_trials (_type_): Number os trials.\n",
    "\n",
    "    Returns:\n",
    "        numpy.ndarray: The samples of X.\n",
    "    \"\"\"  \n",
    "    rng = np.random.default_rng(2022) # random seed\n",
    "    samples = []\n",
    "    for i in range(n_trials):\n",
    "        sample = rng.choice(a=pop, size=n, replace=True)\n",
    "        samples.append(sample)\n",
    "\n",
    "    return np.array(samples)"
   ]
  },
  {
   "cell_type": "code",
   "execution_count": 119,
   "id": "94bddc1d-f21f-4cb1-8f30-83281eec5d4f",
   "metadata": {},
   "outputs": [],
   "source": [
    "n = 30\n",
    "samples = bootstrap(pop, n, 10000)"
   ]
  },
  {
   "cell_type": "code",
   "execution_count": 131,
   "id": "34d866ec-4811-46ff-ad82-6b572e867d74",
   "metadata": {},
   "outputs": [
    {
     "data": {
      "text/plain": [
       "(49205.74131666667, 29608.479591457573)"
      ]
     },
     "execution_count": 131,
     "metadata": {},
     "output_type": "execute_result"
    }
   ],
   "source": [
    "samples.mean(), samples.std()"
   ]
  },
  {
   "cell_type": "code",
   "execution_count": 132,
   "id": "1ddbaf5a-22f2-48d0-966a-eb8cf01374fd",
   "metadata": {},
   "outputs": [
    {
     "data": {
      "text/plain": [
       "(49216.024, 29614.661874676607)"
      ]
     },
     "execution_count": 132,
     "metadata": {},
     "output_type": "execute_result"
    }
   ],
   "source": [
    "pop.mean(), pop.std()"
   ]
  },
  {
   "cell_type": "code",
   "execution_count": 136,
   "id": "9932fc43-e7ba-4a7b-a774-03fd3606dbe0",
   "metadata": {},
   "outputs": [
    {
     "data": {
      "text/plain": [
       "(49205.74131666667, 28924.173933868307, 5280.807506927536)"
      ]
     },
     "execution_count": 136,
     "metadata": {},
     "output_type": "execute_result"
    }
   ],
   "source": [
    "samples.mean(), samples[0].std(), samples[0].std() / np.sqrt(n)"
   ]
  },
  {
   "cell_type": "code",
   "execution_count": null,
   "id": "57f638fc-e8d9-471c-ab5e-acaac9ca7653",
   "metadata": {},
   "outputs": [],
   "source": []
  },
  {
   "cell_type": "code",
   "execution_count": null,
   "id": "76b18d0e-39be-4963-be6c-ceceecd82b37",
   "metadata": {},
   "outputs": [],
   "source": []
  },
  {
   "cell_type": "code",
   "execution_count": null,
   "id": "9a105c22-92a5-4167-9047-552fb6a65a76",
   "metadata": {},
   "outputs": [],
   "source": []
  },
  {
   "cell_type": "code",
   "execution_count": 137,
   "id": "bfe2dcae-ace9-4b4c-9015-69a2aa81d219",
   "metadata": {},
   "outputs": [],
   "source": [
    "import handcalcs.render"
   ]
  },
  {
   "cell_type": "code",
   "execution_count": 138,
   "id": "30cc2ae7-2308-4b83-8bcb-5aca2452f0ea",
   "metadata": {},
   "outputs": [
    {
     "data": {
      "text/latex": [
       "\\[\n",
       "\\begin{aligned}\n",
       "a &= 2 \\; \n",
       "\\\\[10pt]\n",
       "b &= 3 \\; \n",
       "\\\\[10pt]\n",
       "c &= 2 \\cdot a + \\frac{ b }{ 3 }  = 2 \\cdot 2 + \\frac{ 3 }{ 3 } &= 5.0  \n",
       "\\end{aligned}\n",
       "\\]"
      ],
      "text/plain": [
       "<IPython.core.display.Latex object>"
      ]
     },
     "metadata": {},
     "output_type": "display_data"
    }
   ],
   "source": [
    "%%render\n",
    "\n",
    "a = 2\n",
    "b = 3\n",
    "c = 2*a + b/3"
   ]
  },
  {
   "cell_type": "code",
   "execution_count": 146,
   "id": "e2908eb4-cb9f-4c36-9d21-f3b99cf4a208",
   "metadata": {},
   "outputs": [
    {
     "data": {
      "text/plain": [
       "0.011075105482763959"
      ]
     },
     "execution_count": 146,
     "metadata": {},
     "output_type": "execute_result"
    }
   ],
   "source": [
    "n, tstat = 9, -2.83\n",
    "precision = 3\n",
    "pval = st.t.cdf(x=tstat, df=n-1)\n",
    "pval"
   ]
  },
  {
   "cell_type": "code",
   "execution_count": 145,
   "id": "48858eac-6daa-4812-8419-99c1ef0e48c4",
   "metadata": {},
   "outputs": [
    {
     "data": {
      "text/latex": [
       "\\[\n",
       "\\begin{aligned}\n",
       "\\mathrm{pval} &= 1.108 \\times 10 ^ {-2 } \\; \n",
       "\\end{aligned}\n",
       "\\]"
      ],
      "text/plain": [
       "<IPython.core.display.Latex object>"
      ]
     },
     "metadata": {},
     "output_type": "display_data"
    }
   ],
   "source": [
    "%%render\n",
    "pval"
   ]
  },
  {
   "cell_type": "code",
   "execution_count": 149,
   "id": "e5775308-b345-4fb2-b669-6c892188f54b",
   "metadata": {},
   "outputs": [
    {
     "data": {
      "text/latex": [
       "\\[\n",
       "\\begin{aligned}\n",
       "\\alpha &= 0.05 \\; \n",
       "\\\\[10pt]\n",
       "\\beta &= 0.2 \\; \n",
       "\\end{aligned}\n",
       "\\]"
      ],
      "text/plain": [
       "<IPython.core.display.Latex object>"
      ]
     },
     "metadata": {},
     "output_type": "display_data"
    }
   ],
   "source": [
    "%%render\n",
    "\n",
    "alpha = 0.05\n",
    "beta = 0.2"
   ]
  },
  {
   "cell_type": "code",
   "execution_count": null,
   "id": "cd6cd955-5495-4c93-925d-99a5f02b671b",
   "metadata": {},
   "outputs": [],
   "source": []
  },
  {
   "cell_type": "code",
   "execution_count": null,
   "id": "1bd273e4-d9f9-44d8-912b-83f29861ddc5",
   "metadata": {},
   "outputs": [],
   "source": []
  },
  {
   "cell_type": "code",
   "execution_count": 1,
   "id": "69016405-787d-40aa-93eb-4184cb308f4c",
   "metadata": {},
   "outputs": [],
   "source": [
    "import numpy as np\n",
    "import pandas as pd\n",
    "import matplotlib.pyplot as plt\n",
    "import seaborn as sns\n",
    "import scipy.stats as st\n",
    "%matplotlib inline\n",
    "\n",
    "from scipy.special import perm, comb\n",
    "from statistics import NormalDist\n",
    "from itertools import permutations, combinations\n",
    "from fractions import Fraction\n",
    "from IPython.display import display, Latex"
   ]
  },
  {
   "cell_type": "code",
   "execution_count": 4,
   "id": "00633165-c171-4b4c-a94a-d846f32d86b3",
   "metadata": {},
   "outputs": [
    {
     "data": {
      "text/plain": [
       "3.5"
      ]
     },
     "execution_count": 4,
     "metadata": {},
     "output_type": "execute_result"
    }
   ],
   "source": [
    "X = np.array([1, 2, 3, 4, 5, 6])\n",
    "P = np.array([0.4, 0, 0.1, 0.1, 0, 0.4])\n",
    "E = round(np.sum(X * P), 2) # expected value\n",
    "E"
   ]
  },
  {
   "cell_type": "code",
   "execution_count": 6,
   "id": "acef4a9b-8073-4ff8-a86b-ee8049316c6b",
   "metadata": {},
   "outputs": [],
   "source": [
    "def bootstrap(X, n, P, n_trials):\n",
    "    \"\"\"bootstrap Sampling n times from the given discrete random varaible X with probabilities P.\n",
    "\n",
    "    Args:\n",
    "        X (numpy.ndarray): The discrete random variables.\n",
    "        n (_type_): Sample Size.\n",
    "        P (numpy.ndarray): The probabilites of X.\n",
    "        n_trials (_type_): Number os trials.\n",
    "\n",
    "    Returns:\n",
    "        numpy.ndarray: The samples of X.\n",
    "    \"\"\"  \n",
    "    rng = np.random.default_rng(2022) # random seed\n",
    "    samples = []\n",
    "    for i in range(n_trials):\n",
    "        sample = rng.choice(a=X, size=n, replace=True, p=P)\n",
    "        samples.append(sample)\n",
    "\n",
    "    return np.array(samples)\n",
    "\n",
    "\n",
    "def histogram(X, n, P, n_trials):\n",
    "    \"\"\"histogram draw histogram with z confidence interval from bootstrap.\n",
    "\n",
    "    Args:\n",
    "        X (numpy.ndarray): The discrete random variables.\n",
    "        n (_type_): Sample Size.\n",
    "        P (numpy.ndarray): The probabilites of X.\n",
    "        n_trials (_type_): Number os trials.\n",
    "    \"\"\"\n",
    "    if isinstance(X, list): X = np.array(X)\n",
    "    if isinstance(P, list): P = np.array(P)\n",
    "    samples = bootstrap(X=X, n=n, P=P, n_trials=n_trials)\n",
    "    \n",
    "    return samples\n",
    "    \n",
    "    s_mean = samples.mean()\n",
    "    s_means = samples.mean(axis=1)\n",
    "    s_median = np.median(s_means)\n",
    "    s_std = s_means.std()\n",
    "    SE = s_std / np.sqrt(n)\n",
    "    \n",
    "    precision = 4\n",
    "    xmin, xmax = st.norm.interval(.95, loc=s_mean, scale=SE)  # 95% percent confidence level\n",
    "    \n",
    "    sns.histplot(s_means, stat='probability', kde=True)  # 'probability', 'percent', 'density'\n",
    "    plt.axvline(x=xmin, linestyle='--', color='orange')\n",
    "    plt.axvline(x=xmax, linestyle='--', color='orange')\n",
    "    # plt.axhline(y=0, xmin=0, xmax=5, linewidth=20, color='r')\n",
    "    plt.title(\"Sample Distribution of the Sample Mean\")\n",
    "    plt.ylabel(\"Probability\")\n",
    "    plt.xlabel(\"Sample Mean\")\n",
    "    display(Latex(f\"$E[X] = {round((X * P).sum(), precision)}$, \" + \"$\\mu_{\\overline x} = $\" + f\"${round(s_mean, precision)}$, \" + f\"$median = {round(s_median, precision)}$\"))\n",
    "    display(Latex(f\"$s = {round(s_std, precision)}$, \" + \"$s_{\\overline x} = $\" + f\"${round(SE, precision)}$\"))\n",
    "    display(Latex(f\"$CI = [{round(xmin, precision)}, {round(xmax, precision)}]$\"))\n",
    "    display(Latex(f\"$skew = {round(st.skew(s_means), precision)}$, \" + f\"$kurtosis = {round(st.kurtosis(s_means), precision)}$\"))"
   ]
  },
  {
   "cell_type": "code",
   "execution_count": 5,
   "id": "16e8596f-8532-43fe-a733-30ad7961ea80",
   "metadata": {},
   "outputs": [
    {
     "data": {
      "text/latex": [
       "$E[X] = 3.5$, $\\mu_{\\overline x} = $$3.5007$, $median = 3.5$"
      ],
      "text/plain": [
       "<IPython.core.display.Latex object>"
      ]
     },
     "metadata": {},
     "output_type": "display_data"
    },
    {
     "data": {
      "text/latex": [
       "$s = 0.2245$, $s_{\\overline x} = $$0.0225$"
      ],
      "text/plain": [
       "<IPython.core.display.Latex object>"
      ]
     },
     "metadata": {},
     "output_type": "display_data"
    },
    {
     "data": {
      "text/latex": [
       "$CI = [3.4567, 3.5447]$"
      ],
      "text/plain": [
       "<IPython.core.display.Latex object>"
      ]
     },
     "metadata": {},
     "output_type": "display_data"
    },
    {
     "data": {
      "text/latex": [
       "$skew = 0.0328$, $kurtosis = 0.0407$"
      ],
      "text/plain": [
       "<IPython.core.display.Latex object>"
      ]
     },
     "metadata": {},
     "output_type": "display_data"
    },
    {
     "data": {
      "image/png": "[encoded data removed]",
      "text/plain": [
       "<Figure size 432x288 with 1 Axes>"
      ]
     },
     "metadata": {
      "needs_background": "light"
     },
     "output_type": "display_data"
    }
   ],
   "source": [
    "# for n = 100\n",
    "histogram(X=X, n=100, P=P, n_trials=10000)"
   ]
  },
  {
   "cell_type": "code",
   "execution_count": 7,
   "id": "48007ea8-353d-49e4-9db0-2de32e137ee8",
   "metadata": {},
   "outputs": [],
   "source": [
    "samples = histogram(X=X, n=100, P=P, n_trials=10000)"
   ]
  },
  {
   "cell_type": "code",
   "execution_count": 12,
   "id": "35abe65e-fa31-4590-ad3a-fa30c79912b9",
   "metadata": {},
   "outputs": [],
   "source": [
    "s_mean = samples.mean()\n",
    "s_means = samples.mean(axis=1)\n",
    "s_median = np.median(s_means)\n",
    "s_std = s_means.std()\n",
    "SE = s_std / np.sqrt(100)"
   ]
  },
  {
   "cell_type": "code",
   "execution_count": 9,
   "id": "29160f98-92af-46ca-9be8-222bde10b24e",
   "metadata": {},
   "outputs": [
    {
     "data": {
      "text/plain": [
       "array([3.51, 3.61, 3.57, ..., 3.36, 3.67, 3.33])"
      ]
     },
     "execution_count": 9,
     "metadata": {},
     "output_type": "execute_result"
    }
   ],
   "source": [
    "samples.mean(axis=1)"
   ]
  },
  {
   "cell_type": "code",
   "execution_count": 13,
   "id": "c35a4621-75c4-4993-9ec5-b1fffe252515",
   "metadata": {},
   "outputs": [
    {
     "data": {
      "text/plain": [
       "3.50067"
      ]
     },
     "execution_count": 13,
     "metadata": {},
     "output_type": "execute_result"
    }
   ],
   "source": [
    "s_mean"
   ]
  },
  {
   "cell_type": "code",
   "execution_count": 14,
   "id": "5b6d9085-a82b-44c7-8135-6588ffc3360b",
   "metadata": {},
   "outputs": [
    {
     "data": {
      "text/plain": [
       "array([3.51, 3.61, 3.57, ..., 3.36, 3.67, 3.33])"
      ]
     },
     "execution_count": 14,
     "metadata": {},
     "output_type": "execute_result"
    }
   ],
   "source": [
    "s_means"
   ]
  },
  {
   "cell_type": "code",
   "execution_count": 15,
   "id": "dae1c64c-c6d1-40c7-870e-edfc4a4f9102",
   "metadata": {},
   "outputs": [
    {
     "data": {
      "text/plain": [
       "3.5"
      ]
     },
     "execution_count": 15,
     "metadata": {},
     "output_type": "execute_result"
    }
   ],
   "source": [
    "s_median"
   ]
  },
  {
   "cell_type": "code",
   "execution_count": 16,
   "id": "828fd153-7eae-4550-8908-495ab4c5a24a",
   "metadata": {},
   "outputs": [
    {
     "data": {
      "text/plain": [
       "0.22451577027015274"
      ]
     },
     "execution_count": 16,
     "metadata": {},
     "output_type": "execute_result"
    }
   ],
   "source": [
    "s_std"
   ]
  },
  {
   "cell_type": "code",
   "execution_count": 17,
   "id": "a53daa0c-9b32-4191-97a0-5fcf620db26c",
   "metadata": {},
   "outputs": [
    {
     "data": {
      "text/plain": [
       "0.022451577027015272"
      ]
     },
     "execution_count": 17,
     "metadata": {},
     "output_type": "execute_result"
    }
   ],
   "source": [
    "SE"
   ]
  },
  {
   "cell_type": "code",
   "execution_count": 18,
   "id": "8b64f7fe-c850-4c13-af59-3b8ed3d9dbad",
   "metadata": {},
   "outputs": [
    {
     "data": {
      "text/plain": [
       "(3.4566657176309232, 3.5446742823690767)"
      ]
     },
     "execution_count": 18,
     "metadata": {},
     "output_type": "execute_result"
    }
   ],
   "source": [
    "xmin, xmax = st.norm.interval(.95, loc=s_mean, scale=SE)\n",
    "xmin, xmax"
   ]
  },
  {
   "cell_type": "code",
   "execution_count": 19,
   "id": "991c4c0d-b4f8-4793-952b-d9b8af399bb7",
   "metadata": {},
   "outputs": [
    {
     "data": {
      "text/plain": [
       "(3.4566657176309232, 3.5446742823690767)"
      ]
     },
     "execution_count": 19,
     "metadata": {},
     "output_type": "execute_result"
    }
   ],
   "source": [
    "st.norm.interval(.95, loc=s_mean, scale=SE)"
   ]
  },
  {
   "cell_type": "code",
   "execution_count": 21,
   "id": "51d85457-3eb4-4731-9cdc-c9a6bc1e44a0",
   "metadata": {},
   "outputs": [
    {
     "data": {
      "text/plain": [
       "1.959963984540054"
      ]
     },
     "execution_count": 21,
     "metadata": {},
     "output_type": "execute_result"
    }
   ],
   "source": [
    "CL = .95\n",
    "st.norm.ppf((1 - CL) / 2 + CL)"
   ]
  },
  {
   "cell_type": "code",
   "execution_count": 22,
   "id": "00a16061-253b-4ea8-9027-0c661f32dded",
   "metadata": {},
   "outputs": [
    {
     "data": {
      "text/plain": [
       "0.04400509097294993"
      ]
     },
     "execution_count": 22,
     "metadata": {},
     "output_type": "execute_result"
    }
   ],
   "source": [
    "MOE = 1.96 * SE\n",
    "MOE"
   ]
  },
  {
   "cell_type": "code",
   "execution_count": null,
   "id": "8a5af1d9-4eb8-4f54-9104-15304072dbbe",
   "metadata": {},
   "outputs": [],
   "source": []
  },
  {
   "cell_type": "code",
   "execution_count": null,
   "id": "c9a35eb6-024c-4462-ac10-9a7d2a0b6b56",
   "metadata": {},
   "outputs": [],
   "source": []
  },
  {
   "cell_type": "markdown",
   "id": "19e59993-6a0a-4972-8da4-3c05a9251657",
   "metadata": {},
   "source": [
    "$\\displaystyle H_{0}\\colon p_{1}=p_{2} \\Rightarrow d_0 = 0$\n",
    "\n",
    "$\\displaystyle z={\\frac {({\\hat {p}}_{1}-{\\hat {p}}_{2})}{\\sqrt {{\\hat {p}}(1-{\\hat {p}})({\\frac {1}{n_{1}}}+{\\frac {1}{n_{2}}})}}}$\n",
    "\n",
    "$\\displaystyle \\hat{p}=\\frac{x_1 + x_2}{n_1 + n_2}$\n",
    "\n",
    "### Conditions\n",
    "\n",
    "- **Random**\n",
    "- **Normal**\n",
    "    - $n_1 p_1 > 5$ **and** $n_1(1 − p_1) > 5$\n",
    "    - $n_2 p_2 > 5$ **and** $n_2(1 − p_2) > 5$\n",
    "- **Independent**"
   ]
  },
  {
   "cell_type": "code",
   "execution_count": null,
   "id": "25041637-8f26-41c8-8df6-b9c221258e9f",
   "metadata": {},
   "outputs": [],
   "source": [
    "def power(p_null, p_alt, n, alpha = .05, plot = True):\n",
    "    \"\"\"\n",
    "    Compute the power of detecting the difference in two populations with \n",
    "    different proportion parameters, given a desired alpha rate.\n",
    "    \n",
    "    Input parameters:\n",
    "        p_null: base success rate under null hypothesis\n",
    "        p_alt : desired success rate to be detected, must be larger than\n",
    "                p_null\n",
    "        n     : number of observations made in each group\n",
    "        alpha : Type-I error rate\n",
    "        plot  : boolean for whether or not a plot of distributions will be\n",
    "                created\n",
    "    \n",
    "    Output value:\n",
    "        power : Power to detect the desired difference, under the null.\n",
    "    \"\"\"\n",
    "    \n",
    "    # Compute the power\n",
    "    se_null = np.sqrt((p_null * (1-p_null) + p_null * (1-p_null)) / n)\n",
    "    null_dist = st.norm(loc = 0, scale = se_null)\n",
    "    p_crit = null_dist.ppf(1 - alpha)\n",
    "    \n",
    "    se_alt  = np.sqrt((p_null * (1-p_null) + p_alt  * (1-p_alt) ) / n)\n",
    "    alt_dist = st.norm(loc = p_alt - p_null, scale = se_alt)\n",
    "    beta = alt_dist.cdf(p_crit)\n",
    "    \n",
    "    return se_null, null_dist, p_crit\n",
    "    \n",
    "    if plot:\n",
    "        # Compute distribution heights\n",
    "        low_bound = null_dist.ppf(.01)\n",
    "        high_bound = alt_dist.ppf(.99)\n",
    "        x = np.linspace(low_bound, high_bound, 201)\n",
    "        y_null = null_dist.pdf(x)\n",
    "        y_alt = alt_dist.pdf(x)\n",
    "\n",
    "        # Plot the distributions\n",
    "        plt.plot(x, y_null)\n",
    "        plt.plot(x, y_alt)\n",
    "        plt.vlines(p_crit, 0, np.amax([null_dist.pdf(p_crit), alt_dist.pdf(p_crit)]),\n",
    "                   linestyles = '--')\n",
    "        plt.fill_between(x, y_null, 0, where = (x >= p_crit), alpha = .5)\n",
    "        plt.fill_between(x, y_alt , 0, where = (x <= p_crit), alpha = .5)\n",
    "        \n",
    "        plt.legend(['null','alt'])\n",
    "        plt.xlabel('difference')\n",
    "        plt.ylabel('density')\n",
    "        plt.show()\n",
    "    \n",
    "    # return power\n",
    "    return (1 - beta)\n",
    "    "
   ]
  },
  {
   "cell_type": "code",
   "execution_count": null,
   "id": "a9e99ab1-7e95-4c00-8f50-34e73c224c35",
   "metadata": {},
   "outputs": [],
   "source": []
  },
  {
   "cell_type": "code",
   "execution_count": 18,
   "id": "aeda6fdc-26ae-48dd-aa61-a1670376de1e",
   "metadata": {},
   "outputs": [],
   "source": [
    "import scipy.stats as st\n",
    "import numpy as np"
   ]
  },
  {
   "cell_type": "code",
   "execution_count": 7,
   "id": "f10192cd-c76f-446e-a9c1-8dad3c0d80f2",
   "metadata": {},
   "outputs": [
    {
     "data": {
      "text/plain": [
       "1.6448536269514722"
      ]
     },
     "execution_count": 7,
     "metadata": {},
     "output_type": "execute_result"
    }
   ],
   "source": [
    "st.norm(0, 1).ppf(.95)"
   ]
  },
  {
   "cell_type": "code",
   "execution_count": 11,
   "id": "e3fcecb6-92dc-477d-ae9a-ec56a5eead73",
   "metadata": {},
   "outputs": [
    {
     "data": {
      "text/plain": [
       "0.30900506785314574"
      ]
     },
     "execution_count": 11,
     "metadata": {},
     "output_type": "execute_result"
    }
   ],
   "source": [
    "st.norm(0, 1).cdf(.95) - st.norm(0, 1).cdf(.05)"
   ]
  },
  {
   "cell_type": "code",
   "execution_count": 14,
   "id": "e5ddfab6-d340-4ab4-bdd2-760803352abb",
   "metadata": {},
   "outputs": [
    {
     "data": {
      "text/plain": [
       "(-1.6448536269514729, 1.6448536269514722)"
      ]
     },
     "execution_count": 14,
     "metadata": {},
     "output_type": "execute_result"
    }
   ],
   "source": [
    "st.norm.interval(.90)"
   ]
  },
  {
   "cell_type": "code",
   "execution_count": 13,
   "id": "cf2ea2f1-0ad9-4a48-beee-d7523303134d",
   "metadata": {},
   "outputs": [
    {
     "data": {
      "text/plain": [
       "(-1.959963984540054, 1.959963984540054)"
      ]
     },
     "execution_count": 13,
     "metadata": {},
     "output_type": "execute_result"
    }
   ],
   "source": [
    "st.norm.interval(.95)"
   ]
  },
  {
   "cell_type": "code",
   "execution_count": 15,
   "id": "23190ffe-c7d7-48cb-b324-d855849048d2",
   "metadata": {},
   "outputs": [
    {
     "data": {
      "text/plain": [
       "(-2.5758293035489004, 2.5758293035489004)"
      ]
     },
     "execution_count": 15,
     "metadata": {},
     "output_type": "execute_result"
    }
   ],
   "source": [
    "st.norm.interval(.99)"
   ]
  },
  {
   "cell_type": "code",
   "execution_count": 16,
   "id": "56222444-623c-44e2-974d-bf6b4ea27522",
   "metadata": {},
   "outputs": [
    {
     "data": {
      "text/plain": [
       "1.959963984540054"
      ]
     },
     "execution_count": 16,
     "metadata": {},
     "output_type": "execute_result"
    }
   ],
   "source": [
    "st.norm.ppf(.975)"
   ]
  },
  {
   "cell_type": "code",
   "execution_count": 20,
   "id": "77ffeb91-f864-401a-bd3c-ebb53adcfd6b",
   "metadata": {},
   "outputs": [
    {
     "data": {
      "text/plain": [
       "(126.66572365661092, 129.33427634338906)"
      ]
     },
     "execution_count": 20,
     "metadata": {},
     "output_type": "execute_result"
    }
   ],
   "source": [
    "# with tstat\n",
    "n, mu_0, mu_1, sd_1 = 12, 128, 127.2, 2.1\n",
    "SE = sd_1 / np.sqrt(n)\n",
    "CL = .95\n",
    "\n",
    "st.t.interval(CL, df=n-1, loc=mu_0, scale=SE)"
   ]
  },
  {
   "cell_type": "code",
   "execution_count": 21,
   "id": "a31b5f2c-8598-4732-9cd7-4b6d712a4753",
   "metadata": {},
   "outputs": [
    {
     "data": {
      "text/plain": [
       "(125.86572365661092, 128.53427634338908)"
      ]
     },
     "execution_count": 21,
     "metadata": {},
     "output_type": "execute_result"
    }
   ],
   "source": [
    "st.t.interval(CL, df=n-1, loc=mu_1, scale=SE)"
   ]
  },
  {
   "cell_type": "code",
   "execution_count": 24,
   "id": "0969a230-aed1-4dfe-ae45-617886fd030b",
   "metadata": {},
   "outputs": [
    {
     "data": {
      "text/plain": [
       "4.0"
      ]
     },
     "execution_count": 24,
     "metadata": {},
     "output_type": "execute_result"
    }
   ],
   "source": [
    "from statistics import NormalDist\n",
    "\n",
    "NormalDist(mu=0, sigma=1).zscore(x=4)"
   ]
  },
  {
   "cell_type": "code",
   "execution_count": 29,
   "id": "33a4d022-104d-4810-8e06-65bd41c325ed",
   "metadata": {},
   "outputs": [
    {
     "data": {
      "text/plain": [
       "1.3196577581477114"
      ]
     },
     "execution_count": 29,
     "metadata": {},
     "output_type": "execute_result"
    }
   ],
   "source": [
    "(128 - 127.2) / SE"
   ]
  },
  {
   "cell_type": "code",
   "execution_count": 26,
   "id": "4ef36ac7-6c3e-40ac-9b3e-f616667196e9",
   "metadata": {},
   "outputs": [
    {
     "data": {
      "text/plain": [
       "0.10687758177880972"
      ]
     },
     "execution_count": 26,
     "metadata": {},
     "output_type": "execute_result"
    }
   ],
   "source": [
    "n, mu_0, mu_1, sd_1 = 12, 128, 127.2, 2.1\n",
    "SE = sd_1 / np.sqrt(n)\n",
    "tstat = (mu_1 - mu_0) / SE\n",
    "precision = 3\n",
    "pval = st.t.cdf(x=tstat, df=n-1)\n",
    "pval"
   ]
  },
  {
   "cell_type": "code",
   "execution_count": 27,
   "id": "c5c6c476-e0b7-4130-9695-372962e9397e",
   "metadata": {},
   "outputs": [
    {
     "data": {
      "text/plain": [
       "0.6062177826491071"
      ]
     },
     "execution_count": 27,
     "metadata": {},
     "output_type": "execute_result"
    }
   ],
   "source": [
    "SE"
   ]
  },
  {
   "cell_type": "code",
   "execution_count": 28,
   "id": "43db47f3-ce9c-4937-8929-bb43fa671389",
   "metadata": {},
   "outputs": [
    {
     "data": {
      "text/plain": [
       "-1.3196577581477114"
      ]
     },
     "execution_count": 28,
     "metadata": {},
     "output_type": "execute_result"
    }
   ],
   "source": [
    "tstat"
   ]
  },
  {
   "cell_type": "code",
   "execution_count": 36,
   "id": "fe8ec54a-3a6c-4bac-8264-d60a5fc388f7",
   "metadata": {},
   "outputs": [],
   "source": [
    "from statsmodels.stats import proportion"
   ]
  },
  {
   "cell_type": "code",
   "execution_count": 37,
   "id": "6c8e4c17-d65e-4c34-8269-a50ee23f501f",
   "metadata": {},
   "outputs": [
    {
     "ename": "ImportError",
     "evalue": "cannot import name 'proportion_effectsize' from 'statsmodels.stats' (/Users/zacks/.local/share/virtualenvs/statistics-and-probability-vT7xYXHW/lib/python3.9/site-packages/statsmodels/stats/__init__.py)",
     "output_type": "error",
     "traceback": [
      "\u001b[0;31m---------------------------------------------------------------------------\u001b[0m",
      "\u001b[0;31mImportError\u001b[0m                               Traceback (most recent call last)",
      "Input \u001b[0;32mIn [37]\u001b[0m, in \u001b[0;36m<cell line: 1>\u001b[0;34m()\u001b[0m\n\u001b[0;32m----> 1\u001b[0m \u001b[38;5;28;01mfrom\u001b[39;00m \u001b[38;5;21;01mstatsmodels\u001b[39;00m\u001b[38;5;21;01m.\u001b[39;00m\u001b[38;5;21;01mstats\u001b[39;00m \u001b[38;5;28;01mimport\u001b[39;00m proportion_effectsize\n",
      "\u001b[0;31mImportError\u001b[0m: cannot import name 'proportion_effectsize' from 'statsmodels.stats' (/Users/zacks/.local/share/virtualenvs/statistics-and-probability-vT7xYXHW/lib/python3.9/site-packages/statsmodels/stats/__init__.py)"
     ]
    }
   ],
   "source": [
    "from statsmodels.stats import proportion_effectsize"
   ]
  },
  {
   "cell_type": "code",
   "execution_count": 38,
   "id": "7189d0ab-be0c-44db-ade4-f00d20dbc07c",
   "metadata": {},
   "outputs": [],
   "source": [
    "import statsmodels.stats.api as sms"
   ]
  },
  {
   "cell_type": "code",
   "execution_count": 41,
   "id": "eb6ec373-f34f-4adb-82c1-bb95a0d99761",
   "metadata": {},
   "outputs": [
    {
     "data": {
      "text/plain": [
       "0.06398210298605866"
      ]
     },
     "execution_count": 41,
     "metadata": {},
     "output_type": "execute_result"
    }
   ],
   "source": [
    "sms.proportion_effectsize(.12, .10)"
   ]
  },
  {
   "cell_type": "code",
   "execution_count": 1,
   "id": "014f0875-3b97-41f7-b8b7-468e4c8ac43e",
   "metadata": {},
   "outputs": [
    {
     "name": "stdout",
     "output_type": "stream",
     "text": [
      "3835\n"
     ]
    }
   ],
   "source": [
    "# Packages imports\n",
    "import numpy as np\n",
    "import pandas as pd\n",
    "import scipy.stats as stats\n",
    "import statsmodels.stats.api as sms\n",
    "import matplotlib as mpl\n",
    "import matplotlib.pyplot as plt\n",
    "import seaborn as sns\n",
    "from math import ceil\n",
    "\n",
    "%matplotlib inline\n",
    "\n",
    "# Some plot styling preferences\n",
    "plt.style.use('seaborn-whitegrid')\n",
    "font = {'family' : 'Helvetica',\n",
    "        'weight' : 'bold',\n",
    "        'size'   : 14}\n",
    "\n",
    "mpl.rc('font', **font)\n",
    "effect_size = sms.proportion_effectsize(0.12, 0.10)    # Calculating effect size based on our expected rates\n",
    "\n",
    "required_n = sms.NormalIndPower().solve_power(\n",
    "    effect_size, \n",
    "    power=0.8, \n",
    "    alpha=0.05, \n",
    "    ratio=1\n",
    "    )                                                  # Calculating sample size needed\n",
    "\n",
    "required_n = ceil(required_n)                          # Rounding up to next whole number                          \n",
    "\n",
    "print(required_n)"
   ]
  },
  {
   "cell_type": "code",
   "execution_count": 47,
   "id": "33fefc19-c839-493b-8861-130c8015ad72",
   "metadata": {},
   "outputs": [
    {
     "data": {
      "text/plain": [
       "0.022068027137403433"
      ]
     },
     "execution_count": 47,
     "metadata": {},
     "output_type": "execute_result"
    }
   ],
   "source": [
    "def power(p_null, p_alt, n, alpha = .05, plot = True):\n",
    "    \"\"\"\n",
    "    Compute the power of detecting the difference in two populations with \n",
    "    different proportion parameters, given a desired alpha rate.\n",
    "    \n",
    "    Input parameters:\n",
    "        p_null: base success rate under null hypothesis\n",
    "        p_alt : desired success rate to be detected, must be larger than\n",
    "                p_null\n",
    "        n     : number of observations made in each group\n",
    "        alpha : Type-I error rate\n",
    "        plot  : boolean for whether or not a plot of distributions will be\n",
    "                created\n",
    "    \n",
    "    Output value:\n",
    "        power : Power to detect the desired difference, under the null.\n",
    "    \"\"\"\n",
    "    \n",
    "    # Compute the power\n",
    "    se_null = np.sqrt((p_null * (1-p_null) + p_null * (1-p_null)) / n)\n",
    "    null_dist = stats.norm(loc = 0, scale = se_null)\n",
    "    p_crit = null_dist.ppf(1 - alpha)\n",
    "    \n",
    "    se_alt  = np.sqrt((p_null * (1-p_null) + p_alt  * (1-p_alt) ) / n)\n",
    "    alt_dist = stats.norm(loc = p_alt - p_null, scale = se_alt)\n",
    "    beta = alt_dist.cdf(p_crit)\n",
    "    \n",
    "    return p_crit\n",
    "    \n",
    "    if plot:\n",
    "        # Compute distribution heights\n",
    "        low_bound = null_dist.ppf(.01)\n",
    "        high_bound = alt_dist.ppf(.99)\n",
    "        x = np.linspace(low_bound, high_bound, 201)\n",
    "        y_null = null_dist.pdf(x)\n",
    "        y_alt = alt_dist.pdf(x)\n",
    "\n",
    "        # Plot the distributions\n",
    "        plt.plot(x, y_null)\n",
    "        plt.plot(x, y_alt)\n",
    "        plt.vlines(p_crit, 0, np.amax([null_dist.pdf(p_crit), alt_dist.pdf(p_crit)]),\n",
    "                   linestyles = '--')\n",
    "        plt.fill_between(x, y_null, 0, where = (x >= p_crit), alpha = .5)\n",
    "        plt.fill_between(x, y_alt , 0, where = (x <= p_crit), alpha = .5)\n",
    "        \n",
    "        plt.legend(['null','alt'])\n",
    "        plt.xlabel('difference')\n",
    "        plt.ylabel('density')\n",
    "        plt.show()\n",
    "    \n",
    "    # return power\n",
    "    return (1 - beta)\n",
    "\n",
    "power(.1, .12, 1000)"
   ]
  },
  {
   "cell_type": "code",
   "execution_count": 156,
   "id": "d6216ace-0257-45dc-a1a2-829a90878e25",
   "metadata": {},
   "outputs": [
    {
     "data": {
      "image/png": "[encoded data removed]",
      "text/plain": [
       "<Figure size 432x288 with 1 Axes>"
      ]
     },
     "metadata": {},
     "output_type": "display_data"
    },
    {
     "data": {
      "text/plain": [
       "0.3263008797384317"
      ]
     },
     "execution_count": 156,
     "metadata": {},
     "output_type": "execute_result"
    }
   ],
   "source": [
    "def power(p_null, p_alt, n, alpha=.05, plot=True):\n",
    "    \"\"\"\n",
    "    Compute the power of detecting the difference in two populations with \n",
    "    different proportion parameters, given a desired alpha rate.\n",
    "    \n",
    "    Input parameters:\n",
    "        p_null: base success rate under null hypothesis\n",
    "        p_alt : desired success rate to be detected, must be larger than\n",
    "                p_null\n",
    "        n     : number of observations made in each group\n",
    "        alpha : Type-I error rate\n",
    "        plot  : boolean for whether or not a plot of distributions will be\n",
    "                created\n",
    "    \n",
    "    Output value:\n",
    "        power : Power to detect the desired difference, under the null.\n",
    "    \"\"\"\n",
    "    # Unpooled z-test\n",
    "    CL = 1 - alpha\n",
    "    \n",
    "    # Null: there is no difference between two groups. d = 0\n",
    "    d = 0\n",
    "    se_null = np.sqrt(st.bernoulli.var(p_null)/n + st.bernoulli.var(p_null)/n)\n",
    "    null_dist = stats.norm(loc=d, scale=se_null)\n",
    "    # confidence interval\n",
    "    ci_null = st.norm(loc=d, scale=se_null).interval(CL)\n",
    "    ci_null_upp = ci_null[1]\n",
    "    \n",
    "    # Alternative: B is at least (p_alt - p_null) better than A. d = p_alt - p_null\n",
    "    d = p_alt - p_null\n",
    "    se_alt = np.sqrt(st.bernoulli.var(p_null)/n + st.bernoulli.var(p_alt)/n)\n",
    "    alt_dist = stats.norm(loc=d, scale=se_alt)\n",
    "    beta = alt_dist.cdf(ci_null_upp)\n",
    "    \n",
    "    if plot:\n",
    "        # Compute distribution heights\n",
    "        low_bound = null_dist.ppf(.01)\n",
    "        high_bound = alt_dist.ppf(.99)\n",
    "        x = np.linspace(low_bound, high_bound, 201)\n",
    "        y_null = null_dist.pdf(x)\n",
    "        y_alt = alt_dist.pdf(x)\n",
    "\n",
    "        # Plot the distributions\n",
    "        plt.plot(x, y_null)\n",
    "        plt.plot(x, y_alt)\n",
    "        plt.vlines(ci_null_upp, 0, np.amax([null_dist.pdf(ci_null_upp), alt_dist.pdf(ci_null_upp)]),\n",
    "                   linestyles = '--')\n",
    "        plt.fill_between(x, y_null, 0, where = (x >= ci_null_upp), alpha = .5)\n",
    "        plt.fill_between(x, y_alt , 0, where = (x <= ci_null_upp), alpha = .5)\n",
    "        \n",
    "        plt.legend(['null','alt'])\n",
    "        plt.xlabel('difference')\n",
    "        plt.ylabel('density')\n",
    "        plt.show()\n",
    "    \n",
    "    # return power\n",
    "    return (1 - beta)\n",
    "\n",
    "power(.1, .12, 1000)"
   ]
  },
  {
   "cell_type": "code",
   "execution_count": 161,
   "id": "4fcf3d01-e272-4304-8426-a8551e5151af",
   "metadata": {},
   "outputs": [
    {
     "data": {
      "text/plain": [
       "0.4152071237501345"
      ]
     },
     "execution_count": 161,
     "metadata": {},
     "output_type": "execute_result"
    }
   ],
   "source": [
    "from statsmodels.stats.power import NormalIndPower\n",
    "from statsmodels.stats.proportion import proportion_effectsize\n",
    "\n",
    "effect_size = proportion.proportion_effectsize(.12, .1)\n",
    "\n",
    "NormalIndPower().power(effect_size, nobs1=1000, alpha=.05, ratio=1, alternative='larger')"
   ]
  },
  {
   "cell_type": "code",
   "execution_count": 162,
   "id": "87543b8b-9473-4251-8aed-054442160285",
   "metadata": {},
   "outputs": [
    {
     "data": {
      "text/plain": [
       "3020.515856462404"
      ]
     },
     "execution_count": 162,
     "metadata": {},
     "output_type": "execute_result"
    }
   ],
   "source": [
    "NormalIndPower().solve_power(effect_size, alpha=.05, power=.8, alternative='larger')"
   ]
  },
  {
   "cell_type": "code",
   "execution_count": 171,
   "id": "5fac2579-bb26-4035-84a1-c534403b0fe4",
   "metadata": {},
   "outputs": [
    {
     "data": {
      "text/plain": [
       "0.95"
      ]
     },
     "execution_count": 171,
     "metadata": {},
     "output_type": "execute_result"
    }
   ],
   "source": [
    "def power(p_null, p_alt, n, alpha=.05, plot=True):\n",
    "    \"\"\"\n",
    "    Compute the power of detecting the difference in two populations with \n",
    "    different proportion parameters, given a desired alpha rate.\n",
    "    \n",
    "    Input parameters:\n",
    "        p_null: base success rate under null hypothesis\n",
    "        p_alt : desired success rate to be detected, must be larger than\n",
    "                p_null\n",
    "        n     : number of observations made in each group\n",
    "        alpha : Type-I error rate\n",
    "        plot  : boolean for whether or not a plot of distributions will be\n",
    "                created\n",
    "    \n",
    "    Output value:\n",
    "        power : Power to detect the desired difference, under the null.\n",
    "    \"\"\"\n",
    "    # Unpooled z-test\n",
    "    CL = 1 - alpha\n",
    "    \n",
    "    # Null: there is no difference between two groups. d = 0\n",
    "    d = 0\n",
    "    se_null = np.sqrt(st.bernoulli.var(p_null)/n + st.bernoulli.var(p_null)/n)\n",
    "    null_dist = stats.norm(loc=d, scale=se_null)\n",
    "    # confidence interval\n",
    "    ci_null = st.norm(loc=d, scale=se_null).interval(CL)\n",
    "    ci_null_upp = ci_null[1]\n",
    "    \n",
    "    # Alternative: B is at least (p_alt - p_null) better than A. d = p_alt - p_null\n",
    "    d = p_alt - p_null\n",
    "    se_alt = np.sqrt(st.bernoulli.var(p_null)/n + st.bernoulli.var(p_alt)/n)\n",
    "    alt_dist = stats.norm(loc=d, scale=se_alt)\n",
    "    \n",
    "    # Beta(Type II Error)\n",
    "    beta = alt_dist.cdf(ci_null_upp)\n",
    "    \n",
    "    \n",
    "    if plot:\n",
    "        # Compute distribution heights\n",
    "        low_bound = null_dist.ppf(.01)\n",
    "        high_bound = alt_dist.ppf(.99)\n",
    "        x = np.linspace(low_bound, high_bound, 201)\n",
    "        y_null = null_dist.pdf(x)\n",
    "        y_alt = alt_dist.pdf(x)\n",
    "\n",
    "        # Plot the distributions\n",
    "        plt.plot(x, y_null)\n",
    "        plt.plot(x, y_alt)\n",
    "        plt.vlines(ci_null_upp, 0, np.amax([null_dist.pdf(ci_null_upp), alt_dist.pdf(ci_null_upp)]),\n",
    "                   linestyles = '--')\n",
    "        plt.fill_between(x, y_null, 0, where = (x >= ci_null_upp), alpha = .5)\n",
    "        plt.fill_between(x, y_alt , 0, where = (x <= ci_null_upp), alpha = .5)\n",
    "        \n",
    "        plt.legend(['null','alt'])\n",
    "        plt.xlabel('difference')\n",
    "        plt.ylabel('density')\n",
    "        plt.show()\n",
    "    \n",
    "    # return power\n",
    "    return (1 - beta)\n",
    "\n",
    "power(.1, .12, 1000)"
   ]
  },
  {
   "cell_type": "code",
   "execution_count": 173,
   "id": "48b8593f-d0c4-4b4b-9b04-20e79698ca2a",
   "metadata": {},
   "outputs": [
    {
     "data": {
      "text/plain": [
       "(-1.959963984540054, 1.959963984540054)"
      ]
     },
     "execution_count": 173,
     "metadata": {},
     "output_type": "execute_result"
    }
   ],
   "source": [
    "st.norm.interval(.95)"
   ]
  },
  {
   "cell_type": "code",
   "execution_count": 1,
   "id": "6495dbbb-6633-4613-8717-5f0c1eee7547",
   "metadata": {},
   "outputs": [],
   "source": [
    "import scipy.stats as st"
   ]
  },
  {
   "cell_type": "code",
   "execution_count": 3,
   "id": "f0b4dae4-64c2-4229-b851-0cacf8b84784",
   "metadata": {},
   "outputs": [
    {
     "data": {
      "text/plain": [
       "\u001b[0;31mSignature:\u001b[0m \u001b[0mst\u001b[0m\u001b[0;34m.\u001b[0m\u001b[0mbinom\u001b[0m\u001b[0;34m.\u001b[0m\u001b[0mcdf\u001b[0m\u001b[0;34m(\u001b[0m\u001b[0mk\u001b[0m\u001b[0;34m,\u001b[0m \u001b[0;34m*\u001b[0m\u001b[0margs\u001b[0m\u001b[0;34m,\u001b[0m \u001b[0;34m**\u001b[0m\u001b[0mkwds\u001b[0m\u001b[0;34m)\u001b[0m\u001b[0;34m\u001b[0m\u001b[0;34m\u001b[0m\u001b[0m\n",
       "\u001b[0;31mDocstring:\u001b[0m\n",
       "Cumulative distribution function of the given RV.\n",
       "\n",
       "Parameters\n",
       "----------\n",
       "k : array_like, int\n",
       "    Quantiles.\n",
       "arg1, arg2, arg3,... : array_like\n",
       "    The shape parameter(s) for the distribution (see docstring of the\n",
       "    instance object for more information).\n",
       "loc : array_like, optional\n",
       "    Location parameter (default=0).\n",
       "\n",
       "Returns\n",
       "-------\n",
       "cdf : ndarray\n",
       "    Cumulative distribution function evaluated at `k`.\n",
       "\u001b[0;31mFile:\u001b[0m      ~/.local/share/virtualenvs/statistics-and-probability-vT7xYXHW/lib/python3.9/site-packages/scipy/stats/_distn_infrastructure.py\n",
       "\u001b[0;31mType:\u001b[0m      method\n"
      ]
     },
     "metadata": {},
     "output_type": "display_data"
    }
   ],
   "source": [
    "st.binom.cdf(k=)"
   ]
  },
  {
   "cell_type": "code",
   "execution_count": 31,
   "id": "84f27f6a-96c1-4ed3-bee1-e4cf48489d15",
   "metadata": {},
   "outputs": [],
   "source": [
    "k, n, p = 1, 110, 0.007"
   ]
  },
  {
   "cell_type": "code",
   "execution_count": 34,
   "id": "abf8f188-a05a-41d3-af30-84d36c9852d5",
   "metadata": {},
   "outputs": [
    {
     "data": {
      "text/plain": [
       "0.8198235664722575"
      ]
     },
     "execution_count": 34,
     "metadata": {},
     "output_type": "execute_result"
    }
   ],
   "source": [
    "st.binom.cdf(1, n, p)"
   ]
  },
  {
   "cell_type": "code",
   "execution_count": 35,
   "id": "57705f73-15fe-495c-8d1b-dd39c7527376",
   "metadata": {},
   "outputs": [
    {
     "data": {
      "text/plain": [
       "0.5382389100924834"
      ]
     },
     "execution_count": 35,
     "metadata": {},
     "output_type": "execute_result"
    }
   ],
   "source": [
    "1 - st.binom.cdf(0, n, p)"
   ]
  },
  {
   "cell_type": "code",
   "execution_count": 20,
   "id": "5c54522e-99c5-4b8e-b939-63e8af74590e",
   "metadata": {},
   "outputs": [
    {
     "data": {
      "text/plain": [
       "0.4953644653558523"
      ]
     },
     "execution_count": 20,
     "metadata": {},
     "output_type": "execute_result"
    }
   ],
   "source": [
    "st.binom.pmf(0, n, p)"
   ]
  },
  {
   "cell_type": "code",
   "execution_count": 21,
   "id": "1c3d3281-b873-4a5c-a529-bf44e76fd62a",
   "metadata": {},
   "outputs": [
    {
     "data": {
      "text/plain": [
       "0.3491995224059384"
      ]
     },
     "execution_count": 21,
     "metadata": {},
     "output_type": "execute_result"
    }
   ],
   "source": [
    "st.binom.pmf(1, n, p)"
   ]
  },
  {
   "cell_type": "code",
   "execution_count": 15,
   "id": "ebd9d09c-202c-4d78-8455-eab30aca878c",
   "metadata": {},
   "outputs": [
    {
     "data": {
      "text/plain": [
       "0.5046355346441473"
      ]
     },
     "execution_count": 15,
     "metadata": {},
     "output_type": "execute_result"
    }
   ],
   "source": [
    "st.geom.cdf(100, p)"
   ]
  },
  {
   "cell_type": "code",
   "execution_count": 16,
   "id": "8c787660-e981-419d-8200-ce9b62a7cbae",
   "metadata": {},
   "outputs": [
    {
     "data": {
      "text/plain": [
       "0.4953644653558526"
      ]
     },
     "execution_count": 16,
     "metadata": {},
     "output_type": "execute_result"
    }
   ],
   "source": [
    "st.geom.sf(100, p)"
   ]
  },
  {
   "cell_type": "code",
   "execution_count": null,
   "id": "675ae556-4382-49fa-8286-71b95f1eb4cb",
   "metadata": {},
   "outputs": [],
   "source": []
  }
 ],
 "metadata": {
  "kernelspec": {
   "display_name": "statistics-and-probability",
   "language": "python",
   "name": "statistics-and-probability"
  },
  "language_info": {
   "codemirror_mode": {
    "name": "ipython",
    "version": 3
   },
   "file_extension": ".py",
   "mimetype": "text/x-python",
   "name": "python",
   "nbconvert_exporter": "python",
   "pygments_lexer": "ipython3",
   "version": "3.10.10"
  },
  "toc-autonumbering": false
 },
 "nbformat": 4,
 "nbformat_minor": 5
}
