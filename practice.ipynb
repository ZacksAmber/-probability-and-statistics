{
 "cells": [
  {
   "cell_type": "code",
   "execution_count": null,
   "id": "74229dce-251a-4735-941d-7cea7e298ce0",
   "metadata": {},
   "outputs": [],
   "source": [
    "import numpy as np\n",
    "from scipy.stats import binom"
   ]
  },
  {
   "cell_type": "code",
   "execution_count": null,
   "id": "c49b448c-5db4-492b-bb83-ae9edef09361",
   "metadata": {},
   "outputs": [],
   "source": [
    "# Z-Score calculation for single data point\n",
    "def zscore(dp, mean, sd):\n",
    "    \"\"\"zscore returns the Z-Score of a single data point.\n",
    "\n",
    "    Args:\n",
    "        dp (float): Data Point.\n",
    "        mean (float): Mean.\n",
    "        sd (float): Standard Deviation.\n",
    "\n",
    "    Returns:\n",
    "        float: Z-Score of dp.\n",
    "    \"\"\"\n",
    "    z = (dp - mean) / sd\n",
    "    return z\n",
    "\n",
    "zscore(71, 76, 3)"
   ]
  },
  {
   "cell_type": "code",
   "execution_count": null,
   "id": "8dd885f6-40ab-476b-b321-0f6e901720a3",
   "metadata": {},
   "outputs": [],
   "source": [
    "# Proportion above a value\n",
    "dp, mu, sd = 0, 25, 50\n",
    "p = stats.norm.cdf(zscore(dp, mu, sd))\n",
    "round(p, 4)"
   ]
  },
  {
   "cell_type": "code",
   "execution_count": null,
   "id": "b9418e20-aeb0-4a20-9424-2508a7c273f4",
   "metadata": {},
   "outputs": [],
   "source": [
    "1/2**3"
   ]
  },
  {
   "cell_type": "code",
   "execution_count": null,
   "id": "6f5e2163-23ca-4edd-84e5-1e0bdc9f4518",
   "metadata": {},
   "outputs": [],
   "source": [
    "0.125 * -100 + 0.875 * 20"
   ]
  },
  {
   "cell_type": "code",
   "execution_count": null,
   "id": "2745528d-66cd-410b-9a85-de455d6709ee",
   "metadata": {},
   "outputs": [],
   "source": [
    "k, n, p = 2, 3, 0.5\n",
    "\n",
    "binom.pmf(k, n, p) "
   ]
  },
  {
   "cell_type": "code",
   "execution_count": null,
   "id": "720c2d90-bcd4-4f40-8bc9-ef3f12c299bb",
   "metadata": {},
   "outputs": [],
   "source": [
    "k, n, p = 3, 3, 0.5\n",
    "\n",
    "binom.pmf(k, n, p)"
   ]
  },
  {
   "cell_type": "code",
   "execution_count": null,
   "id": "dd2938d3-f10c-4971-a19a-73f996d632ad",
   "metadata": {},
   "outputs": [],
   "source": [
    "k, n, p = 0, 4, 0.5\n",
    "\n",
    "binom.pmf(k, n, p) * 0"
   ]
  },
  {
   "cell_type": "code",
   "execution_count": null,
   "id": "dc2c318e-e179-45b1-8db0-599fab968098",
   "metadata": {},
   "outputs": [],
   "source": [
    "k, n, p = 1, 4, 0.5\n",
    "\n",
    "binom.pmf(k, n, p) * 3"
   ]
  },
  {
   "cell_type": "code",
   "execution_count": null,
   "id": "c965b653-7396-4fb9-b17d-45343b949590",
   "metadata": {},
   "outputs": [],
   "source": [
    "k, n, p = 2, 4, 0.5\n",
    "\n",
    "binom.pmf(k, n, p) * 5"
   ]
  },
  {
   "cell_type": "code",
   "execution_count": null,
   "id": "dea76e80-7ccc-4586-a823-71c3b9bed4f2",
   "metadata": {},
   "outputs": [],
   "source": [
    "k, n, p = 3, 4, 0.5\n",
    "\n",
    "binom.pmf(k, n, p) * 7"
   ]
  },
  {
   "cell_type": "code",
   "execution_count": null,
   "id": "218f2915-58da-410a-abbe-492ef3a45a18",
   "metadata": {},
   "outputs": [],
   "source": [
    "k, n, p = 4, 4, 0.5\n",
    "\n",
    "binom.pmf(k, n, p) * 10"
   ]
  },
  {
   "cell_type": "code",
   "execution_count": null,
   "id": "a48c19b9-4d82-4bc3-be13-06149ad07b53",
   "metadata": {},
   "outputs": [],
   "source": [
    "0.75 + 1.875 + 1.75 + 0.625"
   ]
  },
  {
   "cell_type": "code",
   "execution_count": null,
   "id": "d4323f33-bf2d-4713-a396-8058138f543e",
   "metadata": {},
   "outputs": [],
   "source": [
    "import pandas as pd"
   ]
  },
  {
   "cell_type": "code",
   "execution_count": null,
   "id": "bb8283ca-8e42-4d5d-8087-b1b80e536749",
   "metadata": {},
   "outputs": [],
   "source": [
    "ks = np.arange(4)\n",
    "points = np.array([3000, 1800, 1300, 800])\n",
    "df = pd.DataFrame({'Correct answers': ks, 'Points': points})\n",
    "df"
   ]
  },
  {
   "cell_type": "code",
   "execution_count": null,
   "id": "9cf1db8c-0aa9-49f6-95fd-1aea56546be4",
   "metadata": {},
   "outputs": [],
   "source": [
    "n, p = 3, 0.5\n",
    "df['Probability'] = df['Correct answers'].apply(lambda k: binom.pmf(k, n, p))\n",
    "df"
   ]
  },
  {
   "cell_type": "code",
   "execution_count": null,
   "id": "ef7128fe-8cfd-4ee9-b265-7c220522a47d",
   "metadata": {},
   "outputs": [],
   "source": [
    "sum(df['Probability'] * df['Points'])"
   ]
  },
  {
   "cell_type": "code",
   "execution_count": null,
   "id": "638ff479-5683-4eaf-aaa3-0886dada9a3c",
   "metadata": {},
   "outputs": [],
   "source": [
    "0.017 * 600 + 0.020 * 400"
   ]
  },
  {
   "cell_type": "code",
   "execution_count": null,
   "id": "f3856dc3-7ebf-44a1-ae45-5bfc2d34633f",
   "metadata": {},
   "outputs": [],
   "source": [
    "0.022 * 750 + 0.027 * 500"
   ]
  },
  {
   "cell_type": "code",
   "execution_count": null,
   "id": "6157703c-552a-4e54-a97f-05172dfcacab",
   "metadata": {},
   "outputs": [],
   "source": [
    "0.4**5 * 10 + (1 - 0.4**5) * -1"
   ]
  },
  {
   "cell_type": "code",
   "execution_count": null,
   "id": "a4aea0cc-6db3-4864-aae1-7cccaaa2a72b",
   "metadata": {},
   "outputs": [],
   "source": [
    "0.3**3 * 15 + (1 - 0.3**3) * -5"
   ]
  },
  {
   "cell_type": "code",
   "execution_count": null,
   "id": "cbe6546c-238d-430d-b5dd-eafe9dc73181",
   "metadata": {},
   "outputs": [],
   "source": [
    "a = np.array([400, 200, 300])\n",
    "b = np.array([0.2, 0.2, 0.1])"
   ]
  },
  {
   "cell_type": "code",
   "execution_count": null,
   "id": "737f3d52-cd91-4768-94a0-43f4eba36106",
   "metadata": {},
   "outputs": [],
   "source": [
    "import pandas as pd"
   ]
  },
  {
   "cell_type": "code",
   "execution_count": null,
   "id": "214d4742-aec6-4b95-8808-0faf8a320a82",
   "metadata": {},
   "outputs": [],
   "source": [
    "72*50 + 28*10"
   ]
  },
  {
   "cell_type": "code",
   "execution_count": null,
   "id": "8bbaa67c-4d0e-4d80-ab78-750f7fd8a5e1",
   "metadata": {},
   "outputs": [],
   "source": [
    "70*65 + 30*35"
   ]
  },
  {
   "cell_type": "code",
   "execution_count": null,
   "id": "f1a0f9c1-6582-4042-9c8e-7909a71bdc25",
   "metadata": {},
   "outputs": [],
   "source": [
    "0.95**10 * 25 + (1-0.95**10) * -5"
   ]
  },
  {
   "cell_type": "code",
   "execution_count": null,
   "id": "b92bdc71-bcde-4b7a-a132-f74928be5df8",
   "metadata": {},
   "outputs": [],
   "source": [
    "(20*167 + 5*33) / 200"
   ]
  },
  {
   "cell_type": "code",
   "execution_count": null,
   "id": "db467182-a7b3-4a1c-8b00-145be04150e6",
   "metadata": {},
   "outputs": [],
   "source": [
    "p = comb(20, 3) / comb(40, 3)\n",
    "p"
   ]
  },
  {
   "cell_type": "code",
   "execution_count": null,
   "id": "42cffe65-0cb2-4e72-aac3-795de1249fa2",
   "metadata": {},
   "outputs": [],
   "source": [
    "p*300 + (1-p) *-30"
   ]
  },
  {
   "cell_type": "code",
   "execution_count": null,
   "id": "0af0f274-4a46-42d6-bb20-ba15ba562e27",
   "metadata": {},
   "outputs": [],
   "source": [
    "p = 1/2 * 19/39"
   ]
  },
  {
   "cell_type": "code",
   "execution_count": null,
   "id": "c7ad5c3a-4f12-4b3f-b673-5bc951a96a39",
   "metadata": {},
   "outputs": [],
   "source": [
    "p*150 + (1-p)* -20"
   ]
  },
  {
   "cell_type": "code",
   "execution_count": null,
   "id": "c114c444-3abf-4ee8-be40-03065094d945",
   "metadata": {},
   "outputs": [],
   "source": [
    "p=0.5**3\n",
    "p"
   ]
  },
  {
   "cell_type": "code",
   "execution_count": null,
   "id": "f2c9ccee-0948-4cdd-a6e9-14e5d589e224",
   "metadata": {},
   "outputs": [],
   "source": [
    "5000*0.05 + 3000*0.2 + 8000*0.25"
   ]
  },
  {
   "cell_type": "code",
   "execution_count": null,
   "id": "d9acf82a-e0a4-4986-9476-c9134c34a846",
   "metadata": {},
   "outputs": [],
   "source": [
    "p, k = 0.3, 3\n",
    "k**p * 50 + (1-k**p) * -2"
   ]
  },
  {
   "cell_type": "code",
   "execution_count": null,
   "id": "3ccf62b8-b65f-4775-8a53-1ec9293942b5",
   "metadata": {},
   "outputs": [],
   "source": [
    "p, k = 0.8, 4\n",
    "k**p * 70 + (1-k**p) * -2"
   ]
  },
  {
   "cell_type": "code",
   "execution_count": null,
   "id": "77ab4f09-670a-4977-b835-474e8d9b991b",
   "metadata": {},
   "outputs": [],
   "source": [
    "0.3**3"
   ]
  },
  {
   "cell_type": "code",
   "execution_count": null,
   "id": "3ac8393e-3f56-497b-8c4e-954ae54a783d",
   "metadata": {},
   "outputs": [],
   "source": [
    "0.3**3*50 + (1-0.3**3)*-2"
   ]
  },
  {
   "cell_type": "code",
   "execution_count": null,
   "id": "81494ee0-83ca-4080-910f-9ca7fbe235da",
   "metadata": {},
   "outputs": [],
   "source": []
  },
  {
   "cell_type": "code",
   "execution_count": null,
   "id": "230bd8b0-91ce-4f10-8c21-86db74df5243",
   "metadata": {},
   "outputs": [],
   "source": [
    "0.8**4*70 + (1-0.8**4)*-2"
   ]
  },
  {
   "cell_type": "code",
   "execution_count": null,
   "id": "39ea5102-b67f-46ea-a0f5-7c716d23fb35",
   "metadata": {},
   "outputs": [],
   "source": [
    "0.3**3"
   ]
  },
  {
   "cell_type": "code",
   "execution_count": null,
   "id": "a5347716-8152-45e9-970c-ff39c6ce2746",
   "metadata": {},
   "outputs": [],
   "source": [
    "2000 * 0.1 + 4000 * 0.15"
   ]
  },
  {
   "cell_type": "code",
   "execution_count": null,
   "id": "c330c7c7-51f8-4542-bf29-2cc53b2b54d6",
   "metadata": {},
   "outputs": [],
   "source": [
    "df = pd.DataFrame({\n",
    "    \"Type of virus\": [\"Pikachu\", \"Trojan\", \"ADA\"], \n",
    "    \"Cost of repair $\": [200, 100, 400],\n",
    "    \"Probability\": [0.25, 0.15, 0.1]})\n",
    "\n",
    "df"
   ]
  },
  {
   "cell_type": "code",
   "execution_count": null,
   "id": "a47d0c83-c431-45e6-8f6b-a018e3383546",
   "metadata": {},
   "outputs": [],
   "source": [
    "400 * 0.1 + 100"
   ]
  },
  {
   "cell_type": "code",
   "execution_count": null,
   "id": "63911c06-90ba-48d9-afa1-ce73a72d5ebe",
   "metadata": {},
   "outputs": [],
   "source": [
    "np.sum(df[\"Cost of repair $\"] * df.Probability)"
   ]
  },
  {
   "cell_type": "code",
   "execution_count": null,
   "id": "6158de58-0ad7-4aa4-9857-f84cc0f14722",
   "metadata": {},
   "outputs": [],
   "source": [
    "48 + 73"
   ]
  },
  {
   "cell_type": "code",
   "execution_count": null,
   "id": "2827ef54-e047-481d-8b3f-23981186e5ca",
   "metadata": {},
   "outputs": [],
   "source": [
    "146*5"
   ]
  },
  {
   "cell_type": "code",
   "execution_count": null,
   "id": "19b9b1d3-45f0-49d2-8940-db65a94e2ffe",
   "metadata": {},
   "outputs": [],
   "source": [
    "121*5"
   ]
  },
  {
   "cell_type": "code",
   "execution_count": null,
   "id": "19a40f12-22d6-414e-a035-49990e6de1b6",
   "metadata": {},
   "outputs": [],
   "source": [
    "k, n, p = 2, 4, 0.5\n",
    "p = binom.cdf(k, n, p)"
   ]
  },
  {
   "cell_type": "code",
   "execution_count": null,
   "id": "83553430-fd7f-4f3a-8adb-195dcb4f884e",
   "metadata": {},
   "outputs": [],
   "source": [
    "p*1 + (1-p)*-3"
   ]
  },
  {
   "cell_type": "code",
   "execution_count": null,
   "id": "c4e76f7f-6e9a-408e-ae89-99db02389993",
   "metadata": {},
   "outputs": [],
   "source": [
    "k, n, p = 5, 5, 0.5\n",
    "p = binom.pmf(k, n, p)"
   ]
  },
  {
   "cell_type": "code",
   "execution_count": null,
   "id": "7f8e597e-c368-4630-a1a5-b1b632d676d8",
   "metadata": {},
   "outputs": [],
   "source": [
    "p*100 + (1-p)*-4"
   ]
  },
  {
   "cell_type": "code",
   "execution_count": null,
   "id": "9b190f45-f249-4bba-912e-137740c8658a",
   "metadata": {},
   "outputs": [],
   "source": [
    "from utils.norm import norm_prop"
   ]
  },
  {
   "cell_type": "code",
   "execution_count": null,
   "id": "115df540-482b-4843-88b1-d54db2d0758b",
   "metadata": {},
   "outputs": [],
   "source": [
    "# Proportion above a value\n",
    "dp, mu, sd = 30, 26, 2\n",
    "p = norm_prop(dp, mu, sd, 'below')\n",
    "p"
   ]
  },
  {
   "cell_type": "code",
   "execution_count": null,
   "id": "55a7e260-f431-4b31-910e-d91abbe0a172",
   "metadata": {},
   "outputs": [],
   "source": [
    "from scipy.stats import norm"
   ]
  },
  {
   "cell_type": "code",
   "execution_count": null,
   "id": "6b0e9071-721c-4b6a-85c2-032eecec9462",
   "metadata": {},
   "outputs": [],
   "source": [
    "norm.cdf(30, 26, 2)"
   ]
  },
  {
   "cell_type": "code",
   "execution_count": null,
   "id": "b9ea5473-ac6a-4941-8a62-785f8b35a850",
   "metadata": {},
   "outputs": [],
   "source": [
    "from utils.src.stats import zscore\n",
    "type(zscore)"
   ]
  },
  {
   "cell_type": "code",
   "execution_count": null,
   "id": "18790795-36b7-4063-9e66-fc4e53a798a6",
   "metadata": {},
   "outputs": [],
   "source": [
    "zscore(1, 0, 1)"
   ]
  },
  {
   "cell_type": "code",
   "execution_count": null,
   "id": "89254e63-0f4c-480f-aaab-60c2a5fee3e0",
   "metadata": {},
   "outputs": [],
   "source": [
    "from utils.src.stats import norm_prop\n",
    "type(norm_prop)"
   ]
  },
  {
   "cell_type": "code",
   "execution_count": null,
   "id": "425ba4d2-6905-4031-871d-613c106ebcd9",
   "metadata": {},
   "outputs": [],
   "source": [
    "import utils.src.norm.norm_prop as norm_prop\n",
    "type(norm_prop)"
   ]
  },
  {
   "cell_type": "code",
   "execution_count": null,
   "id": "220ff92e-588d-40c6-a4fe-f86ffe3f9aa6",
   "metadata": {},
   "outputs": [],
   "source": [
    "import numpy as np\n",
    "from utils.src.stats import zscore, norm_prop, norm_rv\n",
    "from scipy.stats import binom, norm, geom\n",
    "from scipy.special import comb"
   ]
  },
  {
   "cell_type": "code",
   "execution_count": null,
   "id": "2a5f7796-f2e3-407c-a399-75e4ecd448b0",
   "metadata": {},
   "outputs": [],
   "source": [
    "# Proportion above a value\n",
    "dp, mu, sd = 1, 1, 0.05\n",
    "precision = 2\n",
    "p = norm_prop(dp, mu, sd, 'below')\n",
    "p = round(p, precision)\n",
    "p"
   ]
  },
  {
   "cell_type": "code",
   "execution_count": null,
   "id": "0a1c28af-cc4e-49de-9735-3ecf282f1ab9",
   "metadata": {},
   "outputs": [],
   "source": [
    "k, n, p = 3, 5, 0.6\n",
    "binom.pmf(k, n, p)"
   ]
  },
  {
   "cell_type": "code",
   "execution_count": null,
   "id": "2ad3d97a-1a16-4dc7-bddf-3f1e729bbf16",
   "metadata": {},
   "outputs": [],
   "source": [
    "comb(5, 3) * 0.6**3 * 0.4**2"
   ]
  },
  {
   "cell_type": "code",
   "execution_count": null,
   "id": "40deee4d-b075-4b31-93ee-0007f38c113f",
   "metadata": {},
   "outputs": [],
   "source": [
    "n, p = 15, 0.3\n",
    "binom.mean(n, p)"
   ]
  },
  {
   "cell_type": "code",
   "execution_count": null,
   "id": "229f8fdf-8dd6-4ec5-8e4a-7706a6e31478",
   "metadata": {},
   "outputs": [],
   "source": [
    "binom.std(n, p)"
   ]
  },
  {
   "cell_type": "code",
   "execution_count": null,
   "id": "a73ee975-e21a-4e87-85ce-bd206657a70c",
   "metadata": {},
   "outputs": [],
   "source": [
    "arr = np.array([58, 213, 522])"
   ]
  },
  {
   "cell_type": "code",
   "execution_count": null,
   "id": "65636c6c-09fd-4302-bb1a-41b274c4269a",
   "metadata": {},
   "outputs": [],
   "source": [
    "arr / arr.sum()"
   ]
  },
  {
   "cell_type": "code",
   "execution_count": null,
   "id": "5a038ac6-3ca8-486e-9e1c-ff05f0f12e1c",
   "metadata": {},
   "outputs": [],
   "source": [
    "4*33 + 2*8"
   ]
  },
  {
   "cell_type": "code",
   "execution_count": null,
   "id": "3e486695-0d13-4303-9842-1d0dbec94f5c",
   "metadata": {},
   "outputs": [],
   "source": [
    "0.16+0.128+0.512"
   ]
  },
  {
   "cell_type": "code",
   "execution_count": null,
   "id": "c1627e38-8f15-4b40-a68e-384714171741",
   "metadata": {},
   "outputs": [],
   "source": [
    "k, n, p = 1, 3, 0.9\n",
    "binom.pmf(k, n, p)"
   ]
  },
  {
   "cell_type": "code",
   "execution_count": null,
   "id": "bd0b1793-ec30-47ed-8da9-92821e8e009d",
   "metadata": {},
   "outputs": [],
   "source": [
    "n, p = 3, 0.06\n",
    "precision = 2\n",
    "cdf = geom.cdf(n, p)\n",
    "cdf = round(cdf, precision)\n",
    "cdf"
   ]
  },
  {
   "cell_type": "code",
   "execution_count": null,
   "id": "361162db-59f3-4578-8fdf-a559ba8f12b5",
   "metadata": {},
   "outputs": [],
   "source": [
    "n, p = 6, 0.06\n",
    "precision = 2\n",
    "pmf = geom.pmf(n, p)\n",
    "pmf = round(pmf, precision)\n",
    "pmf"
   ]
  },
  {
   "cell_type": "code",
   "execution_count": null,
   "id": "6387a1bb-f438-457b-9f3f-64a65312df76",
   "metadata": {},
   "outputs": [],
   "source": [
    "dp = 736\n",
    "mus = [175]*4\n",
    "sds = [15]*4\n",
    "method = 'T'\n",
    "area = 'above'\n",
    "p = round(1 - norm_rv(dp, mus, sds, method, area), 2)\n",
    "\n",
    "p"
   ]
  },
  {
   "cell_type": "code",
   "execution_count": null,
   "id": "ccdd0cf6-8a08-407a-92d7-691a0d0c0950",
   "metadata": {},
   "outputs": [],
   "source": [
    "norm_rv?"
   ]
  },
  {
   "cell_type": "code",
   "execution_count": null,
   "id": "6efd6722-0a46-42c2-971c-77c703e50da9",
   "metadata": {},
   "outputs": [],
   "source": [
    "dp, mu, sd = 736, 175*4, 15*4\n",
    "1 - norm.cdf(dp, mu, sd)"
   ]
  },
  {
   "cell_type": "code",
   "execution_count": null,
   "id": "3f9c5575-e3da-4d2f-9155-03aa11efe20e",
   "metadata": {},
   "outputs": [],
   "source": [
    "norm_prop(dp, mu, sd, \"above\")"
   ]
  },
  {
   "cell_type": "code",
   "execution_count": null,
   "id": "760cd1fe-8df7-4b2b-af70-2abec4c522b7",
   "metadata": {},
   "outputs": [],
   "source": [
    "dp = 736\n",
    "mus = [175]*4\n",
    "sds = [15]*4\n",
    "method = 'T'\n",
    "area = 'above'\n",
    "p = round(norm_rv(dp, mus, sds, method, area), 2)\n",
    "\n",
    "p"
   ]
  },
  {
   "cell_type": "code",
   "execution_count": null,
   "id": "f0816bb9-1a74-4a04-8b22-95517153286b",
   "metadata": {},
   "outputs": [],
   "source": [
    "dp = 290\n",
    "mus = [65]*4\n",
    "sds = [12]*4\n",
    "method = 'T'\n",
    "area = 'above'\n",
    "p = round(norm_rv(dp, mus, sds, method, area), 2)\n",
    "\n",
    "p"
   ]
  },
  {
   "cell_type": "code",
   "execution_count": null,
   "id": "5d1fbc54-8b37-473e-ae34-9f7490344b18",
   "metadata": {},
   "outputs": [],
   "source": [
    "30000 * 19 + 40000 * 2 + 50000 * 6 + 60000 * 17 + 70000 * 6"
   ]
  },
  {
   "cell_type": "code",
   "execution_count": null,
   "id": "5587ca97-9ac3-4419-bb92-20aa15895f82",
   "metadata": {},
   "outputs": [],
   "source": [
    "2390000 / 50"
   ]
  },
  {
   "cell_type": "code",
   "execution_count": null,
   "id": "c39774be-aa49-42cb-834a-6c71611b514e",
   "metadata": {},
   "outputs": [],
   "source": [
    "47800.0 * 70"
   ]
  },
  {
   "cell_type": "code",
   "execution_count": null,
   "id": "aaa70d4c-2e70-4364-8eb0-1f27474e1ab6",
   "metadata": {},
   "outputs": [],
   "source": []
  },
  {
   "cell_type": "code",
   "execution_count": null,
   "id": "0c659473-cb9b-4057-a643-0d1353eca39f",
   "metadata": {},
   "outputs": [],
   "source": [
    "50*0.99"
   ]
  },
  {
   "cell_type": "code",
   "execution_count": null,
   "id": "0adfe1fb-1704-4a4f-92e8-4eaacd7574d4",
   "metadata": {},
   "outputs": [],
   "source": [
    "3/21"
   ]
  },
  {
   "cell_type": "code",
   "execution_count": null,
   "id": "40881fa0-11d8-42e9-ac63-39269b6f96ae",
   "metadata": {},
   "outputs": [],
   "source": [
    "0.12 + 3*0.42+7*0.52"
   ]
  },
  {
   "cell_type": "code",
   "execution_count": null,
   "id": "140b907c-86e3-4e34-913d-0f98d43a3ac3",
   "metadata": {},
   "outputs": [],
   "source": [
    "0.98 * -600 + 0.02 * (50000-600)"
   ]
  },
  {
   "cell_type": "code",
   "execution_count": null,
   "id": "15ea2b6a-8907-4b06-a7fc-a732728a2518",
   "metadata": {},
   "outputs": [],
   "source": [
    "0.09 + 0.03*2 +0.52*3 + 0.24*4 + 0.12 *5"
   ]
  },
  {
   "cell_type": "code",
   "execution_count": null,
   "id": "ce374eea-df14-4746-9329-092fe523ef0d",
   "metadata": {},
   "outputs": [],
   "source": [
    "-10 * 0.995 + (500 - 10) * 0.005"
   ]
  },
  {
   "cell_type": "code",
   "execution_count": null,
   "id": "68d2d698-b692-4a28-bd67-5c8f951d0bb1",
   "metadata": {},
   "outputs": [],
   "source": [
    "def rv_mean(X, P):\n",
    "    \"\"\"rv_mean calculates the expected value (also known as mean) of the random variable X.\n",
    "\n",
    "    Args:\n",
    "        X (array like): Random Variable X.\n",
    "        P (array like): The probability distribution of random variable X.\n",
    "\n",
    "    Returns:\n",
    "        float: The expected value (also known as mean) the random variable X.\n",
    "    \"\"\"\n",
    "    mu = np.average(a=X, weights=P)\n",
    "\n",
    "    return mu"
   ]
  },
  {
   "cell_type": "code",
   "execution_count": null,
   "id": "618fc4e1-5135-4a72-81fb-f44e462f3e24",
   "metadata": {},
   "outputs": [],
   "source": [
    "def rv_std(X, P):\n",
    "    \"\"\"rv_std calculates the standard deviation of the random variable X.\n",
    "\n",
    "    Args:\n",
    "        X (array like): Random Variable X.\n",
    "        P (array like): The probability distribution of random variable X.\n",
    "\n",
    "    Returns:\n",
    "        float: The standard deviation of the random variable X.\n",
    "    \"\"\"\n",
    "    mu = rv_mean(X, P)\n",
    "    sd = np.sum((X - mu)**2 * P)**0.5\n",
    "\n",
    "    return sd"
   ]
  },
  {
   "cell_type": "code",
   "execution_count": null,
   "id": "c10c6740-dffd-4c9c-80b1-662ed44a7a45",
   "metadata": {},
   "outputs": [],
   "source": [
    "X = np.array([60, -9940])\n",
    "P = np.array([.999, .001])"
   ]
  },
  {
   "cell_type": "code",
   "execution_count": null,
   "id": "4198ebaf-5e0c-487e-8996-7711af4845f2",
   "metadata": {},
   "outputs": [],
   "source": [
    "rv_std(X, P)"
   ]
  },
  {
   "cell_type": "code",
   "execution_count": null,
   "id": "e611cd20-994f-4287-b23c-9cb296d40aa5",
   "metadata": {},
   "outputs": [],
   "source": [
    "k = np.array([3, 4])\n",
    "n = np.array([10, 10])\n",
    "comb(n, k, exact=False)"
   ]
  },
  {
   "cell_type": "code",
   "execution_count": null,
   "id": "d45dfd35-6fce-4381-97f2-082794720fdc",
   "metadata": {},
   "outputs": [],
   "source": [
    "#k = np.array([3, 4])\n",
    "#n = np.array([10, 10])\n",
    "k = np.array([1, 1])\n",
    "n = np.array([10, 10])\n",
    "comb(n, k, exact=False)"
   ]
  },
  {
   "cell_type": "code",
   "execution_count": null,
   "id": "f96f74ad-6833-4524-9376-38e156d73ece",
   "metadata": {},
   "outputs": [],
   "source": [
    "n = [[1, 2, 3, 4, 5], [6, 7, 8, 9, 10]]\n",
    "k = 1\n",
    "comb(n, k)"
   ]
  },
  {
   "cell_type": "code",
   "execution_count": null,
   "id": "6ab4121c-3c4b-4f24-8b5f-ca8ff943ff9f",
   "metadata": {},
   "outputs": [],
   "source": [
    "comb(5, 2)"
   ]
  },
  {
   "cell_type": "code",
   "execution_count": null,
   "id": "bb04473e-4a6f-4516-9b29-feefd931951b",
   "metadata": {},
   "outputs": [],
   "source": []
  },
  {
   "cell_type": "code",
   "execution_count": null,
   "id": "aa2645bc-e3b1-42a7-ae9e-b9e11f9da41a",
   "metadata": {},
   "outputs": [],
   "source": [
    "import itertools\n",
    "from itertools import product"
   ]
  },
  {
   "cell_type": "code",
   "execution_count": null,
   "id": "94455850-78db-4426-92ca-1734427dbba6",
   "metadata": {},
   "outputs": [],
   "source": [
    "red = np.arange(1, 7)\n",
    "green = np.arange(1, 7)"
   ]
  },
  {
   "cell_type": "code",
   "execution_count": null,
   "id": "22a1a262-5e4c-4d16-a320-77baea2ea1d4",
   "metadata": {},
   "outputs": [],
   "source": [
    "combs = np.array(list(product(red, green)))\n",
    "combs"
   ]
  },
  {
   "cell_type": "code",
   "execution_count": null,
   "id": "6261b91c-e1be-410a-be48-84707974c663",
   "metadata": {},
   "outputs": [],
   "source": [
    "len(combs)"
   ]
  },
  {
   "cell_type": "code",
   "execution_count": null,
   "id": "829c228d-fdd6-48c9-9a54-2a3a6403b414",
   "metadata": {},
   "outputs": [],
   "source": [
    "p_more_than_12 = np.sum(np.sum(combs, axis=1) > 7) / len(combs)\n",
    "p_equal_to_12 = np.sum(np.sum(combs, axis=1) == 7) / len(combs)\n",
    "p_less_than_12 = np.sum(np.sum(combs, axis=1) < 7) / len(combs)\n",
    "print(p_more_than_12)\n",
    "print(p_equal_to_12)\n",
    "print(p_less_than_12)"
   ]
  },
  {
   "cell_type": "code",
   "execution_count": null,
   "id": "8ac7b886-5d26-4a74-b860-b0397fa9742d",
   "metadata": {},
   "outputs": [],
   "source": [
    "E = p_more_than_12 * 5 + p_equal_to_12 * 0 + p_less_than_12 * -4\n",
    "E = round(E, 2)\n",
    "E"
   ]
  },
  {
   "cell_type": "code",
   "execution_count": null,
   "id": "84fa37db-ea4e-4327-b764-ec41582168c5",
   "metadata": {},
   "outputs": [],
   "source": [
    "9/30 * 84"
   ]
  },
  {
   "cell_type": "code",
   "execution_count": null,
   "id": "0fcb356d-d3ee-4eef-b5e7-a5d95ef876ab",
   "metadata": {},
   "outputs": [],
   "source": [
    "10/45*414"
   ]
  },
  {
   "cell_type": "code",
   "execution_count": null,
   "id": "b4addc88-6b4f-44d6-a800-f8900dd12cf7",
   "metadata": {},
   "outputs": [],
   "source": [
    "21/45*516"
   ]
  },
  {
   "cell_type": "markdown",
   "id": "45fa4e63-f586-4aeb-a75a-bd3166ca5698",
   "metadata": {},
   "source": [
    "safdasfdsaf $4 = 2^2$\n",
    "\n",
    "$$2 = \\frac{4}{2}$$\n",
    "\n",
    "$\\sum^i_n{X}$"
   ]
  },
  {
   "cell_type": "code",
   "execution_count": 106,
   "id": "f666a1be-431d-4c56-9a69-b6ed2ed91f67",
   "metadata": {},
   "outputs": [],
   "source": [
    "import requests\n",
    "import json\n",
    "import numpy as np\n",
    "\n",
    "from datetime import date, datetime, timezone\n",
    "from itertools import accumulate\n",
    "from inspect import cleandoc\n",
    "\n",
    "class Weather:\n",
    "    \"\"\" Returns the weather forecasting in the next few days.\n",
    "    \"\"\"\n",
    "    def __init__(self, location):\n",
    "        \"\"\"__init__ pass location for weather forecasting.\n",
    "\n",
    "        Args:\n",
    "            location (string): your city.\n",
    "\n",
    "        Example:\n",
    "            weather = Weather('boston')\n",
    "            weather.response # review the response in JSON format\n",
    "            weather.data # review all weather data in JSON format\n",
    "        \"\"\"\n",
    "        self.location = location\n",
    "        self.response = self._api()\n",
    "        self.data = self.response['list']\n",
    "\n",
    "    def _api(self):\n",
    "        # enter your API key here \n",
    "        api_key = \"af239eac3d426ff8aa48238038f3e701\"\n",
    "\n",
    "        # base_url\n",
    "        base_url = \"http://api.openweathermap.org/data/2.5/forecast\"\n",
    "\n",
    "        # complete_url\n",
    "        complete_url = base_url + \"?q=\" + self.location + \"&appid=\" + api_key\n",
    "\n",
    "        # call weather api of https://openweathermap.org/api\n",
    "        response = requests.get(complete_url)\n",
    "\n",
    "        # convert reponse to JSON format\n",
    "        return response.json()\n",
    "\n",
    "    def dates(self):\n",
    "        \"\"\"dates returns the counterpart indexes in self.weather_data['list'] of each date.\n",
    "\n",
    "        Returns:\n",
    "            dict: {date: [start_index, end_index]}\n",
    "\n",
    "        Example:\n",
    "            weather.days()\n",
    "        \"\"\"\n",
    "        # count the number of timestmaps for each date\n",
    "        dates = {}\n",
    "\n",
    "        for i in self.data:\n",
    "            # get date from each piece of data\n",
    "            date = datetime.fromtimestamp(i['dt'], tz=timezone.utc).date().isoformat()\n",
    "            # dates[date] = dates.get(date, []) + [i['dt']] # add timestamp to date\n",
    "            dates[date] = dates.get(date, 0) + 1 # count number of timestamps of date\n",
    "        \n",
    "        # extract the start index and end index of each date\n",
    "        ends = list(accumulate(dates.values()))\n",
    "        starts = list(accumulate(dates.values()))\n",
    "        starts.pop() # remove the last item\n",
    "        starts = [0] + starts\n",
    "        t_range = list(zip(starts, ends))\n",
    "        \n",
    "        # rewrite days to store the counterpart indexes in self.weather_data['list'] of each date\n",
    "        i = 0\n",
    "        for date in dates:\n",
    "            dates[date] = t_range[i]\n",
    "            i += 1\n",
    "\n",
    "        return dates\n",
    "        \n",
    "    def temperature(self, date):\n",
    "        temperatures = []\n",
    "        start, end = self.dates()[date]\n",
    "\n",
    "        for i in self.data[start:end]:\n",
    "            # - kelvin unit (273.15)\n",
    "            temp_min = i['main']['temp_min']\n",
    "            temp_max = i['main']['temp_max']\n",
    "            temperatures.append(round(temp_min - 273.15))\n",
    "            temperatures.append(round(temp_max - 273.15))\n",
    "            \n",
    "        return min(temperatures), max(temperatures)\n",
    "    \n",
    "    def humidity(self, date):\n",
    "        humidities = []\n",
    "        start, end = self.dates()[date]\n",
    "        \n",
    "        for i in self.data[start:end]:\n",
    "            humidities.append(i['main']['humidity'])\n",
    "        \n",
    "        return min(humidities), max(humidities)\n",
    "\n",
    "    def today(self):\n",
    "        today = date.today().isoformat()\n",
    "        temp_min, temp_max = self.temperature(today)\n",
    "        humi_min, humi_max = self.humidity(today)\n",
    "        \n",
    "        report = f\"\"\"\n",
    "        Today's weather:\n",
    "        - Temperature is from {temp_min}°C to {temp_max}°C\n",
    "        - Humidity is from {humi_min}% to {humi_max}%\n",
    "        \"\"\"\n",
    "\n",
    "        print(cleandoc(report)) # Clean up indentation from docstrings that are indented to line up with blocks of code."
   ]
  },
  {
   "cell_type": "code",
   "execution_count": 107,
   "id": "fbd733fc-7062-410e-bed4-b83246e8d056",
   "metadata": {},
   "outputs": [
    {
     "name": "stdout",
     "output_type": "stream",
     "text": [
      "Today's weather:\n",
      "- Temperature is from 9°C to 14°C\n",
      "- Humidity is from 24% to 29%\n"
     ]
    }
   ],
   "source": [
    "weather = Weather('Beijing')\n",
    "weather.today()"
   ]
  },
  {
   "cell_type": "code",
   "execution_count": 109,
   "id": "483a6466-c53b-48c3-90c6-04d297202c11",
   "metadata": {},
   "outputs": [
    {
     "data": {
      "text/plain": [
       "{'2022-04-05': (0, 3),\n",
       " '2022-04-06': (3, 11),\n",
       " '2022-04-07': (11, 19),\n",
       " '2022-04-08': (19, 27),\n",
       " '2022-04-09': (27, 35),\n",
       " '2022-04-10': (35, 40)}"
      ]
     },
     "execution_count": 109,
     "metadata": {},
     "output_type": "execute_result"
    }
   ],
   "source": [
    "weather.dates()"
   ]
  },
  {
   "cell_type": "code",
   "execution_count": 105,
   "id": "a4d3bb7b-1f61-4ed1-9a90-6a060ba5f7fc",
   "metadata": {},
   "outputs": [
    {
     "data": {
      "text/plain": [
       "[{'dt': 1649170800,\n",
       "  'main': {'temp': 286.98,\n",
       "   'feels_like': 285.18,\n",
       "   'temp_min': 286.73,\n",
       "   'temp_max': 286.98,\n",
       "   'pressure': 1025,\n",
       "   'sea_level': 1025,\n",
       "   'grnd_level': 1019,\n",
       "   'humidity': 29,\n",
       "   'temp_kf': 0.25},\n",
       "  'weather': [{'id': 803,\n",
       "    'main': 'Clouds',\n",
       "    'description': 'broken clouds',\n",
       "    'icon': '04n'}],\n",
       "  'clouds': {'all': 53},\n",
       "  'wind': {'speed': 2.73, 'deg': 149, 'gust': 5.28},\n",
       "  'visibility': 10000,\n",
       "  'pop': 0,\n",
       "  'sys': {'pod': 'n'},\n",
       "  'dt_txt': '2022-04-05 15:00:00'},\n",
       " {'dt': 1649181600,\n",
       "  'main': {'temp': 286.15,\n",
       "   'feels_like': 284.24,\n",
       "   'temp_min': 284.5,\n",
       "   'temp_max': 286.15,\n",
       "   'pressure': 1025,\n",
       "   'sea_level': 1025,\n",
       "   'grnd_level': 1020,\n",
       "   'humidity': 28,\n",
       "   'temp_kf': 1.65},\n",
       "  'weather': [{'id': 802,\n",
       "    'main': 'Clouds',\n",
       "    'description': 'scattered clouds',\n",
       "    'icon': '03n'}],\n",
       "  'clouds': {'all': 46},\n",
       "  'wind': {'speed': 2.83, 'deg': 176, 'gust': 5.16},\n",
       "  'visibility': 10000,\n",
       "  'pop': 0,\n",
       "  'sys': {'pod': 'n'},\n",
       "  'dt_txt': '2022-04-05 18:00:00'},\n",
       " {'dt': 1649192400,\n",
       "  'main': {'temp': 284.07,\n",
       "   'feels_like': 281.84,\n",
       "   'temp_min': 282.61,\n",
       "   'temp_max': 284.07,\n",
       "   'pressure': 1026,\n",
       "   'sea_level': 1026,\n",
       "   'grnd_level': 1021,\n",
       "   'humidity': 24,\n",
       "   'temp_kf': 1.46},\n",
       "  'weather': [{'id': 802,\n",
       "    'main': 'Clouds',\n",
       "    'description': 'scattered clouds',\n",
       "    'icon': '03n'}],\n",
       "  'clouds': {'all': 36},\n",
       "  'wind': {'speed': 2.61, 'deg': 156, 'gust': 4.01},\n",
       "  'visibility': 10000,\n",
       "  'pop': 0,\n",
       "  'sys': {'pod': 'n'},\n",
       "  'dt_txt': '2022-04-05 21:00:00'}]"
      ]
     },
     "execution_count": 105,
     "metadata": {},
     "output_type": "execute_result"
    }
   ],
   "source": [
    "weather.data[0:3]"
   ]
  },
  {
   "cell_type": "code",
   "execution_count": 103,
   "id": "c4fa5435-c0c3-47d6-9291-e97969f9b98d",
   "metadata": {},
   "outputs": [
    {
     "data": {
      "text/plain": [
       "[{'dt': 1649170800,\n",
       "  'main': {'temp': 287.64,\n",
       "   'feels_like': 285.85,\n",
       "   'temp_min': 286.73,\n",
       "   'temp_max': 287.64,\n",
       "   'pressure': 1022,\n",
       "   'sea_level': 1022,\n",
       "   'grnd_level': 1019,\n",
       "   'humidity': 27,\n",
       "   'temp_kf': 0.91},\n",
       "  'weather': [{'id': 802,\n",
       "    'main': 'Clouds',\n",
       "    'description': 'scattered clouds',\n",
       "    'icon': '03n'}],\n",
       "  'clouds': {'all': 35},\n",
       "  'wind': {'speed': 2.73, 'deg': 149, 'gust': 5.28},\n",
       "  'visibility': 10000,\n",
       "  'pop': 0,\n",
       "  'sys': {'pod': 'n'},\n",
       "  'dt_txt': '2022-04-05 15:00:00'},\n",
       " {'dt': 1649181600,\n",
       "  'main': {'temp': 285.7,\n",
       "   'feels_like': 283.72,\n",
       "   'temp_min': 284.5,\n",
       "   'temp_max': 285.7,\n",
       "   'pressure': 1024,\n",
       "   'sea_level': 1024,\n",
       "   'grnd_level': 1020,\n",
       "   'humidity': 27,\n",
       "   'temp_kf': 1.2},\n",
       "  'weather': [{'id': 802,\n",
       "    'main': 'Clouds',\n",
       "    'description': 'scattered clouds',\n",
       "    'icon': '03n'}],\n",
       "  'clouds': {'all': 31},\n",
       "  'wind': {'speed': 2.83, 'deg': 176, 'gust': 5.16},\n",
       "  'visibility': 10000,\n",
       "  'pop': 0,\n",
       "  'sys': {'pod': 'n'},\n",
       "  'dt_txt': '2022-04-05 18:00:00'},\n",
       " {'dt': 1649192400,\n",
       "  'main': {'temp': 282.61,\n",
       "   'feels_like': 281.26,\n",
       "   'temp_min': 282.61,\n",
       "   'temp_max': 282.61,\n",
       "   'pressure': 1027,\n",
       "   'sea_level': 1027,\n",
       "   'grnd_level': 1021,\n",
       "   'humidity': 22,\n",
       "   'temp_kf': 0},\n",
       "  'weather': [{'id': 802,\n",
       "    'main': 'Clouds',\n",
       "    'description': 'scattered clouds',\n",
       "    'icon': '03n'}],\n",
       "  'clouds': {'all': 27},\n",
       "  'wind': {'speed': 2.61, 'deg': 156, 'gust': 4.01},\n",
       "  'visibility': 10000,\n",
       "  'pop': 0,\n",
       "  'sys': {'pod': 'n'},\n",
       "  'dt_txt': '2022-04-05 21:00:00'},\n",
       " {'dt': 1649203200,\n",
       "  'main': {'temp': 282.46,\n",
       "   'feels_like': 280.56,\n",
       "   'temp_min': 282.46,\n",
       "   'temp_max': 282.46,\n",
       "   'pressure': 1029,\n",
       "   'sea_level': 1029,\n",
       "   'grnd_level': 1023,\n",
       "   'humidity': 17,\n",
       "   'temp_kf': 0},\n",
       "  'weather': [{'id': 802,\n",
       "    'main': 'Clouds',\n",
       "    'description': 'scattered clouds',\n",
       "    'icon': '03d'}],\n",
       "  'clouds': {'all': 50},\n",
       "  'wind': {'speed': 3.48, 'deg': 154, 'gust': 4.64},\n",
       "  'visibility': 10000,\n",
       "  'pop': 0,\n",
       "  'sys': {'pod': 'd'},\n",
       "  'dt_txt': '2022-04-06 00:00:00'},\n",
       " {'dt': 1649214000,\n",
       "  'main': {'temp': 285.11,\n",
       "   'feels_like': 282.73,\n",
       "   'temp_min': 285.11,\n",
       "   'temp_max': 285.11,\n",
       "   'pressure': 1027,\n",
       "   'sea_level': 1027,\n",
       "   'grnd_level': 1021,\n",
       "   'humidity': 14,\n",
       "   'temp_kf': 0},\n",
       "  'weather': [{'id': 804,\n",
       "    'main': 'Clouds',\n",
       "    'description': 'overcast clouds',\n",
       "    'icon': '04d'}],\n",
       "  'clouds': {'all': 100},\n",
       "  'wind': {'speed': 4.02, 'deg': 168, 'gust': 5.3},\n",
       "  'visibility': 10000,\n",
       "  'pop': 0,\n",
       "  'sys': {'pod': 'd'},\n",
       "  'dt_txt': '2022-04-06 03:00:00'}]"
      ]
     },
     "execution_count": 103,
     "metadata": {},
     "output_type": "execute_result"
    }
   ],
   "source": [
    "weather.data[0:5]"
   ]
  },
  {
   "cell_type": "code",
   "execution_count": 111,
   "id": "d32ed95e-88d1-45bd-88c9-02a6e192e566",
   "metadata": {},
   "outputs": [
    {
     "data": {
      "text/plain": [
       "286.73"
      ]
     },
     "execution_count": 111,
     "metadata": {},
     "output_type": "execute_result"
    }
   ],
   "source": [
    "weather.data[0]['main']['temp_min']"
   ]
  },
  {
   "cell_type": "code",
   "execution_count": 112,
   "id": "22f110b0-c11f-4e96-a0fb-436ffaeab422",
   "metadata": {},
   "outputs": [
    {
     "data": {
      "text/plain": [
       "286.98"
      ]
     },
     "execution_count": 112,
     "metadata": {},
     "output_type": "execute_result"
    }
   ],
   "source": [
    "weather.data[0]['main']['temp_max']"
   ]
  },
  {
   "cell_type": "code",
   "execution_count": null,
   "id": "f212a896-4e61-41f2-bdfa-6f8c077beb2f",
   "metadata": {},
   "outputs": [],
   "source": []
  }
 ],
 "metadata": {
  "kernelspec": {
   "display_name": "statistics-and-probability",
   "language": "python",
   "name": "statistics-and-probability"
  },
  "language_info": {
   "codemirror_mode": {
    "name": "ipython",
    "version": 3
   },
   "file_extension": ".py",
   "mimetype": "text/x-python",
   "name": "python",
   "nbconvert_exporter": "python",
   "pygments_lexer": "ipython3",
   "version": "3.9.10"
  }
 },
 "nbformat": 4,
 "nbformat_minor": 5
}
