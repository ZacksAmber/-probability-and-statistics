{
 "cells": [
  {
   "cell_type": "code",
   "execution_count": 1,
   "id": "74229dce-251a-4735-941d-7cea7e298ce0",
   "metadata": {},
   "outputs": [],
   "source": [
    "import numpy as np\n",
    "from scipy import stats"
   ]
  },
  {
   "cell_type": "code",
   "execution_count": 3,
   "id": "c49b448c-5db4-492b-bb83-ae9edef09361",
   "metadata": {},
   "outputs": [
    {
     "data": {
      "text/plain": [
       "-1.6666666666666667"
      ]
     },
     "execution_count": 3,
     "metadata": {},
     "output_type": "execute_result"
    }
   ],
   "source": [
    "# Z-Score calculation for single data point\n",
    "def zscore(dp, mean, sd):\n",
    "    \"\"\"zscore returns the Z-Score of a single data point.\n",
    "\n",
    "    Args:\n",
    "        dp (float): Data Point.\n",
    "        mean (float): Mean.\n",
    "        sd (float): Standard Deviation.\n",
    "\n",
    "    Returns:\n",
    "        float: Z-Score of dp.\n",
    "    \"\"\"\n",
    "    z = (dp - mean) / sd\n",
    "    return z\n",
    "\n",
    "zscore(71, 76, 3)"
   ]
  },
  {
   "cell_type": "code",
   "execution_count": 13,
   "id": "8dd885f6-40ab-476b-b321-0f6e901720a3",
   "metadata": {},
   "outputs": [
    {
     "data": {
      "text/plain": [
       "0.3085"
      ]
     },
     "execution_count": 13,
     "metadata": {},
     "output_type": "execute_result"
    }
   ],
   "source": [
    "# Proportion above a value\n",
    "dp, mu, sd = 0, 25, 50\n",
    "p = stats.norm.cdf(zscore(dp, mu, sd))\n",
    "round(p, 4)"
   ]
  },
  {
   "cell_type": "code",
   "execution_count": 10,
   "id": "b9418e20-aeb0-4a20-9424-2508a7c273f4",
   "metadata": {},
   "outputs": [
    {
     "data": {
      "text/plain": [
       "2500"
      ]
     },
     "execution_count": 10,
     "metadata": {},
     "output_type": "execute_result"
    }
   ],
   "source": [
    "30**2 + 40**2"
   ]
  },
  {
   "cell_type": "code",
   "execution_count": 11,
   "id": "6f5e2163-23ca-4edd-84e5-1e0bdc9f4518",
   "metadata": {},
   "outputs": [
    {
     "data": {
      "text/plain": [
       "50"
      ]
     },
     "execution_count": 11,
     "metadata": {},
     "output_type": "execute_result"
    }
   ],
   "source": [
    "50"
   ]
  },
  {
   "cell_type": "code",
   "execution_count": null,
   "id": "2745528d-66cd-410b-9a85-de455d6709ee",
   "metadata": {},
   "outputs": [],
   "source": []
  }
 ],
 "metadata": {
  "kernelspec": {
   "display_name": "Python 3 (ipykernel)",
   "language": "python",
   "name": "python3"
  },
  "language_info": {
   "codemirror_mode": {
    "name": "ipython",
    "version": 3
   },
   "file_extension": ".py",
   "mimetype": "text/x-python",
   "name": "python",
   "nbconvert_exporter": "python",
   "pygments_lexer": "ipython3",
   "version": "3.9.10"
  }
 },
 "nbformat": 4,
 "nbformat_minor": 5
}
