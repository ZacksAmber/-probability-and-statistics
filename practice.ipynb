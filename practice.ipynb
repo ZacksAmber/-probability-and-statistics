{
 "cells": [
  {
   "cell_type": "code",
   "execution_count": 18,
   "id": "c34e51c3-9d28-4ffc-9899-5337d51edf61",
   "metadata": {},
   "outputs": [],
   "source": [
    "import pandas as pd"
   ]
  },
  {
   "cell_type": "code",
   "execution_count": 20,
   "id": "4a410db9-1342-41d3-ae2d-cea44290dea2",
   "metadata": {},
   "outputs": [],
   "source": [
    "from scipy.stats import binom"
   ]
  },
  {
   "cell_type": "code",
   "execution_count": 25,
   "id": "b61dac1f-c6d8-4f91-8dbc-8f19f7c1470d",
   "metadata": {},
   "outputs": [
    {
     "data": {
      "text/plain": [
       "0.807300071424"
      ]
     },
     "execution_count": 25,
     "metadata": {},
     "output_type": "execute_result"
    }
   ],
   "source": [
    "# 美本+美硕(私立)\n",
    "k, n, p = 0, 6, 0.24\n",
    "\n",
    "1 - binom.cdf(k, n, p)"
   ]
  },
  {
   "cell_type": "code",
   "execution_count": 26,
   "id": "4068644c-60da-4e24-8c1c-f834c63d6735",
   "metadata": {},
   "outputs": [
    {
     "data": {
      "text/plain": [
       "0.953344"
      ]
     },
     "execution_count": 26,
     "metadata": {},
     "output_type": "execute_result"
    }
   ],
   "source": [
    "# 美硕(公立)\n",
    "k, n, p = 0, 6, p + 0.16\n",
    "\n",
    "1 - binom.cdf(k, n, p)"
   ]
  },
  {
   "cell_type": "code",
   "execution_count": null,
   "id": "bfa73d25-1fd8-4921-b59b-0832ce189101",
   "metadata": {},
   "outputs": [],
   "source": []
  },
  {
   "cell_type": "code",
   "execution_count": 5,
   "id": "1ec20bdb-63a0-49d4-82e9-84b15accd40b",
   "metadata": {},
   "outputs": [
    {
     "name": "stdout",
     "output_type": "stream",
     "text": [
      "959\n"
     ]
    }
   ],
   "source": [
    "d0 = date(2019, 8, 12)\n",
    "d1 = date(2022, 3, 28)\n",
    "delta = d1 - d0\n",
    "print(delta.days)"
   ]
  },
  {
   "cell_type": "code",
   "execution_count": 6,
   "id": "11a6b80d-2eb6-49d0-8a17-dd45d9a14ddd",
   "metadata": {},
   "outputs": [
    {
     "name": "stdout",
     "output_type": "stream",
     "text": [
      "175\n"
     ]
    }
   ],
   "source": [
    "from datetime import date\n",
    "\n",
    "d0 = date(2018, 12, 27)\n",
    "d1 = date(2019, 6, 20)\n",
    "delta = d1 - d0\n",
    "print(delta.days)"
   ]
  },
  {
   "cell_type": "code",
   "execution_count": 7,
   "id": "ba0a00dd-bccd-4b8d-8b52-6886a88c4c9f",
   "metadata": {},
   "outputs": [
    {
     "name": "stdout",
     "output_type": "stream",
     "text": [
      "18\n"
     ]
    }
   ],
   "source": [
    "d0 = date(2014, 1, 18)\n",
    "d1 = date(2014, 2, 5)\n",
    "delta = d1 - d0\n",
    "print(delta.days)"
   ]
  },
  {
   "cell_type": "code",
   "execution_count": 22,
   "id": "b655f8de-a0f2-4e48-8579-b83b1b6cb95c",
   "metadata": {},
   "outputs": [],
   "source": [
    "import scipy.stats as st\n",
    "import seaborn as sns"
   ]
  },
  {
   "cell_type": "code",
   "execution_count": 9,
   "id": "3505ad53-38ec-4931-9dfb-ab2e667cba2e",
   "metadata": {},
   "outputs": [
    {
     "ename": "NameError",
     "evalue": "name 'self' is not defined",
     "output_type": "error",
     "traceback": [
      "\u001b[0;31m---------------------------------------------------------------------------\u001b[0m",
      "\u001b[0;31mNameError\u001b[0m                                 Traceback (most recent call last)",
      "Input \u001b[0;32mIn [9]\u001b[0m, in \u001b[0;36m<cell line: 1>\u001b[0;34m()\u001b[0m\n\u001b[0;32m----> 1\u001b[0m st\u001b[38;5;241m.\u001b[39mrv_continuous()\u001b[38;5;241m.\u001b[39mrvs(\u001b[38;5;28;43mself\u001b[39;49m, loc\u001b[38;5;241m=\u001b[39m\u001b[38;5;241m0\u001b[39m, scale\u001b[38;5;241m=\u001b[39m\u001b[38;5;241m1\u001b[39m, size\u001b[38;5;241m=\u001b[39m\u001b[38;5;241m1000\u001b[39m)\n",
      "\u001b[0;31mNameError\u001b[0m: name 'self' is not defined"
     ]
    }
   ],
   "source": [
    "st.rv_continuous().rvs(self, loc=0, scale=1, size=1000)"
   ]
  },
  {
   "cell_type": "code",
   "execution_count": 13,
   "id": "49eff0d8-7eda-4322-b0e4-f29363a8c6c7",
   "metadata": {},
   "outputs": [],
   "source": [
    "import numpy as np"
   ]
  },
  {
   "cell_type": "code",
   "execution_count": 46,
   "id": "369e87de-8989-4189-93d1-567e0ba7d6a7",
   "metadata": {},
   "outputs": [],
   "source": [
    "rng = np.random.default_rng(2022) # random seed"
   ]
  },
  {
   "cell_type": "code",
   "execution_count": 114,
   "id": "4ffcb4b3-b897-4efc-8e16-3f2382967ee5",
   "metadata": {},
   "outputs": [],
   "source": [
    "pop = np.random.randint(low=0, high=100_000, size=1000)"
   ]
  },
  {
   "cell_type": "code",
   "execution_count": 115,
   "id": "a8a280a0-12e7-4443-9535-5fc003f885f1",
   "metadata": {},
   "outputs": [
    {
     "data": {
      "text/plain": [
       "(49, 99893)"
      ]
     },
     "execution_count": 115,
     "metadata": {},
     "output_type": "execute_result"
    }
   ],
   "source": [
    "pop.min(), pop.max()"
   ]
  },
  {
   "cell_type": "code",
   "execution_count": 118,
   "id": "7a06f46f-fabc-4b7c-bca5-922dae70bc82",
   "metadata": {},
   "outputs": [],
   "source": [
    "def bootstrap(pop, n, n_trials):\n",
    "    \"\"\"bootstrap Sampling n times from the given discrete random varaible X with probabilities P.\n",
    "\n",
    "    Args:\n",
    "        X (numpy.ndarray): The discrete random variables.\n",
    "        n (_type_): Sample Size.\n",
    "        P (numpy.ndarray): The probabilites of X.\n",
    "        n_trials (_type_): Number os trials.\n",
    "\n",
    "    Returns:\n",
    "        numpy.ndarray: The samples of X.\n",
    "    \"\"\"  \n",
    "    rng = np.random.default_rng(2022) # random seed\n",
    "    samples = []\n",
    "    for i in range(n_trials):\n",
    "        sample = rng.choice(a=pop, size=n, replace=True)\n",
    "        samples.append(sample)\n",
    "\n",
    "    return np.array(samples)"
   ]
  },
  {
   "cell_type": "code",
   "execution_count": 119,
   "id": "94bddc1d-f21f-4cb1-8f30-83281eec5d4f",
   "metadata": {},
   "outputs": [],
   "source": [
    "n = 30\n",
    "samples = bootstrap(pop, n, 10000)"
   ]
  },
  {
   "cell_type": "code",
   "execution_count": 131,
   "id": "34d866ec-4811-46ff-ad82-6b572e867d74",
   "metadata": {},
   "outputs": [
    {
     "data": {
      "text/plain": [
       "(49205.74131666667, 29608.479591457573)"
      ]
     },
     "execution_count": 131,
     "metadata": {},
     "output_type": "execute_result"
    }
   ],
   "source": [
    "samples.mean(), samples.std()"
   ]
  },
  {
   "cell_type": "code",
   "execution_count": 132,
   "id": "1ddbaf5a-22f2-48d0-966a-eb8cf01374fd",
   "metadata": {},
   "outputs": [
    {
     "data": {
      "text/plain": [
       "(49216.024, 29614.661874676607)"
      ]
     },
     "execution_count": 132,
     "metadata": {},
     "output_type": "execute_result"
    }
   ],
   "source": [
    "pop.mean(), pop.std()"
   ]
  },
  {
   "cell_type": "code",
   "execution_count": 136,
   "id": "9932fc43-e7ba-4a7b-a774-03fd3606dbe0",
   "metadata": {},
   "outputs": [
    {
     "data": {
      "text/plain": [
       "(49205.74131666667, 28924.173933868307, 5280.807506927536)"
      ]
     },
     "execution_count": 136,
     "metadata": {},
     "output_type": "execute_result"
    }
   ],
   "source": [
    "samples.mean(), samples[0].std(), samples[0].std() / np.sqrt(n)"
   ]
  },
  {
   "cell_type": "code",
   "execution_count": null,
   "id": "57f638fc-e8d9-471c-ab5e-acaac9ca7653",
   "metadata": {},
   "outputs": [],
   "source": []
  },
  {
   "cell_type": "code",
   "execution_count": null,
   "id": "76b18d0e-39be-4963-be6c-ceceecd82b37",
   "metadata": {},
   "outputs": [],
   "source": []
  },
  {
   "cell_type": "code",
   "execution_count": null,
   "id": "9a105c22-92a5-4167-9047-552fb6a65a76",
   "metadata": {},
   "outputs": [],
   "source": []
  },
  {
   "cell_type": "code",
   "execution_count": 137,
   "id": "bfe2dcae-ace9-4b4c-9015-69a2aa81d219",
   "metadata": {},
   "outputs": [],
   "source": [
    "import handcalcs.render"
   ]
  },
  {
   "cell_type": "code",
   "execution_count": 138,
   "id": "30cc2ae7-2308-4b83-8bcb-5aca2452f0ea",
   "metadata": {},
   "outputs": [
    {
     "data": {
      "text/latex": [
       "\\[\n",
       "\\begin{aligned}\n",
       "a &= 2 \\; \n",
       "\\\\[10pt]\n",
       "b &= 3 \\; \n",
       "\\\\[10pt]\n",
       "c &= 2 \\cdot a + \\frac{ b }{ 3 }  = 2 \\cdot 2 + \\frac{ 3 }{ 3 } &= 5.0  \n",
       "\\end{aligned}\n",
       "\\]"
      ],
      "text/plain": [
       "<IPython.core.display.Latex object>"
      ]
     },
     "metadata": {},
     "output_type": "display_data"
    }
   ],
   "source": [
    "%%render\n",
    "\n",
    "a = 2\n",
    "b = 3\n",
    "c = 2*a + b/3"
   ]
  },
  {
   "cell_type": "code",
   "execution_count": 146,
   "id": "e2908eb4-cb9f-4c36-9d21-f3b99cf4a208",
   "metadata": {},
   "outputs": [
    {
     "data": {
      "text/plain": [
       "0.011075105482763959"
      ]
     },
     "execution_count": 146,
     "metadata": {},
     "output_type": "execute_result"
    }
   ],
   "source": [
    "n, tstat = 9, -2.83\n",
    "precision = 3\n",
    "pval = st.t.cdf(x=tstat, df=n-1)\n",
    "pval"
   ]
  },
  {
   "cell_type": "code",
   "execution_count": 145,
   "id": "48858eac-6daa-4812-8419-99c1ef0e48c4",
   "metadata": {},
   "outputs": [
    {
     "data": {
      "text/latex": [
       "\\[\n",
       "\\begin{aligned}\n",
       "\\mathrm{pval} &= 1.108 \\times 10 ^ {-2 } \\; \n",
       "\\end{aligned}\n",
       "\\]"
      ],
      "text/plain": [
       "<IPython.core.display.Latex object>"
      ]
     },
     "metadata": {},
     "output_type": "display_data"
    }
   ],
   "source": [
    "%%render\n",
    "pval"
   ]
  },
  {
   "cell_type": "code",
   "execution_count": 149,
   "id": "e5775308-b345-4fb2-b669-6c892188f54b",
   "metadata": {},
   "outputs": [
    {
     "data": {
      "text/latex": [
       "\\[\n",
       "\\begin{aligned}\n",
       "\\alpha &= 0.05 \\; \n",
       "\\\\[10pt]\n",
       "\\beta &= 0.2 \\; \n",
       "\\end{aligned}\n",
       "\\]"
      ],
      "text/plain": [
       "<IPython.core.display.Latex object>"
      ]
     },
     "metadata": {},
     "output_type": "display_data"
    }
   ],
   "source": [
    "%%render\n",
    "\n",
    "alpha = 0.05\n",
    "beta = 0.2"
   ]
  },
  {
   "cell_type": "code",
   "execution_count": null,
   "id": "cd6cd955-5495-4c93-925d-99a5f02b671b",
   "metadata": {},
   "outputs": [],
   "source": []
  },
  {
   "cell_type": "code",
   "execution_count": null,
   "id": "1bd273e4-d9f9-44d8-912b-83f29861ddc5",
   "metadata": {},
   "outputs": [],
   "source": []
  },
  {
   "cell_type": "code",
   "execution_count": 1,
   "id": "69016405-787d-40aa-93eb-4184cb308f4c",
   "metadata": {},
   "outputs": [],
   "source": [
    "import numpy as np\n",
    "import pandas as pd\n",
    "import matplotlib.pyplot as plt\n",
    "import seaborn as sns\n",
    "import scipy.stats as st\n",
    "%matplotlib inline\n",
    "\n",
    "from scipy.special import perm, comb\n",
    "from statistics import NormalDist\n",
    "from itertools import permutations, combinations\n",
    "from fractions import Fraction\n",
    "from IPython.display import display, Latex"
   ]
  },
  {
   "cell_type": "code",
   "execution_count": 4,
   "id": "00633165-c171-4b4c-a94a-d846f32d86b3",
   "metadata": {},
   "outputs": [
    {
     "data": {
      "text/plain": [
       "3.5"
      ]
     },
     "execution_count": 4,
     "metadata": {},
     "output_type": "execute_result"
    }
   ],
   "source": [
    "X = np.array([1, 2, 3, 4, 5, 6])\n",
    "P = np.array([0.4, 0, 0.1, 0.1, 0, 0.4])\n",
    "E = round(np.sum(X * P), 2) # expected value\n",
    "E"
   ]
  },
  {
   "cell_type": "code",
   "execution_count": 6,
   "id": "acef4a9b-8073-4ff8-a86b-ee8049316c6b",
   "metadata": {},
   "outputs": [],
   "source": [
    "def bootstrap(X, n, P, n_trials):\n",
    "    \"\"\"bootstrap Sampling n times from the given discrete random varaible X with probabilities P.\n",
    "\n",
    "    Args:\n",
    "        X (numpy.ndarray): The discrete random variables.\n",
    "        n (_type_): Sample Size.\n",
    "        P (numpy.ndarray): The probabilites of X.\n",
    "        n_trials (_type_): Number os trials.\n",
    "\n",
    "    Returns:\n",
    "        numpy.ndarray: The samples of X.\n",
    "    \"\"\"  \n",
    "    rng = np.random.default_rng(2022) # random seed\n",
    "    samples = []\n",
    "    for i in range(n_trials):\n",
    "        sample = rng.choice(a=X, size=n, replace=True, p=P)\n",
    "        samples.append(sample)\n",
    "\n",
    "    return np.array(samples)\n",
    "\n",
    "\n",
    "def histogram(X, n, P, n_trials):\n",
    "    \"\"\"histogram draw histogram with z confidence interval from bootstrap.\n",
    "\n",
    "    Args:\n",
    "        X (numpy.ndarray): The discrete random variables.\n",
    "        n (_type_): Sample Size.\n",
    "        P (numpy.ndarray): The probabilites of X.\n",
    "        n_trials (_type_): Number os trials.\n",
    "    \"\"\"\n",
    "    if isinstance(X, list): X = np.array(X)\n",
    "    if isinstance(P, list): P = np.array(P)\n",
    "    samples = bootstrap(X=X, n=n, P=P, n_trials=n_trials)\n",
    "    \n",
    "    return samples\n",
    "    \n",
    "    s_mean = samples.mean()\n",
    "    s_means = samples.mean(axis=1)\n",
    "    s_median = np.median(s_means)\n",
    "    s_std = s_means.std()\n",
    "    SE = s_std / np.sqrt(n)\n",
    "    \n",
    "    precision = 4\n",
    "    xmin, xmax = st.norm.interval(.95, loc=s_mean, scale=SE)  # 95% percent confidence level\n",
    "    \n",
    "    sns.histplot(s_means, stat='probability', kde=True)  # 'probability', 'percent', 'density'\n",
    "    plt.axvline(x=xmin, linestyle='--', color='orange')\n",
    "    plt.axvline(x=xmax, linestyle='--', color='orange')\n",
    "    # plt.axhline(y=0, xmin=0, xmax=5, linewidth=20, color='r')\n",
    "    plt.title(\"Sample Distribution of the Sample Mean\")\n",
    "    plt.ylabel(\"Probability\")\n",
    "    plt.xlabel(\"Sample Mean\")\n",
    "    display(Latex(f\"$E[X] = {round((X * P).sum(), precision)}$, \" + \"$\\mu_{\\overline x} = $\" + f\"${round(s_mean, precision)}$, \" + f\"$median = {round(s_median, precision)}$\"))\n",
    "    display(Latex(f\"$s = {round(s_std, precision)}$, \" + \"$s_{\\overline x} = $\" + f\"${round(SE, precision)}$\"))\n",
    "    display(Latex(f\"$CI = [{round(xmin, precision)}, {round(xmax, precision)}]$\"))\n",
    "    display(Latex(f\"$skew = {round(st.skew(s_means), precision)}$, \" + f\"$kurtosis = {round(st.kurtosis(s_means), precision)}$\"))"
   ]
  },
  {
   "cell_type": "code",
   "execution_count": 5,
   "id": "16e8596f-8532-43fe-a733-30ad7961ea80",
   "metadata": {},
   "outputs": [
    {
     "data": {
      "text/latex": [
       "$E[X] = 3.5$, $\\mu_{\\overline x} = $$3.5007$, $median = 3.5$"
      ],
      "text/plain": [
       "<IPython.core.display.Latex object>"
      ]
     },
     "metadata": {},
     "output_type": "display_data"
    },
    {
     "data": {
      "text/latex": [
       "$s = 0.2245$, $s_{\\overline x} = $$0.0225$"
      ],
      "text/plain": [
       "<IPython.core.display.Latex object>"
      ]
     },
     "metadata": {},
     "output_type": "display_data"
    },
    {
     "data": {
      "text/latex": [
       "$CI = [3.4567, 3.5447]$"
      ],
      "text/plain": [
       "<IPython.core.display.Latex object>"
      ]
     },
     "metadata": {},
     "output_type": "display_data"
    },
    {
     "data": {
      "text/latex": [
       "$skew = 0.0328$, $kurtosis = 0.0407$"
      ],
      "text/plain": [
       "<IPython.core.display.Latex object>"
      ]
     },
     "metadata": {},
     "output_type": "display_data"
    },
    {
     "data": {
      "image/png": "[encoded data removed]",
      "text/plain": [
       "<Figure size 432x288 with 1 Axes>"
      ]
     },
     "metadata": {
      "needs_background": "light"
     },
     "output_type": "display_data"
    }
   ],
   "source": [
    "# for n = 100\n",
    "histogram(X=X, n=100, P=P, n_trials=10000)"
   ]
  },
  {
   "cell_type": "code",
   "execution_count": 7,
   "id": "48007ea8-353d-49e4-9db0-2de32e137ee8",
   "metadata": {},
   "outputs": [],
   "source": [
    "samples = histogram(X=X, n=100, P=P, n_trials=10000)"
   ]
  },
  {
   "cell_type": "code",
   "execution_count": 12,
   "id": "35abe65e-fa31-4590-ad3a-fa30c79912b9",
   "metadata": {},
   "outputs": [],
   "source": [
    "s_mean = samples.mean()\n",
    "s_means = samples.mean(axis=1)\n",
    "s_median = np.median(s_means)\n",
    "s_std = s_means.std()\n",
    "SE = s_std / np.sqrt(100)"
   ]
  },
  {
   "cell_type": "code",
   "execution_count": 9,
   "id": "29160f98-92af-46ca-9be8-222bde10b24e",
   "metadata": {},
   "outputs": [
    {
     "data": {
      "text/plain": [
       "array([3.51, 3.61, 3.57, ..., 3.36, 3.67, 3.33])"
      ]
     },
     "execution_count": 9,
     "metadata": {},
     "output_type": "execute_result"
    }
   ],
   "source": [
    "samples.mean(axis=1)"
   ]
  },
  {
   "cell_type": "code",
   "execution_count": 13,
   "id": "c35a4621-75c4-4993-9ec5-b1fffe252515",
   "metadata": {},
   "outputs": [
    {
     "data": {
      "text/plain": [
       "3.50067"
      ]
     },
     "execution_count": 13,
     "metadata": {},
     "output_type": "execute_result"
    }
   ],
   "source": [
    "s_mean"
   ]
  },
  {
   "cell_type": "code",
   "execution_count": 14,
   "id": "5b6d9085-a82b-44c7-8135-6588ffc3360b",
   "metadata": {},
   "outputs": [
    {
     "data": {
      "text/plain": [
       "array([3.51, 3.61, 3.57, ..., 3.36, 3.67, 3.33])"
      ]
     },
     "execution_count": 14,
     "metadata": {},
     "output_type": "execute_result"
    }
   ],
   "source": [
    "s_means"
   ]
  },
  {
   "cell_type": "code",
   "execution_count": 15,
   "id": "dae1c64c-c6d1-40c7-870e-edfc4a4f9102",
   "metadata": {},
   "outputs": [
    {
     "data": {
      "text/plain": [
       "3.5"
      ]
     },
     "execution_count": 15,
     "metadata": {},
     "output_type": "execute_result"
    }
   ],
   "source": [
    "s_median"
   ]
  },
  {
   "cell_type": "code",
   "execution_count": 16,
   "id": "828fd153-7eae-4550-8908-495ab4c5a24a",
   "metadata": {},
   "outputs": [
    {
     "data": {
      "text/plain": [
       "0.22451577027015274"
      ]
     },
     "execution_count": 16,
     "metadata": {},
     "output_type": "execute_result"
    }
   ],
   "source": [
    "s_std"
   ]
  },
  {
   "cell_type": "code",
   "execution_count": 17,
   "id": "a53daa0c-9b32-4191-97a0-5fcf620db26c",
   "metadata": {},
   "outputs": [
    {
     "data": {
      "text/plain": [
       "0.022451577027015272"
      ]
     },
     "execution_count": 17,
     "metadata": {},
     "output_type": "execute_result"
    }
   ],
   "source": [
    "SE"
   ]
  },
  {
   "cell_type": "code",
   "execution_count": 18,
   "id": "8b64f7fe-c850-4c13-af59-3b8ed3d9dbad",
   "metadata": {},
   "outputs": [
    {
     "data": {
      "text/plain": [
       "(3.4566657176309232, 3.5446742823690767)"
      ]
     },
     "execution_count": 18,
     "metadata": {},
     "output_type": "execute_result"
    }
   ],
   "source": [
    "xmin, xmax = st.norm.interval(.95, loc=s_mean, scale=SE)\n",
    "xmin, xmax"
   ]
  },
  {
   "cell_type": "code",
   "execution_count": 19,
   "id": "991c4c0d-b4f8-4793-952b-d9b8af399bb7",
   "metadata": {},
   "outputs": [
    {
     "data": {
      "text/plain": [
       "(3.4566657176309232, 3.5446742823690767)"
      ]
     },
     "execution_count": 19,
     "metadata": {},
     "output_type": "execute_result"
    }
   ],
   "source": [
    "st.norm.interval(.95, loc=s_mean, scale=SE)"
   ]
  },
  {
   "cell_type": "code",
   "execution_count": 21,
   "id": "51d85457-3eb4-4731-9cdc-c9a6bc1e44a0",
   "metadata": {},
   "outputs": [
    {
     "data": {
      "text/plain": [
       "1.959963984540054"
      ]
     },
     "execution_count": 21,
     "metadata": {},
     "output_type": "execute_result"
    }
   ],
   "source": [
    "CL = .95\n",
    "st.norm.ppf((1 - CL) / 2 + CL)"
   ]
  },
  {
   "cell_type": "code",
   "execution_count": 22,
   "id": "00a16061-253b-4ea8-9027-0c661f32dded",
   "metadata": {},
   "outputs": [
    {
     "data": {
      "text/plain": [
       "0.04400509097294993"
      ]
     },
     "execution_count": 22,
     "metadata": {},
     "output_type": "execute_result"
    }
   ],
   "source": [
    "MOE = 1.96 * SE\n",
    "MOE"
   ]
  },
  {
   "cell_type": "code",
   "execution_count": null,
   "id": "8a5af1d9-4eb8-4f54-9104-15304072dbbe",
   "metadata": {},
   "outputs": [],
   "source": []
  }
 ],
 "metadata": {
  "kernelspec": {
   "display_name": "statistics-and-probability",
   "language": "python",
   "name": "statistics-and-probability"
  },
  "language_info": {
   "codemirror_mode": {
    "name": "ipython",
    "version": 3
   },
   "file_extension": ".py",
   "mimetype": "text/x-python",
   "name": "python",
   "nbconvert_exporter": "python",
   "pygments_lexer": "ipython3",
   "version": "3.9.12"
  },
  "toc-autonumbering": false
 },
 "nbformat": 4,
 "nbformat_minor": 5
}
