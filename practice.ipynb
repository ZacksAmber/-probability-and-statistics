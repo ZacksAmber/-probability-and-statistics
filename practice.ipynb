{
 "cells": [
  {
   "cell_type": "code",
   "execution_count": 2,
   "id": "74229dce-251a-4735-941d-7cea7e298ce0",
   "metadata": {},
   "outputs": [],
   "source": [
    "import numpy as np\n",
    "from scipy.stats import binom"
   ]
  },
  {
   "cell_type": "code",
   "execution_count": 3,
   "id": "c49b448c-5db4-492b-bb83-ae9edef09361",
   "metadata": {},
   "outputs": [
    {
     "data": {
      "text/plain": [
       "-1.6666666666666667"
      ]
     },
     "execution_count": 3,
     "metadata": {},
     "output_type": "execute_result"
    }
   ],
   "source": [
    "# Z-Score calculation for single data point\n",
    "def zscore(dp, mean, sd):\n",
    "    \"\"\"zscore returns the Z-Score of a single data point.\n",
    "\n",
    "    Args:\n",
    "        dp (float): Data Point.\n",
    "        mean (float): Mean.\n",
    "        sd (float): Standard Deviation.\n",
    "\n",
    "    Returns:\n",
    "        float: Z-Score of dp.\n",
    "    \"\"\"\n",
    "    z = (dp - mean) / sd\n",
    "    return z\n",
    "\n",
    "zscore(71, 76, 3)"
   ]
  },
  {
   "cell_type": "code",
   "execution_count": 13,
   "id": "8dd885f6-40ab-476b-b321-0f6e901720a3",
   "metadata": {},
   "outputs": [
    {
     "data": {
      "text/plain": [
       "0.3085"
      ]
     },
     "execution_count": 13,
     "metadata": {},
     "output_type": "execute_result"
    }
   ],
   "source": [
    "# Proportion above a value\n",
    "dp, mu, sd = 0, 25, 50\n",
    "p = stats.norm.cdf(zscore(dp, mu, sd))\n",
    "round(p, 4)"
   ]
  },
  {
   "cell_type": "code",
   "execution_count": 7,
   "id": "b9418e20-aeb0-4a20-9424-2508a7c273f4",
   "metadata": {},
   "outputs": [
    {
     "data": {
      "text/plain": [
       "0.125"
      ]
     },
     "execution_count": 7,
     "metadata": {},
     "output_type": "execute_result"
    }
   ],
   "source": [
    "1/2**3"
   ]
  },
  {
   "cell_type": "code",
   "execution_count": 8,
   "id": "6f5e2163-23ca-4edd-84e5-1e0bdc9f4518",
   "metadata": {},
   "outputs": [
    {
     "data": {
      "text/plain": [
       "5.0"
      ]
     },
     "execution_count": 8,
     "metadata": {},
     "output_type": "execute_result"
    }
   ],
   "source": [
    "0.125 * -100 + 0.875 * 20"
   ]
  },
  {
   "cell_type": "code",
   "execution_count": 9,
   "id": "2745528d-66cd-410b-9a85-de455d6709ee",
   "metadata": {},
   "outputs": [
    {
     "data": {
      "text/plain": [
       "0.3750000000000001"
      ]
     },
     "execution_count": 9,
     "metadata": {},
     "output_type": "execute_result"
    }
   ],
   "source": [
    "k, n, p = 2, 3, 0.5\n",
    "\n",
    "binom.pmf(k, n, p) "
   ]
  },
  {
   "cell_type": "code",
   "execution_count": 10,
   "id": "720c2d90-bcd4-4f40-8bc9-ef3f12c299bb",
   "metadata": {},
   "outputs": [
    {
     "data": {
      "text/plain": [
       "0.125"
      ]
     },
     "execution_count": 10,
     "metadata": {},
     "output_type": "execute_result"
    }
   ],
   "source": [
    "k, n, p = 3, 3, 0.5\n",
    "\n",
    "binom.pmf(k, n, p)"
   ]
  },
  {
   "cell_type": "code",
   "execution_count": 20,
   "id": "dd2938d3-f10c-4971-a19a-73f996d632ad",
   "metadata": {},
   "outputs": [
    {
     "data": {
      "text/plain": [
       "0.0"
      ]
     },
     "execution_count": 20,
     "metadata": {},
     "output_type": "execute_result"
    }
   ],
   "source": [
    "k, n, p = 0, 4, 0.5\n",
    "\n",
    "binom.pmf(k, n, p) * 0"
   ]
  },
  {
   "cell_type": "code",
   "execution_count": 21,
   "id": "dc2c318e-e179-45b1-8db0-599fab968098",
   "metadata": {},
   "outputs": [
    {
     "data": {
      "text/plain": [
       "0.75"
      ]
     },
     "execution_count": 21,
     "metadata": {},
     "output_type": "execute_result"
    }
   ],
   "source": [
    "k, n, p = 1, 4, 0.5\n",
    "\n",
    "binom.pmf(k, n, p) * 3"
   ]
  },
  {
   "cell_type": "code",
   "execution_count": 22,
   "id": "c965b653-7396-4fb9-b17d-45343b949590",
   "metadata": {},
   "outputs": [
    {
     "data": {
      "text/plain": [
       "1.875"
      ]
     },
     "execution_count": 22,
     "metadata": {},
     "output_type": "execute_result"
    }
   ],
   "source": [
    "k, n, p = 2, 4, 0.5\n",
    "\n",
    "binom.pmf(k, n, p) * 5"
   ]
  },
  {
   "cell_type": "code",
   "execution_count": 23,
   "id": "dea76e80-7ccc-4586-a823-71c3b9bed4f2",
   "metadata": {},
   "outputs": [
    {
     "data": {
      "text/plain": [
       "1.7500000000000004"
      ]
     },
     "execution_count": 23,
     "metadata": {},
     "output_type": "execute_result"
    }
   ],
   "source": [
    "k, n, p = 3, 4, 0.5\n",
    "\n",
    "binom.pmf(k, n, p) * 7"
   ]
  },
  {
   "cell_type": "code",
   "execution_count": 24,
   "id": "218f2915-58da-410a-abbe-492ef3a45a18",
   "metadata": {},
   "outputs": [
    {
     "data": {
      "text/plain": [
       "0.625"
      ]
     },
     "execution_count": 24,
     "metadata": {},
     "output_type": "execute_result"
    }
   ],
   "source": [
    "k, n, p = 4, 4, 0.5\n",
    "\n",
    "binom.pmf(k, n, p) * 10"
   ]
  },
  {
   "cell_type": "code",
   "execution_count": 25,
   "id": "a48c19b9-4d82-4bc3-be13-06149ad07b53",
   "metadata": {},
   "outputs": [
    {
     "data": {
      "text/plain": [
       "5.0"
      ]
     },
     "execution_count": 25,
     "metadata": {},
     "output_type": "execute_result"
    }
   ],
   "source": [
    "0.75 + 1.875 + 1.75 + 0.625"
   ]
  },
  {
   "cell_type": "code",
   "execution_count": 31,
   "id": "d4323f33-bf2d-4713-a396-8058138f543e",
   "metadata": {},
   "outputs": [],
   "source": [
    "import pandas as pd"
   ]
  },
  {
   "cell_type": "code",
   "execution_count": 111,
   "id": "bb8283ca-8e42-4d5d-8087-b1b80e536749",
   "metadata": {},
   "outputs": [
    {
     "data": {
      "text/html": [
       "<div>\n",
       "<style scoped>\n",
       "    .dataframe tbody tr th:only-of-type {\n",
       "        vertical-align: middle;\n",
       "    }\n",
       "\n",
       "    .dataframe tbody tr th {\n",
       "        vertical-align: top;\n",
       "    }\n",
       "\n",
       "    .dataframe thead th {\n",
       "        text-align: right;\n",
       "    }\n",
       "</style>\n",
       "<table border=\"1\" class=\"dataframe\">\n",
       "  <thead>\n",
       "    <tr style=\"text-align: right;\">\n",
       "      <th></th>\n",
       "      <th>Correct answers</th>\n",
       "      <th>Points</th>\n",
       "    </tr>\n",
       "  </thead>\n",
       "  <tbody>\n",
       "    <tr>\n",
       "      <th>0</th>\n",
       "      <td>0</td>\n",
       "      <td>3000</td>\n",
       "    </tr>\n",
       "    <tr>\n",
       "      <th>1</th>\n",
       "      <td>1</td>\n",
       "      <td>1800</td>\n",
       "    </tr>\n",
       "    <tr>\n",
       "      <th>2</th>\n",
       "      <td>2</td>\n",
       "      <td>1300</td>\n",
       "    </tr>\n",
       "    <tr>\n",
       "      <th>3</th>\n",
       "      <td>3</td>\n",
       "      <td>800</td>\n",
       "    </tr>\n",
       "  </tbody>\n",
       "</table>\n",
       "</div>"
      ],
      "text/plain": [
       "   Correct answers  Points\n",
       "0                0    3000\n",
       "1                1    1800\n",
       "2                2    1300\n",
       "3                3     800"
      ]
     },
     "execution_count": 111,
     "metadata": {},
     "output_type": "execute_result"
    }
   ],
   "source": [
    "ks = np.arange(4)\n",
    "points = np.array([3000, 1800, 1300, 800])\n",
    "df = pd.DataFrame({'Correct answers': ks, 'Points': points})\n",
    "df"
   ]
  },
  {
   "cell_type": "code",
   "execution_count": 112,
   "id": "9cf1db8c-0aa9-49f6-95fd-1aea56546be4",
   "metadata": {},
   "outputs": [
    {
     "data": {
      "text/html": [
       "<div>\n",
       "<style scoped>\n",
       "    .dataframe tbody tr th:only-of-type {\n",
       "        vertical-align: middle;\n",
       "    }\n",
       "\n",
       "    .dataframe tbody tr th {\n",
       "        vertical-align: top;\n",
       "    }\n",
       "\n",
       "    .dataframe thead th {\n",
       "        text-align: right;\n",
       "    }\n",
       "</style>\n",
       "<table border=\"1\" class=\"dataframe\">\n",
       "  <thead>\n",
       "    <tr style=\"text-align: right;\">\n",
       "      <th></th>\n",
       "      <th>Correct answers</th>\n",
       "      <th>Points</th>\n",
       "      <th>Probability</th>\n",
       "    </tr>\n",
       "  </thead>\n",
       "  <tbody>\n",
       "    <tr>\n",
       "      <th>0</th>\n",
       "      <td>0</td>\n",
       "      <td>3000</td>\n",
       "      <td>0.125</td>\n",
       "    </tr>\n",
       "    <tr>\n",
       "      <th>1</th>\n",
       "      <td>1</td>\n",
       "      <td>1800</td>\n",
       "      <td>0.375</td>\n",
       "    </tr>\n",
       "    <tr>\n",
       "      <th>2</th>\n",
       "      <td>2</td>\n",
       "      <td>1300</td>\n",
       "      <td>0.375</td>\n",
       "    </tr>\n",
       "    <tr>\n",
       "      <th>3</th>\n",
       "      <td>3</td>\n",
       "      <td>800</td>\n",
       "      <td>0.125</td>\n",
       "    </tr>\n",
       "  </tbody>\n",
       "</table>\n",
       "</div>"
      ],
      "text/plain": [
       "   Correct answers  Points  Probability\n",
       "0                0    3000        0.125\n",
       "1                1    1800        0.375\n",
       "2                2    1300        0.375\n",
       "3                3     800        0.125"
      ]
     },
     "execution_count": 112,
     "metadata": {},
     "output_type": "execute_result"
    }
   ],
   "source": [
    "n, p = 3, 0.5\n",
    "df['Probability'] = df['Correct answers'].apply(lambda k: binom.pmf(k, n, p))\n",
    "df"
   ]
  },
  {
   "cell_type": "code",
   "execution_count": 113,
   "id": "ef7128fe-8cfd-4ee9-b265-7c220522a47d",
   "metadata": {},
   "outputs": [
    {
     "data": {
      "text/plain": [
       "1637.5000000000005"
      ]
     },
     "execution_count": 113,
     "metadata": {},
     "output_type": "execute_result"
    }
   ],
   "source": [
    "sum(df['Probability'] * df['Points'])"
   ]
  },
  {
   "cell_type": "code",
   "execution_count": 114,
   "id": "638ff479-5683-4eaf-aaa3-0886dada9a3c",
   "metadata": {},
   "outputs": [
    {
     "data": {
      "text/plain": [
       "18.200000000000003"
      ]
     },
     "execution_count": 114,
     "metadata": {},
     "output_type": "execute_result"
    }
   ],
   "source": [
    "0.017 * 600 + 0.020 * 400"
   ]
  },
  {
   "cell_type": "code",
   "execution_count": 115,
   "id": "f3856dc3-7ebf-44a1-ae45-5bfc2d34633f",
   "metadata": {},
   "outputs": [
    {
     "data": {
      "text/plain": [
       "30.0"
      ]
     },
     "execution_count": 115,
     "metadata": {},
     "output_type": "execute_result"
    }
   ],
   "source": [
    "0.022 * 750 + 0.027 * 500"
   ]
  },
  {
   "cell_type": "code",
   "execution_count": 119,
   "id": "6157703c-552a-4e54-a97f-05172dfcacab",
   "metadata": {},
   "outputs": [
    {
     "data": {
      "text/plain": [
       "-0.8873599999999999"
      ]
     },
     "execution_count": 119,
     "metadata": {},
     "output_type": "execute_result"
    }
   ],
   "source": [
    "0.4**5 * 10 + (1 - 0.4**5) * -1"
   ]
  },
  {
   "cell_type": "code",
   "execution_count": 120,
   "id": "a4aea0cc-6db3-4864-aae1-7cccaaa2a72b",
   "metadata": {},
   "outputs": [
    {
     "data": {
      "text/plain": [
       "-4.46"
      ]
     },
     "execution_count": 120,
     "metadata": {},
     "output_type": "execute_result"
    }
   ],
   "source": [
    "0.3**3 * 15 + (1 - 0.3**3) * -5"
   ]
  },
  {
   "cell_type": "code",
   "execution_count": 121,
   "id": "cbe6546c-238d-430d-b5dd-eafe9dc73181",
   "metadata": {},
   "outputs": [],
   "source": [
    "a = np.array([400, 200, 300])\n",
    "b = np.array([0.2, 0.2, 0.1])"
   ]
  },
  {
   "cell_type": "code",
   "execution_count": 123,
   "id": "737f3d52-cd91-4768-94a0-43f4eba36106",
   "metadata": {},
   "outputs": [],
   "source": [
    "import pandas as pd"
   ]
  },
  {
   "cell_type": "code",
   "execution_count": 132,
   "id": "214d4742-aec6-4b95-8808-0faf8a320a82",
   "metadata": {},
   "outputs": [
    {
     "data": {
      "text/plain": [
       "3880"
      ]
     },
     "execution_count": 132,
     "metadata": {},
     "output_type": "execute_result"
    }
   ],
   "source": [
    "72*50 + 28*10"
   ]
  },
  {
   "cell_type": "code",
   "execution_count": 133,
   "id": "8bbaa67c-4d0e-4d80-ab78-750f7fd8a5e1",
   "metadata": {},
   "outputs": [
    {
     "data": {
      "text/plain": [
       "5600"
      ]
     },
     "execution_count": 133,
     "metadata": {},
     "output_type": "execute_result"
    }
   ],
   "source": [
    "70*65 + 30*35"
   ]
  },
  {
   "cell_type": "code",
   "execution_count": 134,
   "id": "f1a0f9c1-6582-4042-9c8e-7909a71bdc25",
   "metadata": {},
   "outputs": [
    {
     "data": {
      "text/plain": [
       "12.96210817715136"
      ]
     },
     "execution_count": 134,
     "metadata": {},
     "output_type": "execute_result"
    }
   ],
   "source": [
    "0.95**10 * 25 + (1-0.95**10) * -5"
   ]
  },
  {
   "cell_type": "code",
   "execution_count": 167,
   "id": "b92bdc71-bcde-4b7a-a132-f74928be5df8",
   "metadata": {},
   "outputs": [
    {
     "data": {
      "text/plain": [
       "17.525"
      ]
     },
     "execution_count": 167,
     "metadata": {},
     "output_type": "execute_result"
    }
   ],
   "source": [
    "(20*167 + 5*33) / 200"
   ]
  },
  {
   "cell_type": "code",
   "execution_count": 170,
   "id": "db467182-a7b3-4a1c-8b00-145be04150e6",
   "metadata": {},
   "outputs": [
    {
     "data": {
      "text/plain": [
       "0.11538461538461539"
      ]
     },
     "execution_count": 170,
     "metadata": {},
     "output_type": "execute_result"
    }
   ],
   "source": [
    "p = comb(20, 3) / comb(40, 3)\n",
    "p"
   ]
  },
  {
   "cell_type": "code",
   "execution_count": 171,
   "id": "42cffe65-0cb2-4e72-aac3-795de1249fa2",
   "metadata": {},
   "outputs": [
    {
     "data": {
      "text/plain": [
       "8.076923076923084"
      ]
     },
     "execution_count": 171,
     "metadata": {},
     "output_type": "execute_result"
    }
   ],
   "source": [
    "p*300 + (1-p) *-30"
   ]
  },
  {
   "cell_type": "code",
   "execution_count": 175,
   "id": "0af0f274-4a46-42d6-bb20-ba15ba562e27",
   "metadata": {},
   "outputs": [],
   "source": [
    "p = 1/2 * 19/39"
   ]
  },
  {
   "cell_type": "code",
   "execution_count": 176,
   "id": "c7ad5c3a-4f12-4b3f-b673-5bc951a96a39",
   "metadata": {},
   "outputs": [
    {
     "data": {
      "text/plain": [
       "21.410256410256412"
      ]
     },
     "execution_count": 176,
     "metadata": {},
     "output_type": "execute_result"
    }
   ],
   "source": [
    "p*150 + (1-p)* -20"
   ]
  },
  {
   "cell_type": "code",
   "execution_count": 178,
   "id": "c114c444-3abf-4ee8-be40-03065094d945",
   "metadata": {},
   "outputs": [
    {
     "data": {
      "text/plain": [
       "0.125"
      ]
     },
     "execution_count": 178,
     "metadata": {},
     "output_type": "execute_result"
    }
   ],
   "source": [
    "p=0.5**3\n",
    "p"
   ]
  },
  {
   "cell_type": "code",
   "execution_count": 180,
   "id": "f2c9ccee-0948-4cdd-a6e9-14e5d589e224",
   "metadata": {},
   "outputs": [
    {
     "data": {
      "text/plain": [
       "2850.0"
      ]
     },
     "execution_count": 180,
     "metadata": {},
     "output_type": "execute_result"
    }
   ],
   "source": [
    "5000*0.05 + 3000*0.2 + 8000*0.25"
   ]
  },
  {
   "cell_type": "code",
   "execution_count": 190,
   "id": "d9acf82a-e0a4-4986-9476-c9134c34a846",
   "metadata": {},
   "outputs": [
    {
     "data": {
      "text/plain": [
       "70.30023685642728"
      ]
     },
     "execution_count": 190,
     "metadata": {},
     "output_type": "execute_result"
    }
   ],
   "source": [
    "p, k = 0.3, 3\n",
    "k**p * 50 + (1-k**p) * -2"
   ]
  },
  {
   "cell_type": "code",
   "execution_count": 188,
   "id": "3ccf62b8-b65f-4775-8a53-1ec9293942b5",
   "metadata": {},
   "outputs": [
    {
     "data": {
      "text/plain": [
       "216.26318557749735"
      ]
     },
     "execution_count": 188,
     "metadata": {},
     "output_type": "execute_result"
    }
   ],
   "source": [
    "p, k = 0.8, 4\n",
    "k**p * 70 + (1-k**p) * -2"
   ]
  },
  {
   "cell_type": "code",
   "execution_count": 206,
   "id": "77ab4f09-670a-4977-b835-474e8d9b991b",
   "metadata": {},
   "outputs": [
    {
     "data": {
      "text/plain": [
       "0.026999999999999996"
      ]
     },
     "execution_count": 206,
     "metadata": {},
     "output_type": "execute_result"
    }
   ],
   "source": [
    "0.3**3"
   ]
  },
  {
   "cell_type": "code",
   "execution_count": 207,
   "id": "3ac8393e-3f56-497b-8c4e-954ae54a783d",
   "metadata": {},
   "outputs": [
    {
     "data": {
      "text/plain": [
       "-0.5960000000000001"
      ]
     },
     "execution_count": 207,
     "metadata": {},
     "output_type": "execute_result"
    }
   ],
   "source": [
    "0.3**3*50 + (1-0.3**3)*-2"
   ]
  },
  {
   "cell_type": "code",
   "execution_count": null,
   "id": "81494ee0-83ca-4080-910f-9ca7fbe235da",
   "metadata": {},
   "outputs": [],
   "source": []
  },
  {
   "cell_type": "code",
   "execution_count": 202,
   "id": "230bd8b0-91ce-4f10-8c21-86db74df5243",
   "metadata": {},
   "outputs": [
    {
     "data": {
      "text/plain": [
       "27.491200000000003"
      ]
     },
     "execution_count": 202,
     "metadata": {},
     "output_type": "execute_result"
    }
   ],
   "source": [
    "0.8**4*70 + (1-0.8**4)*-2"
   ]
  },
  {
   "cell_type": "code",
   "execution_count": 204,
   "id": "39ea5102-b67f-46ea-a0f5-7c716d23fb35",
   "metadata": {},
   "outputs": [
    {
     "data": {
      "text/plain": [
       "0.026999999999999996"
      ]
     },
     "execution_count": 204,
     "metadata": {},
     "output_type": "execute_result"
    }
   ],
   "source": [
    "0.3**3"
   ]
  },
  {
   "cell_type": "code",
   "execution_count": 208,
   "id": "a5347716-8152-45e9-970c-ff39c6ce2746",
   "metadata": {},
   "outputs": [
    {
     "data": {
      "text/plain": [
       "800.0"
      ]
     },
     "execution_count": 208,
     "metadata": {},
     "output_type": "execute_result"
    }
   ],
   "source": [
    "2000 * 0.1 + 4000 * 0.15"
   ]
  },
  {
   "cell_type": "code",
   "execution_count": 211,
   "id": "c330c7c7-51f8-4542-bf29-2cc53b2b54d6",
   "metadata": {},
   "outputs": [
    {
     "data": {
      "text/html": [
       "<div>\n",
       "<style scoped>\n",
       "    .dataframe tbody tr th:only-of-type {\n",
       "        vertical-align: middle;\n",
       "    }\n",
       "\n",
       "    .dataframe tbody tr th {\n",
       "        vertical-align: top;\n",
       "    }\n",
       "\n",
       "    .dataframe thead th {\n",
       "        text-align: right;\n",
       "    }\n",
       "</style>\n",
       "<table border=\"1\" class=\"dataframe\">\n",
       "  <thead>\n",
       "    <tr style=\"text-align: right;\">\n",
       "      <th></th>\n",
       "      <th>Type of virus</th>\n",
       "      <th>Cost of repair $</th>\n",
       "      <th>Probability</th>\n",
       "    </tr>\n",
       "  </thead>\n",
       "  <tbody>\n",
       "    <tr>\n",
       "      <th>0</th>\n",
       "      <td>Pikachu</td>\n",
       "      <td>200</td>\n",
       "      <td>0.25</td>\n",
       "    </tr>\n",
       "    <tr>\n",
       "      <th>1</th>\n",
       "      <td>Trojan</td>\n",
       "      <td>100</td>\n",
       "      <td>0.15</td>\n",
       "    </tr>\n",
       "    <tr>\n",
       "      <th>2</th>\n",
       "      <td>ADA</td>\n",
       "      <td>400</td>\n",
       "      <td>0.10</td>\n",
       "    </tr>\n",
       "  </tbody>\n",
       "</table>\n",
       "</div>"
      ],
      "text/plain": [
       "  Type of virus  Cost of repair $  Probability\n",
       "0       Pikachu               200         0.25\n",
       "1        Trojan               100         0.15\n",
       "2           ADA               400         0.10"
      ]
     },
     "execution_count": 211,
     "metadata": {},
     "output_type": "execute_result"
    }
   ],
   "source": [
    "df = pd.DataFrame({\n",
    "    \"Type of virus\": [\"Pikachu\", \"Trojan\", \"ADA\"], \n",
    "    \"Cost of repair $\": [200, 100, 400],\n",
    "    \"Probability\": [0.25, 0.15, 0.1]})\n",
    "\n",
    "df"
   ]
  },
  {
   "cell_type": "code",
   "execution_count": 213,
   "id": "a47d0c83-c431-45e6-8f6b-a018e3383546",
   "metadata": {},
   "outputs": [
    {
     "data": {
      "text/plain": [
       "140.0"
      ]
     },
     "execution_count": 213,
     "metadata": {},
     "output_type": "execute_result"
    }
   ],
   "source": [
    "400 * 0.1 + 100"
   ]
  },
  {
   "cell_type": "code",
   "execution_count": 212,
   "id": "63911c06-90ba-48d9-afa1-ce73a72d5ebe",
   "metadata": {},
   "outputs": [
    {
     "data": {
      "text/plain": [
       "105.0"
      ]
     },
     "execution_count": 212,
     "metadata": {},
     "output_type": "execute_result"
    }
   ],
   "source": [
    "np.sum(df[\"Cost of repair $\"] * df.Probability)"
   ]
  },
  {
   "cell_type": "code",
   "execution_count": 214,
   "id": "6158de58-0ad7-4aa4-9857-f84cc0f14722",
   "metadata": {},
   "outputs": [
    {
     "data": {
      "text/plain": [
       "121"
      ]
     },
     "execution_count": 214,
     "metadata": {},
     "output_type": "execute_result"
    }
   ],
   "source": [
    "48 + 73"
   ]
  },
  {
   "cell_type": "code",
   "execution_count": 215,
   "id": "2827ef54-e047-481d-8b3f-23981186e5ca",
   "metadata": {},
   "outputs": [
    {
     "data": {
      "text/plain": [
       "730"
      ]
     },
     "execution_count": 215,
     "metadata": {},
     "output_type": "execute_result"
    }
   ],
   "source": [
    "146*5"
   ]
  },
  {
   "cell_type": "code",
   "execution_count": 216,
   "id": "19b9b1d3-45f0-49d2-8940-db65a94e2ffe",
   "metadata": {},
   "outputs": [
    {
     "data": {
      "text/plain": [
       "605"
      ]
     },
     "execution_count": 216,
     "metadata": {},
     "output_type": "execute_result"
    }
   ],
   "source": [
    "121*5"
   ]
  },
  {
   "cell_type": "code",
   "execution_count": 218,
   "id": "19a40f12-22d6-414e-a035-49990e6de1b6",
   "metadata": {},
   "outputs": [],
   "source": [
    "k, n, p = 2, 4, 0.5\n",
    "p = binom.cdf(k, n, p)"
   ]
  },
  {
   "cell_type": "code",
   "execution_count": 219,
   "id": "83553430-fd7f-4f3a-8adb-195dcb4f884e",
   "metadata": {},
   "outputs": [
    {
     "data": {
      "text/plain": [
       "-0.25"
      ]
     },
     "execution_count": 219,
     "metadata": {},
     "output_type": "execute_result"
    }
   ],
   "source": [
    "p*1 + (1-p)*-3"
   ]
  },
  {
   "cell_type": "code",
   "execution_count": 220,
   "id": "c4e76f7f-6e9a-408e-ae89-99db02389993",
   "metadata": {},
   "outputs": [],
   "source": [
    "k, n, p = 5, 5, 0.5\n",
    "p = binom.pmf(k, n, p)"
   ]
  },
  {
   "cell_type": "code",
   "execution_count": 222,
   "id": "7f8e597e-c368-4630-a1a5-b1b632d676d8",
   "metadata": {},
   "outputs": [
    {
     "data": {
      "text/plain": [
       "-0.75"
      ]
     },
     "execution_count": 222,
     "metadata": {},
     "output_type": "execute_result"
    }
   ],
   "source": [
    "p*100 + (1-p)*-4"
   ]
  },
  {
   "cell_type": "code",
   "execution_count": 1,
   "id": "9b190f45-f249-4bba-912e-137740c8658a",
   "metadata": {},
   "outputs": [],
   "source": [
    "from utils.norm import norm_prop"
   ]
  },
  {
   "cell_type": "code",
   "execution_count": 2,
   "id": "115df540-482b-4843-88b1-d54db2d0758b",
   "metadata": {},
   "outputs": [
    {
     "ename": "TypeError",
     "evalue": "'module' object is not callable",
     "output_type": "error",
     "traceback": [
      "\u001b[0;31m---------------------------------------------------------------------------\u001b[0m",
      "\u001b[0;31mTypeError\u001b[0m                                 Traceback (most recent call last)",
      "\u001b[0;32m/var/folders/bn/xnw38wz5697c2m0cykr9528m0000gn/T/ipykernel_5435/1268577815.py\u001b[0m in \u001b[0;36m<module>\u001b[0;34m\u001b[0m\n\u001b[1;32m      1\u001b[0m \u001b[0;31m# Proportion above a value\u001b[0m\u001b[0;34m\u001b[0m\u001b[0;34m\u001b[0m\u001b[0m\n\u001b[1;32m      2\u001b[0m \u001b[0mdp\u001b[0m\u001b[0;34m,\u001b[0m \u001b[0mmu\u001b[0m\u001b[0;34m,\u001b[0m \u001b[0msd\u001b[0m \u001b[0;34m=\u001b[0m \u001b[0;36m30\u001b[0m\u001b[0;34m,\u001b[0m \u001b[0;36m26\u001b[0m\u001b[0;34m,\u001b[0m \u001b[0;36m2\u001b[0m\u001b[0;34m\u001b[0m\u001b[0;34m\u001b[0m\u001b[0m\n\u001b[0;32m----> 3\u001b[0;31m \u001b[0mp\u001b[0m \u001b[0;34m=\u001b[0m \u001b[0mnorm_prop\u001b[0m\u001b[0;34m(\u001b[0m\u001b[0mdp\u001b[0m\u001b[0;34m,\u001b[0m \u001b[0mmu\u001b[0m\u001b[0;34m,\u001b[0m \u001b[0msd\u001b[0m\u001b[0;34m,\u001b[0m \u001b[0;34m'below'\u001b[0m\u001b[0;34m)\u001b[0m\u001b[0;34m\u001b[0m\u001b[0;34m\u001b[0m\u001b[0m\n\u001b[0m\u001b[1;32m      4\u001b[0m \u001b[0mp\u001b[0m\u001b[0;34m\u001b[0m\u001b[0;34m\u001b[0m\u001b[0m\n",
      "\u001b[0;31mTypeError\u001b[0m: 'module' object is not callable"
     ]
    }
   ],
   "source": [
    "# Proportion above a value\n",
    "dp, mu, sd = 30, 26, 2\n",
    "p = norm_prop(dp, mu, sd, 'below')\n",
    "p"
   ]
  },
  {
   "cell_type": "code",
   "execution_count": 3,
   "id": "55a7e260-f431-4b31-910e-d91abbe0a172",
   "metadata": {},
   "outputs": [],
   "source": [
    "from scipy.stats import norm"
   ]
  },
  {
   "cell_type": "code",
   "execution_count": 5,
   "id": "6b0e9071-721c-4b6a-85c2-032eecec9462",
   "metadata": {},
   "outputs": [
    {
     "data": {
      "text/plain": [
       "0.9772498680518208"
      ]
     },
     "execution_count": 5,
     "metadata": {},
     "output_type": "execute_result"
    }
   ],
   "source": [
    "norm.cdf(30, 26, 2)"
   ]
  },
  {
   "cell_type": "code",
   "execution_count": 5,
   "id": "b9ea5473-ac6a-4941-8a62-785f8b35a850",
   "metadata": {},
   "outputs": [
    {
     "data": {
      "text/plain": [
       "function"
      ]
     },
     "execution_count": 5,
     "metadata": {},
     "output_type": "execute_result"
    }
   ],
   "source": [
    "from utils.src.stats import zscore\n",
    "type(zscore)"
   ]
  },
  {
   "cell_type": "code",
   "execution_count": 8,
   "id": "18790795-36b7-4063-9e66-fc4e53a798a6",
   "metadata": {},
   "outputs": [
    {
     "data": {
      "text/plain": [
       "1.0"
      ]
     },
     "execution_count": 8,
     "metadata": {},
     "output_type": "execute_result"
    }
   ],
   "source": [
    "zscore(1, 0, 1)"
   ]
  },
  {
   "cell_type": "code",
   "execution_count": 2,
   "id": "89254e63-0f4c-480f-aaab-60c2a5fee3e0",
   "metadata": {},
   "outputs": [
    {
     "data": {
      "text/plain": [
       "function"
      ]
     },
     "execution_count": 2,
     "metadata": {},
     "output_type": "execute_result"
    }
   ],
   "source": [
    "from utils.src.stats import norm_prop\n",
    "type(norm_prop)"
   ]
  },
  {
   "cell_type": "code",
   "execution_count": 15,
   "id": "425ba4d2-6905-4031-871d-613c106ebcd9",
   "metadata": {},
   "outputs": [
    {
     "data": {
      "text/plain": [
       "module"
      ]
     },
     "execution_count": 15,
     "metadata": {},
     "output_type": "execute_result"
    }
   ],
   "source": [
    "import utils.src.norm.norm_prop as norm_prop\n",
    "type(norm_prop)"
   ]
  },
  {
   "cell_type": "code",
   "execution_count": 44,
   "id": "220ff92e-588d-40c6-a4fe-f86ffe3f9aa6",
   "metadata": {},
   "outputs": [],
   "source": [
    "import numpy as np\n",
    "from utils.src.stats import zscore, norm_prop, norm_rv\n",
    "from scipy.stats import binom, norm, geom\n",
    "from scipy.special import comb"
   ]
  },
  {
   "cell_type": "code",
   "execution_count": 6,
   "id": "2a5f7796-f2e3-407c-a399-75e4ecd448b0",
   "metadata": {},
   "outputs": [
    {
     "data": {
      "text/plain": [
       "0.5"
      ]
     },
     "execution_count": 6,
     "metadata": {},
     "output_type": "execute_result"
    }
   ],
   "source": [
    "# Proportion above a value\n",
    "dp, mu, sd = 1, 1, 0.05\n",
    "precision = 2\n",
    "p = norm_prop(dp, mu, sd, 'below')\n",
    "p = round(p, precision)\n",
    "p"
   ]
  },
  {
   "cell_type": "code",
   "execution_count": 25,
   "id": "0a1c28af-cc4e-49de-9735-3ecf282f1ab9",
   "metadata": {},
   "outputs": [
    {
     "data": {
      "text/plain": [
       "0.3455999999999997"
      ]
     },
     "execution_count": 25,
     "metadata": {},
     "output_type": "execute_result"
    }
   ],
   "source": [
    "k, n, p = 3, 5, 0.6\n",
    "binom.pmf(k, n, p)"
   ]
  },
  {
   "cell_type": "code",
   "execution_count": 28,
   "id": "2ad3d97a-1a16-4dc7-bddf-3f1e729bbf16",
   "metadata": {},
   "outputs": [
    {
     "data": {
      "text/plain": [
       "0.3456"
      ]
     },
     "execution_count": 28,
     "metadata": {},
     "output_type": "execute_result"
    }
   ],
   "source": [
    "comb(5, 3) * 0.6**3 * 0.4**2"
   ]
  },
  {
   "cell_type": "code",
   "execution_count": 19,
   "id": "40deee4d-b075-4b31-93ee-0007f38c113f",
   "metadata": {},
   "outputs": [
    {
     "data": {
      "text/plain": [
       "4.5"
      ]
     },
     "execution_count": 19,
     "metadata": {},
     "output_type": "execute_result"
    }
   ],
   "source": [
    "n, p = 15, 0.3\n",
    "binom.mean(n, p)"
   ]
  },
  {
   "cell_type": "code",
   "execution_count": 20,
   "id": "229f8fdf-8dd6-4ec5-8e4a-7706a6e31478",
   "metadata": {},
   "outputs": [
    {
     "data": {
      "text/plain": [
       "1.7748239349298849"
      ]
     },
     "execution_count": 20,
     "metadata": {},
     "output_type": "execute_result"
    }
   ],
   "source": [
    "binom.std(n, p)"
   ]
  },
  {
   "cell_type": "code",
   "execution_count": 23,
   "id": "a73ee975-e21a-4e87-85ce-bd206657a70c",
   "metadata": {},
   "outputs": [],
   "source": [
    "arr = np.array([58, 213, 522])"
   ]
  },
  {
   "cell_type": "code",
   "execution_count": 24,
   "id": "65636c6c-09fd-4302-bb1a-41b274c4269a",
   "metadata": {},
   "outputs": [
    {
     "data": {
      "text/plain": [
       "array([0.07313997, 0.26860025, 0.65825977])"
      ]
     },
     "execution_count": 24,
     "metadata": {},
     "output_type": "execute_result"
    }
   ],
   "source": [
    "arr / arr.sum()"
   ]
  },
  {
   "cell_type": "code",
   "execution_count": 29,
   "id": "5a038ac6-3ca8-486e-9e1c-ff05f0f12e1c",
   "metadata": {},
   "outputs": [
    {
     "data": {
      "text/plain": [
       "148"
      ]
     },
     "execution_count": 29,
     "metadata": {},
     "output_type": "execute_result"
    }
   ],
   "source": [
    "4*33 + 2*8"
   ]
  },
  {
   "cell_type": "code",
   "execution_count": 52,
   "id": "3e486695-0d13-4303-9842-1d0dbec94f5c",
   "metadata": {},
   "outputs": [
    {
     "data": {
      "text/plain": [
       "0.8"
      ]
     },
     "execution_count": 52,
     "metadata": {},
     "output_type": "execute_result"
    }
   ],
   "source": [
    "0.16+0.128+0.512"
   ]
  },
  {
   "cell_type": "code",
   "execution_count": 63,
   "id": "c1627e38-8f15-4b40-a68e-384714171741",
   "metadata": {},
   "outputs": [
    {
     "data": {
      "text/plain": [
       "0.027"
      ]
     },
     "execution_count": 63,
     "metadata": {},
     "output_type": "execute_result"
    }
   ],
   "source": [
    "k, n, p = 1, 3, 0.9\n",
    "binom.pmf(k, n, p)"
   ]
  },
  {
   "cell_type": "code",
   "execution_count": 65,
   "id": "bd0b1793-ec30-47ed-8da9-92821e8e009d",
   "metadata": {},
   "outputs": [
    {
     "data": {
      "text/plain": [
       "0.17"
      ]
     },
     "execution_count": 65,
     "metadata": {},
     "output_type": "execute_result"
    }
   ],
   "source": [
    "n, p = 3, 0.06\n",
    "precision = 2\n",
    "cdf = geom.cdf(n, p)\n",
    "cdf = round(cdf, precision)\n",
    "cdf"
   ]
  },
  {
   "cell_type": "code",
   "execution_count": 62,
   "id": "361162db-59f3-4578-8fdf-a559ba8f12b5",
   "metadata": {},
   "outputs": [
    {
     "data": {
      "text/plain": [
       "0.04"
      ]
     },
     "execution_count": 62,
     "metadata": {},
     "output_type": "execute_result"
    }
   ],
   "source": [
    "n, p = 6, 0.06\n",
    "precision = 2\n",
    "pmf = geom.pmf(n, p)\n",
    "pmf = round(pmf, precision)\n",
    "pmf"
   ]
  },
  {
   "cell_type": "code",
   "execution_count": 72,
   "id": "6387a1bb-f438-457b-9f3f-64a65312df76",
   "metadata": {},
   "outputs": [
    {
     "data": {
      "text/plain": [
       "0.88"
      ]
     },
     "execution_count": 72,
     "metadata": {},
     "output_type": "execute_result"
    }
   ],
   "source": [
    "dp = 736\n",
    "mus = [175]*4\n",
    "sds = [15]*4\n",
    "method = 'T'\n",
    "area = 'above'\n",
    "p = round(1 - norm_rv(dp, mus, sds, method, area), 2)\n",
    "\n",
    "p"
   ]
  },
  {
   "cell_type": "code",
   "execution_count": 73,
   "id": "ccdd0cf6-8a08-407a-92d7-691a0d0c0950",
   "metadata": {},
   "outputs": [
    {
     "data": {
      "text/plain": [
       "\u001b[0;31mSignature:\u001b[0m \u001b[0mnorm_rv\u001b[0m\u001b[0;34m(\u001b[0m\u001b[0mdp\u001b[0m\u001b[0;34m,\u001b[0m \u001b[0mmus\u001b[0m\u001b[0;34m,\u001b[0m \u001b[0msds\u001b[0m\u001b[0;34m,\u001b[0m \u001b[0mmethod\u001b[0m\u001b[0;34m,\u001b[0m \u001b[0marea\u001b[0m\u001b[0;34m)\u001b[0m\u001b[0;34m\u001b[0m\u001b[0;34m\u001b[0m\u001b[0m\n",
       "\u001b[0;31mDocstring:\u001b[0m\n",
       "norm_rv calculates the combination of random variables then calling function norm_prop to return the proportion of a specific area based on dp.\n",
       "\n",
       "Args:\n",
       "    dp (float or array like): Data Point. float for area = 'below' or area = 'high'; array like (2 float) for area = 'between'.\n",
       "    mus (array like): Collection of means.\n",
       "    sds (array like): Collention of standard deviations.\n",
       "    method (str): One of 'T'(Total) or 'D'(Difference).\n",
       "    area (str, optional): The specific area ('below', 'above', or 'between') of the normal distribution based on dp. Defaults to 'below'.\n",
       "\n",
       "Raises:\n",
       "    ValueError: method must be one of 'T' or 'D'\n",
       "\n",
       "Returns:\n",
       "    float: The proportion of a specific area based on dp.\n",
       "\u001b[0;31mFile:\u001b[0m      ~/Git/Data Science Projects/statistics and probability/utils/src/_stats/norm/norm_rv.py\n",
       "\u001b[0;31mType:\u001b[0m      function\n"
      ]
     },
     "metadata": {},
     "output_type": "display_data"
    }
   ],
   "source": [
    "norm_rv?"
   ]
  },
  {
   "cell_type": "code",
   "execution_count": 69,
   "id": "6efd6722-0a46-42c2-971c-77c703e50da9",
   "metadata": {},
   "outputs": [
    {
     "data": {
      "text/plain": [
       "0.27425311775007355"
      ]
     },
     "execution_count": 69,
     "metadata": {},
     "output_type": "execute_result"
    }
   ],
   "source": [
    "dp, mu, sd = 736, 175*4, 15*4\n",
    "1 - norm.cdf(dp, mu, sd)"
   ]
  },
  {
   "cell_type": "code",
   "execution_count": 71,
   "id": "3f9c5575-e3da-4d2f-9155-03aa11efe20e",
   "metadata": {},
   "outputs": [
    {
     "data": {
      "text/plain": [
       "0.27425311775007355"
      ]
     },
     "execution_count": 71,
     "metadata": {},
     "output_type": "execute_result"
    }
   ],
   "source": [
    "norm_prop(dp, mu, sd, \"above\")"
   ]
  },
  {
   "cell_type": "code",
   "execution_count": 79,
   "id": "760cd1fe-8df7-4b2b-af70-2abec4c522b7",
   "metadata": {},
   "outputs": [
    {
     "data": {
      "text/plain": [
       "0.12"
      ]
     },
     "execution_count": 79,
     "metadata": {},
     "output_type": "execute_result"
    }
   ],
   "source": [
    "dp = 736\n",
    "mus = [175]*4\n",
    "sds = [15]*4\n",
    "method = 'T'\n",
    "area = 'above'\n",
    "p = round(norm_rv(dp, mus, sds, method, area), 2)\n",
    "\n",
    "p"
   ]
  },
  {
   "cell_type": "code",
   "execution_count": 76,
   "id": "f0816bb9-1a74-4a04-8b22-95517153286b",
   "metadata": {},
   "outputs": [
    {
     "data": {
      "text/plain": [
       "0.11"
      ]
     },
     "execution_count": 76,
     "metadata": {},
     "output_type": "execute_result"
    }
   ],
   "source": [
    "dp = 290\n",
    "mus = [65]*4\n",
    "sds = [12]*4\n",
    "method = 'T'\n",
    "area = 'above'\n",
    "p = round(norm_rv(dp, mus, sds, method, area), 2)\n",
    "\n",
    "p"
   ]
  },
  {
   "cell_type": "code",
   "execution_count": 80,
   "id": "5d1fbc54-8b37-473e-ae34-9f7490344b18",
   "metadata": {},
   "outputs": [
    {
     "data": {
      "text/plain": [
       "2390000"
      ]
     },
     "execution_count": 80,
     "metadata": {},
     "output_type": "execute_result"
    }
   ],
   "source": [
    "30000 * 19 + 40000 * 2 + 50000 * 6 + 60000 * 17 + 70000 * 6"
   ]
  },
  {
   "cell_type": "code",
   "execution_count": 81,
   "id": "5587ca97-9ac3-4419-bb92-20aa15895f82",
   "metadata": {},
   "outputs": [
    {
     "data": {
      "text/plain": [
       "47800.0"
      ]
     },
     "execution_count": 81,
     "metadata": {},
     "output_type": "execute_result"
    }
   ],
   "source": [
    "2390000 / 50"
   ]
  },
  {
   "cell_type": "code",
   "execution_count": 83,
   "id": "c39774be-aa49-42cb-834a-6c71611b514e",
   "metadata": {},
   "outputs": [
    {
     "data": {
      "text/plain": [
       "3346000.0"
      ]
     },
     "execution_count": 83,
     "metadata": {},
     "output_type": "execute_result"
    }
   ],
   "source": [
    "47800.0 * 70"
   ]
  },
  {
   "cell_type": "code",
   "execution_count": null,
   "id": "aaa70d4c-2e70-4364-8eb0-1f27474e1ab6",
   "metadata": {},
   "outputs": [],
   "source": []
  },
  {
   "cell_type": "code",
   "execution_count": 84,
   "id": "0c659473-cb9b-4057-a643-0d1353eca39f",
   "metadata": {},
   "outputs": [
    {
     "data": {
      "text/plain": [
       "49.5"
      ]
     },
     "execution_count": 84,
     "metadata": {},
     "output_type": "execute_result"
    }
   ],
   "source": [
    "50*0.99"
   ]
  },
  {
   "cell_type": "code",
   "execution_count": 85,
   "id": "0adfe1fb-1704-4a4f-92e8-4eaacd7574d4",
   "metadata": {},
   "outputs": [
    {
     "data": {
      "text/plain": [
       "0.14285714285714285"
      ]
     },
     "execution_count": 85,
     "metadata": {},
     "output_type": "execute_result"
    }
   ],
   "source": [
    "3/21"
   ]
  },
  {
   "cell_type": "code",
   "execution_count": 87,
   "id": "40881fa0-11d8-42e9-ac63-39269b6f96ae",
   "metadata": {},
   "outputs": [
    {
     "data": {
      "text/plain": [
       "5.02"
      ]
     },
     "execution_count": 87,
     "metadata": {},
     "output_type": "execute_result"
    }
   ],
   "source": [
    "0.12 + 3*0.42+7*0.52"
   ]
  },
  {
   "cell_type": "code",
   "execution_count": 88,
   "id": "140b907c-86e3-4e34-913d-0f98d43a3ac3",
   "metadata": {},
   "outputs": [
    {
     "data": {
      "text/plain": [
       "400.0"
      ]
     },
     "execution_count": 88,
     "metadata": {},
     "output_type": "execute_result"
    }
   ],
   "source": [
    "0.98 * -600 + 0.02 * (50000-600)"
   ]
  },
  {
   "cell_type": "code",
   "execution_count": 90,
   "id": "15ea2b6a-8907-4b06-a7fc-a732728a2518",
   "metadata": {},
   "outputs": [
    {
     "data": {
      "text/plain": [
       "3.27"
      ]
     },
     "execution_count": 90,
     "metadata": {},
     "output_type": "execute_result"
    }
   ],
   "source": [
    "0.09 + 0.03*2 +0.52*3 + 0.24*4 + 0.12 *5"
   ]
  },
  {
   "cell_type": "code",
   "execution_count": 92,
   "id": "ce374eea-df14-4746-9329-092fe523ef0d",
   "metadata": {},
   "outputs": [
    {
     "data": {
      "text/plain": [
       "-7.499999999999999"
      ]
     },
     "execution_count": 92,
     "metadata": {},
     "output_type": "execute_result"
    }
   ],
   "source": [
    "-10 * 0.995 + (500 - 10) * 0.005"
   ]
  },
  {
   "cell_type": "code",
   "execution_count": 97,
   "id": "68d2d698-b692-4a28-bd67-5c8f951d0bb1",
   "metadata": {},
   "outputs": [],
   "source": [
    "def rv_mean(X, P):\n",
    "    \"\"\"rv_mean calculates the expected value (also known as mean) of the random variable X.\n",
    "\n",
    "    Args:\n",
    "        X (array like): Random Variable X.\n",
    "        P (array like): The probability distribution of random variable X.\n",
    "\n",
    "    Returns:\n",
    "        float: The expected value (also known as mean) the random variable X.\n",
    "    \"\"\"\n",
    "    mu = np.average(a=X, weights=P)\n",
    "\n",
    "    return mu"
   ]
  },
  {
   "cell_type": "code",
   "execution_count": 98,
   "id": "618fc4e1-5135-4a72-81fb-f44e462f3e24",
   "metadata": {},
   "outputs": [],
   "source": [
    "def rv_std(X, P):\n",
    "    \"\"\"rv_std calculates the standard deviation of the random variable X.\n",
    "\n",
    "    Args:\n",
    "        X (array like): Random Variable X.\n",
    "        P (array like): The probability distribution of random variable X.\n",
    "\n",
    "    Returns:\n",
    "        float: The standard deviation of the random variable X.\n",
    "    \"\"\"\n",
    "    mu = rv_mean(X, P)\n",
    "    sd = np.sum((X - mu)**2 * P)**0.5\n",
    "\n",
    "    return sd"
   ]
  },
  {
   "cell_type": "code",
   "execution_count": 105,
   "id": "c10c6740-dffd-4c9c-80b1-662ed44a7a45",
   "metadata": {},
   "outputs": [],
   "source": [
    "X = np.array([60, -9940])\n",
    "P = np.array([.999, .001])"
   ]
  },
  {
   "cell_type": "code",
   "execution_count": 106,
   "id": "4198ebaf-5e0c-487e-8996-7711af4845f2",
   "metadata": {},
   "outputs": [
    {
     "data": {
      "text/plain": [
       "316.06961258558215"
      ]
     },
     "execution_count": 106,
     "metadata": {},
     "output_type": "execute_result"
    }
   ],
   "source": [
    "rv_std(X, P)"
   ]
  },
  {
   "cell_type": "code",
   "execution_count": 108,
   "id": "e611cd20-994f-4287-b23c-9cb296d40aa5",
   "metadata": {},
   "outputs": [
    {
     "data": {
      "text/plain": [
       "array([120., 210.])"
      ]
     },
     "execution_count": 108,
     "metadata": {},
     "output_type": "execute_result"
    }
   ],
   "source": [
    "k = np.array([3, 4])\n",
    "n = np.array([10, 10])\n",
    "comb(n, k, exact=False)"
   ]
  },
  {
   "cell_type": "code",
   "execution_count": 118,
   "id": "d45dfd35-6fce-4381-97f2-082794720fdc",
   "metadata": {},
   "outputs": [
    {
     "data": {
      "text/plain": [
       "array([10., 10.])"
      ]
     },
     "execution_count": 118,
     "metadata": {},
     "output_type": "execute_result"
    }
   ],
   "source": [
    "#k = np.array([3, 4])\n",
    "#n = np.array([10, 10])\n",
    "k = np.array([1, 1])\n",
    "n = np.array([10, 10])\n",
    "comb(n, k, exact=False)"
   ]
  },
  {
   "cell_type": "code",
   "execution_count": 120,
   "id": "f96f74ad-6833-4524-9376-38e156d73ece",
   "metadata": {},
   "outputs": [
    {
     "data": {
      "text/plain": [
       "array([[ 1.,  2.,  3.,  4.,  5.],\n",
       "       [ 6.,  7.,  8.,  9., 10.]])"
      ]
     },
     "execution_count": 120,
     "metadata": {},
     "output_type": "execute_result"
    }
   ],
   "source": [
    "n = [[1, 2, 3, 4, 5], [6, 7, 8, 9, 10]]\n",
    "k = 1\n",
    "comb(n, k)"
   ]
  },
  {
   "cell_type": "code",
   "execution_count": 173,
   "id": "6ab4121c-3c4b-4f24-8b5f-ca8ff943ff9f",
   "metadata": {},
   "outputs": [
    {
     "data": {
      "text/plain": [
       "10.0"
      ]
     },
     "execution_count": 173,
     "metadata": {},
     "output_type": "execute_result"
    }
   ],
   "source": [
    "comb(5, 2)"
   ]
  },
  {
   "cell_type": "code",
   "execution_count": null,
   "id": "bb04473e-4a6f-4516-9b29-feefd931951b",
   "metadata": {},
   "outputs": [],
   "source": []
  },
  {
   "cell_type": "code",
   "execution_count": 128,
   "id": "aa2645bc-e3b1-42a7-ae9e-b9e11f9da41a",
   "metadata": {},
   "outputs": [],
   "source": [
    "import itertools\n",
    "from itertools import product"
   ]
  },
  {
   "cell_type": "code",
   "execution_count": 174,
   "id": "94455850-78db-4426-92ca-1734427dbba6",
   "metadata": {},
   "outputs": [],
   "source": [
    "red = np.arange(1, 7)\n",
    "green = np.arange(1, 7)"
   ]
  },
  {
   "cell_type": "code",
   "execution_count": 175,
   "id": "22a1a262-5e4c-4d16-a320-77baea2ea1d4",
   "metadata": {},
   "outputs": [
    {
     "data": {
      "text/plain": [
       "array([[1, 1],\n",
       "       [1, 2],\n",
       "       [1, 3],\n",
       "       [1, 4],\n",
       "       [1, 5],\n",
       "       [1, 6],\n",
       "       [2, 1],\n",
       "       [2, 2],\n",
       "       [2, 3],\n",
       "       [2, 4],\n",
       "       [2, 5],\n",
       "       [2, 6],\n",
       "       [3, 1],\n",
       "       [3, 2],\n",
       "       [3, 3],\n",
       "       [3, 4],\n",
       "       [3, 5],\n",
       "       [3, 6],\n",
       "       [4, 1],\n",
       "       [4, 2],\n",
       "       [4, 3],\n",
       "       [4, 4],\n",
       "       [4, 5],\n",
       "       [4, 6],\n",
       "       [5, 1],\n",
       "       [5, 2],\n",
       "       [5, 3],\n",
       "       [5, 4],\n",
       "       [5, 5],\n",
       "       [5, 6],\n",
       "       [6, 1],\n",
       "       [6, 2],\n",
       "       [6, 3],\n",
       "       [6, 4],\n",
       "       [6, 5],\n",
       "       [6, 6]])"
      ]
     },
     "execution_count": 175,
     "metadata": {},
     "output_type": "execute_result"
    }
   ],
   "source": [
    "combs = np.array(list(product(red, green)))\n",
    "combs"
   ]
  },
  {
   "cell_type": "code",
   "execution_count": 176,
   "id": "6261b91c-e1be-410a-be48-84707974c663",
   "metadata": {},
   "outputs": [
    {
     "data": {
      "text/plain": [
       "36"
      ]
     },
     "execution_count": 176,
     "metadata": {},
     "output_type": "execute_result"
    }
   ],
   "source": [
    "len(combs)"
   ]
  },
  {
   "cell_type": "code",
   "execution_count": 177,
   "id": "829c228d-fdd6-48c9-9a54-2a3a6403b414",
   "metadata": {},
   "outputs": [
    {
     "name": "stdout",
     "output_type": "stream",
     "text": [
      "0.4166666666666667\n",
      "0.16666666666666666\n",
      "0.4166666666666667\n"
     ]
    }
   ],
   "source": [
    "p_more_than_12 = np.sum(np.sum(combs, axis=1) > 7) / len(combs)\n",
    "p_equal_to_12 = np.sum(np.sum(combs, axis=1) == 7) / len(combs)\n",
    "p_less_than_12 = np.sum(np.sum(combs, axis=1) < 7) / len(combs)\n",
    "print(p_more_than_12)\n",
    "print(p_equal_to_12)\n",
    "print(p_less_than_12)"
   ]
  },
  {
   "cell_type": "code",
   "execution_count": 181,
   "id": "8ac7b886-5d26-4a74-b860-b0397fa9742d",
   "metadata": {},
   "outputs": [
    {
     "data": {
      "text/plain": [
       "0.42"
      ]
     },
     "execution_count": 181,
     "metadata": {},
     "output_type": "execute_result"
    }
   ],
   "source": [
    "E = p_more_than_12 * 5 + p_equal_to_12 * 0 + p_less_than_12 * -4\n",
    "E = round(E, 2)\n",
    "E"
   ]
  },
  {
   "cell_type": "code",
   "execution_count": null,
   "id": "84fa37db-ea4e-4327-b764-ec41582168c5",
   "metadata": {},
   "outputs": [],
   "source": []
  }
 ],
 "metadata": {
  "kernelspec": {
   "display_name": "statistics-and-probability",
   "language": "python",
   "name": "statistics-and-probability"
  },
  "language_info": {
   "codemirror_mode": {
    "name": "ipython",
    "version": 3
   },
   "file_extension": ".py",
   "mimetype": "text/x-python",
   "name": "python",
   "nbconvert_exporter": "python",
   "pygments_lexer": "ipython3",
   "version": "3.9.10"
  }
 },
 "nbformat": 4,
 "nbformat_minor": 5
}
