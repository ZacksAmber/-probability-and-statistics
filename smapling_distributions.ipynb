{
 "cells": [
  {
   "cell_type": "code",
   "execution_count": 1,
   "id": "efea1d76-d4a8-483f-83e9-aeda09d589ba",
   "metadata": {},
   "outputs": [],
   "source": [
    "import numpy as np\n",
    "import pandas as pd\n",
    "import matplotlib.pyplot as plt\n",
    "import seaborn as sns\n",
    "import scipy.stats as stats\n",
    "%matplotlib inline\n",
    "\n",
    "from scipy.special import perm, comb\n",
    "from statistics import NormalDist\n",
    "from itertools import permutations, combinations\n",
    "from fractions import Fraction\n",
    "from IPython.display import display, Latex"
   ]
  },
  {
   "cell_type": "markdown",
   "id": "0df1cf60-60e7-4e1e-b6f0-2459d8b04412",
   "metadata": {},
   "source": [
    "# Reference\n",
    "\n",
    "> [Unit: Sampling Distribution](https://www.khanacademy.org/math/statistics-probability/sampling-distributions-library)"
   ]
  },
  {
   "cell_type": "markdown",
   "id": "ee675d60-7394-4c36-9238-9291589f8d60",
   "metadata": {
    "tags": []
   },
   "source": [
    "---\n",
    "\n",
    "# What is a sampling distribution?"
   ]
  },
  {
   "cell_type": "markdown",
   "id": "fc86d213-058a-4482-ac5a-290acdad39b0",
   "metadata": {},
   "source": [
    "---\n",
    "\n",
    "## Introduction of sampling distribution\n",
    "\n",
    "The **sampling distribution** of a statistic is the [distribution](https://en.wikipedia.org/wiki/Probability_distribution \"Probability distribution\") of that statistic, considered as a [random variable](https://en.wikipedia.org/wiki/Random_variable \"Random variable\"), when derived from a [random sample](https://en.wikipedia.org/wiki/Random_sample \"Random sample\") of size $\\displaystyle n$. It may be considered as the distribution of the statistic for _all possible samples from the same population_ of a given sample size. The sampling distribution depends on the underlying [distribution](https://en.wikipedia.org/wiki/Probability_distribution \"Probability distribution\") of the population, the statistic being considered, the sampling procedure employed, and the sample size used."
   ]
  },
  {
   "cell_type": "code",
   "execution_count": 2,
   "id": "390d2a25-5799-4747-b9fe-0775270c813d",
   "metadata": {},
   "outputs": [
    {
     "data": {
      "text/plain": [
       "2.0"
      ]
     },
     "execution_count": 2,
     "metadata": {},
     "output_type": "execute_result"
    }
   ],
   "source": [
    "# Assume there are three elements 1, 2, 3 in a population\n",
    "population = [1, 2, 3]\n",
    "population_mean = np.mean(population)\n",
    "population_mean"
   ]
  },
  {
   "cell_type": "code",
   "execution_count": 3,
   "id": "589baa53-b9da-4fc1-8414-c14644d0db77",
   "metadata": {},
   "outputs": [
    {
     "data": {
      "text/html": [
       "<div>\n",
       "<style scoped>\n",
       "    .dataframe tbody tr th:only-of-type {\n",
       "        vertical-align: middle;\n",
       "    }\n",
       "\n",
       "    .dataframe tbody tr th {\n",
       "        vertical-align: top;\n",
       "    }\n",
       "\n",
       "    .dataframe thead th {\n",
       "        text-align: right;\n",
       "    }\n",
       "</style>\n",
       "<table border=\"1\" class=\"dataframe\">\n",
       "  <thead>\n",
       "    <tr style=\"text-align: right;\">\n",
       "      <th></th>\n",
       "      <th>pick_1</th>\n",
       "      <th>pick_2</th>\n",
       "    </tr>\n",
       "  </thead>\n",
       "  <tbody>\n",
       "    <tr>\n",
       "      <th>0</th>\n",
       "      <td>1</td>\n",
       "      <td>2</td>\n",
       "    </tr>\n",
       "    <tr>\n",
       "      <th>1</th>\n",
       "      <td>1</td>\n",
       "      <td>3</td>\n",
       "    </tr>\n",
       "    <tr>\n",
       "      <th>2</th>\n",
       "      <td>1</td>\n",
       "      <td>1</td>\n",
       "    </tr>\n",
       "    <tr>\n",
       "      <th>3</th>\n",
       "      <td>1</td>\n",
       "      <td>2</td>\n",
       "    </tr>\n",
       "    <tr>\n",
       "      <th>4</th>\n",
       "      <td>1</td>\n",
       "      <td>3</td>\n",
       "    </tr>\n",
       "    <tr>\n",
       "      <th>5</th>\n",
       "      <td>2</td>\n",
       "      <td>3</td>\n",
       "    </tr>\n",
       "    <tr>\n",
       "      <th>6</th>\n",
       "      <td>2</td>\n",
       "      <td>1</td>\n",
       "    </tr>\n",
       "    <tr>\n",
       "      <th>7</th>\n",
       "      <td>2</td>\n",
       "      <td>2</td>\n",
       "    </tr>\n",
       "    <tr>\n",
       "      <th>8</th>\n",
       "      <td>2</td>\n",
       "      <td>3</td>\n",
       "    </tr>\n",
       "    <tr>\n",
       "      <th>9</th>\n",
       "      <td>3</td>\n",
       "      <td>1</td>\n",
       "    </tr>\n",
       "    <tr>\n",
       "      <th>10</th>\n",
       "      <td>3</td>\n",
       "      <td>2</td>\n",
       "    </tr>\n",
       "    <tr>\n",
       "      <th>11</th>\n",
       "      <td>3</td>\n",
       "      <td>3</td>\n",
       "    </tr>\n",
       "    <tr>\n",
       "      <th>12</th>\n",
       "      <td>1</td>\n",
       "      <td>2</td>\n",
       "    </tr>\n",
       "    <tr>\n",
       "      <th>13</th>\n",
       "      <td>1</td>\n",
       "      <td>3</td>\n",
       "    </tr>\n",
       "    <tr>\n",
       "      <th>14</th>\n",
       "      <td>2</td>\n",
       "      <td>3</td>\n",
       "    </tr>\n",
       "  </tbody>\n",
       "</table>\n",
       "</div>"
      ],
      "text/plain": [
       "    pick_1  pick_2\n",
       "0        1       2\n",
       "1        1       3\n",
       "2        1       1\n",
       "3        1       2\n",
       "4        1       3\n",
       "5        2       3\n",
       "6        2       1\n",
       "7        2       2\n",
       "8        2       3\n",
       "9        3       1\n",
       "10       3       2\n",
       "11       3       3\n",
       "12       1       2\n",
       "13       1       3\n",
       "14       2       3"
      ]
     },
     "execution_count": 3,
     "metadata": {},
     "output_type": "execute_result"
    }
   ],
   "source": [
    "# if we randomly pick two elements with replacement from the population,\n",
    "# the sample space S is shown as below\n",
    "S = list(combinations(population + population, 2))\n",
    "S = pd.DataFrame(S, columns=['pick_1', 'pick_2'])\n",
    "S"
   ]
  },
  {
   "cell_type": "code",
   "execution_count": 4,
   "id": "5b8c7c4a-d2a1-43d6-afab-6ad48afef25c",
   "metadata": {},
   "outputs": [
    {
     "data": {
      "text/html": [
       "<div>\n",
       "<style scoped>\n",
       "    .dataframe tbody tr th:only-of-type {\n",
       "        vertical-align: middle;\n",
       "    }\n",
       "\n",
       "    .dataframe tbody tr th {\n",
       "        vertical-align: top;\n",
       "    }\n",
       "\n",
       "    .dataframe thead th {\n",
       "        text-align: right;\n",
       "    }\n",
       "</style>\n",
       "<table border=\"1\" class=\"dataframe\">\n",
       "  <thead>\n",
       "    <tr style=\"text-align: right;\">\n",
       "      <th></th>\n",
       "      <th>pick_1</th>\n",
       "      <th>pick_2</th>\n",
       "      <th>sample mean</th>\n",
       "    </tr>\n",
       "  </thead>\n",
       "  <tbody>\n",
       "    <tr>\n",
       "      <th>0</th>\n",
       "      <td>1</td>\n",
       "      <td>2</td>\n",
       "      <td>1.5</td>\n",
       "    </tr>\n",
       "    <tr>\n",
       "      <th>1</th>\n",
       "      <td>1</td>\n",
       "      <td>3</td>\n",
       "      <td>2.0</td>\n",
       "    </tr>\n",
       "    <tr>\n",
       "      <th>2</th>\n",
       "      <td>1</td>\n",
       "      <td>1</td>\n",
       "      <td>1.0</td>\n",
       "    </tr>\n",
       "    <tr>\n",
       "      <th>3</th>\n",
       "      <td>1</td>\n",
       "      <td>2</td>\n",
       "      <td>1.5</td>\n",
       "    </tr>\n",
       "    <tr>\n",
       "      <th>4</th>\n",
       "      <td>1</td>\n",
       "      <td>3</td>\n",
       "      <td>2.0</td>\n",
       "    </tr>\n",
       "    <tr>\n",
       "      <th>5</th>\n",
       "      <td>2</td>\n",
       "      <td>3</td>\n",
       "      <td>2.5</td>\n",
       "    </tr>\n",
       "    <tr>\n",
       "      <th>6</th>\n",
       "      <td>2</td>\n",
       "      <td>1</td>\n",
       "      <td>1.5</td>\n",
       "    </tr>\n",
       "    <tr>\n",
       "      <th>7</th>\n",
       "      <td>2</td>\n",
       "      <td>2</td>\n",
       "      <td>2.0</td>\n",
       "    </tr>\n",
       "    <tr>\n",
       "      <th>8</th>\n",
       "      <td>2</td>\n",
       "      <td>3</td>\n",
       "      <td>2.5</td>\n",
       "    </tr>\n",
       "    <tr>\n",
       "      <th>9</th>\n",
       "      <td>3</td>\n",
       "      <td>1</td>\n",
       "      <td>2.0</td>\n",
       "    </tr>\n",
       "    <tr>\n",
       "      <th>10</th>\n",
       "      <td>3</td>\n",
       "      <td>2</td>\n",
       "      <td>2.5</td>\n",
       "    </tr>\n",
       "    <tr>\n",
       "      <th>11</th>\n",
       "      <td>3</td>\n",
       "      <td>3</td>\n",
       "      <td>3.0</td>\n",
       "    </tr>\n",
       "    <tr>\n",
       "      <th>12</th>\n",
       "      <td>1</td>\n",
       "      <td>2</td>\n",
       "      <td>1.5</td>\n",
       "    </tr>\n",
       "    <tr>\n",
       "      <th>13</th>\n",
       "      <td>1</td>\n",
       "      <td>3</td>\n",
       "      <td>2.0</td>\n",
       "    </tr>\n",
       "    <tr>\n",
       "      <th>14</th>\n",
       "      <td>2</td>\n",
       "      <td>3</td>\n",
       "      <td>2.5</td>\n",
       "    </tr>\n",
       "  </tbody>\n",
       "</table>\n",
       "</div>"
      ],
      "text/plain": [
       "    pick_1  pick_2  sample mean\n",
       "0        1       2          1.5\n",
       "1        1       3          2.0\n",
       "2        1       1          1.0\n",
       "3        1       2          1.5\n",
       "4        1       3          2.0\n",
       "5        2       3          2.5\n",
       "6        2       1          1.5\n",
       "7        2       2          2.0\n",
       "8        2       3          2.5\n",
       "9        3       1          2.0\n",
       "10       3       2          2.5\n",
       "11       3       3          3.0\n",
       "12       1       2          1.5\n",
       "13       1       3          2.0\n",
       "14       2       3          2.5"
      ]
     },
     "execution_count": 4,
     "metadata": {},
     "output_type": "execute_result"
    }
   ],
   "source": [
    "# The sample mean is\n",
    "S['sample mean'] = S.mean(axis=1)\n",
    "S"
   ]
  },
  {
   "cell_type": "code",
   "execution_count": 5,
   "id": "a37cd1cc-47e9-43b6-ad5c-d771f45cada2",
   "metadata": {},
   "outputs": [
    {
     "data": {
      "text/plain": [
       "2.0    5\n",
       "1.5    4\n",
       "2.5    4\n",
       "1.0    1\n",
       "3.0    1\n",
       "Name: sample mean, dtype: int64"
      ]
     },
     "execution_count": 5,
     "metadata": {},
     "output_type": "execute_result"
    }
   ],
   "source": [
    "S['sample mean'].value_counts()"
   ]
  },
  {
   "cell_type": "code",
   "execution_count": 6,
   "id": "8c60796b-766b-4637-bd61-100f9ddc7cd1",
   "metadata": {},
   "outputs": [
    {
     "data": {
      "image/png": "[encoded data removed]",
      "text/plain": [
       "<Figure size 640x480 with 1 Axes>"
      ]
     },
     "metadata": {},
     "output_type": "display_data"
    }
   ],
   "source": [
    "sns.kdeplot(x=S['sample mean']);"
   ]
  },
  {
   "cell_type": "code",
   "execution_count": 7,
   "id": "868ffe15-e64a-45c2-8cda-6b1907f63484",
   "metadata": {},
   "outputs": [
    {
     "data": {
      "image/png": "[encoded data removed]",
      "text/plain": [
       "<Figure size 640x480 with 1 Axes>"
      ]
     },
     "metadata": {},
     "output_type": "display_data"
    }
   ],
   "source": [
    "sns.histplot(x=S['sample mean'], legend=False);"
   ]
  },
  {
   "cell_type": "markdown",
   "id": "b1e604ac-aa00-4196-b2ef-17b927ff625d",
   "metadata": {
    "tags": []
   },
   "source": [
    "---\n",
    "\n",
    "## Sampling distribution of normal distribution\n",
    "\n",
    "For example, consider a [normal](https://en.wikipedia.org/wiki/Normal_distribution \"Normal distribution\") population with mean $\\displaystyle \\mu$ and variance $\\displaystyle \\sigma^2$. Assume we repeatedly take samples of a given size $n$ from this population and calculate the [arithmetic mean](https://en.wikipedia.org/wiki/Arithmetic_mean \"Arithmetic mean\") $\\displaystyle \\bar x$ for each sample – this statistic is called the [sample mean](https://en.wikipedia.org/wiki/Sample_mean \"Sample mean\"). The distribution of these means, or averages, is called the \"sampling distribution of the sample mean\". This distribution is normal $\\displaystyle {\\mathcal {N}}(\\mu ,\\sigma ^{2}/n)$ ($n$ is the sample size) since the underlying population is normal, although sampling distributions may also often be close to normal even when the population distribution is not (see [central limit theorem](https://en.wikipedia.org/wiki/Central_limit_theorem \"Central limit theorem\")). An alternative to the sample mean is the sample [median](https://en.wikipedia.org/wiki/Median \"Median\"). When calculated from the same population, it has a different sampling distribution to that of the mean and is generally not normal (but it may be close for large sample sizes)."
   ]
  },
  {
   "cell_type": "markdown",
   "id": "37cb4cd3-168b-4064-a5b2-2b6f0b9b67c2",
   "metadata": {},
   "source": [
    "---\n",
    "\n",
    "## Biased and unbiased esitmators\n",
    "\n",
    "A statistic is an unbiased estimator of a parameter when the mean of its sampling distribution is equal to value of the parameter. In other words, a statistic is unbiased when, on average, it equals the value of the population parameter which it is estimating."
   ]
  },
  {
   "cell_type": "markdown",
   "id": "0aae5680-3381-4483-898a-830c620a4651",
   "metadata": {},
   "source": [
    "---\n",
    "\n",
    "### Example 1\n",
    "\n",
    "The dotplots below show an approximation to the sampling distribution for three different estimators of the same population parameter.\n",
    "\n",
    "![](https://raw.githubusercontent.com/ZacksAmber/PicGo/master/img/20220411193255.png)\n",
    "\n",
    "**If the actual value of the population parameter is $2$, which dotplot displays the estimator with both high bias and low variability?**"
   ]
  },
  {
   "cell_type": "markdown",
   "id": "8ab213a5-218c-4eff-b548-879bcc122ac2",
   "metadata": {},
   "source": [
    "Statistic C"
   ]
  },
  {
   "cell_type": "markdown",
   "id": "50dab129-34bd-47c6-843f-6f7199ba5645",
   "metadata": {},
   "source": [
    "---\n",
    "\n",
    "### Example 2\n",
    "\n",
    "The dotplots below show an approximation to the sampling distribution for three different estimators of the same population parameter.\n",
    "\n",
    "![](https://raw.githubusercontent.com/ZacksAmber/PicGo/master/img/20220411204240.png)\n",
    "\n",
    "**If the actual value of the population parameter is $2$, which dotplot displays the estimator with low bias and high variability?**"
   ]
  },
  {
   "cell_type": "markdown",
   "id": "cbf3903e-2e30-4ffa-a477-a12634340a19",
   "metadata": {},
   "source": [
    "Statistic B"
   ]
  },
  {
   "cell_type": "markdown",
   "id": "96ba074f-9acd-4421-adae-d0c069ab5c8f",
   "metadata": {},
   "source": [
    "---\n",
    "\n",
    "# Sampling distribution of a sample proportion\n",
    "\n",
    "> [Sample Distribution of a Sample Proportion Example](https://www.khanacademy.org/math/statistics-probability/sampling-distributions-library/sample-proportions/a/sampling-distribution-sample-proportion-example)\n",
    "\n",
    "- Population mean: $\\displaystyle \\mu$\n",
    "- Population variance: $\\displaystyle \\sigma^2 = pq$\n",
    "- The sampling distribution of a sample proportion: $\\hat p$\n",
    "- Sample size: $\\displaystyle n$\n",
    "- The mean of sample proportion: $\\displaystyle \\mu_{\\hat p} = p$\n",
    "- Sample standard deviation (standard error): $\\displaystyle \\sigma_{\\hat p} = \\sqrt{\\frac{\\sigma^{2}}{n}} = \\frac{\\sigma}{\\sqrt{n}}$\n",
    "\n",
    "Note: For this standard deviation formula to be accurate, our sample size needs to be $10\\%$ or less of the population so we can assume independence."
   ]
  },
  {
   "cell_type": "markdown",
   "id": "637cb254-4ce0-4eaf-b001-dfc23c0a2e6f",
   "metadata": {},
   "source": [
    "---\n",
    "\n",
    "## The normal condition for sample proportions\n",
    "\n",
    "Rule of thumb: if the following conditions exist, the sampling distribution of the sample proportion is approximately normal.\n",
    "\n",
    "Condition:\n",
    "- $np \\geq 10$ and $nq \\geq 10$\n",
    "\n",
    "What if condition is failed:\n",
    "- If $np < 10$, the shape of the sampling distribution is skewed to right.\n",
    "- If $nq < 10$, the shape of the sampling distribution is skewed to left."
   ]
  },
  {
   "cell_type": "markdown",
   "id": "c45217b6-cd12-497f-9e95-851181beadf9",
   "metadata": {},
   "source": [
    "---\n",
    "\n",
    "### Example 1\n",
    "\n",
    "A quality control inspector routinely takes random samples of $200$ cans of fruit cocktail produced in a packing plant and calculates the proportion $\\hat p$ of cans from each sample with at least $3$ cherries. Suppose that $98\\%$ of fruit cocktail cans produced in that packing plant contain at least $3$ cherries.\n",
    "\n",
    "**Which of the following distributions is the best approximation of the sampling distribution of $\\hat p$?**  \n",
    "_Each distribution uses the same scale._"
   ]
  },
  {
   "cell_type": "code",
   "execution_count": 8,
   "id": "950140e5-fd16-4542-a57a-a0758725a3f7",
   "metadata": {},
   "outputs": [
    {
     "name": "stdout",
     "output_type": "stream",
     "text": [
      "196.0\n",
      "4\n"
     ]
    }
   ],
   "source": [
    "n, p = 200, 0.98\n",
    "print(n * p)\n",
    "print(round(n * (1 - p)))"
   ]
  },
  {
   "cell_type": "markdown",
   "id": "983f95f8-b891-4bc7-b680-9267152c8eff",
   "metadata": {},
   "source": [
    "- Expected successes: $np = 196 \\geq 10$\n",
    "- Expected failures: $n(1-p) = 4 \\leq 10$\n",
    "\n",
    "Since we only expect $4$ cans with fewer than $3$ cherries in the sample, which is less than $10$ cans, the sample proportions will not be normally distributed.\n",
    "\n",
    "Since the probability of getting a can with at least $3$ cherries is relatively high, we expect a large percentage of most of the samples to have at least $3$ cherries. Some samples however could have a relatively lower percentage of cans with at least $3$ cherries.\n",
    "\n",
    "So the proportion of $\\hat p$ will be high in most samples and skewed toward the lower proportions.\n",
    "\n",
    "![](https://raw.githubusercontent.com/ZacksAmber/PicGo/master/img/20220411233805.png)"
   ]
  },
  {
   "cell_type": "markdown",
   "id": "2dffbaf5-b997-487b-b4b3-aa4e862e1332",
   "metadata": {},
   "source": [
    "---\n",
    "\n",
    "## Mean and standard deviation of sample proportions\n",
    "\n",
    "- Population mean: $\\displaystyle \\mu = np$\n",
    "- Population variance: $\\displaystyle \\sigma^2 = npq$\n",
    "- The sampling distribution of a sample proportion: $\\hat p$\n",
    "- Sample size: $\\displaystyle n$\n",
    "- The mean of sample proportion: $\\displaystyle \\mu_{\\hat p} = \\frac{\\mu}{n} \\Rightarrow \\frac{np}{n} = p$\n",
    "- Standard deviation of $\\hat p$: $\\displaystyle \\sigma_{\\hat p} = \\frac{\\sigma}{n} \\Rightarrow \\frac{\\sqrt{npq}}{n} = \\sqrt{\\frac{pq}{n}}$\n",
    "- Standard error of $\\hat p$: $\\displaystyle \\sigma_{\\hat p} \\approx \\frac{\\sigma}{n} \\Rightarrow \\frac{\\sqrt{n \\hat pq}}{n} = \\sqrt{\\frac{\\hat p q}{n}}$\n",
    "\n",
    "Note: For this standard deviation formula to be accurate, our sample size needs to be $10\\%$ or less of the population so we can assume independence."
   ]
  },
  {
   "cell_type": "markdown",
   "id": "b6a6200a-dbaf-4307-9a9d-6b97f8565b38",
   "metadata": {},
   "source": [
    "---\n",
    "\n",
    "### Example 1\n",
    "\n",
    "A group of science students plans to take an SRS (simple random sample) of $25$ days in the year to see what proportion of days sampled have a low below $0 ^\\circ\\text{C}$ in a particular city. Suppose that $41\\%$ of days in the city have a low temperature below $0 ^\\circ\\text{C}$.\n",
    "\n",
    "Let $\\hat p$ represent the proportion of a sample of $25$ days with a low temperature below $0 ^\\circ\\text{C}$.\n",
    "\n",
    "**What are the mean and standard deviation of the sampling distribution of $\\hat p$**"
   ]
  },
  {
   "cell_type": "code",
   "execution_count": 9,
   "id": "43609df1-a588-4ebe-ac20-88da9e833735",
   "metadata": {},
   "outputs": [
    {
     "name": "stdout",
     "output_type": "stream",
     "text": [
      "True\n",
      "True\n"
     ]
    }
   ],
   "source": [
    "n, p = 25, 0.41\n",
    "precision = 2\n",
    "\n",
    "# check is the sampling distribution approximate normal\n",
    "print(n * p >= 10)\n",
    "print(n * (1 - p) >= 10)"
   ]
  },
  {
   "cell_type": "code",
   "execution_count": 10,
   "id": "f86c8898-b364-4f87-90cb-6473ece9f0c6",
   "metadata": {},
   "outputs": [
    {
     "data": {
      "text/latex": [
       "$\\displaystyle \\mu_{\\hat p} = $$0.41$"
      ],
      "text/plain": [
       "<IPython.core.display.Latex object>"
      ]
     },
     "metadata": {},
     "output_type": "display_data"
    },
    {
     "data": {
      "text/latex": [
       "$\\displaystyle \\sigma_{\\hat p} = $$0.1$"
      ],
      "text/plain": [
       "<IPython.core.display.Latex object>"
      ]
     },
     "metadata": {},
     "output_type": "display_data"
    }
   ],
   "source": [
    "SE = stats.bernoulli.std(p) / np.sqrt(n)\n",
    "\n",
    "display(Latex(\"$\\displaystyle \\mu_{\\hat p} = $\" + f\"${p}$\"))\n",
    "display(Latex(\"$\\displaystyle \\sigma_{\\hat p} = $\" + f\"${round(SE, precision)}$\"))"
   ]
  },
  {
   "cell_type": "markdown",
   "id": "b768b797-81c8-40dd-8fd2-0e0e0660049c",
   "metadata": {
    "tags": []
   },
   "source": [
    "---\n",
    "\n",
    "### Example 2\n",
    "\n",
    "The manager of a customer support center takes an SRS of $40$ reported issues and finds that $22\\%$ of the sampled issues required more than one call to resolve. The manager may take an SRS like this each month. Suppose that it is really an average of $25\\%$ of the approximately $1000$ issues reported per month that require more than one call.\n",
    "\n",
    "Let $\\hat p$ represent the proportion of a sample of $40$ reported issues that require more than one call to resolve.\n",
    "\n",
    "**What are the mean and standard deviation of the sampling distribution of $\\hat p$?**"
   ]
  },
  {
   "cell_type": "markdown",
   "id": "1e2df33d-86c0-4f42-8dd8-aa10176a6088",
   "metadata": {},
   "source": [
    "- $\\displaystyle \\mu_{\\hat p} = p = 25\\%$\n",
    "- $\\displaystyle \\mu_{\\sigma_{\\hat p}} = \\sqrt{\\frac{0.25 \\cdot 0.75}{40}}$"
   ]
  },
  {
   "cell_type": "markdown",
   "id": "ec0c6d72-61f1-462b-bb75-008fdf159000",
   "metadata": {},
   "source": [
    "---\n",
    "\n",
    "## Finding probabilities with sample proportions\n",
    "\n",
    "If the sampling distribution is approximately normal, we can calculate the probability of the certain events by CDF(Cumulative distribution function) of normal distribution."
   ]
  },
  {
   "cell_type": "markdown",
   "id": "05c24090-8646-444b-88fd-adf77e58214e",
   "metadata": {},
   "source": [
    "---\n",
    "\n",
    "### Example 1\n",
    "\n",
    "Suppose that $15\\%$ of the $1750$ students at a school have experienced extreme levels of stress during the past month. A high school newspaper doesn't know this figure, but they are curious what it is, so they decide to ask a simple random sample of $160$ students if they have experienced extreme levels of stress during the past month. Subsequently, they find that $10\\%$ of the sample replied “yes” to the question.\n",
    "\n",
    "**Assuming the true proportion is $15\\%$, what is the approximate probability that more than $10\\%$ of the sample would report that they experienced extreme levels of stress during the past month?**"
   ]
  },
  {
   "cell_type": "code",
   "execution_count": 11,
   "id": "a92fa3d9-64e4-4034-9653-83ca3ddee420",
   "metadata": {},
   "outputs": [
    {
     "name": "stdout",
     "output_type": "stream",
     "text": [
      "True\n",
      "True\n"
     ]
    }
   ],
   "source": [
    "n, p = 160, 0.15\n",
    "precision = 2\n",
    "\n",
    "# check is the sampling distribution approximately normal\n",
    "print(n * p >= 10)\n",
    "print(n * (1 - p) >= 10)"
   ]
  },
  {
   "cell_type": "code",
   "execution_count": 12,
   "id": "a165125d-f37f-4ca5-a709-7c131166ba35",
   "metadata": {},
   "outputs": [
    {
     "data": {
      "text/latex": [
       "$\\displaystyle \\mu_{\\hat p} = $$0.15$"
      ],
      "text/plain": [
       "<IPython.core.display.Latex object>"
      ]
     },
     "metadata": {},
     "output_type": "display_data"
    },
    {
     "data": {
      "text/latex": [
       "$\\displaystyle \\sigma_{\\hat p} = $$0.03$"
      ],
      "text/plain": [
       "<IPython.core.display.Latex object>"
      ]
     },
     "metadata": {},
     "output_type": "display_data"
    }
   ],
   "source": [
    "SE = stats.bernoulli.std(p) / np.sqrt(n)\n",
    "\n",
    "display(Latex(\"$\\displaystyle \\mu_{\\hat p} = $\" + f\"${p}$\"))\n",
    "display(Latex(\"$\\displaystyle \\sigma_{\\hat p} = $\" + f\"${round(SE, precision)}$\"))"
   ]
  },
  {
   "cell_type": "code",
   "execution_count": 13,
   "id": "e2b2b2c3-689a-4245-8105-66cf075c54c1",
   "metadata": {},
   "outputs": [
    {
     "data": {
      "text/latex": [
       "$P(\\hat p > 0.1) = 0.96$"
      ],
      "text/plain": [
       "<IPython.core.display.Latex object>"
      ]
     },
     "metadata": {},
     "output_type": "display_data"
    }
   ],
   "source": [
    "# probability above a value\n",
    "dp = 0.1\n",
    "prob = stats.norm(loc=p, scale=SE).sf(dp)\n",
    "prob = round(prob, precision)\n",
    "display(Latex(f\"$P(\\hat p > {dp}) = {prob}$\"))"
   ]
  },
  {
   "cell_type": "markdown",
   "id": "a0538999-a4cf-454c-8376-7aee7589da50",
   "metadata": {
    "tags": []
   },
   "source": [
    "---\n",
    "\n",
    "### Example 2\n",
    "\n",
    "According to the 2011 National Survey of Fishing, Hunting, and Wildlife-Associated Recreation, there were over $71$ million wildlife watchers in the US. Of these wildlife watchers, the survey reports that $80\\%$ actively observed mammals. Suppose that one of the census workers repeated the survey with a simple random sample of only $500$ wildlife watchers that same year.\n",
    "\n",
    "**Assuming that the original survey's $80\\%$ claim is correct, what is the approximate probability that between $79\\%$ and $81\\%$ of the $500$ sampled wildlife watchers actively observed mammals in 2011?**"
   ]
  },
  {
   "cell_type": "code",
   "execution_count": 14,
   "id": "023fe385-2b9c-4840-ac4b-e73ad0f7f9aa",
   "metadata": {},
   "outputs": [
    {
     "name": "stdout",
     "output_type": "stream",
     "text": [
      "True\n",
      "True\n"
     ]
    }
   ],
   "source": [
    "n, p = 500, 0.8\n",
    "precision = 2\n",
    "\n",
    "# check is the sampling distribution approximately normal\n",
    "print(n * p >= 10)\n",
    "print(n * (1 - p) >= 10)"
   ]
  },
  {
   "cell_type": "code",
   "execution_count": 15,
   "id": "d9e68b62-bf5e-48d7-bfe8-295e94322acf",
   "metadata": {},
   "outputs": [
    {
     "data": {
      "text/latex": [
       "$\\displaystyle \\mu_{\\hat p} = $$0.8$"
      ],
      "text/plain": [
       "<IPython.core.display.Latex object>"
      ]
     },
     "metadata": {},
     "output_type": "display_data"
    },
    {
     "data": {
      "text/latex": [
       "$\\displaystyle \\sigma_{\\hat p} = $$0.02$"
      ],
      "text/plain": [
       "<IPython.core.display.Latex object>"
      ]
     },
     "metadata": {},
     "output_type": "display_data"
    }
   ],
   "source": [
    "SE = stats.bernoulli.std(p) / np.sqrt(n)\n",
    "\n",
    "display(Latex(\"$\\displaystyle \\mu_{\\hat p} = $\" + f\"${p}$\"))\n",
    "display(Latex(\"$\\displaystyle \\sigma_{\\hat p} = $\" + f\"${round(SE, precision)}$\"))"
   ]
  },
  {
   "cell_type": "code",
   "execution_count": 16,
   "id": "69bc4d56-a295-44bb-94ff-54ba7abc53b7",
   "metadata": {},
   "outputs": [
    {
     "data": {
      "text/latex": [
       "$P(0.79 \\leq \\hat p < 0.81) = 0.42$"
      ],
      "text/plain": [
       "<IPython.core.display.Latex object>"
      ]
     },
     "metadata": {},
     "output_type": "display_data"
    }
   ],
   "source": [
    "# probability between two values\n",
    "dp1, dp2  = 0.79, 0.81\n",
    "p1 = stats.norm(loc=p, scale=SE).cdf(dp1)\n",
    "p2 = stats.norm(loc=p, scale=SE).cdf(dp2)\n",
    "prob = p2 - p1\n",
    "prob = round(prob, precision)\n",
    "display(Latex(f\"$P({dp1} \\leq \\hat p < {dp2}) = {prob}$\"))"
   ]
  },
  {
   "cell_type": "markdown",
   "id": "127273f9-c715-4991-8ac0-0e9696e0525b",
   "metadata": {},
   "source": [
    "---\n",
    "\n",
    "# Sampling distribution of a sample mean\n",
    "\n",
    "> [Sampling distribution of a sample mean example](https://www.khanacademy.org/math/statistics-probability/sampling-distributions-library/sample-means/a/sampling-distribution-sample-mean-example)\n",
    "\n",
    "[Statistical parameter](https://en.wikipedia.org/wiki/Statistical_parameter): In [statistics](https://en.wikipedia.org/wiki/Statistics \"Statistics\"), as opposed to its general [use in mathematics](https://en.wikipedia.org/wiki/Parameter \"Parameter\"), a **parameter** is any measured quantity of a [statistical population](https://en.wikipedia.org/wiki/Statistical_population \"Statistical population\") that summarises or describes an aspect of the population, such as a [mean](https://en.wikipedia.org/wiki/Mean \"Mean\") or a [standard deviation](https://en.wikipedia.org/wiki/Standard_deviation \"Standard deviation\"). If a population exactly follows a known and defined distribution, for example the [normal distribution](https://en.wikipedia.org/wiki/Normal_distribution \"Normal distribution\"), then a small set of parameters can be measured which completely describes the population, and can be considered to define a [probability distribution](https://en.wikipedia.org/wiki/Probability_distribution \"Probability distribution\") for the purposes of extracting [samples](https://en.wikipedia.org/wiki/Sample_(statistics) \"Sample (statistics)\") from this population.\n",
    "\n",
    "A parameter is to a [population](https://en.wikipedia.org/wiki/Statistical_population \"Statistical population\") as a [statistic](https://en.wikipedia.org/wiki/Statistic \"Statistic\") is to a [sample](https://en.wikipedia.org/wiki/Statistical_sample \"Statistical sample\"); that is to say, a parameter describes the ***true value*** calculated from the full population, whereas a statistic is an estimated measurement of the parameter based on a subsample. Thus a \"statistical parameter\" can be more specifically referred to as a **population parameter**.\n",
    "\n",
    "For example:\n",
    "- Population mean (parameter): $\\mu$\n",
    "- Sample mean (statistic): $\\bar x$\n",
    "- The mean of the sampling distribution of a sample mean (statistic): $\\mu_{\\bar x} = \\mu$"
   ]
  },
  {
   "cell_type": "markdown",
   "id": "c53fb932-9fd7-4fbd-8f86-e7be53f04a39",
   "metadata": {},
   "source": [
    "---\n",
    "\n",
    "## [Central limit theorem](https://en.wikipedia.org/wiki/Central_limit_theorem)\n",
    "\n",
    "In [probability theory](https://en.wikipedia.org/wiki/Probability_theory \"Probability theory\"), the **central limit theorem** (**CLT**) establishes that, in many situations, when [independent random variables](https://en.wikipedia.org/wiki/Statistical_independence \"Statistical independence\") are summed up, their properly [normalized](https://en.wikipedia.org/wiki/Normalization_(statistics) \"Normalization (statistics)\") sum tends toward a [normal distribution](https://en.wikipedia.org/wiki/Normal_distribution \"Normal distribution\") even if the original variables themselves are not normally distributed. The theorem is a key concept in probability theory because it implies that probabilistic and statistical methods that work for normal distributions can be applicable to many problems involving other types of distributions.\n",
    "\n",
    "Conditions:\n",
    "- Random independent sample\n",
    "- Sample size is large $(n \\geq 30)$ or Population distribution is normal\n",
    "\n",
    "If condition is failed:\n",
    "- If sample size is not large engough $(n < 30)$, the shape of the sampling distribution will match the shape of the population distribution."
   ]
  },
  {
   "cell_type": "markdown",
   "id": "730815b3-38d1-486c-8977-476f3d115ac4",
   "metadata": {},
   "source": [
    "---\n",
    "\n",
    "### Simulation of central limit theorem\n",
    "\n",
    "To deliberately simulate extreme situations, let's say there is an unfair dice with $40\\%$ of rolling $3$ and $4$ and $10\\%$ of rolling $3$ and $4$. And we have no chance to roll $2$ and $5$. For each trial, we roll the dice $n$ times as the sample size."
   ]
  },
  {
   "cell_type": "code",
   "execution_count": 17,
   "id": "6fcb2b33-b400-43fc-9b5d-6e4c8d7d8aa4",
   "metadata": {},
   "outputs": [
    {
     "data": {
      "text/plain": [
       "3.5"
      ]
     },
     "execution_count": 17,
     "metadata": {},
     "output_type": "execute_result"
    }
   ],
   "source": [
    "X = np.array([1, 2, 3, 4, 5, 6])\n",
    "P = np.array([0.4, 0, 0.1, 0.1, 0, 0.4])\n",
    "E = round(np.sum(X * P), 2) # expected value\n",
    "E"
   ]
  },
  {
   "cell_type": "code",
   "execution_count": 18,
   "id": "43c02613-5550-4edf-aff9-fb29710f4140",
   "metadata": {},
   "outputs": [
    {
     "data": {
      "image/png": "[encoded data removed]",
      "text/plain": [
       "<Figure size 640x480 with 1 Axes>"
      ]
     },
     "metadata": {},
     "output_type": "display_data"
    }
   ],
   "source": [
    "sns.barplot(x=X, y=P)\n",
    "plt.title(\"Population Distribution\")\n",
    "plt.ylabel(\"Probability\")\n",
    "plt.xlabel(\"Number\");"
   ]
  },
  {
   "cell_type": "markdown",
   "id": "685343f8-0893-4f50-ae77-8dc835639daf",
   "metadata": {},
   "source": [
    "In [frequentist statistics](https://en.wikipedia.org/wiki/Frequentist_statistics \"Frequentist statistics\"), a **confidence interval** (**CI**) is a range of estimates for an unknown [parameter](https://en.wikipedia.org/wiki/Statistical_parameter \"Statistical parameter\"). \n",
    "\n",
    "Although we already know the true mean of $X$, which is $E = 3.5$. The following bootstrap functions use sample means to capture the true mean. As the sample size $n$ increasing, we can lower the range of the confidence interval for better capturing the true mean."
   ]
  },
  {
   "cell_type": "code",
   "execution_count": 19,
   "id": "0d5d2e0b-7c44-41a0-871b-c98f585f7e6a",
   "metadata": {},
   "outputs": [],
   "source": [
    "def bootstrap(X, n, P, n_trials):\n",
    "    \"\"\"bootstrap Sampling n times from the given discrete random varaible X with probabilities P.\n",
    "\n",
    "    Args:\n",
    "        X (numpy.ndarray): The discrete random variables.\n",
    "        n (_type_): Sample Size.\n",
    "        P (numpy.ndarray): The probabilites of X.\n",
    "        n_trials (_type_): Number os trials.\n",
    "\n",
    "    Returns:\n",
    "        numpy.ndarray: The samples of X.\n",
    "    \"\"\"  \n",
    "    rng = np.random.default_rng(2022) # random seed\n",
    "    samples = []\n",
    "    for i in range(n_trials):\n",
    "        sample = rng.choice(a=X, size=n, replace=True, p=P)\n",
    "        samples.append(sample)\n",
    "\n",
    "    return np.array(samples)\n",
    "\n",
    "\n",
    "def histogram(X, n, P, n_trials):\n",
    "    \"\"\"histogram draw histogram with z confidence interval from bootstrap.\n",
    "\n",
    "    Args:\n",
    "        X (numpy.ndarray): The discrete random variables.\n",
    "        n (_type_): Sample Size.\n",
    "        P (numpy.ndarray): The probabilites of X.\n",
    "        n_trials (_type_): Number os trials.\n",
    "    \"\"\"\n",
    "    if isinstance(X, list): X = np.array(X)\n",
    "    if isinstance(P, list): P = np.array(P)\n",
    "    samples = bootstrap(X=X, n=n, P=P, n_trials=n_trials)\n",
    "    \n",
    "    s_mean = samples.mean()\n",
    "    s_means = samples.mean(axis=1)\n",
    "    s_median = np.median(s_means)\n",
    "    s_std = s_means.std()\n",
    "    SE = s_std / np.sqrt(n)\n",
    "    \n",
    "    precision = 4\n",
    "    xmin, xmax = stats.norm.interval(.95, loc=s_mean, scale=SE)  # 95% percent confidence level\n",
    "    \n",
    "    sns.histplot(s_means, stat='probability', kde=True)  # 'probability', 'percent', 'density'\n",
    "    plt.axvline(x=xmin, linestyle='--', color='orange')\n",
    "    plt.axvline(x=xmax, linestyle='--', color='orange')\n",
    "    # plt.axhline(y=0, xmin=0, xmax=5, linewidth=20, color='r')\n",
    "    plt.title(\"Sample Distribution of the Sample Mean\")\n",
    "    plt.ylabel(\"Probability\")\n",
    "    plt.xlabel(\"Sample Mean\")\n",
    "    display(Latex(f\"$E[X] = {round((X * P).sum(), precision)}$, \" + \"$\\mu_{\\overline x} = $\" + f\"${round(s_mean, precision)}$, \" + f\"$median = {round(s_median, precision)}$\"))\n",
    "    display(Latex(f\"$s = {round(s_std, precision)}$, \" + \"$s_{\\overline x} = $\" + f\"${round(SE, precision)}$\"))\n",
    "    display(Latex(f\"$CI = [{round(xmin, precision)}, {round(xmax, precision)}]$\"))\n",
    "    display(Latex(f\"$skew = {round(stats.skew(s_means), precision)}$, \" + f\"$kurtosis = {round(stats.kurtosis(s_means), precision)}$\"))"
   ]
  },
  {
   "cell_type": "code",
   "execution_count": 20,
   "id": "4647f0e3-ab45-4b88-b1ee-333e7877bc32",
   "metadata": {},
   "outputs": [
    {
     "data": {
      "text/latex": [
       "$E[X] = 3.5$, $\\mu_{\\overline x} = $$3.4897$, $median = 3.5$"
      ],
      "text/plain": [
       "<IPython.core.display.Latex object>"
      ]
     },
     "metadata": {},
     "output_type": "display_data"
    },
    {
     "data": {
      "text/latex": [
       "$s = 1.128$, $s_{\\overline x} = $$0.564$"
      ],
      "text/plain": [
       "<IPython.core.display.Latex object>"
      ]
     },
     "metadata": {},
     "output_type": "display_data"
    },
    {
     "data": {
      "text/latex": [
       "$CI = [2.3843, 4.5951]$"
      ],
      "text/plain": [
       "<IPython.core.display.Latex object>"
      ]
     },
     "metadata": {},
     "output_type": "display_data"
    },
    {
     "data": {
      "text/latex": [
       "$skew = 0.0011$, $kurtosis = -0.4556$"
      ],
      "text/plain": [
       "<IPython.core.display.Latex object>"
      ]
     },
     "metadata": {},
     "output_type": "display_data"
    },
    {
     "data": {
      "image/png": "[encoded data removed]",
      "text/plain": [
       "<Figure size 640x480 with 1 Axes>"
      ]
     },
     "metadata": {},
     "output_type": "display_data"
    }
   ],
   "source": [
    "# for n = 4\n",
    "histogram(X=X, n=4, P=P, n_trials=10000)"
   ]
  },
  {
   "cell_type": "code",
   "execution_count": 21,
   "id": "db4cf568-dde3-4366-8875-f73026fd68d4",
   "metadata": {},
   "outputs": [
    {
     "data": {
      "text/latex": [
       "$E[X] = 3.5$, $\\mu_{\\overline x} = $$3.4913$, $median = 3.5$"
      ],
      "text/plain": [
       "<IPython.core.display.Latex object>"
      ]
     },
     "metadata": {},
     "output_type": "display_data"
    },
    {
     "data": {
      "text/latex": [
       "$s = 0.7068$, $s_{\\overline x} = $$0.2235$"
      ],
      "text/plain": [
       "<IPython.core.display.Latex object>"
      ]
     },
     "metadata": {},
     "output_type": "display_data"
    },
    {
     "data": {
      "text/latex": [
       "$CI = [3.0532, 3.9294]$"
      ],
      "text/plain": [
       "<IPython.core.display.Latex object>"
      ]
     },
     "metadata": {},
     "output_type": "display_data"
    },
    {
     "data": {
      "text/latex": [
       "$skew = 0.0182$, $kurtosis = -0.1364$"
      ],
      "text/plain": [
       "<IPython.core.display.Latex object>"
      ]
     },
     "metadata": {},
     "output_type": "display_data"
    },
    {
     "data": {
      "image/png": "[encoded data removed]",
      "text/plain": [
       "<Figure size 640x480 with 1 Axes>"
      ]
     },
     "metadata": {},
     "output_type": "display_data"
    }
   ],
   "source": [
    "# for n = 10\n",
    "histogram(X=X, n=10, P=P, n_trials=10000)"
   ]
  },
  {
   "cell_type": "code",
   "execution_count": 22,
   "id": "0b851dd7-8268-422d-bd5d-5be031e9203c",
   "metadata": {},
   "outputs": [
    {
     "data": {
      "text/latex": [
       "$E[X] = 3.5$, $\\mu_{\\overline x} = $$3.4969$, $median = 3.5$"
      ],
      "text/plain": [
       "<IPython.core.display.Latex object>"
      ]
     },
     "metadata": {},
     "output_type": "display_data"
    },
    {
     "data": {
      "text/latex": [
       "$s = 0.4076$, $s_{\\overline x} = $$0.0744$"
      ],
      "text/plain": [
       "<IPython.core.display.Latex object>"
      ]
     },
     "metadata": {},
     "output_type": "display_data"
    },
    {
     "data": {
      "text/latex": [
       "$CI = [3.351, 3.6427]$"
      ],
      "text/plain": [
       "<IPython.core.display.Latex object>"
      ]
     },
     "metadata": {},
     "output_type": "display_data"
    },
    {
     "data": {
      "text/latex": [
       "$skew = -0.0108$, $kurtosis = -0.0897$"
      ],
      "text/plain": [
       "<IPython.core.display.Latex object>"
      ]
     },
     "metadata": {},
     "output_type": "display_data"
    },
    {
     "data": {
      "image/png": "[encoded data removed]",
      "text/plain": [
       "<Figure size 640x480 with 1 Axes>"
      ]
     },
     "metadata": {},
     "output_type": "display_data"
    }
   ],
   "source": [
    "# for n = 30\n",
    "histogram(X=X, n=30, P=P, n_trials=10000)"
   ]
  },
  {
   "cell_type": "code",
   "execution_count": 23,
   "id": "4214cd17-49b6-46a1-80b3-1b5245bab117",
   "metadata": {},
   "outputs": [
    {
     "data": {
      "text/latex": [
       "$E[X] = 3.5$, $\\mu_{\\overline x} = $$3.5007$, $median = 3.5$"
      ],
      "text/plain": [
       "<IPython.core.display.Latex object>"
      ]
     },
     "metadata": {},
     "output_type": "display_data"
    },
    {
     "data": {
      "text/latex": [
       "$s = 0.2245$, $s_{\\overline x} = $$0.0225$"
      ],
      "text/plain": [
       "<IPython.core.display.Latex object>"
      ]
     },
     "metadata": {},
     "output_type": "display_data"
    },
    {
     "data": {
      "text/latex": [
       "$CI = [3.4567, 3.5447]$"
      ],
      "text/plain": [
       "<IPython.core.display.Latex object>"
      ]
     },
     "metadata": {},
     "output_type": "display_data"
    },
    {
     "data": {
      "text/latex": [
       "$skew = 0.0328$, $kurtosis = 0.0407$"
      ],
      "text/plain": [
       "<IPython.core.display.Latex object>"
      ]
     },
     "metadata": {},
     "output_type": "display_data"
    },
    {
     "data": {
      "image/png": "[encoded data removed]",
      "text/plain": [
       "<Figure size 640x480 with 1 Axes>"
      ]
     },
     "metadata": {},
     "output_type": "display_data"
    }
   ],
   "source": [
    "# for n = 100\n",
    "histogram(X=X, n=100, P=P, n_trials=10000)"
   ]
  },
  {
   "cell_type": "code",
   "execution_count": 24,
   "id": "e5431940-bc5f-480f-a211-08a1589b4fe3",
   "metadata": {},
   "outputs": [
    {
     "data": {
      "text/latex": [
       "$E[X] = 3.5$, $\\mu_{\\overline x} = $$3.4992$, $median = 3.499$"
      ],
      "text/plain": [
       "<IPython.core.display.Latex object>"
      ]
     },
     "metadata": {},
     "output_type": "display_data"
    },
    {
     "data": {
      "text/latex": [
       "$s = 0.0707$, $s_{\\overline x} = $$0.0022$"
      ],
      "text/plain": [
       "<IPython.core.display.Latex object>"
      ]
     },
     "metadata": {},
     "output_type": "display_data"
    },
    {
     "data": {
      "text/latex": [
       "$CI = [3.4949, 3.5036]$"
      ],
      "text/plain": [
       "<IPython.core.display.Latex object>"
      ]
     },
     "metadata": {},
     "output_type": "display_data"
    },
    {
     "data": {
      "text/latex": [
       "$skew = -0.0073$, $kurtosis = -0.0969$"
      ],
      "text/plain": [
       "<IPython.core.display.Latex object>"
      ]
     },
     "metadata": {},
     "output_type": "display_data"
    },
    {
     "data": {
      "image/png": "[encoded data removed]",
      "text/plain": [
       "<Figure size 640x480 with 1 Axes>"
      ]
     },
     "metadata": {},
     "output_type": "display_data"
    }
   ],
   "source": [
    "# for n = 1000\n",
    "histogram(X=X, n=1000, P=P, n_trials=10000)"
   ]
  },
  {
   "cell_type": "markdown",
   "id": "0b602d1d-9278-4cb6-83f6-5ca4f00d29b5",
   "metadata": {},
   "source": [
    "---\n",
    "\n",
    "### Example 1\n",
    "\n",
    "Teachers in a district have been teaching for a mean of $8$ years with a standard deviation of $3$ years, and the distribution of years teaching is strongly skewed to the right.\n",
    "\n",
    "Suppose we took random samples of $30$ teachers from this district and calculated $\\bar x$ as the sample mean of how long each group of teachers had been teaching. We can assume that the teachers in each sample are independent.\n",
    "\n",
    "**What would be the shape of the sampling distribution of $\\bar x$?**"
   ]
  },
  {
   "cell_type": "markdown",
   "id": "f6da3558-1f6b-4f25-aa73-2860966229b6",
   "metadata": {},
   "source": [
    "Approximately normal.\n",
    "\n",
    "The sample size is large $(n=30 \\geq 30)$, so the sampling distribution of $\\bar x$ will be approximately normal even though the population is skewed."
   ]
  },
  {
   "cell_type": "markdown",
   "id": "4c4870a2-8e07-45d0-b3b4-231f0a38b2dd",
   "metadata": {},
   "source": [
    "---\n",
    "\n",
    "## [Standard error](https://en.wikipedia.org/wiki/Standard_error) of the mean (SEM)\n",
    "\n",
    "The **standard error** (**SE**, the standard deviation of the sampling distribution of the sample mean)[[1]](https://en.wikipedia.org/wiki/Standard_error#cite_note-:0-1) of a [statistic](https://en.wikipedia.org/wiki/Statistic \"Statistic\") (usually an estimate of a [parameter](https://en.wikipedia.org/wiki/Statistical_parameter \"Statistical parameter\")) is the [standard deviation](https://en.wikipedia.org/wiki/Standard_deviation \"Standard deviation\") of its [sampling distribution](https://en.wikipedia.org/wiki/Sampling_distribution \"Sampling distribution\")[[2]](https://en.wikipedia.org/wiki/Standard_error#cite_note-2) or an estimate of that standard deviation. If the statistic is the sample mean, it is called the **standard error of the mean** (**SEM**).[[1]](https://en.wikipedia.org/wiki/Standard_error#cite_note-:0-1)\n",
    "\n",
    "The [sampling distribution](https://en.wikipedia.org/wiki/Sampling_distribution \"Sampling distribution\") of a mean is generated by repeated sampling from the same population and recording of the sample means obtained. This forms a distribution of different means, and this distribution has its own [mean](https://en.wikipedia.org/wiki/Mean \"Mean\") and [variance](https://en.wikipedia.org/wiki/Variance \"Variance\"). Mathematically, the variance of the sampling distribution obtained is equal to the variance of the population divided by the sample size. This is because as the sample size increases, sample means cluster more closely around the population mean.\n",
    "\n",
    "Therefore, the relationship between the standard error of the mean and the standard deviation is such that, for a given sample size, the standard error of the mean equals the standard deviation divided by the [square root](https://en.wikipedia.org/wiki/Square_root \"Square root\") of the sample size.[[1]](https://en.wikipedia.org/wiki/Standard_error#cite_note-:0-1) In other words, the standard error of the mean is a measure of the dispersion of sample means around the population mean.\n",
    "\n",
    "In [regression analysis](https://en.wikipedia.org/wiki/Regression_analysis \"Regression analysis\"), the term \"standard error\" refers either to the square root of the [reduced chi-squared statistic](https://en.wikipedia.org/wiki/Reduced_chi-squared_statistic \"Reduced chi-squared statistic\"), or the standard error for a particular regression coefficient (as used in, say, [confidence intervals](https://en.wikipedia.org/wiki/Confidence_interval \"Confidence interval\")).\n",
    "\n",
    "### Exact Value\n",
    "\n",
    "If a statistically independent sample of $\\displaystyle n$ observations $\\displaystyle x_1, x_2, \\ldots, x_n$ is taken from a [statistical population](https://en.wikipedia.org/wiki/Statistical_population \"Statistical population\") with a [standard deviation](https://en.wikipedia.org/wiki/Standard_deviation \"Standard deviation\") of $\\displaystyle \\sigma$, then the mean value calculated from the sample $\\displaystyle \\bar x$ will have an associated _standard error on the mean_ $\\displaystyle \\sigma_{\\bar x}$ given by:\n",
    "\n",
    "- Population Standard Deviation (parameter): $\\displaystyle \\sigma$\n",
    "- Sample mean (statistic): $\\displaystyle \\bar x$\n",
    "- Standard Error (parameter): $\\displaystyle \\sigma_{\\bar x} = \\sqrt{\\frac{\\sigma^{2}}{n}} = \\frac{\\sigma}{\\sqrt{n}}$\n",
    "\n",
    "\n",
    "### Estimate\n",
    "\n",
    "The standard deviation $\\displaystyle \\sigma$ of the population being sampled is seldom known. Therefore, the standard error of the mean is usually estimated by replacing $\\displaystyle \\sigma$ with the [sample standard deviation](https://en.wikipedia.org/wiki/Standard_deviation#Corrected_sample_standard_deviation) $\\sigma_{\\bar x}$ instead:\n",
    "\n",
    "- Sample Standard Deviation (statistic): $\\displaystyle \\sigma_{x}$ or $\\displaystyle s$\n",
    "- Standard Error (parameter): $\\displaystyle \\sigma_{\\bar x} = \\sqrt{\\frac{\\sigma_{x}^{2}}{n}} = \\frac{\\sigma_{x}}{\\sqrt{n}}$\n",
    "\n",
    "As this is only an [estimator](https://en.wikipedia.org/wiki/Estimator) for the true \"standard error\", it is common to see other notations here such as:\n",
    "\n",
    "- Standard Error (statistic): $\\displaystyle \\hat \\sigma_{\\bar x} = \\frac{\\sigma_{x}}{\\sqrt{n}}$\n",
    "- Standard Error (statistic): $\\displaystyle s_{\\bar x} = \\frac{s}{\\sqrt{n}}$"
   ]
  },
  {
   "cell_type": "markdown",
   "id": "f78623ed-a46b-4b68-a223-10dd866649af",
   "metadata": {},
   "source": [
    "---\n",
    "\n",
    "## Mean and standard deviation of sample means (SEM)"
   ]
  },
  {
   "cell_type": "markdown",
   "id": "2761a3a7-99b9-411c-995b-6e31e065454a",
   "metadata": {},
   "source": [
    "---\n",
    "\n",
    "### Example 1\n",
    "\n",
    "Shoppers at a mall have a mean weight of $70\\text{ kg}$ with a standard deviation of $10\\text{ kg}$. An elevator at the mall holds a maximum of $6$ people, and safety engineers are curious about the average weight of shoppers on a full elevator. Suppose that we take random samples of $6$ shoppers and calculate the mean weight $\\bar x$ of the shoppers in each sample.\n",
    "\n",
    "**Calculate the mean and standard deviation of the sampling distribution of $\\bar x$.**"
   ]
  },
  {
   "cell_type": "code",
   "execution_count": 25,
   "id": "77eafc09-6d5d-44de-ad20-d12d3cd9f703",
   "metadata": {},
   "outputs": [],
   "source": [
    "mu, sigma, n = 70, 10, 6\n",
    "percision = 2\n",
    "mu_s = mu\n",
    "SE = sigma / np.sqrt(n)"
   ]
  },
  {
   "cell_type": "code",
   "execution_count": 26,
   "id": "07126a6c-6e9e-4305-b8c1-cff4b9ab1ba9",
   "metadata": {},
   "outputs": [
    {
     "data": {
      "text/latex": [
       "$\\overline x = 70$"
      ],
      "text/plain": [
       "<IPython.core.display.Latex object>"
      ]
     },
     "metadata": {},
     "output_type": "display_data"
    },
    {
     "data": {
      "text/latex": [
       "$\\sigma_{\\overline x} =$ $4.08$"
      ],
      "text/plain": [
       "<IPython.core.display.Latex object>"
      ]
     },
     "metadata": {},
     "output_type": "display_data"
    }
   ],
   "source": [
    "display(Latex(f\"$\\overline x = {mu_s}$\"))\n",
    "display(Latex(\"$\\sigma_{\\overline x} =$\" + f\" ${round(SE, percision)}$\"))"
   ]
  },
  {
   "cell_type": "markdown",
   "id": "a1503e74-ca51-4db7-9ede-769fa91eafab",
   "metadata": {},
   "source": [
    "---\n",
    "\n",
    "## Finding probabilities with sample means\n",
    "\n",
    "If the sampling distribution is approximately normal, we can calculate the probability of the certain events by CDF(Cumulative distribution function) of normal distribution."
   ]
  },
  {
   "cell_type": "markdown",
   "id": "d85920bd-b982-4004-a64c-221e29135214",
   "metadata": {},
   "source": [
    "---\n",
    "\n",
    "### Example 1\n",
    "\n",
    "A car manufacturer crash tests a certain model of car and measures the impact force. The test and model in question produce impact forces that are normally distributed with a mean of $30$ metric tons and a standard deviation of $1.51$ metric tons. Suppose that the manufacturer tests a random sample of $4$ cars and calculates the sample mean impact force.\n",
    "\n",
    "**What is the probability that the mean impact force from a sample of $4$ cars $\\bar x$ exceeds $30.75$ metric tons?**"
   ]
  },
  {
   "cell_type": "code",
   "execution_count": 27,
   "id": "65b1868b-f019-4725-9def-c1115319342c",
   "metadata": {},
   "outputs": [
    {
     "data": {
      "text/latex": [
       "$P(\\overline x > 30.75) = 0.16$"
      ],
      "text/plain": [
       "<IPython.core.display.Latex object>"
      ]
     },
     "metadata": {},
     "output_type": "display_data"
    }
   ],
   "source": [
    "mu, sigma, n = 30, 1.51, 4\n",
    "percision = 2\n",
    "mu_s = mu\n",
    "SE = sigma / np.sqrt(n)\n",
    "dp = 30.75\n",
    "\n",
    "# probability above a value\n",
    "prob = stats.norm(loc=mu_s, scale=SE).sf(dp)\n",
    "display(Latex(f\"$P(\\overline x > {dp}) = {round(prob, percision)}$\"))"
   ]
  },
  {
   "cell_type": "markdown",
   "id": "eac97138-54a9-4d4a-ba80-0915049fc1c4",
   "metadata": {},
   "source": [
    "---\n",
    "\n",
    "### Example 2\n",
    "\n",
    "A large sleep study involving over $5{,}000$ American teenagers examined how many hours the participants slept on the weekend. The nightly sleep times were distinctly non-normal with a mean of $10$ hours and a standard deviation of $2$ hours. Suppose we take a random sample of $100$ nightly sleep times from this population. We can assume that the times in the sample are independent.\n",
    "\n",
    "**What is the probability that the mean of these $100$ sleep times $\\bar x$ is farther than $0.40$ hours away from the population mean?**"
   ]
  },
  {
   "cell_type": "code",
   "execution_count": 28,
   "id": "d33d50af-aef8-44f0-98bd-293888dec5b2",
   "metadata": {},
   "outputs": [
    {
     "data": {
      "text/latex": [
       "$P(\\overline x \\leq 9.6 \\space \\cup 10.4 > \\overline x) = 0.05$"
      ],
      "text/plain": [
       "<IPython.core.display.Latex object>"
      ]
     },
     "metadata": {},
     "output_type": "display_data"
    }
   ],
   "source": [
    "mu, sigma, n = 10, 2, 100\n",
    "percision = 2\n",
    "mu_s = mu\n",
    "SE = sigma / np.sqrt(n)\n",
    "dp1, dp2 = mu-0.4, mu+0.4\n",
    "\n",
    "# probability away from two values\n",
    "p1 = stats.norm(loc=mu_s, scale=SE).cdf(dp1)\n",
    "p2 = stats.norm(loc=mu_s, scale=SE).sf(dp2)\n",
    "prob = p1 + p2\n",
    "display(Latex(f\"$P(\\overline x \\leq {dp1} \\space \\cup {dp2} > \\overline x) = {round(prob, percision)}$\"))"
   ]
  },
  {
   "cell_type": "markdown",
   "id": "0c774615-dda0-492a-b3d5-1892c0ec3251",
   "metadata": {},
   "source": [
    "---\n",
    "\n",
    "### Example 3\n",
    "\n",
    "Mathieu grows specialty tomatoes that are much larger than typical tomatoes. The distribution of their weights is strongly skewed to the left with a mean of $232\\text{g}$ and a standard deviation of $12\\text{g}$. Suppose we were to calculate the mean weight from a random sample of $16$ of Mathieu's tomatoes. We can assume independence between tomatoes in the sample.\n",
    "\n",
    "**What is the probability that the mean weight from the sample of $16$ tomatoes $\\bar x$ is within $6\\text{g}$ of the population mean?**"
   ]
  },
  {
   "cell_type": "markdown",
   "id": "cb243af1-5085-4bfe-9995-1ef9ed6e29ec",
   "metadata": {},
   "source": [
    "We cannot calculate this probability because the sampling distribution is not normal."
   ]
  },
  {
   "cell_type": "markdown",
   "id": "eef941d2-4254-41e6-aeba-fb2d347dd5d4",
   "metadata": {},
   "source": [
    "---\n",
    "\n",
    "### Example 4\n",
    "\n",
    "A manufacturer makes integrated circuits that each have a resistance layer with a target thickness of $200$ units. A circuit won't work well if this thickness varies too much from the target value. These thickness measurements are approximately normally distributed with a mean of $200$ units and a standard deviation of $12$ units. A random sample of $16$ measurements is selected for a quality inspection. We can assume that the measurements in the sample are independent.\n",
    "\n",
    "**What is the probability that the mean thickness in these $16$ measurements $\\bar x$ is farther than $3$ units away from the target value?**"
   ]
  },
  {
   "cell_type": "markdown",
   "id": "723fea63-4949-42f7-abdf-d2ad901a87c1",
   "metadata": {},
   "source": [
    "Although the sample size is not large enough ($n = 16 < 30$), the population distribution is normal. Therefore, the sampling distribution is normal."
   ]
  },
  {
   "cell_type": "code",
   "execution_count": 29,
   "id": "537e9d27-064d-4686-a569-dc7374f4434e",
   "metadata": {},
   "outputs": [
    {
     "data": {
      "text/latex": [
       "$P(\\overline x \\leq 197 \\space \\cup 203 > \\overline x) = 0.32$"
      ],
      "text/plain": [
       "<IPython.core.display.Latex object>"
      ]
     },
     "metadata": {},
     "output_type": "display_data"
    }
   ],
   "source": [
    "mu, sigma, n = 200, 12, 16\n",
    "percision = 2\n",
    "mu_s = mu\n",
    "SE = sigma / np.sqrt(n)\n",
    "dp1, dp2 = mu-3, mu+3\n",
    "\n",
    "# probability away from two values\n",
    "p1 = stats.norm(loc=mu_s, scale=SE).cdf(dp1)\n",
    "p2 = stats.norm(loc=mu_s, scale=SE).sf(dp2)\n",
    "prob = p1 + p2\n",
    "display(Latex(f\"$P(\\overline x \\leq {dp1} \\space \\cup {dp2} > \\overline x) = {round(prob, percision)}$\"))"
   ]
  },
  {
   "cell_type": "markdown",
   "id": "6874bde4-dfa4-4412-8a58-0b01f5934e9f",
   "metadata": {},
   "source": [
    "---\n",
    "\n",
    "### Example 5\n",
    "\n",
    "A pizza chain monitors the total weight of pepperoni that goes on its deluxe pepperoni pizzas to make sure customers are satisfied and product isn't being wasted. Suppose that for pizzas in this population, these weights are strongly skewed to the left with a mean of $250\\text{ g}$ and a standard deviation of $8\\text{ g}$. Management takes a random sample of $64$ of these pizzas and calculates the mean weight of the pepperoni on the pizzas. Assume that the pizzas in the sample are independent.\n",
    "\n",
    "**What is the probability that the mean weight of the pepperoni from the sample of $64$ pizzas $\\bar x$ is within $1\\text{ g}$ of the true mean?**"
   ]
  },
  {
   "cell_type": "code",
   "execution_count": 30,
   "id": "fe031ada-5ecc-4777-84dc-4fc2032a57a3",
   "metadata": {},
   "outputs": [
    {
     "data": {
      "text/latex": [
       "$P(249 < \\overline x \\leq 251) = 0.68$"
      ],
      "text/plain": [
       "<IPython.core.display.Latex object>"
      ]
     },
     "metadata": {},
     "output_type": "display_data"
    }
   ],
   "source": [
    "mu, sigma, n = 250, 8, 64\n",
    "percision = 2\n",
    "mu_s = mu\n",
    "SE = sigma / np.sqrt(n)\n",
    "dp1, dp2 = mu-1, mu+1\n",
    "\n",
    "# probability within two values\n",
    "p1 = stats.norm(loc=mu_s, scale=SE).cdf(dp1)\n",
    "p2 = stats.norm(loc=mu_s, scale=SE).cdf(dp2)\n",
    "prob = p2 - p1\n",
    "display(Latex(f\"$P({dp1} < \\overline x \\leq {dp2}) = {round(prob, percision)}$\"))"
   ]
  },
  {
   "cell_type": "code",
   "execution_count": null,
   "id": "5fc2282c-280b-4e04-bd87-7149a34956eb",
   "metadata": {},
   "outputs": [],
   "source": []
  }
 ],
 "metadata": {
  "kernelspec": {
   "display_name": "statistics-and-probability",
   "language": "python",
   "name": "statistics-and-probability"
  },
  "language_info": {
   "codemirror_mode": {
    "name": "ipython",
    "version": 3
   },
   "file_extension": ".py",
   "mimetype": "text/x-python",
   "name": "python",
   "nbconvert_exporter": "python",
   "pygments_lexer": "ipython3",
   "version": "3.10.10"
  }
 },
 "nbformat": 4,
 "nbformat_minor": 5
}
