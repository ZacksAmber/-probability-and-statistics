{
 "cells": [
  {
   "cell_type": "code",
   "execution_count": 1,
   "id": "5a50c0a1-162a-4271-8b9e-2d435b25747e",
   "metadata": {},
   "outputs": [],
   "source": [
    "import numpy as np\n",
    "import pandas as pd\n",
    "from scipy.stats import norm, binom\n",
    "from IPython.display import display, Latex"
   ]
  },
  {
   "cell_type": "code",
   "execution_count": 2,
   "id": "d08b7d08-8659-4d3c-8d78-ebeeb4f6d047",
   "metadata": {},
   "outputs": [],
   "source": [
    "from utils.norm.norm_prop import norm_prop"
   ]
  },
  {
   "cell_type": "markdown",
   "id": "fc0f3141-b9d2-42d8-a057-aef790e00e40",
   "metadata": {
    "tags": []
   },
   "source": [
    "# [Random Variables](https://en.wikipedia.org/wiki/Random_variable)\n",
    "\n",
    "A **random variable** (also called **random quantity**, **aleatory variable**, or **stochastic variable**) is a mathematical formalization of a quantity or object which depends on [random](https://en.wikipedia.org/wiki/Randomness \"Randomness\") events.[[1]](https://en.wikipedia.org/wiki/Random_variable#cite_note-:2-1)\n",
    "\n",
    "A **random variable** ${\\displaystyle X}$ is a [measurable function](https://en.wikipedia.org/wiki/Measurable_function \"Measurable function\") ${\\displaystyle X\\colon \\Omega \\to E}$ from a set of possible [outcomes](https://en.wikipedia.org/wiki/Outcome_(probability) \"Outcome (probability)\") ${\\displaystyle \\Omega }$ to a [measurable space](https://en.wikipedia.org/wiki/Measurable_space \"Measurable space\") ${\\displaystyle E}$. The technical axiomatic definition requires ${\\displaystyle \\Omega }$ to be a sample space of a [probability triple](https://en.wikipedia.org/wiki/Probability_space \"Probability space\") ${\\displaystyle (\\Omega ,{\\mathcal {F}},\\operatorname {P})}$ (see the [measure-theoretic definition](https://en.wikipedia.org/wiki/Random_variable#Measure-theoretic_definition)). A random variable is often denoted by capital [roman letters](https://en.wikipedia.org/wiki/Latin_script \"Latin script\") such as ${\\displaystyle X}$, ${\\displaystyle Y}$, ${\\displaystyle Z}$, ${\\displaystyle T}$.\n",
    "\n",
    "The probability that ${\\displaystyle X}$ takes on a value in a measurable set ${\\displaystyle S\\subseteq E}$ is written as\n",
    "\n",
    "${\\displaystyle \\operatorname {P} (X\\in S)=\\operatorname {P} (\\{\\omega \\in \\Omega \\mid X(\\omega )\\in S\\})}$\n",
    "\n",
    "- Discrete RV\n",
    "- Continuous RV"
   ]
  },
  {
   "cell_type": "markdown",
   "id": "d6a63413-ca83-49b7-a985-d8f87b059133",
   "metadata": {},
   "source": [
    "## [Expected Value](https://en.wikipedia.org/wiki/Expected_value)\n",
    "\n",
    "In [probability theory](https://en.wikipedia.org/wiki/Probability_theory \"Probability theory\"), the **expected value** (also called **expectation**, **mathematical expectation**, **mean**, **average**, or **first moment**) is a generalization of the [weighted average](https://en.wikipedia.org/wiki/Weighted_average \"Weighted average\"). Informally, the expected value is the [arithmetic mean](https://en.wikipedia.org/wiki/Arithmetic_mean \"Arithmetic mean\") of a large number of [independently](https://en.wikipedia.org/wiki/Independence_(probability_theory) \"Independence (probability theory)\") selected [outcomes](https://en.wikipedia.org/wiki/Experiment_(probability_theory) \"Experiment (probability theory)\") of a [random variable](https://en.wikipedia.org/wiki/Random_variable \"Random variable\").\n",
    "\n",
    "The expected value of a random variable X is often denoted by $E[X]$, $E(X)$, or $EX$, with $E$ also often stylized as $E$ or ${\\displaystyle \\mathbb {E} .}$\n",
    "\n",
    "$\\displaystyle {E} [X]=\\sum _{i=1}^{\\infty }x_{i}\\,p_{i}$\n",
    "\n",
    "$\\displaystyle {Var} (X)=\\operatorname {E} [X^{2}]-(\\operatorname {E} [X])^{2}$"
   ]
  },
  {
   "cell_type": "markdown",
   "id": "07d48fd1-bfdf-4bff-9c96-78b62216f001",
   "metadata": {},
   "source": [
    "### Example 1\n",
    "\n",
    "Mahnoor owns and operates Mahnoor's Coffee Shop. The city of Laketown, Australia, where Mahnoor's Coffee Shop is located, recently enacted a ban on all foam cups to help protect the environment.\n",
    "\n",
    "Instead of switching to paper cups, Mahnoor has decided to risk being fined by the city and to continue to use foam cups. She estimates that this will save her $10,000$ Australian dollars. She also estimates that there is a $12\\%$ chance that she will be fined. The fine would be for $100,000$ Australian dollars.\n",
    "\n",
    "**Find the expected value of Mahnoor's decision to continue to use foam cups.**"
   ]
  },
  {
   "cell_type": "markdown",
   "id": "54aa43d6-0e0e-46c9-9e70-b8fb6e228daf",
   "metadata": {},
   "source": [
    "||Value|Probability|Value * Probability|\n",
    "|:-:|:-:|:-:|:-:|\n",
    "|Mahnoor is fined|-90,000|0.12|-10,800|\n",
    "|Mahnoor is not fined|10,000|0.88|8800|\n",
    "\n",
    "The expected value is -10,800 + 8,000 = -2000 Australian dollars."
   ]
  },
  {
   "cell_type": "markdown",
   "id": "11cfdf6b-3426-49c2-a149-4a75afbf6e1c",
   "metadata": {},
   "source": [
    "### Example 2"
   ]
  },
  {
   "cell_type": "markdown",
   "id": "11e3ff20-dfc8-4564-bd42-7048d474ecb8",
   "metadata": {},
   "source": [
    "A patient is sick with a certain infection where the treatment involves taking $\\$20$ dollar drug that has a $90\\%$ chance of curing the infection. If that drug doesn't work, then the patient takes an $\\$80$ dollar drug that is almost guaranteed to cure the infection.\n",
    "\n",
    "The table below displays the probability distribution of $X =$ the total amount of money a randomly selected patient spends on this treatment plan.\n",
    "\n",
    "|X = total spent|\\$20|\\$100|\n",
    "|:-:|:-:|:-:|\n",
    "|P(X)|90%|10%|\n",
    "\n",
    "Calculate $\\mu_X$ and $\\sigma_X$"
   ]
  },
  {
   "cell_type": "code",
   "execution_count": 3,
   "id": "3098af91-7fdb-4fcb-a59c-5ea5ced89939",
   "metadata": {},
   "outputs": [],
   "source": [
    "X = np.array([20, 100])\n",
    "P = np.array([0.9, 0.1])"
   ]
  },
  {
   "cell_type": "code",
   "execution_count": 4,
   "id": "d8ceca94-6608-4f9d-bc5f-cbb4396aa45d",
   "metadata": {},
   "outputs": [],
   "source": [
    "def rv_mean(X, P):\n",
    "    \"\"\"rv_mean calculates the expected value (also known as mean) of the random variable X.\n",
    "\n",
    "    Args:\n",
    "        X (array like): Random Variable X.\n",
    "        P (array like): The probability distribution of random variable X.\n",
    "\n",
    "    Returns:\n",
    "        float: The expected value (also known as mean) the random variable X.\n",
    "    \"\"\"\n",
    "    mu = np.average(a=X, weights=P)\n",
    "\n",
    "    return mu"
   ]
  },
  {
   "cell_type": "code",
   "execution_count": 5,
   "id": "1af52a80-3637-4ec8-9495-82d7e7e1bf82",
   "metadata": {},
   "outputs": [],
   "source": [
    "def rv_std(X, P):\n",
    "    \"\"\"rv_std calculates the standard deviation of the random variable X.\n",
    "\n",
    "    Args:\n",
    "        X (array like): Random Variable X.\n",
    "        P (array like): The probability distribution of random variable X.\n",
    "\n",
    "    Returns:\n",
    "        float: The standard deviation of the random variable X.\n",
    "    \"\"\"\n",
    "    mu = rv_mean(X, P)\n",
    "    sd = np.sum((X - mu)**2 * P)**0.5\n",
    "\n",
    "    return sd"
   ]
  },
  {
   "cell_type": "code",
   "execution_count": 6,
   "id": "76f2e697-ee6f-40e7-a8e1-c6c2ce2560c4",
   "metadata": {},
   "outputs": [
    {
     "name": "stdout",
     "output_type": "stream",
     "text": [
      "Expected Value:  28.0\n",
      "Standard Deviation:  24.0\n"
     ]
    }
   ],
   "source": [
    "print(\"Expected Value: \", rv_mean(X, P))\n",
    "print(\"Standard Deviation: \", rv_std(X, P))"
   ]
  },
  {
   "cell_type": "markdown",
   "id": "39edba8f-3e0c-40b2-aeb3-679b3705800b",
   "metadata": {},
   "source": [
    "## Transforming Random Variables\n",
    "\n"
   ]
  },
  {
   "cell_type": "markdown",
   "id": "15453d60-82dc-4aa6-bff1-23dce8affde1",
   "metadata": {},
   "source": [
    "### Example 1\n",
    "\n",
    "Mr. Gupta gave his students a quiz with three questions on it. Let $X$ represent the number of questions that a randomly chosen student answered correctly. Here is the probability distribution of $X$ along with summary statistics:\n",
    "\n",
    "|X = # correct|0|1|2|3|\n",
    "|:-:|:-:|:-:|:-:|:-:|\n",
    "|P(X)|0.05|0.20|0.50|0.25|\n",
    "\n",
    "- Mean: $\\mu_X = 1.95$\n",
    "- SD: $\\sigma_X \\approx 0.8$\n",
    "\n",
    "Mr. Gupta decides to score the tests by giving $10$ points for each correct question. He also plans to give every student $5$ additional bonus points. Let $Y$ represent a random student's score.\n",
    "\n",
    "**What are the mean and standard deviation of $Y$?**"
   ]
  },
  {
   "cell_type": "code",
   "execution_count": 7,
   "id": "fd22aa23-f8f9-47e4-b04d-d76bdfdf39f5",
   "metadata": {},
   "outputs": [
    {
     "data": {
      "text/html": [
       "<div>\n",
       "<style scoped>\n",
       "    .dataframe tbody tr th:only-of-type {\n",
       "        vertical-align: middle;\n",
       "    }\n",
       "\n",
       "    .dataframe tbody tr th {\n",
       "        vertical-align: top;\n",
       "    }\n",
       "\n",
       "    .dataframe thead th {\n",
       "        text-align: right;\n",
       "    }\n",
       "</style>\n",
       "<table border=\"1\" class=\"dataframe\">\n",
       "  <thead>\n",
       "    <tr style=\"text-align: right;\">\n",
       "      <th></th>\n",
       "      <th>X</th>\n",
       "      <th>P(X)</th>\n",
       "    </tr>\n",
       "  </thead>\n",
       "  <tbody>\n",
       "    <tr>\n",
       "      <th>0</th>\n",
       "      <td>0</td>\n",
       "      <td>0.05</td>\n",
       "    </tr>\n",
       "    <tr>\n",
       "      <th>1</th>\n",
       "      <td>1</td>\n",
       "      <td>0.20</td>\n",
       "    </tr>\n",
       "    <tr>\n",
       "      <th>2</th>\n",
       "      <td>2</td>\n",
       "      <td>0.50</td>\n",
       "    </tr>\n",
       "    <tr>\n",
       "      <th>3</th>\n",
       "      <td>3</td>\n",
       "      <td>0.25</td>\n",
       "    </tr>\n",
       "  </tbody>\n",
       "</table>\n",
       "</div>"
      ],
      "text/plain": [
       "   X  P(X)\n",
       "0  0  0.05\n",
       "1  1  0.20\n",
       "2  2  0.50\n",
       "3  3  0.25"
      ]
     },
     "execution_count": 7,
     "metadata": {},
     "output_type": "execute_result"
    }
   ],
   "source": [
    "X = np.array([0, 1, 2, 3])\n",
    "P = np.array([0.05, 0.20, 0.50, 0.25])\n",
    "mu_X, sd_X = 1.95, 0.8\n",
    "\n",
    "df = pd.DataFrame({'X': X, 'P(X)': P})\n",
    "df"
   ]
  },
  {
   "cell_type": "code",
   "execution_count": 8,
   "id": "800a679d-8a74-422e-ae78-3d1d3b37c21f",
   "metadata": {},
   "outputs": [
    {
     "data": {
      "text/html": [
       "<div>\n",
       "<style scoped>\n",
       "    .dataframe tbody tr th:only-of-type {\n",
       "        vertical-align: middle;\n",
       "    }\n",
       "\n",
       "    .dataframe tbody tr th {\n",
       "        vertical-align: top;\n",
       "    }\n",
       "\n",
       "    .dataframe thead th {\n",
       "        text-align: right;\n",
       "    }\n",
       "</style>\n",
       "<table border=\"1\" class=\"dataframe\">\n",
       "  <thead>\n",
       "    <tr style=\"text-align: right;\">\n",
       "      <th></th>\n",
       "      <th>X</th>\n",
       "      <th>P(X)</th>\n",
       "      <th>Y</th>\n",
       "    </tr>\n",
       "  </thead>\n",
       "  <tbody>\n",
       "    <tr>\n",
       "      <th>0</th>\n",
       "      <td>0</td>\n",
       "      <td>0.05</td>\n",
       "      <td>5</td>\n",
       "    </tr>\n",
       "    <tr>\n",
       "      <th>1</th>\n",
       "      <td>1</td>\n",
       "      <td>0.20</td>\n",
       "      <td>15</td>\n",
       "    </tr>\n",
       "    <tr>\n",
       "      <th>2</th>\n",
       "      <td>2</td>\n",
       "      <td>0.50</td>\n",
       "      <td>25</td>\n",
       "    </tr>\n",
       "    <tr>\n",
       "      <th>3</th>\n",
       "      <td>3</td>\n",
       "      <td>0.25</td>\n",
       "      <td>35</td>\n",
       "    </tr>\n",
       "  </tbody>\n",
       "</table>\n",
       "</div>"
      ],
      "text/plain": [
       "   X  P(X)   Y\n",
       "0  0  0.05   5\n",
       "1  1  0.20  15\n",
       "2  2  0.50  25\n",
       "3  3  0.25  35"
      ]
     },
     "execution_count": 8,
     "metadata": {},
     "output_type": "execute_result"
    }
   ],
   "source": [
    "df['Y'] = df.X * 10 + 5\n",
    "df"
   ]
  },
  {
   "cell_type": "code",
   "execution_count": 9,
   "id": "97b2e5e6-a7cd-41ac-9f5c-2b5452cc845e",
   "metadata": {},
   "outputs": [
    {
     "data": {
      "text/latex": [
       "$\\mu_Y = \\mu_X \\cdot 10 + 5 = 24.5$"
      ],
      "text/plain": [
       "<IPython.core.display.Latex object>"
      ]
     },
     "metadata": {},
     "output_type": "display_data"
    },
    {
     "data": {
      "text/latex": [
       "$\\sigma_Y = \\mu_X \\cdot 10 = 8.0$"
      ],
      "text/plain": [
       "<IPython.core.display.Latex object>"
      ]
     },
     "metadata": {},
     "output_type": "display_data"
    }
   ],
   "source": [
    "mu_Y = mu_X * 10 + 5\n",
    "sd_Y = sd_X * 10\n",
    "display(Latex(f'$\\mu_Y = \\mu_X \\cdot 10 + 5 = {mu_Y}$'))\n",
    "display(Latex(f'$\\sigma_Y = \\mu_X \\cdot 10 = {sd_Y}$'))"
   ]
  },
  {
   "cell_type": "markdown",
   "id": "8f256bf6-a3c9-4898-bc68-69be5196d43e",
   "metadata": {},
   "source": [
    "## [Combining Random Variables](https://www.khanacademy.org/math/statistics-probability/random-variables-stats-library/combine-random-variables/a/combining-random-variables-article)\n",
    "\n",
    "We can form new distributions by combining random variables. If we know the mean and standard deviation of the original distributions, we can use that information to find the mean and standard deviation of the resulting distribution.\n",
    "\n",
    "We can combine means directly, but we can't do this with standard deviations. We can combine variances as long as it's reasonable to assume that the variables are independent.\n",
    "\n",
    "- $E[X+Y] = E[X] + E[Y]$, $E[X-Y] = E[X] - E[Y]$\n",
    "- $Var[X+Y] = Var[X] + Var[Y]$, $Var[X-Y] = Var[X] + Var[Y]$\n",
    "\n",
    "- Make sure that the variables are independent or that it's reasonable to assume independence, before combining variances.\n",
    "- Even when we subtract two random variables, we still add their variances; subtracting two variables increases the overall variability in the outcomes.\n",
    "- We can find the standard deviation of the combined distributions by taking the square root of the combined variances."
   ]
  },
  {
   "cell_type": "markdown",
   "id": "13417af4-d7ac-40bf-a1cf-7db5f50b7a81",
   "metadata": {},
   "source": [
    "## [Combining Normal Random Variable](https://www.khanacademy.org/math/statistics-probability/random-variables-stats-library/combine-random-variables/a/combining-normal-random-variables)\n",
    "\n",
    "When we combine variables that each follow a normal distribution, the resulting distribution is also normally distributed. This lets us answer interesting questions about the resulting distribution."
   ]
  },
  {
   "cell_type": "markdown",
   "id": "9941c73a-42f2-4826-a28f-0cb269006b9f",
   "metadata": {},
   "source": [
    "Review module `norm_rv`, click [here](utils/norm/norm_rv.py)."
   ]
  },
  {
   "cell_type": "code",
   "execution_count": 10,
   "id": "ed67f89c-aff5-412d-a439-a5e157ea4cfe",
   "metadata": {},
   "outputs": [],
   "source": [
    "from utils.norm.norm_rv import norm_rv"
   ]
  },
  {
   "cell_type": "markdown",
   "id": "bdb21fcd-9b9b-4242-906a-e715a14d44b6",
   "metadata": {},
   "source": [
    "### Example 1: Proportion above a value\n",
    "\n",
    "A carnival ride has cars that each hold $4$ adult passengers. The weights of the passengers for this ride are normally distributed with a mean of $65 \\text{kg}$ and a standard deviation of $12 \\text{kg}$. Assume that the weights of passengers are independent from each other.\n",
    "\n",
    "Let $T =$ the total weight of $4$ selected adult passengers for this ride.\n",
    "\n",
    "**Find the probability that the total weight exceeds $290 \\text{kg}$.**  \n",
    "_You may round your answer to two decimal places._"
   ]
  },
  {
   "cell_type": "code",
   "execution_count": 11,
   "id": "ca3efe75-5ab3-4d34-989c-c409016a1da3",
   "metadata": {},
   "outputs": [
    {
     "data": {
      "text/latex": [
       "$P(T>290) = 0.11$"
      ],
      "text/plain": [
       "<IPython.core.display.Latex object>"
      ]
     },
     "metadata": {},
     "output_type": "display_data"
    }
   ],
   "source": [
    "dp = 290\n",
    "mus = [65]*4\n",
    "sds = [12]*4\n",
    "method = 'T'\n",
    "area = 'above'\n",
    "p = round(norm_rv(dp, mus, sds, method, area), 2)\n",
    "\n",
    "display(Latex(f'$P(T>290) = {p}$'))"
   ]
  },
  {
   "cell_type": "markdown",
   "id": "9c8f44d7-4e8f-4b5b-afcc-c2563db5df97",
   "metadata": {},
   "source": [
    "### Example 2: Proportion between two values\n",
    "\n",
    "Some nations require their students to pass an exam before earning their primary school degrees or diplomas. A certain nation gives students an exam whose scores are normally distributed with a mean of $41$ points and a standard deviation of $9$ points.\n",
    "\n",
    "Suppose we select $2$ of these testers at random, and define the random variable $D$ as the difference between their scores. We can assume that their scores are independent.\n",
    "\n",
    "**Find the probability that their scores are within $10$ points of each other.**  \n",
    "_You may round your answer to two decimal places._"
   ]
  },
  {
   "cell_type": "code",
   "execution_count": 12,
   "id": "dbadf5bd-cb80-480e-b6a2-623cb75c0f15",
   "metadata": {},
   "outputs": [
    {
     "data": {
      "text/latex": [
       "$P(|D|<=10) = 0.57$"
      ],
      "text/plain": [
       "<IPython.core.display.Latex object>"
      ]
     },
     "metadata": {},
     "output_type": "display_data"
    }
   ],
   "source": [
    "dp = [-10, 10]\n",
    "mus = [41]*2\n",
    "sds = [9]*2\n",
    "method = 'D'\n",
    "area = 'between'\n",
    "p = round(norm_rv(dp, mus, sds, method, area), 2)\n",
    "\n",
    "display(Latex(f'$P(|D|<=10) = {p}$'))"
   ]
  },
  {
   "cell_type": "markdown",
   "id": "ca866185-3124-4ece-8463-d2374d699e35",
   "metadata": {},
   "source": [
    "### Example 3: Proportion above a value\n",
    "\n",
    "A breakfast cereal producer makes its most popular product by combining just raisins and flakes in each box of cereal. The amounts of flakes in the boxes of this cereal are normally distributed with a mean of $370\\text{g}$ and a standard deviation of $24\\text{g}$. The amounts of raisins are also normally distributed with a mean of $170\\text{g}$ and a standard deviation of $7\\text{g}$.\n",
    "\n",
    "Let $T =$ the total amount of product in a randomly selected box, and assume that the amounts of flakes and raisins are independent of each other.\n",
    "\n",
    "**Find the probability that the total amount of product exceeds $515\\text{g}$.**  \n",
    "_You may round your answer to two decimal places._"
   ]
  },
  {
   "cell_type": "code",
   "execution_count": 13,
   "id": "f6e9343c-eab8-4a1c-abb4-41877ddb3a23",
   "metadata": {},
   "outputs": [
    {
     "data": {
      "text/latex": [
       "$P(T>515) = 0.84$"
      ],
      "text/plain": [
       "<IPython.core.display.Latex object>"
      ]
     },
     "metadata": {},
     "output_type": "display_data"
    }
   ],
   "source": [
    "dp = 515\n",
    "mus = [370, 170]\n",
    "sds = [24, 7]\n",
    "method = 'T'\n",
    "area = 'above'\n",
    "p = round(norm_rv(dp, mus, sds, method, area), 2)\n",
    "\n",
    "display(Latex(f'$P(T>515) = {p}$'))"
   ]
  },
  {
   "cell_type": "markdown",
   "id": "7a84a62e-c196-4adb-be20-5916c81b35cc",
   "metadata": {},
   "source": [
    "### Example 3: Proportion above a value\n",
    "\n",
    "Suppose that populations of men and women have the following summary statistics for their heights (in centimeters):\n",
    "\n",
    "- Men: $\\mu_M=172$, $\\sigma_M=7.2$\n",
    "- Women: $\\mu_W=162$, $\\sigma_W=5.4$\n",
    "\n",
    "Both distributions are approximately normal. Suppose we randomly select a man and a woman from each population, and calculate the difference between their heights. We can assume that their heights are independent.\n",
    "\n",
    "**Find the probability that the woman is taller than the man.**  \n",
    "_You may round your answer to two decimal places._"
   ]
  },
  {
   "cell_type": "code",
   "execution_count": 14,
   "id": "21cdd39a-7333-4e4a-ab69-06327ce67867",
   "metadata": {},
   "outputs": [
    {
     "data": {
      "text/latex": [
       "$P({woman \\space taller}) = P(D < 0) = $ $0.13326026290250537$"
      ],
      "text/plain": [
       "<IPython.core.display.Latex object>"
      ]
     },
     "metadata": {},
     "output_type": "display_data"
    }
   ],
   "source": [
    "dp = 0\n",
    "mus = [172, 162]\n",
    "sds = [7.2, 5.4]\n",
    "method = 'D'\n",
    "area = 'below'\n",
    "p = norm_rv(dp, mus, sds, method, area)\n",
    "\n",
    "# The probabilty that the woman is taller than the man is equal to\n",
    "# the tall distance between the man and the woman is 0\n",
    "display(Latex('$P({woman \\space taller}) = P(D < 0) = $ ' + f'${p}$'))"
   ]
  },
  {
   "cell_type": "markdown",
   "id": "7e7f5051-97b6-4e79-bccb-8187f3492ece",
   "metadata": {},
   "source": [
    "---\n",
    "\n",
    "## Binomial Random Variables\n",
    "\n",
    "- Each trial can be classified as a success or a failure.\n",
    "- Number of trials is fixed.\n",
    "- Independent:\n",
    "    - 10% rule: Within finite population, when sampling without replacement and sample size $\\leq 10\\%$ of the population size, it can be treated as independent.\n",
    "    - Finite population: When sampling with replacement, it's independent.\n",
    "    - Infinite population: It's independent."
   ]
  },
  {
   "cell_type": "markdown",
   "id": "28e4cca2-756d-4319-aac4-450a5200e2a0",
   "metadata": {},
   "source": [
    "### Example 1\n",
    "\n",
    "Based on previous data, an electronics manufacturer knows that $2\\%$, percent of its computer processors are defective. Suppose the manufacturer randomly selects these processors until one is found with a defect. Let $D$ represent the number of processors it takes to find the first one that is defective. Assume that defective processors are independent.\n",
    "\n",
    "**Is $D$ a binomial variable? Why or why not?**\n",
    "\n",
    "**An**s: There is no fixed number of trials, so $D$ is not a binomial variable."
   ]
  },
  {
   "cell_type": "code",
   "execution_count": null,
   "id": "6e1bfcba-8b52-4d32-8530-b46ff0f32173",
   "metadata": {},
   "outputs": [],
   "source": []
  }
 ],
 "metadata": {
  "kernelspec": {
   "display_name": "Python 3 (ipykernel)",
   "language": "python",
   "name": "python3"
  },
  "language_info": {
   "codemirror_mode": {
    "name": "ipython",
    "version": 3
   },
   "file_extension": ".py",
   "mimetype": "text/x-python",
   "name": "python",
   "nbconvert_exporter": "python",
   "pygments_lexer": "ipython3",
   "version": "3.9.10"
  }
 },
 "nbformat": 4,
 "nbformat_minor": 5
}
