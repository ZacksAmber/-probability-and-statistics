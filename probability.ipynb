{
 "cells": [
  {
   "cell_type": "code",
   "execution_count": 1,
   "id": "2aeec886-0c79-4239-88b0-fba5ad89610d",
   "metadata": {},
   "outputs": [],
   "source": [
    "from fractions import Fraction\n",
    "from scipy.special import perm, comb\n",
    "from itertools import permutations, combinations\n",
    "from IPython.display import display, Latex"
   ]
  },
  {
   "cell_type": "markdown",
   "id": "7c4390a6-3a3d-40e2-9a2f-af64405a7065",
   "metadata": {},
   "source": [
    "# Reference\n",
    "\n",
    "> [Unit: Probability](https://www.khanacademy.org/math/statistics-probability/probability-library)"
   ]
  },
  {
   "cell_type": "markdown",
   "id": "e95533b4-8bb9-445d-b605-254ea3382c7b",
   "metadata": {},
   "source": [
    "---\n",
    "\n",
    "# Events\n",
    "\n",
    "> [Events in Probability](https://www.cuemath.com/data/events-in-probability/)\n",
    "\n",
    "Events in probability are outcomes of random experiments. Any subset of the sample space will form events in probability. The likelihood of occurrence of events in probability can be calculated by dividing the number of favorable outcomes by the total number of outcomes of that experiment.\n",
    "\n",
    "- $\\Omega$, $S$, or $U$: Sample space\n",
    "- $E$: Event, a subset of $\\Omega$\n",
    "- $P$: Probability"
   ]
  },
  {
   "cell_type": "markdown",
   "id": "f9b62df3-9eb7-455e-b58c-7f2819078946",
   "metadata": {},
   "source": [
    "---\n",
    "\n",
    "## Sample spaces\n",
    "\n",
    "Events in probability can be defined as certain likely outcomes of an experiment that form a subset of a finite sample space. The probability of occurrence of any event will always lie between 0 and 1. There could be many events associated with one sample space ($\\Omega$, $S$, or $U$)."
   ]
  },
  {
   "cell_type": "markdown",
   "id": "b425db0d-6282-4f43-9768-888a1143509d",
   "metadata": {},
   "source": [
    "---\n",
    "\n",
    "## Types of Events\n",
    "\n",
    "- **Independent and Dependent Events**: [Independent events](https://www.cuemath.com/data/independent-events/) in probability are those events whose outcome does not depend on some previous outcome. No matter how many times an experiment has been conducted the probability of occurrence of independent events will be the same; [Dependent events](https://www.cuemath.com/data/dependent-events/) in probability are events whose outcome depends on a previous outcome. This implies that the probability of occurrence of a dependent event will be affected by some previous outcome.\n",
    "- **Impossible and Sure Events**: An event that can never happen is known as an [impossible event](https://www.cuemath.com/data/probability-of-an-impossible-event/). As impossible events in probability will never take place thus, the chance that they will occur is always 0; A sure event is one that will always happen. The probability of occurrence of a sure event will always be 1.\n",
    "- **Simple and Compound Events**: $E = \\{1\\}$; $E = \\{1, 2, 3\\}$\n",
    "- **Complementary Events**: $P(E) + P(E') = 1$\n",
    "- **Mutually Exclusive Events**: $S = \\{1, 2, 3\\}, A = \\{1, 2\\}, B = \\{3\\}$\n",
    "- **Exhaustive Events**: [Exhaustive events](https://www.cuemath.com/data/exhaustive-events/) in probability are those events when taken together from the sample space of a random experiment.\n",
    "- **Equally Likely Events**: Equally likely events in probability are those events in which the outcomes are equally possible."
   ]
  },
  {
   "cell_type": "markdown",
   "id": "faa6516c-3ec8-4f7b-a808-035df6b0a57a",
   "metadata": {
    "tags": []
   },
   "source": [
    "---\n",
    "\n",
    "# Basic theoretical probability\n",
    "\n",
    "> [Probability: the basics](https://www.khanacademy.org/math/statistics-probability/probability-library/basic-theoretical-probability/a/probability-the-basics)"
   ]
  },
  {
   "cell_type": "markdown",
   "id": "95681345-2e21-447c-8e78-9bb0ccaff590",
   "metadata": {},
   "source": [
    "---\n",
    "\n",
    "## Simple probability"
   ]
  },
  {
   "cell_type": "markdown",
   "id": "13dd39c4-56e1-4c90-912c-17f387cebcac",
   "metadata": {},
   "source": [
    "---\n",
    "\n",
    "### Example 1\n",
    "\n",
    "You roll a fair $6$-sided die.\n",
    "\n",
    "**What is $\\text{P(not 5})$?**"
   ]
  },
  {
   "cell_type": "markdown",
   "id": "938f0a59-14cb-41f1-86de-71dad381eaba",
   "metadata": {},
   "source": [
    "$\\displaystyle \\text{P(not 5}) = 1 - \\text{P(not 5}) = \\frac{5}{6}$"
   ]
  },
  {
   "cell_type": "markdown",
   "id": "e862b52d-2017-4796-ba0a-85adb99d58b3",
   "metadata": {},
   "source": [
    "---\n",
    "\n",
    "## Comparing probabilities"
   ]
  },
  {
   "cell_type": "markdown",
   "id": "38af39c8-1f67-4035-b092-5799982bd3e0",
   "metadata": {},
   "source": [
    "---\n",
    "\n",
    "### Example 1\n",
    "\n",
    "Rory, Phil, and Rickie are competing in a golf match. Their probabilities of winning the match are as follows:\n",
    "\n",
    "> $\\displaystyle \\text{P(Rory wins}) = 20\\%$\n",
    "\n",
    "> $\\displaystyle \\text{P(Phil wins}) = 0.05$\n",
    "\n",
    "> $\\displaystyle \\text{P(Rickie wins}) = \\frac{3}{4}$\n",
    "\n",
    "**Rank the following events in order from least to most likely.**"
   ]
  },
  {
   "cell_type": "markdown",
   "id": "57701b64-789d-49f4-b0d5-5e900ac42f17",
   "metadata": {},
   "source": [
    "$\\displaystyle \\text{P(Phil wins}) < \\displaystyle \\text{P(Rory wins}) < \\displaystyle \\text{P(Rickie wins})$"
   ]
  },
  {
   "cell_type": "markdown",
   "id": "21a92949-9e2a-47ce-ac62-75f6cd51e134",
   "metadata": {},
   "source": [
    "---\n",
    "\n",
    "# Basic set operations\n",
    "\n",
    "> [Set](https://en.wikipedia.org/wiki/Set_(mathematics))<br>\n",
    "> [Sets: Terminologies, Notations, and Operations](http://mathandmultimedia.com/2012/01/18/sets-notations-operations/)"
   ]
  },
  {
   "cell_type": "markdown",
   "id": "b920be49-5c49-471c-875d-9830d39b301e",
   "metadata": {},
   "source": [
    "---\n",
    "\n",
    "## Basic set notion\n",
    "\n",
    "- $U$ is the universal set.\n",
    "- $\\emptyset$ is empty set, $\\emptyset$ is a subset of every set.\n",
    "- $\\setminus$ (minus) is the difference between the sets. $X \\setminus Y = X - Y$ is the set of elements that are in $X$ **but not in** $Y$.\n",
    "- $\\cup$ is the union of the sets. $X \\cup Y$ is the set of elements that are in $X$ **or** $Y$.\n",
    "- $\\cap$ is the intersection of the sets. $X \\cap Y$ is the set of elements that are in $X$ **and** $Y$.\n",
    "- $\\in$ membership. $x \\in A$, element $x$ belongs to set $A$ or $x$ is in set $A$.\n",
    "- $\\notin$ membership. $x \\notin A$, element $x$ is not an element of $A$ or $x$ is not in set $A$.\n",
    "- $\\subseteq$ subset. If every element of $A$ is also in $B$, then $A \\subseteq B$.\n",
    "- $\\subsetneq$ or $\\subset$ proper subset (strict subset). If $A$ is a subset of $B$, but $A$ is not equal to $B$, then $A \\subsetneq B$ or $A \\subset B$. $A$ is the strict subset of $B$ and $B$ is the superset of $A$.\n",
    "- Assume $A$ is a set of $U$, absolute complement $A' = U - A$.\n",
    "\n",
    "The inclusion–exclusion principle is a counting technique that can be used to count the number of elements in a union of two sets—if the size of each set and the size of their intersection are known. It can be expressed symbolically as\n",
    "\n",
    "${\\displaystyle |A\\cup B|=|A|+|B|-|A\\cap B|}$\n",
    "\n",
    "Other notions:\n",
    "- $\\displaystyle \\mathbb {N}$: the set of nature numbers. \n",
    "- $\\displaystyle \\mathbb {Z}$: the set of integers. \n",
    "- $\\displaystyle \\mathbb {R}$: the set of real numbers.\n",
    "- $\\displaystyle \\mathbb {Q}$: the set of rational numbers.\n",
    "- $\\displaystyle \\mathbb {C}$: the set of complex numbers.\n",
    "- $\\displaystyle \\mathbb {N} \\subset \\mathbb {Z} \\subset \\mathbb {Q} \\subset \\mathbb {R} \\subset \\mathbb {C}$"
   ]
  },
  {
   "cell_type": "markdown",
   "id": "baa16889-b7fa-4bb2-a4cf-b44c5f4a206b",
   "metadata": {},
   "source": [
    "---\n",
    "\n",
    "### Example 1: Difference\n",
    "\n",
    "Let $X$ and $Y$ be the following sets:\n",
    "\n",
    "$X = \\{\\}$\n",
    "\n",
    "$Y = \\{2,3,5,7,11,13\\}$\n",
    "\n",
    "**Which of the following is the set $X \\setminus Y$?**"
   ]
  },
  {
   "cell_type": "code",
   "execution_count": 2,
   "id": "2751acf5-87c0-4820-a70b-10b4725f9b15",
   "metadata": {},
   "outputs": [
    {
     "data": {
      "text/plain": [
       "set()"
      ]
     },
     "execution_count": 2,
     "metadata": {},
     "output_type": "execute_result"
    }
   ],
   "source": [
    "X = set() # create an empty set\n",
    "Y = {2, 3, 5, 7, 11, 13}\n",
    "X - Y"
   ]
  },
  {
   "cell_type": "markdown",
   "id": "c47c60aa-d045-4126-8b7b-f9d2ab3c4d1b",
   "metadata": {},
   "source": [
    "---\n",
    "\n",
    "### Example 2: Difference\n",
    "\n",
    "Let $X$ and $Y$ be the following sets:\n",
    "\n",
    "$X = \\{9, 25\\}$\n",
    "\n",
    "$Y = \\{1, 4, 9, 16, 25\\}$\n",
    "\n",
    "**Which of the following is the set $X \\setminus Y$?**"
   ]
  },
  {
   "cell_type": "code",
   "execution_count": 3,
   "id": "f185a214-2fa1-44ec-8b63-6b256520b591",
   "metadata": {},
   "outputs": [
    {
     "data": {
      "text/plain": [
       "set()"
      ]
     },
     "execution_count": 3,
     "metadata": {},
     "output_type": "execute_result"
    }
   ],
   "source": [
    "X = {9, 25}\n",
    "Y = {1, 4, 9, 16, 25}\n",
    "X - Y"
   ]
  },
  {
   "cell_type": "markdown",
   "id": "4444915c-7e54-4985-8488-834f753cb3ca",
   "metadata": {},
   "source": [
    "---\n",
    "\n",
    "### Example 3: Intersection\n",
    "\n",
    "Let $X$ and $Y$ be the following sets:\n",
    "\n",
    "$X = \\{1,3,5,7\\}$\n",
    "\n",
    "$Y = \\{13,57\\}$\n",
    "\n",
    "**Which of the following is the set $X \\cap Y$?**"
   ]
  },
  {
   "cell_type": "code",
   "execution_count": 4,
   "id": "f668de07-c507-467a-92e8-7f71a6ad4cf2",
   "metadata": {},
   "outputs": [
    {
     "data": {
      "text/plain": [
       "set()"
      ]
     },
     "execution_count": 4,
     "metadata": {},
     "output_type": "execute_result"
    }
   ],
   "source": [
    "X = {1, 3, 5, 7}\n",
    "Y = {13, 57}\n",
    "X & Y"
   ]
  },
  {
   "cell_type": "code",
   "execution_count": 5,
   "id": "e4d75a02-a7de-4bdc-89f5-6578a4094168",
   "metadata": {},
   "outputs": [
    {
     "data": {
      "text/plain": [
       "set()"
      ]
     },
     "execution_count": 5,
     "metadata": {},
     "output_type": "execute_result"
    }
   ],
   "source": [
    "# or\n",
    "X.intersection(Y)"
   ]
  },
  {
   "cell_type": "markdown",
   "id": "b990af27-ce79-4d84-ad59-70fe19b2a352",
   "metadata": {},
   "source": [
    "---\n",
    "\n",
    "### Example 4: Union\n",
    "\n",
    "Let $X$ and $Y$ be the following sets:\n",
    "\n",
    "> $X = \\{5,6,10,12,15,18\\}$\n",
    "\n",
    "> $Y = \\{6,10,12,15\\}$\n",
    "\n",
    "**Which of the following is the set $X \\cup Y$?**"
   ]
  },
  {
   "cell_type": "code",
   "execution_count": 6,
   "id": "98830ca2-ec52-4d60-b1a0-fb4d2ce2e491",
   "metadata": {},
   "outputs": [
    {
     "data": {
      "text/plain": [
       "{5, 6, 10, 12, 15, 18}"
      ]
     },
     "execution_count": 6,
     "metadata": {},
     "output_type": "execute_result"
    }
   ],
   "source": [
    "X = {5, 6, 10, 12, 15, 18}\n",
    "Y = {6, 10, 12, 15}\n",
    "X | Y"
   ]
  },
  {
   "cell_type": "code",
   "execution_count": 7,
   "id": "6b9e0a69-4fad-4ed9-a0be-f861b321668b",
   "metadata": {},
   "outputs": [
    {
     "data": {
      "text/plain": [
       "{5, 6, 10, 12, 15, 18}"
      ]
     },
     "execution_count": 7,
     "metadata": {},
     "output_type": "execute_result"
    }
   ],
   "source": [
    "# or\n",
    "X.union(Y)"
   ]
  },
  {
   "cell_type": "markdown",
   "id": "334b4cc4-7661-433d-b8f9-6400bdfcec16",
   "metadata": {
    "tags": []
   },
   "source": [
    "---\n",
    "\n",
    "# Experimental Probability\n",
    "\n",
    "> [Simulation and randomness: Random digit tables](https://www.khanacademy.org/math/statistics-probability/probability-library/experimental-probability-lib/a/simulations-and-randomness-random-digit-tables)\n",
    "\n",
    "In experimental probability, we're really just trying to get an estimate of something happening, based on the data and experience that we've had in the past."
   ]
  },
  {
   "cell_type": "markdown",
   "id": "fad331e4-5719-4c42-ad1b-127048096916",
   "metadata": {},
   "source": [
    "---\n",
    "\n",
    "## Experimental Probability"
   ]
  },
  {
   "cell_type": "markdown",
   "id": "e6d1dc87-3f98-45e8-a587-4e32daee05f7",
   "metadata": {
    "tags": []
   },
   "source": [
    "---\n",
    "\n",
    "### Example 1\n",
    "\n",
    "Last week Cam's Ice Cream Shop sold $52$ chocolate chip ice cream cones out of a total of $997$ ice cream cones.\n",
    "\n",
    "**Based on this data, what is a reasonable estimate of the probability that the next ice cream cone sold is a chocolate chip ice cream cone?**"
   ]
  },
  {
   "cell_type": "markdown",
   "id": "f5e8fedf-e4f8-4f60-bd8d-c14fd88b0175",
   "metadata": {},
   "source": [
    "$\\displaystyle P=\\frac{52}{997}$"
   ]
  },
  {
   "cell_type": "markdown",
   "id": "634ba83a-9fce-44a9-93d5-f984ddfe4943",
   "metadata": {},
   "source": [
    "---\n",
    "\n",
    "## Making predictions with probability"
   ]
  },
  {
   "cell_type": "markdown",
   "id": "35fb7193-d6f7-4e4a-b3b0-4d249f8dc725",
   "metadata": {},
   "source": [
    "---\n",
    "\n",
    "### Example 2\n",
    "\n",
    "The Hendricksons are in charge of bringing treats for $50$ football players. They brought $3$ coolers of popsicles and $2$ coolers of ice cream sandwiches. Each player is going to randomly select a cooler from which to get their treat.\n",
    "\n",
    "**Which statement best predicts how many football players will get a popsicle?**"
   ]
  },
  {
   "cell_type": "markdown",
   "id": "eafc44e1-0e51-468c-89f3-13dc0719e6af",
   "metadata": {},
   "source": [
    "There will be _close to_ $30$ football players but probably not exactly $30$ football players who get a popsicle."
   ]
  },
  {
   "cell_type": "markdown",
   "id": "8ec18966-c105-4c29-8804-ec07490d98ce",
   "metadata": {},
   "source": [
    "---\n",
    "\n",
    "# Randomness, probability, and simulation\n",
    "\n",
    "> [Theoretical and experimental probability: Coin flips and die rollsTheoretical and experimental probability: Coin flips and die rolls\n",
    "](https://www.khanacademy.org/math/statistics-probability/probability-library/randomness-probability-and-simulation/a/theoretical-and-experimental-probability-coin-flips-and-die-rolls)"
   ]
  },
  {
   "cell_type": "markdown",
   "id": "d6be15e6-e8bd-40f4-99c5-9e081dfe67a2",
   "metadata": {
    "tags": []
   },
   "source": [
    "---\n",
    "\n",
    "## Interpret results of simulations"
   ]
  },
  {
   "cell_type": "markdown",
   "id": "27184d0a-e2c4-4389-b5e2-a05a69390333",
   "metadata": {},
   "source": [
    "---\n",
    "\n",
    "### Example 1\n",
    "\n",
    "Chayton read a report that said the probability that a randomly selected American is left-handed is $14\\%$. He was curious how many left-handed students to expect in a class of $20$ students.\n",
    "\n",
    "He simulated $25$ classes of $20$ students where each student selected had a $0.14$ probability of being left-handed.\n",
    "\n",
    "Chayton counted how many left-handed students were in each simulated class. Here are his results:\n",
    "\n",
    "![](https://raw.githubusercontent.com/ZacksAmber/PicGo/master/img/20220407215215.png)\n",
    "\n",
    "**Use his results to estimate the probability that there are $2$ or fewer left-handed students in a class of $20$ students.**  \n",
    "\n",
    "_Give your answer as either a fraction or a decimal._\n",
    "\n",
    "$\\displaystyle P(2\\text{ or fewer left-handed})\\approx \\frac{9}{25}$"
   ]
  },
  {
   "cell_type": "markdown",
   "id": "9accc5be-c723-4801-bb73-7d64f73cc162",
   "metadata": {},
   "source": [
    "---\n",
    "\n",
    "# Addition Rules\n",
    "\n",
    "> [Addition rule for probability (basic)Addition rule for probability (basic)](https://www.khanacademy.org/math/statistics-probability/probability-library/addition-rule-lib/a/addition-rule-for-probability-basic)<br>\n",
    "> [Probability of A and B / A or B](https://www.statisticshowto.com/probability-and-statistics/probability-main-index/probability-of-a-and-b/)\n",
    "\n",
    "**If two events A and B are [mutually exclusive](https://www.statisticshowto.com/mutually-exclusive-event/),** the events are called [disjoint events](https://www.statisticshowto.com/disjoint-events/). The probability of two disjoint events A or B happening is:\n",
    "\n",
    "> $\\displaystyle P(A \\cup B) = P(A) + P(B)$\n",
    "\n",
    "**If the events A and B are not mutually exclusive,** the probability is:\n",
    "\n",
    "> $\\displaystyle P(A \\cup B) = P(A) + P(B) – P(A \\cap B)$"
   ]
  },
  {
   "cell_type": "markdown",
   "id": "50588794-87ea-40d5-a735-622d0977d0dd",
   "metadata": {},
   "source": [
    "---\n",
    "\n",
    "## Adding probabilities"
   ]
  },
  {
   "cell_type": "markdown",
   "id": "e34e8414-5fd0-41f9-9fd9-f793a8a7d7ae",
   "metadata": {},
   "source": [
    "---\n",
    "\n",
    "### Example 1\n",
    "\n",
    "A local gym offers its members the opportunity to choose between two fitness classes: yoga and dance. Of the $400$ gym members, $300$ regularly attend yoga, $80$ regularly attend dance, and $50$ regularly attend yoga _and_ dance. Using this information, answer each of the following questions.\n",
    "\n",
    "Let $Y$ be the event that a randomly selected gym member regularly attends yoga and $D$ be the event that a randomly selected gym member regularly attends dance.\n",
    "\n",
    "**What is $P(Y)$, the probability that a gym member attends yoga?** \n",
    "\n",
    "**What is $P(D)$, the probability that a gym member attends dance?** \n",
    "\n",
    "**What is $P(Y\\text{ and }D),$ the probability that a gym member attends yoga _and_ dance?** \n",
    "\n",
    "**What is $P(Y\\text{ or }D)$, the probability that a gym member attends yoga _or_ dance?** "
   ]
  },
  {
   "cell_type": "code",
   "execution_count": 8,
   "id": "4fb7a1d8-7de5-46c7-90ea-dabe86dabd2a",
   "metadata": {},
   "outputs": [
    {
     "data": {
      "text/latex": [
       "$P(Y) = 0.75$"
      ],
      "text/plain": [
       "<IPython.core.display.Latex object>"
      ]
     },
     "metadata": {},
     "output_type": "display_data"
    },
    {
     "data": {
      "text/latex": [
       "$P(D) = 0.2$"
      ],
      "text/plain": [
       "<IPython.core.display.Latex object>"
      ]
     },
     "metadata": {},
     "output_type": "display_data"
    },
    {
     "data": {
      "text/latex": [
       "$P(Y \\cap D) = 0.125$"
      ],
      "text/plain": [
       "<IPython.core.display.Latex object>"
      ]
     },
     "metadata": {},
     "output_type": "display_data"
    },
    {
     "data": {
      "text/latex": [
       "$P(Y \\cup D) = P(Y) + P(D) - P(Y \\cap D) = 0.825$"
      ],
      "text/plain": [
       "<IPython.core.display.Latex object>"
      ]
     },
     "metadata": {},
     "output_type": "display_data"
    }
   ],
   "source": [
    "S = 400 # sample space\n",
    "Y = 300 # yoga\n",
    "D = 80  # dance\n",
    "Y_and_D = 50 # yoga & dance\n",
    "\n",
    "P_Y = Y / S\n",
    "P_D = D / S\n",
    "P_Y_and_D = Y_and_D / S\n",
    "P_Y_or_D = P_Y + P_D - P_Y_and_D\n",
    "\n",
    "display(Latex(f\"$P(Y) = {P_Y}$\"))\n",
    "display(Latex(f\"$P(D) = {P_D}$\"))\n",
    "display(Latex(f\"$P(Y \\cap D) = {P_Y_and_D}$\"))\n",
    "display(Latex(f\"$P(Y \\cup D) = P(Y) + P(D) - P(Y \\cap D) = {P_Y_or_D}$\"))"
   ]
  },
  {
   "cell_type": "markdown",
   "id": "9603bfd6-68fb-4195-a5b9-5bd73595d1b2",
   "metadata": {},
   "source": [
    "---\n",
    "\n",
    "## Two-way tables, Venn diagrams, and probability"
   ]
  },
  {
   "cell_type": "markdown",
   "id": "15daf67d-d937-4272-81d8-7282010d2f15",
   "metadata": {},
   "source": [
    "---\n",
    "\n",
    "### Example 1\n",
    "\n",
    "A civics teacher asked her students to indicate whether they believed each of two headlines. One headline was false and the other was true, but the students did not know this. The probability that a student selected at random believed the true headline was $90\\%$ and the probability that the student believed the false headline was $82\\%$. She found that $75\\%$ of the students believed both headlines.\n",
    "\n",
    "**In this sample, are the events \"believed the false headline\" and \"believed the true headline\" mutually exclusive?**"
   ]
  },
  {
   "cell_type": "markdown",
   "id": "7ba92d5c-0956-4fb4-b1a3-bbd128911514",
   "metadata": {},
   "source": [
    "No"
   ]
  },
  {
   "cell_type": "markdown",
   "id": "a56f8182-164e-4eef-a86f-44577687874f",
   "metadata": {},
   "source": [
    "**Find the probability that a randomly selected person from this sample believed the true headline OR believed the false headline.**"
   ]
  },
  {
   "cell_type": "markdown",
   "id": "43cdce74-2547-45d5-9766-8b6c243e8d79",
   "metadata": {},
   "source": [
    "$P\\text{(believed true OR believed false)} = 90\\% + 82\\% - 75\\% = 97\\%$"
   ]
  },
  {
   "cell_type": "markdown",
   "id": "331e410c-00f2-4d32-95f6-4c5e679cda9f",
   "metadata": {},
   "source": [
    "---\n",
    "\n",
    "# Multiplication rule for independent events\n",
    "\n",
    "The probability of A and B means that we want to know **the probability of two events happening at the same time**. There’s a couple of different formulas, depending on if you have [dependent events](https://www.statisticshowto.com/probability-and-statistics/dependent-events-independent/#dependent) or _independent events_.\n",
    "\n",
    "> Formula for the probability of A and B (**independent** events): $P(A \\cup B) = P(A) \\cdot P(B)$\n",
    "\n",
    "If the probability of one event doesn’t affect the other, you have an independent event. **All you do is multiply the probability of one by the probability of another.**\n",
    "\n",
    "> Formula for the probability of A and B (**dependent events**): $P(A \\cup B) = P(A) \\cdot P(B|A)$"
   ]
  },
  {
   "cell_type": "markdown",
   "id": "8b0109c8-797e-494b-9519-dc7a893cc3fd",
   "metadata": {},
   "source": [
    "---\n",
    "\n",
    "## Independent probability"
   ]
  },
  {
   "cell_type": "markdown",
   "id": "8dfad51f-3b95-4ca5-8b0e-75f5953c28a1",
   "metadata": {},
   "source": [
    "---\n",
    "\n",
    "### Example 1\n",
    "\n",
    "Captain Gabriela has a ship, the H.M.S. Khan. The ship is two furlongs from the dread pirate Daniel and his merciless band of thieves.\n",
    "\n",
    "The Captain has probability $\\displaystyle \\frac{1}{2}$ of hitting the pirate ship. The pirate only has one good eye, so he hits the Captain's ship with probability $\\displaystyle \\frac{1}{3}$.\n",
    "\n",
    "**If both fire their cannons at the same time, what is the probability that both the Captain and the pirate miss?**"
   ]
  },
  {
   "cell_type": "markdown",
   "id": "8f0a3a32-f2da-4d42-8639-ac92980dc43d",
   "metadata": {},
   "source": [
    "$\\displaystyle P\\text{(both the Captain and the priate miss)} = (1 - \\frac{1}{2}) \\cdot (1 - \\frac{1}{3}) = \\frac{1}{3}$"
   ]
  },
  {
   "cell_type": "markdown",
   "id": "061a8c09-64f7-44c5-97c6-0bc6fe71ced0",
   "metadata": {},
   "source": [
    "---\n",
    "\n",
    "## Probability of compound events"
   ]
  },
  {
   "cell_type": "markdown",
   "id": "ed4b0f24-b5d2-4e1c-931f-7e8ffef3a017",
   "metadata": {},
   "source": [
    "---\n",
    "\n",
    "### Example 1\n",
    "\n",
    "**If you roll two fair six-sided dice, what is the probability that the sum is $5$ or lower?**"
   ]
  },
  {
   "cell_type": "markdown",
   "id": "e13fd1d9-34cb-414f-b07a-e1a1eba99676",
   "metadata": {},
   "source": [
    "Assume the first dice is $A$ and the second dice is $B$:\n",
    "\n",
    "$\\displaystyle S = 6 \\times 6 = 36$<br>\n",
    "$\\displaystyle P(X=5) = P(A=4, B=1) + P(A=3, B=2) + P(A=2, B=3) + P(A=1, B=4) = \\frac{4}{36}$<br>\n",
    "$\\displaystyle P(X=4) = P(A=3, B=1) + P(A=2, B=2) + P(A=1, B=3) = \\frac{3}{36}$<br>\n",
    "$\\displaystyle P(X=3) = P(A=2, B=1) + P(A=1, B=2) = \\frac{2}{36}$<br>\n",
    "$\\displaystyle P(X=2) = P(A=1, B=1) = \\frac{1}{36}$<br>\n",
    "\n",
    "$\\displaystyle P(A+B \\le 5) = \\frac{10}{36}$"
   ]
  },
  {
   "cell_type": "markdown",
   "id": "d0b3d25c-e406-430e-a498-d21ff428074e",
   "metadata": {},
   "source": [
    "---\n",
    "\n",
    "### Example 2\n",
    "\n",
    "Marvin lives in Stormwind City and works as an engineer in the city of Ironforge. In the morning, he has $3$ transportation options (teleport, ride a dragon, or walk) to work, and in the evening he has the same $3$ choices for his trip home.\n",
    "\n",
    "**If Marvin randomly chooses his method of travel in the morning and in the evening, what is the probability that he teleports at least once per day?**"
   ]
  },
  {
   "cell_type": "markdown",
   "id": "baa9858d-3f35-407d-8eeb-520e3285db41",
   "metadata": {},
   "source": [
    "||teleport|ride a dragon|walk|\n",
    "|:-:|:-:|:-:|:-:|\n",
    "|morning|teleport in the morning|ride a dragon in the morning|walk in the morning|\n",
    "|evening|teleport in the evening|ride a dragon in the evening|walk in the evening|\n",
    "\n",
    "$\\displaystyle P(\\text{teleport at least once per day}) = 1 - P(\\text{no teleport per day}) = 1 - \\frac{2}{3} \\cdot \\frac{2}{3} = \\frac{5}{9}$"
   ]
  },
  {
   "cell_type": "markdown",
   "id": "8258be37-5a81-459d-9755-122b992e9de1",
   "metadata": {},
   "source": [
    "---\n",
    "\n",
    "## Probabiliyt of \"at least one\" success\n",
    "\n",
    "> [Probability of A and B / A or B](https://www.statisticshowto.com/probability-and-statistics/probability-main-index/probability-of-a-and-b/)"
   ]
  },
  {
   "cell_type": "markdown",
   "id": "760d6100-8bb2-4f16-aa54-21b1e59c13a7",
   "metadata": {},
   "source": [
    "---\n",
    "\n",
    "### Example 1\n",
    "\n",
    "Samir is an expert marksman. When he takes aim at a particular target on the shooting range, there is a $0.95$ probability that he will hit it. One day, Samir decides to attempt to hit $10$ such targets in a row.\n",
    "\n",
    "**Assuming that Samir is equally likely to hit each of the $10$ targets, what is the probability that he will miss at least one of them?**  \n",
    "_Round your answer to the nearest tenth._"
   ]
  },
  {
   "cell_type": "markdown",
   "id": "a5cf5329-11c5-4f20-a147-ddfbaeb36a35",
   "metadata": {},
   "source": [
    "$P(\\text{at least one miss}) = 1 - P(\\text{hit 10 times}) = 1 - 0.95^{10} = 0.4$"
   ]
  },
  {
   "cell_type": "markdown",
   "id": "2625ceb3-fe20-4fcd-956c-5365607ff4ed",
   "metadata": {},
   "source": [
    "---\n",
    "\n",
    "# Multiplication rule for dependent events\n",
    "\n",
    "> [The general multiplication rule](https://www.khanacademy.org/math/statistics-probability/probability-library/multiplication-rule-dependent/a/general-multiplication-rule)\n",
    "\n",
    "**For any two events, we can say that**\n",
    "\n",
    "$P(A \\cap B) = P(\\text{A}) \\cdot P(\\text{B} | \\text{A}) = P(\\text{B}) \\cdot P(\\text{A} | \\text{B})$\n",
    "\n",
    "The vertical bar in $P(\\text{B}|\\text{A})$ means \"given,\" so this could also be read as \"the probability that B occurs _given_ that A has occurred.\"\n",
    "\n",
    "This formula says that we can multiply the probabilities of two events, but we need to take the first event into account when considering the probability of the second event.\n",
    "\n",
    "If the events are independent, one happening doesn't impact the probability of the other, and in that case, $P(\\text{B}|\\text{A})=P(\\text{B})$.\n",
    "\n",
    "<mark>Two events, $A$ and $B$, are independent if and only if $P(\\text{A } | \\text{ B})=P(\\text{A})$ and $P(\\text{B } | \\text{ A})=P(\\text{B})$.</mark>"
   ]
  },
  {
   "cell_type": "markdown",
   "id": "fa8d2e5a-06d9-4435-85ef-9fd73941e57b",
   "metadata": {},
   "source": [
    "---\n",
    "\n",
    "## Dependent probability"
   ]
  },
  {
   "cell_type": "markdown",
   "id": "5fd4ebbf-5671-44e0-9957-87b102d1a21a",
   "metadata": {},
   "source": [
    "---\n",
    "\n",
    "### Example 1\n",
    "\n",
    "Captain Emily has a ship, the H.M.S Crimson Lynx. The ship is five furlongs from the dread pirate Umaima and her merciless band of thieves.\n",
    "\n",
    "If her ship hasn't already been hit, Captain Emily has probability $\\displaystyle \\frac{3}{5}$ of hitting the pirate ship. If her ship has been hit, Captain Emily will always miss.\n",
    "\n",
    "If her ship hasn't already been hit, dread pirate Umaima has probability $\\displaystyle \\frac{1}{7}$ of hitting the Captain's ship. If her ship has been hit, dread pirate Umaima will always miss.\n",
    "\n",
    "If the Captain and the pirate each shoot once, and the pirate shoots first, what is the probability that the pirate misses the Captain's ship, but the Captain hits?"
   ]
  },
  {
   "cell_type": "markdown",
   "id": "e4ea5120-4491-46f3-a37d-51e5d6676b5f",
   "metadata": {},
   "source": [
    "$\\displaystyle P(A) = \\text{priate hitting} = \\frac{1}{7}$\n",
    "\n",
    "$\\displaystyle P(A') = \\text{priate missing} = \\frac{6}{7}$\n",
    "\n",
    "$\\displaystyle P(B) = \\text{captain hitting} = \\frac{3}{5}$\n",
    "\n",
    "$\\displaystyle P(B') = \\text{captain missing} = \\frac{2}{5}$"
   ]
  },
  {
   "cell_type": "markdown",
   "id": "4bd99096-1bdb-4d85-b831-494ad744e527",
   "metadata": {},
   "source": [
    "$\\displaystyle P(B|A) = \\frac{1}{7} \\cdot 0 = 0$\n",
    "\n",
    "$\\displaystyle P(B'|A') = \\frac{6}{7} \\cdot \\frac{2}{5} = \\frac{12}{35}$\n",
    "\n",
    "$\\displaystyle P(B|A') = \\frac{6}{7} \\cdot \\frac{3}{5} = \\frac{18}{35}$\n",
    "\n",
    "$\\displaystyle P(B'|A) = \\frac{1}{7} \\cdot 1 = \\frac{1}{7} = \\frac{5}{35}$"
   ]
  },
  {
   "cell_type": "code",
   "execution_count": 9,
   "id": "bcadec1e-a923-4713-9f47-43e75e075bee",
   "metadata": {
    "tags": []
   },
   "outputs": [
    {
     "name": "stdout",
     "output_type": "stream",
     "text": [
      "18/35\n"
     ]
    }
   ],
   "source": [
    "print(Fraction(6, 7) * Fraction(3, 5))"
   ]
  },
  {
   "cell_type": "markdown",
   "id": "4a6d46f6-e6e3-4882-ba91-eced44107610",
   "metadata": {},
   "source": [
    "If the Captain and the pirate each shoot once, and the Captain shoots first, what is the probability that the Captain misses the pirate's ship, but the pirate hits?"
   ]
  },
  {
   "cell_type": "markdown",
   "id": "c5499953-fcaf-4c80-809d-8fa7108f3ada",
   "metadata": {},
   "source": [
    "$\\displaystyle P(A|B) = \\frac{3}{5} \\cdot 0 = 0$\n",
    "\n",
    "$\\displaystyle P(A'|B') = \\frac{2}{5} \\cdot \\frac{6}{7} = \\frac{12}{35}$\n",
    "\n",
    "$\\displaystyle P(A|B') = \\frac{2}{5} \\cdot \\frac{1}{7} = \\frac{2}{35}$\n",
    "\n",
    "$\\displaystyle P(A'|B) = \\frac{3}{5} \\cdot 1 = \\frac{21}{35}$"
   ]
  },
  {
   "cell_type": "code",
   "execution_count": 10,
   "id": "58713bb4-9698-41da-a754-f70032374202",
   "metadata": {},
   "outputs": [
    {
     "name": "stdout",
     "output_type": "stream",
     "text": [
      "2/35\n"
     ]
    }
   ],
   "source": [
    "print(Fraction(2, 5) * Fraction(1, 7))"
   ]
  },
  {
   "cell_type": "markdown",
   "id": "5fa59b5b-518f-43ed-b890-bdd011b55698",
   "metadata": {},
   "source": [
    "---\n",
    "\n",
    "### Example 1\n",
    "\n",
    "In a class of $6$, there are $4$ students who are secretly robots.\n",
    "\n",
    "**If the teacher chooses $2$ students, what is the probability that neither of them are secretly robots?**"
   ]
  },
  {
   "cell_type": "markdown",
   "id": "ea4287df-4c84-4be8-bb94-6b86f7be4749",
   "metadata": {},
   "source": [
    "#### Method 1\n",
    "\n",
    "$\\displaystyle P(\\text{2 students are not robots}) = P(\\text{2 students are human})$\n",
    "\n",
    "$\\displaystyle P(A) = P(\\text{1st student is human}) = \\frac{2}{6}$\n",
    "\n",
    "$\\displaystyle P(B) = P(\\text{2nd student is human}) = \\frac{1}{5}$\n",
    "\n",
    "$\\displaystyle P(\\text{2 students are human}) = P(B|A)$\n",
    "\n",
    "$\\displaystyle  \\because \\text{P(A) and P(B) are dependent.}$\n",
    "\n",
    "$\\displaystyle  \\therefore P(B|A) = P(A) \\cap P(B) = \\frac{2}{6} \\cdot \\frac{1}{5} = \\frac{1}{15}$"
   ]
  },
  {
   "cell_type": "code",
   "execution_count": 11,
   "id": "6b7c8694-0117-42ec-b8b7-9824833b67da",
   "metadata": {
    "tags": []
   },
   "outputs": [
    {
     "name": "stdout",
     "output_type": "stream",
     "text": [
      "1/15\n"
     ]
    }
   ],
   "source": [
    "print(Fraction(2, 6) * Fraction(1, 5))"
   ]
  },
  {
   "cell_type": "markdown",
   "id": "fc511dff-93a7-4de5-8629-737743f6b36c",
   "metadata": {},
   "source": [
    "#### Method 2\n",
    "\n",
    "> [Counting, permutations, and combinations](https://github.com/ZacksAmber/statistics-and-probability/blob/d978a4ea5a08e3e35085de306097c1980461a336/counting_permutations_and_combinations.ipynb)"
   ]
  },
  {
   "cell_type": "markdown",
   "id": "d36ece8b-9826-462c-b68f-6995cf83b2c5",
   "metadata": {},
   "source": [
    "$\\displaystyle P(\\text{2 students are not robots}) = P(\\text{2 students are human}) = \\frac{\\text{combination of 2 human students picking from 2 human students}}{\\text{combination of 2 students picking from 6 students}}$\n",
    "\n",
    "$\\displaystyle {}_n C_r = C(n, r) = \\binom{n}{k} = \\frac{n!}{r!(n-r)!}$\n",
    "\n",
    "$C(6,2) = \\frac{6!}{4! \\cdot 2!} = 15$\n",
    "\n",
    "$C(2,2) = 1$\n",
    "\n",
    "$P = \\frac{1}{15}$"
   ]
  },
  {
   "cell_type": "code",
   "execution_count": 12,
   "id": "788f6ad0-ca85-430b-9a66-fdc539633d3f",
   "metadata": {},
   "outputs": [
    {
     "name": "stdout",
     "output_type": "stream",
     "text": [
      "1/15\n"
     ]
    }
   ],
   "source": [
    "print(Fraction(int(comb(2, 2)), int(comb(6, 2))))"
   ]
  },
  {
   "cell_type": "markdown",
   "id": "afd1ee6e-b31d-4715-a4e2-e7c226dd1df7",
   "metadata": {},
   "source": [
    "---\n",
    "\n",
    "### Example 2\n",
    "\n",
    "A bag contains $6$ red balls, $4$ green balls, and $3$ blue balls.\n",
    "\n",
    "**If we choose a ball, then another ball without putting the first one back in the bag, what is the probability that the first ball will be green and the second will be red?**\n"
   ]
  },
  {
   "cell_type": "code",
   "execution_count": 13,
   "id": "3a6872f6-933f-40c7-9bbf-e26df20a29ff",
   "metadata": {},
   "outputs": [
    {
     "name": "stdout",
     "output_type": "stream",
     "text": [
      "2/13\n"
     ]
    }
   ],
   "source": [
    "P_1_G = Fraction(int(comb(4, 1)), int(comb(13, 1)))\n",
    "P_2_G = Fraction(int(comb(6, 1)), int(comb(12, 1)))\n",
    "P = P_1_G * P_2_G\n",
    "\n",
    "print(P)"
   ]
  },
  {
   "cell_type": "markdown",
   "id": "d5da5255-c6f9-4b1e-8a0c-70051b48773b",
   "metadata": {},
   "source": [
    "---\n",
    "\n",
    "# Conditional probability and independence\n",
    "\n",
    "> [Conditional probability using two-way table](https://www.khanacademy.org/math/statistics-probability/probability-library/conditional-probability-independence/a/conditional-probability-using-two-way-tables)<br>\n",
    "> [Tree diagrams and conditional probability](https://www.khanacademy.org/math/statistics-probability/probability-library/conditional-probability-independence/a/tree-diagrams-conditional-probability)<br>\n",
    "> [Conditional probability and independence](https://www.khanacademy.org/math/statistics-probability/probability-library/conditional-probability-independence/a/check-independence-conditional-probability)\n",
    "\n",
    "\n",
    "## What if the probabilities are close?\n",
    "\n",
    "When we check for independence in real world data sets, it's rare to get perfectly equal probabilities. Just about all real events that don't involve games of chance are dependent to some degree.\n",
    "\n",
    "In practice, we often assume that events are independent and test that assumption on sample data. If the probabilities are significantly different, then we conclude the events are not independent. We'll learn more about this process in inferential statistics.\n",
    "\n",
    "Finally, **be careful not to make conclusions about cause and effect unless the data came from a well-designed experiment**. For a challenge, can you think of some outside variables — apart from the universities — that may be the cause of the income disparity between the graduates at the two universities in Example 2?"
   ]
  },
  {
   "cell_type": "markdown",
   "id": "9ff23cc8-3eb3-4c78-b5e9-6193adce98c5",
   "metadata": {},
   "source": [
    "---\n",
    "\n",
    "## Conditional probability"
   ]
  },
  {
   "cell_type": "markdown",
   "id": "2d9ae959-9794-43c3-bc60-4cf968d59c0f",
   "metadata": {
    "tags": []
   },
   "source": [
    "---\n",
    "\n",
    "### Example 1\n",
    "\n",
    "A hospital is testing patients for a certain disease. If a patient has the disease, the test is designed to return a \"positive\" result. If a patient does not have the disease, the test should return a \"negative\" result. No test is perfect though.\n",
    "\n",
    "-   $99\\%$ of patients who have the disease will test positive.\n",
    "-   $5\\%$ of patients who don't have the disease will also test positive.\n",
    "-   $10\\%$ of the population in question has the disease."
   ]
  },
  {
   "cell_type": "markdown",
   "id": "32ba4b09-e0b4-4b88-9ed5-19336df0849b",
   "metadata": {},
   "source": [
    "#### Method 1: Draw tree diagrams for the conditional probability\n",
    "\n",
    "![](https://raw.githubusercontent.com/ZacksAmber/PicGo/master/img/20220408183409.png)"
   ]
  },
  {
   "cell_type": "markdown",
   "id": "355a73dd-2dec-441b-8541-02582747f69d",
   "metadata": {},
   "source": [
    "#### Method 2: Calculate the conditional probability\n",
    "\n",
    "- Disease: $P(D)=0.1$\n",
    "- No Disease: $P(N)=1-0.1=0.9$\n",
    "- Positive given Disease (also called TP): $P(+|D)=0.99$\n",
    "- Positive given No Disease (also called FP): $P(+|N)=0.05$\n",
    "- Negative given Disease (also called FN): $P(-|D)=1-P(+|D)=0.01$\n",
    "- Negative given No Disease (also called TN): $P(-|N)=1-P(+|N)=0.95$"
   ]
  },
  {
   "cell_type": "markdown",
   "id": "70939c9f-de85-42b8-a426-e6e9d0fc9863",
   "metadata": {},
   "source": [
    "**If a random patient tests positive, what is the probability that they have the disease?**\n",
    "\n",
    "**Find the probability that a randomly selected patient has the disease AND tests positive.**"
   ]
  },
  {
   "cell_type": "markdown",
   "id": "9ca097f0-e928-4c27-acb7-93c470b4ae20",
   "metadata": {},
   "source": [
    "$\\displaystyle \\because P(+|D) = \\frac{P(+ \\cap D)}{P(D)} = 0.99$<br>\n",
    "$\\displaystyle \\therefore P(+ \\cap D) = 0.99 \\cdot 0.1 = 0.099$"
   ]
  },
  {
   "cell_type": "markdown",
   "id": "95c8d2bf-8fca-4f50-9d54-f98e87a6df24",
   "metadata": {},
   "source": [
    "**Find the probability that a random patient tests positive.**"
   ]
  },
  {
   "cell_type": "markdown",
   "id": "944f5db3-48b8-4bbe-b641-41642d0fd9e8",
   "metadata": {},
   "source": [
    "$\\displaystyle P(+) = P(+ \\cap D) \\cup P(+ \\cap N)$<br>\n",
    "$\\displaystyle \\because P(+|N) = \\frac{P(+ \\cap N)}{P(N)} = 0.05$<br>\n",
    "$\\displaystyle \\therefore P(+ \\cap N) = 0.05 \\cdot 0.9 = 0.045$<br>\n",
    "\n",
    "$\\displaystyle \\therefore P(+) = 0.099 + 0.045 = 0.144$"
   ]
  },
  {
   "cell_type": "markdown",
   "id": "1631ec5d-5ff2-4277-bb78-dd9aac550ac9",
   "metadata": {},
   "source": [
    "**If a random patient tests negative, what is the probability that they don't have the disease?**\n",
    "\n",
    "**Find the probability that a randomly selected patient has no disease AND tests negative.**"
   ]
  },
  {
   "cell_type": "markdown",
   "id": "2fcf23bf-250e-4cd6-8e33-aaced2e1cedb",
   "metadata": {
    "tags": []
   },
   "source": [
    "$\\displaystyle \\because P(-|N) = \\frac{P(- \\cap N)}{P(N)} = 0.95$<br>\n",
    "$\\displaystyle \\therefore P(- \\cap N) = 0.95 \\cdot 0.9 = 0.855$"
   ]
  },
  {
   "cell_type": "markdown",
   "id": "eb22a44b-b331-4902-ac5b-e1edbf0a5f12",
   "metadata": {},
   "source": [
    "**Find the probability that a random patient tests negative.**"
   ]
  },
  {
   "cell_type": "markdown",
   "id": "52d35442-96de-4159-bbea-8be58e80e595",
   "metadata": {
    "tags": []
   },
   "source": [
    "$\\displaystyle P(-) = P(- \\cap D) \\cup P(- \\cap N)$<br>\n",
    "$\\displaystyle \\because P(-|D) = \\frac{P(- \\cap D)}{P(D)} = 0.01$<br>\n",
    "$\\displaystyle \\therefore P(- \\cap D) = 0.01 \\cdot 0.1 = 0.001$<br>\n",
    "\n",
    "$\\displaystyle \\therefore P(-) = 0.855 + 0.001 = 0.856$"
   ]
  },
  {
   "cell_type": "markdown",
   "id": "d7b38962-256f-44cc-9abf-9c3101bfddbe",
   "metadata": {
    "tags": []
   },
   "source": [
    "Also, $P(-) \\cup P(+) = 0.144 + 0.856 = 1$"
   ]
  },
  {
   "cell_type": "markdown",
   "id": "d0c21894-9528-4c70-8497-3bee32961aaa",
   "metadata": {},
   "source": [
    "**If a random patient tests positive, what is the probability that they have the disease?**  "
   ]
  },
  {
   "cell_type": "markdown",
   "id": "afcb5f78-0a81-4e3b-a6c3-0e6e6e0ed492",
   "metadata": {},
   "source": [
    "$\\displaystyle P(D|+) = \\frac{P(+ \\cap D)}{P(+)} = \\frac{0.099}{0.144} = 0.6875$"
   ]
  },
  {
   "cell_type": "markdown",
   "id": "140a69b4-f8a4-46e1-9eb2-ce3666a1024c",
   "metadata": {},
   "source": [
    "---\n",
    "\n",
    "## Dependent and independent events"
   ]
  },
  {
   "cell_type": "markdown",
   "id": "e0ee0e44-d90a-46cd-b5a0-6f0b7285f96c",
   "metadata": {},
   "source": [
    "---\n",
    "\n",
    "### Example 1\n",
    "\n",
    "Ebru has a standard deck of cards. The deck has $52$ total cards and contains $4$ suits: hearts, clubs, diamonds, and spades. Each suit contains cards numbered $2-10$, a jack, a queen, a king, and an ace.\n",
    "\n",
    "Ebru randomly selects a card. Let $A$ be the event that the card is a $2$ and $B$ be the event that it is a spade.\n",
    "\n",
    "**Which of the following statements are true?**"
   ]
  },
  {
   "cell_type": "markdown",
   "id": "8c90417c-067d-4eb1-9513-f93ad3a3a735",
   "metadata": {},
   "source": [
    "**a. $P(A\\text{|}B)=P(A)$, the conditional probability that Ebru selects a $2$ given that she has chosen a spade is equal to the probability that Ebru selects a $2$.**\n",
    "\n",
    "**b. $P(B | A)=P(B)$, the conditional probability that Ebru selects a spade given that she has chosen a $2$ is equal to the probability that Ebru selects a spade.**\n",
    "\n",
    "**c. Events $A$ and $B$ are independent events.**\n",
    "\n",
    "d. The outcomes of events $A$ and $B$ are dependent on each other.\n",
    "\n",
    "**e. $P(\\text{A and B})=P(A) \\cdot P(B)$, the probability that Ebru selects a card that is a $2$ _and_ a spade is equal to the probability that Ebru selects a $2$ multiplied by the probability that she selects a spade.**"
   ]
  },
  {
   "cell_type": "markdown",
   "id": "970c8c5f-9c8d-46a4-872d-4eef172b1fee",
   "metadata": {},
   "source": [
    "$\\displaystyle \\because P(A) = \\frac{4}{52}, P(B) = \\frac{13}{52}, P(A|B) = \\frac{1}{13}, P(B|A) = \\frac{1}{4}$\n",
    "\n",
    "$\\displaystyle \\because \\text{P(A|B) = P(A) and P(B) = P(B|A)}$\n",
    "\n",
    "$\\displaystyle \\therefore \\text{Events A and B are independent events.}$"
   ]
  },
  {
   "cell_type": "markdown",
   "id": "ed203550-03dc-49c2-a221-1cb137c07862",
   "metadata": {},
   "source": [
    "$\\displaystyle \\because P(A \\cap B) = P(\\text{A}) \\cdot P(\\text{B} | \\text{A}) = P(\\text{B}) \\cdot P(\\text{A} | \\text{B})$\n",
    "- $\\displaystyle P(A \\cap B) = P(\\text{A}) \\cdot P(\\text{B} | \\text{A}) = \\frac{4}{52} \\cdot \\frac{1}{4} = \\frac{1}{52}$\n",
    "- $\\displaystyle P(A \\cap B) = P(\\text{B}) \\cdot P(\\text{A} | \\text{B}) = \\frac{13}{52} \\cdot \\frac{1}{13} = \\frac{1}{52}$\n",
    "- $\\displaystyle P(A) \\cdot P(B) = \\frac{4}{52} \\cdot \\frac{13}{52} = \\frac{1}{52}$\n",
    "\n",
    "$\\displaystyle \\therefore P(\\text{A and B}) = P(A) \\cdot P(B) = \\frac{1}{52}$"
   ]
  },
  {
   "cell_type": "markdown",
   "id": "797a050a-901b-4008-864e-270dcf2eb7b7",
   "metadata": {},
   "source": [
    "---\n",
    "\n",
    "### Example 2\n",
    "\n",
    "Jason has a bag that contains $8$ identically shaped boxes. $6$ of the boxes are \n",
    "blue, and $2$ are green. $3$ of the blue boxes have a prize, and $1$ of the green boxes has a prize.\n",
    "\n",
    "Jason randomly selects a box from the bag. Let $A$ be the event that he selects a box with a prize and \n",
    "$B$ be the event that the box is green.\n",
    "\n",
    "**Which of the following statements are true?**"
   ]
  },
  {
   "cell_type": "markdown",
   "id": "baea3f72-59ae-445e-970c-2233054a1add",
   "metadata": {},
   "source": [
    "**a. $P(A|B) = P(A)$, the conditional probability that Jason selects a box with a prize given that he has chosen a green box is equal to the probability that Jason selects a box with a prize.**\n",
    "\n",
    "**b. $P(B|A) = P(B)$, the conditional probability that Jason selects a green box given that he has chosen a box with a prize is equal to the probability that Jason selects a green box.**\n",
    "\n",
    "**c. Events $A$ and $B$ are independent events.**\n",
    "\n",
    "d. The outcomes of events $A$ and $B$ are dependent on each other.\n",
    "\n",
    "**e. $P(\\text{A and B})=P(A) \\cdot P(B)$, the probability that Jason selects a box that contains a prize _and_ is green is equal to the probability that Jason selects a box with a prize multiplied by the probability that he selects a green box.**"
   ]
  },
  {
   "cell_type": "markdown",
   "id": "972b4bdd-6916-4a1f-aed0-df159e38a768",
   "metadata": {},
   "source": [
    "$\\displaystyle \\because P(A) = \\frac{4}{8}, P(B) = \\frac{2}{8}, P(A|B) = \\frac{1}{2}, P(B|A) = \\frac{1}{4}$\n",
    "\n",
    "$\\displaystyle \\because \\text{P(A|B) = P(A) and P(B) = P(B|A)}$\n",
    "\n",
    "$\\displaystyle \\therefore \\text{Events A and B are independent events.}$"
   ]
  },
  {
   "cell_type": "markdown",
   "id": "e3354e81-9d51-4b57-81d4-c46437ea18af",
   "metadata": {},
   "source": [
    "$\\displaystyle \\because P(A \\cap B) = P(\\text{A}) \\cdot P(\\text{B} | \\text{A}) = P(\\text{B}) \\cdot P(\\text{A} | \\text{B})$\n",
    "- $\\displaystyle P(A \\cap B) = P(\\text{A}) \\cdot P(\\text{B} | \\text{A}) = \\frac{4}{8} \\cdot \\frac{1}{4} = \\frac{1}{8}$\n",
    "- $\\displaystyle P(A \\cap B) = P(\\text{B}) \\cdot P(\\text{A} | \\text{B}) = \\frac{2}{8} \\cdot \\frac{1}{2} = \\frac{1}{8}$\n",
    "- $\\displaystyle P(A) \\cdot P(B) = \\frac{4}{8} \\cdot \\frac{2}{8} = \\frac{1}{8}$\n",
    "\n",
    "$\\displaystyle \\therefore P(\\text{A and B}) = P(A) \\cdot P(B) = \\frac{1}{8}$"
   ]
  },
  {
   "cell_type": "markdown",
   "id": "a56c936b-ecb0-4448-962a-51d6da23439a",
   "metadata": {},
   "source": [
    "---\n",
    "\n",
    "### Example 3\n",
    "\n",
    "You roll a pair of fair six-sided dice. The sample space of $36$ possible outcomes is shown below. Based on this information, answer the following questions.\n",
    "\n",
    "![](https://raw.githubusercontent.com/ZacksAmber/PicGo/master/img/20240122224352.png)"
   ]
  },
  {
   "cell_type": "markdown",
   "id": "cdd7669b-94cb-47b3-8597-b4f340672dc7",
   "metadata": {},
   "source": [
    "**What is $P(A)$, the probability that the first die is a $3$?**\n",
    "\n",
    "$\\displaystyle P(A) = \\frac{6}{36}$"
   ]
  },
  {
   "cell_type": "markdown",
   "id": "360de4d8-5fec-432e-98fb-2b5820a5c018",
   "metadata": {},
   "source": [
    "**What is $P(B)$, the probability that the sum of the dice is $8$?**\n",
    "\n",
    "$\\displaystyle P(B) = \\frac{5}{36}$\n",
    "\n",
    "- 2 + 6\n",
    "- 3 + 5\n",
    "- 4 + 4\n",
    "- 5 + 3\n",
    "- 6 + 2"
   ]
  },
  {
   "cell_type": "markdown",
   "id": "8dac7dc2-9414-4ab2-ba1c-2007c31a7028",
   "metadata": {},
   "source": [
    "**What is $P(A\\text{ and }B)$, the probability that the first die is a $3$ and the sum of the dice is $8$?**\n",
    "\n",
    "There is only $1$ outcome where the first die is a $3$ and the sum of the dice is $8$, and there are $36$ total outcomes.\n",
    "\n",
    "Therefore, we can say that $\\displaystyle P(A\\text{ and }B)=\\dfrac{1}{36}$"
   ]
  },
  {
   "cell_type": "markdown",
   "id": "d90b4f5c-99b2-435e-9649-2c9f5811a06d",
   "metadata": {},
   "source": [
    "**What is $P(B|A)$, the conditional probability that the sum of the dice is $8$ given that the first die is a \n",
    "$3$?**\n",
    "\n",
    "$\\displaystyle \\because P(A \\cap B) = P(A) \\cdot P(B|A)$\n",
    "\n",
    "$\\displaystyle \\therefore P(B|A) = \\frac{P(A \\cap B)}{P(A)} = \\frac{1}{36} \\div \\frac{6}{36} = \\frac{1}{6}$"
   ]
  },
  {
   "cell_type": "markdown",
   "id": "ce51c6c1-5ba0-4084-b8e6-59d5f8769370",
   "metadata": {},
   "source": [
    "**Is $P(B|A)=P(B)$? Are the events $A$ and $B$ independent?**\n",
    "\n",
    "**Choose all answers that apply:**\n",
    "\n",
    "a. Yes, $P(B|A)=P(B)$.\n",
    "\n",
    "**b. No. $P(B|A) \\neq P(B)$.**\n",
    "\n",
    "c. Yes, events $A$ and $B$ are independent events.\n",
    "\n",
    "**d. No, events $A$ and $B$ are not independent events.**\n",
    "\n",
    "$\\displaystyle \\because P(B) = \\frac{5}{36}, P(B|A) = \\frac{1}{6}, P(B|A) \\neq P(B)$\n",
    "\n",
    "$\\displaystyle \\therefore \\text{Events $A$ and $B$ are not independent events.}$"
   ]
  },
  {
   "cell_type": "code",
   "execution_count": null,
   "id": "3aaafa3d-4fb4-4160-9972-3a3511df0e6c",
   "metadata": {},
   "outputs": [],
   "source": []
  }
 ],
 "metadata": {
  "kernelspec": {
   "display_name": "statistics-and-probability",
   "language": "python",
   "name": "statistics-and-probability"
  },
  "language_info": {
   "codemirror_mode": {
    "name": "ipython",
    "version": 3
   },
   "file_extension": ".py",
   "mimetype": "text/x-python",
   "name": "python",
   "nbconvert_exporter": "python",
   "pygments_lexer": "ipython3",
   "version": "3.10.10"
  }
 },
 "nbformat": 4,
 "nbformat_minor": 5
}
